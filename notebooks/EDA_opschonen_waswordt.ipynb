{
 "cells": [
  {
   "cell_type": "markdown",
   "metadata": {},
   "source": [
    "# Was wordt lijst"
   ]
  },
  {
   "cell_type": "code",
   "execution_count": 1,
   "metadata": {},
   "outputs": [],
   "source": [
    "import pandas as pd\n",
    "import numpy as np"
   ]
  },
  {
   "cell_type": "markdown",
   "metadata": {},
   "source": [
    "## Inladen en opschonen"
   ]
  },
  {
   "cell_type": "code",
   "execution_count": 2,
   "metadata": {},
   "outputs": [
    {
     "name": "stderr",
     "output_type": "stream",
     "text": [
      "/home/jakko/git/veg2hab/.venv/lib/python3.8/site-packages/openpyxl/worksheet/header_footer.py:48: UserWarning: Cannot parse header or footer so it will be ignored\n",
      "  warn(\"\"\"Cannot parse header or footer so it will be ignored\"\"\")\n"
     ]
    }
   ],
   "source": [
    "ww = pd.read_excel(\n",
    "    '../data/5. Was-wordt-lijst-vegetatietypen-en-habitattypen-09-02-2021.xlsx',\n",
    "    dtype=\"string\"\n",
    ")\n",
    "\n",
    "ww = ww[['rVvN','VvN','SBB-code', 'Habitattypen-Jakko', 'Habitattypen (blauw: geldige aanvulling; rood: voorstel; zie Toelichting)']].rename(\n",
    "    columns={'Habitattypen (blauw: geldige aanvulling; rood: voorstel; zie Toelichting)':'Habtype', 'SBB-code':'SBB'}\n",
    ")"
   ]
  },
  {
   "cell_type": "markdown",
   "metadata": {},
   "source": [
    "### Verwijderen van rijen waarbij zowel VvN en SBB missen"
   ]
  },
  {
   "cell_type": "code",
   "execution_count": 3,
   "metadata": {},
   "outputs": [],
   "source": [
    "ww = ww[~((ww['SBB'].isna() & ww['VvN'].isna()))]"
   ]
  },
  {
   "cell_type": "markdown",
   "metadata": {},
   "source": [
    "### Omzetten van rVvN waardes 'Niet overgenomen in Revisie ....' naar NA"
   ]
  },
  {
   "cell_type": "code",
   "execution_count": 4,
   "metadata": {},
   "outputs": [],
   "source": [
    "mask = ww['rVvN'].str.lower().str.contains(\"niet\")\n",
    "ww.loc[mask, 'rVvN'] = np.nan"
   ]
  },
  {
   "cell_type": "markdown",
   "metadata": {},
   "source": [
    "### Rijen met meerdere VvN codes splitsen"
   ]
  },
  {
   "cell_type": "code",
   "execution_count": 5,
   "metadata": {},
   "outputs": [
    {
     "name": "stdout",
     "output_type": "stream",
     "text": [
      "Vóór ontdubbelen zijn er 1116 rijen\n",
      "Na ontdubbelen zijn er 1132 rijen\n"
     ]
    }
   ],
   "source": [
    "print(\"Vóór ontdubbelen zijn er {} rijen\".format(ww.shape[0]))\n",
    "ww['VvN'] = ww['VvN'].str.split(',')\n",
    "ww = ww.explode('VvN')\n",
    "\n",
    "# Split operation messes up the dtype, do set VvN column back to string dtype\n",
    "ww['VvN'] = ww['VvN'].astype('string')\n",
    "print(\"Na ontdubbelen zijn er {} rijen\".format(ww.shape[0]))"
   ]
  },
  {
   "cell_type": "markdown",
   "metadata": {},
   "source": [
    "### Verwijderen haakjes uit VvN codes"
   ]
  },
  {
   "cell_type": "code",
   "execution_count": 6,
   "metadata": {},
   "outputs": [],
   "source": [
    "ww['VvN'] = ww['VvN'].str.replace(\"[()]\", \"\", regex=True)"
   ]
  },
  {
   "cell_type": "markdown",
   "metadata": {},
   "source": [
    "### Verwijderen whitespace uit VvN code"
   ]
  },
  {
   "cell_type": "code",
   "execution_count": 7,
   "metadata": {},
   "outputs": [],
   "source": [
    "ww['VvN'] = ww['VvN'].str.replace(\" \", \"\")"
   ]
  },
  {
   "cell_type": "markdown",
   "metadata": {},
   "source": [
    "### Verwijderen 'p.p.' uit VvN code"
   ]
  },
  {
   "cell_type": "code",
   "execution_count": 11,
   "metadata": {},
   "outputs": [],
   "source": [
    "ww['VvN'] = ww['VvN'].str.replace(\"p.p.\", \"\")"
   ]
  },
  {
   "cell_type": "markdown",
   "metadata": {},
   "source": [
    "## Controle volledigheid typologieen"
   ]
  },
  {
   "cell_type": "code",
   "execution_count": 12,
   "metadata": {},
   "outputs": [
    {
     "data": {
      "text/plain": [
       "rVvN                  906\n",
       "VvN                   822\n",
       "SBB                   771\n",
       "Habitattypen-Jakko    182\n",
       "Habtype               210\n",
       "dtype: int64"
      ]
     },
     "execution_count": 12,
     "metadata": {},
     "output_type": "execute_result"
    }
   ],
   "source": [
    "ww.nunique()"
   ]
  },
  {
   "cell_type": "code",
   "execution_count": 13,
   "metadata": {},
   "outputs": [
    {
     "data": {
      "text/html": [
       "<div>\n",
       "<style scoped>\n",
       "    .dataframe tbody tr th:only-of-type {\n",
       "        vertical-align: middle;\n",
       "    }\n",
       "\n",
       "    .dataframe tbody tr th {\n",
       "        vertical-align: top;\n",
       "    }\n",
       "\n",
       "    .dataframe thead th {\n",
       "        text-align: right;\n",
       "    }\n",
       "</style>\n",
       "<table border=\"1\" class=\"dataframe\">\n",
       "  <thead>\n",
       "    <tr style=\"text-align: right;\">\n",
       "      <th></th>\n",
       "      <th>rVvN</th>\n",
       "      <th>VvN</th>\n",
       "      <th>SBB</th>\n",
       "      <th>Habitattypen-Jakko</th>\n",
       "      <th>Habtype</th>\n",
       "    </tr>\n",
       "  </thead>\n",
       "  <tbody>\n",
       "    <tr>\n",
       "      <th>301</th>\n",
       "      <td>r10Aa</td>\n",
       "      <td>19Aa</td>\n",
       "      <td>&lt;NA&gt;</td>\n",
       "      <td>&lt;NA&gt;</td>\n",
       "      <td>&lt;NA&gt;</td>\n",
       "    </tr>\n",
       "    <tr>\n",
       "      <th>460</th>\n",
       "      <td>r14Bb02</td>\n",
       "      <td>14Bb02</td>\n",
       "      <td>14D-d</td>\n",
       "      <td>H2130B mits</td>\n",
       "      <td>H2130B mits</td>\n",
       "    </tr>\n",
       "    <tr>\n",
       "      <th>461</th>\n",
       "      <td>r14Bb02</td>\n",
       "      <td>14Bb02</td>\n",
       "      <td>14D-d</td>\n",
       "      <td>H2130B mits + H2330 mits + H6120 mits</td>\n",
       "      <td>H2130B mits + H2330 mits + H6120 mits</td>\n",
       "    </tr>\n",
       "    <tr>\n",
       "      <th>496</th>\n",
       "      <td>r14RG01</td>\n",
       "      <td>&lt;NA&gt;</td>\n",
       "      <td>14-d</td>\n",
       "      <td>H2130B mits + H2330 mits</td>\n",
       "      <td>H2130B mits + H2330 mits</td>\n",
       "    </tr>\n",
       "    <tr>\n",
       "      <th>497</th>\n",
       "      <td>r14RG02</td>\n",
       "      <td>&lt;NA&gt;</td>\n",
       "      <td>14-d</td>\n",
       "      <td>H2130B mits + H2330 mits</td>\n",
       "      <td>H2130B mits + H2330 mits</td>\n",
       "    </tr>\n",
       "    <tr>\n",
       "      <th>506</th>\n",
       "      <td>r14RG08</td>\n",
       "      <td>14RG11</td>\n",
       "      <td>14-m</td>\n",
       "      <td>H2130A mits + H2130B mits</td>\n",
       "      <td>H2130A mits + H2130B mits</td>\n",
       "    </tr>\n",
       "    <tr>\n",
       "      <th>507</th>\n",
       "      <td>r14RG08</td>\n",
       "      <td>14RG11</td>\n",
       "      <td>15-d</td>\n",
       "      <td>H2130A mits + H2130B mits</td>\n",
       "      <td>H2130A mits + H2130B mits</td>\n",
       "    </tr>\n",
       "    <tr>\n",
       "      <th>528</th>\n",
       "      <td>r16</td>\n",
       "      <td>16A</td>\n",
       "      <td>&lt;NA&gt;</td>\n",
       "      <td>&lt;NA&gt;</td>\n",
       "      <td>&lt;NA&gt;</td>\n",
       "    </tr>\n",
       "    <tr>\n",
       "      <th>529</th>\n",
       "      <td>r16A</td>\n",
       "      <td>16A</td>\n",
       "      <td>&lt;NA&gt;</td>\n",
       "      <td>&lt;NA&gt;</td>\n",
       "      <td>&lt;NA&gt;</td>\n",
       "    </tr>\n",
       "    <tr>\n",
       "      <th>651</th>\n",
       "      <td>r19Aa</td>\n",
       "      <td>19Aa</td>\n",
       "      <td>&lt;NA&gt;</td>\n",
       "      <td>&lt;NA&gt;</td>\n",
       "      <td>&lt;NA&gt;</td>\n",
       "    </tr>\n",
       "    <tr>\n",
       "      <th>986</th>\n",
       "      <td>r36Aa01a</td>\n",
       "      <td>&lt;NA&gt;</td>\n",
       "      <td>35A1</td>\n",
       "      <td>H9120m</td>\n",
       "      <td>H9120m</td>\n",
       "    </tr>\n",
       "    <tr>\n",
       "      <th>987</th>\n",
       "      <td>r36Aa01b</td>\n",
       "      <td>&lt;NA&gt;</td>\n",
       "      <td>35A1</td>\n",
       "      <td>H9120m</td>\n",
       "      <td>H9120m</td>\n",
       "    </tr>\n",
       "    <tr>\n",
       "      <th>1006</th>\n",
       "      <td>r38Aa01</td>\n",
       "      <td>&lt;NA&gt;</td>\n",
       "      <td>37B-c</td>\n",
       "      <td>H2160 mits</td>\n",
       "      <td>H2160 mits</td>\n",
       "    </tr>\n",
       "    <tr>\n",
       "      <th>1007</th>\n",
       "      <td>r38Aa01</td>\n",
       "      <td>&lt;NA&gt;</td>\n",
       "      <td>37B-d</td>\n",
       "      <td>H2160 mits</td>\n",
       "      <td>H2160 mits</td>\n",
       "    </tr>\n",
       "    <tr>\n",
       "      <th>1008</th>\n",
       "      <td>r38Aa01</td>\n",
       "      <td>&lt;NA&gt;</td>\n",
       "      <td>37B-e</td>\n",
       "      <td>H2160 mits</td>\n",
       "      <td>H2160 mits</td>\n",
       "    </tr>\n",
       "    <tr>\n",
       "      <th>1009</th>\n",
       "      <td>r38Aa01a</td>\n",
       "      <td>37RG01</td>\n",
       "      <td>&lt;NA&gt;</td>\n",
       "      <td>H2160 mits</td>\n",
       "      <td>H2160 mits</td>\n",
       "    </tr>\n",
       "    <tr>\n",
       "      <th>1010</th>\n",
       "      <td>r38Aa01b</td>\n",
       "      <td>37RG01</td>\n",
       "      <td>&lt;NA&gt;</td>\n",
       "      <td>H2160 mits</td>\n",
       "      <td>H2160 mits</td>\n",
       "    </tr>\n",
       "    <tr>\n",
       "      <th>1010</th>\n",
       "      <td>r38Aa01b</td>\n",
       "      <td>37RG02</td>\n",
       "      <td>&lt;NA&gt;</td>\n",
       "      <td>H2160 mits</td>\n",
       "      <td>H2160 mits</td>\n",
       "    </tr>\n",
       "    <tr>\n",
       "      <th>1011</th>\n",
       "      <td>r38Aa01c</td>\n",
       "      <td>37RG03</td>\n",
       "      <td>&lt;NA&gt;</td>\n",
       "      <td>H2160 mits</td>\n",
       "      <td>H2160 mits</td>\n",
       "    </tr>\n",
       "    <tr>\n",
       "      <th>1019</th>\n",
       "      <td>r38Ab01</td>\n",
       "      <td>&lt;NA&gt;</td>\n",
       "      <td>37B-c</td>\n",
       "      <td>H2160 mits</td>\n",
       "      <td>H2160 mits</td>\n",
       "    </tr>\n",
       "    <tr>\n",
       "      <th>1020</th>\n",
       "      <td>r38Ab01</td>\n",
       "      <td>&lt;NA&gt;</td>\n",
       "      <td>37B-d</td>\n",
       "      <td>H2160 mits</td>\n",
       "      <td>H2160 mits</td>\n",
       "    </tr>\n",
       "    <tr>\n",
       "      <th>1021</th>\n",
       "      <td>r38Ab01</td>\n",
       "      <td>&lt;NA&gt;</td>\n",
       "      <td>37B-e</td>\n",
       "      <td>H2160 mits</td>\n",
       "      <td>H2160 mits</td>\n",
       "    </tr>\n",
       "    <tr>\n",
       "      <th>1022</th>\n",
       "      <td>r38Ab01a</td>\n",
       "      <td>37RG01</td>\n",
       "      <td>&lt;NA&gt;</td>\n",
       "      <td>H2160 mits</td>\n",
       "      <td>H2160 mits</td>\n",
       "    </tr>\n",
       "    <tr>\n",
       "      <th>1022</th>\n",
       "      <td>r38Ab01a</td>\n",
       "      <td>37RG02</td>\n",
       "      <td>&lt;NA&gt;</td>\n",
       "      <td>H2160 mits</td>\n",
       "      <td>H2160 mits</td>\n",
       "    </tr>\n",
       "    <tr>\n",
       "      <th>1022</th>\n",
       "      <td>r38Ab01a</td>\n",
       "      <td>37RG03</td>\n",
       "      <td>&lt;NA&gt;</td>\n",
       "      <td>H2160 mits</td>\n",
       "      <td>H2160 mits</td>\n",
       "    </tr>\n",
       "    <tr>\n",
       "      <th>1024</th>\n",
       "      <td>r38Ab01c</td>\n",
       "      <td>37RG03</td>\n",
       "      <td>&lt;NA&gt;</td>\n",
       "      <td>H2160 mits</td>\n",
       "      <td>H2160 mits</td>\n",
       "    </tr>\n",
       "    <tr>\n",
       "      <th>1026</th>\n",
       "      <td>r38Ab02</td>\n",
       "      <td>14RG11</td>\n",
       "      <td>14-m</td>\n",
       "      <td>&lt;NA&gt;</td>\n",
       "      <td>H2160 mits</td>\n",
       "    </tr>\n",
       "    <tr>\n",
       "      <th>1027</th>\n",
       "      <td>r38Ab02</td>\n",
       "      <td>14RG11</td>\n",
       "      <td>15-d</td>\n",
       "      <td>&lt;NA&gt;</td>\n",
       "      <td>H2160 mits</td>\n",
       "    </tr>\n",
       "    <tr>\n",
       "      <th>1184</th>\n",
       "      <td>r45RG01</td>\n",
       "      <td>42RG02</td>\n",
       "      <td>42-d</td>\n",
       "      <td>H9110m</td>\n",
       "      <td>H2180A mits + H9110m + H9120m + H9190m</td>\n",
       "    </tr>\n",
       "    <tr>\n",
       "      <th>1188</th>\n",
       "      <td>r45RG04</td>\n",
       "      <td>42Aa01e</td>\n",
       "      <td>&lt;NA&gt;</td>\n",
       "      <td>H0000</td>\n",
       "      <td>H0000</td>\n",
       "    </tr>\n",
       "    <tr>\n",
       "      <th>1189</th>\n",
       "      <td>r45RG05</td>\n",
       "      <td>42RG02</td>\n",
       "      <td>42-d</td>\n",
       "      <td>H9110m</td>\n",
       "      <td>H2180A mits + H9110m + H9120m + H9190m</td>\n",
       "    </tr>\n",
       "    <tr>\n",
       "      <th>1190</th>\n",
       "      <td>r45RG06</td>\n",
       "      <td>42RG02</td>\n",
       "      <td>42-d</td>\n",
       "      <td>&lt;NA&gt;</td>\n",
       "      <td>H9110 mits + H9120 mits</td>\n",
       "    </tr>\n",
       "    <tr>\n",
       "      <th>1191</th>\n",
       "      <td>r45RG07</td>\n",
       "      <td>42Aa01e</td>\n",
       "      <td>&lt;NA&gt;</td>\n",
       "      <td>H2180A mits +H9190 mits</td>\n",
       "      <td>H2180A mits +H9190 mits (alleen loofbos!)</td>\n",
       "    </tr>\n",
       "    <tr>\n",
       "      <th>1192</th>\n",
       "      <td>r45RG08</td>\n",
       "      <td>42Aa01e</td>\n",
       "      <td>&lt;NA&gt;</td>\n",
       "      <td>H2180A mits +H9190 mits</td>\n",
       "      <td>H2180A mits +H9190 mits (alleen loofbos!)</td>\n",
       "    </tr>\n",
       "    <tr>\n",
       "      <th>1230</th>\n",
       "      <td>r46RG03</td>\n",
       "      <td>&lt;NA&gt;</td>\n",
       "      <td>43-g</td>\n",
       "      <td>H0000</td>\n",
       "      <td>H0000 ? H91F0(matig) mits</td>\n",
       "    </tr>\n",
       "    <tr>\n",
       "      <th>1233</th>\n",
       "      <td>r46RG06</td>\n",
       "      <td>&lt;NA&gt;</td>\n",
       "      <td>43-g</td>\n",
       "      <td>H0000</td>\n",
       "      <td>H0000 H91E0A ?</td>\n",
       "    </tr>\n",
       "  </tbody>\n",
       "</table>\n",
       "</div>"
      ],
      "text/plain": [
       "          rVvN      VvN    SBB                     Habitattypen-Jakko  \\\n",
       "301      r10Aa     19Aa   <NA>                                   <NA>   \n",
       "460    r14Bb02   14Bb02  14D-d                            H2130B mits   \n",
       "461    r14Bb02   14Bb02  14D-d  H2130B mits + H2330 mits + H6120 mits   \n",
       "496    r14RG01     <NA>   14-d               H2130B mits + H2330 mits   \n",
       "497    r14RG02     <NA>   14-d               H2130B mits + H2330 mits   \n",
       "506    r14RG08   14RG11   14-m              H2130A mits + H2130B mits   \n",
       "507    r14RG08   14RG11   15-d              H2130A mits + H2130B mits   \n",
       "528        r16      16A   <NA>                                   <NA>   \n",
       "529       r16A      16A   <NA>                                   <NA>   \n",
       "651      r19Aa     19Aa   <NA>                                   <NA>   \n",
       "986   r36Aa01a     <NA>   35A1                                 H9120m   \n",
       "987   r36Aa01b     <NA>   35A1                                 H9120m   \n",
       "1006   r38Aa01     <NA>  37B-c                             H2160 mits   \n",
       "1007   r38Aa01     <NA>  37B-d                             H2160 mits   \n",
       "1008   r38Aa01     <NA>  37B-e                             H2160 mits   \n",
       "1009  r38Aa01a   37RG01   <NA>                             H2160 mits   \n",
       "1010  r38Aa01b   37RG01   <NA>                             H2160 mits   \n",
       "1010  r38Aa01b   37RG02   <NA>                             H2160 mits   \n",
       "1011  r38Aa01c   37RG03   <NA>                             H2160 mits   \n",
       "1019   r38Ab01     <NA>  37B-c                             H2160 mits   \n",
       "1020   r38Ab01     <NA>  37B-d                             H2160 mits   \n",
       "1021   r38Ab01     <NA>  37B-e                             H2160 mits   \n",
       "1022  r38Ab01a   37RG01   <NA>                             H2160 mits   \n",
       "1022  r38Ab01a   37RG02   <NA>                             H2160 mits   \n",
       "1022  r38Ab01a   37RG03   <NA>                             H2160 mits   \n",
       "1024  r38Ab01c   37RG03   <NA>                             H2160 mits   \n",
       "1026   r38Ab02   14RG11   14-m                                   <NA>   \n",
       "1027   r38Ab02   14RG11   15-d                                   <NA>   \n",
       "1184   r45RG01   42RG02   42-d                                 H9110m   \n",
       "1188   r45RG04  42Aa01e   <NA>                                  H0000   \n",
       "1189   r45RG05   42RG02   42-d                                 H9110m   \n",
       "1190   r45RG06   42RG02   42-d                                   <NA>   \n",
       "1191   r45RG07  42Aa01e   <NA>                H2180A mits +H9190 mits   \n",
       "1192   r45RG08  42Aa01e   <NA>                H2180A mits +H9190 mits   \n",
       "1230   r46RG03     <NA>   43-g                                  H0000   \n",
       "1233   r46RG06     <NA>   43-g                                  H0000   \n",
       "\n",
       "                                        Habtype  \n",
       "301                                        <NA>  \n",
       "460                                 H2130B mits  \n",
       "461       H2130B mits + H2330 mits + H6120 mits  \n",
       "496                    H2130B mits + H2330 mits  \n",
       "497                    H2130B mits + H2330 mits  \n",
       "506                   H2130A mits + H2130B mits  \n",
       "507                   H2130A mits + H2130B mits  \n",
       "528                                        <NA>  \n",
       "529                                        <NA>  \n",
       "651                                        <NA>  \n",
       "986                                      H9120m  \n",
       "987                                      H9120m  \n",
       "1006                                 H2160 mits  \n",
       "1007                                 H2160 mits  \n",
       "1008                                 H2160 mits  \n",
       "1009                                 H2160 mits  \n",
       "1010                                 H2160 mits  \n",
       "1010                                 H2160 mits  \n",
       "1011                                 H2160 mits  \n",
       "1019                                 H2160 mits  \n",
       "1020                                 H2160 mits  \n",
       "1021                                 H2160 mits  \n",
       "1022                                 H2160 mits  \n",
       "1022                                 H2160 mits  \n",
       "1022                                 H2160 mits  \n",
       "1024                                 H2160 mits  \n",
       "1026                                 H2160 mits  \n",
       "1027                                 H2160 mits  \n",
       "1184    H2180A mits + H9110m + H9120m + H9190m   \n",
       "1188                                      H0000  \n",
       "1189    H2180A mits + H9110m + H9120m + H9190m   \n",
       "1190                    H9110 mits + H9120 mits  \n",
       "1191  H2180A mits +H9190 mits (alleen loofbos!)  \n",
       "1192  H2180A mits +H9190 mits (alleen loofbos!)  \n",
       "1230                  H0000 ? H91F0(matig) mits  \n",
       "1233                             H0000 H91E0A ?  "
      ]
     },
     "execution_count": 13,
     "metadata": {},
     "output_type": "execute_result"
    }
   ],
   "source": [
    "ww[ww[['VvN', 'SBB']].duplicated(keep=False)]"
   ]
  },
  {
   "cell_type": "code",
   "execution_count": 14,
   "metadata": {},
   "outputs": [
    {
     "data": {
      "text/plain": [
       "rVvN                   22\n",
       "VvN                   129\n",
       "SBB                   229\n",
       "Habitattypen-Jakko    213\n",
       "Habtype               183\n",
       "dtype: int64"
      ]
     },
     "execution_count": 14,
     "metadata": {},
     "output_type": "execute_result"
    }
   ],
   "source": [
    "ww.isna().sum()"
   ]
  },
  {
   "cell_type": "code",
   "execution_count": 15,
   "metadata": {},
   "outputs": [
    {
     "data": {
      "text/plain": [
       "rVvN                    0\n",
       "VvN                   108\n",
       "SBB                   229\n",
       "Habitattypen-Jakko    213\n",
       "Habtype               183\n",
       "dtype: int64"
      ]
     },
     "execution_count": 15,
     "metadata": {},
     "output_type": "execute_result"
    }
   ],
   "source": [
    "# Rijen met een waarde voor rVvN hebben NIET altijd een waarde voor VvN of SBB\n",
    "ww[~ww['rVvN'].isna()].isna().sum()"
   ]
  },
  {
   "cell_type": "code",
   "execution_count": 16,
   "metadata": {},
   "outputs": [
    {
     "data": {
      "text/plain": [
       "rVvN                    1\n",
       "VvN                     0\n",
       "SBB                   229\n",
       "Habitattypen-Jakko    207\n",
       "Habtype               183\n",
       "dtype: int64"
      ]
     },
     "execution_count": 16,
     "metadata": {},
     "output_type": "execute_result"
    }
   ],
   "source": [
    "# Rijen met een waarde voor VvN hebben WEL altijd een waarde voor rVvN, maar niet voor SBB\n",
    "ww[~ww['VvN'].isna()].isna().sum()"
   ]
  },
  {
   "cell_type": "code",
   "execution_count": 17,
   "metadata": {},
   "outputs": [
    {
     "data": {
      "text/plain": [
       "rVvN                   22\n",
       "VvN                   129\n",
       "SBB                     0\n",
       "Habitattypen-Jakko     28\n",
       "Habtype                 0\n",
       "dtype: int64"
      ]
     },
     "execution_count": 17,
     "metadata": {},
     "output_type": "execute_result"
    }
   ],
   "source": [
    "# Rijen met een waarde voor SBB-code hebben WEL (bijna) altijd een waarde voor rVvN, maar niet voor VvN\n",
    "ww[~ww['SBB'].isna()].isna().sum()"
   ]
  },
  {
   "cell_type": "code",
   "execution_count": 18,
   "metadata": {},
   "outputs": [
    {
     "data": {
      "text/html": [
       "<div>\n",
       "<style scoped>\n",
       "    .dataframe tbody tr th:only-of-type {\n",
       "        vertical-align: middle;\n",
       "    }\n",
       "\n",
       "    .dataframe tbody tr th {\n",
       "        vertical-align: top;\n",
       "    }\n",
       "\n",
       "    .dataframe thead th {\n",
       "        text-align: right;\n",
       "    }\n",
       "</style>\n",
       "<table border=\"1\" class=\"dataframe\">\n",
       "  <thead>\n",
       "    <tr style=\"text-align: right;\">\n",
       "      <th></th>\n",
       "      <th>rVvN</th>\n",
       "      <th>VvN</th>\n",
       "      <th>SBB</th>\n",
       "      <th>Habitattypen-Jakko</th>\n",
       "      <th>Habtype</th>\n",
       "    </tr>\n",
       "  </thead>\n",
       "  <tbody>\n",
       "    <tr>\n",
       "      <th>0</th>\n",
       "      <td>&lt;NA&gt;</td>\n",
       "      <td>14RG10</td>\n",
       "      <td>14-l</td>\n",
       "      <td>H9999</td>\n",
       "      <td>H2130Am mits + H2130Bm mits Toedelen tot revis...</td>\n",
       "    </tr>\n",
       "    <tr>\n",
       "      <th>1</th>\n",
       "      <td>&lt;NA&gt;</td>\n",
       "      <td>&lt;NA&gt;</td>\n",
       "      <td>07-a</td>\n",
       "      <td>H0000</td>\n",
       "      <td>Toedelen tot revisie-type, anders H0000</td>\n",
       "    </tr>\n",
       "    <tr>\n",
       "      <th>2</th>\n",
       "      <td>&lt;NA&gt;</td>\n",
       "      <td>&lt;NA&gt;</td>\n",
       "      <td>08B-b</td>\n",
       "      <td>H0000</td>\n",
       "      <td>Toedelen tot revisie-type, anders H0000</td>\n",
       "    </tr>\n",
       "    <tr>\n",
       "      <th>3</th>\n",
       "      <td>&lt;NA&gt;</td>\n",
       "      <td>&lt;NA&gt;</td>\n",
       "      <td>11/c</td>\n",
       "      <td>H9999</td>\n",
       "      <td>Toedelen tot revisie-type, anders H9999 H7110A</td>\n",
       "    </tr>\n",
       "    <tr>\n",
       "      <th>4</th>\n",
       "      <td>&lt;NA&gt;</td>\n",
       "      <td>&lt;NA&gt;</td>\n",
       "      <td>11A-b</td>\n",
       "      <td>H9999</td>\n",
       "      <td>meerekenen met vegetatieloos (incl. algenmatte...</td>\n",
       "    </tr>\n",
       "    <tr>\n",
       "      <th>5</th>\n",
       "      <td>&lt;NA&gt;</td>\n",
       "      <td>&lt;NA&gt;</td>\n",
       "      <td>14/f</td>\n",
       "      <td>H9999</td>\n",
       "      <td>Toedelen tot revisie-type, anders H9999</td>\n",
       "    </tr>\n",
       "    <tr>\n",
       "      <th>6</th>\n",
       "      <td>&lt;NA&gt;</td>\n",
       "      <td>&lt;NA&gt;</td>\n",
       "      <td>19-f</td>\n",
       "      <td>H9999</td>\n",
       "      <td>toedelen tot revisie-type, anders H9999</td>\n",
       "    </tr>\n",
       "    <tr>\n",
       "      <th>7</th>\n",
       "      <td>&lt;NA&gt;</td>\n",
       "      <td>&lt;NA&gt;</td>\n",
       "      <td>19-h</td>\n",
       "      <td>H0000</td>\n",
       "      <td>toedelen tot revisie-type, anders H0000</td>\n",
       "    </tr>\n",
       "    <tr>\n",
       "      <th>8</th>\n",
       "      <td>&lt;NA&gt;</td>\n",
       "      <td>&lt;NA&gt;</td>\n",
       "      <td>20A1c</td>\n",
       "      <td>H0000</td>\n",
       "      <td>toedelen tot revisie-type</td>\n",
       "    </tr>\n",
       "    <tr>\n",
       "      <th>9</th>\n",
       "      <td>&lt;NA&gt;</td>\n",
       "      <td>&lt;NA&gt;</td>\n",
       "      <td>33A7</td>\n",
       "      <td>H6430C mits</td>\n",
       "      <td>H6430C mits</td>\n",
       "    </tr>\n",
       "    <tr>\n",
       "      <th>10</th>\n",
       "      <td>&lt;NA&gt;</td>\n",
       "      <td>&lt;NA&gt;</td>\n",
       "      <td>14/a</td>\n",
       "      <td>H0000</td>\n",
       "      <td>H0000</td>\n",
       "    </tr>\n",
       "    <tr>\n",
       "      <th>11</th>\n",
       "      <td>&lt;NA&gt;</td>\n",
       "      <td>&lt;NA&gt;</td>\n",
       "      <td>16/f</td>\n",
       "      <td>H0000</td>\n",
       "      <td>H0000</td>\n",
       "    </tr>\n",
       "    <tr>\n",
       "      <th>12</th>\n",
       "      <td>&lt;NA&gt;</td>\n",
       "      <td>&lt;NA&gt;</td>\n",
       "      <td>37-a</td>\n",
       "      <td>H0000</td>\n",
       "      <td>H0000</td>\n",
       "    </tr>\n",
       "    <tr>\n",
       "      <th>13</th>\n",
       "      <td>&lt;NA&gt;</td>\n",
       "      <td>&lt;NA&gt;</td>\n",
       "      <td>40A-d</td>\n",
       "      <td>H9999</td>\n",
       "      <td>toedelen tot revisie-type, anders H9999</td>\n",
       "    </tr>\n",
       "    <tr>\n",
       "      <th>14</th>\n",
       "      <td>&lt;NA&gt;</td>\n",
       "      <td>&lt;NA&gt;</td>\n",
       "      <td>41A/b</td>\n",
       "      <td>H0000</td>\n",
       "      <td>H0000</td>\n",
       "    </tr>\n",
       "    <tr>\n",
       "      <th>15</th>\n",
       "      <td>&lt;NA&gt;</td>\n",
       "      <td>&lt;NA&gt;</td>\n",
       "      <td>42-e</td>\n",
       "      <td>H0000</td>\n",
       "      <td>toedelen tot revisie-type, anders H0000</td>\n",
       "    </tr>\n",
       "    <tr>\n",
       "      <th>16</th>\n",
       "      <td>&lt;NA&gt;</td>\n",
       "      <td>&lt;NA&gt;</td>\n",
       "      <td>43-c</td>\n",
       "      <td>H0000</td>\n",
       "      <td>toedelen tot revisie-type, anders H0000</td>\n",
       "    </tr>\n",
       "    <tr>\n",
       "      <th>17</th>\n",
       "      <td>&lt;NA&gt;</td>\n",
       "      <td>&lt;NA&gt;</td>\n",
       "      <td>43-e</td>\n",
       "      <td>H0000</td>\n",
       "      <td>toedelen tot revisie-type, anders H0000</td>\n",
       "    </tr>\n",
       "    <tr>\n",
       "      <th>18</th>\n",
       "      <td>&lt;NA&gt;</td>\n",
       "      <td>&lt;NA&gt;</td>\n",
       "      <td>43-f</td>\n",
       "      <td>H0000</td>\n",
       "      <td>toedelen tot revisie-type, anders H0000</td>\n",
       "    </tr>\n",
       "    <tr>\n",
       "      <th>19</th>\n",
       "      <td>&lt;NA&gt;</td>\n",
       "      <td>&lt;NA&gt;</td>\n",
       "      <td>14-m</td>\n",
       "      <td>H9999</td>\n",
       "      <td>Toedelen tot revisie-type van klasse 14</td>\n",
       "    </tr>\n",
       "    <tr>\n",
       "      <th>20</th>\n",
       "      <td>&lt;NA&gt;</td>\n",
       "      <td>&lt;NA&gt;</td>\n",
       "      <td>15-d</td>\n",
       "      <td>H9999</td>\n",
       "      <td>Toedelen tot revisie-type van klasse 14</td>\n",
       "    </tr>\n",
       "    <tr>\n",
       "      <th>1239</th>\n",
       "      <td>&lt;NA&gt;</td>\n",
       "      <td>&lt;NA&gt;</td>\n",
       "      <td>41A3d</td>\n",
       "      <td>H0000</td>\n",
       "      <td>H0000</td>\n",
       "    </tr>\n",
       "  </tbody>\n",
       "</table>\n",
       "</div>"
      ],
      "text/plain": [
       "      rVvN     VvN    SBB Habitattypen-Jakko  \\\n",
       "0     <NA>  14RG10   14-l              H9999   \n",
       "1     <NA>    <NA>   07-a              H0000   \n",
       "2     <NA>    <NA>  08B-b              H0000   \n",
       "3     <NA>    <NA>   11/c              H9999   \n",
       "4     <NA>    <NA>  11A-b              H9999   \n",
       "5     <NA>    <NA>   14/f              H9999   \n",
       "6     <NA>    <NA>   19-f              H9999   \n",
       "7     <NA>    <NA>   19-h              H0000   \n",
       "8     <NA>    <NA>  20A1c              H0000   \n",
       "9     <NA>    <NA>   33A7        H6430C mits   \n",
       "10    <NA>    <NA>   14/a              H0000   \n",
       "11    <NA>    <NA>   16/f              H0000   \n",
       "12    <NA>    <NA>   37-a              H0000   \n",
       "13    <NA>    <NA>  40A-d              H9999   \n",
       "14    <NA>    <NA>  41A/b              H0000   \n",
       "15    <NA>    <NA>   42-e              H0000   \n",
       "16    <NA>    <NA>   43-c              H0000   \n",
       "17    <NA>    <NA>   43-e              H0000   \n",
       "18    <NA>    <NA>   43-f              H0000   \n",
       "19    <NA>    <NA>   14-m              H9999   \n",
       "20    <NA>    <NA>   15-d              H9999   \n",
       "1239  <NA>    <NA>  41A3d              H0000   \n",
       "\n",
       "                                                Habtype  \n",
       "0     H2130Am mits + H2130Bm mits Toedelen tot revis...  \n",
       "1               Toedelen tot revisie-type, anders H0000  \n",
       "2               Toedelen tot revisie-type, anders H0000  \n",
       "3        Toedelen tot revisie-type, anders H9999 H7110A  \n",
       "4     meerekenen met vegetatieloos (incl. algenmatte...  \n",
       "5               Toedelen tot revisie-type, anders H9999  \n",
       "6               toedelen tot revisie-type, anders H9999  \n",
       "7               toedelen tot revisie-type, anders H0000  \n",
       "8                             toedelen tot revisie-type  \n",
       "9                                           H6430C mits  \n",
       "10                                                H0000  \n",
       "11                                                H0000  \n",
       "12                                                H0000  \n",
       "13              toedelen tot revisie-type, anders H9999  \n",
       "14                                                H0000  \n",
       "15              toedelen tot revisie-type, anders H0000  \n",
       "16              toedelen tot revisie-type, anders H0000  \n",
       "17              toedelen tot revisie-type, anders H0000  \n",
       "18              toedelen tot revisie-type, anders H0000  \n",
       "19              Toedelen tot revisie-type van klasse 14  \n",
       "20              Toedelen tot revisie-type van klasse 14  \n",
       "1239                                              H0000  "
      ]
     },
     "execution_count": 18,
     "metadata": {},
     "output_type": "execute_result"
    }
   ],
   "source": [
    "ww[~ww['SBB'].isna() & ww['rVvN'].isna()]"
   ]
  },
  {
   "cell_type": "markdown",
   "metadata": {},
   "source": [
    "### Exporteren opgeschoonde WasWordt tabel"
   ]
  },
  {
   "cell_type": "code",
   "execution_count": 20,
   "metadata": {},
   "outputs": [],
   "source": [
    "ww.to_excel('../data/ww_cleaned.xlsx', index=False, header=True)"
   ]
  },
  {
   "cell_type": "markdown",
   "metadata": {},
   "source": [
    "## SBB naar VvN vertalen\n",
    "\n",
    "**Vraag:** Is er een 1-op-1 of veel-op-1 relatie tussen SBB en VvN?\n",
    "\n",
    "**Antwoord:** Nee, maar wel bij benadering."
   ]
  },
  {
   "cell_type": "code",
   "execution_count": 21,
   "metadata": {},
   "outputs": [
    {
     "data": {
      "text/plain": [
       "VvN\n",
       "1    606\n",
       "0    111\n",
       "3     23\n",
       "2     17\n",
       "4     11\n",
       "5      2\n",
       "6      1\n",
       "Name: count, dtype: int64"
      ]
     },
     "execution_count": 21,
     "metadata": {},
     "output_type": "execute_result"
    }
   ],
   "source": [
    "number_of_VvN_per_SBB = ww.groupby('SBB')['VvN'].nunique()\n",
    "number_of_VvN_per_SBB.value_counts()"
   ]
  },
  {
   "cell_type": "code",
   "execution_count": 22,
   "metadata": {},
   "outputs": [],
   "source": [
    "sbb_with_multiple_vvn = number_of_VvN_per_SBB[number_of_VvN_per_SBB > 1].index.to_list()"
   ]
  },
  {
   "cell_type": "code",
   "execution_count": 23,
   "metadata": {},
   "outputs": [
    {
     "data": {
      "text/plain": [
       "Habtype\n",
       "1    749\n",
       "2     15\n",
       "3      7\n",
       "Name: count, dtype: int64"
      ]
     },
     "execution_count": 23,
     "metadata": {},
     "output_type": "execute_result"
    }
   ],
   "source": [
    "number_of_Habs_per_SBB = ww.groupby('SBB')['Habtype'].nunique()\n",
    "number_of_Habs_per_SBB.value_counts()"
   ]
  },
  {
   "cell_type": "code",
   "execution_count": 24,
   "metadata": {},
   "outputs": [],
   "source": [
    "sbb_with_multiple_habs = number_of_Habs_per_SBB[number_of_Habs_per_SBB > 1].index.to_list()"
   ]
  },
  {
   "cell_type": "markdown",
   "metadata": {},
   "source": [
    "Er zijn redelijk wat SBB typen die vertalen naar meer dan één VvN, maar meestal gaat het dan om subassociaties in VvN die vertalen naar hetzelfde habittype:"
   ]
  },
  {
   "cell_type": "code",
   "execution_count": 25,
   "metadata": {},
   "outputs": [
    {
     "data": {
      "text/plain": [
       "{'01A1',\n",
       " '01A2',\n",
       " '01B1a',\n",
       " '07A-a',\n",
       " '08B1',\n",
       " '09-h',\n",
       " '10A2',\n",
       " '11-e',\n",
       " '11B2',\n",
       " '14B1d',\n",
       " '16-f',\n",
       " '16C1a',\n",
       " '20A1e',\n",
       " '27A1',\n",
       " '28A1',\n",
       " '28A2',\n",
       " '28A3',\n",
       " '29A2',\n",
       " '30A1',\n",
       " '30B1',\n",
       " '30C1',\n",
       " '30C2',\n",
       " '30D1',\n",
       " '30D2',\n",
       " '31A2',\n",
       " '31B2',\n",
       " '31B3',\n",
       " '31C1',\n",
       " '31D1',\n",
       " '32A1',\n",
       " '32B2',\n",
       " '33A3',\n",
       " '33A4',\n",
       " '33A5',\n",
       " '34A1',\n",
       " '36A-b',\n",
       " '37-d',\n",
       " '37B1',\n",
       " '40A-b',\n",
       " '41A/a',\n",
       " '42A/a',\n",
       " '43B-c'}"
      ]
     },
     "execution_count": 25,
     "metadata": {},
     "output_type": "execute_result"
    }
   ],
   "source": [
    "set(sbb_with_multiple_vvn) - set(sbb_with_multiple_habs)"
   ]
  },
  {
   "cell_type": "markdown",
   "metadata": {},
   "source": [
    "Slechts voor een paar SBB codes zijn er echt verschillende VvN codes, die vertalen naar verschillende habitattypen:"
   ]
  },
  {
   "cell_type": "code",
   "execution_count": 26,
   "metadata": {},
   "outputs": [
    {
     "data": {
      "text/plain": [
       "{'09B2a',\n",
       " '11-h',\n",
       " '11-j',\n",
       " '12B-c',\n",
       " '14-c',\n",
       " '14D-d',\n",
       " '16C-l',\n",
       " '17A1',\n",
       " '27A2',\n",
       " '29A3',\n",
       " '31B1',\n",
       " '42-d'}"
      ]
     },
     "execution_count": 26,
     "metadata": {},
     "output_type": "execute_result"
    }
   ],
   "source": [
    "set(sbb_with_multiple_habs).intersection(sbb_with_multiple_vvn)"
   ]
  },
  {
   "cell_type": "markdown",
   "metadata": {},
   "source": [
    "Bovenstaande SBB codes geinspecteerd. Er zijn in ieder geval de volgende dingen aan de hand:\n",
    "\n",
    "- Een SBB code vertaalt naar verschillende VvN vegetaties met minstens een andere associatie (en daarmee andere habitattypen)\n",
    "  - 09B2a vertaalt naar `09Aa03b` of `10Ab01`\n",
    "  - 11-h vertaalt naar `09Aa02` en `11Aa02a`\n",
    "  - 11-j vertaalt naar `11Aa01` en `11Aa02`\n",
    "  - 12B-c vertaalt naar `12Ba01` en `12Ba02`\n",
    "  - 14-c vertaalt naar `14Aa01` en `14Aa02`\n",
    "  - 14D-d vertaalt naar `14Bb01`, `14Bb02` en `14RG06`\n",
    "  - 16C-l vertaalt naar `16Bb01`, `16Bc01` en `16Bc02`\n",
    "  - 42-d vertaalt naar `42RG02` en `41DG02`\n",
    "- Een SBB code vertaalt naar meerdere subassociaties in VvN, met verschillende habitatcodes\n",
    "  - 17A1 vertaalt naar `17Aa01` en subassociaties\n",
    "  - 27A2 vertaalt naar `27Aa02` en subassociaties\n",
    "  - 29A3 vertaalt naar `29Aa03` en subassociaties\n",
    "  - 31B1 vertaalt naar `31Ab01` en subassociaties\n",
    "\n",
    "Nog een subtiel andere variant is wanneer er voor één SBB code meerdere regels zijn, waarvoor sommige wel een VvN code hebben en sommige niet, zoals:\n",
    "- `37A2`"
   ]
  }
 ],
 "metadata": {
  "kernelspec": {
   "display_name": ".venv",
   "language": "python",
   "name": "python3"
  },
  "language_info": {
   "codemirror_mode": {
    "name": "ipython",
    "version": 3
   },
   "file_extension": ".py",
   "mimetype": "text/x-python",
   "name": "python",
   "nbconvert_exporter": "python",
   "pygments_lexer": "ipython3",
   "version": "3.8.10"
  },
  "orig_nbformat": 4
 },
 "nbformat": 4,
 "nbformat_minor": 2
}
