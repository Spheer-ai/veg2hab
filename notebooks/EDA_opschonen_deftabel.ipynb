{
 "cells": [
  {
   "cell_type": "code",
   "execution_count": 2,
   "metadata": {},
   "outputs": [],
   "source": [
    "import re\n",
    "import pandas as pd"
   ]
  },
  {
   "cell_type": "code",
   "execution_count": 6,
   "metadata": {},
   "outputs": [],
   "source": [
    "dt = pd.read_excel(\n",
    "    '../data/definitietabel habitattypen (versie 24 maart 2009)_0.xls', \n",
    "    sheet_name = 1,\n",
    "    dtype=\"string\"\n",
    ")"
   ]
  },
  {
   "cell_type": "markdown",
   "metadata": {},
   "source": [
    "### TODO: toevoegen codes voor vegetatieloze regels"
   ]
  },
  {
   "cell_type": "code",
   "execution_count": 7,
   "metadata": {},
   "outputs": [],
   "source": [
    "# Voor de time being:\n",
    "# Verwijderen van kolommen zonder vegetatiecode. Dit zijn kolommen met waterplantengemeenschappen en vegetatieloze regels.\n",
    "dt = dt[~dt['Code vegetatietype'].isna()]"
   ]
  },
  {
   "cell_type": "markdown",
   "metadata": {},
   "source": [
    "### Splitsen vegetatiecode kolom in SBB en VvN"
   ]
  },
  {
   "cell_type": "code",
   "execution_count": 8,
   "metadata": {},
   "outputs": [],
   "source": [
    "# Opsplitsen van kolom `Code vegetatietype` aparte kolommen voor SBB- en VvN-code\n",
    "dt['SBB'] = dt['Code vegetatietype']\n",
    "dt = dt.rename(columns={'Code vegetatietype':'VvN'})\n",
    "dt['VvN'][dt['VvN'].apply(lambda x: 'SBB' in x)] = None\n",
    "dt['SBB'][~dt['SBB'].apply(lambda x: 'SBB' in x)] = None"
   ]
  },
  {
   "cell_type": "markdown",
   "metadata": {},
   "source": [
    "### Opschonen SBB code"
   ]
  },
  {
   "cell_type": "code",
   "execution_count": 9,
   "metadata": {},
   "outputs": [],
   "source": [
    "# Verwijderen van leading 'SBB-' in SBB-code.\n",
    "dt['SBB'] = dt['SBB'].str.replace('SBB-', '')"
   ]
  },
  {
   "cell_type": "code",
   "execution_count": 17,
   "metadata": {},
   "outputs": [],
   "source": [
    "# Er is één SBB code voor klasse SBB-26, daar moet '-xxx [08-f]' afgehaald worden\n",
    "dt['SBB'] = dt['SBB'].str.replace('-xxx [08-f]', '')"
   ]
  },
  {
   "cell_type": "markdown",
   "metadata": {},
   "source": [
    "### Opschonen VvN code"
   ]
  },
  {
   "cell_type": "code",
   "execution_count": 10,
   "metadata": {},
   "outputs": [],
   "source": [
    "def convert_dg_rg_codes(vvn: str):\n",
    "    '''\n",
    "    Alleen gebruikt voor de definitietabel habitattypen. Zet codes voor Rompgemeenschappen en Derivaatgemeenschappen om in het format dat gebruikt wordt in de waswordt lijst.\n",
    "    '''\n",
    "    try:\n",
    "        return re.sub('-', '', re.sub('\\[.*\\]', '', vvn))\n",
    "    except:\n",
    "        pass"
   ]
  },
  {
   "cell_type": "code",
   "execution_count": 11,
   "metadata": {},
   "outputs": [],
   "source": [
    "dt['VvN'] = dt['VvN'].apply(lambda x: convert_dg_rg_codes(x))"
   ]
  },
  {
   "cell_type": "markdown",
   "metadata": {},
   "source": [
    "### Opgeschoonde tabel opslaan"
   ]
  },
  {
   "cell_type": "code",
   "execution_count": 12,
   "metadata": {},
   "outputs": [],
   "source": [
    "dt.to_excel('../data/dt_cleaned.xlsx', index=False, header=True)"
   ]
  }
 ],
 "metadata": {
  "kernelspec": {
   "display_name": ".venv",
   "language": "python",
   "name": "python3"
  },
  "language_info": {
   "codemirror_mode": {
    "name": "ipython",
    "version": 3
   },
   "file_extension": ".py",
   "mimetype": "text/x-python",
   "name": "python",
   "nbconvert_exporter": "python",
   "pygments_lexer": "ipython3",
   "version": "3.7.17"
  }
 },
 "nbformat": 4,
 "nbformat_minor": 2
}
