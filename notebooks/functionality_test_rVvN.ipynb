{
    "cells": [
        {
            "cell_type": "markdown",
            "metadata": {},
            "source": [
                "Dit is een kopie van functionality_test.ipynb, maar dan met rVvN karteringen.\n",
                "\n",
                "De gebruikte shapefilekartering heeft ook SBB en VvN beschikbaar, maar om de functionaliteit van rVvN te testen voor shapefilekarteringen is er hier even enkel van rVvN gebruik gemaakt."
            ]
        },
        {
            "cell_type": "code",
            "execution_count": null,
            "metadata": {},
            "outputs": [],
            "source": [
                "from pathlib import Path\n",
                "\n",
                "import sys\n",
                "sys.path.append('../')\n",
                "\n",
                "from veg2hab.waswordtlijst import WasWordtLijst, opschonen_waswordtlijst\n",
                "from veg2hab.definitietabel import DefinitieTabel, opschonen_definitietabel\n",
                "from veg2hab.vegkartering import Kartering\n",
                "from veg2hab.io.cli import CLIInterface\n",
                "import pandas as pd\n",
                "from veg2hab.bronnen import FGR, Bodemkaart, LBK\n",
                "from veg2hab.enums import WelkeTypologie\n",
                "\n",
                "pd.set_option('display.max_columns', 100)\n",
                "\n",
                "CLIInterface.get_instance()"
            ]
        },
        {
            "cell_type": "markdown",
            "metadata": {},
            "source": [
                "### Was-Wordt lijst opschonen en inladen\n",
                "\n",
                "VvN en SBB codes worden gecheckt op validiteit bij:\n",
                "1. het opschonen van een was-wordt lijst\n",
                "2. bij het inlezen van een opgeschoonde was-wordt lijst"
            ]
        },
        {
            "cell_type": "code",
            "execution_count": null,
            "metadata": {},
            "outputs": [],
            "source": [
                "path_in_wwl = Path(\"../data/5. Was-wordt-lijst-vegetatietypen-en-habitattypen-09-02-2021.xlsx\")\n",
                "path_out_wwl = Path(\"../testing/opgeschoonde_waswordt.xlsx\")\n",
                "opschonen_waswordtlijst(path_in_wwl, path_out_wwl)\n",
                "wwl = WasWordtLijst.from_excel(path_out_wwl)\n",
                "wwl.df.head(3)"
            ]
        },
        {
            "cell_type": "markdown",
            "metadata": {},
            "source": [
                "### Definitietabel opschonen en inladen\n",
                "\n",
                "VvN- en SBB-codes worden gecheckt op validiteit bij:\n",
                "1. het opschonen van een definitietabel\n",
                "2. bij het inlezen van een opgeschoonde definitietabel"
            ]
        },
        {
            "cell_type": "code",
            "execution_count": null,
            "metadata": {},
            "outputs": [],
            "source": [
                "path_in_dt = Path(\"../data/definitietabel habitattypen (versie 24 maart 2009)_0.xls\")\n",
                "path_in_mitsjson = Path(\"../data/mitsjson.json\")\n",
                "path_in_mozaiekjson = Path(\"../data/mozaiekjson.json\")\n",
                "path_out_dt = Path(\"../testing/opgeschoonde_definitietabel.xlsx\")\n",
                "opschonen_definitietabel(path_in_dt, path_in_mitsjson, path_in_mozaiekjson, path_out_dt)\n",
                "dt = DefinitieTabel.from_excel(path_out_dt)\n",
                "dt.df.head()"
            ]
        },
        {
            "cell_type": "markdown",
            "metadata": {},
            "source": [
                "## Inladen van een kartering vanaf een shapefile"
            ]
        },
        {
            "cell_type": "code",
            "execution_count": null,
            "metadata": {},
            "outputs": [],
            "source": [
                "import pandas as pd\n",
                "pd.set_option('display.max_colwidth', 100)\n",
                "pd.set_option('display.max_columns', 250)\n",
                "pd.set_option('display.width', 300)"
            ]
        },
        {
            "cell_type": "code",
            "execution_count": null,
            "metadata": {},
            "outputs": [],
            "source": [
                "shp_path = Path(\"../testing/vegetatiekarteringen/DR/BG_meerdere_terreinen2020/BG_2020_Arnoud.shp\")\n",
                "kartering = Kartering.from_shapefile(shp_path, vegtype_col_format=\"single\", welke_typologie=WelkeTypologie.rVvN, ElmID_col=\"OBJECTID\", SBB_col=[], VvN_col=[], rVvN_col=[\"rVVN_Code\"])\n",
                "kartering.gdf"
            ]
        },
        {
            "cell_type": "markdown",
            "metadata": {},
            "source": [
                "## Inladen en omzetten van een access kartering\n",
                "\n",
                "- Voor ieder vlak in de kartering wordt de (complexe) SBB code opgezocht.\n",
                "- Deze SBB-codes worden opgeschoond en gevalideerd.\n",
                "- De SBB codes worden toegevoegd aan de dataframe van de kartering als VegTypeInfo instance.\n",
                "  \n",
                "De resulterende dataframe heeft voor elke regel in KarteringVegetatietype.csv een VegTypeInfo instance in de rij van de betreffende shape."
            ]
        },
        {
            "cell_type": "code",
            "execution_count": null,
            "metadata": {},
            "outputs": [],
            "source": [
                "shape_path = Path(\"../testing/vegetatiekarteringen/DR/NM_Leggelderveld2020/NM_Leggelderveld2020.shp\")\n",
                "mdb_path = Path(\"../testing/vegetatiekarteringen/DR/NM_Leggelderveld2020/Leggelderveld 2020.mdb\")\n",
                "shape_elm_id_column = \"ELMID\"\n",
                "typologie = WelkeTypologie.rVvN\n",
                "\n",
                "kartering = Kartering.from_access_db(shape_path, shape_elm_id_column, mdb_path, WelkeTypologie.rVvN)\n",
                "\n",
                "kartering.gdf.head(3)\n"
            ]
        },
        {
            "cell_type": "markdown",
            "metadata": {},
            "source": [
                "### Inladen bronnen"
            ]
        },
        {
            "cell_type": "code",
            "execution_count": null,
            "metadata": {},
            "outputs": [],
            "source": [
                "mask = kartering.get_geometry_mask()\n",
                "fgr = FGR(Path(\"../data/bronbestanden/FGR.json\"))\n",
                "bodemkaart = Bodemkaart.from_file(Path(\"../data/bronbestanden/bodemkaart.gpkg\"), mask=mask)\n",
                "lbk = LBK.from_file(Path(\"../data/bronbestanden/lbk.shp\"), mask=mask)"
            ]
        },
        {
            "cell_type": "markdown",
            "metadata": {},
            "source": [
                "#### Opzoeken en toevoegen VvN aan kartering"
            ]
        },
        {
            "cell_type": "code",
            "execution_count": null,
            "metadata": {},
            "outputs": [],
            "source": [
                "kartering.apply_wwl(wwl)\n",
                "# Voorbeeld van 3 vegtypeinfos in 1 geometry\n",
                "kartering.gdf[\"VegTypeInfo\"]"
            ]
        },
        {
            "cell_type": "markdown",
            "metadata": {},
            "source": [
                "#### Vinden van de mogelijke habitattypen voor een VegTypeInfo\n",
                "\n",
                "Voor elke VegTypeInfo worden de mogelijke habitattypen opgezocht in de definitietabel. Deze worden vervolgens in een HabitatVoorstel gezet, samen met de code waarop de match is gemaakt, de regel in de definitietabel die is gebruikt en het niveau van de match."
            ]
        },
        {
            "cell_type": "code",
            "execution_count": null,
            "metadata": {},
            "outputs": [],
            "source": [
                "kartering.apply_deftabel(dt)\n",
                "kartering.gdf[\"HabitatVoorstel\"]"
            ]
        },
        {
            "cell_type": "code",
            "execution_count": null,
            "metadata": {},
            "outputs": [],
            "source": [
                "# Voorbeeld met voor 2 VegTypeInfo's waarbij de eerste twee mogelijke voorstellen heeft\n",
                "kartering.gdf[\"HabitatVoorstel\"][45]"
            ]
        },
        {
            "cell_type": "markdown",
            "metadata": {},
            "source": [
                "### De mitsen en mozaiekregels checken en de HabitatVoorstellen omzetten naar HabitatKeuzes"
            ]
        },
        {
            "cell_type": "code",
            "execution_count": null,
            "metadata": {},
            "outputs": [],
            "source": [
                "# access_kartering.bepaal_habitatkeuzes(fgr, bodemkaart, lbk)\n",
                "kartering.bepaal_mits_habitatkeuzes(fgr, bodemkaart, lbk)\n",
                "kartering.bepaal_mozaiek_habitatkeuzes()"
            ]
        },
        {
            "cell_type": "markdown",
            "metadata": {},
            "source": [
                "### Functionele samenhang"
            ]
        },
        {
            "cell_type": "code",
            "execution_count": null,
            "metadata": {},
            "outputs": [],
            "source": [
                "kartering.functionele_samenhang()"
            ]
        },
        {
            "cell_type": "markdown",
            "metadata": {},
            "source": [
                "### De kartering formatten als een Habitattypenkartering\n",
                "\n",
                "Dit pakt de HabitatVoorstellen uit en format het geheel als een Habitattypenkartering zoals beschreven in Gegevens Leverings Protocol (uitvraag bijlage 3a).\n",
                "\n",
                "Voor nu checken we nog geen mitsen en mozaiek en wordt voor ieder VegTypeInfo het eerste HabitatVoorstel gebruikt."
            ]
        },
        {
            "cell_type": "code",
            "execution_count": null,
            "metadata": {},
            "outputs": [],
            "source": [
                "final_format = kartering.as_final_format()\n",
                "final_format"
            ]
        },
        {
            "cell_type": "code",
            "execution_count": null,
            "metadata": {},
            "outputs": [],
            "source": [
                "kartering.final_format_to_file(Path(\"../testing/veg2hab_output_rvvn_test.shp\"))"
            ]
        }
    ],
    "metadata": {
        "kernelspec": {
            "display_name": "veg2hab-CuqoUkZb-py3.7",
            "language": "python",
            "name": "python3"
        },
        "language_info": {
            "codemirror_mode": {
                "name": "ipython",
                "version": 3
            },
            "file_extension": ".py",
            "mimetype": "text/x-python",
            "name": "python",
            "nbconvert_exporter": "python",
            "pygments_lexer": "ipython3",
            "version": "3.7.17"
        }
    },
    "nbformat": 4,
    "nbformat_minor": 2
}
