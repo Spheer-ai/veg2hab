{
 "cells": [
  {
   "cell_type": "markdown",
   "metadata": {},
   "source": [
    "# Opschonen shapefiles\n",
    "\n",
    "Dit notebook schoont de shapefiles op waar nodig. Het past ook omzettabellen toe bij de karteringen waar dat nodig is (Alde Feanen en Grote Wielen). \n",
    "\n",
    "De karteringen en enkele bestanden moeten eerst van de Spheer OneDrive gehaald worden. Instructies:\n",
    "\n",
    " - Kopieer de provinciefolders uit de OneDrive: `Spheer AI/Spheer AI - General/Projecten/Veg_2_Hab/Data/Vegetatiekarteringen` naar `testing/vegetatiekarteringen` (of naar iets anders, dan moet je `originele_karteringen_prefix` aanpassen onder **config**)\n",
    " - `Overzicht_vegetatiekarteringen.xlsx`, de andere overzicht xlxs en de omzettabellen/. staan in `Spheer AI\\Spheer AI - General\\Projecten\\Veg_2_Hab\\Data\\bestanden_alle_karteringen_door_veg2hab.ipynb`. Kopieer deze naar `testing/`.\n",
    "- Geef in `opgeschoonde_shapefiles_prefix` de naam van de folder waar de opgeschoonde shapefiles moeten komen. Dit is ook het folder waaruit de shapefilekarteringen moeten worden geladen in het `alle_karteringen_door_veg2hab.ipynb` notebook.\n",
    "- Run de rest van de cellen. Deze zullen eerst alle karteringen overkopieren, en daarna de op te schonen karteringen overschrijven met een opgeschoonde versie."
   ]
  },
  {
   "cell_type": "markdown",
   "metadata": {},
   "source": [
    "### Imports"
   ]
  },
  {
   "cell_type": "code",
   "execution_count": null,
   "metadata": {},
   "outputs": [],
   "source": [
    "import pandas as pd\n",
    "import geopandas as gpd\n",
    "import os\n",
    "\n",
    "originele_karteringen_prefix = '../testing/vegetatiekarteringen/'\n",
    "opgeschoonde_shapefiles_prefix = '../testing/opgeschoonde_shapefiles/'\n",
    "\n",
    "if not os.path.exists(opgeschoonde_shapefiles_prefix):\n",
    "    os.makedirs(opgeschoonde_shapefiles_prefix)"
   ]
  },
  {
   "cell_type": "markdown",
   "metadata": {},
   "source": [
    "### Inladen benodigde informatie\n"
   ]
  },
  {
   "cell_type": "code",
   "execution_count": null,
   "metadata": {},
   "outputs": [],
   "source": [
    "# info over de karteringen\n",
    "overzicht = pd.read_excel(\n",
    "    \"../testing/Overzicht_vegetatiekarteringen.xlsx\", \n",
    "    sheet_name=\"Vegetatiekarteringen\", \n",
    "    engine='openpyxl',\n",
    "    usecols=[\n",
    "        \"provincie\", \n",
    "        \"naam_kartering\", \n",
    "        \"path_shapes\", \n",
    "        \"landelijke_typologie beschikbaar?\", \n",
    "        \"locatie_landelijke_typologie\",\n",
    "    ],\n",
    "    dtype=\"string\"\n",
    ")\n",
    "\n",
    "# benodigde info voor de shapefile karteringen\n",
    "shape_info = pd.read_excel(\n",
    "    \"../testing/shapefilekarteringinfo.xlsx\",\n",
    "    engine='openpyxl',\n",
    "    usecols=[\n",
    "        \"naam_kartering\",\n",
    "        \"ElmID_col\",\n",
    "        \"datum_col\",\n",
    "        \"opmerking_col\",\n",
    "        \"vegtype_col_format\",\n",
    "        \"welke_typologie\",\n",
    "        \"SBB_col\",\n",
    "        \"VvN_col\",\n",
    "        \"split_char\",\n",
    "        \"perc_col\",\n",
    "    ],\n",
    "    dtype=\"string\"\n",
    ")\n",
    "# Convert all pd.NA to None to prevent having to do \"if not pd.isna()\" everywhere\n",
    "# NOTE: dit naar vegkaartering.py?\n",
    "shape_info = shape_info.applymap(lambda x: None if pd.isna(x) else x)\n",
    "\n",
    "overzicht = overzicht[overzicht[\"landelijke_typologie beschikbaar?\"] == \"Ja\"]\n",
    "overzicht.path_shapes = overzicht.path_shapes.apply(lambda x: originele_karteringen_prefix + x[2:])\n",
    "\n",
    "def read_kartering(name):\n",
    "    row = overzicht[overzicht.naam_kartering == name].iloc[0]\n",
    "    path = row.path_shapes\n",
    "    gdf = gpd.read_file(path)\n",
    "    return path, gdf\n",
    "\n",
    "def save_kartering(path, gdf):\n",
    "    path = path.replace(originele_karteringen_prefix, opgeschoonde_shapefiles_prefix)\n",
    "    if not os.path.exists(os.path.dirname(path)):\n",
    "        os.makedirs(os.path.dirname(path))\n",
    "    gdf.to_file(path)"
   ]
  },
  {
   "cell_type": "markdown",
   "metadata": {},
   "source": [
    "### Kopieren van de karteringen\n",
    "\n",
    "Alles onveranderd overzetten"
   ]
  },
  {
   "cell_type": "code",
   "execution_count": null,
   "metadata": {},
   "outputs": [],
   "source": [
    "for naam in list(overzicht.naam_kartering):\n",
    "    path, gdf = read_kartering(naam)\n",
    "    save_kartering(path, gdf)\n",
    "    print(f\"Copied {naam} to {path}\")"
   ]
  },
  {
   "cell_type": "markdown",
   "metadata": {},
   "source": [
    "### Overschrijven van de op te schonen karteringen"
   ]
  },
  {
   "cell_type": "code",
   "execution_count": null,
   "metadata": {},
   "outputs": [],
   "source": [
    "path, gdf = read_kartering(\"BG_Holtingerveld_bossen2016\")\n",
    "\n",
    "# omwisselen van omgekeerde SBB en VvN\n",
    "mask = gdf[\"OBJECTID_1\"].isin([359, 24, 166, 215])\n",
    "gdf.loc[mask, \"F1_VvN\"], gdf.loc[mask, \"F1_SBB\"] = gdf.loc[mask, \"F1_SBB\"], gdf.loc[mask, \"F1_VvN\"]\n",
    "\n",
    "# \"-\" in perc_col vervangen door None\n",
    "perc_cols = [\"F1_Perc\", \"F2_Perc\", \"F3_Perc\", \"F4_Perc\"]\n",
    "for col in perc_cols:\n",
    "    gdf[col] = gdf[col].apply(lambda x: None if x == \"-\" else x)\n",
    "\n",
    "# save\n",
    "save_kartering(path, gdf)"
   ]
  },
  {
   "cell_type": "code",
   "execution_count": null,
   "metadata": {},
   "outputs": [],
   "source": [
    "path, gdf = read_kartering(\"HDL_meerdere_terreinen2016\")\n",
    "\n",
    "# Weghalen \" RG\" suffix van CODE_SBB\n",
    "gdf[\"CODE_SBB\"] = gdf[\"CODE_SBB\"].str.replace(\" RG\", \"\")\n",
    "\n",
    "# save\n",
    "save_kartering(path, gdf)"
   ]
  },
  {
   "cell_type": "code",
   "execution_count": null,
   "metadata": {},
   "outputs": [],
   "source": [
    "path, gdf = read_kartering(\"HDL_meerdere_terreinen2017\")\n",
    "\n",
    "# Vervangen van \"-\" en \"?\" door None in VGTYPE_VvN\n",
    "# NOTE: Bij de vraagtekens staat in de opmerking dat het onduidelijk is, moeten we daar wat mee?\n",
    "gdf[\"VGTYPE_VvN\"] = gdf[\"VGTYPE_VvN\"].apply(lambda x: None if x == \"?\" else x)\n",
    "\n",
    "# save\n",
    "save_kartering(path, gdf)"
   ]
  },
  {
   "cell_type": "code",
   "execution_count": null,
   "metadata": {},
   "outputs": [],
   "source": [
    "path, gdf = read_kartering(\"NM_Fochteloerveen2013_14\")\n",
    "\n",
    "# Vervangen van \"nvt\" en \"vegetatieloos\" door None in VVNCode\n",
    "gdf[\"VVNCode\"] = gdf[\"VVNCode\"].apply(lambda x: None if x in [\"nvt\", \"vegetatieloos\"] else x)\n",
    "\n",
    "# save\n",
    "save_kartering(path, gdf)"
   ]
  },
  {
   "cell_type": "code",
   "execution_count": null,
   "metadata": {},
   "outputs": [],
   "source": [
    "path, gdf = read_kartering(\"SBB0756_Drentsche_A2009\")\n",
    "\n",
    "# Vervangen van 50A+ door 50A in SBBTYPE1\n",
    "gdf[\"SBBTYPE1\"] = gdf[\"SBBTYPE1\"].apply(lambda x: \"50A\" if x == \"50A+\" else x)\n",
    "\n",
    "# save\n",
    "save_kartering(path, gdf)"
   ]
  },
  {
   "cell_type": "code",
   "execution_count": null,
   "metadata": {},
   "outputs": [],
   "source": [
    "path, gdf = read_kartering(\"Mandefjild_2015\")\n",
    "\n",
    "# Omwisselen 2_SBB2 en 2_VVN1 waar VLAKNR_DEF 1017, 1072, 1037, 1038, 1079, 1077 is\n",
    "mask = gdf[\"VLAKNR_DEF\"].isin([1017, 1072, 1037, 1038, 1079, 1077])\n",
    "gdf.loc[mask, \"2_VVN1\"], gdf.loc[mask, \"2_SBB2\"] = gdf.loc[mask, \"2_SBB2\"], gdf.loc[mask, \"2_VVN1\"]\n",
    "\n",
    "# Omwisselen (3_SBB1 en 3_SBB2) en (3_VVN1 en 3_VVN2) waar VLAKNR_DEF 1111\n",
    "mask = gdf[\"VLAKNR_DEF\"].isin([1111])\n",
    "gdf.loc[mask, \"3_SBB1\"], gdf.loc[mask, \"3_SBB2\"] = gdf.loc[mask, \"3_SBB2\"], gdf.loc[mask, \"3_SBB1\"]\n",
    "gdf.loc[mask, \"3_VVN1\"], gdf.loc[mask, \"3_VVN2\"] = gdf.loc[mask, \"3_VVN2\"], gdf.loc[mask, \"3_VVN1\"]\n",
    "\n",
    "# \"11Aa2c\" in 1_SBB1 vervangen door \"11A2c\" (Staat ook als VvN 11Aa2a in de shapefile)\n",
    "gdf[\"1_SBB1\"] = gdf[\"1_SBB1\"].apply(lambda x: \"11A2c\" if x == \"11Aa2c\" else x)\n",
    "\n",
    "# \"36Ab\" in 2_SBB1 vervangen door \"36A-b\" (Staat ook als VvN 36RG1 in de shapefile)\n",
    "gdf[\"2_SBB1\"] = gdf[\"2_SBB1\"].apply(lambda x: \"36A-b\" if x == \"36Ab\" else x)\n",
    "\n",
    "# \"41RG/DG\" in 1_VVN1 vervangen door \"41\"\n",
    "gdf[\"1_VVN1\"] = gdf[\"1_VVN1\"].apply(lambda x: \"41\" if x == \"41RG/DG\" else x)\n",
    "\n",
    "# save\n",
    "save_kartering(path, gdf)"
   ]
  },
  {
   "cell_type": "code",
   "execution_count": null,
   "metadata": {},
   "outputs": [],
   "source": [
    "path, gdf = read_kartering(\"KetlikerSkar_2016\")\n",
    "\n",
    "# Vervangen van \"PteAqu\" en \"0\" door None in VegCode\n",
    "gdf[\"VegCode\"] = gdf[\"VegCode\"].apply(lambda x: None if x in [\"PteAqu\", \"0\"] else x)\n",
    "\n",
    "# save\n",
    "save_kartering(path, gdf)"
   ]
  },
  {
   "cell_type": "code",
   "execution_count": null,
   "metadata": {},
   "outputs": [],
   "source": [
    "path, gdf = read_kartering(\"Bosgroep_SNLMonitoring_2014\")\n",
    "\n",
    "# Vervangen van \"open water\" en \"zand\" door None in CODE_SBB\n",
    "# NOTE: Willen we dit vertalen naar de goeie 50A/50B/50C?\n",
    "gdf[\"CODE_SBB\"] = gdf[\"CODE_SBB\"].apply(lambda x: None if x in [\"open water\", \"zand\"] else x)\n",
    "\n",
    "# save\n",
    "save_kartering(path, gdf)"
   ]
  },
  {
   "cell_type": "markdown",
   "metadata": {},
   "source": [
    "### Omzettabellen"
   ]
  },
  {
   "cell_type": "code",
   "execution_count": null,
   "metadata": {},
   "outputs": [],
   "source": [
    "omzettabel_grote_wielen = pd.read_excel(\n",
    "    \"../testing/omzettabel_grote_wielen.xlsx\",\n",
    "    engine='openpyxl',\n",
    "    sheet_name=\"Omzettabel\",\n",
    "    usecols=[\n",
    "        \"LokaalType\",\n",
    "        \"SBB Jordy\",\n",
    "    ],\n",
    "    dtype=\"string\"\n",
    ")\n",
    "\n",
    "omzettabel_alde_feanen = pd.read_excel(\n",
    "    \"../testing/omzettabel_alde_feanen.xlsx\",\n",
    "    engine='openpyxl',\n",
    "    sheet_name=\"Bewerkt door Jakko\",\n",
    "    usecols=[\n",
    "        \"LokaalType\",\n",
    "        \"SBB\",\n",
    "    ],\n",
    "    dtype=\"string\"\n",
    ")"
   ]
  },
  {
   "cell_type": "code",
   "execution_count": null,
   "metadata": {},
   "outputs": [],
   "source": [
    "alde_feanen_path, alde_feanen_gdf = read_kartering(\"Alde_Feanen_2012\")\n",
    "grote_wielen_path, grote_wielen_gdf = read_kartering(\"Grote_Wielen_2013\")\n",
    "\n",
    "### Alde Feanen\n",
    "# Laten vallen van nutteloze kolommen (er zijn er anders echt heel veel)\n",
    "alde_feanen_gdf = alde_feanen_gdf[[\"ElmID\", \"LBLKORT\", \"DATUM\", \"Opmerking\", \"geometry\"]]\n",
    "\n",
    "# Splitten op \"/\" en door de omzettabel halen\n",
    "alde_feanen_gdf[\"LBLKORT\"] = alde_feanen_gdf[\"LBLKORT\"].apply(lambda typ_str: [omzettabel_alde_feanen[omzettabel_alde_feanen.LokaalType == lok_typ].SBB.iloc[0] if lok_typ in omzettabel_alde_feanen.LokaalType.values else None for lok_typ in typ_str.split(\"/\")] if typ_str is not None else None)\n",
    "\n",
    "# None waardes weghalen\n",
    "alde_feanen_gdf[\"LBLKORT\"] = alde_feanen_gdf[\"LBLKORT\"].apply(lambda l: [x for x in l if x is not None] if l is not None else None)\n",
    "\n",
    "# Joinen met \"+\"\n",
    "alde_feanen_gdf[\"LBLKORT\"] = alde_feanen_gdf[\"LBLKORT\"].apply(lambda l: \"+\".join(l) if l is not None else None)\n",
    "\n",
    "### Grote Wielen\n",
    "# Door de omzettabel halen\n",
    "for col in [\"type1\", \"type2\", \"type3\", \"type4\", \"type5\"]:\n",
    "    grote_wielen_gdf[col] = grote_wielen_gdf[col].apply(\n",
    "        lambda lok_typ: omzettabel_grote_wielen[omzettabel_grote_wielen.LokaalType == lok_typ][\"SBB Jordy\"].iloc[0] if lok_typ is not None else None\n",
    "    )\n",
    "\n",
    "### Save\n",
    "save_kartering(alde_feanen_path, alde_feanen_gdf)\n",
    "save_kartering(grote_wielen_path, grote_wielen_gdf)"
   ]
  }
 ],
 "metadata": {
  "kernelspec": {
   "display_name": "veg2hab-CuqoUkZb-py3.7",
   "language": "python",
   "name": "python3"
  },
  "language_info": {
   "codemirror_mode": {
    "name": "ipython",
    "version": 3
   },
   "file_extension": ".py",
   "mimetype": "text/x-python",
   "name": "python",
   "nbconvert_exporter": "python",
   "pygments_lexer": "ipython3",
   "version": "3.7.17"
  }
 },
 "nbformat": 4,
 "nbformat_minor": 2
}
