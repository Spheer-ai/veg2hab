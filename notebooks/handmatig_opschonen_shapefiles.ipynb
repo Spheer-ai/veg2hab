{
 "cells": [
  {
   "cell_type": "markdown",
   "metadata": {},
   "source": [
    "# Opschonen shapefiles\n",
    "\n",
    "Dit notebook schoont de shapefiles op waar nodig. Instructies:\n",
    "\n",
    "- Kopieer de provinciefolders uit de OneDrive: `Spheer AI/Spheer AI - General/Projecten/Veg_2_Hab/Data/Vegetatiekarteringen` naar `testing/vegetatiekarteringen` (of naar iets anders, dan moet je `originele_karteringen_prefix` aanpassen onder **config**)\n",
    "- Geef in `opgeschoonde_shapefiles_prefix` de naam van de folder waar de opgeschoonde shapefiles moeten komen. Dit is ook het folder waaruit de shapefilekarteringen moeten worden geladen in het `alle_karteringen_door_veg2hab.ipynb` notebook.\n",
    "- Run de rest van de cellen. Deze zullen eerst alle karteringen overkopieren, en daarna de op te schonen karteringen overschrijven met een opgeschoonde versie."
   ]
  },
  {
   "cell_type": "markdown",
   "metadata": {},
   "source": [
    "### Imports"
   ]
  },
  {
   "cell_type": "code",
   "execution_count": 1,
   "metadata": {},
   "outputs": [
    {
     "name": "stderr",
     "output_type": "stream",
     "text": [
      "/home/jordydelange/.cache/pypoetry/virtualenvs/veg2hab-CuqoUkZb-py3.7/lib/python3.7/site-packages/geopandas/_compat.py:115: UserWarning: The Shapely GEOS version (3.11.2-CAPI-1.17.2) is incompatible with the GEOS version PyGEOS was compiled with (3.10.4-CAPI-1.16.2). Conversions between both will be slow.\n",
      "  shapely_geos_version, geos_capi_version_string\n"
     ]
    }
   ],
   "source": [
    "import pandas as pd\n",
    "import geopandas as gpd\n",
    "import os\n",
    "\n",
    "originele_karteringen_prefix = '../testing/vegetatiekarteringen/'\n",
    "opgeschoonde_shapefiles_prefix = '../testing/opgeschoonde_shapefiles/'\n",
    "\n",
    "if not os.path.exists(opgeschoonde_shapefiles_prefix):\n",
    "    os.makedirs(opgeschoonde_shapefiles_prefix)"
   ]
  },
  {
   "cell_type": "markdown",
   "metadata": {},
   "source": [
    "### Inladen benodigde informatie\n"
   ]
  },
  {
   "cell_type": "code",
   "execution_count": 2,
   "metadata": {},
   "outputs": [],
   "source": [
    "# info over de karteringen\n",
    "overzicht = pd.read_excel(\n",
    "    \"../data/Overzicht_vegetatiekarteringen.xlsx\", \n",
    "    sheet_name=\"Vegetatiekarteringen\", \n",
    "    engine='openpyxl',\n",
    "    usecols=[\n",
    "        \"provincie\", \n",
    "        \"naam_kartering\", \n",
    "        \"path_shapes\", \n",
    "        \"landelijke_typologie beschikbaar?\", \n",
    "        \"locatie_landelijke_typologie\",\n",
    "    ],\n",
    "    dtype=\"string\"\n",
    ")\n",
    "\n",
    "# benodigde info voor de shapefile karteringen\n",
    "shape_info = pd.read_excel(\n",
    "    \"../data/shapefilekarteringinfo.xlsx\",\n",
    "    engine='openpyxl',\n",
    "    usecols=[\n",
    "        \"naam_kartering\",\n",
    "        \"ElmID_col\",\n",
    "        \"datum_col\",\n",
    "        \"opmerking_col\",\n",
    "        \"vegtype_col_format\",\n",
    "        \"sbb_of_vvn\",\n",
    "        \"SBB_col\",\n",
    "        \"VvN_col\",\n",
    "        \"split_char\",\n",
    "        \"perc_col\",\n",
    "    ],\n",
    "    dtype=\"string\"\n",
    ")\n",
    "# Convert all pd.NA to None to prevent having to do \"if not pd.isna()\" everywhere\n",
    "# NOTE: dit naar vegkaartering.py?\n",
    "shape_info = shape_info.applymap(lambda x: None if pd.isna(x) else x)\n",
    "\n",
    "overzicht = overzicht[overzicht[\"landelijke_typologie beschikbaar?\"] == \"Ja\"]\n",
    "overzicht.path_shapes = overzicht.path_shapes.apply(lambda x: originele_karteringen_prefix + x[2:])"
   ]
  },
  {
   "cell_type": "markdown",
   "metadata": {},
   "source": [
    "### Kopieren"
   ]
  },
  {
   "cell_type": "code",
   "execution_count": 3,
   "metadata": {},
   "outputs": [
    {
     "name": "stdout",
     "output_type": "stream",
     "text": [
      "Copied Asserbos2015 to ../testing/vegetatiekarteringen/DR/Asserbos2015/Asserbos2015.shp\n",
      "Copied BG_Drenthe2014 to ../testing/vegetatiekarteringen/DR/BG_Drenthe2014/BG_Drenthe2014.shp\n",
      "Copied BG_Holtingerveld_bossen2016 to ../testing/vegetatiekarteringen/DR/BG_Holtingerveld_bossen2016/BG_Holtingerveld_bossen2016_gdb.shp\n",
      "Copied BG_Hondsrug2019 to ../testing/vegetatiekarteringen/DR/BG_Hondsrug2019/BG_Hondsrug2019.shp\n",
      "Copied BG_meerdere_terreinen2020 to ../testing/vegetatiekarteringen/DR/BG_meerdere_terreinen2020/BG_2020_Arnoud.shp\n",
      "Copied BG_Nolde2018 to ../testing/vegetatiekarteringen/DR/BG_Nolde2018/BG_Nolde2018.shp\n",
      "Copied DEF_Holtingerveld2013 to ../testing/vegetatiekarteringen/DR/DEF_Holtingerveld2013/DEF_Holtingerveld2013.shp\n",
      "Copied GL_Zuidlaardermeer2019 to ../testing/vegetatiekarteringen/DR/GL_Zuidlaardermeer2019/GL_Zuidlaardermeer2019.shp\n",
      "Copied HDL_De_Stroeten2016 to ../testing/vegetatiekarteringen/DR/HDL_De_Stroeten2016/HDL_de_Stroeten2016_concept.shp\n",
      "Copied HDL_Hijkerveld-Smilder_oosterveld2018 to ../testing/vegetatiekarteringen/DR/HDL_Hijkerveld-Smilder_oosterveld2018/HDL_Hijkerveld_SmilderOosterveld2018_ED.shp\n",
      "Copied HDL_Katteveen2019 to ../testing/vegetatiekarteringen/DR/HDL_Katteveen2019/HDL_Katteveen2019_concept.shp\n",
      "Copied HDL_meerdere_terreinen2016 to ../testing/vegetatiekarteringen/DR/HDL_meerdere_terreinen2016/HDL_meerdere_terreinen2016.shp\n",
      "Copied HDL_meerdere_terreinen2017 to ../testing/vegetatiekarteringen/DR/HDL_meerdere_terreinen2017/HDL_meerdere_terreinen2017.shp\n",
      "Copied IFG_DrentsFrieseWold2015 to ../testing/vegetatiekarteringen/DR/IFG_DrentsFrieseWold2015/IFG_Skaopedobbe2015_verbeterd_05juli2018.shp\n",
      "Copied NM_Fochteloerveen2013_14 to ../testing/vegetatiekarteringen/DR/NM_Fochteloerveen2013_14/NM_Fochteloerveen2013_14.shp\n",
      "Copied NM_Fochteloerveen_2020 to ../testing/vegetatiekarteringen/DR Extra/definitief Fochteloo_Norg2020/GISbestanden_Fochteloo_Norg2020/VlakkenVegetatiekarteringFochteloo_210331/NM_Fovhteloerveen_Norg2020.shp\n",
      "Copied NM_Klencke2018 to ../testing/vegetatiekarteringen/DR/NM_Klencke2018/NM_deKlencke2018.shp\n",
      "Copied NM_Leggelderveld2020 to ../testing/vegetatiekarteringen/DR/NM_Leggelderveld2020/NM_Leggelderveld2020.shp\n",
      "Copied NM_Mantingerveld2020 to ../testing/vegetatiekarteringen/DR/NM_Mantingerveld2020/NM_Mantingerveld2020.shp\n",
      "Copied NM_Mantingerweiden2010 to ../testing/vegetatiekarteringen/DR/NM_Mantingerweiden2010/NM_Mantingerweiden2010.shp\n",
      "Copied NM_Norg_heiden2020 to ../testing/vegetatiekarteringen/DR/NM_Norg_heiden2020/NM_Norg_heide2020.shp\n",
      "Copied NM_NorgerBeekdal2018 to ../testing/vegetatiekarteringen/DR/NM_NorgerBeekdal2018/NM_NorgerBeekdal2018.shp\n"
     ]
    },
    {
     "name": "stderr",
     "output_type": "stream",
     "text": [
      "/home/jordydelange/.cache/pypoetry/virtualenvs/veg2hab-CuqoUkZb-py3.7/lib/python3.7/site-packages/ipykernel_launcher.py:11: UserWarning: Column names longer than 10 characters will be truncated when saved to ESRI Shapefile.\n",
      "  # This is added back by InteractiveShellApp.init_path()\n"
     ]
    },
    {
     "name": "stdout",
     "output_type": "stream",
     "text": [
      "Copied Bosgroep_SNLMonitoring_2014 to ../testing/vegetatiekarteringen/DR/BG_Drenthe2014/Bosgroep_SNLmonitoring2014.gdb\n",
      "Copied NM_SBB_Fochteloerveen_randen2016 to ../testing/vegetatiekarteringen/DR/NM_SBB_Fochteloerveen_randen2016/NM_SBB_Fochteloerveen_randen2016.shp\n",
      "Copied NM_DCR_2013 to ../testing/vegetatiekarteringen/DR Extra/NM_DCR2013/NM_Fochteloerveen_DCR2013.shp\n",
      "Copied NM_Westerbork2017 to ../testing/vegetatiekarteringen/DR/NM_Westerbork2017/NM_Westerbork2017.shp\n",
      "Copied PRV_Witterdiep2021 to ../testing/vegetatiekarteringen/DR/PRV_Witterdiep2021/PRV_Witterdiep2021.shp\n",
      "Copied SBB0756_Drentsche_A2009 to ../testing/vegetatiekarteringen/DR/SBB0756_Drentsche_A2009/SBB0756_DrentscheAa2009.shp\n",
      "Copied SBB0757_De_Velden2009 to ../testing/vegetatiekarteringen/DR/SBB0757_De_Velden2009/SBB0757deVelden2009.shp\n",
      "Copied SBB0763_Terhorst2009 to ../testing/vegetatiekarteringen/DR/SBB0763_Terhorst2009/SBB0763_Terhorst2009.shp\n",
      "Copied SBB0816_Norg2010 to ../testing/vegetatiekarteringen/DR/SBB0816_Norg2010/SBB0816Norg2010.shp\n",
      "Copied SBB0817_Grolloerveen2013 to ../testing/vegetatiekarteringen/DR/SBB0817_Grolloerveen2013/SBB0817_Hooghalen_Grolloo2013.shp\n",
      "Copied SBB0863_Elperstroom_Schoonloo2012 to ../testing/vegetatiekarteringen/DR/SBB0863_Elperstroom_Schoonloo2012/SBB0863_Elperstroom_Schoonloo2012.shp\n",
      "Copied SBB0881_SBB_Ruinen_Havelterberg2013 to ../testing/vegetatiekarteringen/DR/SBB0881_SBB_Ruinen_Havelterberg2013/SBB0881_Ruinen_Havelterberg2013.shp\n",
      "Copied SBB0935_DrentsFrieseWold2015 to ../testing/vegetatiekarteringen/DR/SBB0935_DrentsFrieseWold2015/SBB0935DrentsFrieseWold2015.shp\n",
      "Copied SBB0936_DrentseAa2015_16 to ../testing/vegetatiekarteringen/DR/SBB0936_DrentseAa2015_16/SBB0936_DrentseAa2015_16.shp\n",
      "Copied SBB0982_Wijster2017 to ../testing/vegetatiekarteringen/DR/SBB0982_Wijster2017/SBB0982_Wijster_Ruinen_Hooghalen2017.shp\n",
      "Copied SBB1014_SBB_Kop_van_Drenthe2018 to ../testing/vegetatiekarteringen/DR/SBB1014_SBB_Kop_van_Drenthe2018/SBB1014_Kop_van_Drenthe2018.shp\n",
      "Copied SBB1015_ HartvanDrenthe2018 to ../testing/vegetatiekarteringen/DR/SBB1015_ HartvanDrenthe2018/SBB1015__HartvanDrenthe2018.shp\n",
      "Copied SBB1034_Dwingelderveld2017 to ../testing/vegetatiekarteringen/DR/SBB1034_Dwingelderveld2017/SBB1034_Dwingelderveld2017.shp\n",
      "Copied SBB1039_Drenthe2019 to ../testing/vegetatiekarteringen/DR/SBB1039_Drenthe2019/SBB1039_Drenthe_2019_Arnoud.shp\n",
      "Copied SBB1471_DrentsFrieseWold2008 to ../testing/vegetatiekarteringen/DR/SBB1471_DrentsFrieseWold2008/SBB1471_OVR_TBOs_verzamelkarteringDFW2009.shp\n",
      "Copied Drouwenerzand_2020 to ../testing/vegetatiekarteringen/DR Extra/2020_Drouwenerzand/HDL_Drouwenerzand_2020.shp\n",
      "Copied NM_Mantingerbos_2015 to ../testing/vegetatiekarteringen/DR Extra/NM_Mantingerveld2015/NM_2015_Mantingerbos.shp\n",
      "Copied Alde_Feanen_2012 to ../testing/vegetatiekarteringen/FR/Alde_Feanen/Alde_Feanen_2012/19Alde Feanen_2012/GIS/vlakken/vlakveg.shp\n",
      "Copied Fr 0752_Bakkefean_2009 to ../testing/vegetatiekarteringen/FR/Bakkeveense_duinen/Fr 0752_Bakkefean_2009/Vlakken.shp\n",
      "Copied Mandefjild_2015 to ../testing/vegetatiekarteringen/FR/Bakkeveense_duinen/Mandefjild_2015/Vlakken shape Mandefjild/Vegetatiekartering_M_vlakken_2015.shp\n",
      "Copied Slotplaats_2016 to ../testing/vegetatiekarteringen/FR/Bakkeveense_duinen/Slotplaats_2016/VegetatiekaartSlotplaats2016.shp\n",
      "Copied Deelen_2012 to ../testing/vegetatiekarteringen/FR/Deelen/Deelen_2012/GIS data/vlakken.shp\n",
      "Copied Ameland_2010 to ../testing/vegetatiekarteringen/FR/Duinen_Ameland/Ameland_2010/vlakken.shp\n",
      "Copied Schiermonnikoog_2015 to ../testing/vegetatiekarteringen/FR/Duinen_Schiermonnikoog/Schiermonnikoog_2015/gis/vlakken.shp\n",
      "Copied Schiermonnikoog_2017 to ../testing/vegetatiekarteringen/FR/Duinen_Schiermonnikoog/Schiermonnikoog_2017/vlakken.shp\n",
      "Copied Terschelling_2012 to ../testing/vegetatiekarteringen/FR/Duinen_Terschelling/Terschelling_2012/vlakken.shp\n",
      "Copied Vlieland_2013 to ../testing/vegetatiekarteringen/FR/Duinen_Vlieland/Vegetatiekartering 2013/Vlieland_vlakken_VegType.shp\n",
      "Copied Grote_Wielen_2013 to ../testing/vegetatiekarteringen/FR/Grote_Wielen/Grote_Wielen_2013/vegetatietypen_Grutte_Wielen.shp\n",
      "Copied KetlikerSkar_2016 to ../testing/vegetatiekarteringen/FR/Ketliker_Skar/KetlikerSkar_2016/KetikerSkar2016.shp\n",
      "Copied Lauwersmeer_Fryslan_2015 to ../testing/vegetatiekarteringen/FR/Lauwersmeer_Fryslan/Lauwersmeer_Fryslan_2015/vlakken.shp\n",
      "Copied Rottige_Meenthe_Brandemeer_2013 to ../testing/vegetatiekarteringen/FR/Rottige_Meenthe_Brandemeer/Rottige_Meenthe_Brandemeer_2013/vlakken.shp\n",
      "Copied Sneekermeergebied_2009 to ../testing/vegetatiekarteringen/FR/Sneekermeergebied/Vegetatiekartering 2009/Snitsermar/vlakken.shp\n",
      "Copied Sneekermeergebied_2009_Terkaplester puollen to ../testing/vegetatiekarteringen/FR/Sneekermeergebied/Vegetatiekartering 2009/Terkaplester puollen/vlakken.shp\n",
      "Copied Tsjonger_Middenloop to ../testing/vegetatiekarteringen/FR/Tsjonger_Middenloop/934_Tsjonger_2015/bewerking boll/vegetatie2.shp\n",
      "Copied Bakkefean_2022 to ../testing/vegetatiekarteringen/FR Extra/2022_Bakkefean/GISbestanden/vlakken.shp\n",
      "Copied Snitsermar_2021 to ../testing/vegetatiekarteringen/FR Extra/FRP1-3 Snitsermar 2021_DIGITALE OPLEVERMAP definitief/gis/vlakken.shp\n",
      "Copied Deelen_2022 to ../testing/vegetatiekarteringen/FR Extra/Fryslan -De Deelen e.o. 2022/gis/vlakken.shp\n",
      "Copied Tjonger_2021 to ../testing/vegetatiekarteringen/FR Extra/Tjonger_2021_SBB/Shapefiles/Vlakken/Vlakken_inclSBBtyp.shp\n",
      "Copied Witte en zwarte brekken_2021 to ../testing/vegetatiekarteringen/FR Extra/Witte en zwarte brekken Veg&Flora 2021/Shapefiles/Shapefiles/Vlakken.shp\n",
      "Copied NM vegetatiekartering RuitenAa2020 to ../testing/vegetatiekarteringen/GR/NM vegetatiekartering RuitenAa2020/vegkart_RuitenA_2020/vegkart_RuitenA_2020.shp\n",
      "Copied SBB Duurswold2013 to ../testing/vegetatiekarteringen/GR/SBB Duurswold2013/vlakken Duurswold 2013/vlakken.shp\n",
      "Copied SBB Lauwersmeer 2015 to ../testing/vegetatiekarteringen/GR/SBB Lauwersmeer 2015/vlakken.shp\n",
      "Copied SBB Westerwolde 2020 to ../testing/vegetatiekarteringen/GR/SBB Westerwolde 2020/GISbestanden/vlakken.shp\n",
      "Copied SBB ZWK 2010 0814_Tussen de Gasten 2010 to ../testing/vegetatiekarteringen/GR/SBB ZWK 2010/0814_Tussen de Gasten 2010/ZWK0814_2010.shp\n",
      "Copied SBB ZWK 2010 0815_Trimunt_2010 to ../testing/vegetatiekarteringen/GR/SBB ZWK 2010/0815_Trimunt_2010/vlakken.shp\n",
      "Copied SGL Hunzedal en Leekstermeer2021 Hunzedal to ../testing/vegetatiekarteringen/GR/SGL Hunzedal en Leekstermeer2021/2021 Vegetatie- en plantensoortenkartering Hunzedal concept/gis/Vegetatiekartering_Hunzedal2021.shp\n",
      "Copied SGL Hunzedal en Leekstermeer2021 Leekstermeer 2021 to ../testing/vegetatiekarteringen/GR/SGL Hunzedal en Leekstermeer2021/2021 Vegetatiekartering Leekstermeer2021/GIS bestanden Onlanden 2021/Vegetatiekartering_Leekstermeer2021.shp\n",
      "Copied SGL Zuidlaardermeer 2019 to ../testing/vegetatiekarteringen/GR/SGL Zuidlaardermeer 2019/kartering zuidlaardermeer 2019 definitief/GIS-bestanden Zuidlaardermeer 2019/GIS_Vlakken_zuidlaardermeer_2019/vlakken.shp\n"
     ]
    }
   ],
   "source": [
    "def read_kartering(name):\n",
    "    row = overzicht[overzicht.naam_kartering == name].iloc[0]\n",
    "    path = row.path_shapes\n",
    "    gdf = gpd.read_file(path)\n",
    "    return path, gdf\n",
    "\n",
    "def save_kartering(path, gdf):\n",
    "    path = path.replace(originele_karteringen_prefix, opgeschoonde_shapefiles_prefix)\n",
    "    if not os.path.exists(os.path.dirname(path)):\n",
    "        os.makedirs(os.path.dirname(path))\n",
    "    gdf.to_file(path)\n",
    "\n",
    "for naam in list(overzicht.naam_kartering):\n",
    "    path, gdf = read_kartering(naam)\n",
    "    save_kartering(path, gdf)\n",
    "    print(f\"Copied {naam} to {path}\")"
   ]
  },
  {
   "cell_type": "markdown",
   "metadata": {},
   "source": [
    "### Opschonen"
   ]
  },
  {
   "cell_type": "code",
   "execution_count": 4,
   "metadata": {},
   "outputs": [],
   "source": [
    "path, gdf = read_kartering(\"BG_Holtingerveld_bossen2016\")\n",
    "\n",
    "# omwisselen van omgekeerde SBB en VvN\n",
    "mask = gdf[\"OBJECTID_1\"].isin([359, 24, 166, 215])\n",
    "gdf.loc[mask, \"F1_VvN\"], gdf.loc[mask, \"F1_SBB\"] = gdf.loc[mask, \"F1_SBB\"], gdf.loc[mask, \"F1_VvN\"]\n",
    "\n",
    "# \"-\" in perc_col vervangen door None\n",
    "perc_cols = [\"F1_Perc\", \"F2_Perc\", \"F3_Perc\", \"F4_Perc\"]\n",
    "for col in perc_cols:\n",
    "    gdf[col] = gdf[col].apply(lambda x: None if x == \"-\" else x)\n",
    "\n",
    "# save\n",
    "save_kartering(path, gdf)"
   ]
  },
  {
   "cell_type": "code",
   "execution_count": 5,
   "metadata": {},
   "outputs": [],
   "source": [
    "path, gdf = read_kartering(\"HDL_meerdere_terreinen2016\")\n",
    "\n",
    "# Weghalen \" RG\" suffix van CODE_SBB\n",
    "gdf[\"CODE_SBB\"] = gdf[\"CODE_SBB\"].str.replace(\" RG\", \"\")\n",
    "\n",
    "# save\n",
    "save_kartering(path, gdf)"
   ]
  },
  {
   "cell_type": "code",
   "execution_count": 6,
   "metadata": {},
   "outputs": [],
   "source": [
    "path, gdf = read_kartering(\"HDL_meerdere_terreinen2017\")\n",
    "\n",
    "# Vervangen van \"-\" en \"?\" door None in VGTYPE_VvN\n",
    "# NOTE: Bij de vraagtekens staat in de opmerking dat het onduidelijk is, moeten we daar wat mee?\n",
    "gdf[\"VGTYPE_VvN\"] = gdf[\"VGTYPE_VvN\"].apply(lambda x: None if x == \"?\" else x)\n",
    "\n",
    "# save\n",
    "save_kartering(path, gdf)"
   ]
  },
  {
   "cell_type": "code",
   "execution_count": 7,
   "metadata": {},
   "outputs": [],
   "source": [
    "path, gdf = read_kartering(\"NM_Fochteloerveen2013_14\")\n",
    "\n",
    "# Vervangen van \"nvt\" en \"vegetatieloos\" door None in VVNCode\n",
    "gdf[\"VVNCode\"] = gdf[\"VVNCode\"].apply(lambda x: None if x in [\"nvt\", \"vegetatieloos\"] else x)\n",
    "\n",
    "# save\n",
    "save_kartering(path, gdf)"
   ]
  },
  {
   "cell_type": "code",
   "execution_count": 8,
   "metadata": {},
   "outputs": [],
   "source": [
    "path, gdf = read_kartering(\"SBB0756_Drentsche_A2009\")\n",
    "\n",
    "# Vervangen van 50A+ door 50A in SBBTYPE1\n",
    "gdf[\"SBBTYPE1\"] = gdf[\"SBBTYPE1\"].apply(lambda x: \"50A\" if x == \"50A+\" else x)\n",
    "\n",
    "# save\n",
    "save_kartering(path, gdf)"
   ]
  },
  {
   "cell_type": "code",
   "execution_count": 9,
   "metadata": {},
   "outputs": [],
   "source": [
    "path, gdf = read_kartering(\"Mandefjild_2015\")\n",
    "\n",
    "# Omwisselen 2_SBB2 en 2_VVN1 waar VLAKNR_DEF 1017, 1072, 1037, 1038, 1079, 1077 is\n",
    "mask = gdf[\"VLAKNR_DEF\"].isin([1017, 1072, 1037, 1038, 1079, 1077])\n",
    "gdf.loc[mask, \"2_VVN1\"], gdf.loc[mask, \"2_SBB2\"] = gdf.loc[mask, \"2_SBB2\"], gdf.loc[mask, \"2_VVN1\"]\n",
    "\n",
    "# Omwisselen (3_SBB1 en 3_SBB2) en (3_VVN1 en 3_VVN2) waar VLAKNR_DEF 1111\n",
    "mask = gdf[\"VLAKNR_DEF\"].isin([1111])\n",
    "gdf.loc[mask, \"3_SBB1\"], gdf.loc[mask, \"3_SBB2\"] = gdf.loc[mask, \"3_SBB2\"], gdf.loc[mask, \"3_SBB1\"]\n",
    "gdf.loc[mask, \"3_VVN1\"], gdf.loc[mask, \"3_VVN2\"] = gdf.loc[mask, \"3_VVN2\"], gdf.loc[mask, \"3_VVN1\"]\n",
    "\n",
    "# \"11Aa2c\" in 1_SBB1 vervangen door \"11A2c\" (Staat ook als VvN 11Aa2a in de shapefile)\n",
    "gdf[\"1_SBB1\"] = gdf[\"1_SBB1\"].apply(lambda x: \"11A2c\" if x == \"11Aa2c\" else x)\n",
    "\n",
    "# \"36Ab\" in 2_SBB1 vervangen door \"36A-b\" (Staat ook als VvN 36RG1 in de shapefile)\n",
    "gdf[\"2_SBB1\"] = gdf[\"2_SBB1\"].apply(lambda x: \"36A-b\" if x == \"36Ab\" else x)\n",
    "\n",
    "# \"41RG/DG\" in 1_VVN1 vervangen door \"41\"\n",
    "gdf[\"1_VVN1\"] = gdf[\"1_VVN1\"].apply(lambda x: \"41\" if x == \"41RG/DG\" else x)\n",
    "\n",
    "# save\n",
    "save_kartering(path, gdf)"
   ]
  },
  {
   "cell_type": "code",
   "execution_count": 10,
   "metadata": {},
   "outputs": [],
   "source": [
    "path, gdf = read_kartering(\"KetlikerSkar_2016\")\n",
    "\n",
    "# Vervangen van \"PteAqu\" en \"0\" door None in VegCode\n",
    "gdf[\"VegCode\"] = gdf[\"VegCode\"].apply(lambda x: None if x in [\"PteAqu\", \"0\"] else x)\n",
    "\n",
    "# save\n",
    "save_kartering(path, gdf)"
   ]
  },
  {
   "cell_type": "code",
   "execution_count": 11,
   "metadata": {},
   "outputs": [
    {
     "name": "stderr",
     "output_type": "stream",
     "text": [
      "/home/jordydelange/.cache/pypoetry/virtualenvs/veg2hab-CuqoUkZb-py3.7/lib/python3.7/site-packages/ipykernel_launcher.py:11: UserWarning: Column names longer than 10 characters will be truncated when saved to ESRI Shapefile.\n",
      "  # This is added back by InteractiveShellApp.init_path()\n"
     ]
    }
   ],
   "source": [
    "path, gdf = read_kartering(\"Bosgroep_SNLMonitoring_2014\")\n",
    "\n",
    "# Vervangen van \"open water\" en \"zand\" door None in CODE_SBB\n",
    "# NOTE: Willen we dit vertalen naar de goeie 50A/50B/50C?\n",
    "gdf[\"CODE_SBB\"] = gdf[\"CODE_SBB\"].apply(lambda x: None if x in [\"open water\", \"zand\"] else x)\n",
    "\n",
    "# save\n",
    "save_kartering(path, gdf)"
   ]
  }
 ],
 "metadata": {
  "kernelspec": {
   "display_name": "veg2hab-CuqoUkZb-py3.7",
   "language": "python",
   "name": "python3"
  },
  "language_info": {
   "codemirror_mode": {
    "name": "ipython",
    "version": 3
   },
   "file_extension": ".py",
   "mimetype": "text/x-python",
   "name": "python",
   "nbconvert_exporter": "python",
   "pygments_lexer": "ipython3",
   "version": "3.7.17"
  }
 },
 "nbformat": 4,
 "nbformat_minor": 2
}
