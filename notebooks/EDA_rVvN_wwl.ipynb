{
 "cells": [
  {
   "cell_type": "code",
   "execution_count": 9,
   "metadata": {},
   "outputs": [
    {
     "name": "stderr",
     "output_type": "stream",
     "text": [
      "/home/jordydelange/.cache/pypoetry/virtualenvs/veg2hab-CuqoUkZb-py3.7/lib/python3.7/site-packages/openpyxl/worksheet/header_footer.py:48: UserWarning: Cannot parse header or footer so it will be ignored\n",
      "  warn(\"\"\"Cannot parse header or footer so it will be ignored\"\"\")\n"
     ]
    }
   ],
   "source": [
    "import pandas as pd\n",
    "\n",
    "from veg2hab.vegetatietypen import VvN, SBB, rVvN\n",
    "\n",
    "wwl = pd.read_excel(\n",
    "    \"../data/5. Was-wordt-lijst-vegetatietypen-en-habitattypen-09-02-2021.xlsx\", \n",
    "    engine=\"openpyxl\", \n",
    "    usecols=[\"rVvN\", \"VvN\", \"SBB-code\"]\n",
    ").rename(columns={\"SBB-code\": \"SBB\"})"
   ]
  },
  {
   "cell_type": "code",
   "execution_count": 10,
   "metadata": {},
   "outputs": [],
   "source": [
    "# Cleanup\n",
    "def opschonen_waswordtlijst(wwl: pd.DataFrame) -> pd.DataFrame:\n",
    "    wwl = wwl.rename(columns={\"SBB-code\": \"SBB\"})\n",
    "    wwl = wwl.dropna(how=\"all\")\n",
    "\n",
    "    # Rijen met meerdere VvN in 1 cel opsplitsen\n",
    "    wwl[\"VvN\"] = wwl[\"VvN\"].str.split(\",\")\n",
    "    wwl = wwl.explode(\"VvN\")\n",
    "\n",
    "    # Whitespace velden vervangen door None\n",
    "    wwl = wwl.replace(r\"^\\s*$\", None, regex=True)\n",
    "\n",
    "    wwl[\"VvN\"] = VvN.opschonen_series(wwl[\"VvN\"])\n",
    "    wwl[\"SBB\"] = SBB.opschonen_series(wwl[\"SBB\"])\n",
    "    wwl[\"rVvN\"] = rVvN.opschonen_series(wwl[\"rVvN\"])\n",
    "\n",
    "    # Checken\n",
    "    assert SBB.validate_pandas_series(\n",
    "        wwl[\"SBB\"], print_invalid=True\n",
    "    ), \"Niet alle SBB codes zijn valid\"\n",
    "    assert VvN.validate_pandas_series(\n",
    "        wwl[\"VvN\"], print_invalid=True\n",
    "    ), \"Niet alle VvN codes zijn valid\"\n",
    "\n",
    "    # Vanaf hier nieuw voor (ook) rVvN (later nog even op mooie logische plek zetten)\n",
    "\n",
    "    # # alle nan naar None\n",
    "    # wwl = wwl.where(pd.notnull(wwl), None)\n",
    "\n",
    "    # wwl.rVvN.loc[wwl.rVvN == \"Niet overgenomen in Revisie\"] = None\n",
    "    # wwl.rVvN.loc[wwl.rVvN == \"Niet overgenomen in Revisie (grasland-deel)\"] = None\n",
    "    # wwl.rVvN.loc[wwl.rVvN == \"r43A0A1B\"] = \"r43AA1B\"\n",
    "\n",
    "    # Tot hier nieuw\n",
    "\n",
    "    return wwl\n",
    "\n",
    "wwl = opschonen_waswordtlijst(wwl)"
   ]
  },
  {
   "cell_type": "code",
   "execution_count": 11,
   "metadata": {},
   "outputs": [
    {
     "data": {
      "text/plain": [
       "0       False\n",
       "1       False\n",
       "2       False\n",
       "3       False\n",
       "4       False\n",
       "        ...  \n",
       "1235    False\n",
       "1236    False\n",
       "1237    False\n",
       "1238    False\n",
       "1239    False\n",
       "Name: rVvN, Length: 1256, dtype: bool"
      ]
     },
     "execution_count": 11,
     "metadata": {},
     "output_type": "execute_result"
    }
   ],
   "source": [
    "(wwl.rVvN == \"r43a0a1b\")"
   ]
  },
  {
   "cell_type": "code",
   "execution_count": 12,
   "metadata": {},
   "outputs": [
    {
     "data": {
      "text/html": [
       "<div>\n",
       "<style scoped>\n",
       "    .dataframe tbody tr th:only-of-type {\n",
       "        vertical-align: middle;\n",
       "    }\n",
       "\n",
       "    .dataframe tbody tr th {\n",
       "        vertical-align: top;\n",
       "    }\n",
       "\n",
       "    .dataframe thead th {\n",
       "        text-align: right;\n",
       "    }\n",
       "</style>\n",
       "<table border=\"1\" class=\"dataframe\">\n",
       "  <thead>\n",
       "    <tr style=\"text-align: right;\">\n",
       "      <th></th>\n",
       "      <th>rVvN</th>\n",
       "      <th>VvN</th>\n",
       "      <th>SBB</th>\n",
       "    </tr>\n",
       "  </thead>\n",
       "  <tbody>\n",
       "    <tr>\n",
       "      <th>0</th>\n",
       "      <td>None</td>\n",
       "      <td>14rg10</td>\n",
       "      <td>14-l</td>\n",
       "    </tr>\n",
       "    <tr>\n",
       "      <th>1</th>\n",
       "      <td>None</td>\n",
       "      <td>None</td>\n",
       "      <td>7-a</td>\n",
       "    </tr>\n",
       "    <tr>\n",
       "      <th>2</th>\n",
       "      <td>None</td>\n",
       "      <td>None</td>\n",
       "      <td>8b-b</td>\n",
       "    </tr>\n",
       "    <tr>\n",
       "      <th>3</th>\n",
       "      <td>None</td>\n",
       "      <td>None</td>\n",
       "      <td>11/c</td>\n",
       "    </tr>\n",
       "    <tr>\n",
       "      <th>4</th>\n",
       "      <td>None</td>\n",
       "      <td>None</td>\n",
       "      <td>11a-b</td>\n",
       "    </tr>\n",
       "    <tr>\n",
       "      <th>...</th>\n",
       "      <td>...</td>\n",
       "      <td>...</td>\n",
       "      <td>...</td>\n",
       "    </tr>\n",
       "    <tr>\n",
       "      <th>1235</th>\n",
       "      <td>r46rg8</td>\n",
       "      <td>None</td>\n",
       "      <td>43-d</td>\n",
       "    </tr>\n",
       "    <tr>\n",
       "      <th>1236</th>\n",
       "      <td>r46rg9</td>\n",
       "      <td>None</td>\n",
       "      <td>42-d</td>\n",
       "    </tr>\n",
       "    <tr>\n",
       "      <th>1237</th>\n",
       "      <td>r46rg10</td>\n",
       "      <td>None</td>\n",
       "      <td>None</td>\n",
       "    </tr>\n",
       "    <tr>\n",
       "      <th>1238</th>\n",
       "      <td>r46rg11</td>\n",
       "      <td>None</td>\n",
       "      <td>43c1j</td>\n",
       "    </tr>\n",
       "    <tr>\n",
       "      <th>1239</th>\n",
       "      <td>None</td>\n",
       "      <td>None</td>\n",
       "      <td>41a3d</td>\n",
       "    </tr>\n",
       "  </tbody>\n",
       "</table>\n",
       "<p>1256 rows × 3 columns</p>\n",
       "</div>"
      ],
      "text/plain": [
       "         rVvN     VvN    SBB\n",
       "0        None  14rg10   14-l\n",
       "1        None    None    7-a\n",
       "2        None    None   8b-b\n",
       "3        None    None   11/c\n",
       "4        None    None  11a-b\n",
       "...       ...     ...    ...\n",
       "1235   r46rg8    None   43-d\n",
       "1236   r46rg9    None   42-d\n",
       "1237  r46rg10    None   None\n",
       "1238  r46rg11    None  43c1j\n",
       "1239     None    None  41a3d\n",
       "\n",
       "[1256 rows x 3 columns]"
      ]
     },
     "execution_count": 12,
     "metadata": {},
     "output_type": "execute_result"
    }
   ],
   "source": [
    "wwl"
   ]
  },
  {
   "cell_type": "code",
   "execution_count": 13,
   "metadata": {},
   "outputs": [
    {
     "name": "stdout",
     "output_type": "stream",
     "text": [
      "Aantal rVvN naar enkel SBB\n",
      "110\n",
      "Aantal rVvN naar enkel VvN\n",
      "196\n",
      "Aantal rVvN naar zowel SBB als VvN\n",
      "771\n",
      "Aantal rVvN naar geen van beide\n",
      "157\n"
     ]
    }
   ],
   "source": [
    "# Moet rVvN naar zowel SBB als VvN?\n",
    "print(\"Aantal rVvN naar enkel SBB\")\n",
    "print(len(wwl[wwl.rVvN.notna() & wwl.VvN.isna() & wwl.SBB.notna()]))\n",
    "\n",
    "print(\"Aantal rVvN naar enkel VvN\")\n",
    "print(len(wwl[wwl.rVvN.notna() & wwl.SBB.isna() & wwl.VvN.notna()]))\n",
    "\n",
    "print(\"Aantal rVvN naar zowel SBB als VvN\")\n",
    "print(len(wwl[wwl.rVvN.notna() & wwl.VvN.notna() & wwl.SBB.notna()]))\n",
    "\n",
    "print(\"Aantal rVvN naar geen van beide\")\n",
    "print(len(wwl[wwl.rVvN.notna() & wwl.VvN.isna() & wwl.SBB.isna()]))"
   ]
  },
  {
   "cell_type": "code",
   "execution_count": 14,
   "metadata": {},
   "outputs": [
    {
     "name": "stdout",
     "output_type": "stream",
     "text": [
      "['r1rg3' 'r2' 'r4rg3' 'r5ba4' 'r5dg1' 'r5rg9' 'r5rg13' 'r5rg17' 'r6rg1'\n",
      " 'r6rg4' 'r6rg5' 'r7ab' 'r7ab1' 'r8rg1' 'r8rg11' 'r8rg17' 'r8rg19'\n",
      " 'r8rg20' 'r8rg21' 'r9ba6' 'r9rg9' 'r9rg11' 'r9rg12' 'r9rg14' 'r10' 'r11'\n",
      " 'r12' 'r12aa1e' 'r12rg3' 'r12rg10' 'r14' 'r14rg11' 'r14rg12' 'r14rg14'\n",
      " 'r14rg21' 'r15' 'r16dg1' 'r16rg3' 'r16rg4' 'r16rg6' 'r16rg14' 'r16rg20'\n",
      " 'r16rg21' 'r16rg22' 'r16rg24' 'r16rg26' 'r17' 'r18' 'r18aa3' 'r18aa3a'\n",
      " 'r18aa3b' 'r18ab' 'r18ab1' 'r18ac' 'r18ac1' 'r18ac2' 'r18rg4' 'r18rg5'\n",
      " 'r18rg6' 'r19' 'r19aa1a' 'r19aa1b' 'r19aa5b' 'r20' 'r20dg1' 'r21'\n",
      " 'r21rg5' 'r22' 'r22a' 'r22aa' 'r22aa1' 'r22rg1' 'r23' 'r24' 'r24rg3'\n",
      " 'r25' 'r26' 'r26aa3' 'r27' 'r27rg5' 'r27rg6' 'r27rg7' 'r28' 'r29'\n",
      " 'r29rg1' 'r30' 'r30rg1' 'r30rg2' 'r30rg3' 'r30rg6' 'r30rg7' 'r31' 'r31ab'\n",
      " 'r31b' 'r31ba' 'r31rg7' 'r31rg8' 'r31rg9' 'r32' 'r32rg3' 'r32rg9'\n",
      " 'r32rg10' 'r33' 'r33dg2' 'r34' 'r34b' 'r34ba' 'r34ba1' 'r34dg3' 'r35'\n",
      " 'r36' 'r36aa2' 'r36aa4' 'r36aa4a' 'r36aa4b' 'r37' 'r37a' 'r37aa' 'r37aa2'\n",
      " 'r37ab' 'r37ab2' 'r38' 'r38a' 'r38aa' 'r38ab' 'r38ab2a' 'r38ab2b'\n",
      " 'r38dg1' 'r39' 'r40' 'r40aa2a' 'r40aa2b' 'r40b' 'r40ba' 'r40ba1'\n",
      " 'r40ba1a' 'r40ba1b' 'r40bb' 'r40bb1' 'r40bb1a' 'r40bb1b' 'r40bb1c'\n",
      " 'r40bb2' 'r41' 'r42' 'r43' 'r44' 'r44rg2' 'r45' 'r45aa1' 'r45aa1a'\n",
      " 'r45aa1b' 'r45dg2' 'r46' 'r46ab2' 'r46rg4' 'r46rg10']\n"
     ]
    },
    {
     "data": {
      "text/html": [
       "<div>\n",
       "<style scoped>\n",
       "    .dataframe tbody tr th:only-of-type {\n",
       "        vertical-align: middle;\n",
       "    }\n",
       "\n",
       "    .dataframe tbody tr th {\n",
       "        vertical-align: top;\n",
       "    }\n",
       "\n",
       "    .dataframe thead th {\n",
       "        text-align: right;\n",
       "    }\n",
       "</style>\n",
       "<table border=\"1\" class=\"dataframe\">\n",
       "  <thead>\n",
       "    <tr style=\"text-align: right;\">\n",
       "      <th></th>\n",
       "      <th>rVvN</th>\n",
       "      <th>VvN</th>\n",
       "      <th>SBB</th>\n",
       "    </tr>\n",
       "  </thead>\n",
       "  <tbody>\n",
       "    <tr>\n",
       "      <th>656</th>\n",
       "      <td>r19aa1a</td>\n",
       "      <td>None</td>\n",
       "      <td>None</td>\n",
       "    </tr>\n",
       "  </tbody>\n",
       "</table>\n",
       "</div>"
      ],
      "text/plain": [
       "        rVvN   VvN   SBB\n",
       "656  r19aa1a  None  None"
      ]
     },
     "execution_count": 14,
     "metadata": {},
     "output_type": "execute_result"
    }
   ],
   "source": [
    "rijen_met_rVvN_en_iets_anders = wwl[wwl.rVvN.notna() & (wwl.VvN.notna() | wwl.SBB.notna())]\n",
    "rijen_met_enkel_rVvN = wwl[wwl.rVvN.notna() & wwl.VvN.isna() & wwl.SBB.isna()]\n",
    "\n",
    "print(rijen_met_enkel_rVvN.rVvN.unique())\n",
    "\n",
    "rijen_met_enkel_rVvN[rijen_met_enkel_rVvN.rVvN.isin(rijen_met_rVvN_en_iets_anders.rVvN)]"
   ]
  },
  {
   "cell_type": "code",
   "execution_count": 15,
   "metadata": {},
   "outputs": [
    {
     "data": {
      "text/plain": [
       "0          None\n",
       "1          None\n",
       "2          None\n",
       "3          None\n",
       "4          None\n",
       "         ...   \n",
       "1235     r46rg8\n",
       "1236     r46rg9\n",
       "1237    r46rg10\n",
       "1238    r46rg11\n",
       "1239       None\n",
       "Name: rVvN, Length: 1256, dtype: object"
      ]
     },
     "execution_count": 15,
     "metadata": {},
     "output_type": "execute_result"
    }
   ],
   "source": [
    "schoon = rVvN.opschonen_series(wwl.rVvN)\n",
    "schoon"
   ]
  },
  {
   "cell_type": "code",
   "execution_count": 16,
   "metadata": {},
   "outputs": [],
   "source": [
    "ingeladen = schoon.apply(rVvN.from_string)"
   ]
  },
  {
   "cell_type": "code",
   "execution_count": null,
   "metadata": {},
   "outputs": [],
   "source": []
  }
 ],
 "metadata": {
  "kernelspec": {
   "display_name": "veg2hab-CuqoUkZb-py3.7",
   "language": "python",
   "name": "python3"
  },
  "language_info": {
   "codemirror_mode": {
    "name": "ipython",
    "version": 3
   },
   "file_extension": ".py",
   "mimetype": "text/x-python",
   "name": "python",
   "nbconvert_exporter": "python",
   "pygments_lexer": "ipython3",
   "version": "3.7.17"
  }
 },
 "nbformat": 4,
 "nbformat_minor": 2
}
