{
 "cells": [
  {
   "cell_type": "markdown",
   "metadata": {},
   "source": [
    "# Was wordt lijst\n",
    "\n",
    "Hoofdvraag: welke landelijke typologie (SBB-code, VvN of rVvN) wordt onze standaard die we als input voor Veg2Hab gebruiken en waarom?\n",
    "- rVvN is het nieuwst, en beschrijft als het goed is de meeste vegetatietypen. gecheckt: als iets een SBB of VvN code heeft, heeft het ook altijd een rVvN code. Andersom niet.\n",
    "- De opdrachtgever gaf als commentaar terug dat zij vinden dat VvN de standaard moet zijn.\n",
    "\n",
    "#### Openstaande vragen voor Johannes / begeleidingscommissie:\n",
    "- Waarom bevat kolom `rVvN` waardes 'Niet'? Moeten we die op NA zetten?\n",
    "- Waarom staan sommige waardes in kolom `VvN` tussen haakjes? \n",
    "- Waarom wil opdrachtgever dat VvN de standaard input voor Veg2Hab is, en niet het nieuwere rVvN?\n",
    "- Vanaf rij 989 bevat VvN geen waardes meer. rVvN wel, en sommige ook een SBB-code. Waarom geen VvN?\n",
    "- Wat is de 17e kolom?\n",
    "\n",
    "#### Beantwoorde vragen:\n",
    "\n",
    "**Vraag**:\n",
    "\n",
    "**Antwoord:**"
   ]
  },
  {
   "cell_type": "markdown",
   "metadata": {},
   "source": [
    "## Data inladen"
   ]
  },
  {
   "cell_type": "code",
   "execution_count": 3,
   "metadata": {},
   "outputs": [],
   "source": [
    "import pandas as pd"
   ]
  },
  {
   "cell_type": "code",
   "execution_count": 36,
   "metadata": {},
   "outputs": [
    {
     "name": "stderr",
     "output_type": "stream",
     "text": [
      "/home/jakko/git/veg2hab/.venv/lib/python3.8/site-packages/openpyxl/worksheet/header_footer.py:48: UserWarning: Cannot parse header or footer so it will be ignored\n",
      "  warn(\"\"\"Cannot parse header or footer so it will be ignored\"\"\")\n"
     ]
    }
   ],
   "source": [
    "df = pd.read_excel('../data/5. Was-wordt-lijst-vegetatietypen-en-habitattypen-09-02-2021.xlsx')"
   ]
  },
  {
   "cell_type": "code",
   "execution_count": 38,
   "metadata": {},
   "outputs": [
    {
     "data": {
      "text/plain": [
       "Index(['rVvN', 'Wetenschappelijke Naam rVvN', 'Nederlandse Naam rVvN',\n",
       "       'Veldgids RG', 'VvN', 'SBB-code', 'SBB Wet. Naam',\n",
       "       'Opmerking vertaling',\n",
       "       'Habitattypen (blauw: geldige aanvulling; rood: voorstel; zie Toelichting)',\n",
       "       'discussiepunten Wwlijst', 'actie nodig', 'principe', 'impact',\n",
       "       'discussie/huiswerk', 'wie', 'uitkomst', 'openstaand 27-11-2018',\n",
       "       'Unnamed: 17'],\n",
       "      dtype='object')"
      ]
     },
     "execution_count": 38,
     "metadata": {},
     "output_type": "execute_result"
    }
   ],
   "source": [
    "df.columns"
   ]
  },
  {
   "cell_type": "code",
   "execution_count": 60,
   "metadata": {},
   "outputs": [],
   "source": [
    "ww = df[['rVvN','VvN','SBB-code', 'Habitattypen (blauw: geldige aanvulling; rood: voorstel; zie Toelichting)']].rename(columns={'Habitattypen (blauw: geldige aanvulling; rood: voorstel; zie Toelichting)':'Habtype'})"
   ]
  },
  {
   "cell_type": "markdown",
   "metadata": {},
   "source": [
    "## Volledigheid typologie\n",
    "\n",
    "rVvN lijkt de meest specifieke vegetatietypologie. ALles met een waarde voor SBB of VvN heeft altijd (1 uitzondering, zie beneden) ook een rVvN code, andersom niet. \n",
    "\n",
    "Velden met een SBB code hebben altijd ook een habitattype ingevuld, velden met VvN of rVvN niet."
   ]
  },
  {
   "cell_type": "code",
   "execution_count": 61,
   "metadata": {},
   "outputs": [
    {
     "data": {
      "text/plain": [
       "rVvN          5\n",
       "VvN         257\n",
       "SBB-code    352\n",
       "Habtype     211\n",
       "dtype: int64"
      ]
     },
     "execution_count": 61,
     "metadata": {},
     "output_type": "execute_result"
    }
   ],
   "source": [
    "ww.isna().sum()"
   ]
  },
  {
   "cell_type": "code",
   "execution_count": 62,
   "metadata": {},
   "outputs": [
    {
     "data": {
      "text/plain": [
       "rVvN          0\n",
       "VvN         252\n",
       "SBB-code    348\n",
       "Habtype     207\n",
       "dtype: int64"
      ]
     },
     "execution_count": 62,
     "metadata": {},
     "output_type": "execute_result"
    }
   ],
   "source": [
    "# Rijen met een waarde voor rVvN hebben NIET altijd een waarde voor VvN of SBB\n",
    "ww[~ww['rVvN'].isna()].isna().sum()"
   ]
  },
  {
   "cell_type": "code",
   "execution_count": 63,
   "metadata": {},
   "outputs": [
    {
     "data": {
      "text/plain": [
       "rVvN          0\n",
       "VvN           0\n",
       "SBB-code    224\n",
       "Habtype     183\n",
       "dtype: int64"
      ]
     },
     "execution_count": 63,
     "metadata": {},
     "output_type": "execute_result"
    }
   ],
   "source": [
    "# Rijen met een waarde voor VvN hebben WEL altijd een waarde voor rVvN, maar niet voor SBB\n",
    "ww[~ww['VvN'].isna()].isna().sum()"
   ]
  },
  {
   "cell_type": "code",
   "execution_count": 64,
   "metadata": {},
   "outputs": [
    {
     "data": {
      "text/plain": [
       "rVvN          1\n",
       "VvN         129\n",
       "SBB-code      0\n",
       "Habtype       0\n",
       "dtype: int64"
      ]
     },
     "execution_count": 64,
     "metadata": {},
     "output_type": "execute_result"
    }
   ],
   "source": [
    "# Rijen met een waarde voor SBB-code hebben WEL (bijna) altijd een waarde voor rVvN, maar niet voor VvN\n",
    "ww[~ww['SBB-code'].isna()].isna().sum()"
   ]
  },
  {
   "cell_type": "code",
   "execution_count": 48,
   "metadata": {},
   "outputs": [
    {
     "data": {
      "text/html": [
       "<div>\n",
       "<style scoped>\n",
       "    .dataframe tbody tr th:only-of-type {\n",
       "        vertical-align: middle;\n",
       "    }\n",
       "\n",
       "    .dataframe tbody tr th {\n",
       "        vertical-align: top;\n",
       "    }\n",
       "\n",
       "    .dataframe thead th {\n",
       "        text-align: right;\n",
       "    }\n",
       "</style>\n",
       "<table border=\"1\" class=\"dataframe\">\n",
       "  <thead>\n",
       "    <tr style=\"text-align: right;\">\n",
       "      <th></th>\n",
       "      <th>rVvN</th>\n",
       "      <th>VvN</th>\n",
       "      <th>SBB-code</th>\n",
       "    </tr>\n",
       "  </thead>\n",
       "  <tbody>\n",
       "    <tr>\n",
       "      <th>1216</th>\n",
       "      <td>NaN</td>\n",
       "      <td>NaN</td>\n",
       "      <td>41A3d</td>\n",
       "    </tr>\n",
       "  </tbody>\n",
       "</table>\n",
       "</div>"
      ],
      "text/plain": [
       "     rVvN  VvN SBB-code\n",
       "1216  NaN  NaN    41A3d"
      ]
     },
     "execution_count": 48,
     "metadata": {},
     "output_type": "execute_result"
    }
   ],
   "source": [
    "ww[~ww['SBB-code'].isna() & ww['rVvN'].isna()]"
   ]
  },
  {
   "cell_type": "code",
   "execution_count": 26,
   "metadata": {},
   "outputs": [
    {
     "data": {
      "text/plain": [
       "count\n",
       "1     900\n",
       "2      88\n",
       "3      31\n",
       "5       5\n",
       "4       5\n",
       "19      1\n",
       "6       1\n",
       "Name: count, dtype: int64"
      ]
     },
     "execution_count": 26,
     "metadata": {},
     "output_type": "execute_result"
    }
   ],
   "source": [
    "ww['rVvN'].value_counts().value_counts()"
   ]
  },
  {
   "cell_type": "code",
   "execution_count": 27,
   "metadata": {},
   "outputs": [
    {
     "data": {
      "text/plain": [
       "count\n",
       "1    709\n",
       "2     80\n",
       "3     24\n",
       "4      5\n",
       "5      4\n",
       "6      1\n",
       "Name: count, dtype: int64"
      ]
     },
     "execution_count": 27,
     "metadata": {},
     "output_type": "execute_result"
    }
   ],
   "source": [
    "ww['VvN'].value_counts().value_counts()"
   ]
  },
  {
   "cell_type": "code",
   "execution_count": 28,
   "metadata": {},
   "outputs": [
    {
     "data": {
      "text/plain": [
       "count\n",
       "1    707\n",
       "3     25\n",
       "2     24\n",
       "4     13\n",
       "5      2\n",
       "Name: count, dtype: int64"
      ]
     },
     "execution_count": 28,
     "metadata": {},
     "output_type": "execute_result"
    }
   ],
   "source": [
    "ww['SBB-code'].value_counts().value_counts()"
   ]
  },
  {
   "cell_type": "code",
   "execution_count": 51,
   "metadata": {},
   "outputs": [
    {
     "data": {
      "text/html": [
       "<div>\n",
       "<style scoped>\n",
       "    .dataframe tbody tr th:only-of-type {\n",
       "        vertical-align: middle;\n",
       "    }\n",
       "\n",
       "    .dataframe tbody tr th {\n",
       "        vertical-align: top;\n",
       "    }\n",
       "\n",
       "    .dataframe thead th {\n",
       "        text-align: right;\n",
       "    }\n",
       "</style>\n",
       "<table border=\"1\" class=\"dataframe\">\n",
       "  <thead>\n",
       "    <tr style=\"text-align: right;\">\n",
       "      <th></th>\n",
       "      <th>rVvN</th>\n",
       "      <th>VvN</th>\n",
       "      <th>SBB-code</th>\n",
       "    </tr>\n",
       "  </thead>\n",
       "  <tbody>\n",
       "    <tr>\n",
       "      <th>416</th>\n",
       "      <td>r14Bb02</td>\n",
       "      <td>14Bb02</td>\n",
       "      <td>14D-d</td>\n",
       "    </tr>\n",
       "    <tr>\n",
       "      <th>417</th>\n",
       "      <td>r14Bb02</td>\n",
       "      <td>14Bb02</td>\n",
       "      <td>14D-d</td>\n",
       "    </tr>\n",
       "    <tr>\n",
       "      <th>1240</th>\n",
       "      <td>NaN</td>\n",
       "      <td>NaN</td>\n",
       "      <td>NaN</td>\n",
       "    </tr>\n",
       "    <tr>\n",
       "      <th>1241</th>\n",
       "      <td>NaN</td>\n",
       "      <td>NaN</td>\n",
       "      <td>NaN</td>\n",
       "    </tr>\n",
       "    <tr>\n",
       "      <th>1242</th>\n",
       "      <td>NaN</td>\n",
       "      <td>NaN</td>\n",
       "      <td>NaN</td>\n",
       "    </tr>\n",
       "    <tr>\n",
       "      <th>1243</th>\n",
       "      <td>NaN</td>\n",
       "      <td>NaN</td>\n",
       "      <td>NaN</td>\n",
       "    </tr>\n",
       "  </tbody>\n",
       "</table>\n",
       "</div>"
      ],
      "text/plain": [
       "         rVvN     VvN SBB-code\n",
       "416   r14Bb02  14Bb02    14D-d\n",
       "417   r14Bb02  14Bb02    14D-d\n",
       "1240      NaN     NaN      NaN\n",
       "1241      NaN     NaN      NaN\n",
       "1242      NaN     NaN      NaN\n",
       "1243      NaN     NaN      NaN"
      ]
     },
     "execution_count": 51,
     "metadata": {},
     "output_type": "execute_result"
    }
   ],
   "source": [
    "ww[ww.duplicated(keep=False)]"
   ]
  },
  {
   "cell_type": "markdown",
   "metadata": {},
   "source": [
    "## Vinden we alle waarden voor rVvN, VvN en SBB terug in de definitietabel?\n",
    "\n",
    "Alle vegetatietypen die niet automatisch tot H0000 leiden in de was wordt, zouden we willen terugvinden in de definietabel habitattypen.\n",
    "\n",
    "Dit is ABSOLUUT niet het geval. Voor VvN vind ik (zonder opschoningsstappen) slechts 9 van de honderden waarden terug. SBB iets meer, enkele tientallen."
   ]
  },
  {
   "cell_type": "code",
   "execution_count": 54,
   "metadata": {},
   "outputs": [],
   "source": [
    "dt = pd.read_excel('../data/definitietabel habitattypen (versie 24 maart 2009)_0.xls', sheet_name=1)"
   ]
  },
  {
   "cell_type": "code",
   "execution_count": 78,
   "metadata": {},
   "outputs": [
    {
     "data": {
      "text/html": [
       "<div>\n",
       "<style scoped>\n",
       "    .dataframe tbody tr th:only-of-type {\n",
       "        vertical-align: middle;\n",
       "    }\n",
       "\n",
       "    .dataframe tbody tr th {\n",
       "        vertical-align: top;\n",
       "    }\n",
       "\n",
       "    .dataframe thead th {\n",
       "        text-align: right;\n",
       "    }\n",
       "</style>\n",
       "<table border=\"1\" class=\"dataframe\">\n",
       "  <thead>\n",
       "    <tr style=\"text-align: right;\">\n",
       "      <th></th>\n",
       "      <th>Code vegetatietype</th>\n",
       "      <th>wetenschappelijke naam vegetatietype</th>\n",
       "      <th>Nederlandse naam vegetatietype</th>\n",
       "      <th>Code habitat (sub)type</th>\n",
       "      <th>naam habitat(sub)type</th>\n",
       "      <th>Goed / Matig</th>\n",
       "      <th>beperkende criteria</th>\n",
       "      <th>alleen in mozaïek</th>\n",
       "    </tr>\n",
       "  </thead>\n",
       "  <tbody>\n",
       "    <tr>\n",
       "      <th>0</th>\n",
       "      <td>2Aa1</td>\n",
       "      <td>Ruppietum maritimae</td>\n",
       "      <td>Associatie van Snavelruppia</td>\n",
       "      <td>H1130</td>\n",
       "      <td>Estuaria</td>\n",
       "      <td>G</td>\n",
       "      <td>mits in de FGR Getijdengebied en mits gelegen ...</td>\n",
       "      <td>NaN</td>\n",
       "    </tr>\n",
       "    <tr>\n",
       "      <th>1</th>\n",
       "      <td>2Aa1</td>\n",
       "      <td>Ruppietum maritimae</td>\n",
       "      <td>Associatie van Snavelruppia</td>\n",
       "      <td>H1140_A</td>\n",
       "      <td>Slik- en zandplaten (getijdengebied)</td>\n",
       "      <td>G</td>\n",
       "      <td>mits in de slikkige en fijnzandige delen van F...</td>\n",
       "      <td>NaN</td>\n",
       "    </tr>\n",
       "    <tr>\n",
       "      <th>2</th>\n",
       "      <td>2Aa1</td>\n",
       "      <td>Ruppietum maritimae</td>\n",
       "      <td>Associatie van Snavelruppia</td>\n",
       "      <td>H1160</td>\n",
       "      <td>Grote baaien</td>\n",
       "      <td>G</td>\n",
       "      <td>mits in de FGR Getijdengebied en mits in een i...</td>\n",
       "      <td>NaN</td>\n",
       "    </tr>\n",
       "    <tr>\n",
       "      <th>3</th>\n",
       "      <td>2Aa1</td>\n",
       "      <td>Ruppietum maritimae</td>\n",
       "      <td>Associatie van Snavelruppia</td>\n",
       "      <td>H1330_A</td>\n",
       "      <td>Schorren en zilte graslanden (buitendijks)</td>\n",
       "      <td>G</td>\n",
       "      <td>NaN</td>\n",
       "      <td>alleen in mozaïek met zelfstandige vegetaties ...</td>\n",
       "    </tr>\n",
       "    <tr>\n",
       "      <th>4</th>\n",
       "      <td>2Aa2</td>\n",
       "      <td>Ruppietum cirrhosae</td>\n",
       "      <td>Associatie van Spiraalruppia</td>\n",
       "      <td>H1130</td>\n",
       "      <td>Estuaria</td>\n",
       "      <td>G</td>\n",
       "      <td>mits in de FGR Getijdengebied en mits gelegen ...</td>\n",
       "      <td>NaN</td>\n",
       "    </tr>\n",
       "  </tbody>\n",
       "</table>\n",
       "</div>"
      ],
      "text/plain": [
       "  Code vegetatietype wetenschappelijke naam vegetatietype  \\\n",
       "0               2Aa1                  Ruppietum maritimae   \n",
       "1               2Aa1                  Ruppietum maritimae   \n",
       "2               2Aa1                  Ruppietum maritimae   \n",
       "3               2Aa1                  Ruppietum maritimae   \n",
       "4               2Aa2                  Ruppietum cirrhosae   \n",
       "\n",
       "  Nederlandse naam vegetatietype Code habitat (sub)type  \\\n",
       "0    Associatie van Snavelruppia                  H1130   \n",
       "1    Associatie van Snavelruppia                H1140_A   \n",
       "2    Associatie van Snavelruppia                  H1160   \n",
       "3    Associatie van Snavelruppia                H1330_A   \n",
       "4   Associatie van Spiraalruppia                  H1130   \n",
       "\n",
       "                        naam habitat(sub)type Goed / Matig  \\\n",
       "0                                    Estuaria            G   \n",
       "1        Slik- en zandplaten (getijdengebied)            G   \n",
       "2                                Grote baaien            G   \n",
       "3  Schorren en zilte graslanden (buitendijks)            G   \n",
       "4                                    Estuaria            G   \n",
       "\n",
       "                                 beperkende criteria  \\\n",
       "0  mits in de FGR Getijdengebied en mits gelegen ...   \n",
       "1  mits in de slikkige en fijnzandige delen van F...   \n",
       "2  mits in de FGR Getijdengebied en mits in een i...   \n",
       "3                                                NaN   \n",
       "4  mits in de FGR Getijdengebied en mits gelegen ...   \n",
       "\n",
       "                                   alleen in mozaïek  \n",
       "0                                                NaN  \n",
       "1                                                NaN  \n",
       "2                                                NaN  \n",
       "3  alleen in mozaïek met zelfstandige vegetaties ...  \n",
       "4                                                NaN  "
      ]
     },
     "execution_count": 78,
     "metadata": {},
     "output_type": "execute_result"
    }
   ],
   "source": [
    "dt.head()"
   ]
  },
  {
   "cell_type": "code",
   "execution_count": null,
   "metadata": {},
   "outputs": [],
   "source": [
    "# Ik voeg SBB- toe aan de SBB-code om de waardes te kunnen vergelijken met die uit de definitietabel\n",
    "\n",
    "def add_SBB_prefix(x):\n",
    "    if type(x) == str:\n",
    "        x = 'SBB-' + x\n",
    "    return x        \n",
    "\n",
    "ww['SBB-code'] = ww['SBB-code'].apply(lambda x: add_SBB_prefix(x))"
   ]
  },
  {
   "cell_type": "code",
   "execution_count": 111,
   "metadata": {},
   "outputs": [
    {
     "data": {
      "text/plain": [
       "555"
      ]
     },
     "execution_count": 111,
     "metadata": {},
     "output_type": "execute_result"
    }
   ],
   "source": [
    "len(set(ww[ww['Habtype']!='H0000']['SBB-code']))"
   ]
  },
  {
   "cell_type": "code",
   "execution_count": 112,
   "metadata": {},
   "outputs": [
    {
     "data": {
      "text/plain": [
       "490"
      ]
     },
     "execution_count": 112,
     "metadata": {},
     "output_type": "execute_result"
    }
   ],
   "source": [
    "len(set(ww[ww['Habtype']!='H0000']['SBB-code']).difference(set(dt['Code vegetatietype'])))"
   ]
  },
  {
   "cell_type": "code",
   "execution_count": 104,
   "metadata": {},
   "outputs": [],
   "source": [
    "sbb_niet_herkend = set(ww[ww['Habtype']!='H0000']['SBB-code']).difference(set(dt['Code vegetatietype']))"
   ]
  },
  {
   "cell_type": "code",
   "execution_count": 108,
   "metadata": {},
   "outputs": [
    {
     "data": {
      "text/html": [
       "<div>\n",
       "<style scoped>\n",
       "    .dataframe tbody tr th:only-of-type {\n",
       "        vertical-align: middle;\n",
       "    }\n",
       "\n",
       "    .dataframe tbody tr th {\n",
       "        vertical-align: top;\n",
       "    }\n",
       "\n",
       "    .dataframe thead th {\n",
       "        text-align: right;\n",
       "    }\n",
       "</style>\n",
       "<table border=\"1\" class=\"dataframe\">\n",
       "  <thead>\n",
       "    <tr style=\"text-align: right;\">\n",
       "      <th></th>\n",
       "      <th>rVvN</th>\n",
       "      <th>VvN</th>\n",
       "      <th>SBB-code</th>\n",
       "      <th>Habtype</th>\n",
       "    </tr>\n",
       "  </thead>\n",
       "  <tbody>\n",
       "    <tr>\n",
       "      <th>33</th>\n",
       "      <td>r46Ab03a</td>\n",
       "      <td></td>\n",
       "      <td>SBB-43C1d</td>\n",
       "      <td>H9160A mits + H9160B mits</td>\n",
       "    </tr>\n",
       "    <tr>\n",
       "      <th>35</th>\n",
       "      <td>r38Aa01</td>\n",
       "      <td>(14RG10)</td>\n",
       "      <td>SBB-37B1</td>\n",
       "      <td>H2160 mits</td>\n",
       "    </tr>\n",
       "    <tr>\n",
       "      <th>36</th>\n",
       "      <td>r37Ab01</td>\n",
       "      <td>(20RG01)</td>\n",
       "      <td>SBB-20-c</td>\n",
       "      <td>H2310m + H4030m</td>\n",
       "    </tr>\n",
       "    <tr>\n",
       "      <th>37</th>\n",
       "      <td>r38Ab01b</td>\n",
       "      <td>(37Ac1)</td>\n",
       "      <td>SBB-37-a</td>\n",
       "      <td>H2160 mits</td>\n",
       "    </tr>\n",
       "    <tr>\n",
       "      <th>40</th>\n",
       "      <td>r45Aa03</td>\n",
       "      <td>(42Aa01)</td>\n",
       "      <td>SBB-42A1</td>\n",
       "      <td>H2180A mits + H9190 mits</td>\n",
       "    </tr>\n",
       "    <tr>\n",
       "      <th>...</th>\n",
       "      <td>...</td>\n",
       "      <td>...</td>\n",
       "      <td>...</td>\n",
       "      <td>...</td>\n",
       "    </tr>\n",
       "    <tr>\n",
       "      <th>1224</th>\n",
       "      <td>Niet overgenomen in Revisie</td>\n",
       "      <td>NaN</td>\n",
       "      <td>SBB-42-e</td>\n",
       "      <td>toedelen tot revisie-type, anders H0000</td>\n",
       "    </tr>\n",
       "    <tr>\n",
       "      <th>1226</th>\n",
       "      <td>r46Ab03b</td>\n",
       "      <td>NaN</td>\n",
       "      <td>SBB-43C1l</td>\n",
       "      <td>H9120 mits + H9160A mits + H9160B mits</td>\n",
       "    </tr>\n",
       "    <tr>\n",
       "      <th>1227</th>\n",
       "      <td>r46Ab03b</td>\n",
       "      <td>NaN</td>\n",
       "      <td>SBB-43C1k</td>\n",
       "      <td>H9120 mits + H9160A mits + H9160B mits</td>\n",
       "    </tr>\n",
       "    <tr>\n",
       "      <th>1235</th>\n",
       "      <td>r46RG11</td>\n",
       "      <td>NaN</td>\n",
       "      <td>SBB-43C1j</td>\n",
       "      <td>H9160A mits + H9160B mits</td>\n",
       "    </tr>\n",
       "    <tr>\n",
       "      <th>1237</th>\n",
       "      <td>Niet overgenomen in Revisie</td>\n",
       "      <td>NaN</td>\n",
       "      <td>SBB-43-c</td>\n",
       "      <td>toedelen tot revisie-type, anders H0000</td>\n",
       "    </tr>\n",
       "  </tbody>\n",
       "</table>\n",
       "<p>560 rows × 4 columns</p>\n",
       "</div>"
      ],
      "text/plain": [
       "                             rVvN       VvN   SBB-code  \\\n",
       "33                       r46Ab03a            SBB-43C1d   \n",
       "35                        r38Aa01  (14RG10)   SBB-37B1   \n",
       "36                        r37Ab01  (20RG01)   SBB-20-c   \n",
       "37                       r38Ab01b   (37Ac1)   SBB-37-a   \n",
       "40                        r45Aa03  (42Aa01)   SBB-42A1   \n",
       "...                           ...       ...        ...   \n",
       "1224  Niet overgenomen in Revisie       NaN   SBB-42-e   \n",
       "1226                     r46Ab03b       NaN  SBB-43C1l   \n",
       "1227                     r46Ab03b       NaN  SBB-43C1k   \n",
       "1235                      r46RG11       NaN  SBB-43C1j   \n",
       "1237  Niet overgenomen in Revisie       NaN   SBB-43-c   \n",
       "\n",
       "                                      Habtype  \n",
       "33                  H9160A mits + H9160B mits  \n",
       "35                                 H2160 mits  \n",
       "36                            H2310m + H4030m  \n",
       "37                                 H2160 mits  \n",
       "40                   H2180A mits + H9190 mits  \n",
       "...                                       ...  \n",
       "1224  toedelen tot revisie-type, anders H0000  \n",
       "1226   H9120 mits + H9160A mits + H9160B mits  \n",
       "1227   H9120 mits + H9160A mits + H9160B mits  \n",
       "1235                H9160A mits + H9160B mits  \n",
       "1237  toedelen tot revisie-type, anders H0000  \n",
       "\n",
       "[560 rows x 4 columns]"
      ]
     },
     "execution_count": 108,
     "metadata": {},
     "output_type": "execute_result"
    }
   ],
   "source": [
    "ww[ww['SBB-code'].isin(list(sbb_niet_herkend))]"
   ]
  }
 ],
 "metadata": {
  "kernelspec": {
   "display_name": ".venv",
   "language": "python",
   "name": "python3"
  },
  "language_info": {
   "codemirror_mode": {
    "name": "ipython",
    "version": 3
   },
   "file_extension": ".py",
   "mimetype": "text/x-python",
   "name": "python",
   "nbconvert_exporter": "python",
   "pygments_lexer": "ipython3",
   "version": "3.8.10"
  },
  "orig_nbformat": 4
 },
 "nbformat": 4,
 "nbformat_minor": 2
}
