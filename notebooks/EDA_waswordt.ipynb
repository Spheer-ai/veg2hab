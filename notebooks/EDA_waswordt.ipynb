{
 "cells": [
  {
   "cell_type": "markdown",
   "metadata": {},
   "source": [
    "# Was wordt lijst"
   ]
  },
  {
   "cell_type": "code",
   "execution_count": 313,
   "metadata": {},
   "outputs": [],
   "source": [
    "import pandas as pd\n",
    "import numpy as np"
   ]
  },
  {
   "cell_type": "markdown",
   "metadata": {},
   "source": [
    "## Inladen en opschonen"
   ]
  },
  {
   "cell_type": "code",
   "execution_count": 314,
   "metadata": {},
   "outputs": [
    {
     "name": "stderr",
     "output_type": "stream",
     "text": [
      "/home/jakko/git/veg2hab/.venv/lib/python3.8/site-packages/openpyxl/worksheet/header_footer.py:48: UserWarning: Cannot parse header or footer so it will be ignored\n",
      "  warn(\"\"\"Cannot parse header or footer so it will be ignored\"\"\")\n"
     ]
    }
   ],
   "source": [
    "ww = pd.read_excel(\n",
    "    '../data/5. Was-wordt-lijst-vegetatietypen-en-habitattypen-09-02-2021.xlsx',\n",
    "    dtype=\"string\"\n",
    ")\n",
    "\n",
    "ww = ww[['rVvN','VvN','SBB-code', 'Habitattypen (blauw: geldige aanvulling; rood: voorstel; zie Toelichting)']].rename(\n",
    "    columns={'Habitattypen (blauw: geldige aanvulling; rood: voorstel; zie Toelichting)':'Habtype', 'SBB-code':'SBB'}\n",
    ")"
   ]
  },
  {
   "cell_type": "markdown",
   "metadata": {},
   "source": [
    "### Verwijderen van rijen waarbij zowel VvN en SBB missen"
   ]
  },
  {
   "cell_type": "code",
   "execution_count": 315,
   "metadata": {},
   "outputs": [],
   "source": [
    "ww = ww[~((ww['SBB'].isna() & ww['VvN'].isna()))]"
   ]
  },
  {
   "cell_type": "markdown",
   "metadata": {},
   "source": [
    "### Omzetten van rVvN waardes 'Niet overgenomen in Revisie ....' naar NA"
   ]
  },
  {
   "cell_type": "code",
   "execution_count": 316,
   "metadata": {},
   "outputs": [],
   "source": [
    "mask = ww['rVvN'].str.lower().str.contains(\"niet\")\n",
    "ww.loc[mask, 'rVvN'] = np.nan"
   ]
  },
  {
   "cell_type": "markdown",
   "metadata": {},
   "source": [
    "### Rijen met meerdere VvN codes splitsen"
   ]
  },
  {
   "cell_type": "code",
   "execution_count": 317,
   "metadata": {},
   "outputs": [
    {
     "name": "stdout",
     "output_type": "stream",
     "text": [
      "Vóór ontdubbelen zijn er 1116 rijen\n",
      "Na ontdubbelen zijn er 1132 rijen\n"
     ]
    }
   ],
   "source": [
    "print(\"Vóór ontdubbelen zijn er {} rijen\".format(ww.shape[0]))\n",
    "ww['VvN'] = ww['VvN'].str.split(',')\n",
    "ww = ww.explode('VvN')\n",
    "\n",
    "# Split operation messes up the dtype, do set VvN column back to string dtype\n",
    "ww['VvN'] = ww['VvN'].astype('string')\n",
    "print(\"Na ontdubbelen zijn er {} rijen\".format(ww.shape[0]))"
   ]
  },
  {
   "cell_type": "markdown",
   "metadata": {},
   "source": [
    "### Verwijderen haakjes uit VvN codes"
   ]
  },
  {
   "cell_type": "code",
   "execution_count": 318,
   "metadata": {},
   "outputs": [],
   "source": [
    "ww['VvN'] = ww['VvN'].str.replace(\"[()]\", \"\", regex=True)"
   ]
  },
  {
   "cell_type": "markdown",
   "metadata": {},
   "source": [
    "## Controle volledigheid typologieen"
   ]
  },
  {
   "cell_type": "code",
   "execution_count": 319,
   "metadata": {},
   "outputs": [
    {
     "data": {
      "text/plain": [
       "rVvN       906\n",
       "VvN        829\n",
       "SBB        771\n",
       "Habtype    210\n",
       "dtype: int64"
      ]
     },
     "execution_count": 319,
     "metadata": {},
     "output_type": "execute_result"
    }
   ],
   "source": [
    "ww.nunique()"
   ]
  },
  {
   "cell_type": "code",
   "execution_count": 320,
   "metadata": {},
   "outputs": [
    {
     "data": {
      "text/html": [
       "<div>\n",
       "<style scoped>\n",
       "    .dataframe tbody tr th:only-of-type {\n",
       "        vertical-align: middle;\n",
       "    }\n",
       "\n",
       "    .dataframe tbody tr th {\n",
       "        vertical-align: top;\n",
       "    }\n",
       "\n",
       "    .dataframe thead th {\n",
       "        text-align: right;\n",
       "    }\n",
       "</style>\n",
       "<table border=\"1\" class=\"dataframe\">\n",
       "  <thead>\n",
       "    <tr style=\"text-align: right;\">\n",
       "      <th></th>\n",
       "      <th>rVvN</th>\n",
       "      <th>VvN</th>\n",
       "      <th>SBB</th>\n",
       "      <th>Habtype</th>\n",
       "    </tr>\n",
       "  </thead>\n",
       "  <tbody>\n",
       "    <tr>\n",
       "      <th>34</th>\n",
       "      <td>r38Ab01a</td>\n",
       "      <td>37RG02</td>\n",
       "      <td>&lt;NA&gt;</td>\n",
       "      <td>H2160 mits</td>\n",
       "    </tr>\n",
       "    <tr>\n",
       "      <th>34</th>\n",
       "      <td>r38Ab01a</td>\n",
       "      <td>37RG03</td>\n",
       "      <td>&lt;NA&gt;</td>\n",
       "      <td>H2160 mits</td>\n",
       "    </tr>\n",
       "    <tr>\n",
       "      <th>39</th>\n",
       "      <td>r38Ab01c</td>\n",
       "      <td>37RG03</td>\n",
       "      <td>&lt;NA&gt;</td>\n",
       "      <td>H2160 mits</td>\n",
       "    </tr>\n",
       "    <tr>\n",
       "      <th>41</th>\n",
       "      <td>r45RG07</td>\n",
       "      <td>42Aa01e</td>\n",
       "      <td>&lt;NA&gt;</td>\n",
       "      <td>H2180A mits +H9190 mits (alleen loofbos!)</td>\n",
       "    </tr>\n",
       "    <tr>\n",
       "      <th>42</th>\n",
       "      <td>r45RG08</td>\n",
       "      <td>42Aa01e</td>\n",
       "      <td>&lt;NA&gt;</td>\n",
       "      <td>H2180A mits +H9190 mits (alleen loofbos!)</td>\n",
       "    </tr>\n",
       "    <tr>\n",
       "      <th>46</th>\n",
       "      <td>r45RG01</td>\n",
       "      <td>42RG02</td>\n",
       "      <td>42-d</td>\n",
       "      <td>H2180A mits + H9110m + H9120m + H9190m</td>\n",
       "    </tr>\n",
       "    <tr>\n",
       "      <th>47</th>\n",
       "      <td>r45RG06</td>\n",
       "      <td>42RG02</td>\n",
       "      <td>42-d</td>\n",
       "      <td>H9110 mits + H9120 mits</td>\n",
       "    </tr>\n",
       "    <tr>\n",
       "      <th>416</th>\n",
       "      <td>r14Bb02</td>\n",
       "      <td>14Bb02</td>\n",
       "      <td>14D-d</td>\n",
       "      <td>H2130B mits</td>\n",
       "    </tr>\n",
       "    <tr>\n",
       "      <th>417</th>\n",
       "      <td>r14Bb02</td>\n",
       "      <td>14Bb02</td>\n",
       "      <td>14D-d</td>\n",
       "      <td>H2130B mits + H2330 mits + H6120 mits</td>\n",
       "    </tr>\n",
       "    <tr>\n",
       "      <th>469</th>\n",
       "      <td>r14RG08</td>\n",
       "      <td>14RG11</td>\n",
       "      <td>14-m</td>\n",
       "      <td>H2130A mits + H2130B mits</td>\n",
       "    </tr>\n",
       "    <tr>\n",
       "      <th>470</th>\n",
       "      <td>r14RG08</td>\n",
       "      <td>14RG11</td>\n",
       "      <td>15-d</td>\n",
       "      <td>H2130A mits + H2130B mits</td>\n",
       "    </tr>\n",
       "    <tr>\n",
       "      <th>471</th>\n",
       "      <td>r38Ab02</td>\n",
       "      <td>14RG11</td>\n",
       "      <td>14-m</td>\n",
       "      <td>H2160 mits</td>\n",
       "    </tr>\n",
       "    <tr>\n",
       "      <th>472</th>\n",
       "      <td>r38Ab02</td>\n",
       "      <td>14RG11</td>\n",
       "      <td>15-d</td>\n",
       "      <td>H2160 mits</td>\n",
       "    </tr>\n",
       "    <tr>\n",
       "      <th>476</th>\n",
       "      <td>r16</td>\n",
       "      <td>16A</td>\n",
       "      <td>&lt;NA&gt;</td>\n",
       "      <td>&lt;NA&gt;</td>\n",
       "    </tr>\n",
       "    <tr>\n",
       "      <th>477</th>\n",
       "      <td>r16A</td>\n",
       "      <td>16A</td>\n",
       "      <td>&lt;NA&gt;</td>\n",
       "      <td>&lt;NA&gt;</td>\n",
       "    </tr>\n",
       "    <tr>\n",
       "      <th>562</th>\n",
       "      <td>r10Aa</td>\n",
       "      <td>19Aa</td>\n",
       "      <td>&lt;NA&gt;</td>\n",
       "      <td>&lt;NA&gt;</td>\n",
       "    </tr>\n",
       "    <tr>\n",
       "      <th>563</th>\n",
       "      <td>r19Aa</td>\n",
       "      <td>19Aa</td>\n",
       "      <td>&lt;NA&gt;</td>\n",
       "      <td>&lt;NA&gt;</td>\n",
       "    </tr>\n",
       "    <tr>\n",
       "      <th>864</th>\n",
       "      <td>r38Aa01a</td>\n",
       "      <td>37RG01</td>\n",
       "      <td>&lt;NA&gt;</td>\n",
       "      <td>H2160 mits</td>\n",
       "    </tr>\n",
       "    <tr>\n",
       "      <th>865</th>\n",
       "      <td>r38Aa01b</td>\n",
       "      <td>37RG01</td>\n",
       "      <td>&lt;NA&gt;</td>\n",
       "      <td>H2160 mits</td>\n",
       "    </tr>\n",
       "    <tr>\n",
       "      <th>865</th>\n",
       "      <td>r38Aa01b</td>\n",
       "      <td>37RG02</td>\n",
       "      <td>&lt;NA&gt;</td>\n",
       "      <td>H2160 mits</td>\n",
       "    </tr>\n",
       "    <tr>\n",
       "      <th>1061</th>\n",
       "      <td>r14RG01</td>\n",
       "      <td>&lt;NA&gt;</td>\n",
       "      <td>14-d</td>\n",
       "      <td>H2130B mits + H2330 mits</td>\n",
       "    </tr>\n",
       "    <tr>\n",
       "      <th>1062</th>\n",
       "      <td>r14RG02</td>\n",
       "      <td>&lt;NA&gt;</td>\n",
       "      <td>14-d</td>\n",
       "      <td>H2130B mits + H2330 mits</td>\n",
       "    </tr>\n",
       "    <tr>\n",
       "      <th>1163</th>\n",
       "      <td>r36Aa01a</td>\n",
       "      <td>&lt;NA&gt;</td>\n",
       "      <td>35A1</td>\n",
       "      <td>H9120m</td>\n",
       "    </tr>\n",
       "    <tr>\n",
       "      <th>1164</th>\n",
       "      <td>r36Aa01b</td>\n",
       "      <td>&lt;NA&gt;</td>\n",
       "      <td>35A1</td>\n",
       "      <td>H9120m</td>\n",
       "    </tr>\n",
       "    <tr>\n",
       "      <th>1179</th>\n",
       "      <td>r38Aa01</td>\n",
       "      <td>&lt;NA&gt;</td>\n",
       "      <td>37B-c</td>\n",
       "      <td>H2160 mits</td>\n",
       "    </tr>\n",
       "    <tr>\n",
       "      <th>1180</th>\n",
       "      <td>r38Aa01</td>\n",
       "      <td>&lt;NA&gt;</td>\n",
       "      <td>37B-d</td>\n",
       "      <td>H2160 mits</td>\n",
       "    </tr>\n",
       "    <tr>\n",
       "      <th>1181</th>\n",
       "      <td>r38Aa01</td>\n",
       "      <td>&lt;NA&gt;</td>\n",
       "      <td>37B-e</td>\n",
       "      <td>H2160 mits</td>\n",
       "    </tr>\n",
       "    <tr>\n",
       "      <th>1186</th>\n",
       "      <td>r38Ab01</td>\n",
       "      <td>&lt;NA&gt;</td>\n",
       "      <td>37B-c</td>\n",
       "      <td>H2160 mits</td>\n",
       "    </tr>\n",
       "    <tr>\n",
       "      <th>1187</th>\n",
       "      <td>r38Ab01</td>\n",
       "      <td>&lt;NA&gt;</td>\n",
       "      <td>37B-d</td>\n",
       "      <td>H2160 mits</td>\n",
       "    </tr>\n",
       "    <tr>\n",
       "      <th>1188</th>\n",
       "      <td>r38Ab01</td>\n",
       "      <td>&lt;NA&gt;</td>\n",
       "      <td>37B-e</td>\n",
       "      <td>H2160 mits</td>\n",
       "    </tr>\n",
       "    <tr>\n",
       "      <th>1228</th>\n",
       "      <td>r46RG03</td>\n",
       "      <td>&lt;NA&gt;</td>\n",
       "      <td>43-g</td>\n",
       "      <td>H0000 ? H91F0(matig) mits</td>\n",
       "    </tr>\n",
       "    <tr>\n",
       "      <th>1230</th>\n",
       "      <td>r46RG06</td>\n",
       "      <td>&lt;NA&gt;</td>\n",
       "      <td>43-g</td>\n",
       "      <td>H0000 H91E0A ?</td>\n",
       "    </tr>\n",
       "  </tbody>\n",
       "</table>\n",
       "</div>"
      ],
      "text/plain": [
       "          rVvN      VvN    SBB                                    Habtype\n",
       "34    r38Ab01a   37RG02   <NA>                                 H2160 mits\n",
       "34    r38Ab01a   37RG03   <NA>                                 H2160 mits\n",
       "39    r38Ab01c   37RG03   <NA>                                 H2160 mits\n",
       "41     r45RG07  42Aa01e   <NA>  H2180A mits +H9190 mits (alleen loofbos!)\n",
       "42     r45RG08  42Aa01e   <NA>  H2180A mits +H9190 mits (alleen loofbos!)\n",
       "46     r45RG01   42RG02   42-d    H2180A mits + H9110m + H9120m + H9190m \n",
       "47     r45RG06   42RG02   42-d                    H9110 mits + H9120 mits\n",
       "416    r14Bb02   14Bb02  14D-d                                H2130B mits\n",
       "417    r14Bb02   14Bb02  14D-d      H2130B mits + H2330 mits + H6120 mits\n",
       "469    r14RG08   14RG11   14-m                  H2130A mits + H2130B mits\n",
       "470    r14RG08   14RG11   15-d                  H2130A mits + H2130B mits\n",
       "471    r38Ab02   14RG11   14-m                                 H2160 mits\n",
       "472    r38Ab02   14RG11   15-d                                 H2160 mits\n",
       "476        r16      16A   <NA>                                       <NA>\n",
       "477       r16A      16A   <NA>                                       <NA>\n",
       "562      r10Aa     19Aa   <NA>                                       <NA>\n",
       "563      r19Aa     19Aa   <NA>                                       <NA>\n",
       "864   r38Aa01a   37RG01   <NA>                                 H2160 mits\n",
       "865   r38Aa01b   37RG01   <NA>                                 H2160 mits\n",
       "865   r38Aa01b   37RG02   <NA>                                 H2160 mits\n",
       "1061   r14RG01     <NA>   14-d                   H2130B mits + H2330 mits\n",
       "1062   r14RG02     <NA>   14-d                   H2130B mits + H2330 mits\n",
       "1163  r36Aa01a     <NA>   35A1                                     H9120m\n",
       "1164  r36Aa01b     <NA>   35A1                                     H9120m\n",
       "1179   r38Aa01     <NA>  37B-c                                 H2160 mits\n",
       "1180   r38Aa01     <NA>  37B-d                                 H2160 mits\n",
       "1181   r38Aa01     <NA>  37B-e                                 H2160 mits\n",
       "1186   r38Ab01     <NA>  37B-c                                 H2160 mits\n",
       "1187   r38Ab01     <NA>  37B-d                                 H2160 mits\n",
       "1188   r38Ab01     <NA>  37B-e                                 H2160 mits\n",
       "1228   r46RG03     <NA>   43-g                  H0000 ? H91F0(matig) mits\n",
       "1230   r46RG06     <NA>   43-g                             H0000 H91E0A ?"
      ]
     },
     "execution_count": 320,
     "metadata": {},
     "output_type": "execute_result"
    }
   ],
   "source": [
    "ww[ww[['VvN', 'SBB']].duplicated(keep=False)]"
   ]
  },
  {
   "cell_type": "code",
   "execution_count": 321,
   "metadata": {},
   "outputs": [
    {
     "data": {
      "text/plain": [
       "rVvN        22\n",
       "VvN        129\n",
       "SBB        229\n",
       "Habtype    183\n",
       "dtype: int64"
      ]
     },
     "execution_count": 321,
     "metadata": {},
     "output_type": "execute_result"
    }
   ],
   "source": [
    "ww.isna().sum()"
   ]
  },
  {
   "cell_type": "code",
   "execution_count": 322,
   "metadata": {},
   "outputs": [
    {
     "data": {
      "text/plain": [
       "rVvN         0\n",
       "VvN        108\n",
       "SBB        229\n",
       "Habtype    183\n",
       "dtype: int64"
      ]
     },
     "execution_count": 322,
     "metadata": {},
     "output_type": "execute_result"
    }
   ],
   "source": [
    "# Rijen met een waarde voor rVvN hebben NIET altijd een waarde voor VvN of SBB\n",
    "ww[~ww['rVvN'].isna()].isna().sum()"
   ]
  },
  {
   "cell_type": "code",
   "execution_count": 323,
   "metadata": {},
   "outputs": [
    {
     "data": {
      "text/plain": [
       "rVvN         1\n",
       "VvN          0\n",
       "SBB        229\n",
       "Habtype    183\n",
       "dtype: int64"
      ]
     },
     "execution_count": 323,
     "metadata": {},
     "output_type": "execute_result"
    }
   ],
   "source": [
    "# Rijen met een waarde voor VvN hebben WEL altijd een waarde voor rVvN, maar niet voor SBB\n",
    "ww[~ww['VvN'].isna()].isna().sum()"
   ]
  },
  {
   "cell_type": "code",
   "execution_count": 324,
   "metadata": {},
   "outputs": [
    {
     "data": {
      "text/plain": [
       "rVvN        22\n",
       "VvN        129\n",
       "SBB          0\n",
       "Habtype      0\n",
       "dtype: int64"
      ]
     },
     "execution_count": 324,
     "metadata": {},
     "output_type": "execute_result"
    }
   ],
   "source": [
    "# Rijen met een waarde voor SBB-code hebben WEL (bijna) altijd een waarde voor rVvN, maar niet voor VvN\n",
    "ww[~ww['SBB'].isna()].isna().sum()"
   ]
  },
  {
   "cell_type": "code",
   "execution_count": 325,
   "metadata": {},
   "outputs": [
    {
     "data": {
      "text/html": [
       "<div>\n",
       "<style scoped>\n",
       "    .dataframe tbody tr th:only-of-type {\n",
       "        vertical-align: middle;\n",
       "    }\n",
       "\n",
       "    .dataframe tbody tr th {\n",
       "        vertical-align: top;\n",
       "    }\n",
       "\n",
       "    .dataframe thead th {\n",
       "        text-align: right;\n",
       "    }\n",
       "</style>\n",
       "<table border=\"1\" class=\"dataframe\">\n",
       "  <thead>\n",
       "    <tr style=\"text-align: right;\">\n",
       "      <th></th>\n",
       "      <th>rVvN</th>\n",
       "      <th>VvN</th>\n",
       "      <th>SBB</th>\n",
       "      <th>Habtype</th>\n",
       "    </tr>\n",
       "  </thead>\n",
       "  <tbody>\n",
       "    <tr>\n",
       "      <th>468</th>\n",
       "      <td>&lt;NA&gt;</td>\n",
       "      <td>14RG10</td>\n",
       "      <td>14-l</td>\n",
       "      <td>H2130Am mits + H2130Bm mits Toedelen tot revis...</td>\n",
       "    </tr>\n",
       "    <tr>\n",
       "      <th>1006</th>\n",
       "      <td>&lt;NA&gt;</td>\n",
       "      <td>&lt;NA&gt;</td>\n",
       "      <td>07-a</td>\n",
       "      <td>Toedelen tot revisie-type, anders H0000</td>\n",
       "    </tr>\n",
       "    <tr>\n",
       "      <th>1019</th>\n",
       "      <td>&lt;NA&gt;</td>\n",
       "      <td>&lt;NA&gt;</td>\n",
       "      <td>08B-b</td>\n",
       "      <td>Toedelen tot revisie-type, anders H0000</td>\n",
       "    </tr>\n",
       "    <tr>\n",
       "      <th>1050</th>\n",
       "      <td>&lt;NA&gt;</td>\n",
       "      <td>&lt;NA&gt;</td>\n",
       "      <td>11/c</td>\n",
       "      <td>Toedelen tot revisie-type, anders H9999 H7110A</td>\n",
       "    </tr>\n",
       "    <tr>\n",
       "      <th>1051</th>\n",
       "      <td>&lt;NA&gt;</td>\n",
       "      <td>&lt;NA&gt;</td>\n",
       "      <td>11A-b</td>\n",
       "      <td>meerekenen met vegetatieloos (incl. algenmatte...</td>\n",
       "    </tr>\n",
       "    <tr>\n",
       "      <th>1072</th>\n",
       "      <td>&lt;NA&gt;</td>\n",
       "      <td>&lt;NA&gt;</td>\n",
       "      <td>14/f</td>\n",
       "      <td>Toedelen tot revisie-type, anders H9999</td>\n",
       "    </tr>\n",
       "    <tr>\n",
       "      <th>1073</th>\n",
       "      <td>&lt;NA&gt;</td>\n",
       "      <td>&lt;NA&gt;</td>\n",
       "      <td>14-m</td>\n",
       "      <td>Toedelen tot revisie-type van klasse 14</td>\n",
       "    </tr>\n",
       "    <tr>\n",
       "      <th>1074</th>\n",
       "      <td>&lt;NA&gt;</td>\n",
       "      <td>&lt;NA&gt;</td>\n",
       "      <td>15-d</td>\n",
       "      <td>Toedelen tot revisie-type van klasse 14</td>\n",
       "    </tr>\n",
       "    <tr>\n",
       "      <th>1117</th>\n",
       "      <td>&lt;NA&gt;</td>\n",
       "      <td>&lt;NA&gt;</td>\n",
       "      <td>19-f</td>\n",
       "      <td>toedelen tot revisie-type, anders H9999</td>\n",
       "    </tr>\n",
       "    <tr>\n",
       "      <th>1118</th>\n",
       "      <td>&lt;NA&gt;</td>\n",
       "      <td>&lt;NA&gt;</td>\n",
       "      <td>19-h</td>\n",
       "      <td>toedelen tot revisie-type, anders H0000</td>\n",
       "    </tr>\n",
       "    <tr>\n",
       "      <th>1119</th>\n",
       "      <td>&lt;NA&gt;</td>\n",
       "      <td>&lt;NA&gt;</td>\n",
       "      <td>20A1c</td>\n",
       "      <td>toedelen tot revisie-type</td>\n",
       "    </tr>\n",
       "    <tr>\n",
       "      <th>1157</th>\n",
       "      <td>&lt;NA&gt;</td>\n",
       "      <td>&lt;NA&gt;</td>\n",
       "      <td>33A7</td>\n",
       "      <td>H6430C mits</td>\n",
       "    </tr>\n",
       "    <tr>\n",
       "      <th>1192</th>\n",
       "      <td>&lt;NA&gt;</td>\n",
       "      <td>&lt;NA&gt;</td>\n",
       "      <td>14/a</td>\n",
       "      <td>H0000</td>\n",
       "    </tr>\n",
       "    <tr>\n",
       "      <th>1193</th>\n",
       "      <td>&lt;NA&gt;</td>\n",
       "      <td>&lt;NA&gt;</td>\n",
       "      <td>16/f</td>\n",
       "      <td>H0000</td>\n",
       "    </tr>\n",
       "    <tr>\n",
       "      <th>1211</th>\n",
       "      <td>&lt;NA&gt;</td>\n",
       "      <td>&lt;NA&gt;</td>\n",
       "      <td>37-a</td>\n",
       "      <td>H0000</td>\n",
       "    </tr>\n",
       "    <tr>\n",
       "      <th>1213</th>\n",
       "      <td>&lt;NA&gt;</td>\n",
       "      <td>&lt;NA&gt;</td>\n",
       "      <td>40A-d</td>\n",
       "      <td>toedelen tot revisie-type, anders H9999</td>\n",
       "    </tr>\n",
       "    <tr>\n",
       "      <th>1216</th>\n",
       "      <td>&lt;NA&gt;</td>\n",
       "      <td>&lt;NA&gt;</td>\n",
       "      <td>41A3d</td>\n",
       "      <td>H0000</td>\n",
       "    </tr>\n",
       "    <tr>\n",
       "      <th>1218</th>\n",
       "      <td>&lt;NA&gt;</td>\n",
       "      <td>&lt;NA&gt;</td>\n",
       "      <td>41A/b</td>\n",
       "      <td>H0000</td>\n",
       "    </tr>\n",
       "    <tr>\n",
       "      <th>1224</th>\n",
       "      <td>&lt;NA&gt;</td>\n",
       "      <td>&lt;NA&gt;</td>\n",
       "      <td>42-e</td>\n",
       "      <td>toedelen tot revisie-type, anders H0000</td>\n",
       "    </tr>\n",
       "    <tr>\n",
       "      <th>1237</th>\n",
       "      <td>&lt;NA&gt;</td>\n",
       "      <td>&lt;NA&gt;</td>\n",
       "      <td>43-c</td>\n",
       "      <td>toedelen tot revisie-type, anders H0000</td>\n",
       "    </tr>\n",
       "    <tr>\n",
       "      <th>1238</th>\n",
       "      <td>&lt;NA&gt;</td>\n",
       "      <td>&lt;NA&gt;</td>\n",
       "      <td>43-e</td>\n",
       "      <td>toedelen tot revisie-type, anders H0000</td>\n",
       "    </tr>\n",
       "    <tr>\n",
       "      <th>1239</th>\n",
       "      <td>&lt;NA&gt;</td>\n",
       "      <td>&lt;NA&gt;</td>\n",
       "      <td>43-f</td>\n",
       "      <td>toedelen tot revisie-type, anders H0000</td>\n",
       "    </tr>\n",
       "  </tbody>\n",
       "</table>\n",
       "</div>"
      ],
      "text/plain": [
       "      rVvN      VvN    SBB                                            Habtype\n",
       "468   <NA>  14RG10    14-l  H2130Am mits + H2130Bm mits Toedelen tot revis...\n",
       "1006  <NA>     <NA>   07-a            Toedelen tot revisie-type, anders H0000\n",
       "1019  <NA>     <NA>  08B-b            Toedelen tot revisie-type, anders H0000\n",
       "1050  <NA>     <NA>   11/c     Toedelen tot revisie-type, anders H9999 H7110A\n",
       "1051  <NA>     <NA>  11A-b  meerekenen met vegetatieloos (incl. algenmatte...\n",
       "1072  <NA>     <NA>   14/f            Toedelen tot revisie-type, anders H9999\n",
       "1073  <NA>     <NA>   14-m            Toedelen tot revisie-type van klasse 14\n",
       "1074  <NA>     <NA>   15-d            Toedelen tot revisie-type van klasse 14\n",
       "1117  <NA>     <NA>   19-f            toedelen tot revisie-type, anders H9999\n",
       "1118  <NA>     <NA>   19-h            toedelen tot revisie-type, anders H0000\n",
       "1119  <NA>     <NA>  20A1c                          toedelen tot revisie-type\n",
       "1157  <NA>     <NA>   33A7                                        H6430C mits\n",
       "1192  <NA>     <NA>   14/a                                              H0000\n",
       "1193  <NA>     <NA>   16/f                                              H0000\n",
       "1211  <NA>     <NA>   37-a                                              H0000\n",
       "1213  <NA>     <NA>  40A-d            toedelen tot revisie-type, anders H9999\n",
       "1216  <NA>     <NA>  41A3d                                              H0000\n",
       "1218  <NA>     <NA>  41A/b                                              H0000\n",
       "1224  <NA>     <NA>   42-e            toedelen tot revisie-type, anders H0000\n",
       "1237  <NA>     <NA>   43-c            toedelen tot revisie-type, anders H0000\n",
       "1238  <NA>     <NA>   43-e            toedelen tot revisie-type, anders H0000\n",
       "1239  <NA>     <NA>   43-f            toedelen tot revisie-type, anders H0000"
      ]
     },
     "execution_count": 325,
     "metadata": {},
     "output_type": "execute_result"
    }
   ],
   "source": [
    "ww[~ww['SBB'].isna() & ww['rVvN'].isna()]"
   ]
  },
  {
   "cell_type": "markdown",
   "metadata": {},
   "source": [
    "### Exporteren opgeschoonde WasWordt tabel"
   ]
  },
  {
   "cell_type": "code",
   "execution_count": 326,
   "metadata": {},
   "outputs": [],
   "source": [
    "ww.to_excel('../data/ww_split.xlsx', index=False, header=True)"
   ]
  },
  {
   "cell_type": "markdown",
   "metadata": {},
   "source": [
    "## SBB naar VvN vertalen\n",
    "\n",
    "**Vraag:** Is er een 1-op-1 of veel-op-1 relatie tussen SBB en VvN?\n",
    "\n",
    "**Antwoord:** Nee, maar wel bij benadering."
   ]
  },
  {
   "cell_type": "code",
   "execution_count": 327,
   "metadata": {},
   "outputs": [
    {
     "data": {
      "text/plain": [
       "VvN\n",
       "1    606\n",
       "0    111\n",
       "3     24\n",
       "2     16\n",
       "4     11\n",
       "5      2\n",
       "6      1\n",
       "Name: count, dtype: int64"
      ]
     },
     "execution_count": 327,
     "metadata": {},
     "output_type": "execute_result"
    }
   ],
   "source": [
    "number_of_VvN_per_SBB = ww.groupby('SBB')['VvN'].nunique()\n",
    "number_of_VvN_per_SBB.value_counts()"
   ]
  },
  {
   "cell_type": "code",
   "execution_count": 328,
   "metadata": {},
   "outputs": [],
   "source": [
    "sbb_with_multiple_vvn = number_of_VvN_per_SBB[number_of_VvN_per_SBB > 1].index.to_list()"
   ]
  },
  {
   "cell_type": "code",
   "execution_count": 329,
   "metadata": {},
   "outputs": [
    {
     "data": {
      "text/plain": [
       "Habtype\n",
       "1    749\n",
       "2     15\n",
       "3      7\n",
       "Name: count, dtype: int64"
      ]
     },
     "execution_count": 329,
     "metadata": {},
     "output_type": "execute_result"
    }
   ],
   "source": [
    "number_of_Habs_per_SBB = ww.groupby('SBB')['Habtype'].nunique()\n",
    "number_of_Habs_per_SBB.value_counts()"
   ]
  },
  {
   "cell_type": "code",
   "execution_count": 330,
   "metadata": {},
   "outputs": [],
   "source": [
    "sbb_with_multiple_habs = number_of_Habs_per_SBB[number_of_Habs_per_SBB > 1].index.to_list()"
   ]
  },
  {
   "cell_type": "markdown",
   "metadata": {},
   "source": [
    "Er zijn redelijk wat SBB typen die vertalen naar meer dan één VvN, maar meestal gaat het dan om subassociaties in VvN die vertalen naar hetzelfde habittype:"
   ]
  },
  {
   "cell_type": "code",
   "execution_count": 336,
   "metadata": {},
   "outputs": [
    {
     "data": {
      "text/plain": [
       "{'01A1',\n",
       " '01A2',\n",
       " '01B1a',\n",
       " '07A-a',\n",
       " '08B1',\n",
       " '09-h',\n",
       " '10A2',\n",
       " '11-e',\n",
       " '11B2',\n",
       " '14B1d',\n",
       " '16-f',\n",
       " '16C1a',\n",
       " '20A1e',\n",
       " '27A1',\n",
       " '28A1',\n",
       " '28A2',\n",
       " '28A3',\n",
       " '29A2',\n",
       " '30A1',\n",
       " '30B1',\n",
       " '30C1',\n",
       " '30C2',\n",
       " '30D1',\n",
       " '30D2',\n",
       " '31A2',\n",
       " '31B2',\n",
       " '31B3',\n",
       " '31C1',\n",
       " '31D1',\n",
       " '32A1',\n",
       " '32B2',\n",
       " '33A3',\n",
       " '33A4',\n",
       " '33A5',\n",
       " '34A1',\n",
       " '36A-b',\n",
       " '37-d',\n",
       " '37B1',\n",
       " '40A-b',\n",
       " '41A/a',\n",
       " '42A/a',\n",
       " '43B-c'}"
      ]
     },
     "execution_count": 336,
     "metadata": {},
     "output_type": "execute_result"
    }
   ],
   "source": [
    "set(sbb_with_multiple_vvn) - set(sbb_with_multiple_habs)"
   ]
  },
  {
   "cell_type": "markdown",
   "metadata": {},
   "source": [
    "Slechts voor een paar SBB codes zijn er echt verschillende VvN codes, die vertalen naar verschillende habitattypen:"
   ]
  },
  {
   "cell_type": "code",
   "execution_count": 331,
   "metadata": {},
   "outputs": [
    {
     "data": {
      "text/plain": [
       "{'09B2a',\n",
       " '11-h',\n",
       " '11-j',\n",
       " '12B-c',\n",
       " '14-c',\n",
       " '14D-d',\n",
       " '16C-l',\n",
       " '17A1',\n",
       " '27A2',\n",
       " '29A3',\n",
       " '31B1',\n",
       " '42-d'}"
      ]
     },
     "execution_count": 331,
     "metadata": {},
     "output_type": "execute_result"
    }
   ],
   "source": [
    "set(sbb_with_multiple_habs).intersection(sbb_with_multiple_vvn)"
   ]
  },
  {
   "cell_type": "markdown",
   "metadata": {},
   "source": [
    "Bovenstaande SBB codes geinspecteerd. Er zijn in ieder geval de volgende dingen aan de hand:\n",
    "\n",
    "- Een SBB code vertaalt naar verschillende VvN vegetaties met minstens een andere associatie (en daarmee andere habitattypen)\n",
    "  - 09B2a vertaalt naar `09Aa03b` of `10Ab01`\n",
    "  - 11-h vertaalt naar `09Aa02` en `11Aa02a`\n",
    "  - 11-j vertaalt naar `11Aa01` en `11Aa02`\n",
    "  - 12B-c vertaalt naar `12Ba01` en `12Ba02`\n",
    "  - 14-c vertaalt naar `14Aa01` en `14Aa02`\n",
    "  - 14D-d vertaalt naar `14Bb01`, `14Bb02` en `14RG06`\n",
    "  - 16C-l vertaalt naar `16Bb01`, `16Bc01` en `16Bc02`\n",
    "  - 42-d vertaalt naar `42RG02` en `41DG02`\n",
    "- Een SBB code vertaalt naar meerdere subassociaties in VvN, met verschillende habitatcodes\n",
    "  - 17A1 vertaalt naar `17Aa01` en subassociaties\n",
    "  - 27A2 vertaalt naar `27Aa02` en subassociaties\n",
    "  - 29A3 vertaalt naar `29Aa03` en subassociaties\n",
    "  - 31B1 vertaalt naar `31Ab01` en subassociaties"
   ]
  }
 ],
 "metadata": {
  "kernelspec": {
   "display_name": ".venv",
   "language": "python",
   "name": "python3"
  },
  "language_info": {
   "codemirror_mode": {
    "name": "ipython",
    "version": 3
   },
   "file_extension": ".py",
   "mimetype": "text/x-python",
   "name": "python",
   "nbconvert_exporter": "python",
   "pygments_lexer": "ipython3",
   "version": "3.8.10"
  },
  "orig_nbformat": 4
 },
 "nbformat": 4,
 "nbformat_minor": 2
}
