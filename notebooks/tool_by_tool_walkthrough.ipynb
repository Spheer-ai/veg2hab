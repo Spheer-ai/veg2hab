{
  "cells": [
    {
      "cell_type": "markdown",
      "metadata": {},
      "source": [
        "## Tool by tool walkthrough\n",
        "\n",
        "A step by step runthrough of the separate veg2hab tools"
      ]
    },
    {
      "cell_type": "code",
      "execution_count": null,
      "metadata": {},
      "outputs": [],
      "source": [
        "from veg2hab.main import run\n",
        "from veg2hab.io.common import (\n",
        "    AccessDBInputs,\n",
        "    StackVegKarteringInputs,\n",
        "    ApplyDefTabelInputs,\n",
        "    ApplyMozaiekInputs,\n",
        "    ApplyFunctioneleSamenhangInputs,\n",
        ")\n",
        "from veg2hab.io.cli import CLIInterface\n",
        "from veg2hab.enums import WelkeTypologie\n",
        "\n",
        "import geopandas as gpd\n",
        "\n",
        "CLIInterface.get_instance()"
      ]
    },
    {
      "cell_type": "code",
      "execution_count": null,
      "metadata": {},
      "outputs": [],
      "source": [
        "step_1 = AccessDBInputs(\n",
        "    shapefile=\"../testing/vegetatiekarteringen/FR/Rottige_Meenthe_Brandemeer/Rottige_Meenthe_Brandemeer_2013/vlakken.shp\",\n",
        "    elmid_col=\"ElmID\",\n",
        "    access_mdb_path=\"../testing/vegetatiekarteringen/FR/Rottige_Meenthe_Brandemeer/Rottige_Meenthe_Brandemeer_2013/864_RottigeMeenthe2013.mdb\",\n",
        "    welke_typologie=\"SBB\",\n",
        "    output=\"../data/notebook_data/tool_by_tool/1.gpkg\",\n",
        ")\n",
        "\n",
        "step_3 = ApplyDefTabelInputs(\n",
        "    shapefile=str(step_1.output),\n",
        "    output=\"../data/notebook_data/tool_by_tool/3.gpkg\"\n",
        ")\n",
        "\n",
        "step_4 = ApplyMozaiekInputs(\n",
        "    shapefile=str(step_3.output),\n",
        "    output=\"../data/notebook_data/tool_by_tool/4.gpkg\"\n",
        ")\n",
        "\n",
        "step_5 = ApplyFunctioneleSamenhangInputs(\n",
        "    shapefile=str(step_4.output),\n",
        "    output=\"../data/notebook_data/tool_by_tool/5.gpkg\"\n",
        ")"
      ]
    },
    {
      "cell_type": "markdown",
      "metadata": {},
      "source": [
        "## No changes run"
      ]
    },
    {
      "cell_type": "code",
      "execution_count": null,
      "metadata": {},
      "outputs": [],
      "source": [
        "print(\"Starting step 1\")\n",
        "run(step_1)\n",
        "print(\"Starting step 3\")\n",
        "run(step_3)\n",
        "print(\"Starting step 4\")\n",
        "run(step_4)\n",
        "print(\"Starting step 5\")\n",
        "run(step_5)\n",
        "gpd.read_file(step_5.output).head()"
      ]
    },
    {
      "cell_type": "markdown",
      "metadata": {},
      "source": [
        "## With changes run"
      ]
    },
    {
      "cell_type": "code",
      "execution_count": null,
      "metadata": {},
      "outputs": [],
      "source": [
        "print(\"----- Starting step 1 -----\")\n",
        "run(step_1)\n",
        "gdf = gpd.read_file(step_1.output)\n",
        "# Verkleinen voor speeeeeed\n",
        "gdf = gdf.head(10)\n",
        "g1 = gdf.copy()\n",
        "gdf.loc[0, \"EDIT_SBB2\"] = \"1a1a\"\n",
        "gdf.loc[0, \"EDIT_VvN2\"] = \"1aa1a\"\n",
        "g1post = gdf.copy()\n",
        "gdf.to_file(step_1.output, driver=\"GPKG\", layer=\"main\")\n",
        "print(\"----- Starting step 3 -----\")\n",
        "run(step_3)\n",
        "gdf = gpd.read_file(step_3.output)\n",
        "g3 = gdf.copy()\n",
        "gdf.loc[0, \"EDIT_Habtype2\"] = \"H1234\"\n",
        "gdf.loc[0, \"EDIT_Kwal2\"] = \"M\"\n",
        "g3post = gdf.copy()\n",
        "gdf.to_file(step_3.output, driver=\"GPKG\", layer=\"main\")\n",
        "print(\"----- Starting step 4 -----\")\n",
        "run(step_4)\n",
        "gdf = gpd.read_file(step_4.output)\n",
        "g4 = gdf.copy()\n",
        "gdf.loc[1, \"EDIT_Habtype1\"] = \"H4321\"\n",
        "gdf.loc[1, \"EDIT_Kwal1\"] = \"G\"\n",
        "g4post = gdf.copy()\n",
        "gdf.to_file(step_4.output, driver=\"GPKG\", layer=\"main\")\n",
        "print(\"----- Starting step 5 -----\")\n",
        "run(step_5)\n",
        "done = gpd.read_file(step_5.output)\n",
        "print(done.iloc[0][[\"SBB1\", \"VvN1\", \"Perc1\", \"Habtype1\", \"SBB2\", \"VvN2\", \"Perc2\", \"Habtype2\"]])\n",
        "print(done.iloc[1][[\"SBB1\", \"VvN1\", \"Perc1\", \"Habtype1\"]])\n",
        "done.head()"
      ]
    },
    {
      "cell_type": "markdown",
      "metadata": {},
      "source": [
        "## Doing illegal things"
      ]
    },
    {
      "cell_type": "code",
      "execution_count": null,
      "metadata": {},
      "outputs": [],
      "source": [
        "print(\"----- Starting step 1 -----\")\n",
        "run(step_1)\n",
        "gdf = gpd.read_file(step_1.output)\n",
        "# Verkleinen voor speeeeeed\n",
        "gdf = gdf.head(10)\n",
        "gdf.loc[0, \"EDIT_SBB3\"] = \"1a1a\"\n",
        "gdf.loc[0, \"EDIT_VvN3\"] = \"1aa1a\"\n",
        "gdf.loc[0, \"EDIT_perc3\"] = \"10\"\n",
        "\n",
        "gdf.loc[1, \"EDIT_SBB2\"] = \"1a1a\"\n",
        "gdf.loc[1, \"EDIT_VvN2\"] = \"1aa1a\"\n",
        "gdf.loc[1, \"EDIT_perc2\"] = \"10\"\n",
        "gdf.to_file(step_1.output, driver=\"GPKG\", layer=\"main\")\n",
        "print(\"----- Starting step 3 -----\")\n",
        "run(step_3)\n",
        "gdf = gpd.read_file(step_3.output)\n",
        "gdf.loc[0, \"EDIT_Habtype3\"] = \"H1234\"\n",
        "gdf.loc[0, \"EDIT_Kwal3\"] = \"M\"\n",
        "gdf.to_file(step_3.output, driver=\"GPKG\", layer=\"main\")\n",
        "print(\"----- Starting step 4 -----\")\n",
        "run(step_4)\n",
        "gdf = gpd.read_file(step_4.output)\n",
        "gdf.loc[1, \"EDIT_Habtype2\"] = \"H4321\"\n",
        "gdf.loc[1, \"EDIT_Kwal2\"] = \"G\"\n",
        "gdf.loc[1, \"EDIT_Habtype4\"] = \"H4321\"\n",
        "gdf.loc[1, \"EDIT_Kwal4\"] = \"G\"\n",
        "gdf.to_file(step_4.output, driver=\"GPKG\", layer=\"main\")\n",
        "print(\"----- Starting step 5 -----\")\n",
        "run(step_5)\n",
        "done = gpd.read_file(step_5.output)\n",
        "print(done.iloc[0].SBB3)\n",
        "print(done.iloc[0].Habtype3)\n",
        "print(done.iloc[1].Habtype2)\n",
        "done.head()"
      ]
    },
    {
      "cell_type": "markdown",
      "metadata": {},
      "source": [
        "### Demo step 2 combineer karteringen"
      ]
    },
    {
      "cell_type": "code",
      "execution_count": null,
      "metadata": {},
      "outputs": [],
      "source": [
        "from veg2hab.enums import WelkeTypologie\n",
        "from veg2hab.vegkartering import Kartering\n",
        "from pathlib import Path\n",
        "\n",
        "kart1 = Kartering.from_access_db(\n",
        "    shape_path=Path(\n",
        "        \"../testing/vegetatiekarteringen/DR/NM_Fochteloerveen2013_14/NM_Fochteloerveen2013_14.shp\"\n",
        "    ),\n",
        "    shape_elm_id_column=\"ElmID\",\n",
        "    access_mdb_path=Path(\n",
        "        \"../testing/vegetatiekarteringen/DR/NM_Fochteloerveen2013_14/digitale standaard/Fochteloerveen2013-2014.mdb\"\n",
        "    ),\n",
        "    welke_typologie=WelkeTypologie.SBB,\n",
        ")\n",
        "\n",
        "kart2 = Kartering.from_access_db(\n",
        "    shape_path=Path(\n",
        "        \"../testing/vegetatiekarteringen/DR/NM_SBB_Fochteloerveen_randen2016/NM_SBB_Fochteloerveen_randen2016.shp\"\n",
        "    ),\n",
        "    shape_elm_id_column=\"ELMID\",\n",
        "    access_mdb_path=Path(\n",
        "        \"../testing/vegetatiekarteringen/DR/NM_SBB_Fochteloerveen_randen2016/fochteloo2016.mdb\"\n",
        "    ),\n",
        "    welke_typologie=WelkeTypologie.SBB,\n",
        ")\n",
        "\n",
        "# checking_polygon ligt volledig binnen het te overschrijven deel van kart1\n",
        "checking_polygon = kart1.gdf[kart1.gdf[\"ElmID\"] == 6001][[\"geometry\"]]\n",
        "\n",
        "# Het heeft 5 intersections met z'n eigen kartering (kart1)\n",
        "assert len(checking_polygon.sjoin(kart1.gdf, how=\"inner\", predicate=\"intersects\")) == 5\n",
        "intersects_kart1 = checking_polygon.sjoin(\n",
        "    kart1.gdf, how=\"inner\", predicate=\"intersects\"\n",
        ").copy()\n",
        "\n",
        "# En 6 met kart2\n",
        "assert len(checking_polygon.sjoin(kart2.gdf, how=\"inner\", predicate=\"intersects\")) == 6\n",
        "intersects_kart2 = checking_polygon.sjoin(\n",
        "    kart2.gdf, how=\"inner\", predicate=\"intersects\"\n",
        ").copy()\n",
        "\n",
        "gecombineerd = Kartering.combineer_karteringen([kart1, kart2])\n",
        "\n",
        "# En na het combineren heeft het er 6 (want kart2 heeft kart1 overschreven op en rond de locatie van checking_polygon)\n",
        "assert (\n",
        "    len(checking_polygon.sjoin(gecombineerd.gdf, how=\"inner\", predicate=\"intersects\"))\n",
        "    == 6\n",
        ")\n",
        "\n",
        "# Het heeft andere intersects nu dan het had met kart1 (we checken voor Area/VegTypeInfo want ElmID is veranderd)\n",
        "assert not checking_polygon.sjoin(\n",
        "    gecombineerd.gdf, how=\"inner\", predicate=\"intersects\"\n",
        ")[[\"Area\", \"VegTypeInfo\"]].equals(intersects_kart1[[\"Area\", \"VegTypeInfo\"]])\n",
        "\n",
        "# En het heeft dezelfde intersects dan het had met kart2 (we checken voor Area/VegTypeInfo want ElmID is veranderd)\n",
        "assert checking_polygon.sjoin(gecombineerd.gdf, how=\"inner\", predicate=\"intersects\")[\n",
        "    [\"Area\", \"VegTypeInfo\"]\n",
        "].equals(intersects_kart2[[\"Area\", \"VegTypeInfo\"]])\n",
        "\n",
        "print(\"We zijn alle asserts langs dus t werkt :)\")"
      ]
    },
    {
      "cell_type": "code",
      "execution_count": null,
      "metadata": {},
      "outputs": [],
      "source": [
        "# Als je m wilt bekijken (het checking_polygon/overschreven gebied zit bij ElmID 4405/4406/4407)\n",
        "gecombineerd.to_editable_vegtypes().to_file(\n",
        "    \"../testing/combined.gpkg\", driver=\"GPKG\"\n",
        ")"
      ]
    }
  ],
  "metadata": {
    "kernelspec": {
      "display_name": "veg2hab-CuqoUkZb-py3.7",
      "language": "python",
      "name": "python3"
    },
    "language_info": {
      "codemirror_mode": {
        "name": "ipython",
        "version": 3
      },
      "file_extension": ".py",
      "mimetype": "text/x-python",
      "name": "python",
      "nbconvert_exporter": "python",
      "pygments_lexer": "ipython3",
      "version": "3.7.17"
    }
  },
  "nbformat": 4,
  "nbformat_minor": 2
}
