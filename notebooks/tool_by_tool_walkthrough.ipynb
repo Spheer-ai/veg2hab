{
  "cells": [
    {
      "cell_type": "code",
      "execution_count": 29,
      "metadata": {},
      "outputs": [],
      "source": [
        "import contextlib\n",
        "import os\n",
        "\n",
        "@contextlib.contextmanager\n",
        "def set_env(**environ):\n",
        "    \"\"\"\n",
        "    Modelled after https://stackoverflow.com/questions/2059482/temporarily-modify-the-current-processs-environment\n",
        "\n",
        "    Temporarily set the process environment variables.\n",
        "\n",
        "    >>> with set_env(PLUGINS_DIR='test/plugins'):\n",
        "    ...   \"PLUGINS_DIR\" in os.environ\n",
        "    True\n",
        "\n",
        "    >>> \"PLUGINS_DIR\" in os.environ\n",
        "    False\n",
        "\n",
        "    :type environ: dict[str, unicode]\n",
        "    :param environ: Environment variables to set\n",
        "    \"\"\"\n",
        "    old_environ = dict(os.environ)\n",
        "    os.environ.update(environ)\n",
        "    try:\n",
        "        yield\n",
        "    finally:\n",
        "        os.environ.clear()\n",
        "        os.environ.update(old_environ)"
      ]
    },
    {
      "cell_type": "code",
      "execution_count": 28,
      "metadata": {},
      "outputs": [
        {
          "ename": "ValueError",
          "evalue": "not enough values to unpack (expected 2, got 1)",
          "output_type": "error",
          "traceback": [
            "\u001b[0;31m---------------------------------------------------------------------------\u001b[0m",
            "\u001b[0;31mValueError\u001b[0m                                Traceback (most recent call last)",
            "\u001b[0;32m/tmp/ipykernel_56791/2879860620.py\u001b[0m in \u001b[0;36m<module>\u001b[0;34m\u001b[0m\n\u001b[1;32m      1\u001b[0m \u001b[0mTEST\u001b[0m\u001b[0;34m=\u001b[0m\u001b[0;34m\"3\"\u001b[0m\u001b[0;34m\u001b[0m\u001b[0;34m\u001b[0m\u001b[0m\n\u001b[0;32m----> 2\u001b[0;31m \u001b[0mos\u001b[0m\u001b[0;34m.\u001b[0m\u001b[0menviron\u001b[0m\u001b[0;34m.\u001b[0m\u001b[0mupdate\u001b[0m\u001b[0;34m(\u001b[0m\u001b[0mTEST\u001b[0m\u001b[0;34m)\u001b[0m\u001b[0;34m\u001b[0m\u001b[0;34m\u001b[0m\u001b[0m\n\u001b[0m",
            "\u001b[0;32m~/.pyenv/versions/3.7.17/lib/python3.7/_collections_abc.py\u001b[0m in \u001b[0;36mupdate\u001b[0;34m(*args, **kwds)\u001b[0m\n\u001b[1;32m    844\u001b[0m                     \u001b[0mself\u001b[0m\u001b[0;34m[\u001b[0m\u001b[0mkey\u001b[0m\u001b[0;34m]\u001b[0m \u001b[0;34m=\u001b[0m \u001b[0mother\u001b[0m\u001b[0;34m[\u001b[0m\u001b[0mkey\u001b[0m\u001b[0;34m]\u001b[0m\u001b[0;34m\u001b[0m\u001b[0;34m\u001b[0m\u001b[0m\n\u001b[1;32m    845\u001b[0m             \u001b[0;32melse\u001b[0m\u001b[0;34m:\u001b[0m\u001b[0;34m\u001b[0m\u001b[0;34m\u001b[0m\u001b[0m\n\u001b[0;32m--> 846\u001b[0;31m                 \u001b[0;32mfor\u001b[0m \u001b[0mkey\u001b[0m\u001b[0;34m,\u001b[0m \u001b[0mvalue\u001b[0m \u001b[0;32min\u001b[0m \u001b[0mother\u001b[0m\u001b[0;34m:\u001b[0m\u001b[0;34m\u001b[0m\u001b[0;34m\u001b[0m\u001b[0m\n\u001b[0m\u001b[1;32m    847\u001b[0m                     \u001b[0mself\u001b[0m\u001b[0;34m[\u001b[0m\u001b[0mkey\u001b[0m\u001b[0;34m]\u001b[0m \u001b[0;34m=\u001b[0m \u001b[0mvalue\u001b[0m\u001b[0;34m\u001b[0m\u001b[0;34m\u001b[0m\u001b[0m\n\u001b[1;32m    848\u001b[0m         \u001b[0;32mfor\u001b[0m \u001b[0mkey\u001b[0m\u001b[0;34m,\u001b[0m \u001b[0mvalue\u001b[0m \u001b[0;32min\u001b[0m \u001b[0mkwds\u001b[0m\u001b[0;34m.\u001b[0m\u001b[0mitems\u001b[0m\u001b[0;34m(\u001b[0m\u001b[0;34m)\u001b[0m\u001b[0;34m:\u001b[0m\u001b[0;34m\u001b[0m\u001b[0;34m\u001b[0m\u001b[0m\n",
            "\u001b[0;31mValueError\u001b[0m: not enough values to unpack (expected 2, got 1)"
          ]
        }
      ],
      "source": [
        "\n",
        "os.environ.update(TEST=\"2\", TESTT=\"3\")"
      ]
    },
    {
      "cell_type": "code",
      "execution_count": 26,
      "metadata": {},
      "outputs": [
        {
          "data": {
            "text/plain": [
              "'2'"
            ]
          },
          "execution_count": 26,
          "metadata": {},
          "output_type": "execute_result"
        }
      ],
      "source": [
        "os.environ[\"TEST\"]"
      ]
    },
    {
      "cell_type": "code",
      "execution_count": null,
      "metadata": {},
      "outputs": [],
      "source": []
    },
    {
      "cell_type": "code",
      "execution_count": null,
      "metadata": {},
      "outputs": [],
      "source": []
    },
    {
      "cell_type": "code",
      "execution_count": null,
      "metadata": {},
      "outputs": [],
      "source": []
    },
    {
      "cell_type": "markdown",
      "metadata": {},
      "source": [
        "## Tool by tool walkthrough\n",
        "\n",
        "A step by step runthrough of the separate veg2hab tools"
      ]
    },
    {
      "cell_type": "code",
      "execution_count": 16,
      "metadata": {},
      "outputs": [
        {
          "data": {
            "text/plain": [
              "<veg2hab.io.cli.CLIInterface at 0x7f265c093890>"
            ]
          },
          "execution_count": 16,
          "metadata": {},
          "output_type": "execute_result"
        }
      ],
      "source": [
        "from veg2hab.main import run\n",
        "from veg2hab.io.common import (\n",
        "    AccessDBInputs,\n",
        "    StackVegKarteringInputs,\n",
        "    ApplyDefTabelInputs,\n",
        "    ApplyMozaiekInputs,\n",
        "    ApplyFunctioneleSamenhangInputs,\n",
        ")\n",
        "from veg2hab.io.cli import CLIInterface\n",
        "from veg2hab.enums import WelkeTypologie\n",
        "\n",
        "import geopandas as gpd\n",
        "\n",
        "CLIInterface.get_instance()"
      ]
    },
    {
      "cell_type": "code",
      "execution_count": 17,
      "metadata": {},
      "outputs": [],
      "source": [
        "step_1 = AccessDBInputs(\n",
        "    shapefile=\"../testing/vegetatiekarteringen/FR/Rottige_Meenthe_Brandemeer/Rottige_Meenthe_Brandemeer_2013/vlakken.shp\",\n",
        "    elmid_col=\"ElmID\",\n",
        "    access_mdb_path=\"../testing/vegetatiekarteringen/FR/Rottige_Meenthe_Brandemeer/Rottige_Meenthe_Brandemeer_2013/864_RottigeMeenthe2013.mdb\",\n",
        "    welke_typologie=\"SBB\",\n",
        "    output=\"../data/notebook_data/tool_by_tool/1.gpkg\",\n",
        ")\n",
        "\n",
        "step_3 = ApplyDefTabelInputs(\n",
        "    shapefile=str(step_1.output),\n",
        "    output=\"../data/notebook_data/tool_by_tool/3.gpkg\"\n",
        ")\n",
        "\n",
        "step_4 = ApplyMozaiekInputs(\n",
        "    shapefile=str(step_3.output),\n",
        "    output=\"../data/notebook_data/tool_by_tool/4.gpkg\"\n",
        ")\n",
        "\n",
        "step_5 = ApplyFunctioneleSamenhangInputs(\n",
        "    shapefile=str(step_4.output),\n",
        "    output=\"../data/notebook_data/tool_by_tool/5.gpkg\"\n",
        ")"
      ]
    },
    {
      "cell_type": "markdown",
      "metadata": {},
      "source": [
        "## No changes run"
      ]
    },
    {
      "cell_type": "code",
      "execution_count": 18,
      "metadata": {},
      "outputs": [
        {
          "name": "stdout",
          "output_type": "stream",
          "text": [
            "Starting step 1\n"
          ]
        },
        {
          "ename": "KeyError",
          "evalue": "\"['hi2', 'hi'] not in index\"",
          "output_type": "error",
          "traceback": [
            "\u001b[0;31m---------------------------------------------------------------------------\u001b[0m",
            "\u001b[0;31mKeyError\u001b[0m                                  Traceback (most recent call last)",
            "\u001b[0;32m/tmp/ipykernel_56791/4109278431.py\u001b[0m in \u001b[0;36m<module>\u001b[0;34m\u001b[0m\n\u001b[1;32m      1\u001b[0m \u001b[0mprint\u001b[0m\u001b[0;34m(\u001b[0m\u001b[0;34m\"Starting step 1\"\u001b[0m\u001b[0;34m)\u001b[0m\u001b[0;34m\u001b[0m\u001b[0;34m\u001b[0m\u001b[0m\n\u001b[0;32m----> 2\u001b[0;31m \u001b[0mrun\u001b[0m\u001b[0;34m(\u001b[0m\u001b[0mstep_1\u001b[0m\u001b[0;34m)\u001b[0m\u001b[0;34m\u001b[0m\u001b[0;34m\u001b[0m\u001b[0m\n\u001b[0m\u001b[1;32m      3\u001b[0m \u001b[0mprint\u001b[0m\u001b[0;34m(\u001b[0m\u001b[0;34m\"Starting step 3\"\u001b[0m\u001b[0;34m)\u001b[0m\u001b[0;34m\u001b[0m\u001b[0;34m\u001b[0m\u001b[0m\n\u001b[1;32m      4\u001b[0m \u001b[0mrun\u001b[0m\u001b[0;34m(\u001b[0m\u001b[0mstep_3\u001b[0m\u001b[0;34m)\u001b[0m\u001b[0;34m\u001b[0m\u001b[0;34m\u001b[0m\u001b[0m\n\u001b[1;32m      5\u001b[0m \u001b[0mprint\u001b[0m\u001b[0;34m(\u001b[0m\u001b[0;34m\"Starting step 4\"\u001b[0m\u001b[0;34m)\u001b[0m\u001b[0;34m\u001b[0m\u001b[0;34m\u001b[0m\u001b[0m\n",
            "\u001b[0;32m~/git/veg2hab/veg2hab/main.py\u001b[0m in \u001b[0;36mrun\u001b[0;34m(params)\u001b[0m\n\u001b[1;32m     66\u001b[0m \u001b[0;34m\u001b[0m\u001b[0m\n\u001b[1;32m     67\u001b[0m     \u001b[0;32mif\u001b[0m \u001b[0misinstance\u001b[0m\u001b[0;34m(\u001b[0m\u001b[0mparams\u001b[0m\u001b[0;34m,\u001b[0m \u001b[0;34m(\u001b[0m\u001b[0mAccessDBInputs\u001b[0m\u001b[0;34m,\u001b[0m \u001b[0mShapefileInputs\u001b[0m\u001b[0;34m)\u001b[0m\u001b[0;34m)\u001b[0m\u001b[0;34m:\u001b[0m\u001b[0;34m\u001b[0m\u001b[0;34m\u001b[0m\u001b[0m\n\u001b[0;32m---> 68\u001b[0;31m         \u001b[0;32mreturn\u001b[0m \u001b[0mrun_1_inladen_vegkartering\u001b[0m\u001b[0;34m(\u001b[0m\u001b[0mparams\u001b[0m\u001b[0;34m)\u001b[0m\u001b[0;34m\u001b[0m\u001b[0;34m\u001b[0m\u001b[0m\n\u001b[0m\u001b[1;32m     69\u001b[0m     \u001b[0;32melif\u001b[0m \u001b[0misinstance\u001b[0m\u001b[0;34m(\u001b[0m\u001b[0mparams\u001b[0m\u001b[0;34m,\u001b[0m \u001b[0mStackVegKarteringInputs\u001b[0m\u001b[0;34m)\u001b[0m\u001b[0;34m:\u001b[0m\u001b[0;34m\u001b[0m\u001b[0;34m\u001b[0m\u001b[0m\n\u001b[1;32m     70\u001b[0m         \u001b[0;32mreturn\u001b[0m \u001b[0mrun_2_stack_vegkartering\u001b[0m\u001b[0;34m(\u001b[0m\u001b[0mparams\u001b[0m\u001b[0;34m)\u001b[0m\u001b[0;34m\u001b[0m\u001b[0;34m\u001b[0m\u001b[0m\n",
            "\u001b[0;32m~/git/veg2hab/veg2hab/main.py\u001b[0m in \u001b[0;36mrun_1_inladen_vegkartering\u001b[0;34m(params)\u001b[0m\n\u001b[1;32m     94\u001b[0m             \u001b[0mwelke_typologie\u001b[0m\u001b[0;34m=\u001b[0m\u001b[0mparams\u001b[0m\u001b[0;34m.\u001b[0m\u001b[0mwelke_typologie\u001b[0m\u001b[0;34m,\u001b[0m\u001b[0;34m\u001b[0m\u001b[0;34m\u001b[0m\u001b[0m\n\u001b[1;32m     95\u001b[0m             \u001b[0mopmerkingen_column\u001b[0m\u001b[0;34m=\u001b[0m\u001b[0mparams\u001b[0m\u001b[0;34m.\u001b[0m\u001b[0mopmerking_col\u001b[0m\u001b[0;34m,\u001b[0m\u001b[0;34m\u001b[0m\u001b[0;34m\u001b[0m\u001b[0m\n\u001b[0;32m---> 96\u001b[0;31m             \u001b[0mdatum_column\u001b[0m\u001b[0;34m=\u001b[0m\u001b[0mparams\u001b[0m\u001b[0;34m.\u001b[0m\u001b[0mdatum_col\u001b[0m\u001b[0;34m,\u001b[0m\u001b[0;34m\u001b[0m\u001b[0;34m\u001b[0m\u001b[0m\n\u001b[0m\u001b[1;32m     97\u001b[0m         )\n\u001b[1;32m     98\u001b[0m     \u001b[0;32melif\u001b[0m \u001b[0misinstance\u001b[0m\u001b[0;34m(\u001b[0m\u001b[0mparams\u001b[0m\u001b[0;34m,\u001b[0m \u001b[0mShapefileInputs\u001b[0m\u001b[0;34m)\u001b[0m\u001b[0;34m:\u001b[0m\u001b[0;34m\u001b[0m\u001b[0;34m\u001b[0m\u001b[0m\n",
            "\u001b[0;32m~/git/veg2hab/veg2hab/vegkartering.py\u001b[0m in \u001b[0;36mfrom_access_db\u001b[0;34m(cls, shape_path, shape_elm_id_column, access_mdb_path, welke_typologie, opmerkingen_column, datum_column)\u001b[0m\n\u001b[1;32m    747\u001b[0m             \u001b[0;32mif\u001b[0m \u001b[0mcol\u001b[0m \u001b[0;32mis\u001b[0m \u001b[0;32mnot\u001b[0m \u001b[0;32mNone\u001b[0m\u001b[0;34m\u001b[0m\u001b[0;34m\u001b[0m\u001b[0m\n\u001b[1;32m    748\u001b[0m         ]\n\u001b[0;32m--> 749\u001b[0;31m         \u001b[0mgdf\u001b[0m \u001b[0;34m=\u001b[0m \u001b[0mgdf\u001b[0m\u001b[0;34m[\u001b[0m\u001b[0mcolumns_to_keep\u001b[0m\u001b[0;34m]\u001b[0m\u001b[0;34m\u001b[0m\u001b[0;34m\u001b[0m\u001b[0m\n\u001b[0m\u001b[1;32m    750\u001b[0m \u001b[0;34m\u001b[0m\u001b[0m\n\u001b[1;32m    751\u001b[0m         \u001b[0;31m# Als kolommen niet aanwezig zijn in de shapefile dan vullen we ze met None\u001b[0m\u001b[0;34m\u001b[0m\u001b[0;34m\u001b[0m\u001b[0;34m\u001b[0m\u001b[0m\n",
            "\u001b[0;32m~/.cache/pypoetry/virtualenvs/veg2hab-CuqoUkZb-py3.7/lib/python3.7/site-packages/geopandas/geodataframe.py\u001b[0m in \u001b[0;36m__getitem__\u001b[0;34m(self, key)\u001b[0m\n\u001b[1;32m   1325\u001b[0m         \u001b[0mGeoDataFrame\u001b[0m\u001b[0;34m.\u001b[0m\u001b[0;34m\u001b[0m\u001b[0;34m\u001b[0m\u001b[0m\n\u001b[1;32m   1326\u001b[0m         \"\"\"\n\u001b[0;32m-> 1327\u001b[0;31m         \u001b[0mresult\u001b[0m \u001b[0;34m=\u001b[0m \u001b[0msuper\u001b[0m\u001b[0;34m(\u001b[0m\u001b[0;34m)\u001b[0m\u001b[0;34m.\u001b[0m\u001b[0m__getitem__\u001b[0m\u001b[0;34m(\u001b[0m\u001b[0mkey\u001b[0m\u001b[0;34m)\u001b[0m\u001b[0;34m\u001b[0m\u001b[0;34m\u001b[0m\u001b[0m\n\u001b[0m\u001b[1;32m   1328\u001b[0m         \u001b[0mgeo_col\u001b[0m \u001b[0;34m=\u001b[0m \u001b[0mself\u001b[0m\u001b[0;34m.\u001b[0m\u001b[0m_geometry_column_name\u001b[0m\u001b[0;34m\u001b[0m\u001b[0;34m\u001b[0m\u001b[0m\n\u001b[1;32m   1329\u001b[0m         \u001b[0;32mif\u001b[0m \u001b[0misinstance\u001b[0m\u001b[0;34m(\u001b[0m\u001b[0mresult\u001b[0m\u001b[0;34m,\u001b[0m \u001b[0mSeries\u001b[0m\u001b[0;34m)\u001b[0m \u001b[0;32mand\u001b[0m \u001b[0misinstance\u001b[0m\u001b[0;34m(\u001b[0m\u001b[0mresult\u001b[0m\u001b[0;34m.\u001b[0m\u001b[0mdtype\u001b[0m\u001b[0;34m,\u001b[0m \u001b[0mGeometryDtype\u001b[0m\u001b[0;34m)\u001b[0m\u001b[0;34m:\u001b[0m\u001b[0;34m\u001b[0m\u001b[0;34m\u001b[0m\u001b[0m\n",
            "\u001b[0;32m~/.cache/pypoetry/virtualenvs/veg2hab-CuqoUkZb-py3.7/lib/python3.7/site-packages/pandas/core/frame.py\u001b[0m in \u001b[0;36m__getitem__\u001b[0;34m(self, key)\u001b[0m\n\u001b[1;32m   2910\u001b[0m             \u001b[0;32mif\u001b[0m \u001b[0mis_iterator\u001b[0m\u001b[0;34m(\u001b[0m\u001b[0mkey\u001b[0m\u001b[0;34m)\u001b[0m\u001b[0;34m:\u001b[0m\u001b[0;34m\u001b[0m\u001b[0;34m\u001b[0m\u001b[0m\n\u001b[1;32m   2911\u001b[0m                 \u001b[0mkey\u001b[0m \u001b[0;34m=\u001b[0m \u001b[0mlist\u001b[0m\u001b[0;34m(\u001b[0m\u001b[0mkey\u001b[0m\u001b[0;34m)\u001b[0m\u001b[0;34m\u001b[0m\u001b[0;34m\u001b[0m\u001b[0m\n\u001b[0;32m-> 2912\u001b[0;31m             \u001b[0mindexer\u001b[0m \u001b[0;34m=\u001b[0m \u001b[0mself\u001b[0m\u001b[0;34m.\u001b[0m\u001b[0mloc\u001b[0m\u001b[0;34m.\u001b[0m\u001b[0m_get_listlike_indexer\u001b[0m\u001b[0;34m(\u001b[0m\u001b[0mkey\u001b[0m\u001b[0;34m,\u001b[0m \u001b[0maxis\u001b[0m\u001b[0;34m=\u001b[0m\u001b[0;36m1\u001b[0m\u001b[0;34m,\u001b[0m \u001b[0mraise_missing\u001b[0m\u001b[0;34m=\u001b[0m\u001b[0;32mTrue\u001b[0m\u001b[0;34m)\u001b[0m\u001b[0;34m[\u001b[0m\u001b[0;36m1\u001b[0m\u001b[0;34m]\u001b[0m\u001b[0;34m\u001b[0m\u001b[0;34m\u001b[0m\u001b[0m\n\u001b[0m\u001b[1;32m   2913\u001b[0m \u001b[0;34m\u001b[0m\u001b[0m\n\u001b[1;32m   2914\u001b[0m         \u001b[0;31m# take() does not accept boolean indexers\u001b[0m\u001b[0;34m\u001b[0m\u001b[0;34m\u001b[0m\u001b[0;34m\u001b[0m\u001b[0m\n",
            "\u001b[0;32m~/.cache/pypoetry/virtualenvs/veg2hab-CuqoUkZb-py3.7/lib/python3.7/site-packages/pandas/core/indexing.py\u001b[0m in \u001b[0;36m_get_listlike_indexer\u001b[0;34m(self, key, axis, raise_missing)\u001b[0m\n\u001b[1;32m   1252\u001b[0m             \u001b[0mkeyarr\u001b[0m\u001b[0;34m,\u001b[0m \u001b[0mindexer\u001b[0m\u001b[0;34m,\u001b[0m \u001b[0mnew_indexer\u001b[0m \u001b[0;34m=\u001b[0m \u001b[0max\u001b[0m\u001b[0;34m.\u001b[0m\u001b[0m_reindex_non_unique\u001b[0m\u001b[0;34m(\u001b[0m\u001b[0mkeyarr\u001b[0m\u001b[0;34m)\u001b[0m\u001b[0;34m\u001b[0m\u001b[0;34m\u001b[0m\u001b[0m\n\u001b[1;32m   1253\u001b[0m \u001b[0;34m\u001b[0m\u001b[0m\n\u001b[0;32m-> 1254\u001b[0;31m         \u001b[0mself\u001b[0m\u001b[0;34m.\u001b[0m\u001b[0m_validate_read_indexer\u001b[0m\u001b[0;34m(\u001b[0m\u001b[0mkeyarr\u001b[0m\u001b[0;34m,\u001b[0m \u001b[0mindexer\u001b[0m\u001b[0;34m,\u001b[0m \u001b[0maxis\u001b[0m\u001b[0;34m,\u001b[0m \u001b[0mraise_missing\u001b[0m\u001b[0;34m=\u001b[0m\u001b[0mraise_missing\u001b[0m\u001b[0;34m)\u001b[0m\u001b[0;34m\u001b[0m\u001b[0;34m\u001b[0m\u001b[0m\n\u001b[0m\u001b[1;32m   1255\u001b[0m         \u001b[0;32mreturn\u001b[0m \u001b[0mkeyarr\u001b[0m\u001b[0;34m,\u001b[0m \u001b[0mindexer\u001b[0m\u001b[0;34m\u001b[0m\u001b[0;34m\u001b[0m\u001b[0m\n\u001b[1;32m   1256\u001b[0m \u001b[0;34m\u001b[0m\u001b[0m\n",
            "\u001b[0;32m~/.cache/pypoetry/virtualenvs/veg2hab-CuqoUkZb-py3.7/lib/python3.7/site-packages/pandas/core/indexing.py\u001b[0m in \u001b[0;36m_validate_read_indexer\u001b[0;34m(self, key, indexer, axis, raise_missing)\u001b[0m\n\u001b[1;32m   1302\u001b[0m             \u001b[0;32mif\u001b[0m \u001b[0mraise_missing\u001b[0m\u001b[0;34m:\u001b[0m\u001b[0;34m\u001b[0m\u001b[0;34m\u001b[0m\u001b[0m\n\u001b[1;32m   1303\u001b[0m                 \u001b[0mnot_found\u001b[0m \u001b[0;34m=\u001b[0m \u001b[0mlist\u001b[0m\u001b[0;34m(\u001b[0m\u001b[0mset\u001b[0m\u001b[0;34m(\u001b[0m\u001b[0mkey\u001b[0m\u001b[0;34m)\u001b[0m \u001b[0;34m-\u001b[0m \u001b[0mset\u001b[0m\u001b[0;34m(\u001b[0m\u001b[0max\u001b[0m\u001b[0;34m)\u001b[0m\u001b[0;34m)\u001b[0m\u001b[0;34m\u001b[0m\u001b[0;34m\u001b[0m\u001b[0m\n\u001b[0;32m-> 1304\u001b[0;31m                 \u001b[0;32mraise\u001b[0m \u001b[0mKeyError\u001b[0m\u001b[0;34m(\u001b[0m\u001b[0;34mf\"{not_found} not in index\"\u001b[0m\u001b[0;34m)\u001b[0m\u001b[0;34m\u001b[0m\u001b[0;34m\u001b[0m\u001b[0m\n\u001b[0m\u001b[1;32m   1305\u001b[0m \u001b[0;34m\u001b[0m\u001b[0m\n\u001b[1;32m   1306\u001b[0m             \u001b[0;31m# we skip the warning on Categorical\u001b[0m\u001b[0;34m\u001b[0m\u001b[0;34m\u001b[0m\u001b[0;34m\u001b[0m\u001b[0m\n",
            "\u001b[0;31mKeyError\u001b[0m: \"['hi2', 'hi'] not in index\""
          ]
        }
      ],
      "source": [
        "print(\"Starting step 1\")\n",
        "run(step_1)\n",
        "print(\"Starting step 3\")\n",
        "run(step_3)\n",
        "print(\"Starting step 4\")\n",
        "run(step_4)\n",
        "print(\"Starting step 5\")\n",
        "run(step_5)\n",
        "gpd.read_file(step_5.output).head()"
      ]
    },
    {
      "cell_type": "markdown",
      "metadata": {},
      "source": [
        "## With changes run"
      ]
    },
    {
      "cell_type": "code",
      "execution_count": null,
      "metadata": {},
      "outputs": [],
      "source": [
        "print(\"----- Starting step 1 -----\")\n",
        "run(step_1)\n",
        "gdf = gpd.read_file(step_1.output)\n",
        "# Verkleinen voor speeeeeed\n",
        "gdf = gdf.head(10)\n",
        "g1 = gdf.copy()\n",
        "gdf.loc[0, \"EDIT_SBB2\"] = \"1a1a\"\n",
        "gdf.loc[0, \"EDIT_VvN2\"] = \"1aa1a\"\n",
        "g1post = gdf.copy()\n",
        "gdf.to_file(step_1.output, driver=\"GPKG\", layer=\"main\")\n",
        "print(\"----- Starting step 3 -----\")\n",
        "run(step_3)\n",
        "gdf = gpd.read_file(step_3.output)\n",
        "g3 = gdf.copy()\n",
        "gdf.loc[0, \"EDIT_Habtype2\"] = \"H1234\"\n",
        "gdf.loc[0, \"EDIT_Kwal2\"] = \"M\"\n",
        "g3post = gdf.copy()\n",
        "gdf.to_file(step_3.output, driver=\"GPKG\", layer=\"main\")\n",
        "print(\"----- Starting step 4 -----\")\n",
        "run(step_4)\n",
        "gdf = gpd.read_file(step_4.output)\n",
        "g4 = gdf.copy()\n",
        "gdf.loc[1, \"EDIT_Habtype1\"] = \"H4321\"\n",
        "gdf.loc[1, \"EDIT_Kwal1\"] = \"G\"\n",
        "g4post = gdf.copy()\n",
        "gdf.to_file(step_4.output, driver=\"GPKG\", layer=\"main\")\n",
        "print(\"----- Starting step 5 -----\")\n",
        "run(step_5)\n",
        "done = gpd.read_file(step_5.output)\n",
        "print(done.iloc[0][[\"SBB1\", \"VvN1\", \"Perc1\", \"Habtype1\", \"SBB2\", \"VvN2\", \"Perc2\", \"Habtype2\"]])\n",
        "print(done.iloc[1][[\"SBB1\", \"VvN1\", \"Perc1\", \"Habtype1\"]])\n",
        "done.head()"
      ]
    },
    {
      "cell_type": "markdown",
      "metadata": {},
      "source": [
        "## Doing illegal things"
      ]
    },
    {
      "cell_type": "code",
      "execution_count": null,
      "metadata": {},
      "outputs": [],
      "source": [
        "print(\"----- Starting step 1 -----\")\n",
        "run(step_1)\n",
        "gdf = gpd.read_file(step_1.output)\n",
        "# Verkleinen voor speeeeeed\n",
        "gdf = gdf.head(10)\n",
        "gdf.loc[0, \"EDIT_SBB3\"] = \"1a1a\"\n",
        "gdf.loc[0, \"EDIT_VvN3\"] = \"1aa1a\"\n",
        "gdf.loc[0, \"EDIT_perc3\"] = \"10\"\n",
        "\n",
        "gdf.loc[1, \"EDIT_SBB2\"] = \"1a1a\"\n",
        "gdf.loc[1, \"EDIT_VvN2\"] = \"1aa1a\"\n",
        "gdf.loc[1, \"EDIT_perc2\"] = \"10\"\n",
        "gdf.to_file(step_1.output, driver=\"GPKG\", layer=\"main\")\n",
        "print(\"----- Starting step 3 -----\")\n",
        "run(step_3)\n",
        "gdf = gpd.read_file(step_3.output)\n",
        "gdf.loc[0, \"EDIT_Habtype3\"] = \"H1234\"\n",
        "gdf.loc[0, \"EDIT_Kwal3\"] = \"M\"\n",
        "gdf.to_file(step_3.output, driver=\"GPKG\", layer=\"main\")\n",
        "print(\"----- Starting step 4 -----\")\n",
        "run(step_4)\n",
        "gdf = gpd.read_file(step_4.output)\n",
        "gdf.loc[1, \"EDIT_Habtype2\"] = \"H4321\"\n",
        "gdf.loc[1, \"EDIT_Kwal2\"] = \"G\"\n",
        "gdf.loc[1, \"EDIT_Habtype4\"] = \"H4321\"\n",
        "gdf.loc[1, \"EDIT_Kwal4\"] = \"G\"\n",
        "gdf.to_file(step_4.output, driver=\"GPKG\", layer=\"main\")\n",
        "print(\"----- Starting step 5 -----\")\n",
        "run(step_5)\n",
        "done = gpd.read_file(step_5.output)\n",
        "print(done.iloc[0].SBB3)\n",
        "print(done.iloc[0].Habtype3)\n",
        "print(done.iloc[1].Habtype2)\n",
        "done.head()"
      ]
    },
    {
      "cell_type": "markdown",
      "metadata": {},
      "source": [
        "### Demo step 2 combineer karteringen"
      ]
    },
    {
      "cell_type": "code",
      "execution_count": null,
      "metadata": {},
      "outputs": [],
      "source": [
        "from veg2hab.enums import WelkeTypologie\n",
        "from veg2hab.vegkartering import Kartering\n",
        "from pathlib import Path\n",
        "\n",
        "kart1 = Kartering.from_access_db(\n",
        "    shape_path=Path(\n",
        "        \"../testing/vegetatiekarteringen/DR/NM_Fochteloerveen2013_14/NM_Fochteloerveen2013_14.shp\"\n",
        "    ),\n",
        "    shape_elm_id_column=\"ElmID\",\n",
        "    access_mdb_path=Path(\n",
        "        \"../testing/vegetatiekarteringen/DR/NM_Fochteloerveen2013_14/digitale standaard/Fochteloerveen2013-2014.mdb\"\n",
        "    ),\n",
        "    welke_typologie=WelkeTypologie.SBB,\n",
        ")\n",
        "\n",
        "kart2 = Kartering.from_access_db(\n",
        "    shape_path=Path(\n",
        "        \"../testing/vegetatiekarteringen/DR/NM_SBB_Fochteloerveen_randen2016/NM_SBB_Fochteloerveen_randen2016.shp\"\n",
        "    ),\n",
        "    shape_elm_id_column=\"ELMID\",\n",
        "    access_mdb_path=Path(\n",
        "        \"../testing/vegetatiekarteringen/DR/NM_SBB_Fochteloerveen_randen2016/fochteloo2016.mdb\"\n",
        "    ),\n",
        "    welke_typologie=WelkeTypologie.SBB,\n",
        ")\n",
        "\n",
        "# checking_polygon ligt volledig binnen het te overschrijven deel van kart1\n",
        "checking_polygon = kart1.gdf[kart1.gdf[\"ElmID\"] == 6001][[\"geometry\"]]\n",
        "\n",
        "# Het heeft 5 intersections met z'n eigen kartering (kart1)\n",
        "assert len(checking_polygon.sjoin(kart1.gdf, how=\"inner\", predicate=\"intersects\")) == 5\n",
        "intersects_kart1 = checking_polygon.sjoin(\n",
        "    kart1.gdf, how=\"inner\", predicate=\"intersects\"\n",
        ").copy()\n",
        "\n",
        "# En 6 met kart2\n",
        "assert len(checking_polygon.sjoin(kart2.gdf, how=\"inner\", predicate=\"intersects\")) == 6\n",
        "intersects_kart2 = checking_polygon.sjoin(\n",
        "    kart2.gdf, how=\"inner\", predicate=\"intersects\"\n",
        ").copy()\n",
        "\n",
        "gecombineerd = Kartering.combineer_karteringen([kart1, kart2])\n",
        "\n",
        "# En na het combineren heeft het er 6 (want kart2 heeft kart1 overschreven op en rond de locatie van checking_polygon)\n",
        "assert (\n",
        "    len(checking_polygon.sjoin(gecombineerd.gdf, how=\"inner\", predicate=\"intersects\"))\n",
        "    == 6\n",
        ")\n",
        "\n",
        "# Het heeft andere intersects nu dan het had met kart1 (we checken voor Area/VegTypeInfo want ElmID is veranderd)\n",
        "assert not checking_polygon.sjoin(\n",
        "    gecombineerd.gdf, how=\"inner\", predicate=\"intersects\"\n",
        ")[[\"Area\", \"VegTypeInfo\"]].equals(intersects_kart1[[\"Area\", \"VegTypeInfo\"]])\n",
        "\n",
        "# En het heeft dezelfde intersects dan het had met kart2 (we checken voor Area/VegTypeInfo want ElmID is veranderd)\n",
        "assert checking_polygon.sjoin(gecombineerd.gdf, how=\"inner\", predicate=\"intersects\")[\n",
        "    [\"Area\", \"VegTypeInfo\"]\n",
        "].equals(intersects_kart2[[\"Area\", \"VegTypeInfo\"]])\n",
        "\n",
        "print(\"We zijn alle asserts langs dus t werkt :)\")"
      ]
    },
    {
      "cell_type": "code",
      "execution_count": null,
      "metadata": {},
      "outputs": [],
      "source": [
        "# Als je m wilt bekijken (het checking_polygon/overschreven gebied zit bij ElmID 4405/4406/4407)\n",
        "gecombineerd.to_editable_vegtypes().to_file(\n",
        "    \"../testing/combined.gpkg\", driver=\"GPKG\"\n",
        ")"
      ]
    }
  ],
  "metadata": {
    "kernelspec": {
      "display_name": "veg2hab-CuqoUkZb-py3.7",
      "language": "python",
      "name": "python3"
    },
    "language_info": {
      "codemirror_mode": {
        "name": "ipython",
        "version": 3
      },
      "file_extension": ".py",
      "mimetype": "text/x-python",
      "name": "python",
      "nbconvert_exporter": "python",
      "pygments_lexer": "ipython3",
      "version": "3.7.17"
    }
  },
  "nbformat": 4,
  "nbformat_minor": 2
}
