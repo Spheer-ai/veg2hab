{
 "cells": [
  {
   "cell_type": "markdown",
   "metadata": {},
   "source": [
    "## Tool by tool walkthrough\n",
    "\n",
    "A step by step runthrough of the separate veg2hab tools"
   ]
  },
  {
   "cell_type": "code",
   "execution_count": null,
   "metadata": {},
   "outputs": [],
   "source": [
    "from veg2hab.main import run\n",
    "from veg2hab.io.common import (\n",
    "    AccessDBInputs,\n",
    "    StackVegKarteringInputs,\n",
    "    ApplyDefTabelInputs,\n",
    "    ApplyMozaiekInputs,\n",
    "    ApplyFunctioneleSamenhangInputs,\n",
    ")\n",
    "from veg2hab.io.cli import CLIInterface\n",
    "\n",
    "import geopandas as gpd\n",
    "\n",
    "CLIInterface.get_instance()"
   ]
  },
  {
   "cell_type": "code",
   "execution_count": null,
   "metadata": {},
   "outputs": [],
   "source": [
    "step_1 = AccessDBInputs(\n",
    "    shapefile=\"../testing/Rottige_Meenthe_Brandemeer_2013/vlakken.shp\",\n",
    "    elmid_col=\"ElmID\",\n",
    "    access_mdb_path=\"../testing/Rottige_Meenthe_Brandemeer_2013/864_RottigeMeenthe2013.mdb\",\n",
    "    output=\"../data/notebook_data/tool_by_tool/1.gpkg\"\n",
    ")\n",
    "\n",
    "step_3 = ApplyDefTabelInputs(\n",
    "    shapefile=str(step_1.output),\n",
    "    output=\"../data/notebook_data/tool_by_tool/3.gpkg\"\n",
    ")\n",
    "\n",
    "step_4 = ApplyMozaiekInputs(\n",
    "    shapefile=str(step_3.output),\n",
    "    output=\"../data/notebook_data/tool_by_tool/4.gpkg\"\n",
    ")\n",
    "\n",
    "step_5 = ApplyFunctioneleSamenhangInputs(\n",
    "    shapefile=str(step_4.output),\n",
    "    output=\"../data/notebook_data/tool_by_tool/5.gpkg\"\n",
    ")"
   ]
  },
  {
   "cell_type": "markdown",
   "metadata": {},
   "source": [
    "## No changes run"
   ]
  },
  {
   "cell_type": "code",
   "execution_count": null,
   "metadata": {},
   "outputs": [],
   "source": [
    "print(\"Starting step 1\")\n",
    "run(step_1)\n",
    "print(\"Starting step 3\")\n",
    "run(step_3)\n",
    "print(\"Starting step 4\")\n",
    "run(step_4)\n",
    "print(\"Starting step 5\")\n",
    "run(step_5)\n",
    "gpd.read_file(step_5.output).head()"
   ]
  },
  {
   "cell_type": "markdown",
   "metadata": {},
   "source": [
    "## With changes run"
   ]
  },
  {
   "cell_type": "code",
   "execution_count": null,
   "metadata": {},
   "outputs": [],
   "source": [
    "print(\"----- Starting step 1 -----\")\n",
    "run(step_1)\n",
    "gdf = gpd.read_file(step_1.output)\n",
    "# Verkleinen voor speeeeeed\n",
    "gdf = gdf.head(10)\n",
    "gdf.loc[0, \"EDIT_SBB1\"] = \"1a1a\"\n",
    "gdf.loc[0, \"EDIT_VvN1\"] = \"1aa1a\"\n",
    "gdf.to_file(step_1.output, driver=\"GPKG\", layer=\"main\")\n",
    "print(\"----- Starting step 3 -----\")\n",
    "run(step_3)\n",
    "gdf = gpd.read_file(step_3.output)\n",
    "gdf.loc[0, \"EDIT_Habtype1\"] = \"H1234\"\n",
    "gdf.loc[0, \"EDIT_Kwal1\"] = \"M\"\n",
    "gdf.to_file(step_3.output, driver=\"GPKG\", layer=\"main\")\n",
    "print(\"----- Starting step 4 -----\")\n",
    "run(step_4)\n",
    "gdf = gpd.read_file(step_4.output)\n",
    "gdf.loc[1, \"EDIT_Habtype1\"] = \"H4321\"\n",
    "gdf.loc[1, \"EDIT_Kwal1\"] = \"G\"\n",
    "gdf.to_file(step_4.output, driver=\"GPKG\", layer=\"main\")\n",
    "print(\"----- Starting step 5 -----\")\n",
    "run(step_5)\n",
    "done = gpd.read_file(step_5.output)\n",
    "print(done.iloc[0].SBB1)\n",
    "print(done.iloc[0].Habtype1)\n",
    "print(done.iloc[1].Habtype1)\n",
    "done.head()"
   ]
  },
  {
   "cell_type": "markdown",
   "metadata": {},
   "source": [
    "## Doing illegal things"
   ]
  },
  {
   "cell_type": "code",
   "execution_count": null,
   "metadata": {},
   "outputs": [],
   "source": [
    "print(\"----- Starting step 1 -----\")\n",
    "run(step_1)\n",
    "gdf = gpd.read_file(step_1.output)\n",
    "# Verkleinen voor speeeeeed\n",
    "gdf = gdf.head(10)\n",
    "gdf.loc[0, \"EDIT_SBB3\"] = \"1a1a\"\n",
    "gdf.loc[0, \"EDIT_VvN3\"] = \"1aa1a\"\n",
    "gdf.loc[0, \"EDIT_perc3\"] = \"10\"\n",
    "\n",
    "gdf.loc[1, \"EDIT_SBB2\"] = \"1a1a\"\n",
    "gdf.loc[1, \"EDIT_VvN2\"] = \"1aa1a\"\n",
    "gdf.loc[1, \"EDIT_perc2\"] = \"10\"\n",
    "gdf.to_file(step_1.output, driver=\"GPKG\", layer=\"main\")\n",
    "print(\"----- Starting step 3 -----\")\n",
    "run(step_3)\n",
    "gdf = gpd.read_file(step_3.output)\n",
    "gdf.loc[0, \"EDIT_Habtype3\"] = \"H1234\"\n",
    "gdf.loc[0, \"EDIT_Kwal3\"] = \"M\"\n",
    "gdf.to_file(step_3.output, driver=\"GPKG\", layer=\"main\")\n",
    "print(\"----- Starting step 4 -----\")\n",
    "run(step_4)\n",
    "gdf = gpd.read_file(step_4.output)\n",
    "gdf.loc[1, \"EDIT_Habtype2\"] = \"H4321\"\n",
    "gdf.loc[1, \"EDIT_Kwal2\"] = \"G\"\n",
    "gdf.to_file(step_4.output, driver=\"GPKG\", layer=\"main\")\n",
    "print(\"----- Starting step 5 -----\")\n",
    "run(step_5)\n",
    "done = gpd.read_file(step_5.output)\n",
    "print(done.iloc[0].SBB3)\n",
    "print(done.iloc[0].Habtype3)\n",
    "print(done.iloc[1].Habtype2)\n",
    "done.head()"
   ]
  }
 ],
 "metadata": {
  "kernelspec": {
   "display_name": "veg2hab-CuqoUkZb-py3.7",
   "language": "python",
   "name": "python3"
  },
  "language_info": {
   "codemirror_mode": {
    "name": "ipython",
    "version": 3
   },
   "file_extension": ".py",
   "mimetype": "text/x-python",
   "name": "python",
   "nbconvert_exporter": "python",
   "pygments_lexer": "ipython3",
   "version": "3.7.17"
  }
 },
 "nbformat": 4,
 "nbformat_minor": 2
}
