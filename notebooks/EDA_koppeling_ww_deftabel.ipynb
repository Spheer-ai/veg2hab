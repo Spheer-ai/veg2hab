{
 "cells": [
  {
   "cell_type": "markdown",
   "metadata": {},
   "source": [
    "# Koppeling tussen was-wordt en definitietabel\n",
    "\n",
    "Vinden we alle waarden voor rVvN, VvN en SBB uit de was-wordt lijst terug in de definitietabel? Alle vegetatietypen die niet automatisch tot H0000 leiden in de was wordt, zouden we willen terugvinden in de definietabel habitattypen.\n",
    "\n",
    "Om deze twee tabellen goed te matchen, moeten we in ieder geval de volgende dingen doen:\n",
    "\n",
    "- vegetatiecodes ontdoen van hoofdletters\n",
    "- vegetatiecodes ontdoen van `leading zero's`\n",
    "- Codes voor rompgemeenschappen en derivaatgemeenschappen in de definitietabel ontdoen van extra formatting\n",
    "- De kolom `Code vegetatietype` uit de definitietabel splitsen in twee kolommen voor VvN en SBB. "
   ]
  },
  {
   "cell_type": "code",
   "execution_count": 1,
   "metadata": {},
   "outputs": [],
   "source": [
    "import re\n",
    "import pandas as pd"
   ]
  },
  {
   "cell_type": "code",
   "execution_count": 2,
   "metadata": {},
   "outputs": [],
   "source": [
    "ww = pd.read_excel(\n",
    "    '../data/ww_cleaned.xlsx',\n",
    "    dtype=\"string\"\n",
    ")"
   ]
  },
  {
   "cell_type": "code",
   "execution_count": 3,
   "metadata": {},
   "outputs": [],
   "source": [
    "dt = pd.read_excel(\n",
    "    '../data/dt_cleaned.xlsx', \n",
    "    dtype=\"string\"\n",
    ")"
   ]
  },
  {
   "cell_type": "code",
   "execution_count": 4,
   "metadata": {},
   "outputs": [],
   "source": [
    "# Verwijderen van alle rijen uit de waswordt lijst die vertalen naar H0000 of H9999. Deze verwacht je niet terug te vinden in de definitietabel\n",
    "ww = ww[ww['Habitattypen-Jakko']!='H0000']\n",
    "ww = ww[ww['Habitattypen-Jakko']!='H9999']\n",
    "\n",
    "# Verwijderen van alle rijen uit de was wordt lijst die een leeg habitattype hebben. Johannes Tonckens: \"de waarde voor habitattype is denk ik alleen leeg bij de hogere niveuas (orde, verbond). Dan is het vegetatietype niet goed genoeg ontwikkeld omhet onder te bregen bij een associatie die wel naar eenhabitattype leidt. Dat het dan H0000 wordt is dus wel terecht.\"\n",
    "ww = ww[~ww['Habitattypen-Jakko'].isna()]\n",
    "\n",
    "# Verwijderen van alle rijen in de waswordt lijst waarin voor het habtype verwezen wordt naar subassociaties\n",
    "ww = ww[~ww['Habitattypen-Jakko'].apply(lambda x: 'zie subassociaties' in x if x is not None else False)]"
   ]
  },
  {
   "cell_type": "code",
   "execution_count": 5,
   "metadata": {},
   "outputs": [],
   "source": [
    "def disect_vvn(vvn_code: str):\n",
    "    # klasse\n",
    "    klasse = None\n",
    "    try:\n",
    "        klasse_span = re.search(r'^\\d+', vvn_code).span()\n",
    "        klasse = vvn_code[klasse_span[0]:klasse_span[1]]\n",
    "    except:\n",
    "        pass\n",
    "        #print('klasse in VvN code not well defined')\n",
    "    \n",
    "    # orde en verbond\n",
    "    orde = None\n",
    "    try:\n",
    "        orde = re.findall('[a-zA-Z]+', vvn_code)[0]\n",
    "    except:\n",
    "        pass\n",
    "        #print('orde in VvN code not well defined')\n",
    "    \n",
    "    # associatie\n",
    "    associatie = None\n",
    "    try:\n",
    "        associatie = re.findall('\\d+', vvn_code)[1]\n",
    "    except:\n",
    "        pass\n",
    "        #print('associatie in VvN code not well defined')\n",
    "    \n",
    "    # subassociatie\n",
    "    subassociatie = None\n",
    "    try:\n",
    "        subassociatie = re.findall('[a-zA-Z]+', vvn_code)[1]\n",
    "    except:\n",
    "        pass\n",
    "        #print('subassociatie in VvN code not well defined')\n",
    "    \n",
    "    return klasse, orde, associatie, subassociatie\n",
    "\n",
    "\n",
    "def clean_vvn(vegcode: str):\n",
    "    try:\n",
    "        k, o, a, s = disect_vvn(vegcode)\n",
    "\n",
    "        # verwijder leading zeros uit klasse \n",
    "        k = str(int(k))\n",
    "        \n",
    "        # orde en verbond naar lowercase\n",
    "        o = o.lower()\n",
    "        \n",
    "        # verwijder leading zeros uit associatie\n",
    "        if a is None:\n",
    "            a = ''\n",
    "        else:\n",
    "            a = str(int(a))\n",
    "        \n",
    "        # als subassociatie niet aanwezig is, maak er een lege string van.\n",
    "        if s is None:\n",
    "            s = ''\n",
    "        s = s.lower()\n",
    "            \n",
    "        return k + o + a + s\n",
    "    except:\n",
    "        pass\n",
    "\n",
    "    \n",
    "def get_associatie(vvn):\n",
    "    k, o, a, _ = disect_vvn(vvn)\n",
    "    try:\n",
    "        return k + o + a\n",
    "    except:\n",
    "        pass\n",
    "    \n",
    "    \n",
    "def get_verbond(vvn):\n",
    "    k, o, _, _ = disect_vvn(vvn)\n",
    "    try:\n",
    "        return k + o\n",
    "    except:\n",
    "        pass"
   ]
  },
  {
   "cell_type": "code",
   "execution_count": 6,
   "metadata": {},
   "outputs": [],
   "source": [
    "ww['VvN'] = ww['VvN'].apply(clean_vvn)\n",
    "ww['VvN'] = ww['VvN'].astype('string')\n",
    "\n",
    "dt['VvN'] = dt['VvN'].apply(clean_vvn)\n",
    "dt['VvN'] = dt['VvN'].astype('string')"
   ]
  },
  {
   "cell_type": "code",
   "execution_count": 7,
   "metadata": {},
   "outputs": [],
   "source": [
    "ww['SBB'] = ww['SBB'].str.lower()\n",
    "dt['SBB'] = dt['SBB'].str.lower()"
   ]
  },
  {
   "cell_type": "code",
   "execution_count": 8,
   "metadata": {},
   "outputs": [],
   "source": [
    "ww['VvN_associatie'] = ww['VvN'].apply(get_associatie)\n",
    "ww['VvN_verbond'] = ww['VvN'].apply(get_verbond)"
   ]
  },
  {
   "cell_type": "markdown",
   "metadata": {},
   "source": [
    "#### Overlap in VvN codes"
   ]
  },
  {
   "cell_type": "code",
   "execution_count": 9,
   "metadata": {},
   "outputs": [
    {
     "name": "stdout",
     "output_type": "stream",
     "text": [
      "428 unieke VvN codes in de was-wordt\n",
      "289 unieke VvN codes in de definitietabel\n",
      "269 VvN codes uit de was-wordt worden teruggevonden in de definitietabel\n"
     ]
    }
   ],
   "source": [
    "vvn_ww = set(ww['VvN'][~ww['VvN'].isna()])\n",
    "vvn_dt = set(dt['VvN'][~dt['VvN'].isna()])\n",
    "\n",
    "print('{} unieke VvN codes in de was-wordt'.format(len(vvn_ww)))\n",
    "print('{} unieke VvN codes in de definitietabel'.format(len(vvn_dt)))\n",
    "print('{} VvN codes uit de was-wordt worden teruggevonden in de definitietabel'.format(len(vvn_ww.intersection(vvn_dt))))"
   ]
  },
  {
   "cell_type": "code",
   "execution_count": 10,
   "metadata": {},
   "outputs": [],
   "source": [
    "ww['VvN_in_dt'] = ww['VvN'].isin(vvn_dt)\n",
    "ww['VvN_assoc_in_dt'] = ww['VvN_associatie'].isin(vvn_dt)\n",
    "ww['VvN_verbond_in_dt'] = ww['VvN_verbond'].isin(vvn_dt)\n",
    "\n",
    "dt['VvN_in_ww'] = dt['VvN'].isin(vvn_ww)"
   ]
  },
  {
   "cell_type": "markdown",
   "metadata": {},
   "source": [
    "#### Overlap in SBB\n",
    "Alle (op één na) waardes voor SBB uit de definitietabel worden teruggevonden in de waswordt. andersom is dat niet het geval, omdat alleen SBB-codes in de definitietabel staan waarvoor geen VvN code bestaat."
   ]
  },
  {
   "cell_type": "code",
   "execution_count": 11,
   "metadata": {},
   "outputs": [
    {
     "name": "stdout",
     "output_type": "stream",
     "text": [
      "508 unieke SBB codes in de was-wordt\n",
      "66 unieke SBB codes in de definitietabel\n",
      "59 SBB codes uit de was-wordt worden teruggevonden in de definitietabel\n"
     ]
    }
   ],
   "source": [
    "sbb_ww = set(ww['SBB'][~ww['SBB'].isna()])\n",
    "sbb_dt = set(dt['SBB'][~dt['SBB'].isna()])\n",
    "\n",
    "print('{} unieke SBB codes in de was-wordt'.format(len(sbb_ww)))\n",
    "print('{} unieke SBB codes in de definitietabel'.format(len(sbb_dt)))\n",
    "print('{} SBB codes uit de was-wordt worden teruggevonden in de definitietabel'.format(len(sbb_ww.intersection(sbb_dt))))"
   ]
  },
  {
   "cell_type": "code",
   "execution_count": 12,
   "metadata": {},
   "outputs": [
    {
     "data": {
      "text/plain": [
       "{'11/c', '11a-b', '26', '40a-d', '43-e', '43-f', '43-g'}"
      ]
     },
     "execution_count": 12,
     "metadata": {},
     "output_type": "execute_result"
    }
   ],
   "source": [
    "sbb_dt - (sbb_ww.intersection(sbb_dt))"
   ]
  },
  {
   "cell_type": "code",
   "execution_count": 13,
   "metadata": {},
   "outputs": [],
   "source": [
    "ww['SBB_in_dt'] = ww['SBB'].isin(sbb_dt)\n",
    "dt['SBB_in_ww'] = dt['SBB'].isin(sbb_ww)"
   ]
  },
  {
   "cell_type": "code",
   "execution_count": 15,
   "metadata": {},
   "outputs": [],
   "source": [
    "ww.to_excel('../data/ww_reformatted.xlsx', index=False)\n",
    "dt.to_excel('../data/dt_reformatted.xlsx', index=False)"
   ]
  },
  {
   "cell_type": "markdown",
   "metadata": {},
   "source": [
    "#### Eerst checken op VvN, dan associatie, dan verbond, dan SBB"
   ]
  },
  {
   "cell_type": "markdown",
   "metadata": {},
   "source": [
    "Wanneer zowel VvN, VvN-associatie, VvN-verbond of SBB niet kunnen worden teruggevonden in de definitietabel, is één van de volgende dingen aan de hand:\n",
    "- Habitattype doorgestreept of discussiepunt in waswordt tabel.\n",
    "  - `14RG10` is doorgestreept, of tussen haakjes en discussiepunt\n",
    "- Habitattype in waswordt is rood (=voorstel) en dus nog niet in deftabel\n",
    "  - `42RG01`\n",
    "- Waswordt geeft habitatopsomming voor associatie, terwijl er 'zie subassociaties' had moeten staan. In de defitietabel zijn alleen de subassociaties terug te vinden:\n",
    "  - `17aa1`\n",
    "  - `27aa2`\n",
    "  - `29aa3`\n",
    "  - `31ab1`\n",
    "  - \n",
    "- VvN en SBB allebei niet terug te vinden:\n",
    "  - `5rg3`\n",
    "  - `5rg8` / `05-e`\n",
    "  - `33DG2`\n",
    "  - `33RG1`\n",
    "  - `41Aa02(a)`"
   ]
  }
 ],
 "metadata": {
  "kernelspec": {
   "display_name": ".venv",
   "language": "python",
   "name": "python3"
  },
  "language_info": {
   "codemirror_mode": {
    "name": "ipython",
    "version": 3
   },
   "file_extension": ".py",
   "mimetype": "text/x-python",
   "name": "python",
   "nbconvert_exporter": "python",
   "pygments_lexer": "ipython3",
   "version": "3.8.10"
  }
 },
 "nbformat": 4,
 "nbformat_minor": 2
}
