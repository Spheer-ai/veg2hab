{
 "cells": [
  {
   "cell_type": "markdown",
   "metadata": {},
   "source": [
    "# Valideren van alle karteringen\n",
    "Maar voor nu enkel groningen"
   ]
  },
  {
   "cell_type": "code",
   "execution_count": 1,
   "metadata": {},
   "outputs": [
    {
     "name": "stderr",
     "output_type": "stream",
     "text": [
      "/home/jordydelange/.cache/pypoetry/virtualenvs/veg2hab-CuqoUkZb-py3.7/lib/python3.7/site-packages/geopandas/_compat.py:115: UserWarning: The Shapely GEOS version (3.11.2-CAPI-1.17.2) is incompatible with the GEOS version PyGEOS was compiled with (3.10.4-CAPI-1.16.2). Conversions between both will be slow.\n",
      "  shapely_geos_version, geos_capi_version_string\n"
     ]
    }
   ],
   "source": [
    "import geopandas as gpd\n",
    "import pandas as pd\n",
    "\n",
    "from veg2hab import validation\n",
    "\n",
    "import geopandas as gpd\n",
    "\n",
    "pd.set_option('display.max_columns', 100)\n",
    "pd.set_option('display.width', 1000)\n",
    "\n",
    "omgezette_karteringen_prefix = \"../testing/omgezette_vegetatiekarteringen/\"\n",
    "habitatkarteringen_prefix = \"../testing/\""
   ]
  },
  {
   "cell_type": "markdown",
   "metadata": {},
   "source": [
    "### Groningen"
   ]
  },
  {
   "cell_type": "code",
   "execution_count": 2,
   "metadata": {},
   "outputs": [
    {
     "name": "stdout",
     "output_type": "stream",
     "text": [
      "----- SBB Westerwolde 2020\n",
      "--- trues\n",
      "--- preds\n",
      "----- SBB ZWK 2010 0814_Tussen de Gasten 2010\n",
      "--- trues\n",
      "--- preds\n",
      "----- SBB ZWK 2010 0815_Trimunt_2010\n",
      "--- trues\n",
      "--- preds\n",
      "----- GL_Zuidlaardermeer2019\n",
      "--- trues\n",
      "--- preds\n",
      "----- SGL Hunzedal en Leekstermeer2021 Leekstermeer 2021\n",
      "--- trues\n"
     ]
    },
    {
     "name": "stderr",
     "output_type": "stream",
     "text": [
      "/home/jordydelange/git/veg2hab/veg2hab/validation.py:81: UserWarning: No non-null habitat types found, returning 100% of H0000\n",
      "  warnings.warn(f\"No non-null habitat types found, returning 100% of H0000\")\n"
     ]
    },
    {
     "name": "stdout",
     "output_type": "stream",
     "text": [
      "--- preds\n",
      "----- SBB Lauwersmeer 2015\n",
      "--- trues\n",
      "--- preds\n",
      "----- SGL Hunzedal en Leekstermeer2021 Hunzedal\n",
      "--- trues\n",
      "--- preds\n",
      "----- Schiermonnikoog_2015\n",
      "--- trues\n",
      "--- preds\n",
      "----- Vlieland_2013\n",
      "--- trues\n",
      "--- preds\n",
      "----- NM_Mantingerbos_2015\n",
      "--- trues\n",
      "--- preds\n",
      "----- SBB1034_Dwingelderveld2017\n",
      "--- trues\n",
      "--- preds\n",
      "----- Drouwenerzand_2020\n",
      "--- trues\n",
      "--- preds\n"
     ]
    },
    {
     "name": "stderr",
     "output_type": "stream",
     "text": [
      "/home/jordydelange/git/veg2hab/veg2hab/validation.py:86: UserWarning: Percentages do not add up to 100% for row: 8, result: defaultdict(<function _convert_row_to_dict.<locals>.<lambda> at 0x7f17f47c1ef0>, {'H0000': 0})\n",
      "  f\"Percentages do not add up to 100% for row: {row.name}, result: {ret_values}\"\n",
      "/home/jordydelange/git/veg2hab/veg2hab/validation.py:86: UserWarning: Percentages do not add up to 100% for row: 10, result: defaultdict(<function _convert_row_to_dict.<locals>.<lambda> at 0x7f17f47c1b90>, {'H0000': 0})\n",
      "  f\"Percentages do not add up to 100% for row: {row.name}, result: {ret_values}\"\n",
      "/home/jordydelange/git/veg2hab/veg2hab/validation.py:86: UserWarning: Percentages do not add up to 100% for row: 14, result: defaultdict(<function _convert_row_to_dict.<locals>.<lambda> at 0x7f17f47c1dd0>, {'HXXXX': 50})\n",
      "  f\"Percentages do not add up to 100% for row: {row.name}, result: {ret_values}\"\n",
      "/home/jordydelange/git/veg2hab/veg2hab/validation.py:86: UserWarning: Percentages do not add up to 100% for row: 21, result: defaultdict(<function _convert_row_to_dict.<locals>.<lambda> at 0x7f17f5af4200>, {'H0000': 0})\n",
      "  f\"Percentages do not add up to 100% for row: {row.name}, result: {ret_values}\"\n",
      "/home/jordydelange/git/veg2hab/veg2hab/validation.py:86: UserWarning: Percentages do not add up to 100% for row: 32, result: defaultdict(<function _convert_row_to_dict.<locals>.<lambda> at 0x7f17f5af4830>, {'HXXXX': 80.0})\n",
      "  f\"Percentages do not add up to 100% for row: {row.name}, result: {ret_values}\"\n",
      "/home/jordydelange/git/veg2hab/veg2hab/validation.py:86: UserWarning: Percentages do not add up to 100% for row: 33, result: defaultdict(<function _convert_row_to_dict.<locals>.<lambda> at 0x7f17f5af48c0>, {'HXXXX': 50})\n",
      "  f\"Percentages do not add up to 100% for row: {row.name}, result: {ret_values}\"\n",
      "/home/jordydelange/git/veg2hab/veg2hab/validation.py:86: UserWarning: Percentages do not add up to 100% for row: 45, result: defaultdict(<function _convert_row_to_dict.<locals>.<lambda> at 0x7f17f5af4f80>, {'H0000': 0})\n",
      "  f\"Percentages do not add up to 100% for row: {row.name}, result: {ret_values}\"\n",
      "/home/jordydelange/git/veg2hab/veg2hab/validation.py:86: UserWarning: Percentages do not add up to 100% for row: 67, result: defaultdict(<function _convert_row_to_dict.<locals>.<lambda> at 0x7f17f4bf3c20>, {'H0000': 0})\n",
      "  f\"Percentages do not add up to 100% for row: {row.name}, result: {ret_values}\"\n",
      "/home/jordydelange/git/veg2hab/veg2hab/validation.py:86: UserWarning: Percentages do not add up to 100% for row: 120, result: defaultdict(<function _convert_row_to_dict.<locals>.<lambda> at 0x7f17f4fffa70>, {'HXXXX': 20})\n",
      "  f\"Percentages do not add up to 100% for row: {row.name}, result: {ret_values}\"\n",
      "/home/jordydelange/git/veg2hab/veg2hab/validation.py:86: UserWarning: Percentages do not add up to 100% for row: 143, result: defaultdict(<function _convert_row_to_dict.<locals>.<lambda> at 0x7f17f369e7a0>, {'H0000': 0})\n",
      "  f\"Percentages do not add up to 100% for row: {row.name}, result: {ret_values}\"\n"
     ]
    },
    {
     "name": "stdout",
     "output_type": "stream",
     "text": [
      "----- NM_Fochteloerveen2013_14\n",
      "--- trues\n",
      "--- preds\n",
      "----- NM_SBB_Fochteloerveen_randen2016\n",
      "--- trues\n",
      "--- preds\n"
     ]
    },
    {
     "name": "stderr",
     "output_type": "stream",
     "text": [
      "/home/jordydelange/git/veg2hab/veg2hab/validation.py:86: UserWarning: Percentages do not add up to 100% for row: 144, result: defaultdict(<function _convert_row_to_dict.<locals>.<lambda> at 0x7f17f53a6290>, {'H0000': 0.0})\n",
      "  f\"Percentages do not add up to 100% for row: {row.name}, result: {ret_values}\"\n",
      "/home/jordydelange/git/veg2hab/veg2hab/validation.py:86: UserWarning: Percentages do not add up to 100% for row: 145, result: defaultdict(<function _convert_row_to_dict.<locals>.<lambda> at 0x7f17f53a63b0>, {'H0000': 0.0})\n",
      "  f\"Percentages do not add up to 100% for row: {row.name}, result: {ret_values}\"\n",
      "/home/jordydelange/git/veg2hab/veg2hab/validation.py:86: UserWarning: Percentages do not add up to 100% for row: 146, result: defaultdict(<function _convert_row_to_dict.<locals>.<lambda> at 0x7f17f53a6440>, {'H0000': 0.0})\n",
      "  f\"Percentages do not add up to 100% for row: {row.name}, result: {ret_values}\"\n",
      "/home/jordydelange/git/veg2hab/veg2hab/validation.py:86: UserWarning: Percentages do not add up to 100% for row: 147, result: defaultdict(<function _convert_row_to_dict.<locals>.<lambda> at 0x7f17f53a64d0>, {'H0000': 0.0})\n",
      "  f\"Percentages do not add up to 100% for row: {row.name}, result: {ret_values}\"\n",
      "/home/jordydelange/git/veg2hab/veg2hab/validation.py:86: UserWarning: Percentages do not add up to 100% for row: 148, result: defaultdict(<function _convert_row_to_dict.<locals>.<lambda> at 0x7f17f53a6560>, {'H0000': 0.0})\n",
      "  f\"Percentages do not add up to 100% for row: {row.name}, result: {ret_values}\"\n",
      "/home/jordydelange/git/veg2hab/veg2hab/validation.py:86: UserWarning: Percentages do not add up to 100% for row: 149, result: defaultdict(<function _convert_row_to_dict.<locals>.<lambda> at 0x7f17f53a65f0>, {'H0000': 0.0})\n",
      "  f\"Percentages do not add up to 100% for row: {row.name}, result: {ret_values}\"\n",
      "/home/jordydelange/git/veg2hab/veg2hab/validation.py:86: UserWarning: Percentages do not add up to 100% for row: 150, result: defaultdict(<function _convert_row_to_dict.<locals>.<lambda> at 0x7f17f53a6680>, {'H0000': 0.0})\n",
      "  f\"Percentages do not add up to 100% for row: {row.name}, result: {ret_values}\"\n",
      "/home/jordydelange/git/veg2hab/veg2hab/validation.py:86: UserWarning: Percentages do not add up to 100% for row: 206, result: defaultdict(<function _convert_row_to_dict.<locals>.<lambda> at 0x7f17f3b865f0>, {'H0000': 0.0})\n",
      "  f\"Percentages do not add up to 100% for row: {row.name}, result: {ret_values}\"\n",
      "/home/jordydelange/git/veg2hab/veg2hab/validation.py:86: UserWarning: Percentages do not add up to 100% for row: 207, result: defaultdict(<function _convert_row_to_dict.<locals>.<lambda> at 0x7f17f3b86680>, {'H0000': 0.0})\n",
      "  f\"Percentages do not add up to 100% for row: {row.name}, result: {ret_values}\"\n"
     ]
    },
    {
     "name": "stdout",
     "output_type": "stream",
     "text": [
      "----- SBB0816_Norg2010\n",
      "--- trues\n",
      "--- preds\n",
      "----- NM_Fochteloerveen_2020\n",
      "--- trues\n",
      "--- preds\n",
      "----- BosGroep_SNLMonitoring_2014\n",
      "--- trues\n",
      "--- preds\n"
     ]
    },
    {
     "name": "stderr",
     "output_type": "stream",
     "text": [
      "/home/jordydelange/git/veg2hab/veg2hab/validation.py:86: UserWarning: Percentages do not add up to 100% for row: 37, result: defaultdict(<function _convert_row_to_dict.<locals>.<lambda> at 0x7f17ebc889e0>, {'H0000': 0.0})\n",
      "  f\"Percentages do not add up to 100% for row: {row.name}, result: {ret_values}\"\n",
      "/home/jordydelange/git/veg2hab/veg2hab/validation.py:86: UserWarning: Percentages do not add up to 100% for row: 41, result: defaultdict(<function _convert_row_to_dict.<locals>.<lambda> at 0x7f17ebc88710>, {'H0000': 0.0})\n",
      "  f\"Percentages do not add up to 100% for row: {row.name}, result: {ret_values}\"\n",
      "/home/jordydelange/git/veg2hab/veg2hab/validation.py:86: UserWarning: Percentages do not add up to 100% for row: 50, result: defaultdict(<function _convert_row_to_dict.<locals>.<lambda> at 0x7f17ebc88170>, {'H0000': 0.0})\n",
      "  f\"Percentages do not add up to 100% for row: {row.name}, result: {ret_values}\"\n",
      "/home/jordydelange/git/veg2hab/veg2hab/validation.py:86: UserWarning: Percentages do not add up to 100% for row: 51, result: defaultdict(<function _convert_row_to_dict.<locals>.<lambda> at 0x7f17ebc88200>, {'H0000': 0.0})\n",
      "  f\"Percentages do not add up to 100% for row: {row.name}, result: {ret_values}\"\n",
      "/home/jordydelange/git/veg2hab/veg2hab/validation.py:86: UserWarning: Percentages do not add up to 100% for row: 56, result: defaultdict(<function _convert_row_to_dict.<locals>.<lambda> at 0x7f17f1f7a7a0>, {'H0000': 0.0})\n",
      "  f\"Percentages do not add up to 100% for row: {row.name}, result: {ret_values}\"\n",
      "/home/jordydelange/git/veg2hab/veg2hab/validation.py:86: UserWarning: Percentages do not add up to 100% for row: 57, result: defaultdict(<function _convert_row_to_dict.<locals>.<lambda> at 0x7f17f1f7a830>, {'H0000': 0.0})\n",
      "  f\"Percentages do not add up to 100% for row: {row.name}, result: {ret_values}\"\n",
      "/home/jordydelange/git/veg2hab/veg2hab/validation.py:86: UserWarning: Percentages do not add up to 100% for row: 60, result: defaultdict(<function _convert_row_to_dict.<locals>.<lambda> at 0x7f17f1f7a5f0>, {'H0000': 0.0})\n",
      "  f\"Percentages do not add up to 100% for row: {row.name}, result: {ret_values}\"\n",
      "/home/jordydelange/git/veg2hab/veg2hab/validation.py:86: UserWarning: Percentages do not add up to 100% for row: 62, result: defaultdict(<function _convert_row_to_dict.<locals>.<lambda> at 0x7f17f1f7a3b0>, {'H0000': 0.0})\n",
      "  f\"Percentages do not add up to 100% for row: {row.name}, result: {ret_values}\"\n",
      "/home/jordydelange/git/veg2hab/veg2hab/validation.py:86: UserWarning: Percentages do not add up to 100% for row: 133, result: defaultdict(<function _convert_row_to_dict.<locals>.<lambda> at 0x7f17efaefef0>, {'H0000': 0.0})\n",
      "  f\"Percentages do not add up to 100% for row: {row.name}, result: {ret_values}\"\n",
      "/home/jordydelange/git/veg2hab/veg2hab/validation.py:86: UserWarning: Percentages do not add up to 100% for row: 158, result: defaultdict(<function _convert_row_to_dict.<locals>.<lambda> at 0x7f17ed7eed40>, {'H0000': 0.0})\n",
      "  f\"Percentages do not add up to 100% for row: {row.name}, result: {ret_values}\"\n",
      "/home/jordydelange/git/veg2hab/veg2hab/validation.py:86: UserWarning: Percentages do not add up to 100% for row: 181, result: defaultdict(<function _convert_row_to_dict.<locals>.<lambda> at 0x7f17f173aa70>, {'H0000': 0.0})\n",
      "  f\"Percentages do not add up to 100% for row: {row.name}, result: {ret_values}\"\n",
      "/home/jordydelange/git/veg2hab/veg2hab/validation.py:86: UserWarning: Percentages do not add up to 100% for row: 189, result: defaultdict(<function _convert_row_to_dict.<locals>.<lambda> at 0x7f17f173aef0>, {'H0000': 0.0})\n",
      "  f\"Percentages do not add up to 100% for row: {row.name}, result: {ret_values}\"\n",
      "/home/jordydelange/git/veg2hab/veg2hab/validation.py:86: UserWarning: Percentages do not add up to 100% for row: 191, result: defaultdict(<function _convert_row_to_dict.<locals>.<lambda> at 0x7f17f171c050>, {'H0000': 0.0})\n",
      "  f\"Percentages do not add up to 100% for row: {row.name}, result: {ret_values}\"\n",
      "/home/jordydelange/git/veg2hab/veg2hab/validation.py:86: UserWarning: Percentages do not add up to 100% for row: 192, result: defaultdict(<function _convert_row_to_dict.<locals>.<lambda> at 0x7f17f171c0e0>, {'H0000': 0.0})\n",
      "  f\"Percentages do not add up to 100% for row: {row.name}, result: {ret_values}\"\n"
     ]
    },
    {
     "name": "stdout",
     "output_type": "stream",
     "text": [
      "----- NM_DCR_2013\n",
      "--- trues\n",
      "--- preds\n",
      "----- PRV_Witterdiep2021\n",
      "--- trues\n",
      "--- preds\n"
     ]
    },
    {
     "name": "stderr",
     "output_type": "stream",
     "text": [
      "/home/jordydelange/git/veg2hab/veg2hab/validation.py:86: UserWarning: Percentages do not add up to 100% for row: 2, result: defaultdict(<function _convert_row_to_dict.<locals>.<lambda> at 0x7f17f4b61b00>, {'H0000': 0.0})\n",
      "  f\"Percentages do not add up to 100% for row: {row.name}, result: {ret_values}\"\n",
      "/home/jordydelange/git/veg2hab/veg2hab/validation.py:86: UserWarning: Percentages do not add up to 100% for row: 6, result: defaultdict(<function _convert_row_to_dict.<locals>.<lambda> at 0x7f17ed3e0f80>, {'H0000': 0.0})\n",
      "  f\"Percentages do not add up to 100% for row: {row.name}, result: {ret_values}\"\n",
      "/home/jordydelange/git/veg2hab/veg2hab/validation.py:86: UserWarning: Percentages do not add up to 100% for row: 8, result: defaultdict(<function _convert_row_to_dict.<locals>.<lambda> at 0x7f17ef7a94d0>, {'H0000': 0.0})\n",
      "  f\"Percentages do not add up to 100% for row: {row.name}, result: {ret_values}\"\n",
      "/home/jordydelange/git/veg2hab/veg2hab/validation.py:86: UserWarning: Percentages do not add up to 100% for row: 9, result: defaultdict(<function _convert_row_to_dict.<locals>.<lambda> at 0x7f17ef7a9050>, {'H0000': 0.0})\n",
      "  f\"Percentages do not add up to 100% for row: {row.name}, result: {ret_values}\"\n",
      "/home/jordydelange/git/veg2hab/veg2hab/validation.py:86: UserWarning: Percentages do not add up to 100% for row: 10, result: defaultdict(<function _convert_row_to_dict.<locals>.<lambda> at 0x7f17f4b61cb0>, {'H0000': 0.0})\n",
      "  f\"Percentages do not add up to 100% for row: {row.name}, result: {ret_values}\"\n",
      "/home/jordydelange/git/veg2hab/veg2hab/validation.py:86: UserWarning: Percentages do not add up to 100% for row: 11, result: defaultdict(<function _convert_row_to_dict.<locals>.<lambda> at 0x7f17ef7a9560>, {'H0000': 0.0})\n",
      "  f\"Percentages do not add up to 100% for row: {row.name}, result: {ret_values}\"\n",
      "/home/jordydelange/git/veg2hab/veg2hab/validation.py:86: UserWarning: Percentages do not add up to 100% for row: 13, result: defaultdict(<function _convert_row_to_dict.<locals>.<lambda> at 0x7f17ef7a9680>, {'H0000': 0.0})\n",
      "  f\"Percentages do not add up to 100% for row: {row.name}, result: {ret_values}\"\n",
      "/home/jordydelange/git/veg2hab/veg2hab/validation.py:86: UserWarning: Percentages do not add up to 100% for row: 19, result: defaultdict(<function _convert_row_to_dict.<locals>.<lambda> at 0x7f17ef7a99e0>, {'H0000': 0.0})\n",
      "  f\"Percentages do not add up to 100% for row: {row.name}, result: {ret_values}\"\n",
      "/home/jordydelange/git/veg2hab/veg2hab/validation.py:86: UserWarning: Percentages do not add up to 100% for row: 21, result: defaultdict(<function _convert_row_to_dict.<locals>.<lambda> at 0x7f17ef7a9b00>, {'H0000': 0.0})\n",
      "  f\"Percentages do not add up to 100% for row: {row.name}, result: {ret_values}\"\n",
      "/home/jordydelange/git/veg2hab/veg2hab/validation.py:86: UserWarning: Percentages do not add up to 100% for row: 23, result: defaultdict(<function _convert_row_to_dict.<locals>.<lambda> at 0x7f17ef7a9c20>, {'H0000': 0.0})\n",
      "  f\"Percentages do not add up to 100% for row: {row.name}, result: {ret_values}\"\n",
      "/home/jordydelange/git/veg2hab/veg2hab/validation.py:86: UserWarning: Percentages do not add up to 100% for row: 25, result: defaultdict(<function _convert_row_to_dict.<locals>.<lambda> at 0x7f17ef7a9d40>, {'H0000': 0.0})\n",
      "  f\"Percentages do not add up to 100% for row: {row.name}, result: {ret_values}\"\n",
      "/home/jordydelange/git/veg2hab/veg2hab/validation.py:86: UserWarning: Percentages do not add up to 100% for row: 27, result: defaultdict(<function _convert_row_to_dict.<locals>.<lambda> at 0x7f17ef7a9e60>, {'H0000': 0.0})\n",
      "  f\"Percentages do not add up to 100% for row: {row.name}, result: {ret_values}\"\n",
      "/home/jordydelange/git/veg2hab/veg2hab/validation.py:86: UserWarning: Percentages do not add up to 100% for row: 63, result: defaultdict(<function _convert_row_to_dict.<locals>.<lambda> at 0x7f17f1a743b0>, {'H0000': 0.0})\n",
      "  f\"Percentages do not add up to 100% for row: {row.name}, result: {ret_values}\"\n",
      "/home/jordydelange/git/veg2hab/veg2hab/validation.py:86: UserWarning: Percentages do not add up to 100% for row: 80, result: defaultdict(<function _convert_row_to_dict.<locals>.<lambda> at 0x7f17f1a74cb0>, {'H0000': 0.0})\n",
      "  f\"Percentages do not add up to 100% for row: {row.name}, result: {ret_values}\"\n",
      "/home/jordydelange/git/veg2hab/veg2hab/validation.py:86: UserWarning: Percentages do not add up to 100% for row: 81, result: defaultdict(<function _convert_row_to_dict.<locals>.<lambda> at 0x7f17f1a74d40>, {'H0000': 0.0})\n",
      "  f\"Percentages do not add up to 100% for row: {row.name}, result: {ret_values}\"\n",
      "/home/jordydelange/git/veg2hab/veg2hab/validation.py:86: UserWarning: Percentages do not add up to 100% for row: 84, result: defaultdict(<function _convert_row_to_dict.<locals>.<lambda> at 0x7f17f1a74ef0>, {'H0000': 0.0})\n",
      "  f\"Percentages do not add up to 100% for row: {row.name}, result: {ret_values}\"\n",
      "/home/jordydelange/git/veg2hab/veg2hab/validation.py:86: UserWarning: Percentages do not add up to 100% for row: 101, result: defaultdict(<function _convert_row_to_dict.<locals>.<lambda> at 0x7f17ec8f08c0>, {'H0000': 0.0})\n",
      "  f\"Percentages do not add up to 100% for row: {row.name}, result: {ret_values}\"\n",
      "/home/jordydelange/git/veg2hab/veg2hab/validation.py:86: UserWarning: Percentages do not add up to 100% for row: 106, result: defaultdict(<function _convert_row_to_dict.<locals>.<lambda> at 0x7f17ec8f0b90>, {'H0000': 0.0})\n",
      "  f\"Percentages do not add up to 100% for row: {row.name}, result: {ret_values}\"\n",
      "/home/jordydelange/git/veg2hab/veg2hab/validation.py:86: UserWarning: Percentages do not add up to 100% for row: 144, result: defaultdict(<function _convert_row_to_dict.<locals>.<lambda> at 0x7f17f065f170>, {'H0000': 0.0})\n",
      "  f\"Percentages do not add up to 100% for row: {row.name}, result: {ret_values}\"\n",
      "/home/jordydelange/git/veg2hab/veg2hab/validation.py:86: UserWarning: Percentages do not add up to 100% for row: 145, result: defaultdict(<function _convert_row_to_dict.<locals>.<lambda> at 0x7f17f065f200>, {'H0000': 0.0})\n",
      "  f\"Percentages do not add up to 100% for row: {row.name}, result: {ret_values}\"\n",
      "/home/jordydelange/git/veg2hab/veg2hab/validation.py:86: UserWarning: Percentages do not add up to 100% for row: 159, result: defaultdict(<function _convert_row_to_dict.<locals>.<lambda> at 0x7f17f065f9e0>, {'H0000': 0.0})\n",
      "  f\"Percentages do not add up to 100% for row: {row.name}, result: {ret_values}\"\n",
      "/home/jordydelange/git/veg2hab/veg2hab/validation.py:86: UserWarning: Percentages do not add up to 100% for row: 160, result: defaultdict(<function _convert_row_to_dict.<locals>.<lambda> at 0x7f17f065fa70>, {'H0000': 0.0})\n",
      "  f\"Percentages do not add up to 100% for row: {row.name}, result: {ret_values}\"\n",
      "/home/jordydelange/git/veg2hab/veg2hab/validation.py:86: UserWarning: Percentages do not add up to 100% for row: 169, result: defaultdict(<function _convert_row_to_dict.<locals>.<lambda> at 0x7f17f065ff80>, {'H0000': 0.0})\n",
      "  f\"Percentages do not add up to 100% for row: {row.name}, result: {ret_values}\"\n",
      "/home/jordydelange/git/veg2hab/veg2hab/validation.py:86: UserWarning: Percentages do not add up to 100% for row: 178, result: defaultdict(<function _convert_row_to_dict.<locals>.<lambda> at 0x7f17eeee84d0>, {'H0000': 0.0})\n",
      "  f\"Percentages do not add up to 100% for row: {row.name}, result: {ret_values}\"\n",
      "/home/jordydelange/git/veg2hab/veg2hab/validation.py:86: UserWarning: Percentages do not add up to 100% for row: 181, result: defaultdict(<function _convert_row_to_dict.<locals>.<lambda> at 0x7f17eeee8680>, {'H0000': 0.0})\n",
      "  f\"Percentages do not add up to 100% for row: {row.name}, result: {ret_values}\"\n",
      "/home/jordydelange/git/veg2hab/veg2hab/validation.py:86: UserWarning: Percentages do not add up to 100% for row: 182, result: defaultdict(<function _convert_row_to_dict.<locals>.<lambda> at 0x7f17eeee8710>, {'H0000': 0.0})\n",
      "  f\"Percentages do not add up to 100% for row: {row.name}, result: {ret_values}\"\n",
      "/home/jordydelange/git/veg2hab/veg2hab/validation.py:86: UserWarning: Percentages do not add up to 100% for row: 194, result: defaultdict(<function _convert_row_to_dict.<locals>.<lambda> at 0x7f17eeee8dd0>, {'H0000': 0.0})\n",
      "  f\"Percentages do not add up to 100% for row: {row.name}, result: {ret_values}\"\n",
      "/home/jordydelange/git/veg2hab/veg2hab/validation.py:86: UserWarning: Percentages do not add up to 100% for row: 195, result: defaultdict(<function _convert_row_to_dict.<locals>.<lambda> at 0x7f17eeee8e60>, {'H0000': 0.0})\n",
      "  f\"Percentages do not add up to 100% for row: {row.name}, result: {ret_values}\"\n",
      "/home/jordydelange/git/veg2hab/veg2hab/validation.py:86: UserWarning: Percentages do not add up to 100% for row: 197, result: defaultdict(<function _convert_row_to_dict.<locals>.<lambda> at 0x7f17eeee8f80>, {'H0000': 0.0})\n",
      "  f\"Percentages do not add up to 100% for row: {row.name}, result: {ret_values}\"\n",
      "/home/jordydelange/git/veg2hab/veg2hab/validation.py:86: UserWarning: Percentages do not add up to 100% for row: 200, result: defaultdict(<function _convert_row_to_dict.<locals>.<lambda> at 0x7f17edba3170>, {'H0000': 0.0})\n",
      "  f\"Percentages do not add up to 100% for row: {row.name}, result: {ret_values}\"\n",
      "/home/jordydelange/git/veg2hab/veg2hab/validation.py:86: UserWarning: Percentages do not add up to 100% for row: 201, result: defaultdict(<function _convert_row_to_dict.<locals>.<lambda> at 0x7f17edba3200>, {'H0000': 0.0})\n",
      "  f\"Percentages do not add up to 100% for row: {row.name}, result: {ret_values}\"\n",
      "/home/jordydelange/git/veg2hab/veg2hab/validation.py:86: UserWarning: Percentages do not add up to 100% for row: 207, result: defaultdict(<function _convert_row_to_dict.<locals>.<lambda> at 0x7f17edba3560>, {'H0000': 0.0})\n",
      "  f\"Percentages do not add up to 100% for row: {row.name}, result: {ret_values}\"\n",
      "/home/jordydelange/git/veg2hab/veg2hab/validation.py:86: UserWarning: Percentages do not add up to 100% for row: 215, result: defaultdict(<function _convert_row_to_dict.<locals>.<lambda> at 0x7f17edba39e0>, {'H0000': 0.0})\n",
      "  f\"Percentages do not add up to 100% for row: {row.name}, result: {ret_values}\"\n",
      "/home/jordydelange/git/veg2hab/veg2hab/validation.py:86: UserWarning: Percentages do not add up to 100% for row: 222, result: defaultdict(<function _convert_row_to_dict.<locals>.<lambda> at 0x7f17edba3dd0>, {'H0000': 0.0})\n",
      "  f\"Percentages do not add up to 100% for row: {row.name}, result: {ret_values}\"\n",
      "/home/jordydelange/git/veg2hab/veg2hab/validation.py:86: UserWarning: Percentages do not add up to 100% for row: 223, result: defaultdict(<function _convert_row_to_dict.<locals>.<lambda> at 0x7f17edba3e60>, {'H0000': 0.0})\n",
      "  f\"Percentages do not add up to 100% for row: {row.name}, result: {ret_values}\"\n",
      "/home/jordydelange/git/veg2hab/veg2hab/validation.py:86: UserWarning: Percentages do not add up to 100% for row: 224, result: defaultdict(<function _convert_row_to_dict.<locals>.<lambda> at 0x7f17edba3ef0>, {'H0000': 0.0})\n",
      "  f\"Percentages do not add up to 100% for row: {row.name}, result: {ret_values}\"\n",
      "/home/jordydelange/git/veg2hab/veg2hab/validation.py:86: UserWarning: Percentages do not add up to 100% for row: 228, result: defaultdict(<function _convert_row_to_dict.<locals>.<lambda> at 0x7f17edbb0170>, {'H0000': 0.0})\n",
      "  f\"Percentages do not add up to 100% for row: {row.name}, result: {ret_values}\"\n",
      "/home/jordydelange/git/veg2hab/veg2hab/validation.py:86: UserWarning: Percentages do not add up to 100% for row: 231, result: defaultdict(<function _convert_row_to_dict.<locals>.<lambda> at 0x7f17edbb0320>, {'H0000': 0.0})\n",
      "  f\"Percentages do not add up to 100% for row: {row.name}, result: {ret_values}\"\n",
      "/home/jordydelange/git/veg2hab/veg2hab/validation.py:86: UserWarning: Percentages do not add up to 100% for row: 232, result: defaultdict(<function _convert_row_to_dict.<locals>.<lambda> at 0x7f17edbb03b0>, {'H0000': 0.0})\n",
      "  f\"Percentages do not add up to 100% for row: {row.name}, result: {ret_values}\"\n",
      "/home/jordydelange/git/veg2hab/veg2hab/validation.py:86: UserWarning: Percentages do not add up to 100% for row: 233, result: defaultdict(<function _convert_row_to_dict.<locals>.<lambda> at 0x7f17edbb0440>, {'H0000': 0.0})\n",
      "  f\"Percentages do not add up to 100% for row: {row.name}, result: {ret_values}\"\n",
      "/home/jordydelange/git/veg2hab/veg2hab/validation.py:86: UserWarning: Percentages do not add up to 100% for row: 234, result: defaultdict(<function _convert_row_to_dict.<locals>.<lambda> at 0x7f17edbb04d0>, {'H0000': 0.0})\n",
      "  f\"Percentages do not add up to 100% for row: {row.name}, result: {ret_values}\"\n",
      "/home/jordydelange/git/veg2hab/veg2hab/validation.py:86: UserWarning: Percentages do not add up to 100% for row: 235, result: defaultdict(<function _convert_row_to_dict.<locals>.<lambda> at 0x7f17edbb0560>, {'H0000': 0.0})\n",
      "  f\"Percentages do not add up to 100% for row: {row.name}, result: {ret_values}\"\n",
      "/home/jordydelange/git/veg2hab/veg2hab/validation.py:86: UserWarning: Percentages do not add up to 100% for row: 236, result: defaultdict(<function _convert_row_to_dict.<locals>.<lambda> at 0x7f17edbb05f0>, {'H0000': 0.0})\n",
      "  f\"Percentages do not add up to 100% for row: {row.name}, result: {ret_values}\"\n",
      "/home/jordydelange/git/veg2hab/veg2hab/validation.py:86: UserWarning: Percentages do not add up to 100% for row: 237, result: defaultdict(<function _convert_row_to_dict.<locals>.<lambda> at 0x7f17edbb0680>, {'H0000': 0.0})\n",
      "  f\"Percentages do not add up to 100% for row: {row.name}, result: {ret_values}\"\n",
      "/home/jordydelange/git/veg2hab/veg2hab/validation.py:86: UserWarning: Percentages do not add up to 100% for row: 238, result: defaultdict(<function _convert_row_to_dict.<locals>.<lambda> at 0x7f17edbb0710>, {'H0000': 0.0})\n",
      "  f\"Percentages do not add up to 100% for row: {row.name}, result: {ret_values}\"\n",
      "/home/jordydelange/git/veg2hab/veg2hab/validation.py:86: UserWarning: Percentages do not add up to 100% for row: 239, result: defaultdict(<function _convert_row_to_dict.<locals>.<lambda> at 0x7f17edbb07a0>, {'H0000': 0.0})\n",
      "  f\"Percentages do not add up to 100% for row: {row.name}, result: {ret_values}\"\n",
      "/home/jordydelange/git/veg2hab/veg2hab/validation.py:86: UserWarning: Percentages do not add up to 100% for row: 240, result: defaultdict(<function _convert_row_to_dict.<locals>.<lambda> at 0x7f17edbb0830>, {'H0000': 0.0})\n",
      "  f\"Percentages do not add up to 100% for row: {row.name}, result: {ret_values}\"\n",
      "/home/jordydelange/git/veg2hab/veg2hab/validation.py:86: UserWarning: Percentages do not add up to 100% for row: 241, result: defaultdict(<function _convert_row_to_dict.<locals>.<lambda> at 0x7f17edbb08c0>, {'H0000': 0.0})\n",
      "  f\"Percentages do not add up to 100% for row: {row.name}, result: {ret_values}\"\n",
      "/home/jordydelange/git/veg2hab/veg2hab/validation.py:86: UserWarning: Percentages do not add up to 100% for row: 242, result: defaultdict(<function _convert_row_to_dict.<locals>.<lambda> at 0x7f17edbb0950>, {'H0000': 0.0})\n",
      "  f\"Percentages do not add up to 100% for row: {row.name}, result: {ret_values}\"\n"
     ]
    }
   ],
   "source": [
    "validationinfo = pd.read_excel(\n",
    "    \"../data/validationinfo.xlsx\", \n",
    "    engine='openpyxl', \n",
    "    usecols=[\n",
    "        \"path_pred\",\n",
    "        \"naam_in_overzicht_habkart\",\n",
    "        \"provincie\",\n",
    "        \"path_true\",\n",
    "        \"habtype_cols_regex\",\n",
    "        \"percentage_cols_regex\",\n",
    "        \"layer\",\n",
    "        \"werkt_nu\",\n",
    "    ]\n",
    ")\n",
    "\n",
    "# Omzetten van pd.NA naar None om te voorkomen dat we overal \"if not pd.isna()\" moeten doen\n",
    "validationinfo = validationinfo.applymap(lambda x: None if pd.isna(x) else x)\n",
    "\n",
    "# Uitfilteren van karteringen die we om wat voor reden dan ook niet goed om kunnen zetten (zie kolom \"reden dat hij niet werkt\" in de excel)\n",
    "validationinfo = validationinfo[validationinfo.werkt_nu]\n",
    "\n",
    "validationinfo[\"path_true\"] = validationinfo[\"path_true\"].apply(lambda x: \"../testing/\" + x[2:])\n",
    "validationinfo[\"path_pred\"] = validationinfo[\"path_pred\"].apply(lambda x: omgezette_karteringen_prefix + x[2:])\n",
    "validationinfo\n",
    "\n",
    "# Load in the habitatkarteringen\n",
    "trues = {}\n",
    "preds = {}\n",
    "for row in validationinfo.itertuples():\n",
    "    # We printen even wat dingen zodat je kunt zien waar errors vandaan komen (als die er zijn)\n",
    "    print(f\"----- {row.naam_in_overzicht_habkart}\")\n",
    "    print(\"--- trues\")\n",
    "    # Habitatkarteringen (trues)\n",
    "    raw = gpd.read_file(row.path_true, layer=row.layer)\n",
    "    parsed = validation.parse_habitat_percentages(\n",
    "        raw, \n",
    "        habtype_cols_regex=row.habtype_cols_regex, \n",
    "        percentage_cols_regex=row.percentage_cols_regex, \n",
    "        how_to_handle_missing_percentages=\"split_equally\" if row.percentage_cols_regex is None else None)\n",
    "    trues[row.naam_in_overzicht_habkart] = parsed\n",
    "    print(\"--- preds\")\n",
    "    # Door ons omgezette vegetatiekarteringen (preds)\n",
    "    raw = gpd.read_file(row.path_pred)\n",
    "    parsed = validation.parse_habitat_percentages(raw)\n",
    "    preds[row.naam_in_overzicht_habkart] = parsed\n",
    "\n"
   ]
  },
  {
   "cell_type": "markdown",
   "metadata": {},
   "source": [
    "### Combineren van de preds en de trues\n",
    "\n",
    "Bij het over elkaar heen leggen van de vlakken in preds en die in trues ontstaan er soms heel veel kleine slivervlakken; deze worden verwijderd door alle vlakken kleiner dan 1m² te droppen. Of en hoeveel vlakken er gedropt worden wordt hier beneden gerapporteerd. Als hier grote getallen uitkomen (ruwweg 1 m² per 1000 rows dropped is normaal) is er wellicht wat mis gegaan."
   ]
  },
  {
   "cell_type": "code",
   "execution_count": 3,
   "metadata": {},
   "outputs": [
    {
     "name": "stdout",
     "output_type": "stream",
     "text": [
      "---- SBB Westerwolde 2020\n"
     ]
    },
    {
     "name": "stderr",
     "output_type": "stream",
     "text": [
      "/home/jordydelange/git/veg2hab/veg2hab/validation.py:197: UserWarning: Dropping 4193 rows based on area (presumed rounding errors) with a combined area of 2.495387607979196 m²\n",
      "  f\"Dropping {mask.sum()} rows based on area (presumed rounding errors) with a combined area of {overlayed[mask].area.sum()} m²\"\n"
     ]
    },
    {
     "name": "stdout",
     "output_type": "stream",
     "text": [
      "---- SBB ZWK 2010 0814_Tussen de Gasten 2010\n"
     ]
    },
    {
     "name": "stderr",
     "output_type": "stream",
     "text": [
      "/home/jordydelange/git/veg2hab/veg2hab/validation.py:197: UserWarning: Dropping 8208 rows based on area (presumed rounding errors) with a combined area of 0.0 m²\n",
      "  f\"Dropping {mask.sum()} rows based on area (presumed rounding errors) with a combined area of {overlayed[mask].area.sum()} m²\"\n",
      "/home/jordydelange/git/veg2hab/veg2hab/validation.py:197: UserWarning: Dropping 375 rows based on area (presumed rounding errors) with a combined area of 0.3100628544437718 m²\n",
     ]
    },
    {
     "name": "stdout",
     "output_type": "stream",
     "text": [
      "---- SBB ZWK 2010 0815_Trimunt_2010\n",
      "---- GL_Zuidlaardermeer2019\n"
     ]
    },
    {
     "name": "stderr",
     "output_type": "stream",
     "text": [
      "/home/jordydelange/git/veg2hab/veg2hab/validation.py:197: UserWarning: Dropping 3769 rows based on area (presumed rounding errors) with a combined area of 2.946588855655696 m²\n",
      "  f\"Dropping {mask.sum()} rows based on area (presumed rounding errors) with a combined area of {overlayed[mask].area.sum()} m²\"\n"
     ]
    },
    {
     "name": "stdout",
     "output_type": "stream",
     "text": [
      "---- SGL Hunzedal en Leekstermeer2021 Leekstermeer 2021\n"
     ]
    },
    {
     "name": "stderr",
     "output_type": "stream",
     "text": [
      "/home/jordydelange/git/veg2hab/veg2hab/validation.py:197: UserWarning: Dropping 1248 rows based on area (presumed rounding errors) with a combined area of 0.7538292024627701 m²\n",
      "  f\"Dropping {mask.sum()} rows based on area (presumed rounding errors) with a combined area of {overlayed[mask].area.sum()} m²\"\n"
     ]
    },
    {
     "name": "stdout",
     "output_type": "stream",
     "text": [
      "---- SBB Lauwersmeer 2015\n"
     ]
    },
    {
     "name": "stderr",
     "output_type": "stream",
     "text": [
      "/home/jordydelange/git/veg2hab/veg2hab/validation.py:197: UserWarning: Dropping 17516 rows based on area (presumed rounding errors) with a combined area of 17.750447674154106 m²\n",
      "  f\"Dropping {mask.sum()} rows based on area (presumed rounding errors) with a combined area of {overlayed[mask].area.sum()} m²\"\n"
     ]
    },
    {
     "name": "stdout",
     "output_type": "stream",
     "text": [
      "---- SGL Hunzedal en Leekstermeer2021 Hunzedal\n"
     ]
    },
    {
     "name": "stderr",
     "output_type": "stream",
     "text": [
      "/home/jordydelange/git/veg2hab/veg2hab/validation.py:197: UserWarning: Dropping 8748 rows based on area (presumed rounding errors) with a combined area of 0.0 m²\n",
      "  f\"Dropping {mask.sum()} rows based on area (presumed rounding errors) with a combined area of {overlayed[mask].area.sum()} m²\"\n"
     ]
    },
    {
     "name": "stdout",
     "output_type": "stream",
     "text": [
      "---- Schiermonnikoog_2015\n"
     ]
    },
    {
     "name": "stderr",
     "output_type": "stream",
     "text": [
      "/home/jordydelange/git/veg2hab/veg2hab/validation.py:197: UserWarning: Dropping 7956 rows based on area (presumed rounding errors) with a combined area of 41.85682138219717 m²\n",
      "  f\"Dropping {mask.sum()} rows based on area (presumed rounding errors) with a combined area of {overlayed[mask].area.sum()} m²\"\n"
     ]
    },
    {
     "name": "stdout",
     "output_type": "stream",
     "text": [
      "---- Vlieland_2013\n"
     ]
    },
    {
     "name": "stderr",
     "output_type": "stream",
     "text": [
      "/home/jordydelange/git/veg2hab/veg2hab/validation.py:197: UserWarning: Dropping 11467 rows based on area (presumed rounding errors) with a combined area of 8.194922468523137 m²\n",
      "  f\"Dropping {mask.sum()} rows based on area (presumed rounding errors) with a combined area of {overlayed[mask].area.sum()} m²\"\n"
     ]
    },
    {
     "name": "stdout",
     "output_type": "stream",
     "text": [
      "---- NM_Mantingerbos_2015\n",
      "---- SBB1034_Dwingelderveld2017\n"
     ]
    },
    {
     "name": "stderr",
     "output_type": "stream",
     "text": [
      "/home/jordydelange/git/veg2hab/veg2hab/validation.py:197: UserWarning: Dropping 535 rows based on area (presumed rounding errors) with a combined area of 3.333913494162468 m²\n",
      "  f\"Dropping {mask.sum()} rows based on area (presumed rounding errors) with a combined area of {overlayed[mask].area.sum()} m²\"\n",
      "/home/jordydelange/git/veg2hab/veg2hab/validation.py:197: UserWarning: Dropping 13432 rows based on area (presumed rounding errors) with a combined area of 217.09075947514305 m²\n",
      "  f\"Dropping {mask.sum()} rows based on area (presumed rounding errors) with a combined area of {overlayed[mask].area.sum()} m²\"\n"
     ]
    },
    {
     "name": "stdout",
     "output_type": "stream",
     "text": [
      "---- Drouwenerzand_2020\n"
     ]
    },
    {
     "name": "stderr",
     "output_type": "stream",
     "text": [
      "/home/jordydelange/git/veg2hab/veg2hab/validation.py:197: UserWarning: Dropping 619 rows based on area (presumed rounding errors) with a combined area of 4.2948366652040955 m²\n",
      "  f\"Dropping {mask.sum()} rows based on area (presumed rounding errors) with a combined area of {overlayed[mask].area.sum()} m²\"\n"
     ]
    },
    {
     "name": "stdout",
     "output_type": "stream",
     "text": [
      "---- NM_Fochteloerveen2013_14\n"
     ]
    },
    {
     "name": "stderr",
     "output_type": "stream",
     "text": [
      "/home/jordydelange/git/veg2hab/veg2hab/validation.py:197: UserWarning: Dropping 16549 rows based on area (presumed rounding errors) with a combined area of 166.64642185479497 m²\n",
      "  f\"Dropping {mask.sum()} rows based on area (presumed rounding errors) with a combined area of {overlayed[mask].area.sum()} m²\"\n"
     ]
    },
    {
     "name": "stdout",
     "output_type": "stream",
     "text": [
      "---- NM_SBB_Fochteloerveen_randen2016\n"
     ]
    },
    {
     "name": "stderr",
     "output_type": "stream",
     "text": [
      "/home/jordydelange/git/veg2hab/veg2hab/validation.py:197: UserWarning: Dropping 909 rows based on area (presumed rounding errors) with a combined area of 4.660813226850676 m²\n",
      "  f\"Dropping {mask.sum()} rows based on area (presumed rounding errors) with a combined area of {overlayed[mask].area.sum()} m²\"\n"
     ]
    },
    {
     "name": "stdout",
     "output_type": "stream",
     "text": [
      "---- SBB0816_Norg2010\n"
     ]
    },
    {
     "name": "stderr",
     "output_type": "stream",
     "text": [
      "/home/jordydelange/git/veg2hab/veg2hab/validation.py:197: UserWarning: Dropping 756 rows based on area (presumed rounding errors) with a combined area of 5.437217514095569 m²\n",
      "  f\"Dropping {mask.sum()} rows based on area (presumed rounding errors) with a combined area of {overlayed[mask].area.sum()} m²\"\n"
     ]
    },
    {
     "name": "stdout",
     "output_type": "stream",
     "text": [
      "---- NM_Fochteloerveen_2020\n"
     ]
    },
    {
     "name": "stderr",
     "output_type": "stream",
     "text": [
      "/home/jordydelange/git/veg2hab/veg2hab/validation.py:197: UserWarning: Dropping 6645 rows based on area (presumed rounding errors) with a combined area of 18.561455795860255 m²\n",
      "  f\"Dropping {mask.sum()} rows based on area (presumed rounding errors) with a combined area of {overlayed[mask].area.sum()} m²\"\n"
     ]
    },
    {
     "name": "stdout",
     "output_type": "stream",
     "text": [
      "---- BosGroep_SNLMonitoring_2014\n",
      "---- NM_DCR_2013\n"
     ]
    },
    {
     "name": "stderr",
     "output_type": "stream",
     "text": [
      "/home/jordydelange/git/veg2hab/veg2hab/validation.py:197: UserWarning: Dropping 266 rows based on area (presumed rounding errors) with a combined area of 7.248053141852708 m²\n",
      "  f\"Dropping {mask.sum()} rows based on area (presumed rounding errors) with a combined area of {overlayed[mask].area.sum()} m²\"\n",
      "/home/jordydelange/git/veg2hab/veg2hab/validation.py:197: UserWarning: Dropping 301 rows based on area (presumed rounding errors) with a combined area of 12.13844028748399 m²\n",
      "  f\"Dropping {mask.sum()} rows based on area (presumed rounding errors) with a combined area of {overlayed[mask].area.sum()} m²\"\n"
     ]
    },
    {
     "name": "stdout",
     "output_type": "stream",
     "text": [
      "---- PRV_Witterdiep2021\n"
     ]
    },
    {
     "name": "stderr",
     "output_type": "stream",
     "text": [
      "/home/jordydelange/git/veg2hab/veg2hab/validation.py:197: UserWarning: Dropping 1318 rows based on area (presumed rounding errors) with a combined area of 5.31924128341626 m²\n",
      "  f\"Dropping {mask.sum()} rows based on area (presumed rounding errors) with a combined area of {overlayed[mask].area.sum()} m²\"\n"
     ]
    }
   ],
   "source": [
    "for key in trues.keys():\n",
    "    assert key in preds.keys(), f\"Key {key} not found in predictions\"\n",
    "\n",
    "output = {}\n",
    "for key, true in trues.items():\n",
    "    print(f\"---- {key}\")\n",
    "    pred = preds[key]\n",
    "    combined = validation.spatial_join(pred, true, how=\"intersection\")\n",
    "    output[key] = validation.voeg_correctheid_toe_aan_df(combined)"
   ]
  },
  {
   "cell_type": "markdown",
   "metadata": {},
   "source": [
    "Confusion matrices\n",
    "\n",
    "Percentage/vlakken"
   ]
  },
  {
   "cell_type": "code",
   "execution_count": 4,
   "metadata": {},
   "outputs": [
    {
     "name": "stdout",
     "output_type": "stream",
     "text": [
      "------ SBB Westerwolde 2020\n",
      "true_hab   H0000  H3130  H3160  H4010A  H4030  H6230  H6410  H6430A  H7110B  H7150  H91D0  HXXXX\n",
      "pred_hab                                                                                        \n",
      "H0000     539.32   1.56    1.2     0.4   2.09   9.16    0.0     0.2     0.0    0.0    0.0    0.0\n",
      "H3130       0.00   0.00    0.0     0.0   0.00   0.00    0.0     0.0     0.0    0.0    0.0    0.0\n",
      "H3160       0.00   0.00    0.0     0.0   0.00   0.00    0.0     0.0     0.0    0.0    0.0    0.0\n",
      "H4010A      0.00   0.00    0.0     0.0   0.00   0.00    0.0     0.0     0.0    0.0    0.0    0.0\n",
      "H4030       0.00   0.00    0.0     0.0   0.00   0.00    0.0     0.0     0.0    0.0    0.0    0.0\n",
      "H6230       0.00   0.00    0.0     0.0   0.00   0.00    0.0     0.0     0.0    0.0    0.0    0.0\n",
      "H6410       0.00   0.00    0.0     0.0   0.00   0.00    0.0     0.0     0.0    0.0    0.0    0.0\n",
      "H6430A      0.00   0.00    0.0     0.0   0.00   0.00    0.0     0.0     0.0    0.0    0.0    0.0\n",
      "H7110B      0.00   0.00    0.0     0.0   0.00   0.00    0.0     0.0     0.0    0.0    0.0    0.0\n",
      "H7150       0.00   0.00    0.0     0.0   0.00   0.00    0.0     0.0     0.0    0.0    0.0    0.0\n",
      "H91D0       0.00   0.00    0.0     0.0   0.00   0.00    0.0     0.0     0.0    0.0    0.0    0.0\n",
      "HXXXX     403.18   0.44   19.8    26.1  75.91  27.34    1.0     2.8     5.0    2.0    5.5    0.0\n",
      "------------------------\n",
      "------ SBB ZWK 2010 0814_Tussen de Gasten 2010\n",
      "true_hab        H0000  H3130  H6230      H6410  H6510A     H7140A  H7140B  H91D0  HXXXX\n",
      "pred_hab                                                                               \n",
      "H0000     1526.833333    0.0    0.0  18.166667     2.0   4.333333     0.0    0.0    0.0\n",
      "H3130        0.000000    0.0    0.0   0.000000     0.0   0.000000     0.0    0.0    0.0\n",
      "H6230        0.000000    0.0    0.0   0.000000     0.0   0.000000     0.0    0.0    0.0\n",
      "H6410        0.000000    0.0    0.0   0.000000     0.0   0.000000     0.0    0.0    0.0\n",
      "H6510A       0.000000    0.0    0.0   0.000000     0.0   0.000000     0.0    0.0    0.0\n",
      "H7140A       0.000000    0.0    0.0   0.000000     0.0   0.000000     0.0    0.0    0.0\n",
      "H7140B       0.500000    0.0    0.0   0.000000     0.0   0.000000     9.0    0.0    0.0\n",
      "H91D0        0.000000    0.0    0.0   0.000000     0.0   0.000000     0.0    0.0    0.0\n",
      "HXXXX      410.666667    1.5    1.0   1.833333     1.0  27.166667     0.0    3.0    0.0\n",
      "------------------------\n",
      "------ SBB ZWK 2010 0815_Trimunt_2010\n",
      "true_hab  H0000  H3160  H4010  H4030  H7150  HXXXX\n",
      "pred_hab                                          \n",
      "H0000      36.0    2.0    0.0    1.3   0.55    0.0\n",
      "H3160       0.0    0.0    0.0    0.0   0.00    0.0\n",
      "H4010       0.0    0.0    0.0    0.0   0.00    0.0\n",
      "H4030       0.0    0.0    0.0    0.0   0.00    0.0\n",
      "H7150       0.0    0.0    0.0    0.0   0.00    0.0\n",
      "HXXXX      15.5    1.5   15.0   22.2   4.95    0.0\n",
      "------------------------\n",
      "------ GL_Zuidlaardermeer2019\n",
      "true_hab   H0000  H7140B  HXXXX\n",
      "pred_hab                       \n",
      "H0000     326.30    0.65    0.0\n",
      "H7140B      1.19    8.80    0.0\n",
      "HXXXX     445.51    0.55    0.0\n",
      "------------------------\n",
      "------ SGL Hunzedal en Leekstermeer2021 Leekstermeer 2021\n",
      "true_hab       H0000  H6430A  H7140A  HXXXX\n",
      "pred_hab                                   \n",
      "H0000     168.333333     0.0     0.0    0.0\n",
      "H6430A      0.000000     0.0     0.0    0.0\n",
      "H7140A      0.000000     0.0     0.0    0.0\n",
      "HXXXX      98.666667     2.5     1.5    0.0\n",
      "------------------------\n",
      "------ SBB Lauwersmeer 2015\n",
      "true_hab        H0000  H1310  H1310A  H1330      H1330B      H2160  H2160+H      H2170       H2190  H2190+H    H2190B  H2190C  HXXXX\n",
      "pred_hab                                                                                                                            \n",
      "H0000     1642.330000    5.9    2.61   3.45  448.486667  57.150000      0.0  52.873333   32.326667     2.38  1.533333    0.82    0.0\n",
      "H1310        0.000000    0.0    0.00   0.00    0.000000   0.000000      0.0   0.000000    0.000000     0.00  0.000000    0.00    0.0\n",
      "H1310A       0.000000    0.0    0.00   0.00    0.000000   0.000000      0.0   0.000000    0.000000     0.00  0.000000    0.00    0.0\n",
      "H1330        0.000000    0.0    0.00   0.00    0.000000   0.000000      0.0   0.000000    0.000000     0.00  0.000000    0.00    0.0\n",
      "H1330B       0.000000    0.0    0.00   0.00    0.000000   0.000000      0.0   0.000000    0.000000     0.00  0.000000    0.00    0.0\n",
      "H2160        0.000000    0.0    0.00   0.00    0.000000   0.000000      0.0   0.000000    0.000000     0.00  0.000000    0.00    0.0\n",
      "H2160+H      0.000000    0.0    0.00   0.00    0.000000   0.000000      0.0   0.000000    0.000000     0.00  0.000000    0.00    0.0\n",
      "H2170        0.000000    0.0    0.00   0.00    0.000000   0.000000      0.0   0.000000    0.000000     0.00  0.000000    0.00    0.0\n",
      "H2190        0.000000    0.0    0.00   0.00    0.000000   0.000000      0.0   0.000000    0.000000     0.00  0.000000    0.00    0.0\n",
      "H2190+H      0.000000    0.0    0.00   0.00    0.000000   0.000000      0.0   0.000000    0.000000     0.00  0.000000    0.00    0.0\n",
      "H2190B       0.000000    0.0    0.00   0.00    0.000000   0.000000      0.0   0.000000    0.000000     0.00  0.000000    0.00    0.0\n",
      "H2190C       0.000000    0.0    0.00   0.00    0.000000   0.000000      0.0   0.000000    0.000000     0.00  0.000000    0.00    0.0\n",
      "HXXXX      973.503333   11.6   28.39  12.55  229.180000  44.183333      0.5  84.293333  102.840000     2.12  3.300000    3.68    0.0\n",
      "------------------------\n",
      "------ SGL Hunzedal en Leekstermeer2021 Hunzedal\n",
      "true_hab   H0000  H3130  H7140A  H7140B  H7140B+  H91D0  HXXXX\n",
      "pred_hab                                                      \n",
      "H0000     1155.0    3.0     0.0     7.0      0.0    0.0    0.0\n",
      "H3130        0.0    0.0     0.0     0.0      0.0    0.0    0.0\n",
      "H7140A       0.0    0.0     0.0     0.0      0.0    0.0    0.0\n",
      "H7140B       0.0    0.0     0.0     1.5      0.0    0.0    0.0\n",
      "H7140B+      0.0    0.0     0.0     0.0      0.0    0.0    0.0\n",
      "H91D0        0.0    0.0     0.0     0.0      0.0    0.0    0.0\n",
      "HXXXX      612.0    0.5     4.5     9.5      0.5    6.5    0.0\n",
      "------------------------\n",
      "------ Schiermonnikoog_2015\n",
      "true_hab   H0000  H1330A  H2120  H2130A  H2130B  H2130C  H2140B   H2160  H2170  H2180A  H2180B  H2180C  H2190A  H2190B  H2190C  H2190D  H6410  H9999  HXXXX\n",
      "pred_hab                                                                                                                                                   \n",
      "H0000     503.46     3.4  15.13     0.0   95.55    5.38     0.0  105.07  59.52   45.20   34.83     0.0    0.50   14.31    0.94    3.38   0.50   10.0    0.0\n",
      "H1330A      0.00     1.1   0.00     0.0    0.00    0.00     0.0    0.00   0.00    0.00    0.00     0.0    0.00    0.00    0.00    0.00   0.00    0.0    0.0\n",
      "H2120       0.00     0.0   0.00     0.0    0.00    0.00     0.0    0.00   0.00    0.00    0.00     0.0    0.00    0.00    0.00    0.00   0.00    0.0    0.0\n",
      "H2130A      0.03     0.0   0.00     0.0    0.00    0.00     0.0    0.00   0.05    0.00    0.00     0.0    0.00    0.00    0.00    0.00   0.00    0.0    0.0\n",
      "H2130B      7.41     0.0   0.00     0.0  106.51    0.00     0.0    0.00   0.00    0.00    0.00     0.0    0.00    1.00    0.00    0.00   0.00    0.0    0.0\n",
      "H2130C      2.91     0.0   0.00     0.0    0.00   71.81     0.0    0.00   0.00    0.00    0.00     0.0    0.00    0.00    0.00    0.00   0.00    0.0    0.0\n",
      "H2140B      0.00     0.0   0.00     0.0    0.00    0.00     0.0    0.00   0.00    0.00    0.00     0.0    0.00    0.00    0.00    0.00   0.00    0.0    0.0\n",
      "H2160       0.00     0.0   0.00     0.0    0.00    0.00     0.0    0.00   0.00    0.00    0.00     0.0    0.00    0.00    0.00    0.00   0.00    0.0    0.0\n",
      "H2170       0.00     0.0   0.00     0.0    0.00    0.00     0.0    0.00   0.00    0.00    0.00     0.0    0.00    0.00    0.00    0.00   0.00    0.0    0.0\n",
      "H2180A     11.44     0.0   0.00     0.0    0.56    0.00     0.0    0.40   0.00   27.89    0.00     0.0    0.00    0.00    0.00    0.00   0.00    0.0    0.0\n",
      "H2180B     20.42     1.2   0.00     0.0    0.31    0.00     0.0    0.70   0.20   62.27   24.44     0.0    0.00    0.00    0.00    3.40   0.00    0.0    0.0\n",
      "H2180C      1.00     0.0   0.00     0.0    0.00    0.00     0.0    0.00   0.00    0.00    0.00     2.0    0.00    0.00    0.00    0.00   0.00    0.0    0.0\n",
      "H2190A      0.00     0.0   0.00     0.0    0.00    0.00     0.0    0.00   0.00    0.00    0.00     0.0    0.00    0.00    0.00    0.00   0.00    0.0    0.0\n",
      "H2190B      6.88     0.0   0.11     0.0    1.10    0.00     0.0    1.07   1.45    0.30    1.25     0.0    0.00   48.52    0.00    0.85   0.00    0.0    0.0\n",
      "H2190C      0.00     0.0   0.00     0.0    0.00    0.00     0.0    0.00   0.00    0.00    0.89     0.0    0.00    0.00    4.31    0.00   0.00    0.0    0.0\n",
      "H2190D      0.00     0.0   0.00     0.0    0.00    0.00     0.0    0.00   0.00    0.00    0.00     0.0    0.00    0.00    0.00    0.00   0.00    0.0    0.0\n",
      "H6410       0.00     0.0   0.00     0.0    0.00    0.00     0.0    0.00   0.00    0.00    0.00     0.0    0.00    0.00    0.00    0.00   0.00    0.0    0.0\n",
      "H9999       0.00     0.0   0.00     0.0    0.00    0.00     0.0    0.00   0.00    0.00    0.00     0.0    0.00    0.00    0.00    0.00   0.00    0.0    0.0\n",
      "HXXXX     246.66     4.4  40.12     0.0  295.74    0.40     0.6   83.40  16.25   83.58   19.39     1.0   16.89    0.86    2.87   41.80  27.09    0.0    0.0\n",
      "------------------------\n",
      "------ Vlieland_2013\n",
      "true_hab   H0000  H1310A  H1330A  H2110   H2120  H2130A  H2130B  H2130C  H2140B  H2160  H2170  H2180A  H2180B  H2190A  H2190B  H2190C  H2190D  H6230  H6410  HXXXX\n",
      "pred_hab                                                                                                                                                          \n",
      "H0000     436.69    0.97    1.50    0.0    8.00    0.00    0.10    4.31    0.13  48.41   5.60    7.90     0.0     2.4    0.21    0.60    0.00   0.00    0.0    0.0\n",
      "H1310A      0.00    4.84    0.00    0.0    0.00    0.00    0.00    0.00    0.00   0.00   0.00    0.00     0.0     0.0    0.00    0.00    0.00   0.00    0.0    0.0\n",
      "H1330A      0.10    0.00   16.82    0.0    0.00    0.00    0.00    0.00    0.00   0.00   0.00    0.00     0.0     0.0    0.00    0.00    0.00   0.00    0.0    0.0\n",
      "H2110       0.03    0.00    0.00    5.3    0.00    0.00    0.00    0.00    0.00   0.00   0.00    0.00     0.0     0.0    0.00    0.00    0.00   0.00    0.0    0.0\n",
      "H2120       0.00    0.00    0.00    0.0    0.00    0.00    0.00    0.00    0.00   0.00   0.00    0.00     0.0     0.0    0.00    0.00    0.00   0.00    0.0    0.0\n",
      "H2130A      0.25    0.00    0.00    0.0    0.00   13.81    0.00    0.00    0.00   0.00   0.00    0.00     0.0     0.0    0.00    0.00    0.00   0.00    0.0    0.0\n",
      "H2130B      0.00    0.00    0.00    0.0    0.00    0.00  117.03    0.00    0.00   0.00   0.00    0.00     0.0     0.0    0.00    0.00    0.00   0.00    0.0    0.0\n",
      "H2130C      0.03    0.00    0.00    0.0    0.00    0.00    0.00   14.69    0.00   0.00   0.00    0.00     0.0     0.0    0.00    0.00    0.00   0.00    0.0    0.0\n",
      "H2140B      0.00    0.00    0.00    0.0    0.00    0.00    0.00    0.00    0.00   0.00   0.00    0.00     0.0     0.0    0.00    0.00    0.00   0.00    0.0    0.0\n",
      "H2160       0.00    0.00    0.00    0.0    0.00    0.00    0.00    0.00    0.00   0.00   0.00    0.00     0.0     0.0    0.00    0.00    0.00   0.00    0.0    0.0\n",
      "H2170       0.00    0.00    0.00    0.0    0.00    0.00    0.00    0.00    0.00   0.00   0.00    0.00     0.0     0.0    0.00    0.00    0.00   0.00    0.0    0.0\n",
      "H2180A      0.10    0.00    0.00    0.0    0.00    0.00    0.00    0.00    0.00   0.00   0.00   32.59     0.0     0.0    0.00    0.00    0.00   0.00    0.0    0.0\n",
      "H2180B      0.00    0.00    0.00    0.0    0.00    0.00    0.00    0.00    0.00   0.00   0.00    0.00    20.8     0.0    0.00    0.00    0.00   0.00    0.0    0.0\n",
      "H2190A      0.00    0.00    0.00    0.0    0.00    0.00    0.00    0.00    0.00   0.00   0.00    0.00     0.0     0.0    0.00    0.00    0.00   0.00    0.0    0.0\n",
      "H2190B      0.20    0.00    0.00    0.0    0.00    0.00    0.00    0.00    0.00   0.00   0.00    0.00     0.0     0.0   39.19    0.00    0.00   0.00    0.0    0.0\n",
      "H2190C      0.15    0.00    0.00    0.0    0.00    0.00    0.00    0.00    0.00   0.00   0.00    0.00     0.0     0.0    0.00   46.98    0.00   0.00    0.0    0.0\n",
      "H2190D      0.00    0.00    0.00    0.0    0.00    0.00    0.00    0.00    0.00   0.00   0.00    0.00     0.0     0.0    0.00    0.00    0.00   0.00    0.0    0.0\n",
      "H6230       0.03    0.00    0.00    0.0    0.00    0.00    0.00    0.03    0.00   0.00   0.00    0.00     0.0     0.0    0.00    0.00    0.00   3.92    0.0    0.0\n",
      "H6410       0.00    0.00    0.00    0.0    0.00    0.00    0.00    0.00    0.00   0.00   0.00    0.00     0.0     0.0    0.00    0.00    0.00   0.00    0.0    0.0\n",
      "HXXXX     235.60    0.30    0.10    0.0  127.09    0.10  634.05    0.13  361.81  27.88  26.23   30.40     5.0     5.9    1.24   70.27   36.19   0.00    2.0    0.0\n",
      "------------------------\n",
      "------ NM_Mantingerbos_2015\n",
      "true_hab  H0000  H9120  HXXXX\n",
      "pred_hab                     \n",
      "H0000     123.5   24.0    0.0\n",
      "H9120       0.0    0.0    0.0\n",
      "HXXXX      38.5   48.0    0.0\n",
      "------------------------\n",
      "------ SBB1034_Dwingelderveld2017\n",
      "true_hab    H0000       H2310       H2320  H2330  H3110  H3130       H3160       H4010A        H4030      H5130       H6230  H7110B       H7120       H7150  H9120      H9190  H91D0  HXXXX\n",
      "pred_hab                                                                                                                                                                                   \n",
      "H0000     1707.02   77.916667  167.000000   1.76   1.00   7.76    7.323333   238.740000   478.360000  34.443333   19.126667    9.49    8.526667   19.333333   0.20  13.333333   4.00    0.0\n",
      "H2310        0.00    0.000000    0.000000   0.00   0.00   0.00    0.000000     0.000000     0.000000   0.000000    0.000000    0.00    0.000000    0.000000   0.00   0.000000   0.00    0.0\n",
      "H2320        0.00    0.000000    0.000000   0.00   0.00   0.00    0.000000     0.000000     0.000000   0.000000    0.000000    0.00    0.000000    0.000000   0.00   0.000000   0.00    0.0\n",
      "H2330        0.00    0.000000    0.000000   0.00   0.00   0.00    0.000000     0.000000     0.000000   0.000000    0.000000    0.00    0.000000    0.000000   0.00   0.000000   0.00    0.0\n",
      "H3110        0.00    0.000000    0.000000   0.00   0.00   0.00    0.000000     0.000000     0.000000   0.000000    0.000000    0.00    0.000000    0.000000   0.00   0.000000   0.00    0.0\n",
      "H3130        0.00    0.000000    0.000000   0.00   0.00   0.00    0.000000     0.000000     0.000000   0.000000    0.000000    0.00    0.000000    0.000000   0.00   0.000000   0.00    0.0\n",
      "H3160        0.00    0.000000    0.000000   0.00   0.00   0.00    0.000000     0.000000     0.000000   0.000000    0.000000    0.00    0.000000    0.000000   0.00   0.000000   0.00    0.0\n",
      "H4010A       0.00    0.000000    0.000000   0.00   0.00   0.00    0.000000     0.000000     0.000000   0.000000    0.000000    0.00    0.000000    0.000000   0.00   0.000000   0.00    0.0\n",
      "H4030        0.00    0.000000    0.000000   0.00   0.00   0.00    0.000000     0.000000     0.000000   0.000000    0.000000    0.00    0.000000    0.000000   0.00   0.000000   0.00    0.0\n",
      "H5130        0.00    0.000000    0.000000   0.00   0.00   0.00    0.000000     0.000000     0.000000   0.000000    0.000000    0.00    0.000000    0.000000   0.00   0.000000   0.00    0.0\n",
      "H6230        3.30    0.000000    0.333333   0.00   0.00   0.80    0.030000     1.573333     3.566667   0.000000    9.533333    0.00    0.000000    0.030000   0.00   0.000000   0.00    0.0\n",
      "H7110B       0.00    0.000000    0.000000   0.00   0.00   0.00    0.000000     0.000000     0.000000   0.000000    0.000000    0.00    0.000000    0.000000   0.00   0.000000   0.00    0.0\n",
      "H7120        0.00    0.000000    0.000000   0.00   0.00   0.00    0.000000     0.000000     0.000000   0.000000    0.000000    0.00    0.000000    0.000000   0.00   0.000000   0.00    0.0\n",
      "H7150        0.00    0.000000    0.000000   0.00   0.00   0.00    0.000000     0.000000     0.000000   0.000000    0.000000    0.00    0.000000    0.000000   0.00   0.000000   0.00    0.0\n",
      "H9120        0.00    0.000000    0.000000   0.00   0.00   0.00    0.000000     0.000000     0.000000   0.000000    0.000000    0.00    0.000000    0.000000   0.00   0.000000   0.00    0.0\n",
      "H9190        0.00    0.000000    0.000000   0.00   0.00   0.00    0.000000     0.000000     0.000000   0.000000    0.000000    0.00    0.000000    0.000000   0.00   0.000000   0.00    0.0\n",
      "H91D0        0.00    0.000000    0.000000   0.00   0.00   0.00    0.000000     0.000000     0.000000   0.000000    0.000000    0.00    0.000000    0.000000   0.00   0.000000   0.00    0.0\n",
      "HXXXX     3851.38  192.913333  145.156667   1.76   2.04  98.66  123.556667  2130.586667  2179.293333  18.616667  106.790000  107.51  160.853333  207.846667   3.01   7.416667   7.11    0.0\n",
      "------------------------\n",
      "------ Drouwenerzand_2020\n",
      "true_hab  H0000  H2310  H2320  H2330  H5130  HXXXX\n",
      "pred_hab                                          \n",
      "H0000      24.0   0.00    0.0    0.0   0.00    0.0\n",
      "H2310       0.0   0.00    0.0    0.0   0.00    0.0\n",
      "H2320       0.0   0.00    0.0    0.0   0.00    0.0\n",
      "H2330       0.0   0.00    0.0    0.0   0.00    0.0\n",
      "H5130       0.0   0.00    0.0    0.0   0.00    0.0\n",
      "HXXXX      33.5  25.17   13.1   25.1  19.13    0.0\n",
      "------------------------\n",
      "------ NM_Fochteloerveen2013_14\n",
      "true_hab   H0000  H2320   H4030  H7110A        H7120  H7140B  HXXXX\n",
      "pred_hab                                                           \n",
      "H0000     299.13   5.55   22.53     1.0   920.456667     0.0    0.0\n",
      "H2320       0.00   0.00    0.00     0.0     0.000000     0.0    0.0\n",
      "H4030       0.00   0.00    0.00     0.0     0.000000     0.0    0.0\n",
      "H7110A      0.00   0.00    0.00     0.0     0.000000     0.0    0.0\n",
      "H7120       0.00   0.00    0.00     0.0     0.000000     0.0    0.0\n",
      "H7140B      3.89   0.00    0.00     0.0     0.110000     0.0    0.0\n",
      "HXXXX     532.93  28.69  272.29     3.0  6639.423333     0.0    0.0\n",
      "------------------------\n",
      "------ NM_SBB_Fochteloerveen_randen2016\n",
      "true_hab  H0000  H7120  HXXXX\n",
      "pred_hab                     \n",
      "H0000     122.0    0.0    0.0\n",
      "H7120       0.0    0.0    0.0\n",
      "HXXXX      38.0   38.0    0.0\n",
      "------------------------\n",
      "------ SBB0816_Norg2010\n",
      "true_hab   H0000  H4030   H7120  HXXXX\n",
      "pred_hab                              \n",
      "H0000      57.19    1.0   16.81    0.0\n",
      "H4030       0.00    0.0    0.00    0.0\n",
      "H7120       0.00    0.0    0.00    0.0\n",
      "HXXXX     118.90    1.0  302.10    0.0\n",
      "------------------------\n",
      "------ NM_Fochteloerveen_2020\n",
      "true_hab  H0000  H2320  H4030  H7110A    H7120  HXXXX\n",
      "pred_hab                                             \n",
      "H0000     18.63   7.30   0.58     0.0     0.62    0.0\n",
      "H2320      0.00   0.00   0.00     0.0     0.00    0.0\n",
      "H4030      0.00   0.00   0.00     0.0     0.00    0.0\n",
      "H7110A     0.00   0.00   0.00     0.0     0.00    0.0\n",
      "H7120      0.00   0.00   0.00     0.0     0.00    0.0\n",
      "HXXXX     92.69   1.06  73.95     5.0  1066.17    0.0\n",
      "------------------------\n",
      "------ BosGroep_SNLMonitoring_2014\n",
      "true_hab  H0000  H4030  H7120  HXXXX\n",
      "pred_hab                            \n",
      "H0000      8.00    0.0   2.00    0.0\n",
      "H4030      0.00    0.0   0.00    0.0\n",
      "H7120      0.00    0.0   0.00    0.0\n",
      "HXXXX      8.89    4.0  37.11    0.0\n",
      "------------------------\n",
      "------ NM_DCR_2013\n",
      "true_hab  H0000  H7120  HXXXX\n",
      "pred_hab                     \n",
      "H0000      21.0   11.0    0.0\n",
      "H7120       0.0    0.0    0.0\n",
      "HXXXX      23.0   18.0    0.0\n",
      "------------------------\n",
      "------ PRV_Witterdiep2021\n",
      "true_hab  H0000  H6230  H6410  H6430A  H7140A  H7230  HXXXX\n",
      "pred_hab                                                   \n",
      "H0000      66.0    0.0    0.0     0.0     0.0    0.0    0.0\n",
      "H6230       0.0    1.0    0.0     0.0     0.0    0.0    0.0\n",
      "H6410       0.0    0.0    0.0     0.0     0.0    0.0    0.0\n",
      "H6430A      0.0    0.0    0.0     0.0     0.0    0.0    0.0\n",
      "H7140A      0.0    0.0    0.0     0.0     0.0    0.0    0.0\n",
      "H7230       1.0    0.0    0.0     0.0     0.0    0.0    0.0\n",
      "HXXXX     105.0    0.0    7.0    13.0     1.0    0.0    0.0\n",
      "------------------------\n"
     ]
    }
   ],
   "source": [
    "for key, gdf in output.items():\n",
    "    print(\"------ \" + key)\n",
    "    print(validation.bereken_volledige_conf_matrix(gdf, method=\"percentage\"))\n",
    "    print(\"------------------------\")"
   ]
  },
  {
   "cell_type": "markdown",
   "metadata": {},
   "source": [
    "Area/oppervlak"
   ]
  },
  {
   "cell_type": "code",
   "execution_count": 5,
   "metadata": {},
   "outputs": [
    {
     "name": "stdout",
     "output_type": "stream",
     "text": [
      "------ SBB Westerwolde 2020\n",
      "true_hab       H0000     H3130     H3160    H4010A      H4030     H6230     H6410    H6430A    H7110B     H7150     H91D0  HXXXX\n",
      "pred_hab                                                                                                                        \n",
      "H0000     183.312927  0.042034  0.030363  0.017451   0.391525  4.017836  0.000000  0.049636  0.000000  0.000000  0.000000    0.0\n",
      "H3130       0.000000  0.000000  0.000000  0.000000   0.000000  0.000000  0.000000  0.000000  0.000000  0.000000  0.000000    0.0\n",
      "H3160       0.000000  0.000000  0.000000  0.000000   0.000000  0.000000  0.000000  0.000000  0.000000  0.000000  0.000000    0.0\n",
      "H4010A      0.000000  0.000000  0.000000  0.000000   0.000000  0.000000  0.000000  0.000000  0.000000  0.000000  0.000000    0.0\n",
      "H4030       0.000000  0.000000  0.000000  0.000000   0.000000  0.000000  0.000000  0.000000  0.000000  0.000000  0.000000    0.0\n",
      "H6230       0.000000  0.000000  0.000000  0.000000   0.000000  0.000000  0.000000  0.000000  0.000000  0.000000  0.000000    0.0\n",
      "H6410       0.000000  0.000000  0.000000  0.000000   0.000000  0.000000  0.000000  0.000000  0.000000  0.000000  0.000000    0.0\n",
      "H6430A      0.000000  0.000000  0.000000  0.000000   0.000000  0.000000  0.000000  0.000000  0.000000  0.000000  0.000000    0.0\n",
      "H7110B      0.000000  0.000000  0.000000  0.000000   0.000000  0.000000  0.000000  0.000000  0.000000  0.000000  0.000000    0.0\n",
      "H7150       0.000000  0.000000  0.000000  0.000000   0.000000  0.000000  0.000000  0.000000  0.000000  0.000000  0.000000    0.0\n",
      "H91D0       0.000000  0.000000  0.000000  0.000000   0.000000  0.000000  0.000000  0.000000  0.000000  0.000000  0.000000    0.0\n",
      "HXXXX     123.377361  0.007454  5.295430  5.261231  17.638877  7.401145  0.412169  0.348749  0.421666  0.083386  0.429965    0.0\n",
      "------------------------\n",
      "------ SBB ZWK 2010 0814_Tussen de Gasten 2010\n",
      "true_hab       H0000     H3130     H6230     H6410    H6510A    H7140A    H7140B    H91D0  HXXXX\n",
      "pred_hab                                                                                        \n",
      "H0000     963.516381  0.000000  0.000000  1.420965  0.202216  0.326589  0.000000  0.00000    0.0\n",
      "H3130       0.000000  0.000000  0.000000  0.000000  0.000000  0.000000  0.000000  0.00000    0.0\n",
      "H6230       0.000000  0.000000  0.000000  0.000000  0.000000  0.000000  0.000000  0.00000    0.0\n",
      "H6410       0.000000  0.000000  0.000000  0.000000  0.000000  0.000000  0.000000  0.00000    0.0\n",
      "H6510A      0.000000  0.000000  0.000000  0.000000  0.000000  0.000000  0.000000  0.00000    0.0\n",
      "H7140A      0.000000  0.000000  0.000000  0.000000  0.000000  0.000000  0.000000  0.00000    0.0\n",
      "H7140B      0.049279  0.000000  0.000000  0.000000  0.000000  0.000000  1.242002  0.00000    0.0\n",
      "H91D0       0.000000  0.000000  0.000000  0.000000  0.000000  0.000000  0.000000  0.00000    0.0\n",
      "HXXXX     120.818823  0.040002  0.028641  0.212346  0.174340  4.864140  0.000000  0.40667    0.0\n",
      "------------------------\n",
      "------ SBB ZWK 2010 0815_Trimunt_2010\n",
      "true_hab      H0000     H3160     H4010      H4030     H7150  HXXXX\n",
      "pred_hab                                                           \n",
      "H0000     11.067340  0.071916  0.000000   0.719065  0.114542    0.0\n",
      "H3160      0.000000  0.000000  0.000000   0.000000  0.000000    0.0\n",
      "H4010      0.000000  0.000000  0.000000   0.000000  0.000000    0.0\n",
      "H4030      0.000000  0.000000  0.000000   0.000000  0.000000    0.0\n",
      "H7150      0.000000  0.000000  0.000000   0.000000  0.000000    0.0\n",
      "HXXXX      7.831792  2.493691  6.861805  17.430544  3.126014    0.0\n",
      "------------------------\n",
      "------ GL_Zuidlaardermeer2019\n",
      "true_hab       H0000    H7140B  HXXXX\n",
      "pred_hab                             \n",
      "H0000     125.580737  0.143945    0.0\n",
      "H7140B      0.314803  3.464846    0.0\n",
      "HXXXX     684.325790  0.166313    0.0\n",
      "------------------------\n",
      "------ SGL Hunzedal en Leekstermeer2021 Leekstermeer 2021\n",
      "true_hab     H0000   H6430A    H7140A  HXXXX\n",
      "pred_hab                                    \n",
      "H0000     66.35827  0.00000  0.000000    0.0\n",
      "H6430A     0.00000  0.00000  0.000000    0.0\n",
      "H7140A     0.00000  0.00000  0.000000    0.0\n",
      "HXXXX     24.73086  0.22897  0.044848    0.0\n",
      "------------------------\n",
      "------ SBB Lauwersmeer 2015\n",
      "true_hab        H0000     H1310     H1310A     H1330      H1330B      H2160   H2160+H       H2170      H2190   H2190+H    H2190B    H2190C  HXXXX\n",
      "pred_hab                                                                                                                                         \n",
      "H0000     1632.694532  7.324426   0.642690  1.495346  484.226980  18.656453  0.000000   77.931094  60.262292  7.762069  1.277214  0.677650    0.0\n",
      "H1310        0.000000  0.000000   0.000000  0.000000    0.000000   0.000000  0.000000    0.000000   0.000000  0.000000  0.000000  0.000000    0.0\n",
      "H1310A       0.000000  0.000000   0.000000  0.000000    0.000000   0.000000  0.000000    0.000000   0.000000  0.000000  0.000000  0.000000    0.0\n",
      "H1330        0.000000  0.000000   0.000000  0.000000    0.000000   0.000000  0.000000    0.000000   0.000000  0.000000  0.000000  0.000000    0.0\n",
      "H1330B       0.000000  0.000000   0.000000  0.000000    0.000000   0.000000  0.000000    0.000000   0.000000  0.000000  0.000000  0.000000    0.0\n",
      "H2160        0.000000  0.000000   0.000000  0.000000    0.000000   0.000000  0.000000    0.000000   0.000000  0.000000  0.000000  0.000000    0.0\n",
      "H2160+H      0.000000  0.000000   0.000000  0.000000    0.000000   0.000000  0.000000    0.000000   0.000000  0.000000  0.000000  0.000000    0.0\n",
      "H2170        0.000000  0.000000   0.000000  0.000000    0.000000   0.000000  0.000000    0.000000   0.000000  0.000000  0.000000  0.000000    0.0\n",
      "H2190        0.000000  0.000000   0.000000  0.000000    0.000000   0.000000  0.000000    0.000000   0.000000  0.000000  0.000000  0.000000    0.0\n",
      "H2190+H      0.000000  0.000000   0.000000  0.000000    0.000000   0.000000  0.000000    0.000000   0.000000  0.000000  0.000000  0.000000    0.0\n",
      "H2190B       0.000000  0.000000   0.000000  0.000000    0.000000   0.000000  0.000000    0.000000   0.000000  0.000000  0.000000  0.000000    0.0\n",
      "H2190C       0.000000  0.000000   0.000000  0.000000    0.000000   0.000000  0.000000    0.000000   0.000000  0.000000  0.000000  0.000000    0.0\n",
      "HXXXX      824.905431  6.054676  13.888435  5.084100  152.775825  21.799145  0.447118  110.389556  74.126202  3.618485  2.049704  1.046109    0.0\n",
      "------------------------\n",
      "------ SGL Hunzedal en Leekstermeer2021 Hunzedal\n",
      "true_hab       H0000     H3130    H7140A    H7140B  H7140B+     H91D0  HXXXX\n",
      "pred_hab                                                                    \n",
      "H0000     743.556468  0.477076  0.000000  0.966981  0.00000  0.000000    0.0\n",
      "H3130       0.000000  0.000000  0.000000  0.000000  0.00000  0.000000    0.0\n",
      "H7140A      0.000000  0.000000  0.000000  0.000000  0.00000  0.000000    0.0\n",
      "H7140B      0.000000  0.000000  0.000000  0.380764  0.00000  0.000000    0.0\n",
      "H7140B+     0.000000  0.000000  0.000000  0.000000  0.00000  0.000000    0.0\n",
      "H91D0       0.000000  0.000000  0.000000  0.000000  0.00000  0.000000    0.0\n",
      "HXXXX     599.148063  0.027696  0.524954  0.921763  0.16761  7.951701    0.0\n",
      "------------------------\n",
      "------ Schiermonnikoog_2015\n",
      "true_hab      H0000    H1330A      H2120  H2130A      H2130B     H2130C    H2140B      H2160      H2170     H2180A     H2180B    H2180C    H2190A     H2190B    H2190C     H2190D     H6410     H9999  HXXXX\n",
      "pred_hab                                                                                                                                                                                                    \n",
      "H0000     99.282307  0.978021   1.660368     0.0    5.835525   0.045525  0.000000  30.116813  11.507448  17.265028  15.511738  0.000000  0.065495   0.245383  0.088339   0.189849  0.021105  3.171719    0.0\n",
      "H1330A     0.000000  0.156611   0.000000     0.0    0.000000   0.000000  0.000000   0.000000   0.000000   0.000000   0.000000  0.000000  0.000000   0.000000  0.000000   0.000000  0.000000  0.000000    0.0\n",
      "H2120      0.000000  0.000000   0.000000     0.0    0.000000   0.000000  0.000000   0.000000   0.000000   0.000000   0.000000  0.000000  0.000000   0.000000  0.000000   0.000000  0.000000  0.000000    0.0\n",
      "H2130A     0.004740  0.000000   0.000000     0.0    0.000000   0.000000  0.000000   0.000000   0.008341   0.000000   0.000000  0.000000  0.000000   0.000000  0.000000   0.000000  0.000000  0.000000    0.0\n",
      "H2130B     0.104673  0.000000   0.000000     0.0   54.634925   0.000000  0.000000   0.000000   0.000000   0.000000   0.000000  0.000000  0.000000   0.028355  0.000000   0.000000  0.000000  0.000000    0.0\n",
      "H2130C     0.066062  0.000000   0.000000     0.0    0.000000  19.595667  0.000000   0.000000   0.000000   0.000000   0.000000  0.000000  0.000000   0.000000  0.000000   0.000000  0.000000  0.000000    0.0\n",
      "H2140B     0.000000  0.000000   0.000000     0.0    0.000000   0.000000  0.000000   0.000000   0.000000   0.000000   0.000000  0.000000  0.000000   0.000000  0.000000   0.000000  0.000000  0.000000    0.0\n",
      "H2160      0.000000  0.000000   0.000000     0.0    0.000000   0.000000  0.000000   0.000000   0.000000   0.000000   0.000000  0.000000  0.000000   0.000000  0.000000   0.000000  0.000000  0.000000    0.0\n",
      "H2170      0.000000  0.000000   0.000000     0.0    0.000000   0.000000  0.000000   0.000000   0.000000   0.000000   0.000000  0.000000  0.000000   0.000000  0.000000   0.000000  0.000000  0.000000    0.0\n",
      "H2180A     2.194205  0.000000   0.000000     0.0    0.104300   0.000000  0.000000   0.095626   0.000000  12.276869   0.000000  0.000000  0.000000   0.000000  0.000000   0.000000  0.000000  0.000000    0.0\n",
      "H2180B     1.422023  0.019958   0.000000     0.0    0.008615   0.000000  0.000000   0.041318   0.026427  37.814978  17.953374  0.000000  0.000000   0.000000  0.000000   0.023392  0.000000  0.000000    0.0\n",
      "H2180C     0.018994  0.000000   0.000000     0.0    0.000000   0.000000  0.000000   0.000000   0.000000   0.000000   0.000000  0.623087  0.000000   0.000000  0.000000   0.000000  0.000000  0.000000    0.0\n",
      "H2190A     0.000000  0.000000   0.000000     0.0    0.000000   0.000000  0.000000   0.000000   0.000000   0.000000   0.000000  0.000000  0.000000   0.000000  0.000000   0.000000  0.000000  0.000000    0.0\n",
      "H2190B     0.313936  0.000000   0.019891     0.0    0.023327   0.000000  0.000000   0.013754   0.265540   0.001484   0.012857  0.000000  0.000000  10.862674  0.000000   0.002969  0.000000  0.000000    0.0\n",
      "H2190C     0.000000  0.000000   0.000000     0.0    0.000000   0.000000  0.000000   0.000000   0.000000   0.000000   0.007985  0.000000  0.000000   0.000000  1.090701   0.000000  0.000000  0.000000    0.0\n",
      "H2190D     0.000000  0.000000   0.000000     0.0    0.000000   0.000000  0.000000   0.000000   0.000000   0.000000   0.000000  0.000000  0.000000   0.000000  0.000000   0.000000  0.000000  0.000000    0.0\n",
      "H6410      0.000000  0.000000   0.000000     0.0    0.000000   0.000000  0.000000   0.000000   0.000000   0.000000   0.000000  0.000000  0.000000   0.000000  0.000000   0.000000  0.000000  0.000000    0.0\n",
      "H9999      0.000000  0.000000   0.000000     0.0    0.000000   0.000000  0.000000   0.000000   0.000000   0.000000   0.000000  0.000000  0.000000   0.000000  0.000000   0.000000  0.000000  0.000000    0.0\n",
      "HXXXX     62.547074  0.550169  16.499914     0.0  115.292598   0.000044  0.136356  42.045502   5.857761  42.735516   4.600010  0.032301  4.000262   0.009432  0.440523  15.669077  4.385674  0.000000    0.0\n",
      "------------------------\n",
      "------ Vlieland_2013\n",
      "true_hab       H0000    H1310A     H1330A     H2110      H2120    H2130A      H2130B    H2130C      H2140B      H2160     H2170    H2180A    H2180B    H2190A     H2190B     H2190C    H2190D     H6230     H6410  HXXXX\n",
      "pred_hab                                                                                                                                                                                                                \n",
      "H0000     124.266837  0.268760   1.900755  0.000000   0.996279  0.000000    0.091918  0.837789    0.068460  12.877545  1.680820  2.086119  0.000000  0.996704   0.078782   0.239850   0.00000  0.000000  0.000000    0.0\n",
      "H1310A      0.000000  2.019997   0.000000  0.000000   0.000000  0.000000    0.000000  0.000000    0.000000   0.000000  0.000000  0.000000  0.000000  0.000000   0.000000   0.000000   0.00000  0.000000  0.000000    0.0\n",
      "H1330A      0.034096  0.000000  10.132185  0.000000   0.000000  0.000000    0.000000  0.000000    0.000000   0.000000  0.000000  0.000000  0.000000  0.000000   0.000000   0.000000   0.00000  0.000000  0.000000    0.0\n",
      "H2110       0.005948  0.000000   0.000000  2.801375   0.000000  0.000000    0.000000  0.000000    0.000000   0.000000  0.000000  0.000000  0.000000  0.000000   0.000000   0.000000   0.00000  0.000000  0.000000    0.0\n",
      "H2120       0.000000  0.000000   0.000000  0.000000   0.000000  0.000000    0.000000  0.000000    0.000000   0.000000  0.000000  0.000000  0.000000  0.000000   0.000000   0.000000   0.00000  0.000000  0.000000    0.0\n",
      "H2130A      0.015828  0.000000   0.000000  0.000000   0.000000  3.456470    0.000000  0.000000    0.000000   0.000000  0.000000  0.000000  0.000000  0.000000   0.000000   0.000000   0.00000  0.000000  0.000000    0.0\n",
      "H2130B      0.000000  0.000000   0.000000  0.000000   0.000000  0.000000   14.616017  0.000000    0.000000   0.000000  0.000000  0.000000  0.000000  0.000000   0.000000   0.000000   0.00000  0.000000  0.000000    0.0\n",
      "H2130C      0.005625  0.000000   0.000000  0.000000   0.000000  0.000000    0.000000  4.287425    0.000000   0.000000  0.000000  0.000000  0.000000  0.000000   0.000000   0.000000   0.00000  0.000000  0.000000    0.0\n",
      "H2140B      0.000000  0.000000   0.000000  0.000000   0.000000  0.000000    0.000000  0.000000    0.000000   0.000000  0.000000  0.000000  0.000000  0.000000   0.000000   0.000000   0.00000  0.000000  0.000000    0.0\n",
      "H2160       0.000000  0.000000   0.000000  0.000000   0.000000  0.000000    0.000000  0.000000    0.000000   0.000000  0.000000  0.000000  0.000000  0.000000   0.000000   0.000000   0.00000  0.000000  0.000000    0.0\n",
      "H2170       0.000000  0.000000   0.000000  0.000000   0.000000  0.000000    0.000000  0.000000    0.000000   0.000000  0.000000  0.000000  0.000000  0.000000   0.000000   0.000000   0.00000  0.000000  0.000000    0.0\n",
      "H2180A      0.004999  0.000000   0.000000  0.000000   0.000000  0.000000    0.000000  0.000000    0.000000   0.000000  0.000000  9.914304  0.000000  0.000000   0.000000   0.000000   0.00000  0.000000  0.000000    0.0\n",
      "H2180B      0.000000  0.000000   0.000000  0.000000   0.000000  0.000000    0.000000  0.000000    0.000000   0.000000  0.000000  0.000000  4.674009  0.000000   0.000000   0.000000   0.00000  0.000000  0.000000    0.0\n",
      "H2190A      0.000000  0.000000   0.000000  0.000000   0.000000  0.000000    0.000000  0.000000    0.000000   0.000000  0.000000  0.000000  0.000000  0.000000   0.000000   0.000000   0.00000  0.000000  0.000000    0.0\n",
      "H2190B      0.008930  0.000000   0.000000  0.000000   0.000000  0.000000    0.000000  0.000000    0.000000   0.000000  0.000000  0.000000  0.000000  0.000000  14.374642   0.000000   0.00000  0.000000  0.000000    0.0\n",
      "H2190C      0.008025  0.000000   0.000000  0.000000   0.000000  0.000000    0.000000  0.000000    0.000000   0.000000  0.000000  0.000000  0.000000  0.000000   0.000000  13.137192   0.00000  0.000000  0.000000    0.0\n",
      "H2190D      0.000000  0.000000   0.000000  0.000000   0.000000  0.000000    0.000000  0.000000    0.000000   0.000000  0.000000  0.000000  0.000000  0.000000   0.000000   0.000000   0.00000  0.000000  0.000000    0.0\n",
      "H6230       0.004898  0.000000   0.000000  0.000000   0.000000  0.000000    0.000000  0.008271    0.000000   0.000000  0.000000  0.000000  0.000000  0.000000   0.000000   0.000000   0.00000  0.804778  0.000000    0.0\n",
      "H6410       0.000000  0.000000   0.000000  0.000000   0.000000  0.000000    0.000000  0.000000    0.000000   0.000000  0.000000  0.000000  0.000000  0.000000   0.000000   0.000000   0.00000  0.000000  0.000000    0.0\n",
      "HXXXX      86.609899  0.309010   0.034502  0.000000  73.137288  0.039927  422.876752  0.068460  134.447892   9.312926  6.455136  4.590181  0.444573  1.794131   0.743087  18.485224  16.94755  0.000000  0.341092    0.0\n",
      "------------------------\n",
      "------ NM_Mantingerbos_2015\n",
      "true_hab      H0000      H9120  HXXXX\n",
      "pred_hab                             \n",
      "H0000     28.707716   0.344327    0.0\n",
      "H9120      0.000000   0.000000    0.0\n",
      "HXXXX      1.715520  14.378620    0.0\n",
      "------------------------\n",
      "------ SBB1034_Dwingelderveld2017\n",
      "true_hab       H0000      H2310      H2320     H2330     H3110     H3130      H3160      H4010A       H4030      H5130      H6230     H7110B      H7120      H7150    H9120     H9190     H91D0  HXXXX\n",
      "pred_hab                                                                                                                                                                                              \n",
      "H0000     556.526518  17.703472  51.132369  0.157785  0.029074  0.658285   0.570272   27.163820   94.015897  11.296218   2.013192   0.086288   1.788178   0.512923  0.09419  5.413372  0.018659    0.0\n",
      "H2310       0.000000   0.000000   0.000000  0.000000  0.000000  0.000000   0.000000    0.000000    0.000000   0.000000   0.000000   0.000000   0.000000   0.000000  0.00000  0.000000  0.000000    0.0\n",
      "H2320       0.000000   0.000000   0.000000  0.000000  0.000000  0.000000   0.000000    0.000000    0.000000   0.000000   0.000000   0.000000   0.000000   0.000000  0.00000  0.000000  0.000000    0.0\n",
      "H2330       0.000000   0.000000   0.000000  0.000000  0.000000  0.000000   0.000000    0.000000    0.000000   0.000000   0.000000   0.000000   0.000000   0.000000  0.00000  0.000000  0.000000    0.0\n",
      "H3110       0.000000   0.000000   0.000000  0.000000  0.000000  0.000000   0.000000    0.000000    0.000000   0.000000   0.000000   0.000000   0.000000   0.000000  0.00000  0.000000  0.000000    0.0\n",
      "H3130       0.000000   0.000000   0.000000  0.000000  0.000000  0.000000   0.000000    0.000000    0.000000   0.000000   0.000000   0.000000   0.000000   0.000000  0.00000  0.000000  0.000000    0.0\n",
      "H3160       0.000000   0.000000   0.000000  0.000000  0.000000  0.000000   0.000000    0.000000    0.000000   0.000000   0.000000   0.000000   0.000000   0.000000  0.00000  0.000000  0.000000    0.0\n",
      "H4010A      0.000000   0.000000   0.000000  0.000000  0.000000  0.000000   0.000000    0.000000    0.000000   0.000000   0.000000   0.000000   0.000000   0.000000  0.00000  0.000000  0.000000    0.0\n",
      "H4030       0.000000   0.000000   0.000000  0.000000  0.000000  0.000000   0.000000    0.000000    0.000000   0.000000   0.000000   0.000000   0.000000   0.000000  0.00000  0.000000  0.000000    0.0\n",
      "H5130       0.000000   0.000000   0.000000  0.000000  0.000000  0.000000   0.000000    0.000000    0.000000   0.000000   0.000000   0.000000   0.000000   0.000000  0.00000  0.000000  0.000000    0.0\n",
      "H6230       0.220310   0.000000   0.000089  0.000000  0.000000  0.001408   0.000219    0.005096    0.027248   0.000000   2.132213   0.000000   0.000000   0.000219  0.00000  0.000000  0.000000    0.0\n",
      "H7110B      0.000000   0.000000   0.000000  0.000000  0.000000  0.000000   0.000000    0.000000    0.000000   0.000000   0.000000   0.000000   0.000000   0.000000  0.00000  0.000000  0.000000    0.0\n",
      "H7120       0.000000   0.000000   0.000000  0.000000  0.000000  0.000000   0.000000    0.000000    0.000000   0.000000   0.000000   0.000000   0.000000   0.000000  0.00000  0.000000  0.000000    0.0\n",
      "H7150       0.000000   0.000000   0.000000  0.000000  0.000000  0.000000   0.000000    0.000000    0.000000   0.000000   0.000000   0.000000   0.000000   0.000000  0.00000  0.000000  0.000000    0.0\n",
      "H9120       0.000000   0.000000   0.000000  0.000000  0.000000  0.000000   0.000000    0.000000    0.000000   0.000000   0.000000   0.000000   0.000000   0.000000  0.00000  0.000000  0.000000    0.0\n",
      "H9190       0.000000   0.000000   0.000000  0.000000  0.000000  0.000000   0.000000    0.000000    0.000000   0.000000   0.000000   0.000000   0.000000   0.000000  0.00000  0.000000  0.000000    0.0\n",
      "H91D0       0.000000   0.000000   0.000000  0.000000  0.000000  0.000000   0.000000    0.000000    0.000000   0.000000   0.000000   0.000000   0.000000   0.000000  0.00000  0.000000  0.000000    0.0\n",
      "HXXXX     704.691250  49.491265  13.801576  0.507353  1.243510  9.654911  21.556608  414.688934  428.343411   0.811437  16.742545  16.233397  26.135831  18.870534  1.77275  2.846819  1.119582    0.0\n",
      "------------------------\n",
      "------ Drouwenerzand_2020\n",
      "true_hab      H0000      H2310      H2320      H2330    H5130  HXXXX\n",
      "pred_hab                                                            \n",
      "H0000     19.087773   0.000000   0.000000   0.000000  0.00000    0.0\n",
      "H2310      0.000000   0.000000   0.000000   0.000000  0.00000    0.0\n",
      "H2320      0.000000   0.000000   0.000000   0.000000  0.00000    0.0\n",
      "H2330      0.000000   0.000000   0.000000   0.000000  0.00000    0.0\n",
      "H5130      0.000000   0.000000   0.000000   0.000000  0.00000    0.0\n",
      "HXXXX     67.210070  83.838165  14.323612  23.461521  2.75831    0.0\n",
      "------------------------\n",
      "------ NM_Fochteloerveen2013_14\n",
      "true_hab       H0000     H2320      H4030    H7110A        H7120  H7140B  HXXXX\n",
      "pred_hab                                                                       \n",
      "H0000      94.267250  0.242681   0.254067  0.040279   165.312302     0.0    0.0\n",
      "H2320       0.000000  0.000000   0.000000  0.000000     0.000000     0.0    0.0\n",
      "H4030       0.000000  0.000000   0.000000  0.000000     0.000000     0.0    0.0\n",
      "H7110A      0.000000  0.000000   0.000000  0.000000     0.000000     0.0    0.0\n",
      "H7120       0.000000  0.000000   0.000000  0.000000     0.000000     0.0    0.0\n",
      "H7140B      0.460028  0.000000   0.000000  0.000000     0.011933     0.0    0.0\n",
      "HXXXX     152.619929  2.415173  13.398444  0.074427  1036.166334     0.0    0.0\n",
      "------------------------\n",
      "------ NM_SBB_Fochteloerveen_randen2016\n",
      "true_hab      H0000      H7120  HXXXX\n",
      "pred_hab                             \n",
      "H0000     99.775270   0.000000    0.0\n",
      "H7120      0.000000   0.000000    0.0\n",
      "HXXXX     46.864372  18.602088    0.0\n",
      "------------------------\n",
      "------ SBB0816_Norg2010\n",
      "true_hab       H0000     H4030      H7120  HXXXX\n",
      "pred_hab                                        \n",
      "H0000     121.830275  0.010162   0.216989    0.0\n",
      "H4030       0.000000  0.000000   0.000000    0.0\n",
      "H7120       0.000000  0.000000   0.000000    0.0\n",
      "HXXXX      60.879023  0.051947  75.288865    0.0\n",
      "------------------------\n",
      "------ NM_Fochteloerveen_2020\n",
      "true_hab      H0000     H2320      H4030    H7110A       H7120  HXXXX\n",
      "pred_hab                                                             \n",
      "H0000      4.478347  1.117702   0.162049  0.000000    0.225789    0.0\n",
      "H2320      0.000000  0.000000   0.000000  0.000000    0.000000    0.0\n",
      "H4030      0.000000  0.000000   0.000000  0.000000    0.000000    0.0\n",
      "H7110A     0.000000  0.000000   0.000000  0.000000    0.000000    0.0\n",
      "H7120      0.000000  0.000000   0.000000  0.000000    0.000000    0.0\n",
      "HXXXX     34.298992  0.309620  21.593595  0.114706  370.687758    0.0\n",
      "------------------------\n",
      "------ BosGroep_SNLMonitoring_2014\n",
      "true_hab     H0000     H4030     H7120  HXXXX\n",
      "pred_hab                                     \n",
      "H0000     7.649989  0.000000  0.099194    0.0\n",
      "H4030     0.000000  0.000000  0.000000    0.0\n",
      "H7120     0.000000  0.000000  0.000000    0.0\n",
      "HXXXX     2.225568  0.687377  7.298255    0.0\n",
      "------------------------\n",
      "------ NM_DCR_2013\n",
      "true_hab      H0000      H7120  HXXXX\n",
      "pred_hab                             \n",
      "H0000     30.395586  11.129725    0.0\n",
      "H7120      0.000000   0.000000    0.0\n",
      "HXXXX      8.521352   6.211946    0.0\n",
      "------------------------\n",
      "------ PRV_Witterdiep2021\n",
      "true_hab     H0000     H6230     H6410   H6430A    H7140A  H7230  HXXXX\n",
      "pred_hab                                                               \n",
      "H0000     3.920446  0.000000  0.000000  0.00000  0.000000    0.0    0.0\n",
      "H6230     0.000000  0.049384  0.000000  0.00000  0.000000    0.0    0.0\n",
      "H6410     0.000000  0.000000  0.000000  0.00000  0.000000    0.0    0.0\n",
      "H6430A    0.000000  0.000000  0.000000  0.00000  0.000000    0.0    0.0\n",
      "H7140A    0.000000  0.000000  0.000000  0.00000  0.000000    0.0    0.0\n",
      "H7230     0.051438  0.000000  0.000000  0.00000  0.000000    0.0    0.0\n",
      "HXXXX     4.917201  0.000000  0.376797  1.32861  0.041393    0.0    0.0\n",
      "------------------------\n"
     ]
    }
   ],
   "source": [
    "for key, gdf in output.items():\n",
    "    print(\"------ \" + key)\n",
    "    print(validation.bereken_volledige_conf_matrix(gdf, method=\"area\"))\n",
    "    print(\"------------------------\")"
   ]
  },
  {
   "cell_type": "markdown",
   "metadata": {},
   "source": [
    "Saving as gpkg"
   ]
  },
  {
   "cell_type": "code",
   "execution_count": 6,
   "metadata": {},
   "outputs": [],
   "source": [
    "for key, gdf in output.items():\n",
    "    gdf.to_file(f\"../testing/validation_output/{key}.gpkg\")"
   ]
  }
 ],
 "metadata": {
  "kernelspec": {
   "display_name": "veg2hab-a_Nx3ILe-py3.8",
   "language": "python",
   "name": "python3"
  },
  "language_info": {
   "codemirror_mode": {
    "name": "ipython",
    "version": 3
   },
   "file_extension": ".py",
   "mimetype": "text/x-python",
   "name": "python",
   "nbconvert_exporter": "python",
   "pygments_lexer": "ipython3",
   "version": "3.7.17"
  }
 },
 "nbformat": 4,
 "nbformat_minor": 2
}
