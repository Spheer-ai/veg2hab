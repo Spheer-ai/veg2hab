{
 "cells": [
  {
   "cell_type": "markdown",
   "metadata": {},
   "source": [
    "# Valideren van alle karteringen\n",
    "Maar voor nu enkel groningen"
   ]
  },
  {
   "cell_type": "code",
   "execution_count": 1,
   "metadata": {},
   "outputs": [
    {
     "name": "stderr",
     "output_type": "stream",
     "text": [
      "/home/jordydelange/.cache/pypoetry/virtualenvs/veg2hab-CuqoUkZb-py3.7/lib/python3.7/site-packages/geopandas/_compat.py:115: UserWarning: The Shapely GEOS version (3.11.2-CAPI-1.17.2) is incompatible with the GEOS version PyGEOS was compiled with (3.10.4-CAPI-1.16.2). Conversions between both will be slow.\n",
      "  shapely_geos_version, geos_capi_version_string\n"
     ]
    }
   ],
   "source": [
    "import geopandas as gpd\n",
    "import pandas as pd\n",
    "from typing import List, Optional, Dict\n",
    "\n",
    "from veg2hab import validation\n",
    "\n",
    "from pathlib import Path\n",
    "import geopandas as gpd\n",
    "\n",
    "from veg2hab.waswordtlijst import WasWordtLijst, opschonen_was_wordt_lijst\n",
    "from veg2hab.definitietabel import DefinitieTabel, opschonen_definitietabel\n",
    "from veg2hab.vegkartering import Kartering\n",
    "from veg2hab.fgr import FGR\n",
    "\n",
    "pd.set_option('display.max_columns', 100)\n",
    "pd.set_option('display.width', 1000)"
   ]
  },
  {
   "cell_type": "markdown",
   "metadata": {},
   "source": [
    "### Groningen"
   ]
  },
  {
   "cell_type": "code",
   "execution_count": 2,
   "metadata": {},
   "outputs": [
    {
     "name": "stderr",
     "output_type": "stream",
     "text": [
      "/home/jordydelange/git/veg2hab/veg2hab/validation.py:76: UserWarning: No non-null habitat types found, returning 100% of H0000\n",
      "  warnings.warn(f\"No non-null habitat types found, returning 100% of H0000\")\n"
     ]
    }
   ],
   "source": [
    "validationinfo = pd.read_excel(\n",
    "    \"../data/validationinfo.xlsx\", \n",
    "    engine='openpyxl', \n",
    "    usecols=[\n",
    "        \"naam_in_overzicht_vegkart\",\n",
    "        \"naam_in_overzicht_habkart\",\n",
    "        \"provincie\",\n",
    "        \"path\",\n",
    "        \"habtype_cols\",\n",
    "        \"percentage_cols\",\n",
    "    ]\n",
    ")\n",
    "# Convert all pd.NA to None to prevent having to do \"if not pd.isna()\" everywhere\n",
    "validationinfo = validationinfo.applymap(lambda x: None if pd.isna(x) else x)\n",
    "\n",
    "validationinfo = validationinfo[validationinfo[\"provincie\"] == \"Groningen\"]\n",
    "validationinfo[\"path\"] = validationinfo[\"path\"].apply(lambda x: \"../testing\" + x[1:])\n",
    "validationinfo\n",
    "\n",
    "# Load in the karteringen\n",
    "trues = {}\n",
    "for row in validationinfo.itertuples():\n",
    "    raw = gpd.read_file(row.path)\n",
    "    parsed = validation.parse_habitat_percentages(raw, habtype_cols=row.habtype_cols, percentage_cols=row.percentage_cols, how_to_handle_missing_percentages=\"split_equally\")\n",
    "    trues[row.naam_in_overzicht_vegkart] = parsed\n",
    "\n"
   ]
  },
  {
   "cell_type": "markdown",
   "metadata": {},
   "source": [
    "### Inladen habitatkarteringen"
   ]
  },
  {
   "cell_type": "code",
   "execution_count": 3,
   "metadata": {},
   "outputs": [
    {
     "name": "stdout",
     "output_type": "stream",
     "text": [
      "Benodigde resources inladen\n"
     ]
    },
    {
     "name": "stderr",
     "output_type": "stream",
     "text": [
      "/home/jordydelange/.cache/pypoetry/virtualenvs/veg2hab-CuqoUkZb-py3.7/lib/python3.7/site-packages/openpyxl/worksheet/header_footer.py:48: UserWarning: Cannot parse header or footer so it will be ignored\n",
      "  warn(\"\"\"Cannot parse header or footer so it will be ignored\"\"\")\n"
     ]
    },
    {
     "name": "stdout",
     "output_type": "stream",
     "text": [
      "Alle SBB codes zijn valide\n",
      "Alle VvN codes zijn valide\n",
      "Alle SBB codes zijn valide\n",
      "Alle VvN codes zijn valide\n",
      "Alle SBB codes zijn valide\n",
      "Alle VvN codes zijn valide\n",
      "Inladen karteringinfo\n",
      "Inladen karteringen\n",
      "Er zijn 7 vlakken zonder VegTypeInfo. Deze worden verwijderd.\n",
      "De eerste paar ElmID van de verwijderde vlakken zijn: [6099, 8174, 8174, 11051, 11023]\n",
      "Er zijn 90 vlakken zonder VegTypeInfo. Deze worden verwijderd.\n",
      "De eerste paar ElmID van de verwijderde vlakken zijn: [78, 76, 69, 82, 81]\n",
      "Toepassen tabellen en checken mitsen\n",
      "Omzetten naar final format\n"
     ]
    },
    {
     "name": "stderr",
     "output_type": "stream",
     "text": [
      "/home/jordydelange/git/veg2hab/veg2hab/validation.py:81: UserWarning: Percentages do not add up to 100% for row: 143, result: defaultdict(<function _convert_row_to_dict.<locals>.<lambda> at 0x7f1161c6b200>, {'HXXXX': 80})\n",
      "  f\"Percentages do not add up to 100% for row: {row.name}, result: {ret_values}\"\n",
      "/home/jordydelange/git/veg2hab/veg2hab/validation.py:81: UserWarning: Percentages do not add up to 100% for row: 154, result: defaultdict(<function _convert_row_to_dict.<locals>.<lambda> at 0x7f1161c6b830>, {'HXXXX': 100.0, 'H0000': 100.0})\n",
      "  f\"Percentages do not add up to 100% for row: {row.name}, result: {ret_values}\"\n",
      "/home/jordydelange/git/veg2hab/veg2hab/validation.py:81: UserWarning: Percentages do not add up to 100% for row: 191, result: defaultdict(<function _convert_row_to_dict.<locals>.<lambda> at 0x7f1161c5fcb0>, {'HXXXX': 100, 'H0000': 100.0})\n",
      "  f\"Percentages do not add up to 100% for row: {row.name}, result: {ret_values}\"\n"
     ]
    }
   ],
   "source": [
    "print(\"Benodigde resources inladen\")\n",
    "path_in_wwl = Path(\"../data/5. Was-wordt-lijst-vegetatietypen-en-habitattypen-09-02-2021.xlsx\")\n",
    "path_out_wwl = Path(\"../testing/opgeschoonde_waswordt.xlsx\")\n",
    "opschonen_was_wordt_lijst(path_in_wwl, path_out_wwl)\n",
    "wwl = WasWordtLijst.from_excel(path_out_wwl)\n",
    "\n",
    "path_in_dt = Path(\"../data/definitietabel habitattypen (versie 24 maart 2009)_0.xls\")\n",
    "path_in_mitsjson = Path(\"../data/mitsjson.csv\")\n",
    "path_out_dt = Path(\"../testing/opgeschoonde_definitietabel.xlsx\")\n",
    "opschonen_definitietabel(path_in_dt, path_in_mitsjson, path_out_dt)\n",
    "dt = DefinitieTabel.from_excel(path_out_dt)\n",
    "\n",
    "fgr = FGR(Path(\"../data/bronbestanden/FGR.json\"))\n",
    "\n",
    "\n",
    "print(\"Inladen karteringinfo\")\n",
    "overzicht = pd.read_excel(\n",
    "    \"../data/Overzicht_vegetatiekarteringen.xlsx\", \n",
    "    sheet_name=\"Vegetatiekarteringen\", \n",
    "    engine='openpyxl',\n",
    "    usecols=[\n",
    "        \"provincie\", \n",
    "        \"naam_kartering\", \n",
    "        \"path_shapes\", \n",
    "        \"landelijke_typologie beschikbaar?\", \n",
    "        \"locatie_landelijke_typologie\",\n",
    "    ],\n",
    "    dtype=\"string\"\n",
    ")\n",
    "\n",
    "# benodigde info voor de access karteringen\n",
    "access_info = pd.read_excel(\n",
    "    \"../data/accesskarteringinfo.xlsx\",\n",
    "    engine='openpyxl',\n",
    "    usecols=[\n",
    "        \"naam_kartering\",\n",
    "        \"path_csvs\",\n",
    "        \"elm_id_name\",\n",
    "    ],\n",
    "    dtype=\"string\"\n",
    ")\n",
    "\n",
    "# benodigde info voor de shapefile karteringen\n",
    "shape_info = pd.read_excel(\n",
    "    \"../data/shapefilekarteringinfo.xlsx\",\n",
    "    engine='openpyxl',\n",
    "    usecols=[\n",
    "        \"naam_kartering\",\n",
    "        \"ElmID_col\",\n",
    "        \"VvN_col\",\n",
    "        \"SBB_col\",\n",
    "        \"vegtype_split_char\",\n",
    "        \"datum_col\",\n",
    "        \"opmerking_col\",\n",
    "    ],\n",
    "    dtype=\"string\"\n",
    ")\n",
    "# Convert all pd.NA to None to prevent having to do \"if not pd.isna()\" everywhere\n",
    "shape_info = shape_info.applymap(lambda x: None if pd.isna(x) else x)\n",
    "\n",
    "# Voor nu dus even enkel karteringen uit groningen\n",
    "overzicht = overzicht[overzicht.provincie == \"Groningen\"]\n",
    "overzicht = overzicht[overzicht[\"landelijke_typologie beschikbaar?\"] == \"Ja\"]\n",
    "overzicht.path_shapes = overzicht.path_shapes.apply(lambda x: \"../testing/vegetatiekarteringen\" + x[1:])\n",
    "\n",
    "access_overzicht = overzicht[overzicht[\"locatie_landelijke_typologie\"] == \"access\"]\n",
    "access_overzicht = access_overzicht.join(access_info.set_index(\"naam_kartering\"), on=\"naam_kartering\")\n",
    "access_overzicht.path_csvs = access_overzicht.path_csvs.apply(lambda x: \"../testing/vegetatiekarteringen\" + x[1:])\n",
    "\n",
    "shapefile_overzicht = overzicht[overzicht[\"locatie_landelijke_typologie\"] == \"in shapes\"]\n",
    "shapefile_overzicht = shapefile_overzicht.join(shape_info.set_index(\"naam_kartering\"), on=\"naam_kartering\")\n",
    "\n",
    "\n",
    "print(\"Inladen karteringen\")\n",
    "karteringen = {}\n",
    "for row in access_overzicht.itertuples():\n",
    "    karteringen[row.naam_kartering] = Kartering.from_access_db(Path(row.path_shapes), row.elm_id_name, Path(row.path_csvs))\n",
    "\n",
    "for row in shapefile_overzicht.itertuples():\n",
    "    karteringen[row.naam_kartering] = Kartering.from_shapefile(\n",
    "        Path(row.path_shapes),\n",
    "        row.ElmID_col,\n",
    "        VvN_col=row.VvN_col,\n",
    "        SBB_col=row.SBB_col, \n",
    "        vegtype_split_char=row.vegtype_split_char, \n",
    "        datum_col=row.datum_col, \n",
    "        opmerking_col=row.opmerking_col\n",
    "    )\n",
    "\n",
    "\n",
    "print(\"Toepassen tabellen en checken mitsen\")\n",
    "for kartering in karteringen.values():\n",
    "    kartering.apply_wwl(wwl)\n",
    "\n",
    "for kartering in karteringen.values():\n",
    "    kartering.apply_deftabel(dt)\n",
    "\n",
    "for kartering in karteringen.values():\n",
    "    kartering.check_mitsen(fgr)\n",
    "\n",
    "\n",
    "print(\"Omzetten naar final format\")\n",
    "preds = {}\n",
    "for name, kartering in karteringen.items():\n",
    "    raw = kartering.as_final_format()\n",
    "    parsed = validation.parse_habitat_percentages(raw)\n",
    "    preds[name] = parsed"
   ]
  },
  {
   "cell_type": "markdown",
   "metadata": {},
   "source": [
    "### Combineren van de preds en de trues"
   ]
  },
  {
   "cell_type": "code",
   "execution_count": 9,
   "metadata": {},
   "outputs": [
    {
     "name": "stderr",
     "output_type": "stream",
     "text": [
      "/home/jordydelange/git/veg2hab/veg2hab/validation.py:163: UserWarning: Dropping 4193 rows based on area (presumed rounding errors) with a combined area of 2.495387607979196 m²\n",
      "  f\"Dropping {mask.sum()} rows based on area (presumed rounding errors) with a combined area of {overlayed[mask].area.sum()} m²\"\n",
      "/home/jordydelange/git/veg2hab/veg2hab/validation.py:163: UserWarning: Dropping 8208 rows based on area (presumed rounding errors) with a combined area of 0.0 m²\n",
      "  f\"Dropping {mask.sum()} rows based on area (presumed rounding errors) with a combined area of {overlayed[mask].area.sum()} m²\"\n",
      "/home/jordydelange/git/veg2hab/veg2hab/validation.py:163: UserWarning: Dropping 375 rows based on area (presumed rounding errors) with a combined area of 0.3100628544437718 m²\n",
      "  f\"Dropping {mask.sum()} rows based on area (presumed rounding errors) with a combined area of {overlayed[mask].area.sum()} m²\"\n",
      "/home/jordydelange/git/veg2hab/veg2hab/validation.py:163: UserWarning: Dropping 1785 rows based on area (presumed rounding errors) with a combined area of 1.6197345253306836 m²\n",
      "  f\"Dropping {mask.sum()} rows based on area (presumed rounding errors) with a combined area of {overlayed[mask].area.sum()} m²\"\n",
      "/home/jordydelange/git/veg2hab/veg2hab/validation.py:163: UserWarning: Dropping 3769 rows based on area (presumed rounding errors) with a combined area of 2.946588855655696 m²\n",
      "  f\"Dropping {mask.sum()} rows based on area (presumed rounding errors) with a combined area of {overlayed[mask].area.sum()} m²\"\n",
      "/home/jordydelange/git/veg2hab/veg2hab/validation.py:163: UserWarning: Dropping 1248 rows based on area (presumed rounding errors) with a combined area of 0.7538292024627701 m²\n",
      "  f\"Dropping {mask.sum()} rows based on area (presumed rounding errors) with a combined area of {overlayed[mask].area.sum()} m²\"\n",
      "/home/jordydelange/git/veg2hab/veg2hab/validation.py:163: UserWarning: Dropping 17516 rows based on area (presumed rounding errors) with a combined area of 17.750447674154106 m²\n",
      "  f\"Dropping {mask.sum()} rows based on area (presumed rounding errors) with a combined area of {overlayed[mask].area.sum()} m²\"\n",
      "/home/jordydelange/git/veg2hab/veg2hab/validation.py:163: UserWarning: Dropping 8748 rows based on area (presumed rounding errors) with a combined area of 0.0 m²\n",
      "  f\"Dropping {mask.sum()} rows based on area (presumed rounding errors) with a combined area of {overlayed[mask].area.sum()} m²\"\n"
     ]
    }
   ],
   "source": [
    "for key in trues.keys():\n",
    "    assert key in preds.keys(), f\"Key {key} not found in predictions\"\n",
    "\n",
    "output = {}\n",
    "for key, true in trues.items():\n",
    "    pred = preds[key]\n",
    "    combined = validation.spatial_join(pred, true, how=\"intersection\")\n",
    "    output[key] = validation.voeg_correctheid_toe_aan_df(combined)"
   ]
  },
  {
   "cell_type": "markdown",
   "metadata": {},
   "source": [
    "Confusion matrices"
   ]
  },
  {
   "cell_type": "code",
   "execution_count": 11,
   "metadata": {},
   "outputs": [
    {
     "name": "stdout",
     "output_type": "stream",
     "text": [
      "------ SBB Westerwolde 2020\n",
      "true_hab   H0000  H3130  H3160  H4010A  H4010_A  H4030  H6230  H6410  H6430_A  H7110_B  H7150  H91D0  HXXXX\n",
      "pred_hab                                                                                                   \n",
      "H0000     492.38    0.0    0.0     0.0      0.4   2.09   9.16    0.0      0.0      0.0    0.0    0.0    0.0\n",
      "H3130       0.00    0.0    0.0     0.0      0.0   0.00   0.00    0.0      0.0      0.0    0.0    0.0    0.0\n",
      "H3160       0.00    0.0    0.0     0.0      0.0   0.00   0.00    0.0      0.0      0.0    0.0    0.0    0.0\n",
      "H4010A      0.00    0.0    0.0     0.0      0.0   0.00   0.00    0.0      0.0      0.0    0.0    0.0    0.0\n",
      "H4010_A     0.00    0.0    0.0     0.0      0.0   0.00   0.00    0.0      0.0      0.0    0.0    0.0    0.0\n",
      "H4030       0.00    0.0    0.0     0.0      0.0   0.00   0.00    0.0      0.0      0.0    0.0    0.0    0.0\n",
      "H6230       0.00    0.0    0.0     0.0      0.0   0.00   0.00    0.0      0.0      0.0    0.0    0.0    0.0\n",
      "H6410       0.00    0.0    0.0     0.0      0.0   0.00   0.00    0.0      0.0      0.0    0.0    0.0    0.0\n",
      "H6430_A     0.00    0.0    0.0     0.0      0.0   0.00   0.00    0.0      0.0      0.0    0.0    0.0    0.0\n",
      "H7110_B     0.00    0.0    0.0     0.0      0.0   0.00   0.00    0.0      0.0      0.0    0.0    0.0    0.0\n",
      "H7150       0.00    0.0    0.0     0.0      0.0   0.00   0.00    0.0      0.0      0.0    0.0    0.0    0.0\n",
      "H91D0       0.00    0.0    0.0     0.0      0.0   0.00   0.00    0.0      0.0      0.0    0.0    0.0    0.0\n",
      "HXXXX     450.12    2.0   21.0     0.5     25.6  75.91  27.34    1.0      3.0      5.0    2.0    5.5    0.0\n",
      "------------------------\n",
      "------ SBB ZWK 2010 0814_Tussen de Gasten 2010\n",
      "true_hab        H0000  H3130  H6230  H6410  H6510_A  H7140_A  H7140_B  H91D0  HXXXX\n",
      "pred_hab                                                                           \n",
      "H0000     1492.333333    0.0    0.0   11.5      2.0      0.0      0.0    0.0    0.0\n",
      "H3130        0.000000    0.0    0.0    0.0      0.0      0.0      0.0    0.0    0.0\n",
      "H6230        0.000000    0.0    0.0    0.0      0.0      0.0      0.0    0.0    0.0\n",
      "H6410        0.000000    0.0    0.0    0.0      0.0      0.0      0.0    0.0    0.0\n",
      "H6510_A      0.000000    0.0    0.0    0.0      0.0      0.0      0.0    0.0    0.0\n",
      "H7140_A      0.000000    0.0    0.0    0.0      0.0      0.0      0.0    0.0    0.0\n",
      "H7140_B      0.500000    0.0    0.0    0.0      0.0      0.0      9.0    0.0    0.0\n",
      "H91D0        0.000000    0.0    0.0    0.0      0.0      0.0      0.0    0.0    0.0\n",
      "HXXXX      445.166667    1.5    1.0    8.5      1.0     31.5      0.0    3.0    0.0\n",
      "------------------------\n",
      "------ SBB ZWK 2010 0815_Trimunt_2010\n",
      "true_hab  H0000  H3160  H4010  H4030  H7150  HXXXX\n",
      "pred_hab                                          \n",
      "H0000      30.7    0.0    0.0    0.3    0.0    0.0\n",
      "H3160       0.0    0.0    0.0    0.0    0.0    0.0\n",
      "H4010       0.0    0.0    0.0    0.0    0.0    0.0\n",
      "H4030       0.0    0.0    0.0    0.0    0.0    0.0\n",
      "H7150       0.0    0.0    0.0    0.0    0.0    0.0\n",
      "HXXXX      20.8    3.5   15.0   23.2    5.5    0.0\n",
      "------------------------\n",
      "------ NM vegetatiekartering RuitenAa2020\n",
      "true_hab      +  H0000  H6410  H9120  HXXXX\n",
      "pred_hab                                   \n",
      "+          0.00    0.0    0.0    0.0    0.0\n",
      "H0000     10.75  308.4    4.0    0.0    0.0\n",
      "H6410      0.00    0.0    0.0    0.0    0.0\n",
      "H9120      0.00    0.0    0.0    0.0    0.0\n",
      "HXXXX      8.25  132.4    3.0   26.0    0.0\n",
      "------------------------\n",
      "------ SGL Zuidlaardermeer 2019\n",
      "true_hab   H0000  H7140_B  HXXXX\n",
      "pred_hab                        \n",
      "H0000     318.05     0.14    0.0\n",
      "H7140_B     1.19     8.80    0.0\n",
      "HXXXX     453.76     1.06    0.0\n",
      "------------------------\n",
      "------ SGL Hunzedal en Leekstermeer2021 Leekstermeer 2021\n",
      "true_hab       H0000  H6430_A  H7140_A  HXXXX\n",
      "pred_hab                                     \n",
      "H0000     163.833333      2.0      0.5    0.0\n",
      "H6430_A     0.000000      0.0      0.0    0.0\n",
      "H7140_A     0.000000      0.0      0.0    0.0\n",
      "HXXXX     103.166667      0.5      1.0    0.0\n",
      "------------------------\n",
      "------ SBB Lauwersmeer 2015\n",
      "true_hab        H0000  H1310  H1310_A  H1330     H1330_B      H2160  H2160+H       H2170       H2190  H2190+H   H2190_B  H2190_C  HXXXX\n",
      "pred_hab                                                                                                                               \n",
      "H0000     1514.580000   0.51     0.35   1.29   65.253333  55.060000      0.0   35.786667   26.006667     2.38  1.333333     0.58    0.0\n",
      "H1310        0.000000   0.00     0.00   0.00    0.000000   0.000000      0.0    0.000000    0.000000     0.00  0.000000     0.00    0.0\n",
      "H1310_A      0.000000   0.00     0.00   0.00    0.000000   0.000000      0.0    0.000000    0.000000     0.00  0.000000     0.00    0.0\n",
      "H1330        0.000000   0.00     0.00   0.00    0.000000   0.000000      0.0    0.000000    0.000000     0.00  0.000000     0.00    0.0\n",
      "H1330_B      0.000000   0.00     0.00   0.00    0.000000   0.000000      0.0    0.000000    0.000000     0.00  0.000000     0.00    0.0\n",
      "H2160        0.000000   0.00     0.00   0.00    0.000000   0.000000      0.0    0.000000    0.000000     0.00  0.000000     0.00    0.0\n",
      "H2160+H      0.000000   0.00     0.00   0.00    0.000000   0.000000      0.0    0.000000    0.000000     0.00  0.000000     0.00    0.0\n",
      "H2170        0.000000   0.00     0.00   0.00    0.000000   0.000000      0.0    0.000000    0.000000     0.00  0.000000     0.00    0.0\n",
      "H2190        0.000000   0.00     0.00   0.00    0.000000   0.000000      0.0    0.000000    0.000000     0.00  0.000000     0.00    0.0\n",
      "H2190+H      0.000000   0.00     0.00   0.00    0.000000   0.000000      0.0    0.000000    0.000000     0.00  0.000000     0.00    0.0\n",
      "H2190_B      0.000000   0.00     0.00   0.00    0.000000   0.000000      0.0    0.000000    0.000000     0.00  0.000000     0.00    0.0\n",
      "H2190_C      0.000000   0.00     0.00   0.00    0.000000   0.000000      0.0    0.000000    0.000000     0.00  0.000000     0.00    0.0\n",
      "HXXXX     1101.253333  16.99    30.65  14.71  612.413333  46.273333      0.5  101.380000  109.160000     2.12  3.500000     3.92    0.0\n",
      "------------------------\n",
      "------ SGL Hunzedal en Leekstermeer2021 Hunzedal\n",
      "true_hab        H0000  H3130  H7140B  H7140B+  H7140_A  H7140_B  H91D0  HXXXX\n",
      "pred_hab                                                                     \n",
      "H0000     1102.166667    3.0     9.5      0.5      4.0      1.5    4.0    0.0\n",
      "H3130        0.000000    0.0     0.0      0.0      0.0      0.0    0.0    0.0\n",
      "H7140B       0.000000    0.0     0.0      0.0      0.0      0.0    0.0    0.0\n",
      "H7140B+      0.000000    0.0     0.0      0.0      0.0      0.0    0.0    0.0\n",
      "H7140_A      0.000000    0.0     0.0      0.0      0.0      0.0    0.0    0.0\n",
      "H7140_B      1.500000    0.0     0.0      0.0      0.0      0.0    0.0    0.0\n",
      "H91D0        0.000000    0.0     0.0      0.0      0.0      0.0    0.0    0.0\n",
      "HXXXX      663.333333    0.5     6.5      0.0      0.5      0.5    2.5    0.0\n",
      "------------------------\n"
     ]
    }
   ],
   "source": [
    "for key, gdf in output.items():\n",
    "    print(\"------ \" + key)\n",
    "    print(validation.bereken_volledige_conf_matrix(gdf, method=\"percentage\"))\n",
    "    print(\"------------------------\")"
   ]
  },
  {
   "cell_type": "markdown",
   "metadata": {},
   "source": [
    "Saving as gpkg"
   ]
  },
  {
   "cell_type": "code",
   "execution_count": 10,
   "metadata": {},
   "outputs": [],
   "source": [
    "for key, gdf in output.items():\n",
    "    gdf.to_file(f\"../testing/validation_output/{key}.gpkg\")"
   ]
  }
 ],
 "metadata": {
  "kernelspec": {
   "display_name": "veg2hab-a_Nx3ILe-py3.8",
   "language": "python",
   "name": "python3"
  },
  "language_info": {
   "codemirror_mode": {
    "name": "ipython",
    "version": 3
   },
   "file_extension": ".py",
   "mimetype": "text/x-python",
   "name": "python",
   "nbconvert_exporter": "python",
   "pygments_lexer": "ipython3",
   "version": "3.7.17"
  }
 },
 "nbformat": 4,
 "nbformat_minor": 2
}
