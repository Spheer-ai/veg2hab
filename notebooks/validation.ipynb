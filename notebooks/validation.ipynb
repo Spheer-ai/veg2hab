{
 "cells": [
  {
   "cell_type": "markdown",
   "metadata": {},
   "source": [
    "# Valideren van alle karteringen\n",
    "Maar voor nu enkel groningen"
   ]
  },
  {
   "cell_type": "code",
   "execution_count": 1,
   "metadata": {},
   "outputs": [
    {
     "name": "stderr",
     "output_type": "stream",
     "text": [
      "/home/jordydelange/.cache/pypoetry/virtualenvs/veg2hab-CuqoUkZb-py3.7/lib/python3.7/site-packages/geopandas/_compat.py:115: UserWarning: The Shapely GEOS version (3.11.2-CAPI-1.17.2) is incompatible with the GEOS version PyGEOS was compiled with (3.10.4-CAPI-1.16.2). Conversions between both will be slow.\n",
      "  shapely_geos_version, geos_capi_version_string\n"
     ]
    }
   ],
   "source": [
    "import geopandas as gpd\n",
    "import pandas as pd\n",
    "\n",
    "from veg2hab import validation\n",
    "\n",
    "import geopandas as gpd\n",
    "\n",
    "pd.set_option('display.max_columns', 100)\n",
    "pd.set_option('display.width', 1000)\n",
    "\n",
    "omgezette_karteringen_prefix = \"../testing/omgezette_vegetatiekarteringen/\"\n",
    "habitatkarteringen_prefix = \"../testing/\""
   ]
  },
  {
   "cell_type": "markdown",
   "metadata": {},
   "source": [
    "### Groningen"
   ]
  },
  {
   "cell_type": "code",
   "execution_count": 2,
   "metadata": {},
   "outputs": [
    {
     "name": "stdout",
     "output_type": "stream",
     "text": [
      "----- SBB Westerwolde 2020\n",
      "--- trues\n",
      "--- preds\n",
      "----- SBB ZWK 2010 0814_Tussen de Gasten 2010\n",
      "--- trues\n",
      "--- preds\n"
     ]
    },
    {
     "name": "stderr",
     "output_type": "stream",
     "text": [
      "/home/jordydelange/git/veg2hab/veg2hab/validation.py:85: UserWarning: Percentages do not add up to 100% for row: 6, result: defaultdict(<function _convert_row_to_dict.<locals>.<lambda> at 0x7f18fff4a5f0>, {'HXXXX': 66.0, 'H0000': 33.0})\n",
      "  f\"Percentages do not add up to 100% for row: {row.name}, result: {ret_values}\"\n",
      "/home/jordydelange/git/veg2hab/veg2hab/validation.py:85: UserWarning: Percentages do not add up to 100% for row: 83, result: defaultdict(<function _convert_row_to_dict.<locals>.<lambda> at 0x7f18ff7d20e0>, {'HXXXX': 33, 'H0000': 66.0})\n",
      "  f\"Percentages do not add up to 100% for row: {row.name}, result: {ret_values}\"\n",
      "/home/jordydelange/git/veg2hab/veg2hab/validation.py:85: UserWarning: Percentages do not add up to 100% for row: 89, result: defaultdict(<function _convert_row_to_dict.<locals>.<lambda> at 0x7f18ff7d2440>, {'HXXXX': 66.0, 'H0000': 33.0})\n",
      "  f\"Percentages do not add up to 100% for row: {row.name}, result: {ret_values}\"\n",
      "/home/jordydelange/git/veg2hab/veg2hab/validation.py:85: UserWarning: Percentages do not add up to 100% for row: 91, result: defaultdict(<function _convert_row_to_dict.<locals>.<lambda> at 0x7f18ff7d2560>, {'HXXXX': 66.0, 'H0000': 33.0})\n",
      "  f\"Percentages do not add up to 100% for row: {row.name}, result: {ret_values}\"\n",
      "/home/jordydelange/git/veg2hab/veg2hab/validation.py:85: UserWarning: Percentages do not add up to 100% for row: 160, result: defaultdict(<function _convert_row_to_dict.<locals>.<lambda> at 0x7f18ff7d8cb0>, {'H0000': 99.0})\n",
      "  f\"Percentages do not add up to 100% for row: {row.name}, result: {ret_values}\"\n",
      "/home/jordydelange/git/veg2hab/veg2hab/validation.py:85: UserWarning: Percentages do not add up to 100% for row: 173, result: defaultdict(<function _convert_row_to_dict.<locals>.<lambda> at 0x7f18ff7db440>, {'HXXXX': 66.0, 'H0000': 33.0})\n",
      "  f\"Percentages do not add up to 100% for row: {row.name}, result: {ret_values}\"\n",
      "/home/jordydelange/git/veg2hab/veg2hab/validation.py:85: UserWarning: Percentages do not add up to 100% for row: 194, result: defaultdict(<function _convert_row_to_dict.<locals>.<lambda> at 0x7f18ff7de050>, {'HXXXX': 33, 'H0000': 66.0})\n",
      "  f\"Percentages do not add up to 100% for row: {row.name}, result: {ret_values}\"\n",
      "/home/jordydelange/git/veg2hab/veg2hab/validation.py:85: UserWarning: Percentages do not add up to 100% for row: 196, result: defaultdict(<function _convert_row_to_dict.<locals>.<lambda> at 0x7f18ff7de170>, {'HXXXX': 33, 'H0000': 66.0})\n",
      "  f\"Percentages do not add up to 100% for row: {row.name}, result: {ret_values}\"\n",
      "/home/jordydelange/git/veg2hab/veg2hab/validation.py:85: UserWarning: Percentages do not add up to 100% for row: 279, result: defaultdict(<function _convert_row_to_dict.<locals>.<lambda> at 0x7f18ff7e6170>, {'HXXXX': 99.0})\n",
      "  f\"Percentages do not add up to 100% for row: {row.name}, result: {ret_values}\"\n",
      "/home/jordydelange/git/veg2hab/veg2hab/validation.py:85: UserWarning: Percentages do not add up to 100% for row: 280, result: defaultdict(<function _convert_row_to_dict.<locals>.<lambda> at 0x7f18ff7e6290>, {'HXXXX': 33, 'H0000': 66.0})\n",
      "  f\"Percentages do not add up to 100% for row: {row.name}, result: {ret_values}\"\n",
      "/home/jordydelange/git/veg2hab/veg2hab/validation.py:85: UserWarning: Percentages do not add up to 100% for row: 282, result: defaultdict(<function _convert_row_to_dict.<locals>.<lambda> at 0x7f18ff7e63b0>, {'HXXXX': 99.0})\n",
      "  f\"Percentages do not add up to 100% for row: {row.name}, result: {ret_values}\"\n",
      "/home/jordydelange/git/veg2hab/veg2hab/validation.py:85: UserWarning: Percentages do not add up to 100% for row: 283, result: defaultdict(<function _convert_row_to_dict.<locals>.<lambda> at 0x7f18ff7e6440>, {'HXXXX': 99.0})\n",
      "  f\"Percentages do not add up to 100% for row: {row.name}, result: {ret_values}\"\n",
      "/home/jordydelange/git/veg2hab/veg2hab/validation.py:85: UserWarning: Percentages do not add up to 100% for row: 285, result: defaultdict(<function _convert_row_to_dict.<locals>.<lambda> at 0x7f18ff7e6560>, {'HXXXX': 99.0})\n",
      "  f\"Percentages do not add up to 100% for row: {row.name}, result: {ret_values}\"\n",
      "/home/jordydelange/git/veg2hab/veg2hab/validation.py:85: UserWarning: Percentages do not add up to 100% for row: 397, result: defaultdict(<function _convert_row_to_dict.<locals>.<lambda> at 0x7f18ff7f3440>, {'HXXXX': 33, 'H0000': 66.0})\n",
      "  f\"Percentages do not add up to 100% for row: {row.name}, result: {ret_values}\"\n",
      "/home/jordydelange/git/veg2hab/veg2hab/validation.py:85: UserWarning: Percentages do not add up to 100% for row: 400, result: defaultdict(<function _convert_row_to_dict.<locals>.<lambda> at 0x7f18ff7f35f0>, {'HXXXX': 66.0, 'H0000': 33.0})\n",
      "  f\"Percentages do not add up to 100% for row: {row.name}, result: {ret_values}\"\n",
      "/home/jordydelange/git/veg2hab/veg2hab/validation.py:85: UserWarning: Percentages do not add up to 100% for row: 404, result: defaultdict(<function _convert_row_to_dict.<locals>.<lambda> at 0x7f18ff7f3830>, {'HXXXX': 66.0, 'H0000': 33.0})\n",
      "  f\"Percentages do not add up to 100% for row: {row.name}, result: {ret_values}\"\n",
      "/home/jordydelange/git/veg2hab/veg2hab/validation.py:85: UserWarning: Percentages do not add up to 100% for row: 551, result: defaultdict(<function _convert_row_to_dict.<locals>.<lambda> at 0x7f18ff782c20>, {'H0000': 99.0})\n",
      "  f\"Percentages do not add up to 100% for row: {row.name}, result: {ret_values}\"\n",
      "/home/jordydelange/git/veg2hab/veg2hab/validation.py:85: UserWarning: Percentages do not add up to 100% for row: 626, result: defaultdict(<function _convert_row_to_dict.<locals>.<lambda> at 0x7f18ff78c710>, {'H0000': 99.0})\n",
      "  f\"Percentages do not add up to 100% for row: {row.name}, result: {ret_values}\"\n",
      "/home/jordydelange/git/veg2hab/veg2hab/validation.py:85: UserWarning: Percentages do not add up to 100% for row: 779, result: defaultdict(<function _convert_row_to_dict.<locals>.<lambda> at 0x7f18ff79de60>, {'HXXXX': 66.0, 'H0000': 33.0})\n",
      "  f\"Percentages do not add up to 100% for row: {row.name}, result: {ret_values}\"\n",
      "/home/jordydelange/git/veg2hab/veg2hab/validation.py:85: UserWarning: Percentages do not add up to 100% for row: 788, result: defaultdict(<function _convert_row_to_dict.<locals>.<lambda> at 0x7f18ff79f3b0>, {'HXXXX': 33, 'H0000': 66.0})\n",
      "  f\"Percentages do not add up to 100% for row: {row.name}, result: {ret_values}\"\n",
      "/home/jordydelange/git/veg2hab/veg2hab/validation.py:85: UserWarning: Percentages do not add up to 100% for row: 853, result: defaultdict(<function _convert_row_to_dict.<locals>.<lambda> at 0x7f18ff7a68c0>, {'HXXXX': 66.0, 'H0000': 33.0})\n",
      "  f\"Percentages do not add up to 100% for row: {row.name}, result: {ret_values}\"\n",
      "/home/jordydelange/git/veg2hab/veg2hab/validation.py:85: UserWarning: Percentages do not add up to 100% for row: 892, result: defaultdict(<function _convert_row_to_dict.<locals>.<lambda> at 0x7f18ff7a9ef0>, {'HXXXX': 66.0, 'H0000': 33.0})\n",
      "  f\"Percentages do not add up to 100% for row: {row.name}, result: {ret_values}\"\n",
      "/home/jordydelange/git/veg2hab/veg2hab/validation.py:85: UserWarning: Percentages do not add up to 100% for row: 908, result: defaultdict(<function _convert_row_to_dict.<locals>.<lambda> at 0x7f18ff7ad830>, {'HXXXX': 33, 'H0000': 66.0})\n",
      "  f\"Percentages do not add up to 100% for row: {row.name}, result: {ret_values}\"\n",
      "/home/jordydelange/git/veg2hab/veg2hab/validation.py:85: UserWarning: Percentages do not add up to 100% for row: 971, result: defaultdict(<function _convert_row_to_dict.<locals>.<lambda> at 0x7f18ff7b2c20>, {'HXXXX': 66.0, 'H0000': 33.0})\n",
      "  f\"Percentages do not add up to 100% for row: {row.name}, result: {ret_values}\"\n",
      "/home/jordydelange/git/veg2hab/veg2hab/validation.py:85: UserWarning: Percentages do not add up to 100% for row: 974, result: defaultdict(<function _convert_row_to_dict.<locals>.<lambda> at 0x7f18ff7b2dd0>, {'HXXXX': 99.0})\n",
      "  f\"Percentages do not add up to 100% for row: {row.name}, result: {ret_values}\"\n",
      "/home/jordydelange/git/veg2hab/veg2hab/validation.py:85: UserWarning: Percentages do not add up to 100% for row: 994, result: defaultdict(<function _convert_row_to_dict.<locals>.<lambda> at 0x7f18ff7b8950>, {'HXXXX': 99.0})\n",
      "  f\"Percentages do not add up to 100% for row: {row.name}, result: {ret_values}\"\n",
      "/home/jordydelange/git/veg2hab/veg2hab/validation.py:85: UserWarning: Percentages do not add up to 100% for row: 1158, result: defaultdict(<function _convert_row_to_dict.<locals>.<lambda> at 0x7f18ff749710>, {'HXXXX': 33, 'H0000': 66.0})\n",
      "  f\"Percentages do not add up to 100% for row: {row.name}, result: {ret_values}\"\n",
      "/home/jordydelange/git/veg2hab/veg2hab/validation.py:85: UserWarning: Percentages do not add up to 100% for row: 1271, result: defaultdict(<function _convert_row_to_dict.<locals>.<lambda> at 0x7f18ff7557a0>, {'HXXXX': 33, 'H0000': 66.0})\n",
      "  f\"Percentages do not add up to 100% for row: {row.name}, result: {ret_values}\"\n",
      "/home/jordydelange/git/veg2hab/veg2hab/validation.py:85: UserWarning: Percentages do not add up to 100% for row: 1278, result: defaultdict(<function _convert_row_to_dict.<locals>.<lambda> at 0x7f18ff755b90>, {'HXXXX': 33, 'H0000': 66.0})\n",
      "  f\"Percentages do not add up to 100% for row: {row.name}, result: {ret_values}\"\n",
      "/home/jordydelange/git/veg2hab/veg2hab/validation.py:85: UserWarning: Percentages do not add up to 100% for row: 1279, result: defaultdict(<function _convert_row_to_dict.<locals>.<lambda> at 0x7f18ff755c20>, {'HXXXX': 33, 'H0000': 66.0})\n",
      "  f\"Percentages do not add up to 100% for row: {row.name}, result: {ret_values}\"\n",
      "/home/jordydelange/git/veg2hab/veg2hab/validation.py:85: UserWarning: Percentages do not add up to 100% for row: 1283, result: defaultdict(<function _convert_row_to_dict.<locals>.<lambda> at 0x7f18ff755e60>, {'HXXXX': 66.0, 'H0000': 33.0})\n",
      "  f\"Percentages do not add up to 100% for row: {row.name}, result: {ret_values}\"\n",
      "/home/jordydelange/git/veg2hab/veg2hab/validation.py:85: UserWarning: Percentages do not add up to 100% for row: 1285, result: defaultdict(<function _convert_row_to_dict.<locals>.<lambda> at 0x7f18ff755f80>, {'HXXXX': 66.0, 'H0000': 33.0})\n",
      "  f\"Percentages do not add up to 100% for row: {row.name}, result: {ret_values}\"\n",
      "/home/jordydelange/git/veg2hab/veg2hab/validation.py:85: UserWarning: Percentages do not add up to 100% for row: 1295, result: defaultdict(<function _convert_row_to_dict.<locals>.<lambda> at 0x7f18ff75a560>, {'HXXXX': 99.0})\n",
      "  f\"Percentages do not add up to 100% for row: {row.name}, result: {ret_values}\"\n",
      "/home/jordydelange/git/veg2hab/veg2hab/validation.py:85: UserWarning: Percentages do not add up to 100% for row: 1301, result: defaultdict(<function _convert_row_to_dict.<locals>.<lambda> at 0x7f18ff75a8c0>, {'H0000': 99.0})\n",
      "  f\"Percentages do not add up to 100% for row: {row.name}, result: {ret_values}\"\n",
      "/home/jordydelange/git/veg2hab/veg2hab/validation.py:85: UserWarning: Percentages do not add up to 100% for row: 1411, result: defaultdict(<function _convert_row_to_dict.<locals>.<lambda> at 0x7f18ff766830>, {'HXXXX': 99.0})\n",
      "  f\"Percentages do not add up to 100% for row: {row.name}, result: {ret_values}\"\n",
      "/home/jordydelange/git/veg2hab/veg2hab/validation.py:85: UserWarning: Percentages do not add up to 100% for row: 1412, result: defaultdict(<function _convert_row_to_dict.<locals>.<lambda> at 0x7f18ff766950>, {'HXXXX': 66.0, 'H0000': 33.0})\n",
      "  f\"Percentages do not add up to 100% for row: {row.name}, result: {ret_values}\"\n",
      "/home/jordydelange/git/veg2hab/veg2hab/validation.py:85: UserWarning: Percentages do not add up to 100% for row: 1448, result: defaultdict(<function _convert_row_to_dict.<locals>.<lambda> at 0x7f18ff768cb0>, {'HXXXX': 66.0, 'H0000': 33.0})\n",
      "  f\"Percentages do not add up to 100% for row: {row.name}, result: {ret_values}\"\n",
      "/home/jordydelange/git/veg2hab/veg2hab/validation.py:85: UserWarning: Percentages do not add up to 100% for row: 1473, result: defaultdict(<function _convert_row_to_dict.<locals>.<lambda> at 0x7f18ff76bb00>, {'HXXXX': 99.0})\n",
      "  f\"Percentages do not add up to 100% for row: {row.name}, result: {ret_values}\"\n",
      "/home/jordydelange/git/veg2hab/veg2hab/validation.py:85: UserWarning: Percentages do not add up to 100% for row: 1495, result: defaultdict(<function _convert_row_to_dict.<locals>.<lambda> at 0x7f18ff76f7a0>, {'HXXXX': 99.0})\n",
      "  f\"Percentages do not add up to 100% for row: {row.name}, result: {ret_values}\"\n",
      "/home/jordydelange/git/veg2hab/veg2hab/validation.py:85: UserWarning: Percentages do not add up to 100% for row: 1520, result: defaultdict(<function _convert_row_to_dict.<locals>.<lambda> at 0x7f18ff7745f0>, {'HXXXX': 66.0, 'H0000': 33.0})\n",
      "  f\"Percentages do not add up to 100% for row: {row.name}, result: {ret_values}\"\n",
      "/home/jordydelange/git/veg2hab/veg2hab/validation.py:85: UserWarning: Percentages do not add up to 100% for row: 1570, result: defaultdict(<function _convert_row_to_dict.<locals>.<lambda> at 0x7f18ff779290>, {'HXXXX': 99.0})\n",
      "  f\"Percentages do not add up to 100% for row: {row.name}, result: {ret_values}\"\n",
      "/home/jordydelange/git/veg2hab/veg2hab/validation.py:85: UserWarning: Percentages do not add up to 100% for row: 1573, result: defaultdict(<function _convert_row_to_dict.<locals>.<lambda> at 0x7f18ff779440>, {'HXXXX': 99.0})\n",
      "  f\"Percentages do not add up to 100% for row: {row.name}, result: {ret_values}\"\n",
      "/home/jordydelange/git/veg2hab/veg2hab/validation.py:85: UserWarning: Percentages do not add up to 100% for row: 1613, result: defaultdict(<function _convert_row_to_dict.<locals>.<lambda> at 0x7f18ff77cb00>, {'HXXXX': 99.0})\n",
      "  f\"Percentages do not add up to 100% for row: {row.name}, result: {ret_values}\"\n",
      "/home/jordydelange/git/veg2hab/veg2hab/validation.py:85: UserWarning: Percentages do not add up to 100% for row: 1616, result: defaultdict(<function _convert_row_to_dict.<locals>.<lambda> at 0x7f18ff77ccb0>, {'HXXXX': 99.0})\n",
      "  f\"Percentages do not add up to 100% for row: {row.name}, result: {ret_values}\"\n",
      "/home/jordydelange/git/veg2hab/veg2hab/validation.py:85: UserWarning: Percentages do not add up to 100% for row: 1844, result: defaultdict(<function _convert_row_to_dict.<locals>.<lambda> at 0x7f18ff714ef0>, {'HXXXX': 99.0})\n",
      "  f\"Percentages do not add up to 100% for row: {row.name}, result: {ret_values}\"\n",
      "/home/jordydelange/git/veg2hab/veg2hab/validation.py:85: UserWarning: Percentages do not add up to 100% for row: 1848, result: defaultdict(<function _convert_row_to_dict.<locals>.<lambda> at 0x7f18ff718200>, {'HXXXX': 99.0})\n",
      "  f\"Percentages do not add up to 100% for row: {row.name}, result: {ret_values}\"\n",
      "/home/jordydelange/git/veg2hab/veg2hab/validation.py:85: UserWarning: Percentages do not add up to 100% for row: 1884, result: defaultdict(<function _convert_row_to_dict.<locals>.<lambda> at 0x7f18ff71b5f0>, {'HXXXX': 66.0, 'H0000': 33.0})\n",
      "  f\"Percentages do not add up to 100% for row: {row.name}, result: {ret_values}\"\n",
      "/home/jordydelange/git/veg2hab/veg2hab/validation.py:85: UserWarning: Percentages do not add up to 100% for row: 1896, result: defaultdict(<function _convert_row_to_dict.<locals>.<lambda> at 0x7f18ff71bcb0>, {'HXXXX': 33, 'H0000': 66.0})\n",
      "  f\"Percentages do not add up to 100% for row: {row.name}, result: {ret_values}\"\n",
      "/home/jordydelange/git/veg2hab/veg2hab/validation.py:85: UserWarning: Percentages do not add up to 100% for row: 1897, result: defaultdict(<function _convert_row_to_dict.<locals>.<lambda> at 0x7f18ff71bd40>, {'HXXXX': 33, 'H0000': 66.0})\n",
      "  f\"Percentages do not add up to 100% for row: {row.name}, result: {ret_values}\"\n",
      "/home/jordydelange/git/veg2hab/veg2hab/validation.py:85: UserWarning: Percentages do not add up to 100% for row: 1898, result: defaultdict(<function _convert_row_to_dict.<locals>.<lambda> at 0x7f18ff71bdd0>, {'HXXXX': 66.0, 'H0000': 33.0})\n",
      "  f\"Percentages do not add up to 100% for row: {row.name}, result: {ret_values}\"\n",
      "/home/jordydelange/git/veg2hab/veg2hab/validation.py:85: UserWarning: Percentages do not add up to 100% for row: 1899, result: defaultdict(<function _convert_row_to_dict.<locals>.<lambda> at 0x7f18ff71be60>, {'HXXXX': 66.0, 'H0000': 33.0})\n",
      "  f\"Percentages do not add up to 100% for row: {row.name}, result: {ret_values}\"\n",
      "/home/jordydelange/git/veg2hab/veg2hab/validation.py:85: UserWarning: Percentages do not add up to 100% for row: 1921, result: defaultdict(<function _convert_row_to_dict.<locals>.<lambda> at 0x7f18ff71fb00>, {'HXXXX': 33, 'H0000': 66.0})\n",
      "  f\"Percentages do not add up to 100% for row: {row.name}, result: {ret_values}\"\n",
      "/home/jordydelange/git/veg2hab/veg2hab/validation.py:85: UserWarning: Percentages do not add up to 100% for row: 1992, result: defaultdict(<function _convert_row_to_dict.<locals>.<lambda> at 0x7f18ff72a3b0>, {'HXXXX': 99.0})\n",
      "  f\"Percentages do not add up to 100% for row: {row.name}, result: {ret_values}\"\n"
     ]
    },
    {
     "name": "stdout",
     "output_type": "stream",
     "text": [
      "----- SBB ZWK 2010 0815_Trimunt_2010\n",
      "--- trues\n",
      "--- preds\n",
      "----- GL_Zuidlaardermeer2019\n",
      "--- trues\n",
      "--- preds\n",
      "----- SGL Hunzedal en Leekstermeer2021 Leekstermeer 2021\n",
      "--- trues\n"
     ]
    },
    {
     "name": "stderr",
     "output_type": "stream",
     "text": [
      "/home/jordydelange/git/veg2hab/veg2hab/validation.py:80: UserWarning: No non-null habitat types found, returning 100% of H0000\n",
      "  warnings.warn(f\"No non-null habitat types found, returning 100% of H0000\")\n"
     ]
    },
    {
     "name": "stdout",
     "output_type": "stream",
     "text": [
      "--- preds\n"
     ]
    },
    {
     "name": "stderr",
     "output_type": "stream",
     "text": [
      "/home/jordydelange/git/veg2hab/veg2hab/validation.py:85: UserWarning: Percentages do not add up to 100% for row: 78, result: defaultdict(<function _convert_row_to_dict.<locals>.<lambda> at 0x7f18ffee8170>, {'HXXXX': 33, 'H0000': 66.0})\n",
      "  f\"Percentages do not add up to 100% for row: {row.name}, result: {ret_values}\"\n",
      "/home/jordydelange/git/veg2hab/veg2hab/validation.py:85: UserWarning: Percentages do not add up to 100% for row: 89, result: defaultdict(<function _convert_row_to_dict.<locals>.<lambda> at 0x7f18ffee87a0>, {'HXXXX': 99.0})\n",
      "  f\"Percentages do not add up to 100% for row: {row.name}, result: {ret_values}\"\n",
      "/home/jordydelange/git/veg2hab/veg2hab/validation.py:85: UserWarning: Percentages do not add up to 100% for row: 191, result: defaultdict(<function _convert_row_to_dict.<locals>.<lambda> at 0x7f1900bc8200>, {'HXXXX': 33, 'H0000': 66.0})\n",
      "  f\"Percentages do not add up to 100% for row: {row.name}, result: {ret_values}\"\n"
     ]
    },
    {
     "name": "stdout",
     "output_type": "stream",
     "text": [
      "----- SBB Lauwersmeer 2015\n",
      "--- trues\n",
      "--- preds\n",
      "----- SGL Hunzedal en Leekstermeer2021 Hunzedal\n",
      "--- trues\n",
      "--- preds\n"
     ]
    },
    {
     "name": "stderr",
     "output_type": "stream",
     "text": [
      "/home/jordydelange/git/veg2hab/veg2hab/validation.py:85: UserWarning: Percentages do not add up to 100% for row: 12, result: defaultdict(<function _convert_row_to_dict.<locals>.<lambda> at 0x7f18fcb1d710>, {'HXXXX': 99.0})\n",
      "  f\"Percentages do not add up to 100% for row: {row.name}, result: {ret_values}\"\n",
      "/home/jordydelange/git/veg2hab/veg2hab/validation.py:85: UserWarning: Percentages do not add up to 100% for row: 29, result: defaultdict(<function _convert_row_to_dict.<locals>.<lambda> at 0x7f18fcb310e0>, {'H0000': 99.0})\n",
      "  f\"Percentages do not add up to 100% for row: {row.name}, result: {ret_values}\"\n",
      "/home/jordydelange/git/veg2hab/veg2hab/validation.py:85: UserWarning: Percentages do not add up to 100% for row: 31, result: defaultdict(<function _convert_row_to_dict.<locals>.<lambda> at 0x7f18fcb31200>, {'H0000': 99.0})\n",
      "  f\"Percentages do not add up to 100% for row: {row.name}, result: {ret_values}\"\n",
      "/home/jordydelange/git/veg2hab/veg2hab/validation.py:85: UserWarning: Percentages do not add up to 100% for row: 67, result: defaultdict(<function _convert_row_to_dict.<locals>.<lambda> at 0x7f18fcb02680>, {'HXXXX': 33, 'H0000': 66.0})\n",
      "  f\"Percentages do not add up to 100% for row: {row.name}, result: {ret_values}\"\n",
      "/home/jordydelange/git/veg2hab/veg2hab/validation.py:85: UserWarning: Percentages do not add up to 100% for row: 154, result: defaultdict(<function _convert_row_to_dict.<locals>.<lambda> at 0x7f18fcaef830>, {'H0000': 99.0})\n",
      "  f\"Percentages do not add up to 100% for row: {row.name}, result: {ret_values}\"\n",
      "/home/jordydelange/git/veg2hab/veg2hab/validation.py:85: UserWarning: Percentages do not add up to 100% for row: 155, result: defaultdict(<function _convert_row_to_dict.<locals>.<lambda> at 0x7f18fcaef8c0>, {'H0000': 99.0})\n",
      "  f\"Percentages do not add up to 100% for row: {row.name}, result: {ret_values}\"\n",
      "/home/jordydelange/git/veg2hab/veg2hab/validation.py:85: UserWarning: Percentages do not add up to 100% for row: 171, result: defaultdict(<function _convert_row_to_dict.<locals>.<lambda> at 0x7f18fcae9200>, {'HXXXX': 33, 'H0000': 66.0})\n",
      "  f\"Percentages do not add up to 100% for row: {row.name}, result: {ret_values}\"\n",
      "/home/jordydelange/git/veg2hab/veg2hab/validation.py:85: UserWarning: Percentages do not add up to 100% for row: 197, result: defaultdict(<function _convert_row_to_dict.<locals>.<lambda> at 0x7f18fd2920e0>, {'H0000': 99.0})\n",
      "  f\"Percentages do not add up to 100% for row: {row.name}, result: {ret_values}\"\n",
      "/home/jordydelange/git/veg2hab/veg2hab/validation.py:85: UserWarning: Percentages do not add up to 100% for row: 212, result: defaultdict(<function _convert_row_to_dict.<locals>.<lambda> at 0x7f18fd2929e0>, {'H0000': 99.0})\n",
      "  f\"Percentages do not add up to 100% for row: {row.name}, result: {ret_values}\"\n",
      "/home/jordydelange/git/veg2hab/veg2hab/validation.py:85: UserWarning: Percentages do not add up to 100% for row: 214, result: defaultdict(<function _convert_row_to_dict.<locals>.<lambda> at 0x7f18fd292b90>, {'H0000': 99.0})\n",
      "  f\"Percentages do not add up to 100% for row: {row.name}, result: {ret_values}\"\n",
      "/home/jordydelange/git/veg2hab/veg2hab/validation.py:85: UserWarning: Percentages do not add up to 100% for row: 221, result: defaultdict(<function _convert_row_to_dict.<locals>.<lambda> at 0x7f18fd292560>, {'H0000': 99.0})\n",
      "  f\"Percentages do not add up to 100% for row: {row.name}, result: {ret_values}\"\n",
      "/home/jordydelange/git/veg2hab/veg2hab/validation.py:85: UserWarning: Percentages do not add up to 100% for row: 239, result: defaultdict(<function _convert_row_to_dict.<locals>.<lambda> at 0x7f18fd2b08c0>, {'HXXXX': 33, 'H0000': 66.0})\n",
      "  f\"Percentages do not add up to 100% for row: {row.name}, result: {ret_values}\"\n",
      "/home/jordydelange/git/veg2hab/veg2hab/validation.py:85: UserWarning: Percentages do not add up to 100% for row: 253, result: defaultdict(<function _convert_row_to_dict.<locals>.<lambda> at 0x7f18fd2ae0e0>, {'H0000': 99.0})\n",
      "  f\"Percentages do not add up to 100% for row: {row.name}, result: {ret_values}\"\n",
      "/home/jordydelange/git/veg2hab/veg2hab/validation.py:85: UserWarning: Percentages do not add up to 100% for row: 287, result: defaultdict(<function _convert_row_to_dict.<locals>.<lambda> at 0x7f18fd2a6440>, {'HXXXX': 66.0, 'H0000': 33.0})\n",
      "  f\"Percentages do not add up to 100% for row: {row.name}, result: {ret_values}\"\n",
      "/home/jordydelange/git/veg2hab/veg2hab/validation.py:85: UserWarning: Percentages do not add up to 100% for row: 323, result: defaultdict(<function _convert_row_to_dict.<locals>.<lambda> at 0x7f18fd2898c0>, {'HXXXX': 99.0})\n",
      "  f\"Percentages do not add up to 100% for row: {row.name}, result: {ret_values}\"\n",
      "/home/jordydelange/git/veg2hab/veg2hab/validation.py:85: UserWarning: Percentages do not add up to 100% for row: 339, result: defaultdict(<function _convert_row_to_dict.<locals>.<lambda> at 0x7f18fc7d3200>, {'HXXXX': 99.0})\n",
      "  f\"Percentages do not add up to 100% for row: {row.name}, result: {ret_values}\"\n",
      "/home/jordydelange/git/veg2hab/veg2hab/validation.py:85: UserWarning: Percentages do not add up to 100% for row: 344, result: defaultdict(<function _convert_row_to_dict.<locals>.<lambda> at 0x7f18fc7d34d0>, {'HXXXX': 33, 'H0000': 66.0})\n",
      "  f\"Percentages do not add up to 100% for row: {row.name}, result: {ret_values}\"\n",
      "/home/jordydelange/git/veg2hab/veg2hab/validation.py:85: UserWarning: Percentages do not add up to 100% for row: 440, result: defaultdict(<function _convert_row_to_dict.<locals>.<lambda> at 0x7f18fc7dec20>, {'HXXXX': 66.0, 'H0000': 33.0})\n",
      "  f\"Percentages do not add up to 100% for row: {row.name}, result: {ret_values}\"\n",
      "/home/jordydelange/git/veg2hab/veg2hab/validation.py:85: UserWarning: Percentages do not add up to 100% for row: 452, result: defaultdict(<function _convert_row_to_dict.<locals>.<lambda> at 0x7f18fd29a3b0>, {'H0000': 99.0})\n",
      "  f\"Percentages do not add up to 100% for row: {row.name}, result: {ret_values}\"\n",
      "/home/jordydelange/git/veg2hab/veg2hab/validation.py:85: UserWarning: Percentages do not add up to 100% for row: 506, result: defaultdict(<function _convert_row_to_dict.<locals>.<lambda> at 0x7f18feefb170>, {'HXXXX': 99.0})\n",
      "  f\"Percentages do not add up to 100% for row: {row.name}, result: {ret_values}\"\n",
      "/home/jordydelange/git/veg2hab/veg2hab/validation.py:85: UserWarning: Percentages do not add up to 100% for row: 538, result: defaultdict(<function _convert_row_to_dict.<locals>.<lambda> at 0x7f18feec53b0>, {'HXXXX': 33, 'H0000': 66.0})\n",
      "  f\"Percentages do not add up to 100% for row: {row.name}, result: {ret_values}\"\n",
      "/home/jordydelange/git/veg2hab/veg2hab/validation.py:85: UserWarning: Percentages do not add up to 100% for row: 567, result: defaultdict(<function _convert_row_to_dict.<locals>.<lambda> at 0x7f18feee3440>, {'HXXXX': 99.0})\n",
      "  f\"Percentages do not add up to 100% for row: {row.name}, result: {ret_values}\"\n",
      "/home/jordydelange/git/veg2hab/veg2hab/validation.py:85: UserWarning: Percentages do not add up to 100% for row: 662, result: defaultdict(<function _convert_row_to_dict.<locals>.<lambda> at 0x7f18fcef8a70>, {'H0000': 99.0})\n",
      "  f\"Percentages do not add up to 100% for row: {row.name}, result: {ret_values}\"\n",
      "/home/jordydelange/git/veg2hab/veg2hab/validation.py:85: UserWarning: Percentages do not add up to 100% for row: 791, result: defaultdict(<function _convert_row_to_dict.<locals>.<lambda> at 0x7f18feffd440>, {'HXXXX': 66.0, 'H0000': 33.0})\n",
      "  f\"Percentages do not add up to 100% for row: {row.name}, result: {ret_values}\"\n",
      "/home/jordydelange/git/veg2hab/veg2hab/validation.py:85: UserWarning: Percentages do not add up to 100% for row: 1012, result: defaultdict(<function _convert_row_to_dict.<locals>.<lambda> at 0x7f18fcb87290>, {'H0000': 99.0})\n",
      "  f\"Percentages do not add up to 100% for row: {row.name}, result: {ret_values}\"\n",
      "/home/jordydelange/git/veg2hab/veg2hab/validation.py:85: UserWarning: Percentages do not add up to 100% for row: 1205, result: defaultdict(<function _convert_row_to_dict.<locals>.<lambda> at 0x7f18fce8b0e0>, {'HXXXX': 66.0, 'H0000': 33.0})\n",
      "  f\"Percentages do not add up to 100% for row: {row.name}, result: {ret_values}\"\n",
      "/home/jordydelange/git/veg2hab/veg2hab/validation.py:85: UserWarning: Percentages do not add up to 100% for row: 1356, result: defaultdict(<function _convert_row_to_dict.<locals>.<lambda> at 0x7f18fce81710>, {'HXXXX': 99.0})\n",
      "  f\"Percentages do not add up to 100% for row: {row.name}, result: {ret_values}\"\n",
      "/home/jordydelange/git/veg2hab/veg2hab/validation.py:85: UserWarning: Percentages do not add up to 100% for row: 1372, result: defaultdict(<function _convert_row_to_dict.<locals>.<lambda> at 0x7f18fe2a5050>, {'HXXXX': 33, 'H0000': 66.0})\n",
      "  f\"Percentages do not add up to 100% for row: {row.name}, result: {ret_values}\"\n",
      "/home/jordydelange/git/veg2hab/veg2hab/validation.py:85: UserWarning: Percentages do not add up to 100% for row: 1446, result: defaultdict(<function _convert_row_to_dict.<locals>.<lambda> at 0x7f18fe2b4a70>, {'H0000': 99.0})\n",
      "  f\"Percentages do not add up to 100% for row: {row.name}, result: {ret_values}\"\n",
      "/home/jordydelange/git/veg2hab/veg2hab/validation.py:85: UserWarning: Percentages do not add up to 100% for row: 1447, result: defaultdict(<function _convert_row_to_dict.<locals>.<lambda> at 0x7f18fe2b4b00>, {'HXXXX': 33, 'H0000': 66.0})\n",
      "  f\"Percentages do not add up to 100% for row: {row.name}, result: {ret_values}\"\n",
      "/home/jordydelange/git/veg2hab/veg2hab/validation.py:85: UserWarning: Percentages do not add up to 100% for row: 1601, result: defaultdict(<function _convert_row_to_dict.<locals>.<lambda> at 0x7f18fbe8d320>, {'HXXXX': 33, 'H0000': 66.0})\n",
      "  f\"Percentages do not add up to 100% for row: {row.name}, result: {ret_values}\"\n",
      "/home/jordydelange/git/veg2hab/veg2hab/validation.py:85: UserWarning: Percentages do not add up to 100% for row: 1796, result: defaultdict(<function _convert_row_to_dict.<locals>.<lambda> at 0x7f18fd370290>, {'HXXXX': 99.0})\n",
      "  f\"Percentages do not add up to 100% for row: {row.name}, result: {ret_values}\"\n"
     ]
    }
   ],
   "source": [
    "validationinfo = pd.read_excel(\n",
    "    \"../data/validationinfo.xlsx\", \n",
    "    engine='openpyxl', \n",
    "    usecols=[\n",
    "        \"path_pred\",\n",
    "        \"naam_in_overzicht_habkart\",\n",
    "        \"provincie\",\n",
    "        \"path_true\",\n",
    "        \"habtype_cols\",\n",
    "        \"percentage_cols\",\n",
    "        \"werkt_nu\",\n",
    "    ]\n",
    ")\n",
    "# Omzetten van pd.NA naar None om te voorkomen dat we overal \"if not pd.isna()\" moeten doen\n",
    "validationinfo = validationinfo.applymap(lambda x: None if pd.isna(x) else x)\n",
    "\n",
    "# Uitfilteren van karteringen die we om wat voor reden dan ook niet goed om kunnen zetten (zie kolom \"reden dat hij niet werkt\" in de excel)\n",
    "validationinfo = validationinfo[validationinfo.werkt_nu]\n",
    "\n",
    "# Voor nu nog even enkel groningen\n",
    "validationinfo = validationinfo[validationinfo[\"provincie\"] == \"Groningen\"]\n",
    "validationinfo[\"path_true\"] = validationinfo[\"path_true\"].apply(lambda x: \"../testing/\" + x[2:])\n",
    "validationinfo[\"path_pred\"] = validationinfo[\"path_pred\"].apply(lambda x: omgezette_karteringen_prefix + x[2:])\n",
    "validationinfo\n",
    "\n",
    "# Load in the habitatkarteringen\n",
    "trues = {}\n",
    "preds = {}\n",
    "for row in validationinfo.itertuples():\n",
    "    # We printen even wat dingen zodat je kunt zien waar errors vandaan komen (als die er zijn)\n",
    "    print(f\"----- {row.naam_in_overzicht_habkart}\")\n",
    "    print(\"--- trues\")\n",
    "    # Habitatkarteringen (trues)\n",
    "    raw = gpd.read_file(row.path_true)\n",
    "    parsed = validation.parse_habitat_percentages(raw, habtype_cols=row.habtype_cols, percentage_cols=row.percentage_cols, how_to_handle_missing_percentages=\"split_equally\")\n",
    "    trues[row.naam_in_overzicht_habkart] = parsed\n",
    "    print(\"--- preds\")\n",
    "    # Door ons omgezette vegetatiekarteringen (preds)\n",
    "    raw = gpd.read_file(row.path_pred)\n",
    "    parsed = validation.parse_habitat_percentages(raw)\n",
    "    preds[row.naam_in_overzicht_habkart] = parsed\n",
    "\n"
   ]
  },
  {
   "cell_type": "markdown",
   "metadata": {},
   "source": [
    "### Combineren van de preds en de trues"
   ]
  },
  {
   "cell_type": "code",
   "execution_count": 3,
   "metadata": {},
   "outputs": [
    {
     "name": "stdout",
     "output_type": "stream",
     "text": [
      "---- SBB Westerwolde 2020\n"
     ]
    },
    {
     "name": "stderr",
     "output_type": "stream",
     "text": [
      "/home/jordydelange/git/veg2hab/veg2hab/validation.py:167: UserWarning: Dropping 4193 rows based on area (presumed rounding errors) with a combined area of 2.495387607979196 m²\n",
      "  f\"Dropping {mask.sum()} rows based on area (presumed rounding errors) with a combined area of {overlayed[mask].area.sum()} m²\"\n"
     ]
    },
    {
     "name": "stdout",
     "output_type": "stream",
     "text": [
      "---- SBB ZWK 2010 0814_Tussen de Gasten 2010\n"
     ]
    },
    {
     "name": "stderr",
     "output_type": "stream",
     "text": [
      "/home/jordydelange/git/veg2hab/veg2hab/validation.py:167: UserWarning: Dropping 8208 rows based on area (presumed rounding errors) with a combined area of 0.0 m²\n",
      "  f\"Dropping {mask.sum()} rows based on area (presumed rounding errors) with a combined area of {overlayed[mask].area.sum()} m²\"\n",
      "/home/jordydelange/git/veg2hab/veg2hab/validation.py:167: UserWarning: Dropping 375 rows based on area (presumed rounding errors) with a combined area of 0.3100628544437718 m²\n",
      "  f\"Dropping {mask.sum()} rows based on area (presumed rounding errors) with a combined area of {overlayed[mask].area.sum()} m²\"\n"
     ]
    },
    {
     "name": "stdout",
     "output_type": "stream",
     "text": [
      "---- SBB ZWK 2010 0815_Trimunt_2010\n",
      "---- GL_Zuidlaardermeer2019\n"
     ]
    },
    {
     "name": "stderr",
     "output_type": "stream",
     "text": [
      "/home/jordydelange/git/veg2hab/veg2hab/validation.py:167: UserWarning: Dropping 3769 rows based on area (presumed rounding errors) with a combined area of 2.946588855655696 m²\n",
      "  f\"Dropping {mask.sum()} rows based on area (presumed rounding errors) with a combined area of {overlayed[mask].area.sum()} m²\"\n"
     ]
    },
    {
     "name": "stdout",
     "output_type": "stream",
     "text": [
      "---- SGL Hunzedal en Leekstermeer2021 Leekstermeer 2021\n"
     ]
    },
    {
     "name": "stderr",
     "output_type": "stream",
     "text": [
      "/home/jordydelange/git/veg2hab/veg2hab/validation.py:167: UserWarning: Dropping 1248 rows based on area (presumed rounding errors) with a combined area of 0.7538292024627701 m²\n",
      "  f\"Dropping {mask.sum()} rows based on area (presumed rounding errors) with a combined area of {overlayed[mask].area.sum()} m²\"\n"
     ]
    },
    {
     "name": "stdout",
     "output_type": "stream",
     "text": [
      "---- SBB Lauwersmeer 2015\n"
     ]
    },
    {
     "name": "stderr",
     "output_type": "stream",
     "text": [
      "/home/jordydelange/git/veg2hab/veg2hab/validation.py:167: UserWarning: Dropping 17516 rows based on area (presumed rounding errors) with a combined area of 17.750447674154106 m²\n",
      "  f\"Dropping {mask.sum()} rows based on area (presumed rounding errors) with a combined area of {overlayed[mask].area.sum()} m²\"\n"
     ]
    },
    {
     "name": "stdout",
     "output_type": "stream",
     "text": [
      "---- SGL Hunzedal en Leekstermeer2021 Hunzedal\n"
     ]
    },
    {
     "name": "stderr",
     "output_type": "stream",
     "text": [
      "/home/jordydelange/git/veg2hab/veg2hab/validation.py:167: UserWarning: Dropping 8748 rows based on area (presumed rounding errors) with a combined area of 0.0 m²\n",
      "  f\"Dropping {mask.sum()} rows based on area (presumed rounding errors) with a combined area of {overlayed[mask].area.sum()} m²\"\n"
     ]
    }
   ],
   "source": [
    "for key in trues.keys():\n",
    "    assert key in preds.keys(), f\"Key {key} not found in predictions\"\n",
    "\n",
    "output = {}\n",
    "for key, true in trues.items():\n",
    "    print(f\"---- {key}\")\n",
    "    pred = preds[key]\n",
    "    combined = validation.spatial_join(pred, true, how=\"intersection\")\n",
    "    output[key] = validation.voeg_correctheid_toe_aan_df(combined)"
   ]
  },
  {
   "cell_type": "markdown",
   "metadata": {},
   "source": [
    "Confusion matrices"
   ]
  },
  {
   "cell_type": "code",
   "execution_count": 4,
   "metadata": {},
   "outputs": [
    {
     "name": "stdout",
     "output_type": "stream",
     "text": [
      "------ SBB Westerwolde 2020\n",
      "true_hab   H0000  H3130  H3160  H4010A  H4010_A  H4030  H6230  H6410  H6430_A  H7110_B  H7150  H91D0  HXXXX\n",
      "pred_hab                                                                                                   \n",
      "H0000     492.38    0.0    0.0     0.0      0.4   2.09   9.16    0.0      0.0      0.0    0.0    0.0    0.0\n",
      "H3130       0.00    0.0    0.0     0.0      0.0   0.00   0.00    0.0      0.0      0.0    0.0    0.0    0.0\n",
      "H3160       0.00    0.0    0.0     0.0      0.0   0.00   0.00    0.0      0.0      0.0    0.0    0.0    0.0\n",
      "H4010A      0.00    0.0    0.0     0.0      0.0   0.00   0.00    0.0      0.0      0.0    0.0    0.0    0.0\n",
      "H4010_A     0.00    0.0    0.0     0.0      0.0   0.00   0.00    0.0      0.0      0.0    0.0    0.0    0.0\n",
      "H4030       0.00    0.0    0.0     0.0      0.0   0.00   0.00    0.0      0.0      0.0    0.0    0.0    0.0\n",
      "H6230       0.00    0.0    0.0     0.0      0.0   0.00   0.00    0.0      0.0      0.0    0.0    0.0    0.0\n",
      "H6410       0.00    0.0    0.0     0.0      0.0   0.00   0.00    0.0      0.0      0.0    0.0    0.0    0.0\n",
      "H6430_A     0.00    0.0    0.0     0.0      0.0   0.00   0.00    0.0      0.0      0.0    0.0    0.0    0.0\n",
      "H7110_B     0.00    0.0    0.0     0.0      0.0   0.00   0.00    0.0      0.0      0.0    0.0    0.0    0.0\n",
      "H7150       0.00    0.0    0.0     0.0      0.0   0.00   0.00    0.0      0.0      0.0    0.0    0.0    0.0\n",
      "H91D0       0.00    0.0    0.0     0.0      0.0   0.00   0.00    0.0      0.0      0.0    0.0    0.0    0.0\n",
      "HXXXX     450.12    2.0   21.0     0.5     25.6  75.91  27.34    1.0      3.0      5.0    2.0    5.5    0.0\n",
      "------------------------\n",
      "------ SBB ZWK 2010 0814_Tussen de Gasten 2010\n",
      "true_hab    H0000  H3130  H6230  H6410  H6510_A  H7140_A  H7140_B  H91D0  HXXXX\n",
      "pred_hab                                                                       \n",
      "H0000     1492.16    0.0    0.0  11.48      2.0     0.00      0.0    0.0    0.0\n",
      "H3130        0.00    0.0    0.0   0.00      0.0     0.00      0.0    0.0    0.0\n",
      "H6230        0.00    0.0    0.0   0.00      0.0     0.00      0.0    0.0    0.0\n",
      "H6410        0.00    0.0    0.0   0.00      0.0     0.00      0.0    0.0    0.0\n",
      "H6510_A      0.00    0.0    0.0   0.00      0.0     0.00      0.0    0.0    0.0\n",
      "H7140_A      0.00    0.0    0.0   0.00      0.0     0.00      0.0    0.0    0.0\n",
      "H7140_B      0.50    0.0    0.0   0.00      0.0     0.00      9.0    0.0    0.0\n",
      "H91D0        0.00    0.0    0.0   0.00      0.0     0.00      0.0    0.0    0.0\n",
      "HXXXX      444.85    1.5    1.0   8.49      1.0    31.49      0.0    3.0    0.0\n",
      "------------------------\n",
      "------ SBB ZWK 2010 0815_Trimunt_2010\n",
      "true_hab  H0000  H3160  H4010  H4030  H7150  HXXXX\n",
      "pred_hab                                          \n",
      "H0000      30.7    0.0    0.0    0.3    0.0    0.0\n",
      "H3160       0.0    0.0    0.0    0.0    0.0    0.0\n",
      "H4010       0.0    0.0    0.0    0.0    0.0    0.0\n",
      "H4030       0.0    0.0    0.0    0.0    0.0    0.0\n",
      "H7150       0.0    0.0    0.0    0.0    0.0    0.0\n",
      "HXXXX      20.8    3.5   15.0   23.2    5.5    0.0\n",
      "------------------------\n",
      "------ GL_Zuidlaardermeer2019\n",
      "true_hab   H0000  H7140_B  HXXXX\n",
      "pred_hab                        \n",
      "H0000     318.05     0.14    0.0\n",
      "H7140_B     1.19     8.80    0.0\n",
      "HXXXX     453.76     1.06    0.0\n",
      "------------------------\n",
      "------ SGL Hunzedal en Leekstermeer2021 Leekstermeer 2021\n",
      "true_hab   H0000  H6430_A  H7140_A  HXXXX\n",
      "pred_hab                                 \n",
      "H0000     166.32      0.0      0.0    0.0\n",
      "H6430_A     0.00      0.0      0.0    0.0\n",
      "H7140_A     0.00      0.0      0.0    0.0\n",
      "HXXXX     100.65      2.5      1.5    0.0\n",
      "------------------------\n",
      "------ SBB Lauwersmeer 2015\n",
      "true_hab        H0000  H1310  H1310_A  H1330     H1330_B      H2160  H2160+H       H2170       H2190  H2190+H   H2190_B  H2190_C  HXXXX\n",
      "pred_hab                                                                                                                               \n",
      "H0000     1514.580000   0.51     0.35   1.29   65.253333  55.060000      0.0   35.786667   26.006667     2.38  1.333333     0.58    0.0\n",
      "H1310        0.000000   0.00     0.00   0.00    0.000000   0.000000      0.0    0.000000    0.000000     0.00  0.000000     0.00    0.0\n",
      "H1310_A      0.000000   0.00     0.00   0.00    0.000000   0.000000      0.0    0.000000    0.000000     0.00  0.000000     0.00    0.0\n",
      "H1330        0.000000   0.00     0.00   0.00    0.000000   0.000000      0.0    0.000000    0.000000     0.00  0.000000     0.00    0.0\n",
      "H1330_B      0.000000   0.00     0.00   0.00    0.000000   0.000000      0.0    0.000000    0.000000     0.00  0.000000     0.00    0.0\n",
      "H2160        0.000000   0.00     0.00   0.00    0.000000   0.000000      0.0    0.000000    0.000000     0.00  0.000000     0.00    0.0\n",
      "H2160+H      0.000000   0.00     0.00   0.00    0.000000   0.000000      0.0    0.000000    0.000000     0.00  0.000000     0.00    0.0\n",
      "H2170        0.000000   0.00     0.00   0.00    0.000000   0.000000      0.0    0.000000    0.000000     0.00  0.000000     0.00    0.0\n",
      "H2190        0.000000   0.00     0.00   0.00    0.000000   0.000000      0.0    0.000000    0.000000     0.00  0.000000     0.00    0.0\n",
      "H2190+H      0.000000   0.00     0.00   0.00    0.000000   0.000000      0.0    0.000000    0.000000     0.00  0.000000     0.00    0.0\n",
      "H2190_B      0.000000   0.00     0.00   0.00    0.000000   0.000000      0.0    0.000000    0.000000     0.00  0.000000     0.00    0.0\n",
      "H2190_C      0.000000   0.00     0.00   0.00    0.000000   0.000000      0.0    0.000000    0.000000     0.00  0.000000     0.00    0.0\n",
      "HXXXX     1101.253333  16.99    30.65  14.71  612.413333  46.273333      0.5  101.380000  109.160000     2.12  3.500000     3.92    0.0\n",
      "------------------------\n",
      "------ SGL Hunzedal en Leekstermeer2021 Hunzedal\n",
      "true_hab    H0000  H3130  H7140B  H7140B+  H7140_A  H7140_B  H91D0  HXXXX\n",
      "pred_hab                                                                 \n",
      "H0000     1123.97    0.0     0.5      0.0      0.0      0.0    0.0    0.0\n",
      "H3130        0.00    0.0     0.0      0.0      0.0      0.0    0.0    0.0\n",
      "H7140B       0.00    0.0     0.0      0.0      0.0      0.0    0.0    0.0\n",
      "H7140B+      0.00    0.0     0.0      0.0      0.0      0.0    0.0    0.0\n",
      "H7140_A      0.00    0.0     0.0      0.0      0.0      0.0    0.0    0.0\n",
      "H7140_B      0.00    0.0     1.0      0.0      0.0      0.5    0.0    0.0\n",
      "H91D0        0.00    0.0     0.0      0.0      0.0      0.0    0.0    0.0\n",
      "HXXXX      642.71    3.5    14.5      0.5      4.5      1.5    6.5    0.0\n",
      "------------------------\n"
     ]
    }
   ],
   "source": [
    "for key, gdf in output.items():\n",
    "    print(\"------ \" + key)\n",
    "    print(validation.bereken_volledige_conf_matrix(gdf, method=\"percentage\"))\n",
    "    print(\"------------------------\")"
   ]
  },
  {
   "cell_type": "markdown",
   "metadata": {},
   "source": [
    "Saving as gpkg"
   ]
  },
  {
   "cell_type": "code",
   "execution_count": 5,
   "metadata": {},
   "outputs": [],
   "source": [
    "for key, gdf in output.items():\n",
    "    gdf.to_file(f\"../testing/validation_output/{key}.gpkg\")"
   ]
  }
 ],
 "metadata": {
  "kernelspec": {
   "display_name": "veg2hab-a_Nx3ILe-py3.8",
   "language": "python",
   "name": "python3"
  },
  "language_info": {
   "codemirror_mode": {
    "name": "ipython",
    "version": 3
   },
   "file_extension": ".py",
   "mimetype": "text/x-python",
   "name": "python",
   "nbconvert_exporter": "python",
   "pygments_lexer": "ipython3",
   "version": "3.7.17"
  }
 },
 "nbformat": 4,
 "nbformat_minor": 2
}
