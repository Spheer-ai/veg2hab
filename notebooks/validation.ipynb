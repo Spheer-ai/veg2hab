{
 "cells": [
  {
   "cell_type": "code",
   "execution_count": 46,
   "metadata": {},
   "outputs": [],
   "source": [
    "import geopandas as gpd\n",
    "import pandas as pd\n",
    "import os.path\n",
    "from typing import List, Optional, Dict"
   ]
  },
  {
   "cell_type": "code",
   "execution_count": 22,
   "metadata": {},
   "outputs": [
    {
     "data": {
      "text/plain": [
       "0      {'H0000': 100}\n",
       "1      {'H0000': 100}\n",
       "2      {'H0000': 100}\n",
       "3      {'H0000': 100}\n",
       "4      {'H0000': 100}\n",
       "            ...      \n",
       "489    {'H0000': 100}\n",
       "490    {'H0000': 100}\n",
       "491    {'H0000': 100}\n",
       "492    {'H0000': 100}\n",
       "493    {'H0000': 100}\n",
       "Length: 494, dtype: object"
      ]
     },
     "execution_count": 22,
     "metadata": {},
     "output_type": "execute_result"
    }
   ],
   "source": [
    "hab = gpd.read_file(\"/mnt/c/Users/MarkBoer/OneDrive - Spheer AI/General/Projecten/Veg_2_Hab/Data/Habitatkarteringen/Habitattypekaarten Gr/NaamGebied_Ruiten Aa.gpkg\")\n",
    "\n",
    "def func(row, habtype_colnames: List[str], percentage_colnames: List[str]=None):\n",
    "    if percentage_colnames is not None and len(habtype_colnames) != len(percentage_colnames):\n",
    "        raise ValueError(\"The number of habitat types and percentages must be equal\")\n",
    "    habtypes = [h for h in row[habtype_colnames] if pd.notnull(h)]\n",
    "    # TODO valideren dat alle habtypes anders zijn.\n",
    "    if len(habtypes) == 0:\n",
    "        return {\"H0000\": 100}\n",
    "    if percentage_colnames is None:\n",
    "        percentages = [100 / len(habtypes)]*len(habtypes)\n",
    "    else:\n",
    "        percentages = row[percentage_colnames].tolist()\n",
    "    # TODO valideren dat percentages optellen tot 100\n",
    "    return dict(zip(habtypes, percentages))\n",
    "\n",
    "def parse_habitat_type_percentage(gdf, habtype_cols: List[str], percentage_cols: Optional[List[str]]):\n",
    "    return gdf.apply(lambda row: func(row, habtype_cols, percentage_cols), axis=1)\n",
    "\n",
    "ser = parse_habitat_type_percentage(hab, [\"Habtype1\", \"Habtype2\", \"Habtype3\"], None)\n",
    "ser"
   ]
  },
  {
   "cell_type": "code",
   "execution_count": 24,
   "metadata": {},
   "outputs": [
    {
     "data": {
      "text/plain": [
       "+H0000    38\n",
       "H9120     26\n",
       "H6410      7\n",
       "Name: Habitattyp, dtype: int64"
      ]
     },
     "execution_count": 24,
     "metadata": {},
     "output_type": "execute_result"
    }
   ],
   "source": [
    "hab.Habitattyp.value_counts()"
   ]
  },
  {
   "cell_type": "code",
   "execution_count": 52,
   "metadata": {},
   "outputs": [],
   "source": [
    "def bereken_percentage_correct(habs_pred: Dict[str, float], habs_true: Dict[str, float]):\n",
    "    pass\n",
    "\n",
    "# TODO, misschien willen we deze functie een dataframe laten teruggeven met 3 kolommen:\n",
    "# - pred_hab\n",
    "# - true_hab\n",
    "# - percentage\n",
    "# dan kun je ze daarna makkelijk onder elkaar zetten\n",
    "def bereken_percentage_confusion_matrix(habs_pred: Dict[str, float], habs_true: Dict[str, float]):\n",
    "    \"\"\" huilie huilie \"\"\"\n",
    "    outputs = []\n",
    "    for pred_hab, pred_percentage in habs_pred.items():\n",
    "        if pred_hab in habs_true:\n",
    "            percentage_correct = min(pred_percentage, habs_true[pred_hab])\n",
    "            outputs.append({\n",
    "                \"pred_hab\": pred_hab,\n",
    "                \"true_hab\": pred_hab,\n",
    "                \"percentage\": percentage_correct,\n",
    "            })\n",
    "            habs_pred[pred_hab] -= percentage_correct\n",
    "            habs_true[pred_hab] -= percentage_correct\n",
    "    # alle matchende zitten nu in de outputes\n",
    "\n",
    "    # we houden de volgorde aan van onze prediction\n",
    "    for pred_hab, pred_percentage in habs_pred.items():\n",
    "        habs_true = {k: v for k, v in habs_true.items() if v > 0}\n",
    "        for true_hab, true_percentage in habs_true.items():\n",
    "            percentage = min(pred_percentage, true_percentage)\n",
    "            outputs.append({\n",
    "                \"pred_hab\": pred_hab,\n",
    "                \"true_hab\": true_hab,\n",
    "                \"percentage\": percentage,\n",
    "            })\n",
    "            habs_true[true_hab] -= percentage_correct\n",
    "            pred_percentage -= percentage_correct\n",
    "            if pred_percentage == 0:\n",
    "                break\n",
    "            if habs_true[true_hab] == 0:\n",
    "                continue\n",
    "\n",
    "        if pred_percentage > 1e-10:\n",
    "            print(\"Warning: non matching percentages\")\n",
    "\n",
    "    return pd.DataFrame(outputs)\n",
    "\n",
    "\n",
    "# # TODO, misschien is bereken percentage correct, wel niet zo interessant\n",
    "# # want htevolgende kan ook\n",
    "# df.groupby(\"shape_id\").apply(lambda x: x[x[\"pred_hab\"] == x[\"true_hab\"]].percentage.sum())"
   ]
  },
  {
   "cell_type": "code",
   "execution_count": 43,
   "metadata": {},
   "outputs": [
    {
     "data": {
      "text/plain": [
       "{1: 2, 2: 3}"
      ]
     },
     "execution_count": 43,
     "metadata": {},
     "output_type": "execute_result"
    }
   ],
   "source": [
    "a = [1, 1, 2]\n",
    "b = [1, 2, 3]\n",
    "dict(zip(a, b))"
   ]
  },
  {
   "cell_type": "code",
   "execution_count": null,
   "metadata": {},
   "outputs": [],
   "source": [
    "gdf_veg2hab[\"percentage_correct\"] = \"blabla\"\n",
    "gdf_veg2hab[\"PercentageCorrect1\"] = \"blabla\"\n",
    "gdf_veg2hab.to_file..."
   ]
  },
  {
   "cell_type": "code",
   "execution_count": 50,
   "metadata": {},
   "outputs": [
    {
     "data": {
      "text/plain": [
       "[{'pred_hab': 'H000', 'true_hab': 'H000', 'percentage': 100}]"
      ]
     },
     "execution_count": 50,
     "metadata": {},
     "output_type": "execute_result"
    }
   ],
   "source": [
    "habs1 = {\"H000\": 100}\n",
    "habs2 = {\"H000\": 100}\n",
    "\n",
    "# assert berekend_percentage_correct(habs1, habs2) == 100.0\n",
    "bereken_percentage_confusion_matrix(habs1, habs2)"
   ]
  },
  {
   "cell_type": "code",
   "execution_count": 53,
   "metadata": {},
   "outputs": [
    {
     "name": "stdout",
     "output_type": "stream",
     "text": [
      "Warning: non matching percentages\n"
     ]
    },
    {
     "data": {
      "text/html": [
       "<div>\n",
       "<style scoped>\n",
       "    .dataframe tbody tr th:only-of-type {\n",
       "        vertical-align: middle;\n",
       "    }\n",
       "\n",
       "    .dataframe tbody tr th {\n",
       "        vertical-align: top;\n",
       "    }\n",
       "\n",
       "    .dataframe thead th {\n",
       "        text-align: right;\n",
       "    }\n",
       "</style>\n",
       "<table border=\"1\" class=\"dataframe\">\n",
       "  <thead>\n",
       "    <tr style=\"text-align: right;\">\n",
       "      <th></th>\n",
       "      <th>pred_hab</th>\n",
       "      <th>true_hab</th>\n",
       "      <th>percentage</th>\n",
       "    </tr>\n",
       "  </thead>\n",
       "  <tbody>\n",
       "    <tr>\n",
       "      <th>0</th>\n",
       "      <td>H2</td>\n",
       "      <td>H2</td>\n",
       "      <td>40</td>\n",
       "    </tr>\n",
       "    <tr>\n",
       "      <th>1</th>\n",
       "      <td>H3</td>\n",
       "      <td>H1</td>\n",
       "      <td>50</td>\n",
       "    </tr>\n",
       "    <tr>\n",
       "      <th>2</th>\n",
       "      <td>H2</td>\n",
       "      <td>H1</td>\n",
       "      <td>10</td>\n",
       "    </tr>\n",
       "  </tbody>\n",
       "</table>\n",
       "</div>"
      ],
      "text/plain": [
       "  pred_hab true_hab  percentage\n",
       "0       H2       H2          40\n",
       "1       H3       H1          50\n",
       "2       H2       H1          10"
      ]
     },
     "execution_count": 53,
     "metadata": {},
     "output_type": "execute_result"
    }
   ],
   "source": [
    "habs_pred = {\"H3\": 50, \"H2\": 50}\n",
    "habs_true = {\"H1\": 60, \"H2\": 40}\n",
    "\n",
    "# assert berekend_percentage_correct(habs_pred, habs_true) == 40\n",
    "bereken_percentage_confusion_matrix(habs_pred, habs_true)\n",
    "#  == [\n",
    "#     {\"true\": \"H2\", \"pred\": \"H2\", \"percentage\": 40},\n",
    "#     {\"true\": \"H1\", \"pred\": \"H3\", \"percentage\": 50},\n",
    "#     {\"true\": \"H1\", \"pred\": \"H2\", \"percentage\": 10}\n",
    "# ]"
   ]
  },
  {
   "cell_type": "code",
   "execution_count": 39,
   "metadata": {},
   "outputs": [],
   "source": [
    "# hierna misschien omzetten exploden?\n",
    "\n",
    "df = pd.DataFrame({\n",
    "    \"shape_id\": [1, 1, 1],\n",
    "    \"HabtypePred\": [\"H2\", \"H3\", \"H2\"],\n",
    "    \"HabtypeTrue\": [\"H2\", \"H1\", \"H1\"],\n",
    "    \"Percentage\": [40, 50, 10],\n",
    "    \"Oppervlak\": [100, 100, 100],\n",
    "})"
   ]
  },
  {
   "cell_type": "code",
   "execution_count": 40,
   "metadata": {},
   "outputs": [],
   "source": [
    "df[\"Effectief_Oppervlak\"] = df[\"Percentage\"] / 100 * df[\"Oppervlak\"]\n",
    "df = df.drop(columns=[\"shape_id\", \"Percentage\", \"Oppervlak\"])"
   ]
  },
  {
   "cell_type": "code",
   "execution_count": 41,
   "metadata": {},
   "outputs": [
    {
     "data": {
      "text/html": [
       "<div>\n",
       "<style scoped>\n",
       "    .dataframe tbody tr th:only-of-type {\n",
       "        vertical-align: middle;\n",
       "    }\n",
       "\n",
       "    .dataframe tbody tr th {\n",
       "        vertical-align: top;\n",
       "    }\n",
       "\n",
       "    .dataframe thead th {\n",
       "        text-align: right;\n",
       "    }\n",
       "</style>\n",
       "<table border=\"1\" class=\"dataframe\">\n",
       "  <thead>\n",
       "    <tr style=\"text-align: right;\">\n",
       "      <th></th>\n",
       "      <th></th>\n",
       "      <th>Effectief_Oppervlak</th>\n",
       "    </tr>\n",
       "    <tr>\n",
       "      <th>HabtypePred</th>\n",
       "      <th>HabtypeTrue</th>\n",
       "      <th></th>\n",
       "    </tr>\n",
       "  </thead>\n",
       "  <tbody>\n",
       "    <tr>\n",
       "      <th rowspan=\"2\" valign=\"top\">H2</th>\n",
       "      <th>H1</th>\n",
       "      <td>10.0</td>\n",
       "    </tr>\n",
       "    <tr>\n",
       "      <th>H2</th>\n",
       "      <td>40.0</td>\n",
       "    </tr>\n",
       "    <tr>\n",
       "      <th>H3</th>\n",
       "      <th>H1</th>\n",
       "      <td>50.0</td>\n",
       "    </tr>\n",
       "  </tbody>\n",
       "</table>\n",
       "</div>"
      ],
      "text/plain": [
       "                         Effectief_Oppervlak\n",
       "HabtypePred HabtypeTrue                     \n",
       "H2          H1                          10.0\n",
       "            H2                          40.0\n",
       "H3          H1                          50.0"
      ]
     },
     "execution_count": 41,
     "metadata": {},
     "output_type": "execute_result"
    }
   ],
   "source": [
    "tmp = df.groupby([\"HabtypePred\", \"HabtypeTrue\"]).sum()\n",
    "tmp"
   ]
  },
  {
   "cell_type": "code",
   "execution_count": 42,
   "metadata": {},
   "outputs": [
    {
     "data": {
      "text/html": [
       "<div>\n",
       "<style scoped>\n",
       "    .dataframe tbody tr th:only-of-type {\n",
       "        vertical-align: middle;\n",
       "    }\n",
       "\n",
       "    .dataframe tbody tr th {\n",
       "        vertical-align: top;\n",
       "    }\n",
       "\n",
       "    .dataframe thead tr th {\n",
       "        text-align: left;\n",
       "    }\n",
       "\n",
       "    .dataframe thead tr:last-of-type th {\n",
       "        text-align: right;\n",
       "    }\n",
       "</style>\n",
       "<table border=\"1\" class=\"dataframe\">\n",
       "  <thead>\n",
       "    <tr>\n",
       "      <th></th>\n",
       "      <th colspan=\"2\" halign=\"left\">Effectief_Oppervlak</th>\n",
       "    </tr>\n",
       "    <tr>\n",
       "      <th>HabtypeTrue</th>\n",
       "      <th>H1</th>\n",
       "      <th>H2</th>\n",
       "    </tr>\n",
       "    <tr>\n",
       "      <th>HabtypePred</th>\n",
       "      <th></th>\n",
       "      <th></th>\n",
       "    </tr>\n",
       "  </thead>\n",
       "  <tbody>\n",
       "    <tr>\n",
       "      <th>H2</th>\n",
       "      <td>10.0</td>\n",
       "      <td>40.0</td>\n",
       "    </tr>\n",
       "    <tr>\n",
       "      <th>H3</th>\n",
       "      <td>50.0</td>\n",
       "      <td>0.0</td>\n",
       "    </tr>\n",
       "  </tbody>\n",
       "</table>\n",
       "</div>"
      ],
      "text/plain": [
       "            Effectief_Oppervlak      \n",
       "HabtypeTrue                  H1    H2\n",
       "HabtypePred                          \n",
       "H2                         10.0  40.0\n",
       "H3                         50.0   0.0"
      ]
     },
     "execution_count": 42,
     "metadata": {},
     "output_type": "execute_result"
    }
   ],
   "source": [
    "# TODO, willen we exact dezelfde indices als columns?!\n",
    "tmp.unstack().fillna(0)"
   ]
  },
  {
   "cell_type": "code",
   "execution_count": null,
   "metadata": {},
   "outputs": [],
   "source": [
    "\n",
    "gdf = gpd.GeoDataFrame(data = {\n",
    "    \"Habtype1\": [\"H123\", \"H234\", \"H345\", \"H456\"],\n",
    "    \"Perc1\": [80, 20, 40, 40],\n",
    "    \"Habtype2\": [\"H123\", \"H234\", \"H345\", \"H456\"],\n",
    "    \"Perc2\": [80, 20, 40, 40],\n",
    "    \"Habtype3\": [None, None, None, \"H456\"],\n",
    "    \"Perc3\": [0, 0, 0, 100]\n",
    "    },\n",
    "    geometry=gpd.points_from_xy([0, 1, 2, 3], [0, 1, 2, 3])\n",
    ")\n",
    "\n",
    "# onze = gpd.read_file(\"testing/omgezette_vegetatiekarteringen/GR/NM vegetatiekartering RuitenAa2020.shp\")[[\"Habtype1\", \"Habtype2\", \"Habtype3\", \"geometry\"]]\n",
    "\n",
    "\n",
    "\n",
    "# def spatial_join(gdf1, gdf2):\n",
    "#     overlayed = gpd.overlay(gdf1, gdf2, how=\"intersection\")\n",
    "#     mask = overlayed.area > 1\n",
    "#     print(f\"Dropping {(~mask).sum()} rows (presumed rounding errors) with a combined area of {overlayed[~mask].area.sum()} m²\")\n",
    "#     return overlayed[overlayed.area > 1]\n",
    "\n",
    "# spatial_join(onze, hab)\n"
   ]
  }
 ],
 "metadata": {
  "kernelspec": {
   "display_name": "veg2hab-a_Nx3ILe-py3.8",
   "language": "python",
   "name": "python3"
  },
  "language_info": {
   "codemirror_mode": {
    "name": "ipython",
    "version": 3
   },
   "file_extension": ".py",
   "mimetype": "text/x-python",
   "name": "python",
   "nbconvert_exporter": "python",
   "pygments_lexer": "ipython3",
   "version": "3.8.16"
  }
 },
 "nbformat": 4,
 "nbformat_minor": 2
}
