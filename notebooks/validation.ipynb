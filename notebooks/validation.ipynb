{
 "cells": [
  {
   "cell_type": "markdown",
   "metadata": {},
   "source": [
    "# Validate some predictions"
   ]
  },
  {
   "cell_type": "code",
   "execution_count": 15,
   "metadata": {},
   "outputs": [],
   "source": [
    "import geopandas as gpd\n",
    "import pandas as pd\n",
    "import os.path\n",
    "from typing import List, Optional, Dict\n",
    "\n",
    "from veg2hab import validation"
   ]
  },
  {
   "cell_type": "markdown",
   "metadata": {},
   "source": [
    "## Zuidlaardermeer"
   ]
  },
  {
   "cell_type": "markdown",
   "metadata": {},
   "source": [
    "### Inlezen van de data\n",
    "\n",
    "Jammergenoeg bevat de duurswold habitatkartering geen percentages"
   ]
  },
  {
   "cell_type": "code",
   "execution_count": 16,
   "metadata": {},
   "outputs": [
    {
     "data": {
      "text/html": [
       "<div>\n",
       "<style scoped>\n",
       "    .dataframe tbody tr th:only-of-type {\n",
       "        vertical-align: middle;\n",
       "    }\n",
       "\n",
       "    .dataframe tbody tr th {\n",
       "        vertical-align: top;\n",
       "    }\n",
       "\n",
       "    .dataframe thead th {\n",
       "        text-align: right;\n",
       "    }\n",
       "</style>\n",
       "<table border=\"1\" class=\"dataframe\">\n",
       "  <thead>\n",
       "    <tr style=\"text-align: right;\">\n",
       "      <th></th>\n",
       "      <th>Area</th>\n",
       "      <th>Opm</th>\n",
       "      <th>Datum</th>\n",
       "      <th>_ChkNodig</th>\n",
       "      <th>Habtype1</th>\n",
       "      <th>Perc1</th>\n",
       "      <th>Opp1</th>\n",
       "      <th>Kwal1</th>\n",
       "      <th>Opm1</th>\n",
       "      <th>VvN1</th>\n",
       "      <th>...</th>\n",
       "      <th>Kwal9</th>\n",
       "      <th>Opm9</th>\n",
       "      <th>VvN9</th>\n",
       "      <th>SBB9</th>\n",
       "      <th>_Status9</th>\n",
       "      <th>_VvNdftbl9</th>\n",
       "      <th>_SBBdftbl9</th>\n",
       "      <th>_VgTypInf9</th>\n",
       "      <th>_ChkNodig9</th>\n",
       "      <th>geometry</th>\n",
       "    </tr>\n",
       "  </thead>\n",
       "  <tbody>\n",
       "    <tr>\n",
       "      <th>0</th>\n",
       "      <td>3692.336448</td>\n",
       "      <td>nvt</td>\n",
       "      <td>20190715.0</td>\n",
       "      <td>1</td>\n",
       "      <td>HXXXX</td>\n",
       "      <td>19</td>\n",
       "      <td>70154.39251248693</td>\n",
       "      <td>Onbekend</td>\n",
       "      <td>Er zijn mitsen met nog niet geimplementeerde c...</td>\n",
       "      <td>8bc2a</td>\n",
       "      <td>...</td>\n",
       "      <td>None</td>\n",
       "      <td>None</td>\n",
       "      <td>None</td>\n",
       "      <td>None</td>\n",
       "      <td>None</td>\n",
       "      <td>None</td>\n",
       "      <td>None</td>\n",
       "      <td>None</td>\n",
       "      <td>None</td>\n",
       "      <td>POLYGON ((242077.412 573207.577, 242082.572 57...</td>\n",
       "    </tr>\n",
       "    <tr>\n",
       "      <th>1</th>\n",
       "      <td>1238.369197</td>\n",
       "      <td>nvt</td>\n",
       "      <td>20190715.0</td>\n",
       "      <td>0</td>\n",
       "      <td>H0000</td>\n",
       "      <td>70</td>\n",
       "      <td>86685.84377139427</td>\n",
       "      <td>None</td>\n",
       "      <td>None</td>\n",
       "      <td>None</td>\n",
       "      <td>...</td>\n",
       "      <td>None</td>\n",
       "      <td>None</td>\n",
       "      <td>None</td>\n",
       "      <td>None</td>\n",
       "      <td>None</td>\n",
       "      <td>None</td>\n",
       "      <td>None</td>\n",
       "      <td>None</td>\n",
       "      <td>None</td>\n",
       "      <td>POLYGON ((243824.566 573054.300, 243860.398 57...</td>\n",
       "    </tr>\n",
       "  </tbody>\n",
       "</table>\n",
       "<p>2 rows × 113 columns</p>\n",
       "</div>"
      ],
      "text/plain": [
       "          Area  Opm       Datum  _ChkNodig Habtype1 Perc1               Opp1  \\\n",
       "0  3692.336448  nvt  20190715.0          1    HXXXX    19  70154.39251248693   \n",
       "1  1238.369197  nvt  20190715.0          0    H0000    70  86685.84377139427   \n",
       "\n",
       "      Kwal1                                               Opm1   VvN1  ...  \\\n",
       "0  Onbekend  Er zijn mitsen met nog niet geimplementeerde c...  8bc2a  ...   \n",
       "1      None                                               None   None  ...   \n",
       "\n",
       "  Kwal9  Opm9  VvN9  SBB9 _Status9  _VvNdftbl9 _SBBdftbl9 _VgTypInf9  \\\n",
       "0  None  None  None  None     None        None       None       None   \n",
       "1  None  None  None  None     None        None       None       None   \n",
       "\n",
       "  _ChkNodig9                                           geometry  \n",
       "0       None  POLYGON ((242077.412 573207.577, 242082.572 57...  \n",
       "1       None  POLYGON ((243824.566 573054.300, 243860.398 57...  \n",
       "\n",
       "[2 rows x 113 columns]"
      ]
     },
     "execution_count": 16,
     "metadata": {},
     "output_type": "execute_result"
    }
   ],
   "source": [
    "gdf_pred_raw = gpd.read_file('../testing/GR/SGL Zuidlaardermeer 2019.shp')\n",
    "gdf_pred_raw.head(2)"
   ]
  },
  {
   "cell_type": "code",
   "execution_count": 17,
   "metadata": {},
   "outputs": [
    {
     "data": {
      "text/plain": [
       "HXXXX      635\n",
       "H0000      133\n",
       "H7140_B     15\n",
       "Name: Habtype1, dtype: int64"
      ]
     },
     "execution_count": 17,
     "metadata": {},
     "output_type": "execute_result"
    }
   ],
   "source": [
    "gdf_pred_raw.Habtype1.value_counts()"
   ]
  },
  {
   "cell_type": "code",
   "execution_count": 18,
   "metadata": {},
   "outputs": [
    {
     "data": {
      "text/html": [
       "<div>\n",
       "<style scoped>\n",
       "    .dataframe tbody tr th:only-of-type {\n",
       "        vertical-align: middle;\n",
       "    }\n",
       "\n",
       "    .dataframe tbody tr th {\n",
       "        vertical-align: top;\n",
       "    }\n",
       "\n",
       "    .dataframe thead th {\n",
       "        text-align: right;\n",
       "    }\n",
       "</style>\n",
       "<table border=\"1\" class=\"dataframe\">\n",
       "  <thead>\n",
       "    <tr style=\"text-align: right;\">\n",
       "      <th></th>\n",
       "      <th>NaamGebied</th>\n",
       "      <th>Habitattyp</th>\n",
       "      <th>Jaar</th>\n",
       "      <th>Deelgebied</th>\n",
       "      <th>StikstofGe</th>\n",
       "      <th>Habtype1</th>\n",
       "      <th>Habtype2</th>\n",
       "      <th>Habtype3</th>\n",
       "      <th>Shape_Leng</th>\n",
       "      <th>Shape_Area</th>\n",
       "      <th>Opp_ha</th>\n",
       "      <th>geometry</th>\n",
       "    </tr>\n",
       "  </thead>\n",
       "  <tbody>\n",
       "    <tr>\n",
       "      <th>0</th>\n",
       "      <td>Oeverlanden Zuidlaardermeergebied</td>\n",
       "      <td>H0000</td>\n",
       "      <td>2019</td>\n",
       "      <td>Groningen : Kruishammen tot Meerwijck</td>\n",
       "      <td>None</td>\n",
       "      <td>H0000</td>\n",
       "      <td>None</td>\n",
       "      <td>None</td>\n",
       "      <td>411.040756</td>\n",
       "      <td>3692.339806</td>\n",
       "      <td>0.369234</td>\n",
       "      <td>MULTIPOLYGON (((242095.272 573036.126, 242086....</td>\n",
       "    </tr>\n",
       "    <tr>\n",
       "      <th>1</th>\n",
       "      <td>Oeverlanden Zuidlaardermeergebied</td>\n",
       "      <td>H0000</td>\n",
       "      <td>2019</td>\n",
       "      <td>Groningen: Leinwijk</td>\n",
       "      <td>None</td>\n",
       "      <td>H0000</td>\n",
       "      <td>None</td>\n",
       "      <td>None</td>\n",
       "      <td>491.252931</td>\n",
       "      <td>1238.370680</td>\n",
       "      <td>0.123837</td>\n",
       "      <td>MULTIPOLYGON (((243824.566 573054.300, 243860....</td>\n",
       "    </tr>\n",
       "  </tbody>\n",
       "</table>\n",
       "</div>"
      ],
      "text/plain": [
       "                          NaamGebied Habitattyp  Jaar  \\\n",
       "0  Oeverlanden Zuidlaardermeergebied      H0000  2019   \n",
       "1  Oeverlanden Zuidlaardermeergebied      H0000  2019   \n",
       "\n",
       "                              Deelgebied StikstofGe Habtype1 Habtype2  \\\n",
       "0  Groningen : Kruishammen tot Meerwijck       None    H0000     None   \n",
       "1                    Groningen: Leinwijk       None    H0000     None   \n",
       "\n",
       "  Habtype3  Shape_Leng   Shape_Area    Opp_ha  \\\n",
       "0     None  411.040756  3692.339806  0.369234   \n",
       "1     None  491.252931  1238.370680  0.123837   \n",
       "\n",
       "                                            geometry  \n",
       "0  MULTIPOLYGON (((242095.272 573036.126, 242086....  \n",
       "1  MULTIPOLYGON (((243824.566 573054.300, 243860....  "
      ]
     },
     "execution_count": 18,
     "metadata": {},
     "output_type": "execute_result"
    }
   ],
   "source": [
    "gdf_true_raw = gpd.read_file(\"/mnt/c/Users/MarkBoer/OneDrive - Spheer AI/General/Projecten/Veg_2_Hab/Data/Habitatkarteringen/Habitattypekaarten Gr/NaamGebied_Oeverlanden Zuidlaardermeergebied.gpkg\")\n",
    "gdf_true_raw.head(2)"
   ]
  },
  {
   "cell_type": "code",
   "execution_count": 19,
   "metadata": {},
   "outputs": [
    {
     "data": {
      "text/plain": [
       "0.007662835249042145"
      ]
     },
     "execution_count": 19,
     "metadata": {},
     "output_type": "execute_result"
    }
   ],
   "source": [
    "# minder dan 1% van de data bevat meer dan 1 habitattype\n",
    "gdf_true_raw.Habtype2.notnull().mean()"
   ]
  },
  {
   "cell_type": "code",
   "execution_count": 20,
   "metadata": {},
   "outputs": [
    {
     "name": "stdout",
     "output_type": "stream",
     "text": [
      "H0000      771\n",
      "H7140_B     12\n",
      "Name: Habtype1, dtype: int64\n",
      "H0000      5\n",
      "H7140_B    1\n",
      "Name: Habtype2, dtype: int64\n"
     ]
    }
   ],
   "source": [
    "print(gdf_true_raw.Habtype1.value_counts())\n",
    "print(gdf_true_raw.Habtype2.value_counts())"
   ]
  },
  {
   "cell_type": "markdown",
   "metadata": {},
   "source": [
    "### Convert to a single columned dataset"
   ]
  },
  {
   "cell_type": "code",
   "execution_count": 22,
   "metadata": {},
   "outputs": [],
   "source": [
    "gdf_pred = validation.parse_habitat_percentages(gdf_pred_raw)"
   ]
  },
  {
   "cell_type": "code",
   "execution_count": 23,
   "metadata": {},
   "outputs": [],
   "source": [
    "gdf_true = validation.parse_habitat_percentages(gdf_true_raw, percentage_cols=None, how_to_handle_missing_percentages=\"split_equally\")"
   ]
  },
  {
   "cell_type": "markdown",
   "metadata": {},
   "source": [
    "### Combine datasets"
   ]
  },
  {
   "cell_type": "code",
   "execution_count": 24,
   "metadata": {},
   "outputs": [
    {
     "name": "stderr",
     "output_type": "stream",
     "text": [
      "/home/mark/git/veg2hab/veg2hab/validation.py:158: UserWarning: Dropping 3769 rows based on area (presumed rounding errors) with a combined area of 2.946588855655696 m²\n",
      "  warnings.warn(\n"
     ]
    }
   ],
   "source": [
    "gdf_combined = validation.spatial_join(gdf_pred, gdf_true, how=\"intersection\")"
   ]
  },
  {
   "cell_type": "code",
   "execution_count": 25,
   "metadata": {},
   "outputs": [
    {
     "data": {
      "text/html": [
       "<div>\n",
       "<style scoped>\n",
       "    .dataframe tbody tr th:only-of-type {\n",
       "        vertical-align: middle;\n",
       "    }\n",
       "\n",
       "    .dataframe tbody tr th {\n",
       "        vertical-align: top;\n",
       "    }\n",
       "\n",
       "    .dataframe thead th {\n",
       "        text-align: right;\n",
       "    }\n",
       "</style>\n",
       "<table border=\"1\" class=\"dataframe\">\n",
       "  <thead>\n",
       "    <tr style=\"text-align: right;\">\n",
       "      <th></th>\n",
       "      <th>pred_hab_perc</th>\n",
       "      <th>true_hab_perc</th>\n",
       "      <th>geometry</th>\n",
       "      <th>percentage_correct</th>\n",
       "      <th>oppervlakte_correct</th>\n",
       "    </tr>\n",
       "  </thead>\n",
       "  <tbody>\n",
       "    <tr>\n",
       "      <th>0</th>\n",
       "      <td>{'HXXXX': 48.0, 'H0000': 52.0}</td>\n",
       "      <td>{'H0000': 100.0}</td>\n",
       "      <td>POLYGON ((242082.572 573196.861, 242081.572 57...</td>\n",
       "      <td>52.0</td>\n",
       "      <td>192001.37087</td>\n",
       "    </tr>\n",
       "    <tr>\n",
       "      <th>9</th>\n",
       "      <td>{'HXXXX': 100}</td>\n",
       "      <td>{'H0000': 100.0}</td>\n",
       "      <td>POLYGON ((242048.039 573126.390, 242047.638 57...</td>\n",
       "      <td>0.0</td>\n",
       "      <td>0.00000</td>\n",
       "    </tr>\n",
       "  </tbody>\n",
       "</table>\n",
       "</div>"
      ],
      "text/plain": [
       "                    pred_hab_perc     true_hab_perc  \\\n",
       "0  {'HXXXX': 48.0, 'H0000': 52.0}  {'H0000': 100.0}   \n",
       "9                  {'HXXXX': 100}  {'H0000': 100.0}   \n",
       "\n",
       "                                            geometry  percentage_correct  \\\n",
       "0  POLYGON ((242082.572 573196.861, 242081.572 57...                52.0   \n",
       "9  POLYGON ((242048.039 573126.390, 242047.638 57...                 0.0   \n",
       "\n",
       "   oppervlakte_correct  \n",
       "0         192001.37087  \n",
       "9              0.00000  "
      ]
     },
     "execution_count": 25,
     "metadata": {},
     "output_type": "execute_result"
    }
   ],
   "source": [
    "output_gdf = validation.voeg_correctheid_toe_aan_df(gdf_combined)\n",
    "output_gdf.head(2)"
   ]
  },
  {
   "cell_type": "code",
   "execution_count": 26,
   "metadata": {},
   "outputs": [],
   "source": [
    "output_gdf.to_file(\"../testing/correctheid_percentage_intersection.gpkg\", driver=\"GPKG\")"
   ]
  },
  {
   "cell_type": "markdown",
   "metadata": {},
   "source": [
    "#### Create confusion matrix"
   ]
  },
  {
   "cell_type": "code",
   "execution_count": 30,
   "metadata": {},
   "outputs": [
    {
     "data": {
      "text/html": [
       "<div>\n",
       "<style scoped>\n",
       "    .dataframe tbody tr th:only-of-type {\n",
       "        vertical-align: middle;\n",
       "    }\n",
       "\n",
       "    .dataframe tbody tr th {\n",
       "        vertical-align: top;\n",
       "    }\n",
       "\n",
       "    .dataframe thead th {\n",
       "        text-align: right;\n",
       "    }\n",
       "</style>\n",
       "<table border=\"1\" class=\"dataframe\">\n",
       "  <thead>\n",
       "    <tr style=\"text-align: right;\">\n",
       "      <th>true_hab</th>\n",
       "      <th>H0000</th>\n",
       "      <th>H7140_B</th>\n",
       "      <th>HXXXX</th>\n",
       "    </tr>\n",
       "    <tr>\n",
       "      <th>pred_hab</th>\n",
       "      <th></th>\n",
       "      <th></th>\n",
       "      <th></th>\n",
       "    </tr>\n",
       "  </thead>\n",
       "  <tbody>\n",
       "    <tr>\n",
       "      <th>H0000</th>\n",
       "      <td>123.611986</td>\n",
       "      <td>0.035147</td>\n",
       "      <td>0.0</td>\n",
       "    </tr>\n",
       "    <tr>\n",
       "      <th>H7140_B</th>\n",
       "      <td>0.314803</td>\n",
       "      <td>3.464846</td>\n",
       "      <td>0.0</td>\n",
       "    </tr>\n",
       "    <tr>\n",
       "      <th>HXXXX</th>\n",
       "      <td>686.294541</td>\n",
       "      <td>0.275110</td>\n",
       "      <td>0.0</td>\n",
       "    </tr>\n",
       "  </tbody>\n",
       "</table>\n",
       "</div>"
      ],
      "text/plain": [
       "true_hab       H0000   H7140_B  HXXXX\n",
       "pred_hab                             \n",
       "H0000     123.611986  0.035147    0.0\n",
       "H7140_B     0.314803  3.464846    0.0\n",
       "HXXXX     686.294541  0.275110    0.0"
      ]
     },
     "execution_count": 30,
     "metadata": {},
     "output_type": "execute_result"
    }
   ],
   "source": [
    "validation.bereken_volledige_conf_matrix(gdf_combined, method=\"area\")"
   ]
  },
  {
   "cell_type": "code",
   "execution_count": 29,
   "metadata": {},
   "outputs": [
    {
     "data": {
      "text/html": [
       "<div>\n",
       "<style scoped>\n",
       "    .dataframe tbody tr th:only-of-type {\n",
       "        vertical-align: middle;\n",
       "    }\n",
       "\n",
       "    .dataframe tbody tr th {\n",
       "        vertical-align: top;\n",
       "    }\n",
       "\n",
       "    .dataframe thead th {\n",
       "        text-align: right;\n",
       "    }\n",
       "</style>\n",
       "<table border=\"1\" class=\"dataframe\">\n",
       "  <thead>\n",
       "    <tr style=\"text-align: right;\">\n",
       "      <th>true_hab</th>\n",
       "      <th>H0000</th>\n",
       "      <th>H7140_B</th>\n",
       "      <th>HXXXX</th>\n",
       "    </tr>\n",
       "    <tr>\n",
       "      <th>pred_hab</th>\n",
       "      <th></th>\n",
       "      <th></th>\n",
       "      <th></th>\n",
       "    </tr>\n",
       "  </thead>\n",
       "  <tbody>\n",
       "    <tr>\n",
       "      <th>H0000</th>\n",
       "      <td>318.05</td>\n",
       "      <td>0.14</td>\n",
       "      <td>0.0</td>\n",
       "    </tr>\n",
       "    <tr>\n",
       "      <th>H7140_B</th>\n",
       "      <td>1.19</td>\n",
       "      <td>8.80</td>\n",
       "      <td>0.0</td>\n",
       "    </tr>\n",
       "    <tr>\n",
       "      <th>HXXXX</th>\n",
       "      <td>453.76</td>\n",
       "      <td>1.06</td>\n",
       "      <td>0.0</td>\n",
       "    </tr>\n",
       "  </tbody>\n",
       "</table>\n",
       "</div>"
      ],
      "text/plain": [
       "true_hab   H0000  H7140_B  HXXXX\n",
       "pred_hab                        \n",
       "H0000     318.05     0.14    0.0\n",
       "H7140_B     1.19     8.80    0.0\n",
       "HXXXX     453.76     1.06    0.0"
      ]
     },
     "execution_count": 29,
     "metadata": {},
     "output_type": "execute_result"
    }
   ],
   "source": [
    "validation.bereken_volledige_conf_matrix(gdf_combined, method=\"percentage\")"
   ]
  },
  {
   "cell_type": "code",
   "execution_count": null,
   "metadata": {},
   "outputs": [],
   "source": []
  }
 ],
 "metadata": {
  "kernelspec": {
   "display_name": "veg2hab-a_Nx3ILe-py3.8",
   "language": "python",
   "name": "python3"
  },
  "language_info": {
   "codemirror_mode": {
    "name": "ipython",
    "version": 3
   },
   "file_extension": ".py",
   "mimetype": "text/x-python",
   "name": "python",
   "nbconvert_exporter": "python",
   "pygments_lexer": "ipython3",
   "version": "3.8.16"
  }
 },
 "nbformat": 4,
 "nbformat_minor": 2
}
