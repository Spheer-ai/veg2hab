{
    "cells": [
        {
            "cell_type": "markdown",
            "metadata": {},
            "source": [
                "# Voorbeeld van omzetting door Veg2Hab\n",
                "\n",
                "Dit notebook doorloopt alle stappen die tot nu toe geimplementeerd zijn voor Veg2Hab. Het is een voorbeeld van hoe de omzetting van vegetatie naar habitattypekaart kan verlopen.\n",
                "\n",
                "Eerst worden alle benodigde resources geinstantieerd (was-wordt lijst, definitietabel, fgr-kaart). Hierna wordt de omzetting stap voor stap uitgevoerd."
            ]
        },
        {
            "cell_type": "code",
            "execution_count": 1,
            "metadata": {},
            "outputs": [
                {
                    "name": "stderr",
                    "output_type": "stream",
                    "text": [
                        "/home/jordydelange/.cache/pypoetry/virtualenvs/veg2hab-CuqoUkZb-py3.7/lib/python3.7/site-packages/geopandas/_compat.py:115: UserWarning: The Shapely GEOS version (3.11.2-CAPI-1.17.2) is incompatible with the GEOS version PyGEOS was compiled with (3.10.4-CAPI-1.16.2). Conversions between both will be slow.\n",
                        "  shapely_geos_version, geos_capi_version_string\n"
                    ]
                },
                {
                    "data": {
                        "text/plain": [
                            "<veg2hab.io.cli.CLIInterface at 0x7f0cd45c4650>"
                        ]
                    },
                    "execution_count": 1,
                    "metadata": {},
                    "output_type": "execute_result"
                }
            ],
            "source": [
                "from pathlib import Path\n",
                "\n",
                "import sys\n",
                "sys.path.append('../')\n",
                "\n",
                "from veg2hab.waswordtlijst import WasWordtLijst, opschonen_waswordtlijst\n",
                "from veg2hab.definitietabel import DefinitieTabel, opschonen_definitietabel\n",
                "from veg2hab.vegkartering import Kartering\n",
                "from veg2hab.io.cli import CLIInterface\n",
                "from veg2hab import constants\n",
                "import pandas as pd\n",
                "from veg2hab.bronnen import FGR, Bodemkaart, LBK, OudeBossenkaart\n",
                "\n",
                "pd.set_option('display.max_columns', 100)\n",
                "\n",
                "CLIInterface.get_instance()"
            ]
        },
        {
            "cell_type": "markdown",
            "metadata": {},
            "source": [
                "### Was-Wordt lijst opschonen en inladen\n",
                "\n",
                "VvN en SBB codes worden gecheckt op validiteit bij:\n",
                "1. het opschonen van een was-wordt lijst\n",
                "2. bij het inlezen van een opgeschoonde was-wordt lijst"
            ]
        },
        {
            "cell_type": "code",
            "execution_count": 2,
            "metadata": {},
            "outputs": [
                {
                    "name": "stderr",
                    "output_type": "stream",
                    "text": [
                        "/home/jordydelange/.cache/pypoetry/virtualenvs/veg2hab-CuqoUkZb-py3.7/lib/python3.7/site-packages/openpyxl/worksheet/header_footer.py:48: UserWarning: Cannot parse header or footer so it will be ignored\n",
                        "  warn(\"\"\"Cannot parse header or footer so it will be ignored\"\"\")\n"
                    ]
                },
                {
                    "data": {
                        "text/html": [
                            "<div>\n",
                            "<style scoped>\n",
                            "    .dataframe tbody tr th:only-of-type {\n",
                            "        vertical-align: middle;\n",
                            "    }\n",
                            "\n",
                            "    .dataframe tbody tr th {\n",
                            "        vertical-align: top;\n",
                            "    }\n",
                            "\n",
                            "    .dataframe thead th {\n",
                            "        text-align: right;\n",
                            "    }\n",
                            "</style>\n",
                            "<table border=\"1\" class=\"dataframe\">\n",
                            "  <thead>\n",
                            "    <tr style=\"text-align: right;\">\n",
                            "      <th></th>\n",
                            "      <th>rVvN</th>\n",
                            "      <th>VvN</th>\n",
                            "      <th>SBB</th>\n",
                            "    </tr>\n",
                            "  </thead>\n",
                            "  <tbody>\n",
                            "    <tr>\n",
                            "      <th>0</th>\n",
                            "      <td>None</td>\n",
                            "      <td>14rg10</td>\n",
                            "      <td>14-l</td>\n",
                            "    </tr>\n",
                            "    <tr>\n",
                            "      <th>1</th>\n",
                            "      <td>None</td>\n",
                            "      <td>None</td>\n",
                            "      <td>7-a</td>\n",
                            "    </tr>\n",
                            "    <tr>\n",
                            "      <th>2</th>\n",
                            "      <td>None</td>\n",
                            "      <td>None</td>\n",
                            "      <td>8b-b</td>\n",
                            "    </tr>\n",
                            "  </tbody>\n",
                            "</table>\n",
                            "</div>"
                        ],
                        "text/plain": [
                            "   rVvN     VvN   SBB\n",
                            "0  None  14rg10  14-l\n",
                            "1  None    None   7-a\n",
                            "2  None    None  8b-b"
                        ]
                    },
                    "execution_count": 2,
                    "metadata": {},
                    "output_type": "execute_result"
                }
            ],
            "source": [
                "path_in_wwl = Path(\"../data/5. Was-wordt-lijst-vegetatietypen-en-habitattypen-09-02-2021.xlsx\")\n",
                "path_out_wwl = Path(\"../testing/opgeschoonde_waswordt.xlsx\")\n",
                "opschonen_waswordtlijst(path_in_wwl, path_out_wwl)\n",
                "wwl = WasWordtLijst.from_excel(path_out_wwl)\n",
                "wwl.df.head(3)"
            ]
        },
        {
            "cell_type": "markdown",
            "metadata": {},
            "source": [
                "### Definitietabel opschonen en inladen\n",
                "\n",
                "VvN- en SBB-codes worden gecheckt op validiteit bij:\n",
                "1. het opschonen van een definitietabel\n",
                "2. bij het inlezen van een opgeschoonde definitietabel"
            ]
        },
        {
            "cell_type": "code",
            "execution_count": 3,
            "metadata": {},
            "outputs": [
                {
                    "data": {
                        "text/html": [
                            "<div>\n",
                            "<style scoped>\n",
                            "    .dataframe tbody tr th:only-of-type {\n",
                            "        vertical-align: middle;\n",
                            "    }\n",
                            "\n",
                            "    .dataframe tbody tr th {\n",
                            "        vertical-align: top;\n",
                            "    }\n",
                            "\n",
                            "    .dataframe thead th {\n",
                            "        text-align: right;\n",
                            "    }\n",
                            "</style>\n",
                            "<table border=\"1\" class=\"dataframe\">\n",
                            "  <thead>\n",
                            "    <tr style=\"text-align: right;\">\n",
                            "      <th></th>\n",
                            "      <th>Habitattype</th>\n",
                            "      <th>Habitattype_naam</th>\n",
                            "      <th>Kwaliteit</th>\n",
                            "      <th>SBB</th>\n",
                            "      <th>VvN</th>\n",
                            "      <th>Vegtype_naam</th>\n",
                            "      <th>mits</th>\n",
                            "      <th>mozaiek</th>\n",
                            "      <th>mitsjson</th>\n",
                            "      <th>mozaiekjson</th>\n",
                            "      <th>Criteria</th>\n",
                            "      <th>Mozaiekregel</th>\n",
                            "    </tr>\n",
                            "  </thead>\n",
                            "  <tbody>\n",
                            "    <tr>\n",
                            "      <th>0</th>\n",
                            "      <td>H1110_A</td>\n",
                            "      <td>Permanent overstroomde zandbanken (getijdengeb...</td>\n",
                            "      <td>Kwaliteit.GOED</td>\n",
                            "      <td>50a</td>\n",
                            "      <td>None</td>\n",
                            "      <td>vegetatieloos</td>\n",
                            "      <td>mits in de slikkige en fijnzandige delen van F...</td>\n",
                            "      <td>&lt;NA&gt;</td>\n",
                            "      <td>{\"type\": \"EnCriteria\", \"sub_criteria\": [{\"type...</td>\n",
                            "      <td>{\"type\": \"GeenMozaiekregel\"}</td>\n",
                            "      <td>((FGR is Getijdengebied of FGR is Noordzee) en...</td>\n",
                            "      <td>Geen mozaiekregel (altijd waar)</td>\n",
                            "    </tr>\n",
                            "    <tr>\n",
                            "      <th>1</th>\n",
                            "      <td>H1110_A</td>\n",
                            "      <td>Permanent overstroomde zandbanken (getijdengeb...</td>\n",
                            "      <td>Kwaliteit.GOED</td>\n",
                            "      <td>50b</td>\n",
                            "      <td>None</td>\n",
                            "      <td>vegetatieloos</td>\n",
                            "      <td>mits in de slikkige en fijnzandige delen van F...</td>\n",
                            "      <td>&lt;NA&gt;</td>\n",
                            "      <td>{\"type\": \"EnCriteria\", \"sub_criteria\": [{\"type...</td>\n",
                            "      <td>{\"type\": \"GeenMozaiekregel\"}</td>\n",
                            "      <td>((FGR is Getijdengebied of FGR is Noordzee) en...</td>\n",
                            "      <td>Geen mozaiekregel (altijd waar)</td>\n",
                            "    </tr>\n",
                            "    <tr>\n",
                            "      <th>2</th>\n",
                            "      <td>H1110_A</td>\n",
                            "      <td>Permanent overstroomde zandbanken (getijdengeb...</td>\n",
                            "      <td>Kwaliteit.GOED</td>\n",
                            "      <td>50c</td>\n",
                            "      <td>None</td>\n",
                            "      <td>vegetatieloos</td>\n",
                            "      <td>mits in de slikkige en fijnzandige delen van F...</td>\n",
                            "      <td>&lt;NA&gt;</td>\n",
                            "      <td>{\"type\": \"EnCriteria\", \"sub_criteria\": [{\"type...</td>\n",
                            "      <td>{\"type\": \"GeenMozaiekregel\"}</td>\n",
                            "      <td>((FGR is Getijdengebied of FGR is Noordzee) en...</td>\n",
                            "      <td>Geen mozaiekregel (altijd waar)</td>\n",
                            "    </tr>\n",
                            "    <tr>\n",
                            "      <th>3</th>\n",
                            "      <td>H1110_B</td>\n",
                            "      <td>Permanent overstroomde zandbanken (Noordzee-ku...</td>\n",
                            "      <td>Kwaliteit.GOED</td>\n",
                            "      <td>50a</td>\n",
                            "      <td>None</td>\n",
                            "      <td>vegetatieloos</td>\n",
                            "      <td>mits in de grofzandige delen van FGR Getijdeng...</td>\n",
                            "      <td>&lt;NA&gt;</td>\n",
                            "      <td>{\"type\": \"EnCriteria\", \"sub_criteria\": [{\"type...</td>\n",
                            "      <td>{\"type\": \"GeenMozaiekregel\"}</td>\n",
                            "      <td>((FGR is Getijdengebied of FGR is Noordzee) en...</td>\n",
                            "      <td>Geen mozaiekregel (altijd waar)</td>\n",
                            "    </tr>\n",
                            "    <tr>\n",
                            "      <th>4</th>\n",
                            "      <td>H1110_B</td>\n",
                            "      <td>Permanent overstroomde zandbanken (Noordzee-ku...</td>\n",
                            "      <td>Kwaliteit.GOED</td>\n",
                            "      <td>50b</td>\n",
                            "      <td>None</td>\n",
                            "      <td>vegetatieloos</td>\n",
                            "      <td>mits in de grofzandige delen van FGR Getijdeng...</td>\n",
                            "      <td>&lt;NA&gt;</td>\n",
                            "      <td>{\"type\": \"EnCriteria\", \"sub_criteria\": [{\"type...</td>\n",
                            "      <td>{\"type\": \"GeenMozaiekregel\"}</td>\n",
                            "      <td>((FGR is Getijdengebied of FGR is Noordzee) en...</td>\n",
                            "      <td>Geen mozaiekregel (altijd waar)</td>\n",
                            "    </tr>\n",
                            "  </tbody>\n",
                            "</table>\n",
                            "</div>"
                        ],
                        "text/plain": [
                            "  Habitattype                                   Habitattype_naam  \\\n",
                            "0     H1110_A  Permanent overstroomde zandbanken (getijdengeb...   \n",
                            "1     H1110_A  Permanent overstroomde zandbanken (getijdengeb...   \n",
                            "2     H1110_A  Permanent overstroomde zandbanken (getijdengeb...   \n",
                            "3     H1110_B  Permanent overstroomde zandbanken (Noordzee-ku...   \n",
                            "4     H1110_B  Permanent overstroomde zandbanken (Noordzee-ku...   \n",
                            "\n",
                            "        Kwaliteit  SBB   VvN   Vegtype_naam  \\\n",
                            "0  Kwaliteit.GOED  50a  None  vegetatieloos   \n",
                            "1  Kwaliteit.GOED  50b  None  vegetatieloos   \n",
                            "2  Kwaliteit.GOED  50c  None  vegetatieloos   \n",
                            "3  Kwaliteit.GOED  50a  None  vegetatieloos   \n",
                            "4  Kwaliteit.GOED  50b  None  vegetatieloos   \n",
                            "\n",
                            "                                                mits mozaiek  \\\n",
                            "0  mits in de slikkige en fijnzandige delen van F...    <NA>   \n",
                            "1  mits in de slikkige en fijnzandige delen van F...    <NA>   \n",
                            "2  mits in de slikkige en fijnzandige delen van F...    <NA>   \n",
                            "3  mits in de grofzandige delen van FGR Getijdeng...    <NA>   \n",
                            "4  mits in de grofzandige delen van FGR Getijdeng...    <NA>   \n",
                            "\n",
                            "                                            mitsjson  \\\n",
                            "0  {\"type\": \"EnCriteria\", \"sub_criteria\": [{\"type...   \n",
                            "1  {\"type\": \"EnCriteria\", \"sub_criteria\": [{\"type...   \n",
                            "2  {\"type\": \"EnCriteria\", \"sub_criteria\": [{\"type...   \n",
                            "3  {\"type\": \"EnCriteria\", \"sub_criteria\": [{\"type...   \n",
                            "4  {\"type\": \"EnCriteria\", \"sub_criteria\": [{\"type...   \n",
                            "\n",
                            "                    mozaiekjson  \\\n",
                            "0  {\"type\": \"GeenMozaiekregel\"}   \n",
                            "1  {\"type\": \"GeenMozaiekregel\"}   \n",
                            "2  {\"type\": \"GeenMozaiekregel\"}   \n",
                            "3  {\"type\": \"GeenMozaiekregel\"}   \n",
                            "4  {\"type\": \"GeenMozaiekregel\"}   \n",
                            "\n",
                            "                                            Criteria  \\\n",
                            "0  ((FGR is Getijdengebied of FGR is Noordzee) en...   \n",
                            "1  ((FGR is Getijdengebied of FGR is Noordzee) en...   \n",
                            "2  ((FGR is Getijdengebied of FGR is Noordzee) en...   \n",
                            "3  ((FGR is Getijdengebied of FGR is Noordzee) en...   \n",
                            "4  ((FGR is Getijdengebied of FGR is Noordzee) en...   \n",
                            "\n",
                            "                      Mozaiekregel  \n",
                            "0  Geen mozaiekregel (altijd waar)  \n",
                            "1  Geen mozaiekregel (altijd waar)  \n",
                            "2  Geen mozaiekregel (altijd waar)  \n",
                            "3  Geen mozaiekregel (altijd waar)  \n",
                            "4  Geen mozaiekregel (altijd waar)  "
                        ]
                    },
                    "execution_count": 3,
                    "metadata": {},
                    "output_type": "execute_result"
                }
            ],
            "source": [
                "path_in_dt = Path(\"../data/definitietabel habitattypen (versie 24 maart 2009)_0.xls\")\n",
                "path_in_mitsjson = Path(\"../data/mitsjson.json\")\n",
                "path_in_mozaiekjson = Path(\"../data/mozaiekjson.json\")\n",
                "path_out_dt = Path(\"../testing/opgeschoonde_definitietabel.xlsx\")\n",
                "opschonen_definitietabel(path_in_dt, path_in_mitsjson, path_in_mozaiekjson, path_out_dt)\n",
                "dt = DefinitieTabel.from_excel(path_out_dt)\n",
                "dt.df.head()"
            ]
        },
        {
            "cell_type": "markdown",
            "metadata": {},
            "source": [
                "## Inladen van een kartering vanaf een shapefile"
            ]
        },
        {
            "cell_type": "code",
            "execution_count": 4,
            "metadata": {},
            "outputs": [
                {
                    "ename": "TypeError",
                    "evalue": "from_shapefile() got an unexpected keyword argument 'sbb_of_vvn'",
                    "output_type": "error",
                    "traceback": [
                        "\u001b[0;31m---------------------------------------------------------------------------\u001b[0m",
                        "\u001b[0;31mTypeError\u001b[0m                                 Traceback (most recent call last)",
                        "\u001b[0;32m/tmp/ipykernel_407969/1223466231.py\u001b[0m in \u001b[0;36m<module>\u001b[0;34m\u001b[0m\n\u001b[1;32m      1\u001b[0m \u001b[0mshp_path\u001b[0m \u001b[0;34m=\u001b[0m \u001b[0mPath\u001b[0m\u001b[0;34m(\u001b[0m\u001b[0;34m\"../testing/vegetatiekarteringen/GR/SGL Hunzedal en Leekstermeer2021/2021 Vegetatiekartering Leekstermeer2021/GIS bestanden Onlanden 2021/Vegetatiekartering_Leekstermeer2021.shp\"\u001b[0m\u001b[0;34m)\u001b[0m\u001b[0;34m\u001b[0m\u001b[0;34m\u001b[0m\u001b[0m\n\u001b[0;32m----> 2\u001b[0;31m \u001b[0mKartering\u001b[0m\u001b[0;34m.\u001b[0m\u001b[0mfrom_shapefile\u001b[0m\u001b[0;34m(\u001b[0m\u001b[0mshp_path\u001b[0m\u001b[0;34m,\u001b[0m \u001b[0mvegtype_col_format\u001b[0m\u001b[0;34m=\u001b[0m\u001b[0;34m\"single\"\u001b[0m\u001b[0;34m,\u001b[0m \u001b[0msbb_of_vvn\u001b[0m\u001b[0;34m=\u001b[0m\u001b[0;34m\"SBB\"\u001b[0m\u001b[0;34m,\u001b[0m \u001b[0mElmID_col\u001b[0m\u001b[0;34m=\u001b[0m\u001b[0;34m\"elmid\"\u001b[0m\u001b[0;34m,\u001b[0m \u001b[0mSBB_col\u001b[0m\u001b[0;34m=\u001b[0m\u001b[0;34m[\u001b[0m\u001b[0;34m\"SBBTYPE\"\u001b[0m\u001b[0;34m]\u001b[0m\u001b[0;34m,\u001b[0m \u001b[0mVvN_col\u001b[0m\u001b[0;34m=\u001b[0m\u001b[0;34m[\u001b[0m\u001b[0;34m]\u001b[0m\u001b[0;34m,\u001b[0m \u001b[0msplit_char\u001b[0m\u001b[0;34m=\u001b[0m\u001b[0;34m\"+\"\u001b[0m\u001b[0;34m,\u001b[0m \u001b[0mlok_vegtypen_col\u001b[0m\u001b[0;34m=\u001b[0m\u001b[0;34m[\u001b[0m\u001b[0;34m\"Vegtype\"\u001b[0m\u001b[0;34m]\u001b[0m\u001b[0;34m)\u001b[0m\u001b[0;34m.\u001b[0m\u001b[0mgdf\u001b[0m\u001b[0;34m\u001b[0m\u001b[0;34m\u001b[0m\u001b[0m\n\u001b[0m",
                        "\u001b[0;31mTypeError\u001b[0m: from_shapefile() got an unexpected keyword argument 'sbb_of_vvn'"
                    ]
                }
            ],
            "source": [
                "shp_path = Path(\"../testing/vegetatiekarteringen/GR/SGL Hunzedal en Leekstermeer2021/2021 Vegetatiekartering Leekstermeer2021/GIS bestanden Onlanden 2021/Vegetatiekartering_Leekstermeer2021.shp\")\n",
                "Kartering.from_shapefile(shp_path, vegtype_col_format=\"single\", sbb_of_vvn=\"SBB\", ElmID_col=\"elmid\", SBB_col=[\"SBBTYPE\"], VvN_col=[], split_char=\"+\", lok_vegtypen_col=[\"Vegtype\"]).gdf"
            ]
        },
        {
            "cell_type": "markdown",
            "metadata": {},
            "source": [
                "## Inladen en omzetten van een access kartering\n",
                "\n",
                "- Voor ieder vlak in de kartering wordt de (complexe) SBB code opgezocht.\n",
                "- Deze SBB-codes worden opgeschoond en gevalideerd.\n",
                "- De SBB codes worden toegevoegd aan de dataframe van de kartering als VegTypeInfo instance.\n",
                "  \n",
                "De resulterende dataframe heeft voor elke regel in KarteringVegetatietype.csv een VegTypeInfo instance in de rij van de betreffende shape."
            ]
        },
        {
            "cell_type": "code",
            "execution_count": null,
            "metadata": {},
            "outputs": [],
            "source": [
                "shape_path = Path(\"../data/notebook_data/Rottige_Meenthe_Brandemeer_2013/vlakken.shp\")\n",
                "csvs_path = Path(\"../data/notebook_data/Rottige_Meenthe_Brandemeer_2013/864_RottigeMeenthe2013.mdb\")\n",
                "shape_elm_id_column = \"ElmID\"\n",
                "\n",
                "access_kartering = Kartering.from_access_db(shape_path, shape_elm_id_column, csvs_path)\n",
                "\n",
                "access_kartering.gdf.head(3)\n"
            ]
        },
        {
            "cell_type": "markdown",
            "metadata": {},
            "source": [
                "### Inladen bronnen"
            ]
        },
        {
            "cell_type": "code",
            "execution_count": null,
            "metadata": {},
            "outputs": [],
            "source": [
                "mask = access_kartering.get_geometry_mask()\n",
                "fgr = FGR(Path(constants.FGR_PATH))\n",
                "bodemkaart = Bodemkaart.from_file(Path(\"../data/bronbestanden/bodemkaart.gpkg\"), mask=mask)\n",
                "lbk = LBK.from_file(Path(\"../data/bronbestanden/lbk.shp\"), mask=mask)\n",
                "obk = OudeBossenkaart(Path(constants.OUDE_BOSSENKAART_PATH))"
            ]
        },
        {
            "cell_type": "markdown",
            "metadata": {},
            "source": [
                "#### Opzoeken en toevoegen VvN aan kartering"
            ]
        },
        {
            "cell_type": "code",
            "execution_count": null,
            "metadata": {},
            "outputs": [],
            "source": [
                "access_kartering.apply_wwl(wwl)\n",
                "# Voorbeeld van 3 vegtypeinfos in 1 geometry\n",
                "access_kartering.gdf[\"VegTypeInfo\"].iloc[3]"
            ]
        },
        {
            "cell_type": "markdown",
            "metadata": {},
            "source": [
                "#### Vinden van de mogelijke habitattypen voor een VegTypeInfo\n",
                "\n",
                "Voor elke VegTypeInfo worden de mogelijke habitattypen opgezocht in de definitietabel. Deze worden vervolgens in een HabitatVoorstel gezet, samen met de code waarop de match is gemaakt, de regel in de definitietabel die is gebruikt en het niveau van de match."
            ]
        },
        {
            "cell_type": "code",
            "execution_count": null,
            "metadata": {},
            "outputs": [],
            "source": [
                "access_kartering.apply_deftabel(dt)\n",
                "access_kartering.gdf[\"HabitatVoorstel\"]"
            ]
        },
        {
            "cell_type": "code",
            "execution_count": null,
            "metadata": {},
            "outputs": [],
            "source": [
                "# Voorbeeld met voor 2 VegTypeInfo's waarbij de eerste twee mogelijke voorstellen heeft\n",
                "access_kartering.gdf[\"HabitatVoorstel\"][45]"
            ]
        },
        {
            "cell_type": "markdown",
            "metadata": {},
            "source": [
                "### De mitsen en mozaiekregels checken en de HabitatVoorstellen omzetten naar HabitatKeuzes"
            ]
        },
        {
            "cell_type": "code",
            "execution_count": null,
            "metadata": {},
            "outputs": [],
            "source": [
                "access_kartering.bepaal_mits_habitatkeuzes(fgr, bodemkaart, lbk, obk)\n",
                "access_kartering.bepaal_mozaiek_habitatkeuzes()"
            ]
        },
        {
            "cell_type": "markdown",
            "metadata": {},
            "source": [
                "### Functionele samenhang"
            ]
        },
        {
            "cell_type": "code",
            "execution_count": null,
            "metadata": {},
            "outputs": [],
            "source": [
                "access_kartering.functionele_samenhang()"
            ]
        },
        {
            "cell_type": "markdown",
            "metadata": {},
            "source": [
                "### De kartering formatten als een Habitattypenkartering\n",
                "\n",
                "Dit pakt de HabitatVoorstellen uit en format het geheel als een Habitattypenkartering zoals beschreven in Gegevens Leverings Protocol (uitvraag bijlage 3a).\n",
                "\n",
                "Voor nu checken we nog geen mitsen en mozaiek en wordt voor ieder VegTypeInfo het eerste HabitatVoorstel gebruikt."
            ]
        },
        {
            "cell_type": "code",
            "execution_count": null,
            "metadata": {},
            "outputs": [],
            "source": [
                "access_kartering.final_format_to_file(Path(\"../testing/veg2hab_output.gpkg\"))"
            ]
        },
        {
            "cell_type": "code",
            "execution_count": null,
            "metadata": {},
            "outputs": [],
            "source": [
                "final_format = access_kartering.as_final_format()\n",
                "final_format"
            ]
        }
    ],
    "metadata": {
        "kernelspec": {
            "display_name": "veg2hab-CuqoUkZb-py3.7",
            "language": "python",
            "name": "python3"
        },
        "language_info": {
            "codemirror_mode": {
                "name": "ipython",
                "version": 3
            },
            "file_extension": ".py",
            "mimetype": "text/x-python",
            "name": "python",
            "nbconvert_exporter": "python",
            "pygments_lexer": "ipython3",
            "version": "3.7.17"
        }
    },
    "nbformat": 4,
    "nbformat_minor": 2
}
