{
    "cells": [
        {
            "cell_type": "markdown",
            "metadata": {},
            "source": [
                "# Voorbeeld van omzetting door Veg2Hab\n",
                "\n",
                "Dit notebook doorloopt alle stappen die tot nu toe geimplementeerd zijn voor Veg2Hab. Het is een voorbeeld van hoe de omzetting van vegetatie naar habitattypekaart kan verlopen.\n",
                "\n",
                "Eerst worden alle benodigde resources geinstantieerd (was-wordt lijst, definitietabel, fgr-kaart). Hierna wordt de omzetting stap voor stap uitgevoerd."
            ]
        },
        {
            "cell_type": "code",
            "execution_count": null,
            "metadata": {},
            "outputs": [],
            "source": [
                "from pathlib import Path\n",
                "\n",
                "import sys\n",
                "sys.path.append('../')\n",
                "\n",
                "from veg2hab.waswordtlijst import WasWordtLijst, opschonen_waswordtlijst\n",
                "from veg2hab.definitietabel import DefinitieTabel, opschonen_definitietabel\n",
                "from veg2hab.vegkartering import Kartering\n",
                "from veg2hab.io.cli import CLIInterface\n",
                "import pandas as pd\n",
                "from veg2hab.bronnen import FGR, Bodemkaart, LBK\n",
                "\n",
                "pd.set_option('display.max_columns', 100)\n",
                "\n",
                "CLIInterface.get_instance()"
            ]
        },
        {
            "cell_type": "markdown",
            "metadata": {},
            "source": [
                "### Was-Wordt lijst opschonen en inladen\n",
                "\n",
                "VvN en SBB codes worden gecheckt op validiteit bij:\n",
                "1. het opschonen van een was-wordt lijst\n",
                "2. bij het inlezen van een opgeschoonde was-wordt lijst"
            ]
        },
        {
            "cell_type": "code",
            "execution_count": null,
            "metadata": {},
            "outputs": [],
            "source": [
                "path_in_wwl = Path(\"../data/5. Was-wordt-lijst-vegetatietypen-en-habitattypen-09-02-2021.xlsx\")\n",
                "path_out_wwl = Path(\"../testing/opgeschoonde_waswordt.xlsx\")\n",
                "opschonen_waswordtlijst(path_in_wwl, path_out_wwl)\n",
                "wwl = WasWordtLijst.from_excel(path_out_wwl)\n",
                "wwl.df.head(3)"
            ]
        },
        {
            "cell_type": "markdown",
            "metadata": {},
            "source": [
                "### Definitietabel opschonen en inladen\n",
                "\n",
                "VvN- en SBB-codes worden gecheckt op validiteit bij:\n",
                "1. het opschonen van een definitietabel\n",
                "2. bij het inlezen van een opgeschoonde definitietabel"
            ]
        },
        {
            "cell_type": "code",
            "execution_count": null,
            "metadata": {},
            "outputs": [],
            "source": [
                "path_in_dt = Path(\"../data/definitietabel habitattypen (versie 24 maart 2009)_0.xls\")\n",
                "path_in_mitsjson = Path(\"../data/mitsjson.json\")\n",
                "path_in_mozaiekjson = Path(\"../data/mozaiekjson.json\")\n",
                "path_out_dt = Path(\"../testing/opgeschoonde_definitietabel.xlsx\")\n",
                "opschonen_definitietabel(path_in_dt, path_in_mitsjson, path_in_mozaiekjson, path_out_dt)\n",
                "dt = DefinitieTabel.from_excel(path_out_dt)\n",
                "dt.df.head()"
            ]
        },
        {
            "cell_type": "markdown",
            "metadata": {},
            "source": [
                "## Inladen van een kartering vanaf een shapefile"
            ]
        },
        {
            "cell_type": "code",
            "execution_count": null,
            "metadata": {},
            "outputs": [],
            "source": [
                "shp_path = Path(\"../testing/vegetatiekarteringen/GR/SGL Hunzedal en Leekstermeer2021/2021 Vegetatiekartering Leekstermeer2021/GIS bestanden Onlanden 2021/Vegetatiekartering_Leekstermeer2021.shp\")\n",
                "Kartering.from_shapefile(shp_path, vegtype_col_format=\"single\", sbb_of_vvn=\"SBB\", ElmID_col=\"elmid\", SBB_col=[\"SBBTYPE\"], VvN_col=[], split_char=\"+\", lok_vegtypen_col=[\"Vegtype\"]).gdf"
            ]
        },
        {
            "cell_type": "markdown",
            "metadata": {},
            "source": [
                "## Inladen en omzetten van een access kartering\n",
                "\n",
                "- Voor ieder vlak in de kartering wordt de (complexe) SBB code opgezocht.\n",
                "- Deze SBB-codes worden opgeschoond en gevalideerd.\n",
                "- De SBB codes worden toegevoegd aan de dataframe van de kartering als VegTypeInfo instance.\n",
                "  \n",
                "De resulterende dataframe heeft voor elke regel in KarteringVegetatietype.csv een VegTypeInfo instance in de rij van de betreffende shape."
            ]
        },
        {
            "cell_type": "code",
            "execution_count": null,
            "metadata": {},
            "outputs": [],
            "source": [
                "shape_path = Path(\"../data/notebook_data/Rottige_Meenthe_Brandemeer_2013/vlakken.shp\")\n",
                "csvs_path = Path(\"../data/notebook_data/Rottige_Meenthe_Brandemeer_2013/864_RottigeMeenthe2013.mdb\")\n",
                "shape_elm_id_column = \"ElmID\"\n",
                "\n",
                "access_kartering = Kartering.from_access_db(shape_path, shape_elm_id_column, csvs_path)\n",
                "\n",
                "access_kartering.gdf.head(3)\n"
            ]
        },
        {
            "cell_type": "markdown",
            "metadata": {},
            "source": [
                "### Inladen bronnen"
            ]
        },
        {
            "cell_type": "code",
            "execution_count": null,
            "metadata": {},
            "outputs": [],
            "source": [
                "mask = access_kartering.get_geometry_mask()\n",
                "fgr = FGR(Path(\"../data/bronbestanden/FGR.json\"))\n",
                "bodemkaart = Bodemkaart.from_file(Path(\"../data/bronbestanden/bodemkaart.gpkg\"), mask=mask)\n",
                "lbk = LBK.from_file(Path(\"../data/bronbestanden/lbk.shp\"), mask=mask)"
            ]
        },
        {
            "cell_type": "markdown",
            "metadata": {},
            "source": [
                "#### Opzoeken en toevoegen VvN aan kartering"
            ]
        },
        {
            "cell_type": "code",
            "execution_count": null,
            "metadata": {},
            "outputs": [],
            "source": [
                "access_kartering.apply_wwl(wwl)\n",
                "# Voorbeeld van 3 vegtypeinfos in 1 geometry\n",
                "access_kartering.gdf[\"VegTypeInfo\"].iloc[3]"
            ]
        },
        {
            "cell_type": "markdown",
            "metadata": {},
            "source": [
                "#### Vinden van de mogelijke habitattypen voor een VegTypeInfo\n",
                "\n",
                "Voor elke VegTypeInfo worden de mogelijke habitattypen opgezocht in de definitietabel. Deze worden vervolgens in een HabitatVoorstel gezet, samen met de code waarop de match is gemaakt, de regel in de definitietabel die is gebruikt en het niveau van de match."
            ]
        },
        {
            "cell_type": "code",
            "execution_count": null,
            "metadata": {},
            "outputs": [],
            "source": [
                "access_kartering.apply_deftabel(dt)\n",
                "access_kartering.gdf[\"HabitatVoorstel\"]"
            ]
        },
        {
            "cell_type": "code",
            "execution_count": null,
            "metadata": {},
            "outputs": [],
            "source": [
                "# Voorbeeld met voor 2 VegTypeInfo's waarbij de eerste twee mogelijke voorstellen heeft\n",
                "access_kartering.gdf[\"HabitatVoorstel\"][45]"
            ]
        },
        {
            "cell_type": "markdown",
            "metadata": {},
            "source": [
                "### De mitsen en mozaiekregels checken en de HabitatVoorstellen omzetten naar HabitatKeuzes"
            ]
        },
        {
            "cell_type": "code",
            "execution_count": null,
            "metadata": {},
            "outputs": [],
            "source": [
                "# access_kartering.bepaal_habitatkeuzes(fgr, bodemkaart, lbk)\n",
                "access_kartering.bepaal_mits_habitatkeuzes(fgr, bodemkaart, lbk)\n",
                "access_kartering.bepaal_mozaiek_habitatkeuzes()"
            ]
        },
        {
            "cell_type": "code",
            "execution_count": null,
            "metadata": {},
            "outputs": [],
            "source": [
                "access_kartering.gdf.head()"
            ]
        },
        {
            "cell_type": "markdown",
            "metadata": {},
            "source": [
                "### De kartering formatten als een Habitattypenkartering\n",
                "\n",
                "Dit pakt de HabitatVoorstellen uit en format het geheel als een Habitattypenkartering zoals beschreven in Gegevens Leverings Protocol (uitvraag bijlage 3a).\n",
                "\n",
                "Voor nu checken we nog geen mitsen en mozaiek en wordt voor ieder VegTypeInfo het eerste HabitatVoorstel gebruikt."
            ]
        },
        {
            "cell_type": "code",
            "execution_count": null,
            "metadata": {},
            "outputs": [],
            "source": [
                "final_format = access_kartering.as_final_format()\n",
                "final_format"
            ]
        },
        {
            "cell_type": "code",
            "execution_count": null,
            "metadata": {},
            "outputs": [],
            "source": [
                "final_format"
            ]
        },
        {
            "cell_type": "code",
            "execution_count": null,
            "metadata": {},
            "outputs": [],
            "source": [
                "access_kartering.final_format_to_file(Path(\"../testing/veg2hab_output.shp\"))"
            ]
        }
    ],
    "metadata": {
        "kernelspec": {
            "display_name": "veg2hab-CuqoUkZb-py3.7",
            "language": "python",
            "name": "python3"
        },
        "language_info": {
            "codemirror_mode": {
                "name": "ipython",
                "version": 3
            },
            "file_extension": ".py",
            "mimetype": "text/x-python",
            "name": "python",
            "nbconvert_exporter": "python",
            "pygments_lexer": "ipython3",
            "version": "3.8.16"
        }
    },
    "nbformat": 4,
    "nbformat_minor": 2
}
