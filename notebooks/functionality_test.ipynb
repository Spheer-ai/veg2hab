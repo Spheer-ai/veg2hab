{
 "cells": [
  {
   "cell_type": "code",
   "execution_count": 1,
   "metadata": {},
   "outputs": [],
   "source": [
    "from pathlib import Path\n",
    "\n",
    "import sys\n",
    "sys.path.append('../')\n",
    "\n",
    "from veg2hab.waswordtlijst import WasWordtLijst, opschonen_was_wordt_lijst\n",
    "from veg2hab.definitietabel import DefinitieTabel, opschonen_definitietabel"
   ]
  },
  {
   "cell_type": "markdown",
   "metadata": {},
   "source": [
    "### Was-Wordt lijst opschonen en inladen\n",
    "\n",
    "VvN en SBB codes worden gecheckt op validiteit bij:\n",
    "1. het opschonen van een was-wordt lijst\n",
    "2. bij het inlezen van een opgeschoonde was-wordt lijst"
   ]
  },
  {
   "cell_type": "code",
   "execution_count": 10,
   "metadata": {},
   "outputs": [
    {
     "name": "stdout",
     "output_type": "stream",
     "text": [
      "Alle SBB codes zijn valide\n",
      "Alle VvN codes zijn valide\n"
     ]
    },
    {
     "name": "stderr",
     "output_type": "stream",
     "text": [
      "/home/jakko/git/veg2hab/.venv/lib/python3.8/site-packages/openpyxl/worksheet/header_footer.py:48: UserWarning: Cannot parse header or footer so it will be ignored\n",
      "  warn(\"\"\"Cannot parse header or footer so it will be ignored\"\"\")\n"
     ]
    }
   ],
   "source": [
    "path_in = Path(\"../data/5. Was-wordt-lijst-vegetatietypen-en-habitattypen-09-02-2021.xlsx\")\n",
    "path_out = Path(\"../testing/opgeschoonde_waswordt.xlsx\")\n",
    "opschonen_was_wordt_lijst(path_in, path_out)"
   ]
  },
  {
   "cell_type": "code",
   "execution_count": 9,
   "metadata": {},
   "outputs": [
    {
     "name": "stdout",
     "output_type": "stream",
     "text": [
      "Alle SBB codes zijn valide\n",
      "Alle VvN codes zijn valide\n",
      "         VvN    SBB\n",
      "0     14rg10   14-l\n",
      "1        NaN    7-a\n",
      "2        NaN   8b-b\n",
      "3        NaN   11/c\n",
      "4        NaN  11a-b\n",
      "...      ...    ...\n",
      "1127     NaN   43-b\n",
      "1128     NaN   43-d\n",
      "1129     NaN   42-d\n",
      "1130     NaN  43c1j\n",
      "1131     NaN  41a3d\n",
      "\n",
      "[1132 rows x 2 columns]\n"
     ]
    }
   ],
   "source": [
    "wwl = WasWordtLijst.from_excel(path_out)\n",
    "print(wwl.df)"
   ]
  },
  {
   "cell_type": "markdown",
   "metadata": {},
   "source": [
    "### Definitietabel opschonen en inladen\n",
    "\n",
    "VvN en SBB codes worden gecheckt op validiteit bij:\n",
    "1. het opschonen van een definitietabel\n",
    "2. bij het inlezen van een opgeschoonde definitietabel"
   ]
  },
  {
   "cell_type": "code",
   "execution_count": 11,
   "metadata": {},
   "outputs": [
    {
     "name": "stdout",
     "output_type": "stream",
     "text": [
      "Alle SBB codes zijn valide\n",
      "Alle VvN codes zijn valide\n"
     ]
    }
   ],
   "source": [
    "path_in = Path(\"../data/definitietabel habitattypen (versie 24 maart 2009)_0.xls\")\n",
    "path_out = Path(\"../testing/opgeschoonde_definitietabel.xlsx\")\n",
    "opschonen_definitietabel(path_in, path_out)"
   ]
  },
  {
   "cell_type": "code",
   "execution_count": 12,
   "metadata": {},
   "outputs": [
    {
     "name": "stdout",
     "output_type": "stream",
     "text": [
      "Alle SBB codes zijn valide\n",
      "Alle VvN codes zijn valide\n",
      "     HABCODE Kwaliteit     VvN  \\\n",
      "0      H1130         G    2aa1   \n",
      "1      H1130         G    2aa2   \n",
      "2      H1130         G    3aa1   \n",
      "3      H1130         G    3aa2   \n",
      "4    H1140_A         G    2aa1   \n",
      "..       ...       ...     ...   \n",
      "628    H91F0         G  17aa1b   \n",
      "629    H91F0         G   37ab1   \n",
      "630    H91F0         G   43aa1   \n",
      "631    H91F0         M   43rg2   \n",
      "632    H91F0         M     NaN   \n",
      "\n",
      "                                                  mits  \\\n",
      "0    mits in de FGR Getijdengebied en mits gelegen ...   \n",
      "1    mits in de FGR Getijdengebied en mits gelegen ...   \n",
      "2    mits in de FGR Getijdengebied en mits gelegen ...   \n",
      "3    mits in de FGR Getijdengebied en mits gelegen ...   \n",
      "4    mits in de slikkige en fijnzandige delen van F...   \n",
      "..                                                 ...   \n",
      "628                                                NaN   \n",
      "629                                                NaN   \n",
      "630                         mits in FGR Rivierengebied   \n",
      "631                         mits in FGR Rivierengebied   \n",
      "632                                                NaN   \n",
      "\n",
      "                                               mozaiek   SBB  \n",
      "0                                                  NaN   NaN  \n",
      "1                                                  NaN   NaN  \n",
      "2                                                  NaN   NaN  \n",
      "3                                                  NaN   NaN  \n",
      "4                                                  NaN   NaN  \n",
      "..                                                 ...   ...  \n",
      "628  alleen in mozaïek met of als rand langs zelfst...   NaN  \n",
      "629  alleen in mozaïek met of als rand langs zelfst...   NaN  \n",
      "630                                                NaN   NaN  \n",
      "631                                                NaN   NaN  \n",
      "632  alleen in mozaïek met zelfstandige vegetaties ...  43-d  \n",
      "\n",
      "[633 rows x 6 columns]\n"
     ]
    }
   ],
   "source": [
    "dt = DefinitieTabel.from_excel(path_out)\n",
    "print(dt.df)"
   ]
  }
 ],
 "metadata": {
  "kernelspec": {
   "display_name": "veg2hab-CuqoUkZb-py3.7",
   "language": "python",
   "name": "python3"
  },
  "language_info": {
   "codemirror_mode": {
    "name": "ipython",
    "version": 3
   },
   "file_extension": ".py",
   "mimetype": "text/x-python",
   "name": "python",
   "nbconvert_exporter": "python",
   "pygments_lexer": "ipython3",
   "version": "3.8.10"
  }
 },
 "nbformat": 4,
 "nbformat_minor": 2
}
