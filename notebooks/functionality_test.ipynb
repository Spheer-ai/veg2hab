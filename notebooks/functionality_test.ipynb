{
 "cells": [
  {
   "cell_type": "markdown",
   "metadata": {},
   "source": [
    "# Voorbeeld van omzetting door Veg2Hab"
   ]
  },
  {
   "cell_type": "code",
   "execution_count": 1,
   "metadata": {},
   "outputs": [],
   "source": [
    "from pathlib import Path\n",
    "\n",
    "import sys\n",
    "sys.path.append('../')\n",
    "\n",
    "from veg2hab.waswordtlijst import WasWordtLijst, opschonen_was_wordt_lijst\n",
    "from veg2hab.definitietabel import DefinitieTabel, opschonen_definitietabel\n",
    "from veg2hab.vegkartering import ProtoKartering"
   ]
  },
  {
   "cell_type": "markdown",
   "metadata": {},
   "source": [
    "## was-wordt lijst opschonen en inladen \n",
    "\n",
    "De was-wordt lijst wordt gebruikt om vlakken met een SBB-code te voorzien van een VvN-code.\n",
    "\n",
    "VvN- en SBB-codes in de wwl worden gecheckt op validiteit bij:\n",
    "1. het opschonen van een was-wordt lijst\n",
    "2. bij het inlezen van een opgeschoonde was-wordt lijst"
   ]
  },
  {
   "cell_type": "code",
   "execution_count": 36,
   "metadata": {},
   "outputs": [
    {
     "name": "stdout",
     "output_type": "stream",
     "text": [
      "Alle SBB codes zijn valide\n",
      "Alle VvN codes zijn valide\n"
     ]
    },
    {
     "name": "stderr",
     "output_type": "stream",
     "text": [
      "/home/jakko/git/veg2hab/.venv/lib/python3.8/site-packages/openpyxl/worksheet/header_footer.py:48: UserWarning: Cannot parse header or footer so it will be ignored\n",
      "  warn(\"\"\"Cannot parse header or footer so it will be ignored\"\"\")\n",
      "/home/jakko/git/veg2hab/.venv/lib/python3.8/site-packages/pandas/core/missing.py:49: FutureWarning: elementwise comparison failed; returning scalar instead, but in the future will perform elementwise comparison\n",
      "  mask = arr == x\n",
      "/home/jakko/git/veg2hab/.venv/lib/python3.8/site-packages/pandas/core/missing.py:60: FutureWarning: elementwise comparison failed; returning scalar instead, but in the future will perform elementwise comparison\n",
      "  mask |= arr == x\n"
     ]
    }
   ],
   "source": [
    "path_in_wwl = Path(\"../data/5. Was-wordt-lijst-vegetatietypen-en-habitattypen-09-02-2021.xlsx\")\n",
    "path_out_wwl = Path(\"../testing/opgeschoonde_waswordt.xlsx\")\n",
    "opschonen_was_wordt_lijst(path_in_wwl, path_out_wwl)"
   ]
  },
  {
   "cell_type": "code",
   "execution_count": 37,
   "metadata": {},
   "outputs": [
    {
     "name": "stdout",
     "output_type": "stream",
     "text": [
      "Alle SBB codes zijn valide\n",
      "Alle VvN codes zijn valide\n"
     ]
    }
   ],
   "source": [
    "wwl = WasWordtLijst.from_excel(path_out_wwl)"
   ]
  },
  {
   "cell_type": "markdown",
   "metadata": {},
   "source": [
    "## Definitietabel opschonen en inladen\n",
    "\n",
    "De definitietabel wordt gebruikt om velden op basis van hun vegetatiecode(s) één of meerdere mogelijke habitattypen toe te kennen.\n",
    "\n",
    "VvN- en SBB-codes worden gecheckt op validiteit bij:\n",
    "1. het opschonen van een definitietabel\n",
    "2. bij het inlezen van een opgeschoonde definitietabel"
   ]
  },
  {
   "cell_type": "code",
   "execution_count": 38,
   "metadata": {},
   "outputs": [
    {
     "name": "stdout",
     "output_type": "stream",
     "text": [
      "Alle SBB codes zijn valide\n",
      "Alle VvN codes zijn valide\n"
     ]
    },
    {
     "name": "stderr",
     "output_type": "stream",
     "text": [
      "/home/jakko/git/veg2hab/.venv/lib/python3.8/site-packages/pandas/core/missing.py:49: FutureWarning: elementwise comparison failed; returning scalar instead, but in the future will perform elementwise comparison\n",
      "  mask = arr == x\n",
      "/home/jakko/git/veg2hab/.venv/lib/python3.8/site-packages/pandas/core/missing.py:60: FutureWarning: elementwise comparison failed; returning scalar instead, but in the future will perform elementwise comparison\n",
      "  mask |= arr == x\n"
     ]
    }
   ],
   "source": [
    "path_in_dt = Path(\"../data/definitietabel habitattypen (versie 24 maart 2009)_0.xls\")\n",
    "path_out_dt = Path(\"../testing/opgeschoonde_definitietabel.xlsx\")\n",
    "opschonen_definitietabel(path_in_dt, path_out_dt)"
   ]
  },
  {
   "cell_type": "code",
   "execution_count": 39,
   "metadata": {},
   "outputs": [],
   "source": [
    "dt = DefinitieTabel.from_excel(path_out_dt)"
   ]
  },
  {
   "cell_type": "markdown",
   "metadata": {},
   "source": [
    "## Inladen en omzetten van een access kartering\n",
    "\n",
    "- Voor ieder vlak in de kartering wordt de (complexe) SBB code opgezocht.\n",
    "- Deze SBB-codes worden opgeschoond en gevalideerd.\n",
    "- De SBB codes worden toegevoegd aan de dataframe van de kartering als VegTypeInfo instance. \n",
    "\n",
    "De resulterende dataframe heeft voor elke regel in KarteringVegetatietype.csv een VegTypeInfo instance in de rij van de betreffende shape."
   ]
  },
  {
   "cell_type": "markdown",
   "metadata": {},
   "source": [
    "#### Inladen Access kartering"
   ]
  },
  {
   "cell_type": "code",
   "execution_count": 40,
   "metadata": {},
   "outputs": [
    {
     "data": {
      "text/html": [
       "<div>\n",
       "<style scoped>\n",
       "    .dataframe tbody tr th:only-of-type {\n",
       "        vertical-align: middle;\n",
       "    }\n",
       "\n",
       "    .dataframe tbody tr th {\n",
       "        vertical-align: top;\n",
       "    }\n",
       "\n",
       "    .dataframe thead th {\n",
       "        text-align: right;\n",
       "    }\n",
       "</style>\n",
       "<table border=\"1\" class=\"dataframe\">\n",
       "  <thead>\n",
       "    <tr style=\"text-align: right;\">\n",
       "      <th></th>\n",
       "      <th>ELMID</th>\n",
       "      <th>Projcode</th>\n",
       "      <th>DLgebied</th>\n",
       "      <th>Vegtype</th>\n",
       "      <th>Opp</th>\n",
       "      <th>datum</th>\n",
       "      <th>VEGTYPE1</th>\n",
       "      <th>VEGTYPE2</th>\n",
       "      <th>VEGTYPE3</th>\n",
       "      <th>Code</th>\n",
       "      <th>...</th>\n",
       "      <th>ASSOCIAT_1</th>\n",
       "      <th>SUBASSOCIA</th>\n",
       "      <th>SUBASSOC_1</th>\n",
       "      <th>SYNTAXON_N</th>\n",
       "      <th>SYNTAXON_W</th>\n",
       "      <th>geometry</th>\n",
       "      <th>intern_id</th>\n",
       "      <th>ElmID</th>\n",
       "      <th>Locatie</th>\n",
       "      <th>VegTypeInfo</th>\n",
       "    </tr>\n",
       "  </thead>\n",
       "  <tbody>\n",
       "    <tr>\n",
       "      <th>0</th>\n",
       "      <td>75.0</td>\n",
       "      <td>None</td>\n",
       "      <td>Norgerholt</td>\n",
       "      <td>M2e+N1b</td>\n",
       "      <td>0.186890</td>\n",
       "      <td>2020-06-03</td>\n",
       "      <td>M2e</td>\n",
       "      <td>N1b</td>\n",
       "      <td>None</td>\n",
       "      <td>M2e</td>\n",
       "      <td>...</td>\n",
       "      <td>Fago-Quercetum</td>\n",
       "      <td>Beuken-Eikenbos subass met Lelietje-van-dalen</td>\n",
       "      <td>Fago-Quercetum convallarietosum</td>\n",
       "      <td>Beuken-Eikenbos subass met Lelietje-van-dalen</td>\n",
       "      <td>Fago-Quercetum convallarietosum</td>\n",
       "      <td>POLYGON ((226254.432 563782.100, 226249.488 56...</td>\n",
       "      <td>3580</td>\n",
       "      <td>75</td>\n",
       "      <td>3580</td>\n",
       "      <td>[(60%, VvN: [], SBB: ['42a2c']), (40%, VvN: []...</td>\n",
       "    </tr>\n",
       "    <tr>\n",
       "      <th>1</th>\n",
       "      <td>124.0</td>\n",
       "      <td>None</td>\n",
       "      <td>Norgerholt</td>\n",
       "      <td>M2h</td>\n",
       "      <td>0.159333</td>\n",
       "      <td>2020-06-03</td>\n",
       "      <td>M2h</td>\n",
       "      <td>None</td>\n",
       "      <td>None</td>\n",
       "      <td>M2h</td>\n",
       "      <td>...</td>\n",
       "      <td>Fago-Quercetum</td>\n",
       "      <td>Beuken-Eikenbos subass met Lelietje-van-dalen</td>\n",
       "      <td>Fago-Quercetum convallarietosum</td>\n",
       "      <td>Beuken-Eikenbos subass met Lelietje-van-dalen</td>\n",
       "      <td>Fago-Quercetum convallarietosum</td>\n",
       "      <td>POLYGON ((226569.758 564037.449, 226569.232 56...</td>\n",
       "      <td>3588</td>\n",
       "      <td>124</td>\n",
       "      <td>3588</td>\n",
       "      <td>[(100%, VvN: [], SBB: ['42a2c'])]</td>\n",
       "    </tr>\n",
       "    <tr>\n",
       "      <th>2</th>\n",
       "      <td>258.0</td>\n",
       "      <td>None</td>\n",
       "      <td>Norgerholt</td>\n",
       "      <td>M2i</td>\n",
       "      <td>1.095963</td>\n",
       "      <td>2020-06-18</td>\n",
       "      <td>M2i</td>\n",
       "      <td>None</td>\n",
       "      <td>None</td>\n",
       "      <td>M2i</td>\n",
       "      <td>...</td>\n",
       "      <td>Fago-Quercetum</td>\n",
       "      <td>Beuken-Eikenbos subass met Lelietje-van-dalen</td>\n",
       "      <td>Fago-Quercetum convallarietosum</td>\n",
       "      <td>Beuken-Eikenbos subass met Lelietje-van-dalen</td>\n",
       "      <td>Fago-Quercetum convallarietosum</td>\n",
       "      <td>POLYGON ((226437.524 563575.780, 226430.681 56...</td>\n",
       "      <td>3617</td>\n",
       "      <td>258</td>\n",
       "      <td>3617</td>\n",
       "      <td>[(100%, VvN: [], SBB: ['42a2c'])]</td>\n",
       "    </tr>\n",
       "  </tbody>\n",
       "</table>\n",
       "<p>3 rows × 40 columns</p>\n",
       "</div>"
      ],
      "text/plain": [
       "   ELMID Projcode    DLgebied  Vegtype       Opp       datum VEGTYPE1  \\\n",
       "0   75.0     None  Norgerholt  M2e+N1b  0.186890  2020-06-03      M2e   \n",
       "1  124.0     None  Norgerholt      M2h  0.159333  2020-06-03      M2h   \n",
       "2  258.0     None  Norgerholt      M2i  1.095963  2020-06-18      M2i   \n",
       "\n",
       "  VEGTYPE2 VEGTYPE3 Code  ...      ASSOCIAT_1  \\\n",
       "0      N1b     None  M2e  ...  Fago-Quercetum   \n",
       "1     None     None  M2h  ...  Fago-Quercetum   \n",
       "2     None     None  M2i  ...  Fago-Quercetum   \n",
       "\n",
       "                                      SUBASSOCIA  \\\n",
       "0  Beuken-Eikenbos subass met Lelietje-van-dalen   \n",
       "1  Beuken-Eikenbos subass met Lelietje-van-dalen   \n",
       "2  Beuken-Eikenbos subass met Lelietje-van-dalen   \n",
       "\n",
       "                        SUBASSOC_1  \\\n",
       "0  Fago-Quercetum convallarietosum   \n",
       "1  Fago-Quercetum convallarietosum   \n",
       "2  Fago-Quercetum convallarietosum   \n",
       "\n",
       "                                      SYNTAXON_N  \\\n",
       "0  Beuken-Eikenbos subass met Lelietje-van-dalen   \n",
       "1  Beuken-Eikenbos subass met Lelietje-van-dalen   \n",
       "2  Beuken-Eikenbos subass met Lelietje-van-dalen   \n",
       "\n",
       "                        SYNTAXON_W  \\\n",
       "0  Fago-Quercetum convallarietosum   \n",
       "1  Fago-Quercetum convallarietosum   \n",
       "2  Fago-Quercetum convallarietosum   \n",
       "\n",
       "                                            geometry intern_id ElmID Locatie  \\\n",
       "0  POLYGON ((226254.432 563782.100, 226249.488 56...      3580    75    3580   \n",
       "1  POLYGON ((226569.758 564037.449, 226569.232 56...      3588   124    3588   \n",
       "2  POLYGON ((226437.524 563575.780, 226430.681 56...      3617   258    3617   \n",
       "\n",
       "                                         VegTypeInfo  \n",
       "0  [(60%, VvN: [], SBB: ['42a2c']), (40%, VvN: []...  \n",
       "1                  [(100%, VvN: [], SBB: ['42a2c'])]  \n",
       "2                  [(100%, VvN: [], SBB: ['42a2c'])]  \n",
       "\n",
       "[3 rows x 40 columns]"
      ]
     },
     "execution_count": 40,
     "metadata": {},
     "output_type": "execute_result"
    }
   ],
   "source": [
    "# shape_path = Path(\"../testing/Rottige_Meenthe_Brandemeer_2013/vlakken.shp\")\n",
    "# csvs_path = Path(\"../testing/Rottige_Meenthe_Brandemeer_2013/864_RottigeMeenthe2013/\")\n",
    "# shape_elm_id_column = \"ElmID\"\n",
    "shape_path = Path(\"../testing/NM_Fochteloerveen_2020/NM_Fovhteloerveen_Norg2020.shp\")\n",
    "csvs_path = Path(\"../testing/NM_Fochteloerveen_2020/DS_NM_SBB v3.0Fochteloerveen_Norgerholt2020/\")\n",
    "shape_elm_id_column = \"ELMID\"\n",
    "\n",
    "access_kartering = ProtoKartering.from_access_db(shape_path, shape_elm_id_column, csvs_path)\n",
    "\n",
    "access_kartering.gdf.iloc[:3]\n"
   ]
  },
  {
   "cell_type": "markdown",
   "metadata": {},
   "source": [
    "#### Opzoeken en toevoegen VvN aan kartering"
   ]
  },
  {
   "cell_type": "code",
   "execution_count": 41,
   "metadata": {},
   "outputs": [
    {
     "name": "stdout",
     "output_type": "stream",
     "text": [
      "0       [(60%, VvN: ['42aa2c'], SBB: ['42a2c']), (40%,...\n",
      "1               [(100%, VvN: ['42aa2c'], SBB: ['42a2c'])]\n",
      "2               [(100%, VvN: ['42aa2c'], SBB: ['42a2c'])]\n",
      "3               [(100%, VvN: ['42aa2c'], SBB: ['42a2c'])]\n",
      "4       [(70%, VvN: [], SBB: ['43c1k']), (30%, VvN: []...\n",
      "                              ...                        \n",
      "1296              [(100%, VvN: ['11rg1'], SBB: ['10-h'])]\n",
      "1297              [(100%, VvN: ['11rg1'], SBB: ['10-h'])]\n",
      "1298    [(90%, VvN: ['10rg3'], SBB: ['10-b']), (10%, V...\n",
      "1299              [(100%, VvN: ['10rg3'], SBB: ['10-b'])]\n",
      "1300              [(100%, VvN: ['11rg1'], SBB: ['11-c'])]\n",
      "Name: VegTypeInfo, Length: 1301, dtype: object\n"
     ]
    }
   ],
   "source": [
    "vegtypeinfo_series = access_kartering.gdf.VegTypeInfo.apply(wwl.toevoegen_VvN_aan_List_VegTypeInfo)\n",
    "print(vegtypeinfo_series)"
   ]
  },
  {
   "cell_type": "code",
   "execution_count": 44,
   "metadata": {},
   "outputs": [
    {
     "data": {
      "text/plain": [
       "[VegTypeInfo(percentage=100, SBB=[SBB(klasse='42', verbond='a', associatie='2', subassociatie='c', derivaatgemeenschap=None, rompgemeenschap=None, max_match_level=4)], VvN=[VvN(klasse='42', orde='a', verbond='a', associatie='2', subassociatie='c', derivaatgemeenschap=None, rompgemeenschap=None, max_match_level=5)])]"
      ]
     },
     "execution_count": 44,
     "metadata": {},
     "output_type": "execute_result"
    }
   ],
   "source": [
    "vegtypeinfo_series.iloc[1]"
   ]
  },
  {
   "cell_type": "code",
   "execution_count": 20,
   "metadata": {},
   "outputs": [
    {
     "data": {
      "text/plain": [
       "[VegTypeInfo(percentage=100, SBB=[SBB(klasse='42', verbond='a', associatie='2', subassociatie='c', derivaatgemeenschap=None, rompgemeenschap=None, max_match_level=4)], VvN=[VvN(klasse='42', orde='a', verbond='a', associatie='2', subassociatie='c', derivaatgemeenschap=None, rompgemeenschap=None, max_match_level=5)])]"
      ]
     },
     "execution_count": 20,
     "metadata": {},
     "output_type": "execute_result"
    }
   ],
   "source": [
    "# Example of 3 vegtypeinfos in 1 geometry\n",
    "vegtypeinfo_series.iloc[3]"
   ]
  },
  {
   "cell_type": "code",
   "execution_count": 24,
   "metadata": {},
   "outputs": [],
   "source": [
    "access_kartering.gdf.VegTypeInfo = vegtypeinfo_series"
   ]
  },
  {
   "cell_type": "code",
   "execution_count": 47,
   "metadata": {},
   "outputs": [
    {
     "data": {
      "text/html": [
       "<div>\n",
       "<style scoped>\n",
       "    .dataframe tbody tr th:only-of-type {\n",
       "        vertical-align: middle;\n",
       "    }\n",
       "\n",
       "    .dataframe tbody tr th {\n",
       "        vertical-align: top;\n",
       "    }\n",
       "\n",
       "    .dataframe thead th {\n",
       "        text-align: right;\n",
       "    }\n",
       "</style>\n",
       "<table border=\"1\" class=\"dataframe\">\n",
       "  <thead>\n",
       "    <tr style=\"text-align: right;\">\n",
       "      <th></th>\n",
       "      <th>Code_SBB</th>\n",
       "      <th>CODE_VvN</th>\n",
       "      <th>VegTypeInfo</th>\n",
       "    </tr>\n",
       "  </thead>\n",
       "  <tbody>\n",
       "    <tr>\n",
       "      <th>0</th>\n",
       "      <td>42A2c</td>\n",
       "      <td>42AA02C</td>\n",
       "      <td>[(60%, VvN: [], SBB: ['42a2c']), (40%, VvN: []...</td>\n",
       "    </tr>\n",
       "    <tr>\n",
       "      <th>1</th>\n",
       "      <td>42A2c</td>\n",
       "      <td>42AA02C</td>\n",
       "      <td>[(100%, VvN: [], SBB: ['42a2c'])]</td>\n",
       "    </tr>\n",
       "    <tr>\n",
       "      <th>2</th>\n",
       "      <td>42A2c</td>\n",
       "      <td>42AA02C</td>\n",
       "      <td>[(100%, VvN: [], SBB: ['42a2c'])]</td>\n",
       "    </tr>\n",
       "    <tr>\n",
       "      <th>3</th>\n",
       "      <td>42A2c</td>\n",
       "      <td>42AA02C</td>\n",
       "      <td>[(100%, VvN: [], SBB: ['42a2c'])]</td>\n",
       "    </tr>\n",
       "    <tr>\n",
       "      <th>4</th>\n",
       "      <td>43C1k</td>\n",
       "      <td>43AB01F</td>\n",
       "      <td>[(70%, VvN: [], SBB: ['43c1k']), (30%, VvN: []...</td>\n",
       "    </tr>\n",
       "    <tr>\n",
       "      <th>...</th>\n",
       "      <td>...</td>\n",
       "      <td>...</td>\n",
       "      <td>...</td>\n",
       "    </tr>\n",
       "    <tr>\n",
       "      <th>1296</th>\n",
       "      <td>10-h</td>\n",
       "      <td>11RG01</td>\n",
       "      <td>[(100%, VvN: [], SBB: ['10-h'])]</td>\n",
       "    </tr>\n",
       "    <tr>\n",
       "      <th>1297</th>\n",
       "      <td>10-h</td>\n",
       "      <td>11RG01</td>\n",
       "      <td>[(100%, VvN: [], SBB: ['10-h'])]</td>\n",
       "    </tr>\n",
       "    <tr>\n",
       "      <th>1298</th>\n",
       "      <td>10-b</td>\n",
       "      <td>10RG03</td>\n",
       "      <td>[(90%, VvN: [], SBB: ['10-b']), (10%, VvN: [],...</td>\n",
       "    </tr>\n",
       "    <tr>\n",
       "      <th>1299</th>\n",
       "      <td>10-b</td>\n",
       "      <td>10RG03</td>\n",
       "      <td>[(100%, VvN: [], SBB: ['10-b'])]</td>\n",
       "    </tr>\n",
       "    <tr>\n",
       "      <th>1300</th>\n",
       "      <td>11-c</td>\n",
       "      <td>11RG01</td>\n",
       "      <td>[(100%, VvN: [], SBB: ['11-c'])]</td>\n",
       "    </tr>\n",
       "  </tbody>\n",
       "</table>\n",
       "<p>1301 rows × 3 columns</p>\n",
       "</div>"
      ],
      "text/plain": [
       "     Code_SBB CODE_VvN                                        VegTypeInfo\n",
       "0       42A2c  42AA02C  [(60%, VvN: [], SBB: ['42a2c']), (40%, VvN: []...\n",
       "1       42A2c  42AA02C                  [(100%, VvN: [], SBB: ['42a2c'])]\n",
       "2       42A2c  42AA02C                  [(100%, VvN: [], SBB: ['42a2c'])]\n",
       "3       42A2c  42AA02C                  [(100%, VvN: [], SBB: ['42a2c'])]\n",
       "4       43C1k  43AB01F  [(70%, VvN: [], SBB: ['43c1k']), (30%, VvN: []...\n",
       "...       ...      ...                                                ...\n",
       "1296     10-h   11RG01                   [(100%, VvN: [], SBB: ['10-h'])]\n",
       "1297     10-h   11RG01                   [(100%, VvN: [], SBB: ['10-h'])]\n",
       "1298     10-b   10RG03  [(90%, VvN: [], SBB: ['10-b']), (10%, VvN: [],...\n",
       "1299     10-b   10RG03                   [(100%, VvN: [], SBB: ['10-b'])]\n",
       "1300     11-c   11RG01                   [(100%, VvN: [], SBB: ['11-c'])]\n",
       "\n",
       "[1301 rows x 3 columns]"
      ]
     },
     "execution_count": 47,
     "metadata": {},
     "output_type": "execute_result"
    }
   ],
   "source": [
    "access_kartering.gdf[['Code_SBB','CODE_VvN', 'VegTypeInfo']]"
   ]
  },
  {
   "cell_type": "markdown",
   "metadata": {},
   "source": [
    "#### Vinden van de mogelijke habitattypen voor een VegTypeInfo\n",
    "\n",
    "Voor elke VegTypeInfo worden de mogelijke habitattypen opgezocht in de definitietabel. Deze worden vervolgens in een HabitatVoorstel gezet, samen met de code waarop de match is gemaakt, de regel in de definitietabel die is gebruikt en het niveau van de match."
   ]
  },
  {
   "cell_type": "code",
   "execution_count": 46,
   "metadata": {},
   "outputs": [
    {
     "name": "stdout",
     "output_type": "stream",
     "text": [
      "0       [[HabitatVoorstel(vegtype=VvN(klasse='42', ord...\n",
      "1       [[HabitatVoorstel(vegtype=VvN(klasse='42', ord...\n",
      "2       [[HabitatVoorstel(vegtype=VvN(klasse='42', ord...\n",
      "3       [[HabitatVoorstel(vegtype=VvN(klasse='42', ord...\n",
      "4                                                [[], []]\n",
      "                              ...                        \n",
      "1296    [[HabitatVoorstel(vegtype=VvN(klasse='11', ord...\n",
      "1297    [[HabitatVoorstel(vegtype=VvN(klasse='11', ord...\n",
      "1298    [[HabitatVoorstel(vegtype=VvN(klasse='10', ord...\n",
      "1299    [[HabitatVoorstel(vegtype=VvN(klasse='10', ord...\n",
      "1300    [[HabitatVoorstel(vegtype=VvN(klasse='11', ord...\n",
      "Name: VegTypeInfo, Length: 1301, dtype: object\n"
     ]
    }
   ],
   "source": [
    "habitat_voorstellen = vegtypeinfo_series.apply(lambda infos: [dt.find_habtypes(info) for info in infos])\n",
    "print(habitat_voorstellen)"
   ]
  },
  {
   "cell_type": "code",
   "execution_count": 12,
   "metadata": {},
   "outputs": [
    {
     "data": {
      "text/plain": [
       "[[HabitatVoorstel(vegtype=SBB(klasse='9', verbond='b', associatie=None, subassociatie=None, derivaatgemeenschap=None, rompgemeenschap='a', max_match_level=1), habtype='H3160', kwaliteit=<GoedMatig.GOED: 'Goed'>, regel_in_deftabel=306, mits=None, mozaiek=None, match_level=1)],\n",
       " [HabitatVoorstel(vegtype=VvN(klasse='9', orde=None, verbond=None, associatie=None, subassociatie=None, derivaatgemeenschap=None, rompgemeenschap='3', max_match_level=1), habtype='H2190_C', kwaliteit=<GoedMatig.MATIG: 'Matig'>, regel_in_deftabel=200, mits=None, mozaiek=None, match_level=1)],\n",
       " [HabitatVoorstel(vegtype=VvN(klasse='9', orde='a', verbond='a', associatie='2', subassociatie='b', derivaatgemeenschap=None, rompgemeenschap=None, max_match_level=5), habtype='H7140_B', kwaliteit=<GoedMatig.GOED: 'Goed'>, regel_in_deftabel=520, mits=None, mozaiek=None, match_level=4)]]"
      ]
     },
     "execution_count": 12,
     "metadata": {},
     "output_type": "execute_result"
    }
   ],
   "source": [
    "habitat_voorstellen[3]"
   ]
  }
 ],
 "metadata": {
  "kernelspec": {
   "display_name": "veg2hab-CuqoUkZb-py3.7",
   "language": "python",
   "name": "python3"
  },
  "language_info": {
   "codemirror_mode": {
    "name": "ipython",
    "version": 3
   },
   "file_extension": ".py",
   "mimetype": "text/x-python",
   "name": "python",
   "nbconvert_exporter": "python",
   "pygments_lexer": "ipython3",
   "version": "3.8.10"
  }
 },
 "nbformat": 4,
 "nbformat_minor": 2
}
