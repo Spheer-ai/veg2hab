{
    "cells": [
        {
            "cell_type": "markdown",
            "metadata": {},
            "source": [
                "# Voorbeeld van omzetting door Veg2Hab\n",
                "\n",
                "Dit notebook doorloopt alle stappen die tot nu toe geimplementeerd zijn voor Veg2Hab. Het is een voorbeeld van hoe de omzetting van vegetatie naar habitattypekaart kan verlopen.\n",
                "\n",
                "Eerst worden alle benodigde resources geinstantieerd (was-wordt lijst, definitietabel, fgr-kaart). Hierna wordt de omzetting stap voor stap uitgevoerd."
            ]
        },
        {
            "cell_type": "code",
            "execution_count": 1,
            "metadata": {},
            "outputs": [
                {
                    "name": "stderr",
                    "output_type": "stream",
                    "text": [
                        "/home/jordydelange/.cache/pypoetry/virtualenvs/veg2hab-CuqoUkZb-py3.7/lib/python3.7/site-packages/geopandas/_compat.py:115: UserWarning: The Shapely GEOS version (3.11.2-CAPI-1.17.2) is incompatible with the GEOS version PyGEOS was compiled with (3.10.4-CAPI-1.16.2). Conversions between both will be slow.\n",
                        "  shapely_geos_version, geos_capi_version_string\n"
                    ]
                },
                {
                    "data": {
                        "text/plain": [
                            "<veg2hab.io.cli.CLIInterface at 0x7ffafb3de690>"
                        ]
                    },
                    "execution_count": 1,
                    "metadata": {},
                    "output_type": "execute_result"
                }
            ],
            "source": [
                "from pathlib import Path\n",
                "\n",
                "import sys\n",
                "sys.path.append('../')\n",
                "\n",
                "from veg2hab.waswordtlijst import WasWordtLijst, opschonen_waswordtlijst\n",
                "from veg2hab.definitietabel import DefinitieTabel, opschonen_definitietabel\n",
                "from veg2hab.vegkartering import Kartering\n",
                "from veg2hab.io.cli import CLIInterface\n",
                "import pandas as pd\n",
                "from veg2hab.bronnen import FGR, Bodemkaart, LBK\n",
                "\n",
                "pd.set_option('display.max_columns', 100)\n",
                "\n",
                "CLIInterface.get_instance()"
            ]
        },
        {
            "cell_type": "markdown",
            "metadata": {},
            "source": [
                "### Was-Wordt lijst opschonen en inladen\n",
                "\n",
                "VvN en SBB codes worden gecheckt op validiteit bij:\n",
                "1. het opschonen van een was-wordt lijst\n",
                "2. bij het inlezen van een opgeschoonde was-wordt lijst"
            ]
        },
        {
            "cell_type": "code",
            "execution_count": 2,
            "metadata": {},
            "outputs": [
                {
                    "name": "stderr",
                    "output_type": "stream",
                    "text": [
                        "/home/jordydelange/.cache/pypoetry/virtualenvs/veg2hab-CuqoUkZb-py3.7/lib/python3.7/site-packages/openpyxl/worksheet/header_footer.py:48: UserWarning: Cannot parse header or footer so it will be ignored\n",
                        "  warn(\"\"\"Cannot parse header or footer so it will be ignored\"\"\")\n"
                    ]
                },
                {
                    "name": "stdout",
                    "output_type": "stream",
                    "text": [
                        "Alle SBB codes zijn valide\n",
                        "Alle VvN codes zijn valide\n",
                        "Alle SBB codes zijn valide\n",
                        "Alle VvN codes zijn valide\n"
                    ]
                },
                {
                    "data": {
                        "text/html": [
                            "<div>\n",
                            "<style scoped>\n",
                            "    .dataframe tbody tr th:only-of-type {\n",
                            "        vertical-align: middle;\n",
                            "    }\n",
                            "\n",
                            "    .dataframe tbody tr th {\n",
                            "        vertical-align: top;\n",
                            "    }\n",
                            "\n",
                            "    .dataframe thead th {\n",
                            "        text-align: right;\n",
                            "    }\n",
                            "</style>\n",
                            "<table border=\"1\" class=\"dataframe\">\n",
                            "  <thead>\n",
                            "    <tr style=\"text-align: right;\">\n",
                            "      <th></th>\n",
                            "      <th>VvN</th>\n",
                            "      <th>SBB</th>\n",
                            "    </tr>\n",
                            "  </thead>\n",
                            "  <tbody>\n",
                            "    <tr>\n",
                            "      <th>0</th>\n",
                            "      <td>14rg10</td>\n",
                            "      <td>14-l</td>\n",
                            "    </tr>\n",
                            "    <tr>\n",
                            "      <th>1</th>\n",
                            "      <td>None</td>\n",
                            "      <td>7-a</td>\n",
                            "    </tr>\n",
                            "    <tr>\n",
                            "      <th>2</th>\n",
                            "      <td>None</td>\n",
                            "      <td>8b-b</td>\n",
                            "    </tr>\n",
                            "  </tbody>\n",
                            "</table>\n",
                            "</div>"
                        ],
                        "text/plain": [
                            "      VvN   SBB\n",
                            "0  14rg10  14-l\n",
                            "1    None   7-a\n",
                            "2    None  8b-b"
                        ]
                    },
                    "execution_count": 2,
                    "metadata": {},
                    "output_type": "execute_result"
                }
            ],
            "source": [
                "path_in_wwl = Path(\"../data/5. Was-wordt-lijst-vegetatietypen-en-habitattypen-09-02-2021.xlsx\")\n",
                "path_out_wwl = Path(\"../testing/opgeschoonde_waswordt.xlsx\")\n",
                "opschonen_waswordtlijst(path_in_wwl, path_out_wwl)\n",
                "wwl = WasWordtLijst.from_excel(path_out_wwl)\n",
                "wwl.df.head(3)"
            ]
        },
        {
            "cell_type": "markdown",
            "metadata": {},
            "source": [
                "### Definitietabel opschonen en inladen\n",
                "\n",
                "VvN- en SBB-codes worden gecheckt op validiteit bij:\n",
                "1. het opschonen van een definitietabel\n",
                "2. bij het inlezen van een opgeschoonde definitietabel"
            ]
        },
        {
            "cell_type": "code",
            "execution_count": 3,
            "metadata": {},
            "outputs": [
                {
                    "name": "stdout",
                    "output_type": "stream",
                    "text": [
                        "Alle SBB codes zijn valide\n",
                        "Alle VvN codes zijn valide\n"
                    ]
                },
                {
                    "data": {
                        "text/html": [
                            "<div>\n",
                            "<style scoped>\n",
                            "    .dataframe tbody tr th:only-of-type {\n",
                            "        vertical-align: middle;\n",
                            "    }\n",
                            "\n",
                            "    .dataframe tbody tr th {\n",
                            "        vertical-align: top;\n",
                            "    }\n",
                            "\n",
                            "    .dataframe thead th {\n",
                            "        text-align: right;\n",
                            "    }\n",
                            "</style>\n",
                            "<table border=\"1\" class=\"dataframe\">\n",
                            "  <thead>\n",
                            "    <tr style=\"text-align: right;\">\n",
                            "      <th></th>\n",
                            "      <th>DT regel</th>\n",
                            "      <th>Habitattype</th>\n",
                            "      <th>Kwaliteit</th>\n",
                            "      <th>SBB</th>\n",
                            "      <th>VvN</th>\n",
                            "      <th>mits</th>\n",
                            "      <th>mozaiek</th>\n",
                            "      <th>mitsjson</th>\n",
                            "      <th>mozaiekjson</th>\n",
                            "      <th>Criteria</th>\n",
                            "      <th>Mozaiekregel</th>\n",
                            "    </tr>\n",
                            "  </thead>\n",
                            "  <tbody>\n",
                            "    <tr>\n",
                            "      <th>0</th>\n",
                            "      <td>2</td>\n",
                            "      <td>H1110_A</td>\n",
                            "      <td>Kwaliteit.GOED</td>\n",
                            "      <td>50a</td>\n",
                            "      <td>None</td>\n",
                            "      <td>mits in de slikkige en fijnzandige delen van F...</td>\n",
                            "      <td>&lt;NA&gt;</td>\n",
                            "      <td>{\"type\": \"EnCriteria\", \"sub_criteria\": [{\"type...</td>\n",
                            "      <td>{\"type\": \"GeenMozaiekregel\"}</td>\n",
                            "      <td>((FGR is Getijdengebied of FGR is Noordzee) en...</td>\n",
                            "      <td>Geen mozaiekregel (altijd waar)</td>\n",
                            "    </tr>\n",
                            "    <tr>\n",
                            "      <th>1</th>\n",
                            "      <td>3</td>\n",
                            "      <td>H1110_A</td>\n",
                            "      <td>Kwaliteit.GOED</td>\n",
                            "      <td>50b</td>\n",
                            "      <td>None</td>\n",
                            "      <td>mits in de slikkige en fijnzandige delen van F...</td>\n",
                            "      <td>&lt;NA&gt;</td>\n",
                            "      <td>{\"type\": \"EnCriteria\", \"sub_criteria\": [{\"type...</td>\n",
                            "      <td>{\"type\": \"GeenMozaiekregel\"}</td>\n",
                            "      <td>((FGR is Getijdengebied of FGR is Noordzee) en...</td>\n",
                            "      <td>Geen mozaiekregel (altijd waar)</td>\n",
                            "    </tr>\n",
                            "    <tr>\n",
                            "      <th>2</th>\n",
                            "      <td>4</td>\n",
                            "      <td>H1110_A</td>\n",
                            "      <td>Kwaliteit.GOED</td>\n",
                            "      <td>50c</td>\n",
                            "      <td>None</td>\n",
                            "      <td>mits in de slikkige en fijnzandige delen van F...</td>\n",
                            "      <td>&lt;NA&gt;</td>\n",
                            "      <td>{\"type\": \"EnCriteria\", \"sub_criteria\": [{\"type...</td>\n",
                            "      <td>{\"type\": \"GeenMozaiekregel\"}</td>\n",
                            "      <td>((FGR is Getijdengebied of FGR is Noordzee) en...</td>\n",
                            "      <td>Geen mozaiekregel (altijd waar)</td>\n",
                            "    </tr>\n",
                            "    <tr>\n",
                            "      <th>3</th>\n",
                            "      <td>5</td>\n",
                            "      <td>H1110_B</td>\n",
                            "      <td>Kwaliteit.GOED</td>\n",
                            "      <td>50a</td>\n",
                            "      <td>None</td>\n",
                            "      <td>mits in de grofzandige delen van FGR Getijdeng...</td>\n",
                            "      <td>&lt;NA&gt;</td>\n",
                            "      <td>{\"type\": \"EnCriteria\", \"sub_criteria\": [{\"type...</td>\n",
                            "      <td>{\"type\": \"GeenMozaiekregel\"}</td>\n",
                            "      <td>((FGR is Getijdengebied of FGR is Noordzee) en...</td>\n",
                            "      <td>Geen mozaiekregel (altijd waar)</td>\n",
                            "    </tr>\n",
                            "    <tr>\n",
                            "      <th>4</th>\n",
                            "      <td>6</td>\n",
                            "      <td>H1110_B</td>\n",
                            "      <td>Kwaliteit.GOED</td>\n",
                            "      <td>50b</td>\n",
                            "      <td>None</td>\n",
                            "      <td>mits in de grofzandige delen van FGR Getijdeng...</td>\n",
                            "      <td>&lt;NA&gt;</td>\n",
                            "      <td>{\"type\": \"EnCriteria\", \"sub_criteria\": [{\"type...</td>\n",
                            "      <td>{\"type\": \"GeenMozaiekregel\"}</td>\n",
                            "      <td>((FGR is Getijdengebied of FGR is Noordzee) en...</td>\n",
                            "      <td>Geen mozaiekregel (altijd waar)</td>\n",
                            "    </tr>\n",
                            "  </tbody>\n",
                            "</table>\n",
                            "</div>"
                        ],
                        "text/plain": [
                            "   DT regel Habitattype       Kwaliteit  SBB   VvN  \\\n",
                            "0         2     H1110_A  Kwaliteit.GOED  50a  None   \n",
                            "1         3     H1110_A  Kwaliteit.GOED  50b  None   \n",
                            "2         4     H1110_A  Kwaliteit.GOED  50c  None   \n",
                            "3         5     H1110_B  Kwaliteit.GOED  50a  None   \n",
                            "4         6     H1110_B  Kwaliteit.GOED  50b  None   \n",
                            "\n",
                            "                                                mits mozaiek  \\\n",
                            "0  mits in de slikkige en fijnzandige delen van F...    <NA>   \n",
                            "1  mits in de slikkige en fijnzandige delen van F...    <NA>   \n",
                            "2  mits in de slikkige en fijnzandige delen van F...    <NA>   \n",
                            "3  mits in de grofzandige delen van FGR Getijdeng...    <NA>   \n",
                            "4  mits in de grofzandige delen van FGR Getijdeng...    <NA>   \n",
                            "\n",
                            "                                            mitsjson  \\\n",
                            "0  {\"type\": \"EnCriteria\", \"sub_criteria\": [{\"type...   \n",
                            "1  {\"type\": \"EnCriteria\", \"sub_criteria\": [{\"type...   \n",
                            "2  {\"type\": \"EnCriteria\", \"sub_criteria\": [{\"type...   \n",
                            "3  {\"type\": \"EnCriteria\", \"sub_criteria\": [{\"type...   \n",
                            "4  {\"type\": \"EnCriteria\", \"sub_criteria\": [{\"type...   \n",
                            "\n",
                            "                    mozaiekjson  \\\n",
                            "0  {\"type\": \"GeenMozaiekregel\"}   \n",
                            "1  {\"type\": \"GeenMozaiekregel\"}   \n",
                            "2  {\"type\": \"GeenMozaiekregel\"}   \n",
                            "3  {\"type\": \"GeenMozaiekregel\"}   \n",
                            "4  {\"type\": \"GeenMozaiekregel\"}   \n",
                            "\n",
                            "                                            Criteria  \\\n",
                            "0  ((FGR is Getijdengebied of FGR is Noordzee) en...   \n",
                            "1  ((FGR is Getijdengebied of FGR is Noordzee) en...   \n",
                            "2  ((FGR is Getijdengebied of FGR is Noordzee) en...   \n",
                            "3  ((FGR is Getijdengebied of FGR is Noordzee) en...   \n",
                            "4  ((FGR is Getijdengebied of FGR is Noordzee) en...   \n",
                            "\n",
                            "                      Mozaiekregel  \n",
                            "0  Geen mozaiekregel (altijd waar)  \n",
                            "1  Geen mozaiekregel (altijd waar)  \n",
                            "2  Geen mozaiekregel (altijd waar)  \n",
                            "3  Geen mozaiekregel (altijd waar)  \n",
                            "4  Geen mozaiekregel (altijd waar)  "
                        ]
                    },
                    "execution_count": 3,
                    "metadata": {},
                    "output_type": "execute_result"
                }
            ],
            "source": [
                "path_in_dt = Path(\"../data/definitietabel habitattypen (versie 24 maart 2009)_0.xls\")\n",
                "path_in_mitsjson = Path(\"../data/mitsjson.json\")\n",
                "path_in_mozaiekjson = Path(\"../data/mozaiekjson.json\")\n",
                "path_out_dt = Path(\"../testing/opgeschoonde_definitietabel.xlsx\")\n",
                "opschonen_definitietabel(path_in_dt, path_in_mitsjson, path_in_mozaiekjson, path_out_dt)\n",
                "dt = DefinitieTabel.from_excel(path_out_dt)\n",
                "dt.df.head()"
            ]
        },
        {
            "cell_type": "markdown",
            "metadata": {},
            "source": [
                "## Inladen van een kartering vanaf een shapefile"
            ]
        },
        {
            "cell_type": "code",
            "execution_count": 4,
            "metadata": {},
            "outputs": [
                {
                    "data": {
                        "text/html": [
                            "<div>\n",
                            "<style scoped>\n",
                            "    .dataframe tbody tr th:only-of-type {\n",
                            "        vertical-align: middle;\n",
                            "    }\n",
                            "\n",
                            "    .dataframe tbody tr th {\n",
                            "        vertical-align: top;\n",
                            "    }\n",
                            "\n",
                            "    .dataframe thead th {\n",
                            "        text-align: right;\n",
                            "    }\n",
                            "</style>\n",
                            "<table border=\"1\" class=\"dataframe\">\n",
                            "  <thead>\n",
                            "    <tr style=\"text-align: right;\">\n",
                            "      <th></th>\n",
                            "      <th>ElmID</th>\n",
                            "      <th>_LokVegTyp</th>\n",
                            "      <th>geometry</th>\n",
                            "      <th>SBBTYPE</th>\n",
                            "      <th>Datum</th>\n",
                            "      <th>Opmerking</th>\n",
                            "      <th>SBBTYPE1</th>\n",
                            "      <th>SBBTYPE2</th>\n",
                            "      <th>SBBTYPE3</th>\n",
                            "      <th>Opp</th>\n",
                            "      <th>_LokVrtNar</th>\n",
                            "      <th>perc_0</th>\n",
                            "      <th>perc_1</th>\n",
                            "      <th>perc_2</th>\n",
                            "      <th>VegTypeInfo</th>\n",
                            "    </tr>\n",
                            "  </thead>\n",
                            "  <tbody>\n",
                            "    <tr>\n",
                            "      <th>0</th>\n",
                            "      <td>144</td>\n",
                            "      <td>C3a+F1b</td>\n",
                            "      <td>POLYGON ((225536.382 578550.118, 225536.613 57...</td>\n",
                            "      <td>08C-a+16-a</td>\n",
                            "      <td>None</td>\n",
                            "      <td>None</td>\n",
                            "      <td>8c-a</td>\n",
                            "      <td>16-a</td>\n",
                            "      <td>None</td>\n",
                            "      <td>1692.139818</td>\n",
                            "      <td>Lokale typologie is primair vertaald naar SBB</td>\n",
                            "      <td>50.0</td>\n",
                            "      <td>50.0</td>\n",
                            "      <td>0.0</td>\n",
                            "      <td>[(50.0%, SBB: ['8c-a'], VvN: []), (50.0%, SBB:...</td>\n",
                            "    </tr>\n",
                            "    <tr>\n",
                            "      <th>1</th>\n",
                            "      <td>143</td>\n",
                            "      <td>B3c+C2c</td>\n",
                            "      <td>POLYGON ((225518.346 578389.608, 225514.596 57...</td>\n",
                            "      <td>08-a+08C2c</td>\n",
                            "      <td>None</td>\n",
                            "      <td>None</td>\n",
                            "      <td>8-a</td>\n",
                            "      <td>8c2c</td>\n",
                            "      <td>None</td>\n",
                            "      <td>2974.448552</td>\n",
                            "      <td>Lokale typologie is primair vertaald naar SBB</td>\n",
                            "      <td>50.0</td>\n",
                            "      <td>50.0</td>\n",
                            "      <td>0.0</td>\n",
                            "      <td>[(50.0%, SBB: ['8-a'], VvN: []), (50.0%, SBB: ...</td>\n",
                            "    </tr>\n",
                            "    <tr>\n",
                            "      <th>2</th>\n",
                            "      <td>73</td>\n",
                            "      <td>F1b</td>\n",
                            "      <td>POLYGON ((225398.991 578372.192, 225399.792 57...</td>\n",
                            "      <td>16-a</td>\n",
                            "      <td>None</td>\n",
                            "      <td>None</td>\n",
                            "      <td>16-a</td>\n",
                            "      <td>None</td>\n",
                            "      <td>None</td>\n",
                            "      <td>4582.870987</td>\n",
                            "      <td>Lokale typologie is primair vertaald naar SBB</td>\n",
                            "      <td>100.0</td>\n",
                            "      <td>0.0</td>\n",
                            "      <td>0.0</td>\n",
                            "      <td>[(100.0%, SBB: ['16-a'], VvN: [])]</td>\n",
                            "    </tr>\n",
                            "    <tr>\n",
                            "      <th>3</th>\n",
                            "      <td>62</td>\n",
                            "      <td>H1a+A1</td>\n",
                            "      <td>POLYGON ((225338.120 578506.385, 225330.908 57...</td>\n",
                            "      <td>12B1d+50A</td>\n",
                            "      <td>None</td>\n",
                            "      <td>None</td>\n",
                            "      <td>12b1d</td>\n",
                            "      <td>50a</td>\n",
                            "      <td>None</td>\n",
                            "      <td>2843.780077</td>\n",
                            "      <td>Lokale typologie is primair vertaald naar SBB</td>\n",
                            "      <td>50.0</td>\n",
                            "      <td>50.0</td>\n",
                            "      <td>0.0</td>\n",
                            "      <td>[(50.0%, SBB: ['12b1d'], VvN: []), (50.0%, SBB...</td>\n",
                            "    </tr>\n",
                            "    <tr>\n",
                            "      <th>4</th>\n",
                            "      <td>111</td>\n",
                            "      <td>A1+B1</td>\n",
                            "      <td>POLYGON ((225731.271 578748.007, 225730.075 57...</td>\n",
                            "      <td>50A+08B3d</td>\n",
                            "      <td>None</td>\n",
                            "      <td>None</td>\n",
                            "      <td>50a</td>\n",
                            "      <td>8b3d</td>\n",
                            "      <td>None</td>\n",
                            "      <td>1911.539469</td>\n",
                            "      <td>Lokale typologie is primair vertaald naar SBB</td>\n",
                            "      <td>50.0</td>\n",
                            "      <td>50.0</td>\n",
                            "      <td>0.0</td>\n",
                            "      <td>[(50.0%, SBB: ['50a'], VvN: []), (50.0%, SBB: ...</td>\n",
                            "    </tr>\n",
                            "    <tr>\n",
                            "      <th>...</th>\n",
                            "      <td>...</td>\n",
                            "      <td>...</td>\n",
                            "      <td>...</td>\n",
                            "      <td>...</td>\n",
                            "      <td>...</td>\n",
                            "      <td>...</td>\n",
                            "      <td>...</td>\n",
                            "      <td>...</td>\n",
                            "      <td>...</td>\n",
                            "      <td>...</td>\n",
                            "      <td>...</td>\n",
                            "      <td>...</td>\n",
                            "      <td>...</td>\n",
                            "      <td>...</td>\n",
                            "      <td>...</td>\n",
                            "    </tr>\n",
                            "    <tr>\n",
                            "      <th>266</th>\n",
                            "      <td>193</td>\n",
                            "      <td>H1a</td>\n",
                            "      <td>POLYGON ((225335.414 578905.115, 225334.448 57...</td>\n",
                            "      <td>12B1d</td>\n",
                            "      <td>None</td>\n",
                            "      <td>None</td>\n",
                            "      <td>12b1d</td>\n",
                            "      <td>None</td>\n",
                            "      <td>None</td>\n",
                            "      <td>442.032701</td>\n",
                            "      <td>Lokale typologie is primair vertaald naar SBB</td>\n",
                            "      <td>100.0</td>\n",
                            "      <td>0.0</td>\n",
                            "      <td>0.0</td>\n",
                            "      <td>[(100.0%, SBB: ['12b1d'], VvN: [])]</td>\n",
                            "    </tr>\n",
                            "    <tr>\n",
                            "      <th>267</th>\n",
                            "      <td>220</td>\n",
                            "      <td>D1c</td>\n",
                            "      <td>POLYGON ((225121.987 578757.930, 225125.003 57...</td>\n",
                            "      <td>08-k</td>\n",
                            "      <td>None</td>\n",
                            "      <td>None</td>\n",
                            "      <td>8-k</td>\n",
                            "      <td>None</td>\n",
                            "      <td>None</td>\n",
                            "      <td>361.533352</td>\n",
                            "      <td>Lokale typologie is primair vertaald naar SBB</td>\n",
                            "      <td>100.0</td>\n",
                            "      <td>0.0</td>\n",
                            "      <td>0.0</td>\n",
                            "      <td>[(100.0%, SBB: ['8-k'], VvN: [])]</td>\n",
                            "    </tr>\n",
                            "    <tr>\n",
                            "      <th>268</th>\n",
                            "      <td>58</td>\n",
                            "      <td>B6d+K3a</td>\n",
                            "      <td>POLYGON ((225297.768 578230.760, 225292.476 57...</td>\n",
                            "      <td>08B3a+08C-f</td>\n",
                            "      <td>None</td>\n",
                            "      <td>None</td>\n",
                            "      <td>8b3a</td>\n",
                            "      <td>8c-f</td>\n",
                            "      <td>None</td>\n",
                            "      <td>722.439797</td>\n",
                            "      <td>Lokale typologie is primair vertaald naar SBB</td>\n",
                            "      <td>50.0</td>\n",
                            "      <td>50.0</td>\n",
                            "      <td>0.0</td>\n",
                            "      <td>[(50.0%, SBB: ['8b3a'], VvN: []), (50.0%, SBB:...</td>\n",
                            "    </tr>\n",
                            "    <tr>\n",
                            "      <th>269</th>\n",
                            "      <td>249</td>\n",
                            "      <td>J2a+B6c</td>\n",
                            "      <td>POLYGON ((224515.275 578618.372, 224510.014 57...</td>\n",
                            "      <td>39A1c+08B3a</td>\n",
                            "      <td>None</td>\n",
                            "      <td>None</td>\n",
                            "      <td>39a1c</td>\n",
                            "      <td>8b3a</td>\n",
                            "      <td>None</td>\n",
                            "      <td>713.229564</td>\n",
                            "      <td>Lokale typologie is primair vertaald naar SBB</td>\n",
                            "      <td>50.0</td>\n",
                            "      <td>50.0</td>\n",
                            "      <td>0.0</td>\n",
                            "      <td>[(50.0%, SBB: ['39a1c'], VvN: []), (50.0%, SBB...</td>\n",
                            "    </tr>\n",
                            "    <tr>\n",
                            "      <th>270</th>\n",
                            "      <td>279</td>\n",
                            "      <td>F2a</td>\n",
                            "      <td>POLYGON ((224256.535 578360.968, 224254.155 57...</td>\n",
                            "      <td>16-f</td>\n",
                            "      <td>None</td>\n",
                            "      <td>None</td>\n",
                            "      <td>16-f</td>\n",
                            "      <td>None</td>\n",
                            "      <td>None</td>\n",
                            "      <td>224.869968</td>\n",
                            "      <td>Lokale typologie is primair vertaald naar SBB</td>\n",
                            "      <td>100.0</td>\n",
                            "      <td>0.0</td>\n",
                            "      <td>0.0</td>\n",
                            "      <td>[(100.0%, SBB: ['16-f'], VvN: [])]</td>\n",
                            "    </tr>\n",
                            "  </tbody>\n",
                            "</table>\n",
                            "<p>271 rows × 15 columns</p>\n",
                            "</div>"
                        ],
                        "text/plain": [
                            "     ElmID _LokVegTyp                                           geometry  \\\n",
                            "0      144    C3a+F1b  POLYGON ((225536.382 578550.118, 225536.613 57...   \n",
                            "1      143    B3c+C2c  POLYGON ((225518.346 578389.608, 225514.596 57...   \n",
                            "2       73        F1b  POLYGON ((225398.991 578372.192, 225399.792 57...   \n",
                            "3       62     H1a+A1  POLYGON ((225338.120 578506.385, 225330.908 57...   \n",
                            "4      111      A1+B1  POLYGON ((225731.271 578748.007, 225730.075 57...   \n",
                            "..     ...        ...                                                ...   \n",
                            "266    193        H1a  POLYGON ((225335.414 578905.115, 225334.448 57...   \n",
                            "267    220        D1c  POLYGON ((225121.987 578757.930, 225125.003 57...   \n",
                            "268     58    B6d+K3a  POLYGON ((225297.768 578230.760, 225292.476 57...   \n",
                            "269    249    J2a+B6c  POLYGON ((224515.275 578618.372, 224510.014 57...   \n",
                            "270    279        F2a  POLYGON ((224256.535 578360.968, 224254.155 57...   \n",
                            "\n",
                            "         SBBTYPE Datum Opmerking SBBTYPE1 SBBTYPE2 SBBTYPE3          Opp  \\\n",
                            "0     08C-a+16-a  None      None     8c-a     16-a     None  1692.139818   \n",
                            "1     08-a+08C2c  None      None      8-a     8c2c     None  2974.448552   \n",
                            "2           16-a  None      None     16-a     None     None  4582.870987   \n",
                            "3      12B1d+50A  None      None    12b1d      50a     None  2843.780077   \n",
                            "4      50A+08B3d  None      None      50a     8b3d     None  1911.539469   \n",
                            "..           ...   ...       ...      ...      ...      ...          ...   \n",
                            "266        12B1d  None      None    12b1d     None     None   442.032701   \n",
                            "267         08-k  None      None      8-k     None     None   361.533352   \n",
                            "268  08B3a+08C-f  None      None     8b3a     8c-f     None   722.439797   \n",
                            "269  39A1c+08B3a  None      None    39a1c     8b3a     None   713.229564   \n",
                            "270         16-f  None      None     16-f     None     None   224.869968   \n",
                            "\n",
                            "                                        _LokVrtNar  perc_0  perc_1  perc_2  \\\n",
                            "0    Lokale typologie is primair vertaald naar SBB    50.0    50.0     0.0   \n",
                            "1    Lokale typologie is primair vertaald naar SBB    50.0    50.0     0.0   \n",
                            "2    Lokale typologie is primair vertaald naar SBB   100.0     0.0     0.0   \n",
                            "3    Lokale typologie is primair vertaald naar SBB    50.0    50.0     0.0   \n",
                            "4    Lokale typologie is primair vertaald naar SBB    50.0    50.0     0.0   \n",
                            "..                                             ...     ...     ...     ...   \n",
                            "266  Lokale typologie is primair vertaald naar SBB   100.0     0.0     0.0   \n",
                            "267  Lokale typologie is primair vertaald naar SBB   100.0     0.0     0.0   \n",
                            "268  Lokale typologie is primair vertaald naar SBB    50.0    50.0     0.0   \n",
                            "269  Lokale typologie is primair vertaald naar SBB    50.0    50.0     0.0   \n",
                            "270  Lokale typologie is primair vertaald naar SBB   100.0     0.0     0.0   \n",
                            "\n",
                            "                                           VegTypeInfo  \n",
                            "0    [(50.0%, SBB: ['8c-a'], VvN: []), (50.0%, SBB:...  \n",
                            "1    [(50.0%, SBB: ['8-a'], VvN: []), (50.0%, SBB: ...  \n",
                            "2                   [(100.0%, SBB: ['16-a'], VvN: [])]  \n",
                            "3    [(50.0%, SBB: ['12b1d'], VvN: []), (50.0%, SBB...  \n",
                            "4    [(50.0%, SBB: ['50a'], VvN: []), (50.0%, SBB: ...  \n",
                            "..                                                 ...  \n",
                            "266                [(100.0%, SBB: ['12b1d'], VvN: [])]  \n",
                            "267                  [(100.0%, SBB: ['8-k'], VvN: [])]  \n",
                            "268  [(50.0%, SBB: ['8b3a'], VvN: []), (50.0%, SBB:...  \n",
                            "269  [(50.0%, SBB: ['39a1c'], VvN: []), (50.0%, SBB...  \n",
                            "270                 [(100.0%, SBB: ['16-f'], VvN: [])]  \n",
                            "\n",
                            "[271 rows x 15 columns]"
                        ]
                    },
                    "execution_count": 4,
                    "metadata": {},
                    "output_type": "execute_result"
                }
            ],
            "source": [
                "shp_path = Path(\"../testing/vegetatiekarteringen/GR/SGL Hunzedal en Leekstermeer2021/2021 Vegetatiekartering Leekstermeer2021/GIS bestanden Onlanden 2021/Vegetatiekartering_Leekstermeer2021.shp\")\n",
                "Kartering.from_shapefile(shp_path, vegtype_col_format=\"single\", sbb_of_vvn=\"SBB\", ElmID_col=\"elmid\", SBB_col=[\"SBBTYPE\"], VvN_col=[], split_char=\"+\", lok_vegtypen_col=[\"Vegtype\"]).gdf"
            ]
        },
        {
            "cell_type": "markdown",
            "metadata": {},
            "source": [
                "## Inladen en omzetten van een access kartering\n",
                "\n",
                "- Voor ieder vlak in de kartering wordt de (complexe) SBB code opgezocht.\n",
                "- Deze SBB-codes worden opgeschoond en gevalideerd.\n",
                "- De SBB codes worden toegevoegd aan de dataframe van de kartering als VegTypeInfo instance.\n",
                "  \n",
                "De resulterende dataframe heeft voor elke regel in KarteringVegetatietype.csv een VegTypeInfo instance in de rij van de betreffende shape."
            ]
        },
        {
            "cell_type": "code",
            "execution_count": 5,
            "metadata": {},
            "outputs": [
                {
                    "name": "stdout",
                    "output_type": "stream",
                    "text": [
                        "mdbtools v1.0.0\n"
                    ]
                },
                {
                    "data": {
                        "text/html": [
                            "<div>\n",
                            "<style scoped>\n",
                            "    .dataframe tbody tr th:only-of-type {\n",
                            "        vertical-align: middle;\n",
                            "    }\n",
                            "\n",
                            "    .dataframe tbody tr th {\n",
                            "        vertical-align: top;\n",
                            "    }\n",
                            "\n",
                            "    .dataframe thead th {\n",
                            "        text-align: right;\n",
                            "    }\n",
                            "</style>\n",
                            "<table border=\"1\" class=\"dataframe\">\n",
                            "  <thead>\n",
                            "    <tr style=\"text-align: right;\">\n",
                            "      <th></th>\n",
                            "      <th>ElmID</th>\n",
                            "      <th>geometry</th>\n",
                            "      <th>Opmerking</th>\n",
                            "      <th>Datum</th>\n",
                            "      <th>Opp</th>\n",
                            "      <th>_LokVrtNar</th>\n",
                            "      <th>intern_id</th>\n",
                            "      <th>Locatie_x</th>\n",
                            "      <th>VegTypeInfo</th>\n",
                            "      <th>Locatie_y</th>\n",
                            "      <th>_LokVegTyp</th>\n",
                            "    </tr>\n",
                            "  </thead>\n",
                            "  <tbody>\n",
                            "    <tr>\n",
                            "      <th>0</th>\n",
                            "      <td>28049</td>\n",
                            "      <td>POLYGON ((189433.818 538314.302, 189439.215 53...</td>\n",
                            "      <td>None</td>\n",
                            "      <td>None</td>\n",
                            "      <td>3761.736281</td>\n",
                            "      <td>Lokale typologie is primair vertaald naar SBB</td>\n",
                            "      <td>1809</td>\n",
                            "      <td>1809</td>\n",
                            "      <td>[(90%, SBB: ['9a2a'], VvN: []), (10%, SBB: ['9...</td>\n",
                            "      <td>1809</td>\n",
                            "      <td>09a2-6 (90%), 09a2-1 (10%)</td>\n",
                            "    </tr>\n",
                            "    <tr>\n",
                            "      <th>1</th>\n",
                            "      <td>15034</td>\n",
                            "      <td>POLYGON ((190568.500 539171.122, 190538.023 53...</td>\n",
                            "      <td>None</td>\n",
                            "      <td>None</td>\n",
                            "      <td>10442.658431</td>\n",
                            "      <td>Lokale typologie is primair vertaald naar SBB</td>\n",
                            "      <td>815</td>\n",
                            "      <td>815</td>\n",
                            "      <td>[(100%, SBB: ['50a'], VvN: [])]</td>\n",
                            "      <td>815</td>\n",
                            "      <td>50a-1 (100%)</td>\n",
                            "    </tr>\n",
                            "    <tr>\n",
                            "      <th>2</th>\n",
                            "      <td>13503</td>\n",
                            "      <td>POLYGON ((189538.104 539409.332, 189532.399 53...</td>\n",
                            "      <td>None</td>\n",
                            "      <td>None</td>\n",
                            "      <td>2174.098680</td>\n",
                            "      <td>Lokale typologie is primair vertaald naar SBB</td>\n",
                            "      <td>650</td>\n",
                            "      <td>650</td>\n",
                            "      <td>[(90%, SBB: ['9a2a'], VvN: []), (10%, SBB: ['9...</td>\n",
                            "      <td>650</td>\n",
                            "      <td>09a2-1 (90%), 09a2-6 (10%)</td>\n",
                            "    </tr>\n",
                            "  </tbody>\n",
                            "</table>\n",
                            "</div>"
                        ],
                        "text/plain": [
                            "   ElmID                                           geometry Opmerking Datum  \\\n",
                            "0  28049  POLYGON ((189433.818 538314.302, 189439.215 53...      None  None   \n",
                            "1  15034  POLYGON ((190568.500 539171.122, 190538.023 53...      None  None   \n",
                            "2  13503  POLYGON ((189538.104 539409.332, 189532.399 53...      None  None   \n",
                            "\n",
                            "            Opp                                     _LokVrtNar  intern_id  \\\n",
                            "0   3761.736281  Lokale typologie is primair vertaald naar SBB       1809   \n",
                            "1  10442.658431  Lokale typologie is primair vertaald naar SBB        815   \n",
                            "2   2174.098680  Lokale typologie is primair vertaald naar SBB        650   \n",
                            "\n",
                            "   Locatie_x                                        VegTypeInfo  Locatie_y  \\\n",
                            "0       1809  [(90%, SBB: ['9a2a'], VvN: []), (10%, SBB: ['9...       1809   \n",
                            "1        815                    [(100%, SBB: ['50a'], VvN: [])]        815   \n",
                            "2        650  [(90%, SBB: ['9a2a'], VvN: []), (10%, SBB: ['9...        650   \n",
                            "\n",
                            "                   _LokVegTyp  \n",
                            "0  09a2-6 (90%), 09a2-1 (10%)  \n",
                            "1                50a-1 (100%)  \n",
                            "2  09a2-1 (90%), 09a2-6 (10%)  "
                        ]
                    },
                    "execution_count": 5,
                    "metadata": {},
                    "output_type": "execute_result"
                }
            ],
            "source": [
                "shape_path = Path(\"../data/notebook_data/Rottige_Meenthe_Brandemeer_2013/vlakken.shp\")\n",
                "csvs_path = Path(\"../data/notebook_data/Rottige_Meenthe_Brandemeer_2013/864_RottigeMeenthe2013.mdb\")\n",
                "shape_elm_id_column = \"ElmID\"\n",
                "\n",
                "access_kartering = Kartering.from_access_db(shape_path, shape_elm_id_column, csvs_path)\n",
                "\n",
                "access_kartering.gdf.head(3)\n"
            ]
        },
        {
            "cell_type": "markdown",
            "metadata": {},
            "source": [
                "### Inladen bronnen"
            ]
        },
        {
            "cell_type": "code",
            "execution_count": 6,
            "metadata": {},
            "outputs": [],
            "source": [
                "mask = access_kartering.get_geometry_mask()\n",
                "fgr = FGR(Path(\"../data/bronbestanden/FGR.json\"))\n",
                "bodemkaart = Bodemkaart(Path(\"../testing/bronbestanden/bodemkaart.gpkg\"), mask=mask)\n",
                "lbk = LBK(Path(\"../testing/bronbestanden/lbk.shp\"), mask=mask)"
            ]
        },
        {
            "cell_type": "markdown",
            "metadata": {},
            "source": [
                "#### Opzoeken en toevoegen VvN aan kartering"
            ]
        },
        {
            "cell_type": "code",
            "execution_count": 7,
            "metadata": {},
            "outputs": [
                {
                    "data": {
                        "text/plain": [
                            "[VegTypeInfo(percentage=80, SBB=[SBB(klasse='9', verbond='b', associatie=None, subassociatie=None, derivaatgemeenschap=None, rompgemeenschap='a')], VvN=[]),\n",
                            " VegTypeInfo(percentage=10, SBB=[SBB(klasse='9', verbond=None, associatie=None, subassociatie=None, derivaatgemeenschap=None, rompgemeenschap='g')], VvN=[VvN(klasse='9', orde=None, verbond=None, associatie=None, subassociatie=None, derivaatgemeenschap=None, rompgemeenschap='3')]),\n",
                            " VegTypeInfo(percentage=10, SBB=[SBB(klasse='9', verbond='a', associatie='2', subassociatie='b', derivaatgemeenschap=None, rompgemeenschap=None)], VvN=[VvN(klasse='9', orde='a', verbond='a', associatie='2', subassociatie='b', derivaatgemeenschap=None, rompgemeenschap=None)])]"
                        ]
                    },
                    "execution_count": 7,
                    "metadata": {},
                    "output_type": "execute_result"
                }
            ],
            "source": [
                "access_kartering.apply_wwl(wwl)\n",
                "# Voorbeeld van 3 vegtypeinfos in 1 geometry\n",
                "access_kartering.gdf[\"VegTypeInfo\"].iloc[3]"
            ]
        },
        {
            "cell_type": "markdown",
            "metadata": {},
            "source": [
                "#### Vinden van de mogelijke habitattypen voor een VegTypeInfo\n",
                "\n",
                "Voor elke VegTypeInfo worden de mogelijke habitattypen opgezocht in de definitietabel. Deze worden vervolgens in een HabitatVoorstel gezet, samen met de code waarop de match is gemaakt, de regel in de definitietabel die is gebruikt en het niveau van de match."
            ]
        },
        {
            "cell_type": "code",
            "execution_count": 8,
            "metadata": {},
            "outputs": [
                {
                    "data": {
                        "text/plain": [
                            "0       [[HabitatVoorstel(onderbouwend_vegtype=VvN(kla...\n",
                            "1       [[HabitatVoorstel(onderbouwend_vegtype=SBB(kla...\n",
                            "2       [[HabitatVoorstel(onderbouwend_vegtype=VvN(kla...\n",
                            "3       [[HabitatVoorstel(onderbouwend_vegtype=SBB(kla...\n",
                            "4       [[HabitatVoorstel(onderbouwend_vegtype=VvN(kla...\n",
                            "                              ...                        \n",
                            "1944    [[HabitatVoorstel(onderbouwend_vegtype=VvN(kla...\n",
                            "1945    [[HabitatVoorstel(onderbouwend_vegtype=VvN(kla...\n",
                            "1946    [[HabitatVoorstel(onderbouwend_vegtype=VvN(kla...\n",
                            "1947    [[HabitatVoorstel(onderbouwend_vegtype=VvN(kla...\n",
                            "1948    [[HabitatVoorstel(onderbouwend_vegtype=VvN(kla...\n",
                            "Name: HabitatVoorstel, Length: 1949, dtype: object"
                        ]
                    },
                    "execution_count": 8,
                    "metadata": {},
                    "output_type": "execute_result"
                }
            ],
            "source": [
                "access_kartering.apply_deftabel(dt)\n",
                "access_kartering.gdf[\"HabitatVoorstel\"]"
            ]
        },
        {
            "cell_type": "code",
            "execution_count": 9,
            "metadata": {},
            "outputs": [
                {
                    "data": {
                        "text/plain": [
                            "[[HabitatVoorstel(onderbouwend_vegtype=VvN(klasse='39', orde='a', verbond='a', associatie='1', subassociatie='a', derivaatgemeenschap=None, rompgemeenschap=None), vegtype_in_dt=VvN(klasse='39', orde='a', verbond='a', associatie='1', subassociatie=None, derivaatgemeenschap=None, rompgemeenschap=None), habtype='H2180_B', kwaliteit=<Kwaliteit.GOED: 'Goed'>, idx_in_dt=171, mits=FGRCriterium(fgrtype=<FGRType.DU: 'Duinen'>), mozaiek=GeenMozaiekregel(mozaiek_threshold=95, mozaiek_als_rand_threshold=50), match_level=6, mozaiek_dict=None)],\n",
                            " [HabitatVoorstel(onderbouwend_vegtype=VvN(klasse='40', orde='a', verbond='a', associatie='2', subassociatie='a', derivaatgemeenschap=None, rompgemeenschap=None), vegtype_in_dt=VvN(klasse='40', orde='a', verbond='a', associatie='2', subassociatie=None, derivaatgemeenschap=None, rompgemeenschap=None), habtype='H2180_B', kwaliteit=<Kwaliteit.GOED: 'Goed'>, idx_in_dt=178, mits=FGRCriterium(fgrtype=<FGRType.DU: 'Duinen'>), mozaiek=GeenMozaiekregel(mozaiek_threshold=95, mozaiek_als_rand_threshold=50), match_level=6, mozaiek_dict=None),\n",
                            "  HabitatVoorstel(onderbouwend_vegtype=VvN(klasse='40', orde='a', verbond='a', associatie='2', subassociatie='a', derivaatgemeenschap=None, rompgemeenschap=None), vegtype_in_dt=VvN(klasse='40', orde='a', verbond='a', associatie='2', subassociatie=None, derivaatgemeenschap=None, rompgemeenschap=None), habtype='H91D0', kwaliteit=<Kwaliteit.GOED: 'Goed'>, idx_in_dt=650, mits=EnCriteria(sub_criteria=[NietCriterium(sub_criterium=FGRCriterium(fgrtype=<FGRType.DU: 'Duinen'>)), NietGeautomatiseerdCriterium(toelichting='buiten H7110_A en H7120')]), mozaiek=GeenMozaiekregel(mozaiek_threshold=95, mozaiek_als_rand_threshold=50), match_level=6, mozaiek_dict=None)]]"
                        ]
                    },
                    "execution_count": 9,
                    "metadata": {},
                    "output_type": "execute_result"
                }
            ],
            "source": [
                "# Voorbeeld met voor 2 VegTypeInfo's waarbij de eerste twee mogelijke voorstellen heeft\n",
                "access_kartering.gdf[\"HabitatVoorstel\"][45]"
            ]
        },
        {
            "cell_type": "markdown",
            "metadata": {},
            "source": [
                "### De mitsen en mozaiekregels checken en de HabitatVoorstellen omzetten naar HabitatKeuzes"
            ]
        },
        {
            "cell_type": "code",
            "execution_count": 10,
            "metadata": {},
            "outputs": [
                {
                    "name": "stdout",
                    "output_type": "stream",
                    "text": [
                        "Iteratie 0: van 3499 naar 168 keuzes nog te bepalen\n",
                        "Iteratie 1: van 168 naar 58 keuzes nog te bepalen\n",
                        "Iteratie 2: van 58 naar 52 keuzes nog te bepalen\n",
                        "Iteratie 3: van 52 naar 52 keuzes nog te bepalen\n"
                    ]
                }
            ],
            "source": [
                "access_kartering.bepaal_habitatkeuzes(fgr, bodemkaart, lbk)\n"
            ]
        },
        {
            "cell_type": "code",
            "execution_count": 11,
            "metadata": {},
            "outputs": [
                {
                    "data": {
                        "text/html": [
                            "<div>\n",
                            "<style scoped>\n",
                            "    .dataframe tbody tr th:only-of-type {\n",
                            "        vertical-align: middle;\n",
                            "    }\n",
                            "\n",
                            "    .dataframe tbody tr th {\n",
                            "        vertical-align: top;\n",
                            "    }\n",
                            "\n",
                            "    .dataframe thead th {\n",
                            "        text-align: right;\n",
                            "    }\n",
                            "</style>\n",
                            "<table border=\"1\" class=\"dataframe\">\n",
                            "  <thead>\n",
                            "    <tr style=\"text-align: right;\">\n",
                            "      <th></th>\n",
                            "      <th>ElmID</th>\n",
                            "      <th>geometry</th>\n",
                            "      <th>Opmerking</th>\n",
                            "      <th>Datum</th>\n",
                            "      <th>Opp</th>\n",
                            "      <th>_LokVrtNar</th>\n",
                            "      <th>intern_id</th>\n",
                            "      <th>Locatie_x</th>\n",
                            "      <th>VegTypeInfo</th>\n",
                            "      <th>Locatie_y</th>\n",
                            "      <th>_LokVegTyp</th>\n",
                            "      <th>HabitatVoorstel</th>\n",
                            "      <th>HabitatKeuze</th>\n",
                            "      <th>finished_on_iteration</th>\n",
                            "    </tr>\n",
                            "  </thead>\n",
                            "  <tbody>\n",
                            "    <tr>\n",
                            "      <th>0</th>\n",
                            "      <td>28049</td>\n",
                            "      <td>POLYGON ((189433.818 538314.302, 189439.215 53...</td>\n",
                            "      <td>None</td>\n",
                            "      <td>None</td>\n",
                            "      <td>3761.736281</td>\n",
                            "      <td>Lokale typologie is primair vertaald naar SBB</td>\n",
                            "      <td>1809</td>\n",
                            "      <td>1809</td>\n",
                            "      <td>[(90%, SBB: ['9a2a'], VvN: ['9aa2a']), (10%, S...</td>\n",
                            "      <td>1809</td>\n",
                            "      <td>09a2-6 (90%), 09a2-1 (10%)</td>\n",
                            "      <td>[[HabitatVoorstel(onderbouwend_vegtype=VvN(kla...</td>\n",
                            "      <td>[HabitatKeuze(status=&lt;KeuzeStatus.DUIDELIJK: 1...</td>\n",
                            "      <td>1</td>\n",
                            "    </tr>\n",
                            "    <tr>\n",
                            "      <th>1</th>\n",
                            "      <td>15034</td>\n",
                            "      <td>POLYGON ((190568.500 539171.122, 190538.023 53...</td>\n",
                            "      <td>None</td>\n",
                            "      <td>None</td>\n",
                            "      <td>10442.658431</td>\n",
                            "      <td>Lokale typologie is primair vertaald naar SBB</td>\n",
                            "      <td>815</td>\n",
                            "      <td>815</td>\n",
                            "      <td>[(100%, SBB: ['50a'], VvN: [])]</td>\n",
                            "      <td>815</td>\n",
                            "      <td>50a-1 (100%)</td>\n",
                            "      <td>[[HabitatVoorstel(onderbouwend_vegtype=SBB(kla...</td>\n",
                            "      <td>[HabitatKeuze(status=&lt;KeuzeStatus.NIET_GEAUTOM...</td>\n",
                            "      <td>1</td>\n",
                            "    </tr>\n",
                            "    <tr>\n",
                            "      <th>2</th>\n",
                            "      <td>13503</td>\n",
                            "      <td>POLYGON ((189538.104 539409.332, 189532.399 53...</td>\n",
                            "      <td>None</td>\n",
                            "      <td>None</td>\n",
                            "      <td>2174.098680</td>\n",
                            "      <td>Lokale typologie is primair vertaald naar SBB</td>\n",
                            "      <td>650</td>\n",
                            "      <td>650</td>\n",
                            "      <td>[(90%, SBB: ['9a2a'], VvN: ['9aa2a']), (10%, S...</td>\n",
                            "      <td>650</td>\n",
                            "      <td>09a2-1 (90%), 09a2-6 (10%)</td>\n",
                            "      <td>[[HabitatVoorstel(onderbouwend_vegtype=VvN(kla...</td>\n",
                            "      <td>[HabitatKeuze(status=&lt;KeuzeStatus.DUIDELIJK: 1...</td>\n",
                            "      <td>1</td>\n",
                            "    </tr>\n",
                            "    <tr>\n",
                            "      <th>3</th>\n",
                            "      <td>15075</td>\n",
                            "      <td>POLYGON ((190801.313 539561.740, 190819.617 53...</td>\n",
                            "      <td>None</td>\n",
                            "      <td>None</td>\n",
                            "      <td>18878.050297</td>\n",
                            "      <td>Lokale typologie is primair vertaald naar SBB</td>\n",
                            "      <td>2515</td>\n",
                            "      <td>2515</td>\n",
                            "      <td>[(80%, SBB: ['9b-a'], VvN: []), (10%, SBB: ['9...</td>\n",
                            "      <td>2515</td>\n",
                            "      <td>09b-4 (80%), 09-13 (10%), 09a2-2 (10%)</td>\n",
                            "      <td>[[HabitatVoorstel(onderbouwend_vegtype=SBB(kla...</td>\n",
                            "      <td>[HabitatKeuze(status=&lt;KeuzeStatus.GEEN_KLOPPEN...</td>\n",
                            "      <td>1</td>\n",
                            "    </tr>\n",
                            "    <tr>\n",
                            "      <th>4</th>\n",
                            "      <td>20502</td>\n",
                            "      <td>POLYGON ((190497.231 537724.945, 190505.062 53...</td>\n",
                            "      <td>None</td>\n",
                            "      <td>None</td>\n",
                            "      <td>4950.611630</td>\n",
                            "      <td>Lokale typologie is primair vertaald naar SBB</td>\n",
                            "      <td>1316</td>\n",
                            "      <td>1316</td>\n",
                            "      <td>[(58%, SBB: ['8b3c'], VvN: ['8bb4d']), (29%, S...</td>\n",
                            "      <td>1316</td>\n",
                            "      <td>08b3-3 (58%), 08c-6 (29%), 09-11 (10%), 05d5-1...</td>\n",
                            "      <td>[[HabitatVoorstel(onderbouwend_vegtype=VvN(kla...</td>\n",
                            "      <td>[HabitatKeuze(status=&lt;KeuzeStatus.VEGTYPEN_NIE...</td>\n",
                            "      <td>1</td>\n",
                            "    </tr>\n",
                            "  </tbody>\n",
                            "</table>\n",
                            "</div>"
                        ],
                        "text/plain": [
                            "   ElmID                                           geometry Opmerking Datum  \\\n",
                            "0  28049  POLYGON ((189433.818 538314.302, 189439.215 53...      None  None   \n",
                            "1  15034  POLYGON ((190568.500 539171.122, 190538.023 53...      None  None   \n",
                            "2  13503  POLYGON ((189538.104 539409.332, 189532.399 53...      None  None   \n",
                            "3  15075  POLYGON ((190801.313 539561.740, 190819.617 53...      None  None   \n",
                            "4  20502  POLYGON ((190497.231 537724.945, 190505.062 53...      None  None   \n",
                            "\n",
                            "            Opp                                     _LokVrtNar  intern_id  \\\n",
                            "0   3761.736281  Lokale typologie is primair vertaald naar SBB       1809   \n",
                            "1  10442.658431  Lokale typologie is primair vertaald naar SBB        815   \n",
                            "2   2174.098680  Lokale typologie is primair vertaald naar SBB        650   \n",
                            "3  18878.050297  Lokale typologie is primair vertaald naar SBB       2515   \n",
                            "4   4950.611630  Lokale typologie is primair vertaald naar SBB       1316   \n",
                            "\n",
                            "   Locatie_x                                        VegTypeInfo  Locatie_y  \\\n",
                            "0       1809  [(90%, SBB: ['9a2a'], VvN: ['9aa2a']), (10%, S...       1809   \n",
                            "1        815                    [(100%, SBB: ['50a'], VvN: [])]        815   \n",
                            "2        650  [(90%, SBB: ['9a2a'], VvN: ['9aa2a']), (10%, S...        650   \n",
                            "3       2515  [(80%, SBB: ['9b-a'], VvN: []), (10%, SBB: ['9...       2515   \n",
                            "4       1316  [(58%, SBB: ['8b3c'], VvN: ['8bb4d']), (29%, S...       1316   \n",
                            "\n",
                            "                                          _LokVegTyp  \\\n",
                            "0                         09a2-6 (90%), 09a2-1 (10%)   \n",
                            "1                                       50a-1 (100%)   \n",
                            "2                         09a2-1 (90%), 09a2-6 (10%)   \n",
                            "3             09b-4 (80%), 09-13 (10%), 09a2-2 (10%)   \n",
                            "4  08b3-3 (58%), 08c-6 (29%), 09-11 (10%), 05d5-1...   \n",
                            "\n",
                            "                                     HabitatVoorstel  \\\n",
                            "0  [[HabitatVoorstel(onderbouwend_vegtype=VvN(kla...   \n",
                            "1  [[HabitatVoorstel(onderbouwend_vegtype=SBB(kla...   \n",
                            "2  [[HabitatVoorstel(onderbouwend_vegtype=VvN(kla...   \n",
                            "3  [[HabitatVoorstel(onderbouwend_vegtype=SBB(kla...   \n",
                            "4  [[HabitatVoorstel(onderbouwend_vegtype=VvN(kla...   \n",
                            "\n",
                            "                                        HabitatKeuze  finished_on_iteration  \n",
                            "0  [HabitatKeuze(status=<KeuzeStatus.DUIDELIJK: 1...                      1  \n",
                            "1  [HabitatKeuze(status=<KeuzeStatus.NIET_GEAUTOM...                      1  \n",
                            "2  [HabitatKeuze(status=<KeuzeStatus.DUIDELIJK: 1...                      1  \n",
                            "3  [HabitatKeuze(status=<KeuzeStatus.GEEN_KLOPPEN...                      1  \n",
                            "4  [HabitatKeuze(status=<KeuzeStatus.VEGTYPEN_NIE...                      1  "
                        ]
                    },
                    "execution_count": 11,
                    "metadata": {},
                    "output_type": "execute_result"
                }
            ],
            "source": [
                "access_kartering.gdf.head()"
            ]
        },
        {
            "cell_type": "code",
            "execution_count": 18,
            "metadata": {},
            "outputs": [
                {
                    "data": {
                        "text/plain": [
                            "<AxesSubplot:>"
                        ]
                    },
                    "execution_count": 18,
                    "metadata": {},
                    "output_type": "execute_result"
                },
                {
                    "data": {
                        "image/png": "[encoded data removed]",
                        "text/plain": [
                            "<Figure size 640x480 with 1 Axes>"
                        ]
                    },
                    "metadata": {},
                    "output_type": "display_data"
                }
            ],
            "source": [
                "access_kartering.gdf.buffer(250).plot()"
            ]
        },
        {
            "cell_type": "code",
            "execution_count": 17,
            "metadata": {},
            "outputs": [
                {
                    "ename": "AttributeError",
                    "evalue": "'GeoSeries' object has no attribute 'columns'",
                    "output_type": "error",
                    "traceback": [
                        "\u001b[0;31m---------------------------------------------------------------------------\u001b[0m",
                        "\u001b[0;31mAttributeError\u001b[0m                            Traceback (most recent call last)",
                        "\u001b[0;32m/tmp/ipykernel_285853/4154093578.py\u001b[0m in \u001b[0;36m<module>\u001b[0;34m\u001b[0m\n\u001b[1;32m      1\u001b[0m \u001b[0;32mfrom\u001b[0m \u001b[0mveg2hab\u001b[0m\u001b[0;34m.\u001b[0m\u001b[0mfunctionele_samenhang\u001b[0m \u001b[0;32mimport\u001b[0m \u001b[0m_extract_elmid_perc_habtype\u001b[0m\u001b[0;34m,\u001b[0m \u001b[0m_cluster_vlakken\u001b[0m\u001b[0;34m\u001b[0m\u001b[0;34m\u001b[0m\u001b[0m\n\u001b[0;32m----> 2\u001b[0;31m \u001b[0ma\u001b[0m \u001b[0;34m=\u001b[0m \u001b[0m_cluster_vlakken\u001b[0m\u001b[0;34m(\u001b[0m\u001b[0maccess_kartering\u001b[0m\u001b[0;34m.\u001b[0m\u001b[0mgdf\u001b[0m\u001b[0;34m.\u001b[0m\u001b[0mbuffer\u001b[0m\u001b[0;34m(\u001b[0m\u001b[0;36m150\u001b[0m\u001b[0;34m)\u001b[0m\u001b[0;34m)\u001b[0m\u001b[0;34m\u001b[0m\u001b[0;34m\u001b[0m\u001b[0m\n\u001b[0m",
                        "\u001b[0;32m~/git/veg2hab/veg2hab/functionele_samenhang.py\u001b[0m in \u001b[0;36m_cluster_vlakken\u001b[0;34m(gdf)\u001b[0m\n\u001b[1;32m     89\u001b[0m     \"\"\"\n\u001b[1;32m     90\u001b[0m     assert (\n\u001b[0;32m---> 91\u001b[0;31m         \u001b[0;34m\"VegTypeInfo\"\u001b[0m \u001b[0;32min\u001b[0m \u001b[0mgdf\u001b[0m\u001b[0;34m.\u001b[0m\u001b[0mcolumns\u001b[0m\u001b[0;34m\u001b[0m\u001b[0;34m\u001b[0m\u001b[0m\n\u001b[0m\u001b[1;32m     92\u001b[0m     ), \"VegTypeInfo moet een kolom zijn in de gegeven GeoDataFrame\"\n\u001b[1;32m     93\u001b[0m     assert (\n",
                        "\u001b[0;32m~/.cache/pypoetry/virtualenvs/veg2hab-CuqoUkZb-py3.7/lib/python3.7/site-packages/pandas/core/generic.py\u001b[0m in \u001b[0;36m__getattr__\u001b[0;34m(self, name)\u001b[0m\n\u001b[1;32m   5139\u001b[0m             \u001b[0;32mif\u001b[0m \u001b[0mself\u001b[0m\u001b[0;34m.\u001b[0m\u001b[0m_info_axis\u001b[0m\u001b[0;34m.\u001b[0m\u001b[0m_can_hold_identifiers_and_holds_name\u001b[0m\u001b[0;34m(\u001b[0m\u001b[0mname\u001b[0m\u001b[0;34m)\u001b[0m\u001b[0;34m:\u001b[0m\u001b[0;34m\u001b[0m\u001b[0;34m\u001b[0m\u001b[0m\n\u001b[1;32m   5140\u001b[0m                 \u001b[0;32mreturn\u001b[0m \u001b[0mself\u001b[0m\u001b[0;34m[\u001b[0m\u001b[0mname\u001b[0m\u001b[0;34m]\u001b[0m\u001b[0;34m\u001b[0m\u001b[0;34m\u001b[0m\u001b[0m\n\u001b[0;32m-> 5141\u001b[0;31m             \u001b[0;32mreturn\u001b[0m \u001b[0mobject\u001b[0m\u001b[0;34m.\u001b[0m\u001b[0m__getattribute__\u001b[0m\u001b[0;34m(\u001b[0m\u001b[0mself\u001b[0m\u001b[0;34m,\u001b[0m \u001b[0mname\u001b[0m\u001b[0;34m)\u001b[0m\u001b[0;34m\u001b[0m\u001b[0;34m\u001b[0m\u001b[0m\n\u001b[0m\u001b[1;32m   5142\u001b[0m \u001b[0;34m\u001b[0m\u001b[0m\n\u001b[1;32m   5143\u001b[0m     \u001b[0;32mdef\u001b[0m \u001b[0m__setattr__\u001b[0m\u001b[0;34m(\u001b[0m\u001b[0mself\u001b[0m\u001b[0;34m,\u001b[0m \u001b[0mname\u001b[0m\u001b[0;34m:\u001b[0m \u001b[0mstr\u001b[0m\u001b[0;34m,\u001b[0m \u001b[0mvalue\u001b[0m\u001b[0;34m)\u001b[0m \u001b[0;34m->\u001b[0m \u001b[0;32mNone\u001b[0m\u001b[0;34m:\u001b[0m\u001b[0;34m\u001b[0m\u001b[0;34m\u001b[0m\u001b[0m\n",
                        "\u001b[0;31mAttributeError\u001b[0m: 'GeoSeries' object has no attribute 'columns'"
                    ]
                }
            ],
            "source": [
                "from veg2hab.functionele_samenhang import _extract_elmid_perc_habtype, _cluster_vlakken\n",
                "a = _cluster_vlakken(access_kartering.gdf.buffer(150))"
            ]
        },
        {
            "cell_type": "code",
            "execution_count": 13,
            "metadata": {},
            "outputs": [],
            "source": [
                "from veg2hab.functionele_samenhang import _extract_elmid_perc_habtype, _cluster_vlakken\n",
                "extracted = access_kartering.gdf.apply(_extract_elmid_perc_habtype, axis=1)\n",
                "extracted = pd.concat(extracted.to_list(), ignore_index=True)"
            ]
        },
        {
            "cell_type": "code",
            "execution_count": 20,
            "metadata": {},
            "outputs": [
                {
                    "data": {
                        "text/plain": [
                            "False    1945\n",
                            "True     1554\n",
                            "Name: percentage, dtype: int64"
                        ]
                    },
                    "execution_count": 20,
                    "metadata": {},
                    "output_type": "execute_result"
                }
            ],
            "source": [
                "(extracted.percentage < 50).value_counts()"
            ]
        },
        {
            "cell_type": "code",
            "execution_count": 30,
            "metadata": {},
            "outputs": [
                {
                    "ename": "AttributeError",
                    "evalue": "module 'geopandas' has no attribute 'concat'",
                    "output_type": "error",
                    "traceback": [
                        "\u001b[0;31m---------------------------------------------------------------------------\u001b[0m",
                        "\u001b[0;31mAttributeError\u001b[0m                            Traceback (most recent call last)",
                        "\u001b[0;32m/tmp/ipykernel_281522/759484931.py\u001b[0m in \u001b[0;36m<module>\u001b[0;34m\u001b[0m\n\u001b[1;32m     27\u001b[0m \u001b[0;34m\u001b[0m\u001b[0m\n\u001b[1;32m     28\u001b[0m \u001b[0;31m# Concatenate the resulting DataFrames\u001b[0m\u001b[0;34m\u001b[0m\u001b[0;34m\u001b[0m\u001b[0;34m\u001b[0m\u001b[0m\n\u001b[0;32m---> 29\u001b[0;31m \u001b[0mresult\u001b[0m \u001b[0;34m=\u001b[0m \u001b[0mgpd\u001b[0m\u001b[0;34m.\u001b[0m\u001b[0mconcat\u001b[0m\u001b[0;34m(\u001b[0m\u001b[0mresult\u001b[0m\u001b[0;34m.\u001b[0m\u001b[0mto_list\u001b[0m\u001b[0;34m(\u001b[0m\u001b[0;34m)\u001b[0m\u001b[0;34m,\u001b[0m \u001b[0mignore_index\u001b[0m\u001b[0;34m=\u001b[0m\u001b[0;32mTrue\u001b[0m\u001b[0;34m)\u001b[0m\u001b[0;34m\u001b[0m\u001b[0;34m\u001b[0m\u001b[0m\n\u001b[0m\u001b[1;32m     30\u001b[0m \u001b[0mprint\u001b[0m\u001b[0;34m(\u001b[0m\u001b[0mtype\u001b[0m\u001b[0;34m(\u001b[0m\u001b[0mresult\u001b[0m\u001b[0;34m)\u001b[0m\u001b[0;34m)\u001b[0m\u001b[0;34m\u001b[0m\u001b[0;34m\u001b[0m\u001b[0m\n\u001b[1;32m     31\u001b[0m \u001b[0mresult\u001b[0m\u001b[0;34m\u001b[0m\u001b[0;34m\u001b[0m\u001b[0m\n",
                        "\u001b[0;31mAttributeError\u001b[0m: module 'geopandas' has no attribute 'concat'"
                    ]
                }
            ],
            "source": [
                "test = access_kartering.gdf.copy()\n",
                "# test = test.iloc[:10]\n",
                "test.VegTypeInfo\n",
                "import geopandas as gpd\n",
                "def _extract_elmid_perc_habtype(row: gpd.GeoSeries) -> gpd.GeoDataFrame:\n",
                "    # (Elmid, cmplxdeel_n) | percentage | habitattype\n",
                "    identifier = []\n",
                "    percentage = []\n",
                "    habtype = []\n",
                "    geometry = []\n",
                "    for idx, keuze in enumerate(row[\"HabitatKeuze\"]):\n",
                "        identifier.append((row[\"ElmID\"], idx))\n",
                "        percentage.append(row.VegTypeInfo[idx].percentage)\n",
                "        habtype.append(keuze.habtype)\n",
                "        geometry.append(row.geometry)\n",
                "    return gpd.GeoDataFrame(\n",
                "        {\n",
                "            \"identifier\": identifier,\n",
                "            \"percentage\": percentage,\n",
                "            \"habitattype\": habtype,\n",
                "            \"geometry\": geometry,\n",
                "        }\n",
                "    )\n",
                "\n",
                "# Apply the function to each row\n",
                "result = test.apply(_extract_elmid_perc_habtype, axis=1)\n",
                "\n",
                "# Concatenate the resulting DataFrames\n",
                "result = pd.concat(result.tolist(), ignore_index=True)\n",
                "print(type(result))\n",
                "result"
            ]
        },
        {
            "cell_type": "code",
            "execution_count": null,
            "metadata": {},
            "outputs": [],
            "source": []
        },
        {
            "cell_type": "code",
            "execution_count": null,
            "metadata": {},
            "outputs": [],
            "source": []
        },
        {
            "cell_type": "markdown",
            "metadata": {},
            "source": [
                "### De kartering formatten als een Habitattypenkartering\n",
                "\n",
                "Dit pakt de HabitatVoorstellen uit en format het geheel als een Habitattypenkartering zoals beschreven in Gegevens Leverings Protocol (uitvraag bijlage 3a).\n",
                "\n",
                "Voor nu checken we nog geen mitsen en mozaiek en wordt voor ieder VegTypeInfo het eerste HabitatVoorstel gebruikt."
            ]
        },
        {
            "cell_type": "code",
            "execution_count": null,
            "metadata": {},
            "outputs": [],
            "source": [
                "final_format = access_kartering.as_final_format()\n",
                "final_format"
            ]
        },
        {
            "cell_type": "code",
            "execution_count": null,
            "metadata": {},
            "outputs": [],
            "source": [
                "access_kartering.final_format_to_file(Path(\"../testing/veg2hab_output.shp\"))"
            ]
        }
    ],
    "metadata": {
        "kernelspec": {
            "display_name": "veg2hab-CuqoUkZb-py3.7",
            "language": "python",
            "name": "python3"
        },
        "language_info": {
            "codemirror_mode": {
                "name": "ipython",
                "version": 3
            },
            "file_extension": ".py",
            "mimetype": "text/x-python",
            "name": "python",
            "nbconvert_exporter": "python",
            "pygments_lexer": "ipython3",
            "version": "3.7.17"
        }
    },
    "nbformat": 4,
    "nbformat_minor": 2
}
