{
 "cells": [
  {
   "cell_type": "code",
   "execution_count": 1,
   "metadata": {},
   "outputs": [],
   "source": [
    "from pathlib import Path\n",
    "\n",
    "import sys\n",
    "sys.path.append('../')\n",
    "\n",
    "from veg2hab.waswordtlijst import WasWordtLijst, opschonen_was_wordt_lijst\n",
    "from veg2hab.definitietabel import DefinitieTabel, opschonen_definitietabel\n",
    "from veg2hab.vegkartering import ProtoKartering"
   ]
  },
  {
   "cell_type": "markdown",
   "metadata": {},
   "source": [
    "### Access kartering inladen\n",
    "\n",
    "De aangeleverde SBB typen worden opgeschoond en vervolgens door het aanmaken van SBB instances voor in de VegTypeInfo gevalideerd. De resulterende dataframe heeft voor elke regel in KarteringVegetatietype.csv een VegTypeInfo instance in de rij van de betreffende shape."
   ]
  },
  {
   "cell_type": "code",
   "execution_count": 2,
   "metadata": {},
   "outputs": [
    {
     "data": {
      "text/html": [
       "<div>\n",
       "<style scoped>\n",
       "    .dataframe tbody tr th:only-of-type {\n",
       "        vertical-align: middle;\n",
       "    }\n",
       "\n",
       "    .dataframe tbody tr th {\n",
       "        vertical-align: top;\n",
       "    }\n",
       "\n",
       "    .dataframe thead th {\n",
       "        text-align: right;\n",
       "    }\n",
       "</style>\n",
       "<table border=\"1\" class=\"dataframe\">\n",
       "  <thead>\n",
       "    <tr style=\"text-align: right;\">\n",
       "      <th></th>\n",
       "      <th>ElmID</th>\n",
       "      <th>Datum</th>\n",
       "      <th>Projcode</th>\n",
       "      <th>Opp</th>\n",
       "      <th>Dlgebied</th>\n",
       "      <th>Opmerking</th>\n",
       "      <th>VegType</th>\n",
       "      <th>LabelKaart</th>\n",
       "      <th>geometry</th>\n",
       "      <th>intern_id</th>\n",
       "      <th>Locatie</th>\n",
       "      <th>VegTypeInfo</th>\n",
       "    </tr>\n",
       "  </thead>\n",
       "  <tbody>\n",
       "    <tr>\n",
       "      <th>0</th>\n",
       "      <td>28049</td>\n",
       "      <td>19072013</td>\n",
       "      <td>864</td>\n",
       "      <td>0.376174</td>\n",
       "      <td>RM-Kern</td>\n",
       "      <td>None</td>\n",
       "      <td>09A2-6.e,h,v.90</td>\n",
       "      <td>09A2-6(2)</td>\n",
       "      <td>POLYGON ((189433.818 538314.302, 189439.215 53...</td>\n",
       "      <td>1809</td>\n",
       "      <td>1809</td>\n",
       "      <td>[(90%, VvN: [], SBB: ['9a2a']), (10%, VvN: [],...</td>\n",
       "    </tr>\n",
       "    <tr>\n",
       "      <th>1</th>\n",
       "      <td>15034</td>\n",
       "      <td>10092013</td>\n",
       "      <td>864</td>\n",
       "      <td>1.044266</td>\n",
       "      <td>RM-Oost</td>\n",
       "      <td>None</td>\n",
       "      <td>50A-1.e</td>\n",
       "      <td>50A-1</td>\n",
       "      <td>POLYGON ((190568.500 539171.122, 190538.023 53...</td>\n",
       "      <td>815</td>\n",
       "      <td>815</td>\n",
       "      <td>[(100%, VvN: [], SBB: ['50a'])]</td>\n",
       "    </tr>\n",
       "    <tr>\n",
       "      <th>2</th>\n",
       "      <td>13503</td>\n",
       "      <td>14102013</td>\n",
       "      <td>864</td>\n",
       "      <td>0.217410</td>\n",
       "      <td>RM-Noord</td>\n",
       "      <td>None</td>\n",
       "      <td>09A2-1.e,h,q,v.90</td>\n",
       "      <td>09A2-1(2)</td>\n",
       "      <td>POLYGON ((189538.104 539409.332, 189532.399 53...</td>\n",
       "      <td>650</td>\n",
       "      <td>650</td>\n",
       "      <td>[(90%, VvN: [], SBB: ['9a2a']), (10%, VvN: [],...</td>\n",
       "    </tr>\n",
       "  </tbody>\n",
       "</table>\n",
       "</div>"
      ],
      "text/plain": [
       "   ElmID     Datum  Projcode       Opp  Dlgebied Opmerking            VegType  \\\n",
       "0  28049  19072013       864  0.376174   RM-Kern      None    09A2-6.e,h,v.90   \n",
       "1  15034  10092013       864  1.044266   RM-Oost      None            50A-1.e   \n",
       "2  13503  14102013       864  0.217410  RM-Noord      None  09A2-1.e,h,q,v.90   \n",
       "\n",
       "  LabelKaart                                           geometry  intern_id  \\\n",
       "0  09A2-6(2)  POLYGON ((189433.818 538314.302, 189439.215 53...       1809   \n",
       "1      50A-1  POLYGON ((190568.500 539171.122, 190538.023 53...        815   \n",
       "2  09A2-1(2)  POLYGON ((189538.104 539409.332, 189532.399 53...        650   \n",
       "\n",
       "   Locatie                                        VegTypeInfo  \n",
       "0     1809  [(90%, VvN: [], SBB: ['9a2a']), (10%, VvN: [],...  \n",
       "1      815                    [(100%, VvN: [], SBB: ['50a'])]  \n",
       "2      650  [(90%, VvN: [], SBB: ['9a2a']), (10%, VvN: [],...  "
      ]
     },
     "execution_count": 2,
     "metadata": {},
     "output_type": "execute_result"
    }
   ],
   "source": [
    "shape_path = Path(\"../testing/Rottige_Meenthe_Brandemeer_2013/vlakken.shp\")\n",
    "csvs_path = Path(\"../testing/Rottige_Meenthe_Brandemeer_2013/864_RottigeMeenthe2013/\")\n",
    "shape_elm_id_column = \"ElmID\"\n",
    "\n",
    "access_kartering = ProtoKartering.from_access_db(shape_path, shape_elm_id_column, csvs_path)\n",
    "\n",
    "access_kartering.gdf.iloc[:3]\n"
   ]
  },
  {
   "cell_type": "markdown",
   "metadata": {},
   "source": [
    "### Was-Wordt lijst opschonen en inladen\n",
    "\n",
    "VvN en SBB codes worden gecheckt op validiteit bij:\n",
    "1. het opschonen van een was-wordt lijst\n",
    "2. bij het inlezen van een opgeschoonde was-wordt lijst"
   ]
  },
  {
   "cell_type": "code",
   "execution_count": 3,
   "metadata": {},
   "outputs": [
    {
     "name": "stdout",
     "output_type": "stream",
     "text": [
      "Alle SBB codes zijn valide\n",
      "Alle VvN codes zijn valide\n"
     ]
    },
    {
     "name": "stderr",
     "output_type": "stream",
     "text": [
      "/home/jordydelange/.cache/pypoetry/virtualenvs/veg2hab-CuqoUkZb-py3.7/lib/python3.7/site-packages/openpyxl/worksheet/header_footer.py:48: UserWarning: Cannot parse header or footer so it will be ignored\n",
      "  warn(\"\"\"Cannot parse header or footer so it will be ignored\"\"\")\n",
      "/home/jordydelange/.cache/pypoetry/virtualenvs/veg2hab-CuqoUkZb-py3.7/lib/python3.7/site-packages/pandas/core/missing.py:49: FutureWarning: elementwise comparison failed; returning scalar instead, but in the future will perform elementwise comparison\n",
      "  mask = arr == x\n",
      "/home/jordydelange/.cache/pypoetry/virtualenvs/veg2hab-CuqoUkZb-py3.7/lib/python3.7/site-packages/pandas/core/missing.py:60: FutureWarning: elementwise comparison failed; returning scalar instead, but in the future will perform elementwise comparison\n",
      "  mask |= arr == x\n"
     ]
    }
   ],
   "source": [
    "path_in_wwl = Path(\"../data/5. Was-wordt-lijst-vegetatietypen-en-habitattypen-09-02-2021.xlsx\")\n",
    "path_out_wwl = Path(\"../testing/opgeschoonde_waswordt.xlsx\")\n",
    "opschonen_was_wordt_lijst(path_in_wwl, path_out_wwl)"
   ]
  },
  {
   "cell_type": "code",
   "execution_count": 4,
   "metadata": {},
   "outputs": [
    {
     "name": "stdout",
     "output_type": "stream",
     "text": [
      "Alle SBB codes zijn valide\n",
      "Alle VvN codes zijn valide\n"
     ]
    },
    {
     "data": {
      "text/html": [
       "<div>\n",
       "<style scoped>\n",
       "    .dataframe tbody tr th:only-of-type {\n",
       "        vertical-align: middle;\n",
       "    }\n",
       "\n",
       "    .dataframe tbody tr th {\n",
       "        vertical-align: top;\n",
       "    }\n",
       "\n",
       "    .dataframe thead th {\n",
       "        text-align: right;\n",
       "    }\n",
       "</style>\n",
       "<table border=\"1\" class=\"dataframe\">\n",
       "  <thead>\n",
       "    <tr style=\"text-align: right;\">\n",
       "      <th></th>\n",
       "      <th>VvN</th>\n",
       "      <th>SBB</th>\n",
       "    </tr>\n",
       "  </thead>\n",
       "  <tbody>\n",
       "    <tr>\n",
       "      <th>0</th>\n",
       "      <td>14rg10</td>\n",
       "      <td>14-l</td>\n",
       "    </tr>\n",
       "    <tr>\n",
       "      <th>1</th>\n",
       "      <td>None</td>\n",
       "      <td>7-a</td>\n",
       "    </tr>\n",
       "    <tr>\n",
       "      <th>2</th>\n",
       "      <td>None</td>\n",
       "      <td>8b-b</td>\n",
       "    </tr>\n",
       "    <tr>\n",
       "      <th>3</th>\n",
       "      <td>None</td>\n",
       "      <td>11/c</td>\n",
       "    </tr>\n",
       "    <tr>\n",
       "      <th>4</th>\n",
       "      <td>None</td>\n",
       "      <td>11a-b</td>\n",
       "    </tr>\n",
       "    <tr>\n",
       "      <th>5</th>\n",
       "      <td>None</td>\n",
       "      <td>14/f</td>\n",
       "    </tr>\n",
       "    <tr>\n",
       "      <th>6</th>\n",
       "      <td>None</td>\n",
       "      <td>19-f</td>\n",
       "    </tr>\n",
       "    <tr>\n",
       "      <th>7</th>\n",
       "      <td>None</td>\n",
       "      <td>19-h</td>\n",
       "    </tr>\n",
       "    <tr>\n",
       "      <th>8</th>\n",
       "      <td>None</td>\n",
       "      <td>20a1c</td>\n",
       "    </tr>\n",
       "    <tr>\n",
       "      <th>9</th>\n",
       "      <td>None</td>\n",
       "      <td>33a7</td>\n",
       "    </tr>\n",
       "    <tr>\n",
       "      <th>10</th>\n",
       "      <td>None</td>\n",
       "      <td>14/a</td>\n",
       "    </tr>\n",
       "    <tr>\n",
       "      <th>11</th>\n",
       "      <td>None</td>\n",
       "      <td>16/f</td>\n",
       "    </tr>\n",
       "    <tr>\n",
       "      <th>12</th>\n",
       "      <td>None</td>\n",
       "      <td>37-a</td>\n",
       "    </tr>\n",
       "    <tr>\n",
       "      <th>13</th>\n",
       "      <td>None</td>\n",
       "      <td>40a-d</td>\n",
       "    </tr>\n",
       "    <tr>\n",
       "      <th>14</th>\n",
       "      <td>None</td>\n",
       "      <td>41a/b</td>\n",
       "    </tr>\n",
       "    <tr>\n",
       "      <th>15</th>\n",
       "      <td>None</td>\n",
       "      <td>42-e</td>\n",
       "    </tr>\n",
       "    <tr>\n",
       "      <th>16</th>\n",
       "      <td>None</td>\n",
       "      <td>43-c</td>\n",
       "    </tr>\n",
       "    <tr>\n",
       "      <th>17</th>\n",
       "      <td>None</td>\n",
       "      <td>43-e</td>\n",
       "    </tr>\n",
       "    <tr>\n",
       "      <th>18</th>\n",
       "      <td>None</td>\n",
       "      <td>43-f</td>\n",
       "    </tr>\n",
       "    <tr>\n",
       "      <th>19</th>\n",
       "      <td>None</td>\n",
       "      <td>14-m</td>\n",
       "    </tr>\n",
       "  </tbody>\n",
       "</table>\n",
       "</div>"
      ],
      "text/plain": [
       "       VvN    SBB\n",
       "0   14rg10   14-l\n",
       "1     None    7-a\n",
       "2     None   8b-b\n",
       "3     None   11/c\n",
       "4     None  11a-b\n",
       "5     None   14/f\n",
       "6     None   19-f\n",
       "7     None   19-h\n",
       "8     None  20a1c\n",
       "9     None   33a7\n",
       "10    None   14/a\n",
       "11    None   16/f\n",
       "12    None   37-a\n",
       "13    None  40a-d\n",
       "14    None  41a/b\n",
       "15    None   42-e\n",
       "16    None   43-c\n",
       "17    None   43-e\n",
       "18    None   43-f\n",
       "19    None   14-m"
      ]
     },
     "execution_count": 4,
     "metadata": {},
     "output_type": "execute_result"
    }
   ],
   "source": [
    "wwl = WasWordtLijst.from_excel(path_out_wwl)\n",
    "wwl.df.head(20)"
   ]
  },
  {
   "cell_type": "markdown",
   "metadata": {},
   "source": [
    "### Toevoegen VvN met Was-Wordt lijst aan Access kartering \n",
    "\n",
    "Hier wordt aan elke VegTypeInfo de VvN toegevoegd die passen bij de SBB die al aanwezig was."
   ]
  },
  {
   "cell_type": "code",
   "execution_count": 5,
   "metadata": {},
   "outputs": [
    {
     "name": "stdout",
     "output_type": "stream",
     "text": [
      "0       [(90%, VvN: ['9aa2a'], SBB: ['9a2a']), (10%, V...\n",
      "1                         [(100%, VvN: [], SBB: ['50a'])]\n",
      "2       [(90%, VvN: ['9aa2a'], SBB: ['9a2a']), (10%, V...\n",
      "3       [(80%, VvN: [], SBB: ['9b-a']), (10%, VvN: ['9...\n",
      "4       [(58%, VvN: ['8bb4d'], SBB: ['8b3c']), (29%, V...\n",
      "                              ...                        \n",
      "1944    [(90%, VvN: ['36aa2a'], SBB: ['36a2']), (10%, ...\n",
      "1945    [(90%, VvN: ['32rg3'], SBB: ['32-c']), (10%, V...\n",
      "1946    [(60%, VvN: ['8ba2'], SBB: ['8c1c']), (30%, Vv...\n",
      "1947    [(90%, VvN: ['5bb1'], SBB: ['5c1']), (10%, VvN...\n",
      "1948             [(100%, VvN: ['36aa2a'], SBB: ['36a2'])]\n",
      "Name: VegTypeInfo, Length: 1949, dtype: object\n"
     ]
    }
   ],
   "source": [
    "vegtypeinfo_series = access_kartering.gdf.VegTypeInfo.apply(wwl.toevoegen_VvN_aan_List_VegTypeInfo)\n",
    "print(vegtypeinfo_series)"
   ]
  },
  {
   "cell_type": "code",
   "execution_count": 6,
   "metadata": {},
   "outputs": [
    {
     "data": {
      "text/plain": [
       "[VegTypeInfo(percentage=100, SBB=[SBB(klasse='50', verbond='a', associatie=None, subassociatie=None, derivaatgemeenschap=None, rompgemeenschap=None, max_match_level=2)], VvN=[])]"
      ]
     },
     "execution_count": 6,
     "metadata": {},
     "output_type": "execute_result"
    }
   ],
   "source": [
    "vegtypeinfo_series.iloc[150]"
   ]
  },
  {
   "cell_type": "code",
   "execution_count": 7,
   "metadata": {},
   "outputs": [
    {
     "data": {
      "text/plain": [
       "[VegTypeInfo(percentage=80, SBB=[SBB(klasse='9', verbond='b', associatie=None, subassociatie=None, derivaatgemeenschap=None, rompgemeenschap='a', max_match_level=1)], VvN=[]),\n",
       " VegTypeInfo(percentage=10, SBB=[SBB(klasse='9', verbond=None, associatie=None, subassociatie=None, derivaatgemeenschap=None, rompgemeenschap='g', max_match_level=1)], VvN=[VvN(klasse='9', orde=None, verbond=None, associatie=None, subassociatie=None, derivaatgemeenschap=None, rompgemeenschap='3', max_match_level=1)]),\n",
       " VegTypeInfo(percentage=10, SBB=[SBB(klasse='9', verbond='a', associatie='2', subassociatie='b', derivaatgemeenschap=None, rompgemeenschap=None, max_match_level=4)], VvN=[VvN(klasse='9', orde='a', verbond='a', associatie='2', subassociatie='b', derivaatgemeenschap=None, rompgemeenschap=None, max_match_level=5)])]"
      ]
     },
     "execution_count": 7,
     "metadata": {},
     "output_type": "execute_result"
    }
   ],
   "source": [
    "# Example of 3 vegtypeinfos in 1 geometry\n",
    "vegtypeinfo_series.iloc[3]"
   ]
  },
  {
   "cell_type": "markdown",
   "metadata": {},
   "source": [
    "### Definitietabel opschonen en inladen\n",
    "\n",
    "VvN en SBB codes worden gecheckt op validiteit bij:\n",
    "1. het opschonen van een definitietabel\n",
    "2. bij het inlezen van een opgeschoonde definitietabel"
   ]
  },
  {
   "cell_type": "code",
   "execution_count": 8,
   "metadata": {},
   "outputs": [
    {
     "name": "stdout",
     "output_type": "stream",
     "text": [
      "Alle SBB codes zijn valide\n",
      "Alle VvN codes zijn valide\n"
     ]
    },
    {
     "name": "stderr",
     "output_type": "stream",
     "text": [
      "/home/jordydelange/.cache/pypoetry/virtualenvs/veg2hab-CuqoUkZb-py3.7/lib/python3.7/site-packages/pandas/core/missing.py:49: FutureWarning: elementwise comparison failed; returning scalar instead, but in the future will perform elementwise comparison\n",
      "  mask = arr == x\n",
      "/home/jordydelange/.cache/pypoetry/virtualenvs/veg2hab-CuqoUkZb-py3.7/lib/python3.7/site-packages/pandas/core/missing.py:60: FutureWarning: elementwise comparison failed; returning scalar instead, but in the future will perform elementwise comparison\n",
      "  mask |= arr == x\n"
     ]
    }
   ],
   "source": [
    "path_in_dt = Path(\"../data/definitietabel habitattypen (versie 24 maart 2009)_0.xls\")\n",
    "path_out_dt = Path(\"../testing/opgeschoonde_definitietabel.xlsx\")\n",
    "opschonen_definitietabel(path_in_dt, path_out_dt)"
   ]
  },
  {
   "cell_type": "code",
   "execution_count": 9,
   "metadata": {},
   "outputs": [
    {
     "data": {
      "text/html": [
       "<div>\n",
       "<style scoped>\n",
       "    .dataframe tbody tr th:only-of-type {\n",
       "        vertical-align: middle;\n",
       "    }\n",
       "\n",
       "    .dataframe tbody tr th {\n",
       "        vertical-align: top;\n",
       "    }\n",
       "\n",
       "    .dataframe thead th {\n",
       "        text-align: right;\n",
       "    }\n",
       "</style>\n",
       "<table border=\"1\" class=\"dataframe\">\n",
       "  <thead>\n",
       "    <tr style=\"text-align: right;\">\n",
       "      <th></th>\n",
       "      <th>Habitattype</th>\n",
       "      <th>Kwaliteit</th>\n",
       "      <th>SBB</th>\n",
       "      <th>VvN</th>\n",
       "      <th>mits</th>\n",
       "      <th>mozaiek</th>\n",
       "    </tr>\n",
       "  </thead>\n",
       "  <tbody>\n",
       "    <tr>\n",
       "      <th>0</th>\n",
       "      <td>H1130</td>\n",
       "      <td>GoedMatig.GOED</td>\n",
       "      <td>None</td>\n",
       "      <td>2aa1</td>\n",
       "      <td>mits in de FGR Getijdengebied en mits gelegen ...</td>\n",
       "      <td>&lt;NA&gt;</td>\n",
       "    </tr>\n",
       "    <tr>\n",
       "      <th>1</th>\n",
       "      <td>H1130</td>\n",
       "      <td>GoedMatig.GOED</td>\n",
       "      <td>None</td>\n",
       "      <td>2aa2</td>\n",
       "      <td>mits in de FGR Getijdengebied en mits gelegen ...</td>\n",
       "      <td>&lt;NA&gt;</td>\n",
       "    </tr>\n",
       "    <tr>\n",
       "      <th>2</th>\n",
       "      <td>H1130</td>\n",
       "      <td>GoedMatig.GOED</td>\n",
       "      <td>None</td>\n",
       "      <td>3aa1</td>\n",
       "      <td>mits in de FGR Getijdengebied en mits gelegen ...</td>\n",
       "      <td>&lt;NA&gt;</td>\n",
       "    </tr>\n",
       "    <tr>\n",
       "      <th>3</th>\n",
       "      <td>H1130</td>\n",
       "      <td>GoedMatig.GOED</td>\n",
       "      <td>None</td>\n",
       "      <td>3aa2</td>\n",
       "      <td>mits in de FGR Getijdengebied en mits gelegen ...</td>\n",
       "      <td>&lt;NA&gt;</td>\n",
       "    </tr>\n",
       "    <tr>\n",
       "      <th>4</th>\n",
       "      <td>H1140_A</td>\n",
       "      <td>GoedMatig.GOED</td>\n",
       "      <td>None</td>\n",
       "      <td>2aa1</td>\n",
       "      <td>mits in de slikkige en fijnzandige delen van F...</td>\n",
       "      <td>&lt;NA&gt;</td>\n",
       "    </tr>\n",
       "    <tr>\n",
       "      <th>5</th>\n",
       "      <td>H1140_A</td>\n",
       "      <td>GoedMatig.GOED</td>\n",
       "      <td>None</td>\n",
       "      <td>3aa1</td>\n",
       "      <td>mits in de slikkige en fijnzandige delen van F...</td>\n",
       "      <td>&lt;NA&gt;</td>\n",
       "    </tr>\n",
       "    <tr>\n",
       "      <th>6</th>\n",
       "      <td>H1140_A</td>\n",
       "      <td>GoedMatig.GOED</td>\n",
       "      <td>None</td>\n",
       "      <td>3aa2</td>\n",
       "      <td>mits in de slikkige en fijnzandige delen van F...</td>\n",
       "      <td>&lt;NA&gt;</td>\n",
       "    </tr>\n",
       "    <tr>\n",
       "      <th>7</th>\n",
       "      <td>H1160</td>\n",
       "      <td>GoedMatig.GOED</td>\n",
       "      <td>None</td>\n",
       "      <td>2aa1</td>\n",
       "      <td>mits in de FGR Getijdengebied en mits in een i...</td>\n",
       "      <td>&lt;NA&gt;</td>\n",
       "    </tr>\n",
       "    <tr>\n",
       "      <th>8</th>\n",
       "      <td>H1160</td>\n",
       "      <td>GoedMatig.GOED</td>\n",
       "      <td>None</td>\n",
       "      <td>3aa1</td>\n",
       "      <td>mits in de FGR Getijdengebied en mits in een i...</td>\n",
       "      <td>&lt;NA&gt;</td>\n",
       "    </tr>\n",
       "    <tr>\n",
       "      <th>9</th>\n",
       "      <td>H1160</td>\n",
       "      <td>GoedMatig.GOED</td>\n",
       "      <td>None</td>\n",
       "      <td>3aa2</td>\n",
       "      <td>mits in de FGR Getijdengebied en mits in een i...</td>\n",
       "      <td>&lt;NA&gt;</td>\n",
       "    </tr>\n",
       "    <tr>\n",
       "      <th>10</th>\n",
       "      <td>H1310_A</td>\n",
       "      <td>GoedMatig.GOED</td>\n",
       "      <td>None</td>\n",
       "      <td>25aa1</td>\n",
       "      <td>mits in het kustgebied</td>\n",
       "      <td>&lt;NA&gt;</td>\n",
       "    </tr>\n",
       "    <tr>\n",
       "      <th>11</th>\n",
       "      <td>H1310_A</td>\n",
       "      <td>GoedMatig.GOED</td>\n",
       "      <td>None</td>\n",
       "      <td>25aa2</td>\n",
       "      <td>mits in het kustgebied</td>\n",
       "      <td>&lt;NA&gt;</td>\n",
       "    </tr>\n",
       "    <tr>\n",
       "      <th>12</th>\n",
       "      <td>H1310_A</td>\n",
       "      <td>GoedMatig.GOED</td>\n",
       "      <td>None</td>\n",
       "      <td>25aa3</td>\n",
       "      <td>mits in het kustgebied</td>\n",
       "      <td>&lt;NA&gt;</td>\n",
       "    </tr>\n",
       "    <tr>\n",
       "      <th>13</th>\n",
       "      <td>H1310_B</td>\n",
       "      <td>GoedMatig.GOED</td>\n",
       "      <td>None</td>\n",
       "      <td>27aa1</td>\n",
       "      <td>mits in het kustgebied</td>\n",
       "      <td>&lt;NA&gt;</td>\n",
       "    </tr>\n",
       "    <tr>\n",
       "      <th>14</th>\n",
       "      <td>H1310_B</td>\n",
       "      <td>GoedMatig.GOED</td>\n",
       "      <td>None</td>\n",
       "      <td>27aa2a</td>\n",
       "      <td>mits in het kustgebied</td>\n",
       "      <td>&lt;NA&gt;</td>\n",
       "    </tr>\n",
       "    <tr>\n",
       "      <th>15</th>\n",
       "      <td>H1320</td>\n",
       "      <td>GoedMatig.GOED</td>\n",
       "      <td>None</td>\n",
       "      <td>24aa1</td>\n",
       "      <td>&lt;NA&gt;</td>\n",
       "      <td>&lt;NA&gt;</td>\n",
       "    </tr>\n",
       "    <tr>\n",
       "      <th>16</th>\n",
       "      <td>H1320</td>\n",
       "      <td>GoedMatig.MATIG</td>\n",
       "      <td>None</td>\n",
       "      <td>24aa2</td>\n",
       "      <td>&lt;NA&gt;</td>\n",
       "      <td>&lt;NA&gt;</td>\n",
       "    </tr>\n",
       "    <tr>\n",
       "      <th>17</th>\n",
       "      <td>H1330_A</td>\n",
       "      <td>GoedMatig.GOED</td>\n",
       "      <td>None</td>\n",
       "      <td>2aa1</td>\n",
       "      <td>&lt;NA&gt;</td>\n",
       "      <td>alleen in mozaïek met zelfstandige vegetaties ...</td>\n",
       "    </tr>\n",
       "    <tr>\n",
       "      <th>18</th>\n",
       "      <td>H1330_A</td>\n",
       "      <td>GoedMatig.GOED</td>\n",
       "      <td>None</td>\n",
       "      <td>3aa1</td>\n",
       "      <td>&lt;NA&gt;</td>\n",
       "      <td>alleen in mozaïek met zelfstandige vegetaties ...</td>\n",
       "    </tr>\n",
       "    <tr>\n",
       "      <th>19</th>\n",
       "      <td>H1330_A</td>\n",
       "      <td>GoedMatig.GOED</td>\n",
       "      <td>None</td>\n",
       "      <td>3aa2</td>\n",
       "      <td>&lt;NA&gt;</td>\n",
       "      <td>alleen in mozaïek met zelfstandige vegetaties ...</td>\n",
       "    </tr>\n",
       "  </tbody>\n",
       "</table>\n",
       "</div>"
      ],
      "text/plain": [
       "   Habitattype        Kwaliteit   SBB     VvN  \\\n",
       "0        H1130   GoedMatig.GOED  None    2aa1   \n",
       "1        H1130   GoedMatig.GOED  None    2aa2   \n",
       "2        H1130   GoedMatig.GOED  None    3aa1   \n",
       "3        H1130   GoedMatig.GOED  None    3aa2   \n",
       "4      H1140_A   GoedMatig.GOED  None    2aa1   \n",
       "5      H1140_A   GoedMatig.GOED  None    3aa1   \n",
       "6      H1140_A   GoedMatig.GOED  None    3aa2   \n",
       "7        H1160   GoedMatig.GOED  None    2aa1   \n",
       "8        H1160   GoedMatig.GOED  None    3aa1   \n",
       "9        H1160   GoedMatig.GOED  None    3aa2   \n",
       "10     H1310_A   GoedMatig.GOED  None   25aa1   \n",
       "11     H1310_A   GoedMatig.GOED  None   25aa2   \n",
       "12     H1310_A   GoedMatig.GOED  None   25aa3   \n",
       "13     H1310_B   GoedMatig.GOED  None   27aa1   \n",
       "14     H1310_B   GoedMatig.GOED  None  27aa2a   \n",
       "15       H1320   GoedMatig.GOED  None   24aa1   \n",
       "16       H1320  GoedMatig.MATIG  None   24aa2   \n",
       "17     H1330_A   GoedMatig.GOED  None    2aa1   \n",
       "18     H1330_A   GoedMatig.GOED  None    3aa1   \n",
       "19     H1330_A   GoedMatig.GOED  None    3aa2   \n",
       "\n",
       "                                                 mits  \\\n",
       "0   mits in de FGR Getijdengebied en mits gelegen ...   \n",
       "1   mits in de FGR Getijdengebied en mits gelegen ...   \n",
       "2   mits in de FGR Getijdengebied en mits gelegen ...   \n",
       "3   mits in de FGR Getijdengebied en mits gelegen ...   \n",
       "4   mits in de slikkige en fijnzandige delen van F...   \n",
       "5   mits in de slikkige en fijnzandige delen van F...   \n",
       "6   mits in de slikkige en fijnzandige delen van F...   \n",
       "7   mits in de FGR Getijdengebied en mits in een i...   \n",
       "8   mits in de FGR Getijdengebied en mits in een i...   \n",
       "9   mits in de FGR Getijdengebied en mits in een i...   \n",
       "10                             mits in het kustgebied   \n",
       "11                             mits in het kustgebied   \n",
       "12                             mits in het kustgebied   \n",
       "13                             mits in het kustgebied   \n",
       "14                             mits in het kustgebied   \n",
       "15                                               <NA>   \n",
       "16                                               <NA>   \n",
       "17                                               <NA>   \n",
       "18                                               <NA>   \n",
       "19                                               <NA>   \n",
       "\n",
       "                                              mozaiek  \n",
       "0                                                <NA>  \n",
       "1                                                <NA>  \n",
       "2                                                <NA>  \n",
       "3                                                <NA>  \n",
       "4                                                <NA>  \n",
       "5                                                <NA>  \n",
       "6                                                <NA>  \n",
       "7                                                <NA>  \n",
       "8                                                <NA>  \n",
       "9                                                <NA>  \n",
       "10                                               <NA>  \n",
       "11                                               <NA>  \n",
       "12                                               <NA>  \n",
       "13                                               <NA>  \n",
       "14                                               <NA>  \n",
       "15                                               <NA>  \n",
       "16                                               <NA>  \n",
       "17  alleen in mozaïek met zelfstandige vegetaties ...  \n",
       "18  alleen in mozaïek met zelfstandige vegetaties ...  \n",
       "19  alleen in mozaïek met zelfstandige vegetaties ...  "
      ]
     },
     "execution_count": 9,
     "metadata": {},
     "output_type": "execute_result"
    }
   ],
   "source": [
    "dt = DefinitieTabel.from_excel(path_out_dt)\n",
    "dt.df.head(20)"
   ]
  },
  {
   "cell_type": "markdown",
   "metadata": {},
   "source": [
    "### Vinden van de mogelijke habitattypen voor een VegTypeInfo\n",
    "\n",
    "Voor elke VegTypeInfo worden de mogelijke habitattypen opgezocht in de definitietabel. Deze worden vervolgens in een HabitatVoorstel gezet, samen met de code waarop de match is gemaakt, de regel in de definitietabel die is gebruikt en het niveau van de match."
   ]
  },
  {
   "cell_type": "code",
   "execution_count": 10,
   "metadata": {},
   "outputs": [
    {
     "data": {
      "text/plain": [
       "0       [[HabitatVoorstel(vegtype=VvN(klasse='9', orde...\n",
       "1                                                    [[]]\n",
       "2       [[HabitatVoorstel(vegtype=VvN(klasse='9', orde...\n",
       "3       [[HabitatVoorstel(vegtype=SBB(klasse='9', verb...\n",
       "4       [[], [HabitatVoorstel(vegtype=VvN(klasse='8', ...\n",
       "                              ...                        \n",
       "1944    [[HabitatVoorstel(vegtype=VvN(klasse='36', ord...\n",
       "1945                                             [[], []]\n",
       "1946    [[HabitatVoorstel(vegtype=VvN(klasse='8', orde...\n",
       "1947    [[HabitatVoorstel(vegtype=VvN(klasse='5', orde...\n",
       "1948    [[HabitatVoorstel(vegtype=VvN(klasse='36', ord...\n",
       "Name: VegTypeInfo, Length: 1949, dtype: object"
      ]
     },
     "execution_count": 10,
     "metadata": {},
     "output_type": "execute_result"
    }
   ],
   "source": [
    "habitat_voorstellen = vegtypeinfo_series.apply(lambda infos: [dt.find_habtypes(info) for info in infos])\n",
    "habitat_voorstellen"
   ]
  },
  {
   "cell_type": "code",
   "execution_count": 11,
   "metadata": {},
   "outputs": [
    {
     "data": {
      "text/plain": [
       "[[]]"
      ]
     },
     "execution_count": 11,
     "metadata": {},
     "output_type": "execute_result"
    }
   ],
   "source": [
    "habitat_voorstellen[150]"
   ]
  },
  {
   "cell_type": "code",
   "execution_count": 12,
   "metadata": {},
   "outputs": [
    {
     "data": {
      "text/plain": [
       "[[HabitatVoorstel(vegtype=SBB(klasse='9', verbond='b', associatie=None, subassociatie=None, derivaatgemeenschap=None, rompgemeenschap='a', max_match_level=1), habtype='H3160', kwaliteit=<GoedMatig.GOED: 'Goed'>, regel_in_deftabel=306, mits=None, mozaiek=None, match_level=1)],\n",
       " [HabitatVoorstel(vegtype=VvN(klasse='9', orde=None, verbond=None, associatie=None, subassociatie=None, derivaatgemeenschap=None, rompgemeenschap='3', max_match_level=1), habtype='H2190_C', kwaliteit=<GoedMatig.MATIG: 'Matig'>, regel_in_deftabel=200, mits=None, mozaiek=None, match_level=1)],\n",
       " [HabitatVoorstel(vegtype=VvN(klasse='9', orde='a', verbond='a', associatie='2', subassociatie='b', derivaatgemeenschap=None, rompgemeenschap=None, max_match_level=5), habtype='H7140_B', kwaliteit=<GoedMatig.GOED: 'Goed'>, regel_in_deftabel=520, mits=None, mozaiek=None, match_level=4)]]"
      ]
     },
     "execution_count": 12,
     "metadata": {},
     "output_type": "execute_result"
    }
   ],
   "source": [
    "habitat_voorstellen[3]"
   ]
  }
 ],
 "metadata": {
  "kernelspec": {
   "display_name": "veg2hab-CuqoUkZb-py3.7",
   "language": "python",
   "name": "python3"
  },
  "language_info": {
   "codemirror_mode": {
    "name": "ipython",
    "version": 3
   },
   "file_extension": ".py",
   "mimetype": "text/x-python",
   "name": "python",
   "nbconvert_exporter": "python",
   "pygments_lexer": "ipython3",
   "version": "3.7.17"
  }
 },
 "nbformat": 4,
 "nbformat_minor": 2
}
