{
    "cells": [
        {
            "cell_type": "code",
            "execution_count": 1,
            "metadata": {},
            "outputs": [
                {
                    "name": "stderr",
                    "output_type": "stream",
                    "text": [
                        "/home/jordydelange/.cache/pypoetry/virtualenvs/veg2hab-CuqoUkZb-py3.7/lib/python3.7/site-packages/geopandas/_compat.py:115: UserWarning: The Shapely GEOS version (3.11.2-CAPI-1.17.2) is incompatible with the GEOS version PyGEOS was compiled with (3.10.4-CAPI-1.16.2). Conversions between both will be slow.\n",
                        "  shapely_geos_version, geos_capi_version_string\n"
                    ]
                }
            ],
            "source": [
                "from veg2hab.criteria import FGRCriterium, LBKCriterium, BodemCriterium, EnCriteria, NietCriterium, OfCriteria, OudeBossenCriterium\n",
                "from veg2hab.enums import FGRType, LBKType, BodemType, OBKWaarden\n",
                "import pandas as pd\n",
                "import random"
            ]
        },
        {
            "cell_type": "markdown",
            "metadata": {},
            "source": [
                "FGR"
            ]
        },
        {
            "cell_type": "code",
            "execution_count": 2,
            "metadata": {},
            "outputs": [
                {
                    "name": "stdout",
                    "output_type": "stream",
                    "text": [
                        "FGRType.DU\n",
                        "TRUE\n",
                        "{'FGR type is Duinen (88.0%).'}\n",
                        "--------\n",
                        "FGRType.HL\n",
                        "FALSE\n",
                        "{'FGR type is niet Duinen, maar Heuvelland (29.0%).'}\n",
                        "--------\n",
                        "<NA>\n",
                        "CANNOT_BE_AUTOMATED\n",
                        "{'Dit vlak ligt niet mooi binnen één FGR-vlak.'}\n",
                        "--------\n"
                    ]
                }
            ],
            "source": [
                "du = FGRCriterium(wanted_fgrtype=FGRType.DU)\n",
                "\n",
                "for fgr_type in [FGRType.DU, FGRType.HL, pd.NA]:\n",
                "    row = pd.Series({\"fgr\": fgr_type, \"fgr_percentage\": random.randint(0, 100)})\n",
                "    du.check(row)\n",
                "    print(fgr_type)\n",
                "    print(du.evaluation)\n",
                "    print(du.get_info())\n",
                "    print(\"--------\")"
            ]
        },
        {
            "cell_type": "markdown",
            "metadata": {},
            "source": [
                "Bodemkaart met enkel negatieven"
            ]
        },
        {
            "cell_type": "code",
            "execution_count": 3,
            "metadata": {},
            "outputs": [
                {
                    "name": "stdout",
                    "output_type": "stream",
                    "text": [
                        "['Zn21']\n",
                        "CANNOT_BE_AUTOMATED\n",
                        "{'Dit is mogelijk Leemarme vaaggronden want bodemcode Zn21 (43.0%).'}\n",
                        "--------\n",
                        "['Abcd']\n",
                        "FALSE\n",
                        "{'Dit is niet Leemarme vaaggronden want bodemcode Abcd (45.0%).'}\n",
                        "--------\n",
                        "<NA>\n",
                        "CANNOT_BE_AUTOMATED\n",
                        "{'Dit vlak ligt niet binnen een bodemkaartvlak.'}\n",
                        "--------\n"
                    ]
                }
            ],
            "source": [
                "lv = BodemCriterium(wanted_bodemtype=BodemType.LEEMARME_VAAGGRONDEN_H9190)\n",
                "\n",
                "for bodem_code in [[\"Zn21\"], [\"Abcd\"], pd.NA]:\n",
                "    row = pd.Series({\"bodem\": bodem_code, \"bodem_percentage\": random.randint(0, 100)})\n",
                "    lv.check(row)\n",
                "    print(bodem_code)\n",
                "    print(lv.evaluation)\n",
                "    print(lv.get_info())\n",
                "    print(\"--------\")"
            ]
        },
        {
            "cell_type": "markdown",
            "metadata": {},
            "source": [
                "Bodemkaart met zowel positieven als negatieven"
            ]
        },
        {
            "cell_type": "code",
            "execution_count": 4,
            "metadata": {},
            "outputs": [
                {
                    "name": "stdout",
                    "output_type": "stream",
                    "text": [
                        "['Zn21']\n",
                        "TRUE\n",
                        "{'Dit is Vaaggronden want bodemcode Zn21 (73.0%).'}\n",
                        "--------\n",
                        "['Abcd']\n",
                        "FALSE\n",
                        "{'Dit is niet Vaaggronden want bodemcode Abcd (29.0%).'}\n",
                        "--------\n",
                        "<NA>\n",
                        "CANNOT_BE_AUTOMATED\n",
                        "{'Dit vlak ligt niet binnen een bodemkaartvlak.'}\n",
                        "--------\n"
                    ]
                }
            ],
            "source": [
                "vg = BodemCriterium(wanted_bodemtype=BodemType.VAAGGRONDEN)\n",
                "\n",
                "for bodem_code in [[\"Zn21\"], [\"Abcd\"], pd.NA]:\n",
                "    row = pd.Series({\"bodem\": bodem_code, \"bodem_percentage\": random.randint(0, 100)})\n",
                "    vg.check(row)\n",
                "    print(bodem_code)\n",
                "    print(vg.evaluation)\n",
                "    print(vg.get_info())\n",
                "    print(\"--------\")"
            ]
        },
        {
            "cell_type": "markdown",
            "metadata": {},
            "source": [
                "LBK met enkel negatieven"
            ]
        },
        {
            "cell_type": "code",
            "execution_count": 5,
            "metadata": {},
            "outputs": [
                {
                    "name": "stdout",
                    "output_type": "stream",
                    "text": [
                        "HzHL\n",
                        "CANNOT_BE_AUTOMATED\n",
                        "{'Dit is mogelijk Herstellend hoogveen want LBK code HzHL (62.0%).'}\n",
                        "--------\n",
                        "Abcd\n",
                        "FALSE\n",
                        "{'Dit is niet Herstellend hoogveen want LBK code Abcd (93.0%).'}\n",
                        "--------\n",
                        "<NA>\n",
                        "CANNOT_BE_AUTOMATED\n",
                        "{'Dit vlak ligt niet mooi binnen één LBK-vak'}\n",
                        "--------\n"
                    ]
                }
            ],
            "source": [
                "hh = LBKCriterium(wanted_lbktype=LBKType.HERSTELLEND_HOOGVEEN)\n",
                "\n",
                "for lbk_code in [\"HzHL\", \"Abcd\", pd.NA]:\n",
                "    row = pd.Series({\"lbk\": lbk_code, \"lbk_percentage\": random.randint(0, 100)})\n",
                "    hh.check(row)\n",
                "    print(lbk_code)\n",
                "    print(hh.evaluation)\n",
                "    print(hh.get_info())\n",
                "    print(\"--------\")"
            ]
        },
        {
            "cell_type": "markdown",
            "metadata": {},
            "source": [
                "LBK met enkel positieven"
            ]
        },
        {
            "cell_type": "code",
            "execution_count": 14,
            "metadata": {},
            "outputs": [
                {
                    "name": "stdout",
                    "output_type": "stream",
                    "text": [
                        "HzHL\n",
                        "TRUE\n",
                        "{'Dit is Hoogveenlandschap want LBK code HzHL (44.0%).'}\n",
                        "--------\n",
                        "Abcd\n",
                        "CANNOT_BE_AUTOMATED\n",
                        "{'Dit is mogelijk toch Hoogveenlandschap ondanks LBK code Abcd (60.0%).'}\n",
                        "--------\n",
                        "<NA>\n",
                        "CANNOT_BE_AUTOMATED\n",
                        "{'Dit vlak ligt niet mooi binnen één LBK-vak'}\n",
                        "--------\n"
                    ]
                }
            ],
            "source": [
                "hl = LBKCriterium(wanted_lbktype=LBKType.HOOGVEENLANDSCHAP)\n",
                "\n",
                "for lbk_code in [\"HzHL\", \"Abcd\", pd.NA]:\n",
                "    row = pd.Series({\"lbk\": lbk_code, \"lbk_percentage\": random.randint(0, 100)})\n",
                "    hl.check(row)\n",
                "    print(lbk_code)\n",
                "    print(hl.evaluation)\n",
                "    print(hl.get_info())\n",
                "    print(\"--------\")"
            ]
        },
        {
            "cell_type": "markdown",
            "metadata": {},
            "source": [
                "Oude Bossenkaart"
            ]
        },
        {
            "cell_type": "code",
            "execution_count": 7,
            "metadata": {},
            "outputs": [
                {
                    "name": "stdout",
                    "output_type": "stream",
                    "text": [
                        "<NA>\n",
                        "FALSE\n",
                        "{'Dit is geen oud bos, want niet binnen boskaartvlak.'}\n",
                        "--------\n",
                        "H9120=1 H9190=1\n",
                        "CANNOT_BE_AUTOMATED\n",
                        "{'Dit is mogelijk oud bos, want binnen boskaartvlak (H9120: 1, H9190: 1) (87.0%).'}\n",
                        "--------\n",
                        "H9120=0 H9190=2\n",
                        "FALSE\n",
                        "{'Dit is geen oud bos, want binnen boskaartvlak (H9120: 0, H9190: 2) (29.0%).'}\n",
                        "--------\n"
                    ]
                }
            ],
            "source": [
                "obk = OudeBossenCriterium(for_habtype=\"H9120\")\n",
                "\n",
                "for obk_waarde in [pd.NA, OBKWaarden(H9120=1, H9190=1), OBKWaarden(H9120=0, H9190=2)]:\n",
                "    row = pd.Series({\"obk\": obk_waarde, \"obk_percentage\": random.randint(0, 100)})\n",
                "    obk.check(row)\n",
                "    print(obk_waarde)\n",
                "    print(obk.evaluation)\n",
                "    print(obk.get_info())\n",
                "    print(\"--------\")"
            ]
        },
        {
            "cell_type": "markdown",
            "metadata": {},
            "source": [
                "Combineren"
            ]
        },
        {
            "cell_type": "code",
            "execution_count": 8,
            "metadata": {},
            "outputs": [
                {
                    "name": "stdout",
                    "output_type": "stream",
                    "text": [
                        "((LBK is Herstellend hoogveen (C) of LBK is Hoogveenlandschap (T) of Bodem is Leemarme humuspodzolgronden (F)) en niet FGR is Laagveengebied (T))\n",
                        "TRUE\n",
                        "Dit is mogelijk Herstellend hoogveen want LBK code HzHL (38.0%).\n",
                        "Dit is Hoogveenlandschap want LBK code HzHL (38.0%).\n",
                        "FGR type is niet Laagveengebied, maar Duinen (25.0%).\n",
                        "Dit is niet Leemarme humuspodzolgronden want bodemcode Zn21 (24.0%).\n",
                        "--------\n",
                        "((LBK is Herstellend hoogveen (F) of LBK is Hoogveenlandschap (C) of Bodem is Leemarme humuspodzolgronden (F)) en niet FGR is Laagveengebied (F))\n",
                        "FALSE\n",
                        "FGR type is Laagveengebied (72.0%).\n",
                        "Dit is niet Herstellend hoogveen want LBK code Abcd (0.0%).\n",
                        "Dit is niet Leemarme humuspodzolgronden want bodemcode Abcd (81.0%).\n",
                        "Dit is mogelijk toch Hoogveenlandschap ondanks LBK code Abcd (0.0%).\n",
                        "--------\n",
                        "((LBK is Herstellend hoogveen (C) of LBK is Hoogveenlandschap (C) of Bodem is Leemarme humuspodzolgronden (C)) en niet FGR is Laagveengebied (C))\n",
                        "CANNOT_BE_AUTOMATED\n",
                        "Dit vlak ligt niet mooi binnen één FGR-vlak.\n",
                        "Dit vlak ligt niet mooi binnen één LBK-vak\n",
                        "Dit vlak ligt niet binnen een bodemkaartvlak.\n",
                        "--------\n"
                    ]
                }
            ],
            "source": [
                "crit = EnCriteria(\n",
                "    sub_criteria=\n",
                "    [\n",
                "        OfCriteria(\n",
                "            sub_criteria=\n",
                "            [\n",
                "                LBKCriterium(wanted_lbktype=LBKType.HERSTELLEND_HOOGVEEN),\n",
                "                LBKCriterium(wanted_lbktype=LBKType.HOOGVEENLANDSCHAP),\n",
                "                BodemCriterium(wanted_bodemtype=BodemType.LEEMARME_HUMUSPODZOLGRONDEN),\n",
                "            ]), \n",
                "        NietCriterium(\n",
                "            sub_criterium=FGRCriterium(wanted_fgrtype=FGRType.LV)\n",
                "        )\n",
                "    ]\n",
                ")\n",
                "\n",
                "for lbk_code, fgr_code, bodem_code in [(\"HzHL\", FGRType.DU, [\"Zn21\"]), (\"Abcd\", FGRType.LV, [\"Abcd\"]), (pd.NA, pd.NA, pd.NA)]:\n",
                "    row = pd.Series({\"lbk\": lbk_code, \"lbk_percentage\": random.randint(0, 100), \"fgr\": fgr_code, \"fgr_percentage\": random.randint(0, 100), \"bodem\": bodem_code, \"bodem_percentage\": random.randint(0, 100)})\n",
                "    crit.check(row)\n",
                "    print(str(crit))\n",
                "    print(crit.evaluation)\n",
                "    for sentence in crit.get_info():\n",
                "        print(sentence)\n",
                "    print(\"--------\")"
            ]
        }
    ],
    "metadata": {
        "kernelspec": {
            "display_name": "veg2hab-CuqoUkZb-py3.7",
            "language": "python",
            "name": "python3"
        },
        "language_info": {
            "codemirror_mode": {
                "name": "ipython",
                "version": 3
            },
            "file_extension": ".py",
            "mimetype": "text/x-python",
            "name": "python",
            "nbconvert_exporter": "python",
            "pygments_lexer": "ipython3",
            "version": "3.7.17"
        }
    },
    "nbformat": 4,
    "nbformat_minor": 2
}
