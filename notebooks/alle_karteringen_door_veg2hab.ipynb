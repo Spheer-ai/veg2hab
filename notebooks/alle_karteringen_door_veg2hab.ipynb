{
    "cells": [
        {
            "cell_type": "markdown",
            "metadata": {},
            "source": [
                " # Alle Karteringen omzetten\n",
                "\n",
                " Dit notebook voert alle karteringen via veg2hab naar een habitattypekartering. Instructies:\n",
                "\n",
                " - Kopieer de provinciefolders uit de OneDrive: `Spheer AI/Spheer AI - General/Projecten/Veg_2_Hab/Data/Vegetatiekarteringen` naar `testing/vegetatiekarteringen` (of naar iets anders, dan moet je `originele_karteringen_prefix` aanpassen onder **config**)\n",
                " - Eerst moeten sommige shapefiles opgeschoond worden. Dit kan met het `handmatig_opschonen_shapefiles.ipynb` notebook. Run deze als dat niet al eens gedaan is.\n",
                " - Zorg dat de paden `originele_karteringen_prefix` en `opgeschoonde_shapefiles_prefix` kloppen en overeenkomen met dezelfde paden in het `handmatig_opschonen_shapefiles.ipynb`. Deze prefixes zullen voor de paden vermeld in de spreadsheets geplakt worden.\n",
                " - Run de cellen. Deze zullen:\n",
                "   - Imports importen en het bestaan van de paden controleren.\n",
                "   - De voor het omzetten benodigde klassen instantieren; de was-wordt lijst, de definitietabel en de FGR kaart.\n",
                "   - Spreadsheets met daarin configuraties voor iedere kartering inlezen.\n",
                "   - Alle karteringen inladen in een grote dict.\n",
                "   - De volgende stappen een voor een op iedere kartering uitvoeren:\n",
                "     - De was-wordt lijst toepassen (toevoegen van VvN codes aan karteringen met enkel SBB).\n",
                "     - De definitietabel toepassen (het opstellen van habitatvoorstellen voor ieder vlak).\n",
                "     - De mitsen checken (eventuele criteria in de habitatvoorstellen checken) en voor ieder vegetatietype een habitatkeuze maken.\n",
                "     - De kartering formatten als een habitattypekartering en wegschrijven."
            ]
        },
        {
            "cell_type": "markdown",
            "metadata": {},
            "source": [
                " ### Imports etc"
            ]
        },
        {
            "cell_type": "code",
            "execution_count": null,
            "metadata": {},
            "outputs": [],
            "source": [
                "from pathlib import Path\n",
                "import pandas as pd\n",
                "import geopandas as gpd\n",
                "import sys\n",
                "sys.path.append('../')\n",
                "\n",
                "from veg2hab.waswordtlijst import WasWordtLijst, opschonen_waswordtlijst\n",
                "from veg2hab.definitietabel import DefinitieTabel, opschonen_definitietabel\n",
                "from veg2hab.vegkartering import Kartering\n",
                "from veg2hab.bronnen import FGR, LBK, Bodemkaart\n",
                "from veg2hab.io.cli import CLIInterface\n",
                "from veg2hab.enums import WelkeTypologie\n",
                "\n",
                "\n",
                "CLIInterface.get_instance()\n",
                "\n",
                "pd.set_option('display.max_columns', 100)\n",
                "pd.set_option('display.max_rows', 8)\n",
                "\n",
                "originele_karteringen_prefix = '../testing/vegetatiekarteringen/'\n",
                "opgeschoonde_shapefiles_prefix = '../testing/opgeschoonde_shapefiles/'\n",
                "output_prefix = '../testing/omgezette_vegetatiekarteringen/'\n",
                "\n",
                "assert Path(originele_karteringen_prefix).exists(), \\\n",
                "    f\"De map {originele_karteringen_prefix} bestaat niet. Zet hier de vegetatiekarteringen uit de onedrive in.\"\n",
                "\n",
                "assert Path(opgeschoonde_shapefiles_prefix).exists(), \\\n",
                "    f\"De map {opgeschoonde_shapefiles_prefix} bestaat niet. Maak deze eerst aan met het handmatig_opschonen_shapefiles.ipynb notebook.\"\n",
                "\n",
                "start_time = pd.Timestamp.now()"
            ]
        },
        {
            "cell_type": "markdown",
            "metadata": {},
            "source": [
                " ### Omzetclasses instantieren"
            ]
        },
        {
            "cell_type": "code",
            "execution_count": null,
            "metadata": {},
            "outputs": [],
            "source": [
                "path_in_wwl = Path(\"../data/5. Was-wordt-lijst-vegetatietypen-en-habitattypen-09-02-2021.xlsx\")\n",
                "path_out_wwl = Path(\"../testing/opgeschoonde_waswordt.xlsx\")\n",
                "opschonen_waswordtlijst(path_in_wwl, path_out_wwl)\n",
                "wwl = WasWordtLijst.from_excel(path_out_wwl)\n",
                "\n",
                "path_in_dt = Path(\"../data/definitietabel habitattypen (versie 24 maart 2009)_0.xls\")\n",
                "path_in_mitsjson = Path(\"../data/mitsjson.json\")\n",
                "path_in_mozaiekjson = Path(\"../data/mozaiekjson.json\")\n",
                "path_out_dt = Path(\"../testing/opgeschoonde_definitietabel.xlsx\")\n",
                "opschonen_definitietabel(path_in_dt, path_in_mitsjson, path_in_mozaiekjson, path_out_dt)\n",
                "dt = DefinitieTabel.from_excel(path_out_dt)\n",
                "\n",
                "fgr = FGR(Path(\"../data/bronbestanden/FGR.json\"))\n"
            ]
        },
        {
            "cell_type": "markdown",
            "metadata": {},
            "source": [
                " ### Inladen benodigde informatie\n",
                "\n",
                " **Overzicht_vegetatiekarteringen.xlsx** is uit de drive en weet van karteringen de provincie, naam, shapefile pad en of het een access of een shapefile kartering is.\n",
                "\n",
                " **accesskarteringinfo.xlsx** bevat voor de access karteringen de informatie die nodig is om een access kartering in te laden.\n",
                "\n",
                " **shapefilekarteringinfo.xlsx** bevat voor de shapefile karteringen de informatie die nodig is om een shapefile kartering in te laden.\n"
            ]
        },
        {
            "cell_type": "code",
            "execution_count": null,
            "metadata": {},
            "outputs": [],
            "source": [
                "# info over de karteringen\n",
                "overzicht = pd.read_excel(\n",
                "    \"../testing/Overzicht_vegetatiekarteringen.xlsx\",\n",
                "    sheet_name=\"Vegetatiekarteringen\",\n",
                "    engine='openpyxl',\n",
                "    usecols=[\n",
                "        \"provincie\",\n",
                "        \"naam_kartering\",\n",
                "        \"path_shapes\",\n",
                "        \"landelijke_typologie beschikbaar?\",\n",
                "        \"locatie_landelijke_typologie\",\n",
                "    ],\n",
                "    dtype=\"string\"\n",
                ")\n",
                "\n",
                "# benodigde info voor de access karteringen\n",
                "access_info = pd.read_excel(\n",
                "    \"../testing/accesskarteringinfo.xlsx\",\n",
                "    engine='openpyxl',\n",
                "    usecols=[\n",
                "        \"naam_kartering\",\n",
                "        \"path_csvs\",\n",
                "        \"elm_id_name\",\n",
                "        \"welke_typologie\",\n",
                "    ],\n",
                "    dtype=\"string\"\n",
                ")\n",
                "\n",
                "# benodigde info voor de shapefile karteringen\n",
                "shape_info = pd.read_excel(\n",
                "    \"../testing/shapefilekarteringinfo.xlsx\",\n",
                "    engine='openpyxl',\n",
                "    usecols=[\n",
                "        \"naam_kartering\",\n",
                "        \"ElmID_col\",\n",
                "        \"datum_col\",\n",
                "        \"opmerking_col\",\n",
                "        \"vegtype_col_format\",\n",
                "        \"welke_typologie\",\n",
                "        \"SBB_col\",\n",
                "        \"VvN_col\",\n",
                "        \"split_char\",\n",
                "        \"perc_col\",\n",
                "    ],\n",
                "    dtype=\"string\"\n",
                ")\n",
                "# Omzetten van pd.NA naar None om te voorkomen dat we overal \"if not pd.isna()\" moeten doen\n",
                "# NOTE: dit naar vegkaartering.py?\n",
                "shape_info = shape_info.applymap(lambda x: None if pd.isna(x) else x)\n",
                "\n",
                "overzicht = overzicht[overzicht[\"landelijke_typologie beschikbaar?\"] == \"Ja\"]\n",
                "# omzetten van ./PROVINCIE/gebied/gebied.shp naar ../testing/opgeschoonde_shapefiles/PROVINCIE/gebied/gebied.shp\n",
                "overzicht.path_shapes = overzicht.path_shapes.apply(lambda x: opgeschoonde_shapefiles_prefix + x[2:])\n",
                "\n",
                "access_overzicht = overzicht[overzicht[\"locatie_landelijke_typologie\"] == \"access\"]\n",
                "access_overzicht = access_overzicht.join(access_info.set_index(\"naam_kartering\"), on=\"naam_kartering\")\n",
                "# omzetten van ./PROVINPCIE/gebied/gebied.shp naar ../testing/vegetatiekarteringen/PROVINCIE/gebied/gebied.shp\n",
                "access_overzicht.path_csvs = access_overzicht.path_csvs.apply(lambda x: originele_karteringen_prefix + x[2:])\n",
                "\n",
                "shapefile_overzicht = overzicht[overzicht[\"locatie_landelijke_typologie\"] == \"in shapes\"]\n",
                "shapefile_overzicht = shapefile_overzicht.join(shape_info.set_index(\"naam_kartering\"), on=\"naam_kartering\")\n"
            ]
        },
        {
            "cell_type": "markdown",
            "metadata": {},
            "source": [
                "### Karteringen inladen\n",
                "\n",
                "Hier worden, adhv configuraties uit de spreadsheets, alle karteringen ingeladen. Als er een probleem is met een kartering, wordt deze overgeslagen en wordt een melding gegeven.\n",
                "\n",
                "Er zijn vier karteringen die op het moment niet ondersteund worden. \n",
                "- NM_Leggelderveld2020\n",
                "  - Vegetatietype codes zijn rVvN\n",
                "- NM_Mantingerveld2020\n",
                "  - Vegetatietype codes zijn rVvN\n",
                "- NM_Norg_heiden2020\n",
                "  - Vegetatietype codes zijn rVvN\n",
                "- NM vegetatiekartering RuitenAa2020\n",
                "  - Er is geen 1 op 1 relatie voor ElmID in de shapefile en in de database"
            ]
        },
        {
            "cell_type": "code",
            "execution_count": null,
            "metadata": {},
            "outputs": [],
            "source": [
                "karteringen = {}\n",
                "mislukte_karteringen = []\n",
                "\n",
                "\n",
                "for row in access_overzicht.itertuples():\n",
                "    print(f\"------ Inlezen {row.naam_kartering}\")\n",
                "\n",
                "    try:\n",
                "        welke_typologie = WelkeTypologie(row.welke_typologie)\n",
                "        karteringen[row.naam_kartering] = Kartering.from_access_db(\n",
                "            Path(row.path_shapes), row.elm_id_name, Path(row.path_csvs), welke_typologie=welke_typologie\n",
                "        )\n",
                "\n",
                "    except Exception as e:\n",
                "        print(e)\n",
                "        print(f\"!!! {row.naam_kartering} wordt overgeslagen !!!\")\n",
                "        mislukte_karteringen.append(row.naam_kartering)\n",
                "        continue\n",
                "\n",
                "    print(f\"Gelukt!\")\n",
                "\n",
                "for row in shapefile_overzicht.itertuples():\n",
                "    print(f\"------ Inlezen {row.naam_kartering}\")\n",
                "\n",
                "    try:\n",
                "        welke_typologie = WelkeTypologie(row.welke_typologie)\n",
                "        karteringen[row.naam_kartering] = Kartering.from_shapefile(\n",
                "            Path(row.path_shapes),\n",
                "            vegtype_col_format=row.vegtype_col_format,\n",
                "            welke_typologie=welke_typologie,\n",
                "            ElmID_col=row.ElmID_col,\n",
                "            VvN_col=row.VvN_col.split(row.split_char) if row.VvN_col is not None else [],\n",
                "            SBB_col=row.SBB_col.split(row.split_char) if row.SBB_col is not None else [],\n",
                "            rVvN_col=[],\n",
                "            split_char=row.split_char,\n",
                "            datum_col=row.datum_col,\n",
                "            opmerking_col=row.opmerking_col,\n",
                "            perc_col=row.perc_col.split(row.split_char) if row.perc_col is not None else [],\n",
                "        )\n",
                "\n",
                "    except Exception as e:\n",
                "        print(e)\n",
                "        print(f\"!!! {row.naam_kartering} wordt overgeslagen !!!\")\n",
                "        mislukte_karteringen.append(row.naam_kartering)\n",
                "        continue\n",
                "\n",
                "    print(f\"Gelukt!\")\n",
                "\n",
                "if len(mislukte_karteringen) > 0:\n",
                "    print(f\"!!! De volgende karteringen zijn niet ingelezen !!!\")\n",
                "    print(mislukte_karteringen)"
            ]
        },
        {
            "cell_type": "markdown",
            "metadata": {},
            "source": [
                " ### Karteringen omzetten"
            ]
        },
        {
            "cell_type": "markdown",
            "metadata": {},
            "source": [
                "#### Was-wordt lijst toepassen"
            ]
        },
        {
            "cell_type": "code",
            "execution_count": null,
            "metadata": {},
            "outputs": [],
            "source": [
                "mislukte_karteringen = []\n",
                "\n",
                "for key, kartering in karteringen.items():\n",
                "    print(f\"------ Waswordtlijst toepassen {key}\")\n",
                "    try:\n",
                "        kartering.apply_wwl(wwl)\n",
                "    except Exception as e:\n",
                "        print(e)\n",
                "        print(f\"!!! Fout bij {key} !!!\")\n",
                "        mislukte_karteringen.append(key)\n",
                "        continue\n",
                "    print(f\"Gelukt!\")\n",
                "\n",
                "if len(mislukte_karteringen) > 0:\n",
                "    print(f\"!!! De volgende karteringen hebben een fout bij het toepassen van de was-wordt-lijst !!!\")\n",
                "    print(mislukte_karteringen)\n"
            ]
        },
        {
            "cell_type": "markdown",
            "metadata": {},
            "source": [
                "#### Definitietabel toepassen"
            ]
        },
        {
            "cell_type": "code",
            "execution_count": null,
            "metadata": {},
            "outputs": [],
            "source": [
                "mislukte_karteringen = []\n",
                "\n",
                "for key, kartering in karteringen.items():\n",
                "    print(f\"------ Definitietabel toepassen {key}\")\n",
                "    try:\n",
                "        kartering.apply_deftabel(dt)\n",
                "    except Exception as e:\n",
                "        print(e)\n",
                "        print(f\"!!! Fout bij {key} !!!\")\n",
                "        mislukte_karteringen.append(key)\n",
                "        continue\n",
                "    print(f\"Gelukt!\")\n",
                "\n",
                "if len(mislukte_karteringen) > 0:\n",
                "    print(f\"!!! De volgende karteringen hebben een fout bij het toepassen van de definitietabel!!!\")\n",
                "    print(mislukte_karteringen)\n"
            ]
        },
        {
            "cell_type": "markdown",
            "metadata": {},
            "source": [
                "#### Mitsen/Mozaiekregels checken en Habitatkeuzes bepalen"
            ]
        },
        {
            "cell_type": "code",
            "execution_count": null,
            "metadata": {},
            "outputs": [],
            "source": [
                "mislukte_karteringen = []\n",
                "\n",
                "for key, kartering in karteringen.items():\n",
                "    print(f\"------ Mitsen/Mozaiekregels checken {key}\")\n",
                "    try:\n",
                "        mask = kartering.get_geometry_mask()\n",
                "        lbk = LBK.from_file(Path(\"../testing/bronbestanden/lbk.shp\"), mask=mask)\n",
                "        bodemkaart = Bodemkaart.from_file(Path(\"../testing/bronbestanden/bodemkaart.gpkg\"), mask=mask)\n",
                "        kartering.bepaal_mits_habitatkeuzes(fgr, bodemkaart, lbk)\n",
                "        kartering.bepaal_mozaiek_habitatkeuzes()    \n",
                "    except Exception as e:\n",
                "        print(e)\n",
                "        print(f\"!!! Fout bij {key} !!!\")\n",
                "        mislukte_karteringen.append(key)\n",
                "        continue\n",
                "    print(f\"Gelukt!\")\n",
                "\n",
                "if len(mislukte_karteringen) > 0:\n",
                "    print(f\"!!! De volgende karteringen hebben een fout bij het toepassen checken van de criteria!!!\")\n",
                "    print(mislukte_karteringen)"
            ]
        },
        {
            "cell_type": "markdown",
            "metadata": {},
            "source": [
                "#### Minimum oppervlak en functionele samenhang checken"
            ]
        },
        {
            "cell_type": "code",
            "execution_count": null,
            "metadata": {},
            "outputs": [],
            "source": [
                "mislukte_karteringen = []\n",
                "\n",
                "for key, kartering in karteringen.items():\n",
                "    print(f\"------ Minimum oppervlak en functionele samenhang checken {key}\")\n",
                "    try:\n",
                "        kartering.functionele_samenhang()   \n",
                "    except Exception as e:\n",
                "        print(e)\n",
                "        print(f\"!!! Fout bij {key} !!!\")\n",
                "        mislukte_karteringen.append(key)\n",
                "        continue\n",
                "    print(f\"Gelukt!\")\n",
                "\n",
                "if len(mislukte_karteringen) > 0:\n",
                "    print(f\"!!! De volgende karteringen hebben een fout bij het checken van minimum oppervlak!!!\")\n",
                "    print(mislukte_karteringen)"
            ]
        },
        {
            "cell_type": "markdown",
            "metadata": {},
            "source": [
                " ### Karteringen wegschrijven"
            ]
        },
        {
            "cell_type": "code",
            "execution_count": null,
            "metadata": {},
            "outputs": [],
            "source": [
                "for gebied in (karteringen.keys()):\n",
                "    print(gebied)\n",
                "    # Vervangen van de shapefile path naar de output path\n",
                "    p = Path(overzicht[overzicht.naam_kartering == gebied].path_shapes.str.replace(opgeschoonde_shapefiles_prefix, output_prefix).iloc[0])\n",
                "    p = p.with_suffix('.gpkg')\n",
                "    p.parent.mkdir(parents=True, exist_ok=True)\n",
                "    karteringen[gebied].final_format_to_file(p)\n"
            ]
        },
        {
            "cell_type": "markdown",
            "metadata": {},
            "source": [
                "### Tijd bezig geweest"
            ]
        },
        {
            "cell_type": "code",
            "execution_count": null,
            "metadata": {},
            "outputs": [],
            "source": [
                "end_time = pd.Timestamp.now()\n",
                "secs = (end_time - start_time).total_seconds()\n",
                "print(f\"Totale tijd: {secs:.2f} seconden.\")\n",
                "\n",
                "# tel aantal vlakken\n",
                "n_vlakken = 0\n",
                "for kartering in karteringen.values():\n",
                "    n_vlakken += kartering.gdf.shape[0]\n",
                "\n",
                "# tel aantal keuzes\n",
                "n_keuzes = 0\n",
                "for kartering in karteringen.values():\n",
                "    n_keuzes += kartering.gdf.HabitatKeuze.apply(len).sum()\n",
                "\n",
                "print(f\"Er zijn {n_vlakken} vlakken en {n_keuzes} keuzes omgezet.\")\n",
                "\n",
                "vlakken_per_seconde = n_vlakken / secs\n",
                "keuzes_per_seconde = n_keuzes / secs\n",
                "\n",
                "print(f\"Dat is {vlakken_per_seconde:.2f} vlakken en {keuzes_per_seconde:.2f} keuzes per seconde.\")\n",
                "\n",
                "seconden_per_kartering = secs / len(karteringen)\n",
                "\n",
                "print(f\"Gemiddeld is dat {seconden_per_kartering:.2f} seconden per kartering.\")"
            ]
        },
        {
            "cell_type": "markdown",
            "metadata": {},
            "source": [
                "### Habitattypestats"
            ]
        },
        {
            "cell_type": "code",
            "execution_count": null,
            "metadata": {},
            "outputs": [],
            "source": [
                "from collections import defaultdict\n",
                "habdict = defaultdict(int)\n",
                "for kartering in karteringen.values():\n",
                "    for row in kartering.gdf.itertuples():\n",
                "        for keuze in row.HabitatKeuze:\n",
                "            habdict[keuze.habtype] += 1\n",
                "\n",
                "habdict = dict(sorted(habdict.items(), key=lambda item: item[1], reverse=True))\n",
                "habdict"
            ]
        }
    ],
    "metadata": {
        "kernelspec": {
            "display_name": "veg2hab-CuqoUkZb-py3.7",
            "language": "python",
            "name": "python3"
        },
        "language_info": {
            "codemirror_mode": {
                "name": "ipython",
                "version": 3
            },
            "file_extension": ".py",
            "mimetype": "text/x-python",
            "name": "python",
            "nbconvert_exporter": "python",
            "pygments_lexer": "ipython3",
            "version": "3.7.17"
        }
    },
    "nbformat": 4,
    "nbformat_minor": 2
}
