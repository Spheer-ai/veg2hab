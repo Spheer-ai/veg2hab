{
 "cells": [
  {
   "cell_type": "markdown",
   "metadata": {},
   "source": [
    "# Alle Karteringen omzetten\n",
    "\n",
    "Dit notebook voert alle karteringen via veg2hab naar een habitattypekartering. Instructies:\n",
    "\n",
    "- Kopieer de provinciefolders uit de OneDrive: `Spheer AI/Spheer AI - General/Projecten/Veg_2_Hab/Data/Vegetatiekarteringen` naar `testing/vegetatiekarteringen` (of naar iets anders, dan moet je `originele_karteringen_prefix` aanpassen onder **config**)\n",
    "- Eerst moeten sommige shapefiles opgeschoond worden. Dit kan met het `handmatig_opschonen_shapefiles.ipynb` notebook. Run deze als dat niet al eens gedaan is.\n",
    "- Zorg dat de paden `originele_karteringen_prefix` en `opgeschoonde_shapefiles_prefix` kloppen en overeenkomen met dezelfde paden in het `handmatig_opschonen_shapefiles.ipynb`. Deze prefixes zullen voor de paden vermeld in de spreadsheets geplakt worden.\n",
    "- Run de cellen. Deze zullen:\n",
    "  - Imports importen en het bestaan van de paden controleren. \n",
    "  - De voor het omzetten benodigde klassen instantieren; de was-wordt lijst, de definitietabel en de FGR kaart.\n",
    "  - Spreadsheets met daarin configuraties voor iedere kartering inlezen.\n",
    "  - Alle karteringen inladen in een grote dict.\n",
    "  - De volgende stappen een voor een op iedere kartering uitvoeren:\n",
    "    - De was-wordt lijst toepassen (toevoegen van VvN codes aan karteringen met enkel SBB).\n",
    "    - De definitietabel toepassen (het opstellen van habitatvoorstellen voor ieder vlak).\n",
    "    - De mitsen checken (eventuele criteria in de habitatvoorstellen checken) en voor ieder vegetatietype een habitatkeuze maken.\n",
    "    - De kartering formatten als een habitattypekartering en wegschrijven.  "
   ]
  },
  {
   "cell_type": "markdown",
   "metadata": {},
   "source": [
    "### Imports etc"
   ]
  },
  {
   "cell_type": "code",
   "execution_count": 1,
   "metadata": {},
   "outputs": [
    {
     "name": "stderr",
     "output_type": "stream",
     "text": [
      "/home/jordydelange/.cache/pypoetry/virtualenvs/veg2hab-CuqoUkZb-py3.7/lib/python3.7/site-packages/geopandas/_compat.py:115: UserWarning: The Shapely GEOS version (3.11.2-CAPI-1.17.2) is incompatible with the GEOS version PyGEOS was compiled with (3.10.4-CAPI-1.16.2). Conversions between both will be slow.\n",
      "  shapely_geos_version, geos_capi_version_string\n"
     ]
    }
   ],
   "source": [
    "from pathlib import Path\n",
    "import pandas as pd\n",
    "import geopandas as gpd\n",
    "import sys\n",
    "sys.path.append('../')\n",
    "\n",
    "from veg2hab.waswordtlijst import WasWordtLijst, opschonen_was_wordt_lijst\n",
    "from veg2hab.definitietabel import DefinitieTabel, opschonen_definitietabel\n",
    "from veg2hab.vegkartering import Kartering\n",
    "from veg2hab.fgr import FGR\n",
    "\n",
    "pd.set_option('display.max_columns', 100)\n",
    "pd.set_option('display.max_rows', 8)\n",
    "\n",
    "originele_karteringen_prefix = '../testing/vegetatiekarteringen/'\n",
    "opgeschoonde_shapefiles_prefix = '../testing/opgeschoonde_shapefiles/'\n",
    "output_prefix = '../testing/omgezette_vegetatiekarteringen/'\n",
    "\n",
    "assert Path(originele_karteringen_prefix).exists(), \\\n",
    "    f\"De map {originele_karteringen_prefix} bestaat niet. Zet hier de vegetatiekarteringen uit de onedrive in.\"\n",
    "\n",
    "assert Path(opgeschoonde_shapefiles_prefix).exists(), \\\n",
    "    f\"De map {opgeschoonde_shapefiles_prefix} bestaat niet. Maak deze eerst aan met het handmatig_opschonen_shapefiles.ipynb notebook.\"\n"
   ]
  },
  {
   "cell_type": "markdown",
   "metadata": {},
   "source": [
    "### Omzetclasses instantieren"
   ]
  },
  {
   "cell_type": "code",
   "execution_count": 2,
   "metadata": {},
   "outputs": [
    {
     "name": "stderr",
     "output_type": "stream",
     "text": [
      "/home/jordydelange/.cache/pypoetry/virtualenvs/veg2hab-CuqoUkZb-py3.7/lib/python3.7/site-packages/openpyxl/worksheet/header_footer.py:48: UserWarning: Cannot parse header or footer so it will be ignored\n",
      "  warn(\"\"\"Cannot parse header or footer so it will be ignored\"\"\")\n"
     ]
    },
    {
     "name": "stdout",
     "output_type": "stream",
     "text": [
      "Alle SBB codes zijn valide\n",
      "Alle VvN codes zijn valide\n",
      "Alle SBB codes zijn valide\n",
      "Alle VvN codes zijn valide\n",
      "Alle SBB codes zijn valide\n",
      "Alle VvN codes zijn valide\n"
     ]
    }
   ],
   "source": [
    "path_in_wwl = Path(\"../data/5. Was-wordt-lijst-vegetatietypen-en-habitattypen-09-02-2021.xlsx\")\n",
    "path_out_wwl = Path(\"../testing/opgeschoonde_waswordt.xlsx\")\n",
    "opschonen_was_wordt_lijst(path_in_wwl, path_out_wwl)\n",
    "wwl = WasWordtLijst.from_excel(path_out_wwl)\n",
    "\n",
    "path_in_dt = Path(\"../data/definitietabel habitattypen (versie 24 maart 2009)_0.xls\")\n",
    "path_in_mitsjson = Path(\"../data/mitsjson.csv\")\n",
    "path_out_dt = Path(\"../testing/opgeschoonde_definitietabel.xlsx\")\n",
    "opschonen_definitietabel(path_in_dt, path_in_mitsjson, path_out_dt)\n",
    "dt = DefinitieTabel.from_excel(path_out_dt)\n",
    "\n",
    "fgr = FGR(Path(\"../data/bronbestanden/FGR.json\"))"
   ]
  },
  {
   "cell_type": "markdown",
   "metadata": {},
   "source": [
    "### Inladen benodigde informatie\n",
    "\n",
    "**Overzicht_vegetatiekarteringen.xlsx** is uit de drive en weet van karteringen de provincie, naam, shapefile pad en of het een access of een shapefile kartering is.\n",
    "\n",
    "**accesskarteringinfo.xlsx** bevat voor de access karteringen de informatie die nodig is om een access kartering in te laden.\n",
    "\n",
    "**shapefilekarteringinfo.xlsx** bevat voor de shapefile karteringen de informatie die nodig is om een shapefile kartering in te laden.\n"
   ]
  },
  {
   "cell_type": "code",
   "execution_count": 3,
   "metadata": {},
   "outputs": [],
   "source": [
    "# info over de karteringen\n",
    "overzicht = pd.read_excel(\n",
    "    \"../data/Overzicht_vegetatiekarteringen.xlsx\", \n",
    "    sheet_name=\"Vegetatiekarteringen\", \n",
    "    engine='openpyxl',\n",
    "    usecols=[\n",
    "        \"provincie\", \n",
    "        \"naam_kartering\", \n",
    "        \"path_shapes\", \n",
    "        \"landelijke_typologie beschikbaar?\", \n",
    "        \"locatie_landelijke_typologie\",\n",
    "    ],\n",
    "    dtype=\"string\"\n",
    ")\n",
    "\n",
    "# benodigde info voor de access karteringen\n",
    "access_info = pd.read_excel(\n",
    "    \"../data/accesskarteringinfo.xlsx\",\n",
    "    engine='openpyxl',\n",
    "    usecols=[\n",
    "        \"naam_kartering\",\n",
    "        \"path_csvs\",\n",
    "        \"elm_id_name\",\n",
    "    ],\n",
    "    dtype=\"string\"\n",
    ")\n",
    "\n",
    "# benodigde info voor de shapefile karteringen\n",
    "shape_info = pd.read_excel(\n",
    "    \"../data/shapefilekarteringinfo.xlsx\",\n",
    "    engine='openpyxl',\n",
    "    usecols=[\n",
    "        \"naam_kartering\",\n",
    "        \"ElmID_col\",\n",
    "        \"datum_col\",\n",
    "        \"opmerking_col\",\n",
    "        \"vegtype_col_format\",\n",
    "        \"sbb_of_vvn\",\n",
    "        \"SBB_col\",\n",
    "        \"VvN_col\",\n",
    "        \"split_char\",\n",
    "        \"perc_col\",\n",
    "    ],\n",
    "    dtype=\"string\"\n",
    ")\n",
    "# Omzetten van pd.NA naar None om te voorkomen dat we overal \"if not pd.isna()\" moeten doen\n",
    "# NOTE: dit naar vegkaartering.py?\n",
    "shape_info = shape_info.applymap(lambda x: None if pd.isna(x) else x)\n",
    "\n",
    "overzicht = overzicht[overzicht[\"landelijke_typologie beschikbaar?\"] == \"Ja\"]\n",
    "# omzetten van ./PROVINCIE/gebied/gebied.shp naar ../testing/opgeschoonde_shapefiles/PROVINCIE/gebied/gebied.shp\n",
    "overzicht.path_shapes = overzicht.path_shapes.apply(lambda x: opgeschoonde_shapefiles_prefix + x[2:])\n",
    "\n",
    "access_overzicht = overzicht[overzicht[\"locatie_landelijke_typologie\"] == \"access\"]\n",
    "access_overzicht = access_overzicht.join(access_info.set_index(\"naam_kartering\"), on=\"naam_kartering\")\n",
    "# omzetten van ./PROVINPCIE/gebied/gebied.shp naar ../testing/vegetatiekarteringen/PROVINCIE/gebied/gebied.shp\n",
    "access_overzicht.path_csvs = access_overzicht.path_csvs.apply(lambda x: originele_karteringen_prefix + x[2:])\n",
    "\n",
    "shapefile_overzicht = overzicht[overzicht[\"locatie_landelijke_typologie\"] == \"in shapes\"]\n",
    "shapefile_overzicht = shapefile_overzicht.join(shape_info.set_index(\"naam_kartering\"), on=\"naam_kartering\")"
   ]
  },
  {
   "cell_type": "code",
   "execution_count": 4,
   "metadata": {},
   "outputs": [
    {
     "data": {
      "text/html": [
       "<div>\n",
       "<style scoped>\n",
       "    .dataframe tbody tr th:only-of-type {\n",
       "        vertical-align: middle;\n",
       "    }\n",
       "\n",
       "    .dataframe tbody tr th {\n",
       "        vertical-align: top;\n",
       "    }\n",
       "\n",
       "    .dataframe thead th {\n",
       "        text-align: right;\n",
       "    }\n",
       "</style>\n",
       "<table border=\"1\" class=\"dataframe\">\n",
       "  <thead>\n",
       "    <tr style=\"text-align: right;\">\n",
       "      <th></th>\n",
       "      <th>provincie</th>\n",
       "      <th>naam_kartering</th>\n",
       "      <th>path_shapes</th>\n",
       "      <th>landelijke_typologie beschikbaar?</th>\n",
       "      <th>locatie_landelijke_typologie</th>\n",
       "      <th>path_csvs</th>\n",
       "      <th>elm_id_name</th>\n",
       "    </tr>\n",
       "  </thead>\n",
       "  <tbody>\n",
       "    <tr>\n",
       "      <th>15</th>\n",
       "      <td>Drenthe</td>\n",
       "      <td>NM_Fochteloerveen_2020</td>\n",
       "      <td>../testing/opgeschoonde_shapefiles/DR Extra/de...</td>\n",
       "      <td>Ja</td>\n",
       "      <td>access</td>\n",
       "      <td>../testing/vegetatiekarteringen/DR Extra/defin...</td>\n",
       "      <td>ELMID</td>\n",
       "    </tr>\n",
       "    <tr>\n",
       "      <th>24</th>\n",
       "      <td>Drenthe extra</td>\n",
       "      <td>NM_DCR_2013</td>\n",
       "      <td>../testing/opgeschoonde_shapefiles/DR Extra/NM...</td>\n",
       "      <td>Ja</td>\n",
       "      <td>access</td>\n",
       "      <td>../testing/vegetatiekarteringen/DR Extra/NM_DC...</td>\n",
       "      <td>OBJECTID</td>\n",
       "    </tr>\n",
       "    <tr>\n",
       "      <th>26</th>\n",
       "      <td>Drenthe</td>\n",
       "      <td>NM_Westerbork2017</td>\n",
       "      <td>../testing/opgeschoonde_shapefiles/DR/NM_Weste...</td>\n",
       "      <td>Ja</td>\n",
       "      <td>access</td>\n",
       "      <td>../testing/vegetatiekarteringen/DR/NM_Westerbo...</td>\n",
       "      <td>ELMID</td>\n",
       "    </tr>\n",
       "    <tr>\n",
       "      <th>32</th>\n",
       "      <td>Drenthe</td>\n",
       "      <td>SBB0817_Grolloerveen2013</td>\n",
       "      <td>../testing/opgeschoonde_shapefiles/DR/SBB0817_...</td>\n",
       "      <td>Ja</td>\n",
       "      <td>access</td>\n",
       "      <td>../testing/vegetatiekarteringen/DR/SBB0817_Gro...</td>\n",
       "      <td>Elmid</td>\n",
       "    </tr>\n",
       "    <tr>\n",
       "      <th>...</th>\n",
       "      <td>...</td>\n",
       "      <td>...</td>\n",
       "      <td>...</td>\n",
       "      <td>...</td>\n",
       "      <td>...</td>\n",
       "      <td>...</td>\n",
       "      <td>...</td>\n",
       "    </tr>\n",
       "    <tr>\n",
       "      <th>72</th>\n",
       "      <td>Groningen</td>\n",
       "      <td>SBB Lauwersmeer 2015</td>\n",
       "      <td>../testing/opgeschoonde_shapefiles/GR/SBB Lauw...</td>\n",
       "      <td>Ja</td>\n",
       "      <td>access</td>\n",
       "      <td>../testing/vegetatiekarteringen/GR/SBB Lauwers...</td>\n",
       "      <td>ElmID</td>\n",
       "    </tr>\n",
       "    <tr>\n",
       "      <th>73</th>\n",
       "      <td>Groningen</td>\n",
       "      <td>SBB Westerwolde 2020</td>\n",
       "      <td>../testing/opgeschoonde_shapefiles/GR/SBB West...</td>\n",
       "      <td>Ja</td>\n",
       "      <td>access</td>\n",
       "      <td>../testing/vegetatiekarteringen/GR/SBB Westerw...</td>\n",
       "      <td>ELMID</td>\n",
       "    </tr>\n",
       "    <tr>\n",
       "      <th>75</th>\n",
       "      <td>Groningen</td>\n",
       "      <td>SBB ZWK 2010 0815_Trimunt_2010</td>\n",
       "      <td>../testing/opgeschoonde_shapefiles/GR/SBB ZWK ...</td>\n",
       "      <td>Ja</td>\n",
       "      <td>access</td>\n",
       "      <td>../testing/vegetatiekarteringen/GR/SBB ZWK 201...</td>\n",
       "      <td>Elmid</td>\n",
       "    </tr>\n",
       "    <tr>\n",
       "      <th>79</th>\n",
       "      <td>Groningen</td>\n",
       "      <td>SGL Zuidlaardermeer 2019</td>\n",
       "      <td>../testing/opgeschoonde_shapefiles/GR/SGL Zuid...</td>\n",
       "      <td>Ja</td>\n",
       "      <td>access</td>\n",
       "      <td>../testing/vegetatiekarteringen/GR/SGL Zuidlaa...</td>\n",
       "      <td>ELMID</td>\n",
       "    </tr>\n",
       "  </tbody>\n",
       "</table>\n",
       "<p>27 rows × 7 columns</p>\n",
       "</div>"
      ],
      "text/plain": [
       "        provincie                  naam_kartering  \\\n",
       "15        Drenthe          NM_Fochteloerveen_2020   \n",
       "24  Drenthe extra                     NM_DCR_2013   \n",
       "26        Drenthe               NM_Westerbork2017   \n",
       "32        Drenthe        SBB0817_Grolloerveen2013   \n",
       "..            ...                             ...   \n",
       "72      Groningen            SBB Lauwersmeer 2015   \n",
       "73      Groningen            SBB Westerwolde 2020   \n",
       "75      Groningen  SBB ZWK 2010 0815_Trimunt_2010   \n",
       "79      Groningen        SGL Zuidlaardermeer 2019   \n",
       "\n",
       "                                          path_shapes  \\\n",
       "15  ../testing/opgeschoonde_shapefiles/DR Extra/de...   \n",
       "24  ../testing/opgeschoonde_shapefiles/DR Extra/NM...   \n",
       "26  ../testing/opgeschoonde_shapefiles/DR/NM_Weste...   \n",
       "32  ../testing/opgeschoonde_shapefiles/DR/SBB0817_...   \n",
       "..                                                ...   \n",
       "72  ../testing/opgeschoonde_shapefiles/GR/SBB Lauw...   \n",
       "73  ../testing/opgeschoonde_shapefiles/GR/SBB West...   \n",
       "75  ../testing/opgeschoonde_shapefiles/GR/SBB ZWK ...   \n",
       "79  ../testing/opgeschoonde_shapefiles/GR/SGL Zuid...   \n",
       "\n",
       "   landelijke_typologie beschikbaar? locatie_landelijke_typologie  \\\n",
       "15                                Ja                       access   \n",
       "24                                Ja                       access   \n",
       "26                                Ja                       access   \n",
       "32                                Ja                       access   \n",
       "..                               ...                          ...   \n",
       "72                                Ja                       access   \n",
       "73                                Ja                       access   \n",
       "75                                Ja                       access   \n",
       "79                                Ja                       access   \n",
       "\n",
       "                                            path_csvs elm_id_name  \n",
       "15  ../testing/vegetatiekarteringen/DR Extra/defin...       ELMID  \n",
       "24  ../testing/vegetatiekarteringen/DR Extra/NM_DC...    OBJECTID  \n",
       "26  ../testing/vegetatiekarteringen/DR/NM_Westerbo...       ELMID  \n",
       "32  ../testing/vegetatiekarteringen/DR/SBB0817_Gro...       Elmid  \n",
       "..                                                ...         ...  \n",
       "72  ../testing/vegetatiekarteringen/GR/SBB Lauwers...       ElmID  \n",
       "73  ../testing/vegetatiekarteringen/GR/SBB Westerw...       ELMID  \n",
       "75  ../testing/vegetatiekarteringen/GR/SBB ZWK 201...       Elmid  \n",
       "79  ../testing/vegetatiekarteringen/GR/SGL Zuidlaa...       ELMID  \n",
       "\n",
       "[27 rows x 7 columns]"
      ]
     },
     "execution_count": 4,
     "metadata": {},
     "output_type": "execute_result"
    }
   ],
   "source": [
    "access_overzicht"
   ]
  },
  {
   "cell_type": "markdown",
   "metadata": {},
   "source": [
    "### Karteringen inladen\n",
    "\n",
    "Hier worden, adhv configuraties uit de spreadsheets, alle karteringen ingeladen. Als er een probleem is met een kartering, wordt deze overgeslagen en wordt een melding gegeven."
   ]
  },
  {
   "cell_type": "code",
   "execution_count": 5,
   "metadata": {},
   "outputs": [
    {
     "name": "stdout",
     "output_type": "stream",
     "text": [
      "------ Inlezen NM_Fochteloerveen_2020\n"
     ]
    },
    {
     "name": "stdout",
     "output_type": "stream",
     "text": [
      "Gelukt!\n",
      "------ Inlezen NM_DCR_2013\n",
      "Er zijn 476 vlakken zonder VegTypeInfo in ../testing/opgeschoonde_shapefiles/DR Extra/NM_DCR2013/NM_Fochteloerveen_DCR2013.shp. Deze worden verwijderd.\n",
      "De eerste paar ElmID van de verwijderde vlakken zijn: [nan, nan, nan, nan, nan]\n",
      "Gelukt!\n",
      "------ Inlezen NM_Westerbork2017\n",
      "Gelukt!\n",
      "------ Inlezen SBB0817_Grolloerveen2013\n",
      "Gelukt!\n",
      "------ Inlezen SBB0863_Elperstroom_Schoonloo2012\n",
      "Gelukt!\n",
      "------ Inlezen SBB0936_DrentseAa2015_16\n"
     ]
    },
    {
     "name": "stderr",
     "output_type": "stream",
     "text": [
<<<<<<< HEAD
      "/home/jordydelange/git/veg2hab/veg2hab/vegkartering.py:488: UserWarning: CRS van ../testing/opgeschoonde_shapefiles/DR/SBB0936_DrentseAa2015_16/SBB0936_DrentseAa2015_16.shp was None en is nu gelezen als EPSG:28992\n",
=======
      "/home/jordydelange/git/veg2hab/veg2hab/vegkartering.py:491: UserWarning: CRS van ../testing/opgeschoonde_shapefiles/DR/SBB0936_DrentseAa2015_16/SBB0936_DrentseAa2015_16.shp was None en is nu gelezen als EPSG:28992\n",
>>>>>>> master
      "  warnings.warn(f\"CRS van {shape_path} was None en is nu gelezen als EPSG:28992\")\n"
     ]
    },
    {
     "name": "stdout",
     "output_type": "stream",
     "text": [
      "Gelukt!\n",
<<<<<<< HEAD
      "------ Inlezen Fr 0752_Bakkefean_2009\n"
     ]
    },
    {
     "name": "stderr",
     "output_type": "stream",
     "text": [
      "/home/jordydelange/git/veg2hab/veg2hab/vegkartering.py:488: UserWarning: CRS van ../testing/opgeschoonde_shapefiles/FR/Bakkeveense_duinen/Fr 0752_Bakkefean_2009/Vlakken.shp was None en is nu gelezen als EPSG:28992\n",
      "  warnings.warn(f\"CRS van {shape_path} was None en is nu gelezen als EPSG:28992\")\n"
     ]
    },
    {
     "name": "stdout",
     "output_type": "stream",
     "text": [
      "Gelukt!\n",
      "------ Inlezen Slotplaats_2016\n",
      "Gelukt!\n",
      "------ Inlezen Ameland_2010\n"
     ]
    },
    {
     "name": "stderr",
     "output_type": "stream",
     "text": [
      "/home/jordydelange/git/veg2hab/veg2hab/vegkartering.py:488: UserWarning: CRS van ../testing/opgeschoonde_shapefiles/FR/Duinen_Ameland/Ameland_2010/vlakken.shp was None en is nu gelezen als EPSG:28992\n",
      "  warnings.warn(f\"CRS van {shape_path} was None en is nu gelezen als EPSG:28992\")\n"
     ]
    },
    {
     "name": "stdout",
     "output_type": "stream",
     "text": [
      "Gelukt!\n",
      "------ Inlezen Schiermonnikoog_2015\n",
      "Gelukt!\n",
      "------ Inlezen Schiermonnikoog_2017\n",
      "Gelukt!\n",
      "------ Inlezen Terschelling_2012\n"
     ]
    },
    {
     "name": "stderr",
     "output_type": "stream",
     "text": [
      "/home/jordydelange/git/veg2hab/veg2hab/vegkartering.py:488: UserWarning: CRS van ../testing/opgeschoonde_shapefiles/FR/Duinen_Terschelling/Terschelling_2012/vlakken.shp was None en is nu gelezen als EPSG:28992\n",
      "  warnings.warn(f\"CRS van {shape_path} was None en is nu gelezen als EPSG:28992\")\n"
     ]
    },
    {
     "name": "stdout",
     "output_type": "stream",
     "text": [
      "Gelukt!\n",
      "------ Inlezen Vlieland_2013\n",
      "Gelukt!\n",
      "------ Inlezen Lauwersmeer_Fryslan_2015\n",
      "Gelukt!\n",
      "------ Inlezen Rottige_Meenthe_Brandemeer_2013\n",
      "Gelukt!\n",
      "------ Inlezen Sneekermeergebied_2009_Terkaplester puollen\n",
      "Gelukt!\n",
      "------ Inlezen Bakkefean_2022\n",
      "Gelukt!\n",
      "------ Inlezen Snitsermar_2021\n",
      "Gelukt!\n",
      "------ Inlezen Deelen_2022\n",
      "Gelukt!\n",
      "------ Inlezen Tjonger_2021\n",
      "Er zijn 179 vlakken zonder VegTypeInfo in ../testing/opgeschoonde_shapefiles/FR Extra/Tjonger_2021_SBB/Shapefiles/Vlakken/Vlakken_inclSBBtyp.shp. Deze worden verwijderd.\n",
      "De eerste paar ElmID van de verwijderde vlakken zijn: [1, 2, 3, 4, 5]\n",
      "Gelukt!\n",
      "------ Inlezen Witte en zwarte brekken_2021\n",
      "Er zijn 16 vlakken zonder VegTypeInfo in ../testing/opgeschoonde_shapefiles/FR Extra/Witte en zwarte brekken Veg&Flora 2021/Shapefiles/Shapefiles/Vlakken.shp. Deze worden verwijderd.\n",
      "De eerste paar ElmID van de verwijderde vlakken zijn: [6, 19, 20, 33, 34]\n",
      "Gelukt!\n",
      "------ Inlezen NM vegetatiekartering RuitenAa2020\n",
      "Er is geen 1 op 1 relatie tussen Elmid in de shapefile en ElmID in de Element.csv. Er zitten dubbelingen in de shapefile, bijvoorbeeld Elmid: [8174, 11023, 11051]. Er zitten dubbelingen in Element.csv, bijvoorbeeld ElmID: [8174, 11023, 11051].\n",
      "!!! NM vegetatiekartering RuitenAa2020 wordt overgeslagen !!!\n",
      "------ Inlezen SBB Duurswold2013\n",
      "Gelukt!\n",
      "------ Inlezen SBB Lauwersmeer 2015\n",
      "Gelukt!\n",
      "------ Inlezen SBB Westerwolde 2020\n",
      "Gelukt!\n",
      "------ Inlezen SBB ZWK 2010 0815_Trimunt_2010\n",
      "Gelukt!\n",
      "------ Inlezen SGL Zuidlaardermeer 2019\n",
      "Gelukt!\n",
=======
>>>>>>> master
      "------ Inlezen Asserbos2015\n",
      "Gelukt!\n",
      "------ Inlezen BG_Drenthe2014\n",
      "Gelukt!\n",
      "------ Inlezen BG_Holtingerveld_bossen2016\n",
      "Gelukt!\n",
      "------ Inlezen BG_Hondsrug2019\n",
      "Gelukt!\n",
      "------ Inlezen BG_meerdere_terreinen2020\n",
<<<<<<< HEAD
      "Gelukt!\n",
      "------ Inlezen BG_Nolde2018\n",
      "Gelukt!\n",
      "------ Inlezen DEF_Holtingerveld2013\n",
      "Gelukt!\n",
      "------ Inlezen GL_Zuidlaardermeer2019\n",
      "Gelukt!\n",
      "------ Inlezen HDL_De_Stroeten2016\n",
      "Gelukt!\n",
      "------ Inlezen HDL_Hijkerveld-Smilder_oosterveld2018\n",
      "Gelukt!\n",
      "------ Inlezen HDL_Katteveen2019\n",
      "Gelukt!\n",
      "------ Inlezen HDL_meerdere_terreinen2016\n",
      "Gelukt!\n",
      "------ Inlezen HDL_meerdere_terreinen2017\n",
      "Gelukt!\n",
      "------ Inlezen IFG_DrentsFrieseWold2015\n",
      "Gelukt!\n",
      "------ Inlezen NM_Fochteloerveen2013_14\n",
      "Gelukt!\n",
      "------ Inlezen NM_Klencke2018\n",
      "Gelukt!\n",
      "------ Inlezen NM_Leggelderveld2020\n",
      "Er moet een SBB of VvN kolom zijn\n",
      "!!! NM_Leggelderveld2020 wordt overgeslagen !!!\n",
      "------ Inlezen NM_Mantingerveld2020\n",
      "Gelukt!\n",
      "------ Inlezen NM_Mantingerweiden2010\n"
     ]
    },
    {
     "name": "stderr",
     "output_type": "stream",
     "text": [
      "/home/jordydelange/git/veg2hab/veg2hab/vegkartering.py:488: UserWarning: CRS van ../testing/opgeschoonde_shapefiles/DR/NM_Mantingerweiden2010/NM_Mantingerweiden2010.shp was None en is nu gelezen als EPSG:28992\n",
      "  warnings.warn(f\"CRS van {shape_path} was None en is nu gelezen als EPSG:28992\")\n"
     ]
    },
    {
     "name": "stdout",
     "output_type": "stream",
     "text": [
      "Gelukt!\n",
      "------ Inlezen NM_Norg_heiden2020\n",
      "Gelukt!\n",
      "------ Inlezen NM_NorgerBeekdal2018\n",
      "Gelukt!\n",
      "------ Inlezen Bosgroep_SNLMonitoring_2014\n",
      "Gelukt!\n",
      "------ Inlezen NM_SBB_Fochteloerveen_randen2016\n",
      "Gelukt!\n",
      "------ Inlezen PRV_Witterdiep2021\n",
      "Gelukt!\n",
      "------ Inlezen SBB0756_Drentsche_A2009\n",
      "Gelukt!\n",
      "------ Inlezen SBB0757_De_Velden2009\n",
      "Gelukt!\n",
      "------ Inlezen SBB0763_Terhorst2009\n",
      "Gelukt!\n",
      "------ Inlezen SBB0816_Norg2010\n",
      "Gelukt!\n",
      "------ Inlezen SBB0881_SBB_Ruinen_Havelterberg2013\n",
      "Gelukt!\n",
      "------ Inlezen SBB0935_DrentsFrieseWold2015\n",
      "Gelukt!\n",
      "------ Inlezen SBB0982_Wijster2017\n"
     ]
    },
    {
     "name": "stderr",
     "output_type": "stream",
     "text": [
      "/home/jordydelange/git/veg2hab/veg2hab/vegkartering.py:488: UserWarning: CRS van ../testing/opgeschoonde_shapefiles/DR/SBB0982_Wijster2017/SBB0982_Wijster_Ruinen_Hooghalen2017.shp was None en is nu gelezen als EPSG:28992\n",
      "  warnings.warn(f\"CRS van {shape_path} was None en is nu gelezen als EPSG:28992\")\n"
     ]
    },
    {
     "name": "stdout",
     "output_type": "stream",
     "text": [
      "Gelukt!\n",
      "------ Inlezen SBB1014_SBB_Kop_van_Drenthe2018\n",
      "Gelukt!\n",
      "------ Inlezen SBB1015_ HartvanDrenthe2018\n",
      "Gelukt!\n",
      "------ Inlezen SBB1034_Dwingelderveld2017\n",
      "Gelukt!\n",
      "------ Inlezen SBB1039_Drenthe2019\n",
      "Gelukt!\n",
      "------ Inlezen SBB1471_DrentsFrieseWold2008\n",
      "Gelukt!\n",
      "------ Inlezen Drouwenerzand_2020\n",
      "Gelukt!\n",
      "------ Inlezen NM_Mantingerbos_2015\n",
      "Gelukt!\n",
      "------ Inlezen Mandefjild_2015\n",
      "Gelukt!\n",
      "------ Inlezen KetlikerSkar_2016\n",
      "Gelukt!\n",
      "------ Inlezen Sneekermeergebied_2009\n",
      "Gelukt!\n",
      "------ Inlezen Tsjonger_Middenloop\n",
      "Gelukt!\n",
      "------ Inlezen SBB ZWK 2010 0814_Tussen de Gasten 2010\n",
      "Gelukt!\n",
      "------ Inlezen SGL Hunzedal en Leekstermeer2021 Hunzedal\n",
      "Gelukt!\n",
      "------ Inlezen SGL Hunzedal en Leekstermeer2021 Leekstermeer 2021\n",
      "Gelukt!\n",
      "!!! De volgende karteringen zijn niet ingelezen !!!\n",
      "['NM vegetatiekartering RuitenAa2020', 'NM_Leggelderveld2020']\n"
=======
      "Gelukt!\n"
>>>>>>> master
     ]
    }
   ],
   "source": [
    "karteringen = {}\n",
    "mislukte_karteringen = []\n",
    "\n",
    "for row in access_overzicht.itertuples():\n",
    "    print(f\"------ Inlezen {row.naam_kartering}\")\n",
    "    try:\n",
    "        karteringen[row.naam_kartering] = Kartering.from_access_db(Path(row.path_shapes), row.elm_id_name, Path(row.path_csvs))\n",
    "        \n",
    "    except Exception as e:\n",
    "        print(e)\n",
    "        print(f\"!!! {row.naam_kartering} wordt overgeslagen !!!\")\n",
    "        mislukte_karteringen.append(row.naam_kartering)\n",
    "        continue\n",
    "\n",
    "    print(f\"Gelukt!\")\n",
    "\n",
    "for row in shapefile_overzicht.itertuples():\n",
    "    print(f\"------ Inlezen {row.naam_kartering}\")\n",
    "    try:\n",
    "        karteringen[row.naam_kartering] = Kartering.from_shapefile(\n",
    "            Path(row.path_shapes),\n",
    "            row.ElmID_col,\n",
    "            vegtype_col_format=row.vegtype_col_format,\n",
    "            sbb_of_vvn=row.sbb_of_vvn,\n",
    "            VvN_col=row.VvN_col,\n",
    "            SBB_col=row.SBB_col, \n",
    "            split_char=row.split_char, \n",
    "            datum_col=row.datum_col, \n",
    "            opmerking_col=row.opmerking_col,\n",
    "            perc_col=row.perc_col  \n",
    "        )\n",
    "    \n",
    "    except Exception as e:\n",
    "        print(e)\n",
    "        print(f\"!!! {row.naam_kartering} wordt overgeslagen !!!\")\n",
    "        mislukte_karteringen.append(row.naam_kartering)\n",
    "        continue\n",
    "\n",
    "    print(f\"Gelukt!\")\n",
    "\n",
    "if len(mislukte_karteringen) > 0:\n",
    "    print(f\"!!! De volgende karteringen zijn niet ingelezen !!!\")\n",
    "    print(mislukte_karteringen)"
   ]
  },
  {
   "cell_type": "markdown",
   "metadata": {},
   "source": [
    "### Karteringen omzetten"
   ]
  },
  {
   "cell_type": "code",
   "execution_count": 6,
   "metadata": {},
   "outputs": [
    {
     "name": "stdout",
     "output_type": "stream",
     "text": [
      "------ Waswordtlijst toepassen NM_Fochteloerveen_2020\n",
      "Gelukt!\n",
      "------ Waswordtlijst toepassen NM_DCR_2013\n",
      "Gelukt!\n",
      "------ Waswordtlijst toepassen NM_Westerbork2017\n",
      "Gelukt!\n",
      "------ Waswordtlijst toepassen SBB0817_Grolloerveen2013\n",
      "Gelukt!\n",
      "------ Waswordtlijst toepassen SBB0863_Elperstroom_Schoonloo2012\n",
      "Gelukt!\n",
      "------ Waswordtlijst toepassen SBB0936_DrentseAa2015_16\n",
      "Gelukt!\n",
      "------ Waswordtlijst toepassen Asserbos2015\n",
      "Gelukt!\n",
      "------ Waswordtlijst toepassen BG_Drenthe2014\n",
      "Gelukt!\n",
      "------ Waswordtlijst toepassen BG_Holtingerveld_bossen2016\n",
      "Gelukt!\n",
      "------ Waswordtlijst toepassen BG_Hondsrug2019\n",
      "Gelukt!\n",
      "------ Waswordtlijst toepassen BG_meerdere_terreinen2020\n",
<<<<<<< HEAD
      "Gelukt!\n",
      "------ Waswordtlijst toepassen BG_Nolde2018\n",
      "Gelukt!\n",
      "------ Waswordtlijst toepassen DEF_Holtingerveld2013\n",
      "Gelukt!\n",
      "------ Waswordtlijst toepassen GL_Zuidlaardermeer2019\n",
      "Gelukt!\n",
      "------ Waswordtlijst toepassen HDL_De_Stroeten2016\n",
      "Gelukt!\n",
      "------ Waswordtlijst toepassen HDL_Hijkerveld-Smilder_oosterveld2018\n",
      "Gelukt!\n",
      "------ Waswordtlijst toepassen HDL_Katteveen2019\n",
      "Gelukt!\n",
      "------ Waswordtlijst toepassen HDL_meerdere_terreinen2016\n",
      "Gelukt!\n",
      "------ Waswordtlijst toepassen HDL_meerdere_terreinen2017\n",
      "Gelukt!\n",
      "------ Waswordtlijst toepassen IFG_DrentsFrieseWold2015\n",
      "Gelukt!\n",
      "------ Waswordtlijst toepassen NM_Fochteloerveen2013_14\n",
      "Gelukt!\n",
      "------ Waswordtlijst toepassen NM_Klencke2018\n",
      "Gelukt!\n",
      "------ Waswordtlijst toepassen NM_Mantingerveld2020\n",
      "Gelukt!\n",
      "------ Waswordtlijst toepassen NM_Mantingerweiden2010\n",
      "Gelukt!\n",
      "------ Waswordtlijst toepassen NM_Norg_heiden2020\n",
      "Gelukt!\n",
      "------ Waswordtlijst toepassen NM_NorgerBeekdal2018\n",
      "Gelukt!\n",
      "------ Waswordtlijst toepassen Bosgroep_SNLMonitoring_2014\n",
      "Gelukt!\n",
      "------ Waswordtlijst toepassen NM_SBB_Fochteloerveen_randen2016\n",
      "Gelukt!\n",
      "------ Waswordtlijst toepassen PRV_Witterdiep2021\n",
      "Gelukt!\n",
<<<<<<< HEAD
      "------ Waswordtlijst toepassen SBB0756_Drentsche_A2009\n",
      "Gelukt!\n",
      "------ Waswordtlijst toepassen SBB0757_De_Velden2009\n",
      "Gelukt!\n",
      "------ Waswordtlijst toepassen SBB0763_Terhorst2009\n",
      "Gelukt!\n",
      "------ Waswordtlijst toepassen SBB0816_Norg2010\n"
=======
      "Gelukt!\n"
>>>>>>> master
=======
      "------ Waswordtlijst toepassen SBB0756_Drentsche_A2009\n"
>>>>>>> b45efc2 (moved mozaiek things from criteria to mozaiek.py)
     ]
    },
    {
     "name": "stderr",
     "output_type": "stream",
     "text": [
<<<<<<< HEAD
      "/home/jordydelange/git/veg2hab/veg2hab/vegkartering.py:900: UserWarning: Er zijn al VvN aanwezig in de kartering. De was-wordt lijst wordt niet toegepast.\n",
      "  \"Er zijn al VvN aanwezig in de kartering. De was-wordt lijst wordt niet toegepast.\"\n"
     ]
    },
    {
     "name": "stdout",
     "output_type": "stream",
     "text": [
      "Gelukt!\n",
<<<<<<< HEAD
=======
      "------ Waswordtlijst toepassen SBB0757_De_Velden2009\n",
      "Gelukt!\n",
      "------ Waswordtlijst toepassen SBB0763_Terhorst2009\n",
      "Gelukt!\n",
      "------ Waswordtlijst toepassen SBB0816_Norg2010\n",
      "Gelukt!\n",
>>>>>>> b45efc2 (moved mozaiek things from criteria to mozaiek.py)
      "------ Waswordtlijst toepassen SBB0881_SBB_Ruinen_Havelterberg2013\n",
      "Gelukt!\n",
      "------ Waswordtlijst toepassen SBB0935_DrentsFrieseWold2015\n",
      "Gelukt!\n",
      "------ Waswordtlijst toepassen SBB0982_Wijster2017\n",
      "Gelukt!\n",
      "------ Waswordtlijst toepassen SBB1014_SBB_Kop_van_Drenthe2018\n",
      "Gelukt!\n",
      "------ Waswordtlijst toepassen SBB1015_ HartvanDrenthe2018\n",
      "Gelukt!\n",
      "------ Waswordtlijst toepassen SBB1034_Dwingelderveld2017\n",
      "Gelukt!\n",
      "------ Waswordtlijst toepassen SBB1039_Drenthe2019\n",
      "Gelukt!\n",
      "------ Waswordtlijst toepassen SBB1471_DrentsFrieseWold2008\n",
      "Gelukt!\n",
      "------ Waswordtlijst toepassen Drouwenerzand_2020\n",
      "Gelukt!\n",
      "------ Waswordtlijst toepassen NM_Mantingerbos_2015\n",
      "Gelukt!\n",
      "------ Waswordtlijst toepassen Mandefjild_2015\n",
      "Gelukt!\n",
      "------ Waswordtlijst toepassen KetlikerSkar_2016\n",
      "Gelukt!\n",
      "------ Waswordtlijst toepassen Sneekermeergebied_2009\n",
      "Gelukt!\n",
      "------ Waswordtlijst toepassen Tsjonger_Middenloop\n",
      "Gelukt!\n",
      "------ Waswordtlijst toepassen SBB ZWK 2010 0814_Tussen de Gasten 2010\n",
      "Gelukt!\n",
      "------ Waswordtlijst toepassen SGL Hunzedal en Leekstermeer2021 Hunzedal\n",
      "Gelukt!\n",
      "------ Waswordtlijst toepassen SGL Hunzedal en Leekstermeer2021 Leekstermeer 2021\n",
      "Gelukt!\n"
     ]
=======
      "/home/jordydelange/git/veg2hab/veg2hab/vegkartering.py:903: UserWarning: Er zijn al VvN aanwezig in de kartering. De was-wordt lijst wordt niet toegepast.\n",
      "  \"Er zijn al VvN aanwezig in de kartering. De was-wordt lijst wordt niet toegepast.\"\n"
     ]
>>>>>>> master
    }
   ],
   "source": [
    "mislukte_karteringen = []\n",
    "\n",
    "for key, kartering in karteringen.items():\n",
    "    print(f\"------ Waswordtlijst toepassen {key}\")\n",
    "    try:\n",
    "        kartering.apply_wwl(wwl)    \n",
    "    except Exception as e:\n",
    "        print(e)\n",
    "        print(f\"!!! Fout bij {key} !!!\")\n",
    "        mislukte_karteringen.append(key)\n",
    "        continue\n",
    "    print(f\"Gelukt!\")\n",
    "\n",
    "if len(mislukte_karteringen) > 0:\n",
    "    print(f\"!!! De volgende karteringen hebben een fout bij het toepassen van de was-wordt-lijst !!!\")\n",
    "    print(mislukte_karteringen)"
   ]
  },
  {
   "cell_type": "code",
   "execution_count": 7,
   "metadata": {},
   "outputs": [
    {
     "name": "stdout",
     "output_type": "stream",
     "text": [
      "------ Definitietabel toepassen NM_Fochteloerveen_2020\n",
      "Gelukt!\n",
      "------ Definitietabel toepassen NM_DCR_2013\n",
      "Gelukt!\n",
      "------ Definitietabel toepassen NM_Westerbork2017\n",
      "Gelukt!\n",
      "------ Definitietabel toepassen SBB0817_Grolloerveen2013\n",
      "Gelukt!\n",
      "------ Definitietabel toepassen SBB0863_Elperstroom_Schoonloo2012\n",
      "Gelukt!\n",
      "------ Definitietabel toepassen SBB0936_DrentseAa2015_16\n",
      "Gelukt!\n",
      "------ Definitietabel toepassen Asserbos2015\n",
      "Gelukt!\n",
      "------ Definitietabel toepassen BG_Drenthe2014\n",
      "Gelukt!\n",
      "------ Definitietabel toepassen BG_Holtingerveld_bossen2016\n",
      "Gelukt!\n",
      "------ Definitietabel toepassen BG_Hondsrug2019\n",
      "Gelukt!\n",
      "------ Definitietabel toepassen BG_meerdere_terreinen2020\n",
      "Gelukt!\n"
     ]
    }
   ],
   "source": [
    "mislukte_karteringen = []\n",
    "\n",
    "for key, kartering in karteringen.items():\n",
    "    print(f\"------ Definitietabel toepassen {key}\")\n",
    "    try:  \n",
    "        kartering.apply_deftabel(dt)        \n",
    "    except Exception as e:\n",
    "        print(e)\n",
    "        print(f\"!!! Fout bij {key} !!!\")\n",
    "        mislukte_karteringen.append(key)\n",
    "        continue\n",
    "    print(f\"Gelukt!\")\n",
    "\n",
    "if len(mislukte_karteringen) > 0:\n",
    "    print(f\"!!! De volgende karteringen hebben een fout bij het toepassen van de definitietabel!!!\")\n",
    "    print(mislukte_karteringen)"
   ]
  },
  {
   "cell_type": "code",
   "execution_count": 8,
   "metadata": {},
   "outputs": [
    {
     "name": "stdout",
     "output_type": "stream",
     "text": [
      "------ Criteria checken NM_Fochteloerveen_2020\n",
      "Gelukt!\n",
      "------ Criteria checken NM_DCR_2013\n",
      "Gelukt!\n",
      "------ Criteria checken NM_Westerbork2017\n",
      "Gelukt!\n",
      "------ Criteria checken SBB0817_Grolloerveen2013\n",
      "Gelukt!\n",
      "------ Criteria checken SBB0863_Elperstroom_Schoonloo2012\n",
      "Gelukt!\n",
      "------ Criteria checken SBB0936_DrentseAa2015_16\n",
      "Gelukt!\n",
      "------ Criteria checken Asserbos2015\n",
      "Gelukt!\n",
      "------ Criteria checken BG_Drenthe2014\n",
      "Gelukt!\n",
      "------ Criteria checken BG_Holtingerveld_bossen2016\n",
      "Gelukt!\n",
      "------ Criteria checken BG_Hondsrug2019\n",
      "Gelukt!\n",
      "------ Criteria checken BG_meerdere_terreinen2020\n",
      "Gelukt!\n"
     ]
    }
   ],
   "source": [
    "mislukte_karteringen = []\n",
    "\n",
    "for key, kartering in karteringen.items():\n",
    "    print(f\"------ Criteria checken {key}\")\n",
    "    try:\n",
    "        kartering.check_mitsen(fgr)    \n",
    "    except Exception as e:\n",
    "        print(e)\n",
    "        print(f\"!!! Fout bij {key} !!!\")\n",
    "        mislukte_karteringen.append(key)\n",
    "        continue\n",
    "    print(f\"Gelukt!\")\n",
    "\n",
    "if len(mislukte_karteringen) > 0:\n",
    "    print(f\"!!! De volgende karteringen hebben een fout bij het toepassen checken van de criteria!!!\")\n",
    "    print(mislukte_karteringen)"
   ]
  },
  {
   "cell_type": "markdown",
   "metadata": {},
   "source": [
    "### Karteringen wegschrijven"
   ]
  },
  {
   "cell_type": "code",
   "execution_count": 10,
   "metadata": {},
   "outputs": [
    {
     "name": "stdout",
     "output_type": "stream",
     "text": [
      "NM_Fochteloerveen_2020\n",
      "NM_DCR_2013\n",
      "NM_Westerbork2017\n",
      "SBB0817_Grolloerveen2013\n",
      "SBB0863_Elperstroom_Schoonloo2012\n",
      "SBB0936_DrentseAa2015_16\n"
     ]
    },
    {
     "name": "stderr",
     "output_type": "stream",
     "text": [
<<<<<<< HEAD
      "/home/jordydelange/git/veg2hab/veg2hab/vegkartering.py:1042: UserWarning: Column names longer than 10 characters will be truncated when saved to ESRI Shapefile.\n",
=======
      "/home/jordydelange/git/veg2hab/veg2hab/vegkartering.py:1047: UserWarning: Column names longer than 10 characters will be truncated when saved to ESRI Shapefile.\n",
>>>>>>> master
      "  final.to_file(path)\n"
     ]
    },
    {
     "name": "stdout",
     "output_type": "stream",
     "text": [
      "Asserbos2015\n",
      "BG_Drenthe2014\n",
      "BG_Holtingerveld_bossen2016\n",
      "BG_Hondsrug2019\n",
      "BG_meerdere_terreinen2020\n"
     ]
    }
   ],
   "source": [
    "for gebied in (karteringen.keys()):\n",
    "    print(gebied)\n",
    "    # Vervangen van de shapefile path naar de output path\n",
    "    p = Path(overzicht[overzicht.naam_kartering == gebied].path_shapes.str.replace(opgeschoonde_shapefiles_prefix, output_prefix).iloc[0])\n",
    "    p.parent.mkdir(parents=True, exist_ok=True)\n",
    "    karteringen[gebied].final_format_to_file(p)"
   ]
  }
 ],
 "metadata": {
  "kernelspec": {
   "display_name": "veg2hab-CuqoUkZb-py3.7",
   "language": "python",
   "name": "python3"
  },
  "language_info": {
   "codemirror_mode": {
    "name": "ipython",
    "version": 3
   },
   "file_extension": ".py",
   "mimetype": "text/x-python",
   "name": "python",
   "nbconvert_exporter": "python",
   "pygments_lexer": "ipython3",
   "version": "3.7.17"
  }
 },
 "nbformat": 4,
 "nbformat_minor": 2
}
