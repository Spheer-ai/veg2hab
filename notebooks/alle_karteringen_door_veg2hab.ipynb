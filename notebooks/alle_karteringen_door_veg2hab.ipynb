{
    "cells": [
        {
            "cell_type": "markdown",
            "metadata": {},
            "source": [
                " # Alle Karteringen omzetten\n",
                "\n",
                " Dit notebook voert alle karteringen via veg2hab naar een habitattypekartering. Instructies:\n",
                "\n",
                " - Kopieer de provinciefolders uit de OneDrive: `Spheer AI/Spheer AI - General/Projecten/Veg_2_Hab/Data/Vegetatiekarteringen` naar `testing/vegetatiekarteringen` (of naar iets anders, dan moet je `originele_karteringen_prefix` aanpassen onder **config**)\n",
                " - Eerst moeten sommige shapefiles opgeschoond worden. Dit kan met het `handmatig_opschonen_shapefiles.ipynb` notebook. Run deze als dat niet al eens gedaan is.\n",
                " - Zorg dat de paden `originele_karteringen_prefix` en `opgeschoonde_shapefiles_prefix` kloppen en overeenkomen met dezelfde paden in het `handmatig_opschonen_shapefiles.ipynb`. Deze prefixes zullen voor de paden vermeld in de spreadsheets geplakt worden.\n",
                " - Run de cellen. Deze zullen:\n",
                "   - Imports importen en het bestaan van de paden controleren.\n",
                "   - De voor het omzetten benodigde klassen instantieren; de was-wordt lijst, de definitietabel en de FGR kaart.\n",
                "   - Spreadsheets met daarin configuraties voor iedere kartering inlezen.\n",
                "   - Alle karteringen inladen in een grote dict.\n",
                "   - De volgende stappen een voor een op iedere kartering uitvoeren:\n",
                "     - De was-wordt lijst toepassen (toevoegen van VvN codes aan karteringen met enkel SBB).\n",
                "     - De definitietabel toepassen (het opstellen van habitatvoorstellen voor ieder vlak).\n",
                "     - De mitsen checken (eventuele criteria in de habitatvoorstellen checken) en voor ieder vegetatietype een habitatkeuze maken.\n",
                "     - De kartering formatten als een habitattypekartering en wegschrijven."
            ]
        },
        {
            "cell_type": "markdown",
            "metadata": {},
            "source": [
                " ### Imports etc"
            ]
        },
        {
            "cell_type": "code",
            "execution_count": 1,
            "metadata": {},
            "outputs": [
                {
                    "name": "stderr",
                    "output_type": "stream",
                    "text": [
                        "/home/jordydelange/.cache/pypoetry/virtualenvs/veg2hab-CuqoUkZb-py3.7/lib/python3.7/site-packages/geopandas/_compat.py:115: UserWarning: The Shapely GEOS version (3.11.2-CAPI-1.17.2) is incompatible with the GEOS version PyGEOS was compiled with (3.10.4-CAPI-1.16.2). Conversions between both will be slow.\n",
                        "  shapely_geos_version, geos_capi_version_string\n"
                    ]
                }
            ],
            "source": [
                "from pathlib import Path\n",
                "import pandas as pd\n",
                "import geopandas as gpd\n",
                "import sys\n",
                "sys.path.append('../')\n",
                "\n",
                "from veg2hab.waswordtlijst import WasWordtLijst, opschonen_waswordtlijst\n",
                "from veg2hab.definitietabel import DefinitieTabel, opschonen_definitietabel\n",
                "from veg2hab.vegkartering import Kartering\n",
                "from veg2hab.bronnen import FGR, LBK, Bodemkaart\n",
                "from veg2hab.io.cli import CLIInterface\n",
                "\n",
                "CLIInterface.get_instance()\n",
                "\n",
                "pd.set_option('display.max_columns', 100)\n",
                "pd.set_option('display.max_rows', 8)\n",
                "\n",
                "originele_karteringen_prefix = '../testing/vegetatiekarteringen/'\n",
                "opgeschoonde_shapefiles_prefix = '../testing/opgeschoonde_shapefiles/'\n",
                "output_prefix = '../testing/omgezette_vegetatiekarteringen/'\n",
                "\n",
                "assert Path(originele_karteringen_prefix).exists(), \\\n",
                "    f\"De map {originele_karteringen_prefix} bestaat niet. Zet hier de vegetatiekarteringen uit de onedrive in.\"\n",
                "\n",
                "assert Path(opgeschoonde_shapefiles_prefix).exists(), \\\n",
                "    f\"De map {opgeschoonde_shapefiles_prefix} bestaat niet. Maak deze eerst aan met het handmatig_opschonen_shapefiles.ipynb notebook.\"\n",
                "\n",
                "start_time = pd.Timestamp.now()"
            ]
        },
        {
            "cell_type": "markdown",
            "metadata": {},
            "source": [
                " ### Omzetclasses instantieren"
            ]
        },
        {
            "cell_type": "code",
            "execution_count": 2,
            "metadata": {},
            "outputs": [
                {
                    "name": "stderr",
                    "output_type": "stream",
                    "text": [
                        "/home/jordydelange/.cache/pypoetry/virtualenvs/veg2hab-CuqoUkZb-py3.7/lib/python3.7/site-packages/openpyxl/worksheet/header_footer.py:48: UserWarning: Cannot parse header or footer so it will be ignored\n",
                        "  warn(\"\"\"Cannot parse header or footer so it will be ignored\"\"\")\n"
                    ]
                },
                {
                    "name": "stdout",
                    "output_type": "stream",
                    "text": [
                        "Alle SBB codes zijn valide\n",
                        "Alle VvN codes zijn valide\n",
                        "Alle SBB codes zijn valide\n",
                        "Alle VvN codes zijn valide\n",
                        "Alle SBB codes zijn valide\n",
                        "Alle VvN codes zijn valide\n"
                    ]
                }
            ],
            "source": [
                "path_in_wwl = Path(\"../data/5. Was-wordt-lijst-vegetatietypen-en-habitattypen-09-02-2021.xlsx\")\n",
                "path_out_wwl = Path(\"../testing/opgeschoonde_waswordt.xlsx\")\n",
                "opschonen_waswordtlijst(path_in_wwl, path_out_wwl)\n",
                "wwl = WasWordtLijst.from_excel(path_out_wwl)\n",
                "\n",
                "path_in_dt = Path(\"../data/definitietabel habitattypen (versie 24 maart 2009)_0.xls\")\n",
                "path_in_mitsjson = Path(\"../data/mitsjson.json\")\n",
                "path_in_mozaiekjson = Path(\"../data/mozaiekjson.json\")\n",
                "path_out_dt = Path(\"../testing/opgeschoonde_definitietabel.xlsx\")\n",
                "opschonen_definitietabel(path_in_dt, path_in_mitsjson, path_in_mozaiekjson, path_out_dt)\n",
                "dt = DefinitieTabel.from_excel(path_out_dt)\n",
                "\n",
                "fgr = FGR(Path(\"../data/bronbestanden/FGR.json\"))\n"
            ]
        },
        {
            "cell_type": "markdown",
            "metadata": {},
            "source": [
                " ### Inladen benodigde informatie\n",
                "\n",
                " **Overzicht_vegetatiekarteringen.xlsx** is uit de drive en weet van karteringen de provincie, naam, shapefile pad en of het een access of een shapefile kartering is.\n",
                "\n",
                " **accesskarteringinfo.xlsx** bevat voor de access karteringen de informatie die nodig is om een access kartering in te laden.\n",
                "\n",
                " **shapefilekarteringinfo.xlsx** bevat voor de shapefile karteringen de informatie die nodig is om een shapefile kartering in te laden.\n"
            ]
        },
        {
            "cell_type": "code",
            "execution_count": 3,
            "metadata": {},
            "outputs": [],
            "source": [
                "# info over de karteringen\n",
                "overzicht = pd.read_excel(\n",
                "    \"../testing/Overzicht_vegetatiekarteringen.xlsx\",\n",
                "    sheet_name=\"Vegetatiekarteringen\",\n",
                "    engine='openpyxl',\n",
                "    usecols=[\n",
                "        \"provincie\",\n",
                "        \"naam_kartering\",\n",
                "        \"path_shapes\",\n",
                "        \"landelijke_typologie beschikbaar?\",\n",
                "        \"locatie_landelijke_typologie\",\n",
                "    ],\n",
                "    dtype=\"string\"\n",
                ")\n",
                "\n",
                "# benodigde info voor de access karteringen\n",
                "access_info = pd.read_excel(\n",
                "    \"../testing/accesskarteringinfo.xlsx\",\n",
                "    engine='openpyxl',\n",
                "    usecols=[\n",
                "        \"naam_kartering\",\n",
                "        \"path_csvs\",\n",
                "        \"elm_id_name\",\n",
                "    ],\n",
                "    dtype=\"string\"\n",
                ")\n",
                "\n",
                "# benodigde info voor de shapefile karteringen\n",
                "shape_info = pd.read_excel(\n",
                "    \"../testing/shapefilekarteringinfo.xlsx\",\n",
                "    engine='openpyxl',\n",
                "    usecols=[\n",
                "        \"naam_kartering\",\n",
                "        \"ElmID_col\",\n",
                "        \"datum_col\",\n",
                "        \"opmerking_col\",\n",
                "        \"vegtype_col_format\",\n",
                "        \"sbb_of_vvn\",\n",
                "        \"SBB_col\",\n",
                "        \"VvN_col\",\n",
                "        \"split_char\",\n",
                "        \"perc_col\",\n",
                "    ],\n",
                "    dtype=\"string\"\n",
                ")\n",
                "# Omzetten van pd.NA naar None om te voorkomen dat we overal \"if not pd.isna()\" moeten doen\n",
                "# NOTE: dit naar vegkaartering.py?\n",
                "shape_info = shape_info.applymap(lambda x: None if pd.isna(x) else x)\n",
                "\n",
                "overzicht = overzicht[overzicht[\"landelijke_typologie beschikbaar?\"] == \"Ja\"]\n",
                "# omzetten van ./PROVINCIE/gebied/gebied.shp naar ../testing/opgeschoonde_shapefiles/PROVINCIE/gebied/gebied.shp\n",
                "overzicht.path_shapes = overzicht.path_shapes.apply(lambda x: opgeschoonde_shapefiles_prefix + x[2:])\n",
                "\n",
                "access_overzicht = overzicht[overzicht[\"locatie_landelijke_typologie\"] == \"access\"]\n",
                "access_overzicht = access_overzicht.join(access_info.set_index(\"naam_kartering\"), on=\"naam_kartering\")\n",
                "# omzetten van ./PROVINPCIE/gebied/gebied.shp naar ../testing/vegetatiekarteringen/PROVINCIE/gebied/gebied.shp\n",
                "access_overzicht.path_csvs = access_overzicht.path_csvs.apply(lambda x: originele_karteringen_prefix + x[2:])\n",
                "\n",
                "shapefile_overzicht = overzicht[overzicht[\"locatie_landelijke_typologie\"] == \"in shapes\"]\n",
                "shapefile_overzicht = shapefile_overzicht.join(shape_info.set_index(\"naam_kartering\"), on=\"naam_kartering\")\n"
            ]
        },
        {
            "cell_type": "markdown",
            "metadata": {},
            "source": [
                "### Karteringen inladen\n",
                "\n",
                "Hier worden, adhv configuraties uit de spreadsheets, alle karteringen ingeladen. Als er een probleem is met een kartering, wordt deze overgeslagen en wordt een melding gegeven.\n",
                "\n",
                "Er zijn vier karteringen die op het moment niet ondersteund worden. \n",
                "- NM_Leggelderveld2020\n",
                "  - Vegetatietype codes zijn rVvN\n",
                "- NM_Mantingerveld2020\n",
                "  - Vegetatietype codes zijn rVvN\n",
                "- NM_Norg_heiden2020\n",
                "  - Vegetatietype codes zijn rVvN\n",
                "- NM vegetatiekartering RuitenAa2020\n",
                "  - Er is geen 1 op 1 relatie voor ElmID in de shapefile en in de database"
            ]
        },
        {
            "cell_type": "code",
            "execution_count": 4,
            "metadata": {},
            "outputs": [
                {
                    "name": "stdout",
                    "output_type": "stream",
                    "text": [
                        "------ Inlezen GL_Zuidlaardermeer2019\n",
                        "mdbtools v1.0.0\n",
                        "Gelukt!\n",
                        "------ Inlezen NM_Fochteloerveen2013_14\n",
                        "mdbtools v1.0.0\n",
                        "Gelukt!\n",
                        "------ Inlezen NM_Fochteloerveen_2020\n",
                        "mdbtools v1.0.0\n",
                        "Gelukt!\n",
                        "------ Inlezen NM_Klencke2018\n",
                        "mdbtools v1.0.0\n",
                        "Gelukt!\n",
                        "------ Inlezen NM_Leggelderveld2020\n",
                        "mdbtools v1.0.0\n",
                        "Invalid SBB code: r14rg5\n",
                        "!!! NM_Leggelderveld2020 wordt overgeslagen !!!\n",
                        "------ Inlezen NM_Mantingerveld2020\n",
                        "mdbtools v1.0.0\n",
                        "Invalid SBB code: r16rg23\n",
                        "!!! NM_Mantingerveld2020 wordt overgeslagen !!!\n",
                        "------ Inlezen NM_Norg_heiden2020\n",
                        "mdbtools v1.0.0\n",
                        "Invalid SBB code: r50a\n",
                        "!!! NM_Norg_heiden2020 wordt overgeslagen !!!\n",
                        "------ Inlezen NM_NorgerBeekdal2018\n",
                        "mdbtools v1.0.0\n",
                        "Gelukt!\n",
                        "------ Inlezen NM_SBB_Fochteloerveen_randen2016\n",
                        "mdbtools v1.0.0\n",
                        "Gelukt!\n",
                        "------ Inlezen NM_DCR_2013\n",
                        "mdbtools v1.0.0\n"
                    ]
                },
                {
                    "name": "stderr",
                    "output_type": "stream",
                    "text": [
                        "WARNING:root:Er zijn 476 vlakken zonder VegTypeInfo in ../testing/opgeschoonde_shapefiles/DR Extra/NM_DCR2013/NM_Fochteloerveen_DCR2013.shp. Deze worden verwijderd.\n",
                        "WARNING:root:De eerste paar ElmID van de verwijderde vlakken zijn: [nan, nan, nan, nan, nan]\n"
                    ]
                },
                {
                    "name": "stdout",
                    "output_type": "stream",
                    "text": [
                        "Gelukt!\n",
                        "------ Inlezen NM_Westerbork2017\n",
                        "mdbtools v1.0.0\n",
                        "Gelukt!\n",
                        "------ Inlezen SBB0756_Drentsche_A2009\n",
                        "mdbtools v1.0.0\n",
                        "Gelukt!\n",
                        "------ Inlezen SBB0757_De_Velden2009\n",
                        "mdbtools v1.0.0\n",
                        "Gelukt!\n",
                        "------ Inlezen SBB0763_Terhorst2009\n",
                        "mdbtools v1.0.0\n",
                        "Gelukt!\n",
                        "------ Inlezen SBB0816_Norg2010\n",
                        "mdbtools v1.0.0\n",
                        "Gelukt!\n",
                        "------ Inlezen SBB0817_Grolloerveen2013\n",
                        "mdbtools v1.0.0\n",
                        "Gelukt!\n",
                        "------ Inlezen SBB0863_Elperstroom_Schoonloo2012\n",
                        "mdbtools v1.0.0\n",
                        "Gelukt!\n",
                        "------ Inlezen SBB0881_SBB_Ruinen_Havelterberg2013\n",
                        "mdbtools v1.0.0\n",
                        "Gelukt!\n",
                        "------ Inlezen SBB0935_DrentsFrieseWold2015\n",
                        "mdbtools v1.0.0\n",
                        "Gelukt!\n",
                        "------ Inlezen SBB0936_DrentseAa2015_16\n"
                    ]
                },
                {
                    "name": "stderr",
                    "output_type": "stream",
                    "text": [
                        "WARNING:root:CRS van ../testing/opgeschoonde_shapefiles/DR/SBB0936_DrentseAa2015_16/SBB0936_DrentseAa2015_16.shp was None en is nu gelezen als EPSG:28992\n"
                    ]
                },
                {
                    "name": "stdout",
                    "output_type": "stream",
                    "text": [
                        "mdbtools v1.0.0\n",
                        "Gelukt!\n",
                        "------ Inlezen SBB1034_Dwingelderveld2017\n",
                        "mdbtools v1.0.0\n",
                        "Gelukt!\n",
                        "------ Inlezen SBB1039_Drenthe2019\n",
                        "mdbtools v1.0.0\n",
                        "Gelukt!\n",
                        "------ Inlezen Drouwenerzand_2020\n",
                        "mdbtools v1.0.0\n",
                        "Gelukt!\n",
                        "------ Inlezen Fr 0752_Bakkefean_2009\n"
                    ]
                },
                {
                    "name": "stderr",
                    "output_type": "stream",
                    "text": [
                        "WARNING:root:CRS van ../testing/opgeschoonde_shapefiles/FR/Bakkeveense_duinen/Fr 0752_Bakkefean_2009/Vlakken.shp was None en is nu gelezen als EPSG:28992\n"
                    ]
                },
                {
                    "name": "stdout",
                    "output_type": "stream",
                    "text": [
                        "mdbtools v1.0.0\n",
                        "Gelukt!\n",
                        "------ Inlezen Slotplaats_2016\n",
                        "mdbtools v1.0.0\n",
                        "Gelukt!\n",
                        "------ Inlezen Ameland_2010\n"
                    ]
                },
                {
                    "name": "stderr",
                    "output_type": "stream",
                    "text": [
                        "WARNING:root:CRS van ../testing/opgeschoonde_shapefiles/FR/Duinen_Ameland/Ameland_2010/vlakken.shp was None en is nu gelezen als EPSG:28992\n"
                    ]
                },
                {
                    "name": "stdout",
                    "output_type": "stream",
                    "text": [
                        "mdbtools v1.0.0\n",
                        "Gelukt!\n",
                        "------ Inlezen Schiermonnikoog_2015\n",
                        "mdbtools v1.0.0\n",
                        "Gelukt!\n",
                        "------ Inlezen Schiermonnikoog_2017\n",
                        "mdbtools v1.0.0\n",
                        "Gelukt!\n",
                        "------ Inlezen Terschelling_2012\n"
                    ]
                },
                {
                    "name": "stderr",
                    "output_type": "stream",
                    "text": [
                        "WARNING:root:CRS van ../testing/opgeschoonde_shapefiles/FR/Duinen_Terschelling/Terschelling_2012/vlakken.shp was None en is nu gelezen als EPSG:28992\n"
                    ]
                },
                {
                    "name": "stdout",
                    "output_type": "stream",
                    "text": [
                        "mdbtools v1.0.0\n",
                        "Gelukt!\n",
                        "------ Inlezen Vlieland_2013\n",
                        "mdbtools v1.0.0\n",
                        "Gelukt!\n",
                        "------ Inlezen Lauwersmeer_Fryslan_2015\n",
                        "mdbtools v1.0.0\n",
                        "Gelukt!\n",
                        "------ Inlezen Rottige_Meenthe_Brandemeer_2013\n",
                        "mdbtools v1.0.0\n",
                        "Gelukt!\n",
                        "------ Inlezen Sneekermeergebied_2009\n",
                        "mdbtools v1.0.0\n",
                        "Gelukt!\n",
                        "------ Inlezen Sneekermeergebied_2009_Terkaplester puollen\n",
                        "mdbtools v1.0.0\n",
                        "Gelukt!\n",
                        "------ Inlezen Bakkefean_2022\n",
                        "mdbtools v1.0.0\n",
                        "Gelukt!\n",
                        "------ Inlezen Snitsermar_2021\n",
                        "mdbtools v1.0.0\n",
                        "Gelukt!\n",
                        "------ Inlezen Deelen_2022\n",
                        "mdbtools v1.0.0\n",
                        "Gelukt!\n",
                        "------ Inlezen Tjonger_2021\n",
                        "mdbtools v1.0.0\n"
                    ]
                },
                {
                    "name": "stderr",
                    "output_type": "stream",
                    "text": [
                        "WARNING:root:Er zijn 179 vlakken zonder VegTypeInfo in ../testing/opgeschoonde_shapefiles/FR Extra/Tjonger_2021_SBB/Shapefiles/Vlakken/Vlakken_inclSBBtyp.shp. Deze worden verwijderd.\n",
                        "WARNING:root:De eerste paar ElmID van de verwijderde vlakken zijn: [1, 2, 3, 4, 5]\n"
                    ]
                },
                {
                    "name": "stdout",
                    "output_type": "stream",
                    "text": [
                        "Gelukt!\n",
                        "------ Inlezen Witte en zwarte brekken_2021\n",
                        "mdbtools v1.0.0\n"
                    ]
                },
                {
                    "name": "stderr",
                    "output_type": "stream",
                    "text": [
                        "WARNING:root:Er zijn 16 vlakken zonder VegTypeInfo in ../testing/opgeschoonde_shapefiles/FR Extra/Witte en zwarte brekken Veg&Flora 2021/Shapefiles/Shapefiles/Vlakken.shp. Deze worden verwijderd.\n",
                        "WARNING:root:De eerste paar ElmID van de verwijderde vlakken zijn: [6, 19, 20, 33, 34]\n"
                    ]
                },
                {
                    "name": "stdout",
                    "output_type": "stream",
                    "text": [
                        "Gelukt!\n",
                        "------ Inlezen NM vegetatiekartering RuitenAa2020\n",
                        "mdbtools v1.0.0\n",
                        "Er is geen 1 op 1 relatie tussen Elmid in de shapefile en ElmID in de Element.csv. Er zitten 3 dubbelingen in de shapefile, bijvoorbeeld Elmid: [8174, 11023, 11051]. Er zitten 3 dubbelingen in Element.csv, bijvoorbeeld ElmID: [8174, 11023, 11051]. \n",
                        "!!! NM vegetatiekartering RuitenAa2020 wordt overgeslagen !!!\n",
                        "------ Inlezen SBB Duurswold2013\n",
                        "mdbtools v1.0.0\n",
                        "Gelukt!\n",
                        "------ Inlezen SBB Lauwersmeer 2015\n",
                        "mdbtools v1.0.0\n",
                        "Gelukt!\n",
                        "------ Inlezen SBB Westerwolde 2020\n",
                        "mdbtools v1.0.0\n",
                        "Gelukt!\n",
                        "------ Inlezen SBB ZWK 2010 0814_Tussen de Gasten 2010\n",
                        "mdbtools v1.0.0\n",
                        "Gelukt!\n",
                        "------ Inlezen SBB ZWK 2010 0815_Trimunt_2010\n",
                        "mdbtools v1.0.0\n",
                        "Gelukt!\n",
                        "------ Inlezen SGL Hunzedal en Leekstermeer2021 Hunzedal\n",
                        "mdbtools v1.0.0\n",
                        "Gelukt!\n",
                        "------ Inlezen SGL Hunzedal en Leekstermeer2021 Leekstermeer 2021\n",
                        "mdbtools v1.0.0\n",
                        "Gelukt!\n",
                        "------ Inlezen SGL Zuidlaardermeer 2019\n",
                        "mdbtools v1.0.0\n",
                        "Gelukt!\n",
                        "------ Inlezen HDL_meerdere_terreinen2016\n",
                        "Gelukt!\n",
                        "------ Inlezen Bosgroep_SNLMonitoring_2014\n",
                        "Gelukt!\n",
                        "------ Inlezen PRV_Witterdiep2021\n",
                        "Gelukt!\n",
                        "!!! De volgende karteringen zijn niet ingelezen !!!\n",
                        "['NM_Leggelderveld2020', 'NM_Mantingerveld2020', 'NM_Norg_heiden2020', 'NM vegetatiekartering RuitenAa2020']\n"
                    ]
                }
            ],
            "source": [
                "karteringen = {}\n",
                "mislukte_karteringen = []\n",
                "\n",
                "for row in access_overzicht.itertuples():\n",
                "    print(f\"------ Inlezen {row.naam_kartering}\")\n",
                "    try:\n",
                "        karteringen[row.naam_kartering] = Kartering.from_access_db(Path(row.path_shapes), row.elm_id_name, Path(row.path_csvs))\n",
                "\n",
                "    except Exception as e:\n",
                "        print(e)\n",
                "        print(f\"!!! {row.naam_kartering} wordt overgeslagen !!!\")\n",
                "        mislukte_karteringen.append(row.naam_kartering)\n",
                "        continue\n",
                "\n",
                "    print(f\"Gelukt!\")\n",
                "\n",
                "for row in shapefile_overzicht.itertuples():\n",
                "    if row.naam_kartering not in ['HDL_meerdere_terreinen2016', 'Bosgroep_SNLMonitoring_2014', 'PRV_Witterdiep2021']:\n",
                "        continue\n",
                "    print(f\"------ Inlezen {row.naam_kartering}\")\n",
                "\n",
                "    try:\n",
                "        karteringen[row.naam_kartering] = Kartering.from_shapefile(\n",
                "            Path(row.path_shapes),\n",
                "            vegtype_col_format=row.vegtype_col_format,\n",
                "            sbb_of_vvn=row.sbb_of_vvn,\n",
                "            ElmID_col=row.ElmID_col,\n",
                "            VvN_col=row.VvN_col.split(row.split_char) if row.VvN_col is not None else [],\n",
                "            SBB_col=row.SBB_col.split(row.split_char) if row.SBB_col is not None else [],\n",
                "            split_char=row.split_char,\n",
                "            datum_col=row.datum_col,\n",
                "            opmerking_col=row.opmerking_col,\n",
                "            perc_col=row.perc_col.split(row.split_char) if row.perc_col is not None else [],\n",
                "        )\n",
                "\n",
                "    except Exception as e:\n",
                "        print(e)\n",
                "        print(f\"!!! {row.naam_kartering} wordt overgeslagen !!!\")\n",
                "        mislukte_karteringen.append(row.naam_kartering)\n",
                "        continue\n",
                "\n",
                "    print(f\"Gelukt!\")\n",
                "\n",
                "if len(mislukte_karteringen) > 0:\n",
                "    print(f\"!!! De volgende karteringen zijn niet ingelezen !!!\")\n",
                "    print(mislukte_karteringen)"
            ]
        },
        {
            "cell_type": "markdown",
            "metadata": {},
            "source": [
                " ### Karteringen omzetten"
            ]
        },
        {
            "cell_type": "code",
            "execution_count": 5,
            "metadata": {},
            "outputs": [
                {
                    "name": "stdout",
                    "output_type": "stream",
                    "text": [
                        "------ Waswordtlijst toepassen GL_Zuidlaardermeer2019\n",
                        "Gelukt!\n",
                        "------ Waswordtlijst toepassen NM_Fochteloerveen2013_14\n",
                        "Gelukt!\n",
                        "------ Waswordtlijst toepassen NM_Fochteloerveen_2020\n",
                        "Gelukt!\n",
                        "------ Waswordtlijst toepassen NM_Klencke2018\n",
                        "Gelukt!\n",
                        "------ Waswordtlijst toepassen NM_NorgerBeekdal2018\n",
                        "Gelukt!\n",
                        "------ Waswordtlijst toepassen NM_SBB_Fochteloerveen_randen2016\n",
                        "Gelukt!\n",
                        "------ Waswordtlijst toepassen NM_DCR_2013\n",
                        "Gelukt!\n",
                        "------ Waswordtlijst toepassen NM_Westerbork2017\n",
                        "Gelukt!\n",
                        "------ Waswordtlijst toepassen SBB0756_Drentsche_A2009\n",
                        "Gelukt!\n",
                        "------ Waswordtlijst toepassen SBB0757_De_Velden2009\n",
                        "Gelukt!\n",
                        "------ Waswordtlijst toepassen SBB0763_Terhorst2009\n",
                        "Gelukt!\n",
                        "------ Waswordtlijst toepassen SBB0816_Norg2010\n",
                        "Gelukt!\n",
                        "------ Waswordtlijst toepassen SBB0817_Grolloerveen2013\n",
                        "Gelukt!\n",
                        "------ Waswordtlijst toepassen SBB0863_Elperstroom_Schoonloo2012\n",
                        "Gelukt!\n",
                        "------ Waswordtlijst toepassen SBB0881_SBB_Ruinen_Havelterberg2013\n",
                        "Gelukt!\n",
                        "------ Waswordtlijst toepassen SBB0935_DrentsFrieseWold2015\n",
                        "Gelukt!\n",
                        "------ Waswordtlijst toepassen SBB0936_DrentseAa2015_16\n",
                        "Gelukt!\n",
                        "------ Waswordtlijst toepassen SBB1034_Dwingelderveld2017\n",
                        "Gelukt!\n",
                        "------ Waswordtlijst toepassen SBB1039_Drenthe2019\n",
                        "Gelukt!\n",
                        "------ Waswordtlijst toepassen Drouwenerzand_2020\n",
                        "Gelukt!\n",
                        "------ Waswordtlijst toepassen Fr 0752_Bakkefean_2009\n",
                        "Gelukt!\n",
                        "------ Waswordtlijst toepassen Slotplaats_2016\n",
                        "Gelukt!\n",
                        "------ Waswordtlijst toepassen Ameland_2010\n",
                        "Gelukt!\n",
                        "------ Waswordtlijst toepassen Schiermonnikoog_2015\n",
                        "Gelukt!\n",
                        "------ Waswordtlijst toepassen Schiermonnikoog_2017\n",
                        "Gelukt!\n",
                        "------ Waswordtlijst toepassen Terschelling_2012\n",
                        "Gelukt!\n",
                        "------ Waswordtlijst toepassen Vlieland_2013\n",
                        "Gelukt!\n",
                        "------ Waswordtlijst toepassen Lauwersmeer_Fryslan_2015\n",
                        "Gelukt!\n",
                        "------ Waswordtlijst toepassen Rottige_Meenthe_Brandemeer_2013\n",
                        "Gelukt!\n",
                        "------ Waswordtlijst toepassen Sneekermeergebied_2009\n",
                        "Gelukt!\n",
                        "------ Waswordtlijst toepassen Sneekermeergebied_2009_Terkaplester puollen\n",
                        "Gelukt!\n",
                        "------ Waswordtlijst toepassen Bakkefean_2022\n",
                        "Gelukt!\n",
                        "------ Waswordtlijst toepassen Snitsermar_2021\n",
                        "Gelukt!\n",
                        "------ Waswordtlijst toepassen Deelen_2022\n",
                        "Gelukt!\n",
                        "------ Waswordtlijst toepassen Tjonger_2021\n",
                        "Gelukt!\n",
                        "------ Waswordtlijst toepassen Witte en zwarte brekken_2021\n",
                        "Gelukt!\n",
                        "------ Waswordtlijst toepassen SBB Duurswold2013\n",
                        "Gelukt!\n",
                        "------ Waswordtlijst toepassen SBB Lauwersmeer 2015\n",
                        "Gelukt!\n",
                        "------ Waswordtlijst toepassen SBB Westerwolde 2020\n"
                    ]
                },
                {
                    "name": "stderr",
                    "output_type": "stream",
                    "text": [
                        "WARNING:root:Er zijn al VvN aanwezig in de kartering. De was-wordt lijst wordt niet toegepast.\n",
                        "WARNING:root:Er zijn al VvN aanwezig in de kartering. De was-wordt lijst wordt niet toegepast.\n",
                        "WARNING:root:Er zijn al VvN aanwezig in de kartering. De was-wordt lijst wordt niet toegepast.\n"
                    ]
                },
                {
                    "name": "stdout",
                    "output_type": "stream",
                    "text": [
                        "Gelukt!\n",
                        "------ Waswordtlijst toepassen SBB ZWK 2010 0814_Tussen de Gasten 2010\n",
                        "Gelukt!\n",
                        "------ Waswordtlijst toepassen SBB ZWK 2010 0815_Trimunt_2010\n",
                        "Gelukt!\n",
                        "------ Waswordtlijst toepassen SGL Hunzedal en Leekstermeer2021 Hunzedal\n",
                        "Gelukt!\n",
                        "------ Waswordtlijst toepassen SGL Hunzedal en Leekstermeer2021 Leekstermeer 2021\n",
                        "Gelukt!\n",
                        "------ Waswordtlijst toepassen SGL Zuidlaardermeer 2019\n",
                        "Gelukt!\n",
                        "------ Waswordtlijst toepassen HDL_meerdere_terreinen2016\n",
                        "Gelukt!\n",
                        "------ Waswordtlijst toepassen Bosgroep_SNLMonitoring_2014\n",
                        "Gelukt!\n",
                        "------ Waswordtlijst toepassen PRV_Witterdiep2021\n",
                        "Gelukt!\n"
                    ]
                }
            ],
            "source": [
                "mislukte_karteringen = []\n",
                "\n",
                "for key, kartering in karteringen.items():\n",
                "    print(f\"------ Waswordtlijst toepassen {key}\")\n",
                "    try:\n",
                "        kartering.apply_wwl(wwl)\n",
                "    except Exception as e:\n",
                "        print(e)\n",
                "        print(f\"!!! Fout bij {key} !!!\")\n",
                "        mislukte_karteringen.append(key)\n",
                "        continue\n",
                "    print(f\"Gelukt!\")\n",
                "\n",
                "if len(mislukte_karteringen) > 0:\n",
                "    print(f\"!!! De volgende karteringen hebben een fout bij het toepassen van de was-wordt-lijst !!!\")\n",
                "    print(mislukte_karteringen)\n"
            ]
        },
        {
            "cell_type": "code",
            "execution_count": 6,
            "metadata": {},
            "outputs": [
                {
                    "name": "stdout",
                    "output_type": "stream",
                    "text": [
                        "------ Definitietabel toepassen GL_Zuidlaardermeer2019\n",
                        "Gelukt!\n",
                        "------ Definitietabel toepassen NM_Fochteloerveen2013_14\n",
                        "Gelukt!\n",
                        "------ Definitietabel toepassen NM_Fochteloerveen_2020\n",
                        "Gelukt!\n",
                        "------ Definitietabel toepassen NM_Klencke2018\n",
                        "Gelukt!\n",
                        "------ Definitietabel toepassen NM_NorgerBeekdal2018\n",
                        "Gelukt!\n",
                        "------ Definitietabel toepassen NM_SBB_Fochteloerveen_randen2016\n",
                        "Gelukt!\n",
                        "------ Definitietabel toepassen NM_DCR_2013\n",
                        "Gelukt!\n",
                        "------ Definitietabel toepassen NM_Westerbork2017\n",
                        "Gelukt!\n",
                        "------ Definitietabel toepassen SBB0756_Drentsche_A2009\n",
                        "Gelukt!\n",
                        "------ Definitietabel toepassen SBB0757_De_Velden2009\n",
                        "Gelukt!\n",
                        "------ Definitietabel toepassen SBB0763_Terhorst2009\n",
                        "Gelukt!\n",
                        "------ Definitietabel toepassen SBB0816_Norg2010\n",
                        "Gelukt!\n",
                        "------ Definitietabel toepassen SBB0817_Grolloerveen2013\n",
                        "Gelukt!\n",
                        "------ Definitietabel toepassen SBB0863_Elperstroom_Schoonloo2012\n",
                        "Gelukt!\n",
                        "------ Definitietabel toepassen SBB0881_SBB_Ruinen_Havelterberg2013\n",
                        "Gelukt!\n",
                        "------ Definitietabel toepassen SBB0935_DrentsFrieseWold2015\n",
                        "Gelukt!\n",
                        "------ Definitietabel toepassen SBB0936_DrentseAa2015_16\n",
                        "Gelukt!\n",
                        "------ Definitietabel toepassen SBB1034_Dwingelderveld2017\n",
                        "Gelukt!\n",
                        "------ Definitietabel toepassen SBB1039_Drenthe2019\n",
                        "Gelukt!\n",
                        "------ Definitietabel toepassen Drouwenerzand_2020\n",
                        "Gelukt!\n",
                        "------ Definitietabel toepassen Fr 0752_Bakkefean_2009\n",
                        "Gelukt!\n",
                        "------ Definitietabel toepassen Slotplaats_2016\n",
                        "Gelukt!\n",
                        "------ Definitietabel toepassen Ameland_2010\n",
                        "Gelukt!\n",
                        "------ Definitietabel toepassen Schiermonnikoog_2015\n",
                        "Gelukt!\n",
                        "------ Definitietabel toepassen Schiermonnikoog_2017\n",
                        "Gelukt!\n",
                        "------ Definitietabel toepassen Terschelling_2012\n",
                        "Gelukt!\n",
                        "------ Definitietabel toepassen Vlieland_2013\n",
                        "Gelukt!\n",
                        "------ Definitietabel toepassen Lauwersmeer_Fryslan_2015\n",
                        "Gelukt!\n",
                        "------ Definitietabel toepassen Rottige_Meenthe_Brandemeer_2013\n",
                        "Gelukt!\n",
                        "------ Definitietabel toepassen Sneekermeergebied_2009\n",
                        "Gelukt!\n",
                        "------ Definitietabel toepassen Sneekermeergebied_2009_Terkaplester puollen\n",
                        "Gelukt!\n",
                        "------ Definitietabel toepassen Bakkefean_2022\n",
                        "Gelukt!\n",
                        "------ Definitietabel toepassen Snitsermar_2021\n",
                        "Gelukt!\n",
                        "------ Definitietabel toepassen Deelen_2022\n",
                        "Gelukt!\n",
                        "------ Definitietabel toepassen Tjonger_2021\n",
                        "Gelukt!\n",
                        "------ Definitietabel toepassen Witte en zwarte brekken_2021\n",
                        "Gelukt!\n",
                        "------ Definitietabel toepassen SBB Duurswold2013\n",
                        "Gelukt!\n",
                        "------ Definitietabel toepassen SBB Lauwersmeer 2015\n",
                        "Gelukt!\n",
                        "------ Definitietabel toepassen SBB Westerwolde 2020\n",
                        "Gelukt!\n",
                        "------ Definitietabel toepassen SBB ZWK 2010 0814_Tussen de Gasten 2010\n",
                        "Gelukt!\n",
                        "------ Definitietabel toepassen SBB ZWK 2010 0815_Trimunt_2010\n",
                        "Gelukt!\n",
                        "------ Definitietabel toepassen SGL Hunzedal en Leekstermeer2021 Hunzedal\n",
                        "Gelukt!\n",
                        "------ Definitietabel toepassen SGL Hunzedal en Leekstermeer2021 Leekstermeer 2021\n",
                        "Gelukt!\n",
                        "------ Definitietabel toepassen SGL Zuidlaardermeer 2019\n",
                        "Gelukt!\n",
                        "------ Definitietabel toepassen HDL_meerdere_terreinen2016\n",
                        "Gelukt!\n",
                        "------ Definitietabel toepassen Bosgroep_SNLMonitoring_2014\n",
                        "Gelukt!\n",
                        "------ Definitietabel toepassen PRV_Witterdiep2021\n",
                        "Gelukt!\n"
                    ]
                }
            ],
            "source": [
                "mislukte_karteringen = []\n",
                "\n",
                "for key, kartering in karteringen.items():\n",
                "    print(f\"------ Definitietabel toepassen {key}\")\n",
                "    try:\n",
                "        kartering.apply_deftabel(dt)\n",
                "    except Exception as e:\n",
                "        print(e)\n",
                "        print(f\"!!! Fout bij {key} !!!\")\n",
                "        mislukte_karteringen.append(key)\n",
                "        continue\n",
                "    print(f\"Gelukt!\")\n",
                "\n",
                "if len(mislukte_karteringen) > 0:\n",
                "    print(f\"!!! De volgende karteringen hebben een fout bij het toepassen van de definitietabel!!!\")\n",
                "    print(mislukte_karteringen)\n"
            ]
        },
        {
            "cell_type": "code",
            "execution_count": 7,
            "metadata": {},
            "outputs": [
                {
                    "name": "stdout",
                    "output_type": "stream",
                    "text": [
                        "------ Mitsen/Mozaiekregels checken GL_Zuidlaardermeer2019\n",
                        "Iteratie 0: van 2327 naar 150 keuzes nog te bepalen\n",
                        "Iteratie 1: van 150 naar 60 keuzes nog te bepalen\n",
                        "Iteratie 2: van 60 naar 58 keuzes nog te bepalen\n",
                        "Iteratie 3: van 58 naar 58 keuzes nog te bepalen\n",
                        "Gelukt!\n",
                        "------ Mitsen/Mozaiekregels checken NM_Fochteloerveen2013_14\n",
                        "Iteratie 0: van 7940 naar 870 keuzes nog te bepalen\n",
                        "Iteratie 1: van 870 naar 589 keuzes nog te bepalen\n",
                        "Iteratie 2: van 589 naar 530 keuzes nog te bepalen\n",
                        "Iteratie 3: van 530 naar 520 keuzes nog te bepalen\n",
                        "Iteratie 4: van 520 naar 517 keuzes nog te bepalen\n",
                        "Iteratie 5: van 517 naar 517 keuzes nog te bepalen\n",
                        "Gelukt!\n",
                        "------ Mitsen/Mozaiekregels checken NM_Fochteloerveen_2020\n",
                        "Iteratie 0: van 3361 naar 189 keuzes nog te bepalen\n",
                        "Iteratie 1: van 189 naar 118 keuzes nog te bepalen\n",
                        "Iteratie 2: van 118 naar 115 keuzes nog te bepalen\n",
                        "Iteratie 3: van 115 naar 115 keuzes nog te bepalen\n",
                        "Gelukt!\n",
                        "------ Mitsen/Mozaiekregels checken NM_Klencke2018\n",
                        "Iteratie 0: van 1830 naar 92 keuzes nog te bepalen\n",
                        "Iteratie 1: van 92 naar 14 keuzes nog te bepalen\n",
                        "Iteratie 2: van 14 naar 14 keuzes nog te bepalen\n",
                        "Gelukt!\n",
                        "------ Mitsen/Mozaiekregels checken NM_NorgerBeekdal2018\n",
                        "Iteratie 0: van 849 naar 3 keuzes nog te bepalen\n",
                        "Iteratie 1: van 3 naar 0 keuzes nog te bepalen\n",
                        "Gelukt!\n",
                        "------ Mitsen/Mozaiekregels checken NM_SBB_Fochteloerveen_randen2016\n",
                        "Iteratie 0: van 226 naar 7 keuzes nog te bepalen\n",
                        "Iteratie 1: van 7 naar 2 keuzes nog te bepalen\n",
                        "Iteratie 2: van 2 naar 2 keuzes nog te bepalen\n",
                        "Gelukt!\n",
                        "------ Mitsen/Mozaiekregels checken NM_DCR_2013\n",
                        "Iteratie 0: van 57 naar 1 keuzes nog te bepalen\n",
                        "Iteratie 1: van 1 naar 1 keuzes nog te bepalen\n",
                        "Gelukt!\n",
                        "------ Mitsen/Mozaiekregels checken NM_Westerbork2017\n",
                        "Iteratie 0: van 207 naar 21 keuzes nog te bepalen\n",
                        "Iteratie 1: van 21 naar 4 keuzes nog te bepalen\n",
                        "Iteratie 2: van 4 naar 3 keuzes nog te bepalen\n",
                        "Iteratie 3: van 3 naar 3 keuzes nog te bepalen\n",
                        "Gelukt!\n",
                        "------ Mitsen/Mozaiekregels checken SBB0756_Drentsche_A2009\n",
                        "Iteratie 0: van 1179 naar 63 keuzes nog te bepalen\n",
                        "Iteratie 1: van 63 naar 7 keuzes nog te bepalen\n",
                        "Iteratie 2: van 7 naar 5 keuzes nog te bepalen\n",
                        "Iteratie 3: van 5 naar 5 keuzes nog te bepalen\n",
                        "Gelukt!\n",
                        "------ Mitsen/Mozaiekregels checken SBB0757_De_Velden2009\n",
                        "Iteratie 0: van 946 naar 59 keuzes nog te bepalen\n",
                        "Iteratie 1: van 59 naar 42 keuzes nog te bepalen\n",
                        "Iteratie 2: van 42 naar 38 keuzes nog te bepalen\n",
                        "Iteratie 3: van 38 naar 37 keuzes nog te bepalen\n",
                        "Iteratie 4: van 37 naar 37 keuzes nog te bepalen\n",
                        "Gelukt!\n",
                        "------ Mitsen/Mozaiekregels checken SBB0763_Terhorst2009\n",
                        "Iteratie 0: van 333 naar 20 keuzes nog te bepalen\n",
                        "Iteratie 1: van 20 naar 12 keuzes nog te bepalen\n",
                        "Iteratie 2: van 12 naar 12 keuzes nog te bepalen\n",
                        "Gelukt!\n",
                        "------ Mitsen/Mozaiekregels checken SBB0816_Norg2010\n",
                        "Iteratie 0: van 323 naar 21 keuzes nog te bepalen\n",
                        "Iteratie 1: van 21 naar 14 keuzes nog te bepalen\n",
                        "Iteratie 2: van 14 naar 13 keuzes nog te bepalen\n",
                        "Iteratie 3: van 13 naar 13 keuzes nog te bepalen\n",
                        "Gelukt!\n",
                        "------ Mitsen/Mozaiekregels checken SBB0817_Grolloerveen2013\n",
                        "Iteratie 0: van 2359 naar 106 keuzes nog te bepalen\n",
                        "Iteratie 1: van 106 naar 84 keuzes nog te bepalen\n",
                        "Iteratie 2: van 84 naar 78 keuzes nog te bepalen\n",
                        "Iteratie 3: van 78 naar 77 keuzes nog te bepalen\n",
                        "Iteratie 4: van 77 naar 77 keuzes nog te bepalen\n",
                        "Gelukt!\n",
                        "------ Mitsen/Mozaiekregels checken SBB0863_Elperstroom_Schoonloo2012\n",
                        "Iteratie 0: van 1203 naar 63 keuzes nog te bepalen\n",
                        "Iteratie 1: van 63 naar 34 keuzes nog te bepalen\n",
                        "Iteratie 2: van 34 naar 33 keuzes nog te bepalen\n",
                        "Iteratie 3: van 33 naar 33 keuzes nog te bepalen\n",
                        "Gelukt!\n",
                        "------ Mitsen/Mozaiekregels checken SBB0881_SBB_Ruinen_Havelterberg2013\n",
                        "Iteratie 0: van 1394 naar 161 keuzes nog te bepalen\n",
                        "Iteratie 1: van 161 naar 57 keuzes nog te bepalen\n",
                        "Iteratie 2: van 57 naar 53 keuzes nog te bepalen\n",
                        "Iteratie 3: van 53 naar 51 keuzes nog te bepalen\n",
                        "Iteratie 4: van 51 naar 51 keuzes nog te bepalen\n",
                        "Gelukt!\n",
                        "------ Mitsen/Mozaiekregels checken SBB0935_DrentsFrieseWold2015\n",
                        "Iteratie 0: van 5604 naar 422 keuzes nog te bepalen\n",
                        "Iteratie 1: van 422 naar 206 keuzes nog te bepalen\n",
                        "Iteratie 2: van 206 naar 177 keuzes nog te bepalen\n",
                        "Iteratie 3: van 177 naar 174 keuzes nog te bepalen\n",
                        "Iteratie 4: van 174 naar 174 keuzes nog te bepalen\n",
                        "Gelukt!\n",
                        "------ Mitsen/Mozaiekregels checken SBB0936_DrentseAa2015_16\n",
                        "Iteratie 0: van 21463 naar 1363 keuzes nog te bepalen\n",
                        "Iteratie 1: van 1363 naar 393 keuzes nog te bepalen\n",
                        "Iteratie 2: van 393 naar 343 keuzes nog te bepalen\n",
                        "Iteratie 3: van 343 naar 339 keuzes nog te bepalen\n",
                        "Iteratie 4: van 339 naar 339 keuzes nog te bepalen\n",
                        "Gelukt!\n",
                        "------ Mitsen/Mozaiekregels checken SBB1034_Dwingelderveld2017\n",
                        "Iteratie 0: van 12181 naar 489 keuzes nog te bepalen\n",
                        "Iteratie 1: van 489 naar 275 keuzes nog te bepalen\n",
                        "Iteratie 2: van 275 naar 258 keuzes nog te bepalen\n",
                        "Iteratie 3: van 258 naar 258 keuzes nog te bepalen\n",
                        "Gelukt!\n",
                        "------ Mitsen/Mozaiekregels checken SBB1039_Drenthe2019\n",
                        "Iteratie 0: van 2729 naar 82 keuzes nog te bepalen\n",
                        "Iteratie 1: van 82 naar 56 keuzes nog te bepalen\n",
                        "Iteratie 2: van 56 naar 55 keuzes nog te bepalen\n",
                        "Iteratie 3: van 55 naar 55 keuzes nog te bepalen\n",
                        "Gelukt!\n",
                        "------ Mitsen/Mozaiekregels checken Drouwenerzand_2020\n",
                        "Iteratie 0: van 187 naar 1 keuzes nog te bepalen\n",
                        "Iteratie 1: van 1 naar 0 keuzes nog te bepalen\n",
                        "Gelukt!\n",
                        "------ Mitsen/Mozaiekregels checken Fr 0752_Bakkefean_2009\n",
                        "Iteratie 0: van 1011 naar 51 keuzes nog te bepalen\n",
                        "Iteratie 1: van 51 naar 21 keuzes nog te bepalen\n",
                        "Iteratie 2: van 21 naar 20 keuzes nog te bepalen\n",
                        "Iteratie 3: van 20 naar 20 keuzes nog te bepalen\n",
                        "Gelukt!\n",
                        "------ Mitsen/Mozaiekregels checken Slotplaats_2016\n",
                        "Iteratie 0: van 195 naar 13 keuzes nog te bepalen\n",
                        "Iteratie 1: van 13 naar 5 keuzes nog te bepalen\n",
                        "Iteratie 2: van 5 naar 5 keuzes nog te bepalen\n",
                        "Gelukt!\n",
                        "------ Mitsen/Mozaiekregels checken Ameland_2010\n",
                        "Iteratie 0: van 5496 naar 555 keuzes nog te bepalen\n",
                        "Iteratie 1: van 555 naar 241 keuzes nog te bepalen\n",
                        "Iteratie 2: van 241 naar 211 keuzes nog te bepalen\n",
                        "Iteratie 3: van 211 naar 207 keuzes nog te bepalen\n",
                        "Iteratie 4: van 207 naar 206 keuzes nog te bepalen\n",
                        "Iteratie 5: van 206 naar 206 keuzes nog te bepalen\n",
                        "Gelukt!\n",
                        "------ Mitsen/Mozaiekregels checken Schiermonnikoog_2015\n",
                        "Iteratie 0: van 2910 naar 571 keuzes nog te bepalen\n",
                        "Iteratie 1: van 571 naar 241 keuzes nog te bepalen\n",
                        "Iteratie 2: van 241 naar 202 keuzes nog te bepalen\n",
                        "Iteratie 3: van 202 naar 197 keuzes nog te bepalen\n",
                        "Iteratie 4: van 197 naar 196 keuzes nog te bepalen\n",
                        "Iteratie 5: van 196 naar 196 keuzes nog te bepalen\n",
                        "Gelukt!\n",
                        "------ Mitsen/Mozaiekregels checken Schiermonnikoog_2017\n",
                        "Iteratie 0: van 124 naar 9 keuzes nog te bepalen\n",
                        "Iteratie 1: van 9 naar 5 keuzes nog te bepalen\n",
                        "Iteratie 2: van 5 naar 4 keuzes nog te bepalen\n",
                        "Iteratie 3: van 4 naar 4 keuzes nog te bepalen\n",
                        "Gelukt!\n",
                        "------ Mitsen/Mozaiekregels checken Terschelling_2012\n",
                        "Iteratie 0: van 16763 naar 1387 keuzes nog te bepalen\n",
                        "Iteratie 1: van 1387 naar 732 keuzes nog te bepalen\n",
                        "Iteratie 2: van 732 naar 646 keuzes nog te bepalen\n",
                        "Iteratie 3: van 646 naar 629 keuzes nog te bepalen\n",
                        "Iteratie 4: van 629 naar 624 keuzes nog te bepalen\n",
                        "Iteratie 5: van 624 naar 617 keuzes nog te bepalen\n",
                        "Iteratie 6: van 617 naar 612 keuzes nog te bepalen\n",
                        "Iteratie 7: van 612 naar 608 keuzes nog te bepalen\n",
                        "Iteratie 8: van 608 naar 602 keuzes nog te bepalen\n",
                        "Iteratie 9: van 602 naar 600 keuzes nog te bepalen\n",
                        "Iteratie 10: van 600 naar 599 keuzes nog te bepalen\n",
                        "Iteratie 11: van 599 naar 596 keuzes nog te bepalen\n",
                        "Iteratie 12: van 596 naar 596 keuzes nog te bepalen\n",
                        "Gelukt!\n",
                        "------ Mitsen/Mozaiekregels checken Vlieland_2013\n",
                        "Iteratie 0: van 3420 naar 333 keuzes nog te bepalen\n",
                        "Iteratie 1: van 333 naar 206 keuzes nog te bepalen\n",
                        "Iteratie 2: van 206 naar 195 keuzes nog te bepalen\n",
                        "Iteratie 3: van 195 naar 195 keuzes nog te bepalen\n",
                        "Gelukt!\n",
                        "------ Mitsen/Mozaiekregels checken Lauwersmeer_Fryslan_2015\n",
                        "Iteratie 0: van 7346 naar 1082 keuzes nog te bepalen\n",
                        "Iteratie 1: van 1082 naar 419 keuzes nog te bepalen\n",
                        "Iteratie 2: van 419 naar 254 keuzes nog te bepalen\n",
                        "Iteratie 3: van 254 naar 225 keuzes nog te bepalen\n",
                        "Iteratie 4: van 225 naar 223 keuzes nog te bepalen\n",
                        "Iteratie 5: van 223 naar 223 keuzes nog te bepalen\n",
                        "Gelukt!\n",
                        "------ Mitsen/Mozaiekregels checken Rottige_Meenthe_Brandemeer_2013\n",
                        "Iteratie 0: van 3499 naar 168 keuzes nog te bepalen\n",
                        "Iteratie 1: van 168 naar 58 keuzes nog te bepalen\n",
                        "Iteratie 2: van 58 naar 52 keuzes nog te bepalen\n",
                        "Iteratie 3: van 52 naar 52 keuzes nog te bepalen\n",
                        "Gelukt!\n",
                        "------ Mitsen/Mozaiekregels checken Sneekermeergebied_2009\n",
                        "Iteratie 0: van 2228 naar 231 keuzes nog te bepalen\n",
                        "Iteratie 1: van 231 naar 29 keuzes nog te bepalen\n",
                        "Iteratie 2: van 29 naar 24 keuzes nog te bepalen\n",
                        "Iteratie 3: van 24 naar 24 keuzes nog te bepalen\n",
                        "Gelukt!\n",
                        "------ Mitsen/Mozaiekregels checken Sneekermeergebied_2009_Terkaplester puollen\n",
                        "Iteratie 0: van 1994 naar 283 keuzes nog te bepalen\n",
                        "Iteratie 1: van 283 naar 115 keuzes nog te bepalen\n",
                        "Iteratie 2: van 115 naar 55 keuzes nog te bepalen\n",
                        "Iteratie 3: van 55 naar 35 keuzes nog te bepalen\n",
                        "Iteratie 4: van 35 naar 31 keuzes nog te bepalen\n",
                        "Iteratie 5: van 31 naar 29 keuzes nog te bepalen\n",
                        "Iteratie 6: van 29 naar 29 keuzes nog te bepalen\n",
                        "Gelukt!\n",
                        "------ Mitsen/Mozaiekregels checken Bakkefean_2022\n",
                        "Iteratie 0: van 2223 naar 97 keuzes nog te bepalen\n",
                        "Iteratie 1: van 97 naar 42 keuzes nog te bepalen\n",
                        "Iteratie 2: van 42 naar 40 keuzes nog te bepalen\n",
                        "Iteratie 3: van 40 naar 40 keuzes nog te bepalen\n",
                        "Gelukt!\n",
                        "------ Mitsen/Mozaiekregels checken Snitsermar_2021\n",
                        "Iteratie 0: van 1505 naar 216 keuzes nog te bepalen\n",
                        "Iteratie 1: van 216 naar 87 keuzes nog te bepalen\n",
                        "Iteratie 2: van 87 naar 64 keuzes nog te bepalen\n",
                        "Iteratie 3: van 64 naar 57 keuzes nog te bepalen\n",
                        "Iteratie 4: van 57 naar 54 keuzes nog te bepalen\n",
                        "Iteratie 5: van 54 naar 54 keuzes nog te bepalen\n",
                        "Gelukt!\n",
                        "------ Mitsen/Mozaiekregels checken Deelen_2022\n",
                        "Iteratie 0: van 2109 naar 295 keuzes nog te bepalen\n",
                        "Iteratie 1: van 295 naar 200 keuzes nog te bepalen\n",
                        "Iteratie 2: van 200 naar 181 keuzes nog te bepalen\n",
                        "Iteratie 3: van 181 naar 178 keuzes nog te bepalen\n",
                        "Iteratie 4: van 178 naar 178 keuzes nog te bepalen\n",
                        "Gelukt!\n",
                        "------ Mitsen/Mozaiekregels checken Tjonger_2021\n",
                        "Iteratie 0: van 262 naar 7 keuzes nog te bepalen\n",
                        "Iteratie 1: van 7 naar 7 keuzes nog te bepalen\n",
                        "Gelukt!\n",
                        "------ Mitsen/Mozaiekregels checken Witte en zwarte brekken_2021\n",
                        "Iteratie 0: van 599 naar 16 keuzes nog te bepalen\n",
                        "Iteratie 1: van 16 naar 3 keuzes nog te bepalen\n",
                        "Iteratie 2: van 3 naar 3 keuzes nog te bepalen\n",
                        "Gelukt!\n",
                        "------ Mitsen/Mozaiekregels checken SBB Duurswold2013\n",
                        "Iteratie 0: van 858 naar 50 keuzes nog te bepalen\n",
                        "Iteratie 1: van 50 naar 9 keuzes nog te bepalen\n",
                        "Iteratie 2: van 9 naar 6 keuzes nog te bepalen\n",
                        "Iteratie 3: van 6 naar 6 keuzes nog te bepalen\n",
                        "Gelukt!\n",
                        "------ Mitsen/Mozaiekregels checken SBB Lauwersmeer 2015\n",
                        "Iteratie 0: van 7346 naar 1082 keuzes nog te bepalen\n",
                        "Iteratie 1: van 1082 naar 419 keuzes nog te bepalen\n",
                        "Iteratie 2: van 419 naar 254 keuzes nog te bepalen\n",
                        "Iteratie 3: van 254 naar 225 keuzes nog te bepalen\n",
                        "Iteratie 4: van 225 naar 223 keuzes nog te bepalen\n",
                        "Iteratie 5: van 223 naar 223 keuzes nog te bepalen\n",
                        "Gelukt!\n",
                        "------ Mitsen/Mozaiekregels checken SBB Westerwolde 2020\n",
                        "Iteratie 0: van 2499 naar 181 keuzes nog te bepalen\n",
                        "Iteratie 1: van 181 naar 33 keuzes nog te bepalen\n",
                        "Iteratie 2: van 33 naar 27 keuzes nog te bepalen\n",
                        "Iteratie 3: van 27 naar 27 keuzes nog te bepalen\n",
                        "Gelukt!\n",
                        "------ Mitsen/Mozaiekregels checken SBB ZWK 2010 0814_Tussen de Gasten 2010\n",
                        "Iteratie 0: van 2342 naar 153 keuzes nog te bepalen\n",
                        "Iteratie 1: van 153 naar 33 keuzes nog te bepalen\n",
                        "Iteratie 2: van 33 naar 21 keuzes nog te bepalen\n",
                        "Iteratie 3: van 21 naar 18 keuzes nog te bepalen\n",
                        "Iteratie 4: van 18 naar 17 keuzes nog te bepalen\n",
                        "Iteratie 5: van 17 naar 17 keuzes nog te bepalen\n",
                        "Gelukt!\n",
                        "------ Mitsen/Mozaiekregels checken SBB ZWK 2010 0815_Trimunt_2010\n",
                        "Iteratie 0: van 116 naar 9 keuzes nog te bepalen\n",
                        "Iteratie 1: van 9 naar 6 keuzes nog te bepalen\n",
                        "Iteratie 2: van 6 naar 6 keuzes nog te bepalen\n",
                        "Gelukt!\n",
                        "------ Mitsen/Mozaiekregels checken SGL Hunzedal en Leekstermeer2021 Hunzedal\n",
                        "Iteratie 0: van 3687 naar 274 keuzes nog te bepalen\n",
                        "Iteratie 1: van 274 naar 54 keuzes nog te bepalen\n",
                        "Iteratie 2: van 54 naar 47 keuzes nog te bepalen\n",
                        "Iteratie 3: van 47 naar 47 keuzes nog te bepalen\n",
                        "Gelukt!\n",
                        "------ Mitsen/Mozaiekregels checken SGL Hunzedal en Leekstermeer2021 Leekstermeer 2021\n",
                        "Iteratie 0: van 779 naar 42 keuzes nog te bepalen\n",
                        "Iteratie 1: van 42 naar 15 keuzes nog te bepalen\n",
                        "Iteratie 2: van 15 naar 14 keuzes nog te bepalen\n",
                        "Iteratie 3: van 14 naar 14 keuzes nog te bepalen\n",
                        "Gelukt!\n",
                        "------ Mitsen/Mozaiekregels checken SGL Zuidlaardermeer 2019\n",
                        "Iteratie 0: van 2327 naar 150 keuzes nog te bepalen\n",
                        "Iteratie 1: van 150 naar 60 keuzes nog te bepalen\n",
                        "Iteratie 2: van 60 naar 58 keuzes nog te bepalen\n",
                        "Iteratie 3: van 58 naar 58 keuzes nog te bepalen\n",
                        "Gelukt!\n",
                        "------ Mitsen/Mozaiekregels checken HDL_meerdere_terreinen2016\n",
                        "Iteratie 0: van 114 naar 2 keuzes nog te bepalen\n",
                        "Iteratie 1: van 2 naar 1 keuzes nog te bepalen\n",
                        "Iteratie 2: van 1 naar 1 keuzes nog te bepalen\n",
                        "Gelukt!\n",
                        "------ Mitsen/Mozaiekregels checken Bosgroep_SNLMonitoring_2014\n",
                        "Iteratie 0: van 181 naar 2 keuzes nog te bepalen\n",
                        "Iteratie 1: van 2 naar 0 keuzes nog te bepalen\n",
                        "Gelukt!\n",
                        "------ Mitsen/Mozaiekregels checken PRV_Witterdiep2021\n",
                        "Iteratie 0: van 194 naar 3 keuzes nog te bepalen\n",
                        "Iteratie 1: van 3 naar 0 keuzes nog te bepalen\n",
                        "Gelukt!\n"
                    ]
                }
            ],
            "source": [
                "mislukte_karteringen = []\n",
                "\n",
                "for key, kartering in karteringen.items():\n",
                "    print(f\"------ Mitsen/Mozaiekregels checken {key}\")\n",
                "    try:\n",
                "        mask = kartering.get_geometry_mask()\n",
                "        lbk = LBK.from_file(Path(\"../testing/bronbestanden/lbk.shp\"), mask=mask)\n",
                "        bodemkaart = Bodemkaart.from_file(Path(\"../testing/bronbestanden/bodemkaart.gpkg\"), mask=mask)\n",
                "        kartering.bepaal_mits_habitatkeuzes(fgr, bodemkaart, lbk)\n",
                "        kartering.bepaal_mozaiek_habitatkeuzes()    \n",
                "    except Exception as e:\n",
                "        print(e)\n",
                "        print(f\"!!! Fout bij {key} !!!\")\n",
                "        mislukte_karteringen.append(key)\n",
                "        continue\n",
                "    print(f\"Gelukt!\")\n",
                "\n",
                "if len(mislukte_karteringen) > 0:\n",
                "    print(f\"!!! De volgende karteringen hebben een fout bij het toepassen checken van de criteria!!!\")\n",
                "    print(mislukte_karteringen)"
            ]
        },
        {
            "cell_type": "markdown",
            "metadata": {},
            "source": [
                " ### Karteringen wegschrijven"
            ]
        },
        {
            "cell_type": "code",
            "execution_count": null,
            "metadata": {},
            "outputs": [],
            "source": [
                "assert False"
            ]
        },
        {
            "cell_type": "code",
            "execution_count": 8,
            "metadata": {},
            "outputs": [],
            "source": [
                "if False:\n",
                "    for gebied in (karteringen.keys()):\n",
                "        print(gebied)\n",
                "        # Vervangen van de shapefile path naar de output path\n",
                "        p = Path(overzicht[overzicht.naam_kartering == gebied].path_shapes.str.replace(opgeschoonde_shapefiles_prefix, output_prefix).iloc[0])\n",
                "        p.parent.mkdir(parents=True, exist_ok=True)\n",
                "        # append \"_split\" to the path\n",
                "        prev = gpd.read_file(p)\n",
                "        p = p.with_name(p.stem + \"_split\" + p.suffix)\n",
                "        karteringen[gebied].final_format_to_file(p)\n",
                "        split = gpd.read_file(p)\n",
                "        print(p)\n",
                "        print(prev.equals(split))\n",
                "        print(\"-----------------------------------------------------\")"
            ]
        },
        {
            "cell_type": "code",
            "execution_count": 9,
            "metadata": {},
            "outputs": [
                {
                    "name": "stdout",
                    "output_type": "stream",
                    "text": [
                        "GL_Zuidlaardermeer2019\n"
                    ]
                },
                {
                    "name": "stderr",
                    "output_type": "stream",
                    "text": [
                        "WARNING:fiona._env:Value 'Mitsen: [['50a', 'H7110_A', '((Niet geautomatiseerd: het Hoogveenmos-verbond aanwezig is en een acrotelm aanwezig is) en LBK is hoogveenlandschap (C))', 'CANNOT_BE_AUTOMATED'], ['50a', 'H7220', '(Niet geautomatiseerd: mits tufvorming plaatsvindt)', 'CANNOT_BE_AUTOMATED']]' of field _Mits_opm1 has been truncated to 254 characters.  This warning will not be emitted any more for that layer.\n"
                    ]
                },
                {
                    "name": "stdout",
                    "output_type": "stream",
                    "text": [
                        "NM_Fochteloerveen2013_14\n"
                    ]
                },
                {
                    "name": "stderr",
                    "output_type": "stream",
                    "text": [
                        "WARNING:fiona._env:Value 'Mitsen: [['11rg1', 'H3160', 'Geen mits (altijd waar)', 'TRUE'], ['11rg1', 'H7110_B', 'Geen mits (altijd waar)', 'TRUE'], ['11rg1', 'H7120', '(Niet geautomatiseerd: mits in herstellend hoogveen en veenmosbedekking > 20%)', 'CANNOT_BE_AUTOMATED'], ['11rg1', 'H7120', '(Niet geautomatiseerd: mits in herstellend hoogveen en veenmosbedekking < 20%)', 'CANNOT_BE_AUTOMATED']]' of field _Mits_opm1 has been truncated to 254 characters.  This warning will not be emitted any more for that layer.\n"
                    ]
                },
                {
                    "name": "stdout",
                    "output_type": "stream",
                    "text": [
                        "NM_Fochteloerveen_2020\n"
                    ]
                },
                {
                    "name": "stderr",
                    "output_type": "stream",
                    "text": [
                        "WARNING:fiona._env:Value 'Mitsen: [['42aa2c', 'H2180_A', 'FGR is Duinen (F)', 'FALSE'], ['42aa2c', 'H9120', '((Bodem is moderpodzolgronden (F) of Bodem is lemige humuspodzolgronden (F) of Bodem is oude kleigronden (F) of Bodem is leemgronden (F)) en (Niet geautomatiseerd: mits op een bosgroeiplaats ouder dan 1850 of in een daaraan grenzende minimaal honderdjarige bosopstand) en niet FGR is Duinen (F))', 'FALSE']]' of field _Mits_opm1 has been truncated to 254 characters.  This warning will not be emitted any more for that layer.\n"
                    ]
                },
                {
                    "name": "stdout",
                    "output_type": "stream",
                    "text": [
                        "NM_Klencke2018\n"
                    ]
                },
                {
                    "name": "stderr",
                    "output_type": "stream",
                    "text": [
                        "WARNING:fiona._env:Value 'Mitsen: [['42aa2c', 'H2180_A', 'FGR is Duinen (F)', 'FALSE'], ['42aa2c', 'H9120', '((Bodem is moderpodzolgronden (F) of Bodem is lemige humuspodzolgronden (F) of Bodem is oude kleigronden (F) of Bodem is leemgronden (F)) en (Niet geautomatiseerd: mits op een bosgroeiplaats ouder dan 1850 of in een daaraan grenzende minimaal honderdjarige bosopstand) en niet FGR is Duinen (F))', 'FALSE']]' of field _Mits_opm2 has been truncated to 254 characters.  This warning will not be emitted any more for that layer.\n"
                    ]
                },
                {
                    "name": "stdout",
                    "output_type": "stream",
                    "text": [
                        "NM_NorgerBeekdal2018\n"
                    ]
                },
                {
                    "name": "stderr",
                    "output_type": "stream",
                    "text": [
                        "WARNING:fiona._env:Value 'Mitsen: [['9aa3a', 'H2190_C', '(FGR is Noordzee (F) of FGR is Getijdengebied (F) of FGR is Duinen (F) of (Niet geautomatiseerd: het vlak op andere wijze onder \"kustgebied\" valt))', 'CANNOT_BE_AUTOMATED'], ['9aa3a', 'H7110_A', '((Niet geautomatiseerd: het Hoogveenmos-verbond aanwezig is en een acrotelm aanwezig is) en LBK is hoogveenlandschap (C))', 'CANNOT_BE_AUTOMATED'], ['9aa3a', 'H7120', 'LBK is herstellend hoogveen (C)', 'CANNOT_BE_AUTOMATED'], ['9aa3a', 'H7140_A', '(Niet geautomatiseerd: mits in kwelgebied)', 'CANNOT_BE_AUTOMATED']]' of field _Mits_opm1 has been truncated to 254 characters.  This warning will not be emitted any more for that layer.\n"
                    ]
                },
                {
                    "name": "stdout",
                    "output_type": "stream",
                    "text": [
                        "NM_SBB_Fochteloerveen_randen2016\n"
                    ]
                },
                {
                    "name": "stderr",
                    "output_type": "stream",
                    "text": [
                        "WARNING:fiona._env:Value 'Mitsen: [['42aa1d', 'H9190', '((Bodem is leemarme humuspodzolgronden (C) of Bodem is leemarme vaaggronden (C) of Bodem is podzolgronden met een zanddek (C)) en (Niet geautomatiseerd: mits onderdeel van een minimaal honderdjarige opstand van zomereik of op een bosgroeiplaats ouder dan 1850) en niet FGR is Duinen (F))', 'CANNOT_BE_AUTOMATED']]' of field _Mits_opm1 has been truncated to 254 characters.  This warning will not be emitted any more for that layer.\n",
                        "WARNING:fiona._env:Value '[\"['50c', 4, 'H1110_A']\", \"['50c', 7, 'H1110_B']\", \"['50c', 14, 'H1130']\", \"['50c', 20, 'H1140_A']\", \"['50c', 23, 'H1140_B']\", \"['50c', 102, 'H2110']\", \"['50c', 106, 'H2120']\", \"['50c', 122, 'H2130_A']\", \"['50c', 138, 'H2130_B']\", \"['50c', 142, 'H2130_C ']\", \"['50c', 270, 'H2310']\", \"['50c', 287, 'H2330']\", \"['50c', 384, 'H4010_A']\", \"['50c', 400, 'H4030']\", \"['50c', 583, 'H7150']\"]' of field _SBBdftbl1 has been truncated to 254 characters.  This warning will not be emitted any more for that layer.\n"
                    ]
                },
                {
                    "name": "stdout",
                    "output_type": "stream",
                    "text": [
                        "NM_DCR_2013\n",
                        "NM_Westerbork2017\n"
                    ]
                },
                {
                    "name": "stderr",
                    "output_type": "stream",
                    "text": [
                        "WARNING:fiona._env:Value 'Mitsen: [['39rg1', 'H2180_B', 'FGR is Duinen (F)', 'FALSE'], ['39rg1', 'H91D0', '(Niet geautomatiseerd: mits met veenmosbedekking > 20%)', 'CANNOT_BE_AUTOMATED'], ['39rg1', 'H91E0_C', '((Niet geautomatiseerd: op alluviale bodem) en LBK is onder invloed van beek of rivier (F))', 'FALSE']]' of field _Mits_opm1 has been truncated to 254 characters.  This warning will not be emitted any more for that layer.\n"
                    ]
                },
                {
                    "name": "stdout",
                    "output_type": "stream",
                    "text": [
                        "SBB0756_Drentsche_A2009\n"
                    ]
                },
                {
                    "name": "stderr",
                    "output_type": "stream",
                    "text": [
                        "WARNING:fiona._env:Value 'Mitsen: [['40aa1c', 'H7110_A', '((Niet geautomatiseerd: het Hoogveenmos-verbond aanwezig is en een acrotelm aanwezig is) en LBK is hoogveenlandschap (C))', 'CANNOT_BE_AUTOMATED'], ['40aa1c', 'H7120', 'LBK is herstellend hoogveen (C)', 'CANNOT_BE_AUTOMATED'], ['40aa1c', 'H91D0', '(Niet geautomatiseerd: mits buiten H7110_A en H7120)', 'CANNOT_BE_AUTOMATED'], ['40rg2', 'H7110_A', '((Niet geautomatiseerd: het Hoogveenmos-verbond aanwezig is en een acrotelm aanwezig is) en LBK is hoogveenlandschap (C))', 'CANNOT_BE_AUTOMATED'], ['40rg2', 'H7120', 'LBK is herstellend hoogveen (C)', 'CANNOT_BE_AUTOMATED'], ['40rg2', 'H91D0', '(Niet geautomatiseerd: mits buiten H7110_A en H7120)', 'CANNOT_BE_AUTOMATED']]' of field _Mits_opm1 has been truncated to 254 characters.  This warning will not be emitted any more for that layer.\n"
                    ]
                },
                {
                    "name": "stdout",
                    "output_type": "stream",
                    "text": [
                        "SBB0757_De_Velden2009\n"
                    ]
                },
                {
                    "name": "stderr",
                    "output_type": "stream",
                    "text": [
                        "WARNING:fiona._env:Value 'Mitsen: [['10rg2', 'H2190_C', 'Geen mits (altijd waar)', 'TRUE'], ['10rg2', 'H3130', 'Geen mits (altijd waar)', 'TRUE'], ['10rg2', 'H3160', 'Geen mits (altijd waar)', 'TRUE'], ['10rg2', 'H7110_A', '((Niet geautomatiseerd: het Hoogveenmos-verbond aanwezig is en een acrotelm aanwezig is) en LBK is hoogveenlandschap (C))', 'CANNOT_BE_AUTOMATED'], ['10rg2', 'H7120', '(Niet geautomatiseerd: mits in herstellend hoogveen en veenmosbedekking > 20%)', 'CANNOT_BE_AUTOMATED'], ['10rg2', 'H7120', '(Niet geautomatiseerd: mits in herstellend hoogveen en veenmosbedekking < 20%)', 'CANNOT_BE_AUTOMATED'], ['10rg2', 'H7140_A', 'Geen mits (altijd waar)', 'TRUE'], ['10rg2', 'H7150', 'Geen mits (altijd waar)', 'TRUE']]' of field _Mits_opm2 has been truncated to 254 characters.  This warning will not be emitted any more for that layer.\n"
                    ]
                },
                {
                    "name": "stdout",
                    "output_type": "stream",
                    "text": [
                        "SBB0763_Terhorst2009\n"
                    ]
                },
                {
                    "name": "stderr",
                    "output_type": "stream",
                    "text": [
                        "WARNING:fiona._env:Value 'Mitsen: [['20aa1', 'H2310', '(niet (FGR is Noordzee (F) of FGR is Getijdengebied (F) of FGR is Duinen (F) of (Niet geautomatiseerd: het vlak op andere wijze onder \"kustgebied\" valt)) en Bodem is vaaggronden (C) en (Niet geautomatiseerd: kraaihei niet dominant))', 'CANNOT_BE_AUTOMATED'], ['20aa1', 'H4030', '(niet (FGR is Noordzee (F) of FGR is Getijdengebied (F) of FGR is Duinen (F) of (Niet geautomatiseerd: het vlak op andere wijze onder \"kustgebied\" valt)) en niet Bodem is vaaggronden (C) en (Niet geautomatiseerd: kraaihei niet dominant))', 'CANNOT_BE_AUTOMATED']]' of field _Mits_opm1 has been truncated to 254 characters.  This warning will not be emitted any more for that layer.\n"
                    ]
                },
                {
                    "name": "stdout",
                    "output_type": "stream",
                    "text": [
                        "SBB0816_Norg2010\n"
                    ]
                },
                {
                    "name": "stderr",
                    "output_type": "stream",
                    "text": [
                        "WARNING:fiona._env:Value 'Mozaiekregels: [['11rg2', 'H4010_A', 'Placeholder mozaiekregel (nog niet geimplementeerd) (nooit waar)', 'CANNOT_BE_AUTOMATED'], ['11rg2', 'H4030', 'Placeholder mozaiekregel (nog niet geimplementeerd) (nooit waar)', 'CANNOT_BE_AUTOMATED'], ['11rg2', 'H7120', 'Geen mozaiekregel (altijd waar)', 'TRUE']]' of field _Mozk_opm1 has been truncated to 254 characters.  This warning will not be emitted any more for that layer.\n"
                    ]
                },
                {
                    "name": "stdout",
                    "output_type": "stream",
                    "text": [
                        "SBB0817_Grolloerveen2013\n"
                    ]
                },
                {
                    "name": "stderr",
                    "output_type": "stream",
                    "text": [
                        "WARNING:fiona._env:Value 'Mitsen: [['11aa1', 'H7120', '(Niet geautomatiseerd: mits in herstellend hoogveen en veenmosbedekking > 20%)', 'CANNOT_BE_AUTOMATED'], ['11aa1', 'H7120', '(Niet geautomatiseerd: mits in herstellend hoogveen en veenmosbedekking < 20%)', 'CANNOT_BE_AUTOMATED'], ['11aa1', 'H7150', 'niet LBK is hoogveen (F)', 'TRUE']]' of field _Mits_opm1 has been truncated to 254 characters.  This warning will not be emitted any more for that layer.\n"
                    ]
                },
                {
                    "name": "stdout",
                    "output_type": "stream",
                    "text": [
                        "SBB0863_Elperstroom_Schoonloo2012\n"
                    ]
                },
                {
                    "name": "stderr",
                    "output_type": "stream",
                    "text": [
                        "WARNING:fiona._env:Value 'Mitsen: [['10rg1', 'H7110_A', '((Niet geautomatiseerd: het Hoogveenmos-verbond aanwezig is en een acrotelm aanwezig is) en LBK is hoogveenlandschap (C))', 'CANNOT_BE_AUTOMATED'], ['10rg1', 'H7120', 'LBK is herstellend hoogveen (C)', 'CANNOT_BE_AUTOMATED']]' of field _Mits_opm2 has been truncated to 254 characters.  This warning will not be emitted any more for that layer.\n"
                    ]
                },
                {
                    "name": "stdout",
                    "output_type": "stream",
                    "text": [
                        "SBB0881_SBB_Ruinen_Havelterberg2013\n"
                    ]
                },
                {
                    "name": "stderr",
                    "output_type": "stream",
                    "text": [
                        "WARNING:fiona._env:Value 'Mitsen: [['9aa3b', 'H7140_A', '(Niet geautomatiseerd: mits geen onderdeel van H7110_A)', 'CANNOT_BE_AUTOMATED'], ['10ab1', 'H3160', '(Niet geautomatiseerd: mits in vennen)', 'CANNOT_BE_AUTOMATED'], ['10ab1', 'H7150', 'Geen mits (altijd waar)', 'TRUE'], ['9b2a', 'H3130', 'Geen mits (altijd waar)', 'TRUE'], ['9b2a', 'H3160', '(Niet geautomatiseerd: mits in vennen en niet in kwelgebied en niet in mozaïek met vegetaties van H3130)', 'CANNOT_BE_AUTOMATED'], ['9b2a', 'H7140_A', '(Niet geautomatiseerd: mits in kwelgebied en niet in vennen)', 'CANNOT_BE_AUTOMATED'], ['9b2a', 'H7150', 'Geen mits (altijd waar)', 'TRUE']]' of field _Mits_opm2 has been truncated to 254 characters.  This warning will not be emitted any more for that layer.\n"
                    ]
                },
                {
                    "name": "stdout",
                    "output_type": "stream",
                    "text": [
                        "SBB0935_DrentsFrieseWold2015\n"
                    ]
                },
                {
                    "name": "stderr",
                    "output_type": "stream",
                    "text": [
                        "WARNING:fiona._env:Value '[\"['50a', 213, 'H2190_A']\", \"['50a', 292, 'H3110']\", \"['50a', 311, 'H3130']\", \"['50a', 317, 'H3140']\", \"['50a', 324, 'H3150']\", \"['50a', 349, 'H3160']\", \"['50a', 360, 'H3260_A']\", \"['50a', 361, 'H3260_A']\", \"['50a', 364, 'H3260_B']\", \"['50a', 365, 'H3260_B']\", \"['50a', 478, 'H7110_A']\", \"['50a', 496, 'H7110_B']\", \"['50a', 582, 'H7150']\", \"['50a', 585, 'H7220']\"]' of field _SBBdftbl1 has been truncated to 254 characters.  This warning will not be emitted any more for that layer.\n"
                    ]
                },
                {
                    "name": "stdout",
                    "output_type": "stream",
                    "text": [
                        "SBB0936_DrentseAa2015_16\n"
                    ]
                },
                {
                    "name": "stderr",
                    "output_type": "stream",
                    "text": [
                        "/home/jordydelange/git/veg2hab/veg2hab/vegkartering.py:1400: UserWarning: Column names longer than 10 characters will be truncated when saved to ESRI Shapefile.\n",
                        "  final.to_file(path)\n",
                        "WARNING:fiona._env:Normalized/laundered field name: '_VgTypInf10' to '_VgTypIn_1'\n",
                        "WARNING:fiona._env:Normalized/laundered field name: '_SBBdftbl10' to '_SBBdftb_1'\n",
                        "WARNING:fiona._env:Normalized/laundered field name: '_VvNdftbl10' to '_VvNdftb_1'\n",
                        "WARNING:fiona._env:Normalized/laundered field name: '_Mits_opm10' to '_Mits_op_1'\n",
                        "WARNING:fiona._env:Normalized/laundered field name: '_Mozk_opm10' to '_Mozk_op_1'\n",
                        "WARNING:fiona._env:Normalized/laundered field name: '_MozkPerc10' to '_MozkPer_1'\n",
                        "WARNING:fiona._env:Value 'Mitsen: [['42aa1d', 'H9190', '((Bodem is leemarme humuspodzolgronden (C) of Bodem is leemarme vaaggronden (C) of Bodem is podzolgronden met een zanddek (C)) en (Niet geautomatiseerd: mits onderdeel van een minimaal honderdjarige opstand van zomereik of op een bosgroeiplaats ouder dan 1850) en niet FGR is Duinen (F))', 'CANNOT_BE_AUTOMATED']]' of field _Mits_opm1 has been truncated to 254 characters.  This warning will not be emitted any more for that layer.\n"
                    ]
                },
                {
                    "name": "stdout",
                    "output_type": "stream",
                    "text": [
                        "SBB1034_Dwingelderveld2017\n"
                    ]
                },
                {
                    "name": "stderr",
                    "output_type": "stream",
                    "text": [
                        "WARNING:fiona._env:Normalized/laundered field name: '_VgTypInf10' to '_VgTypIn_1'\n",
                        "WARNING:fiona._env:Normalized/laundered field name: '_SBBdftbl10' to '_SBBdftb_1'\n",
                        "WARNING:fiona._env:Normalized/laundered field name: '_VvNdftbl10' to '_VvNdftb_1'\n",
                        "WARNING:fiona._env:Normalized/laundered field name: '_Mits_opm10' to '_Mits_op_1'\n",
                        "WARNING:fiona._env:Normalized/laundered field name: '_Mozk_opm10' to '_Mozk_op_1'\n",
                        "WARNING:fiona._env:Normalized/laundered field name: '_MozkPerc10' to '_MozkPer_1'\n",
                        "WARNING:fiona._env:Normalized/laundered field name: '_VgTypInf11' to '_VgTypIn_2'\n",
                        "WARNING:fiona._env:Normalized/laundered field name: '_SBBdftbl11' to '_SBBdftb_2'\n",
                        "WARNING:fiona._env:Normalized/laundered field name: '_VvNdftbl11' to '_VvNdftb_2'\n",
                        "WARNING:fiona._env:Normalized/laundered field name: '_Mits_opm11' to '_Mits_op_2'\n",
                        "WARNING:fiona._env:Normalized/laundered field name: '_Mozk_opm11' to '_Mozk_op_2'\n",
                        "WARNING:fiona._env:Normalized/laundered field name: '_MozkPerc11' to '_MozkPer_2'\n",
                        "WARNING:fiona._env:Normalized/laundered field name: '_VgTypInf12' to '_VgTypIn_3'\n",
                        "WARNING:fiona._env:Normalized/laundered field name: '_SBBdftbl12' to '_SBBdftb_3'\n",
                        "WARNING:fiona._env:Normalized/laundered field name: '_VvNdftbl12' to '_VvNdftb_3'\n",
                        "WARNING:fiona._env:Normalized/laundered field name: '_Mits_opm12' to '_Mits_op_3'\n",
                        "WARNING:fiona._env:Normalized/laundered field name: '_Mozk_opm12' to '_Mozk_op_3'\n",
                        "WARNING:fiona._env:Normalized/laundered field name: '_MozkPerc12' to '_MozkPer_3'\n",
                        "WARNING:fiona._env:Value 'Mitsen: [['9aa2', 'H7140_B', 'Geen mits (altijd waar)', 'TRUE'], ['11aa2a', 'H4010_A', '(FGR is Hogere Zandgronden (T) en niet LBK is hoogveen (C))', 'CANNOT_BE_AUTOMATED'], ['11aa2a', 'H7120', 'LBK is herstellend hoogveen (C)', 'CANNOT_BE_AUTOMATED'], ['11-h', 'H7110_A', '((Niet geautomatiseerd: het Hoogveenmos-verbond aanwezig is en een acrotelm aanwezig is) en LBK is hoogveenlandschap (C))', 'CANNOT_BE_AUTOMATED'], ['11-h', 'H7120', 'LBK is herstellend hoogveen (C)', 'CANNOT_BE_AUTOMATED']]' of field _Mits_opm1 has been truncated to 254 characters.  This warning will not be emitted any more for that layer.\n"
                    ]
                },
                {
                    "name": "stdout",
                    "output_type": "stream",
                    "text": [
                        "SBB1039_Drenthe2019\n"
                    ]
                },
                {
                    "name": "stderr",
                    "output_type": "stream",
                    "text": [
                        "WARNING:fiona._env:Value 'Mitsen: [['20aa1d', 'H2320', '(niet (FGR is Noordzee (F) of FGR is Getijdengebied (F) of FGR is Duinen (F) of (Niet geautomatiseerd: het vlak op andere wijze onder \"kustgebied\" valt)) en (Niet geautomatiseerd: mits kraaihei dominant))', 'CANNOT_BE_AUTOMATED'], ['20aa1d', 'H4030', '(niet (FGR is Noordzee (F) of FGR is Getijdengebied (F) of FGR is Duinen (F) of (Niet geautomatiseerd: het vlak op andere wijze onder \"kustgebied\" valt)) en niet Bodem is vaaggronden (F) en (Niet geautomatiseerd: kraaihei niet dominant))', 'CANNOT_BE_AUTOMATED']]' of field _Mits_opm3 has been truncated to 254 characters.  This warning will not be emitted any more for that layer.\n"
                    ]
                },
                {
                    "name": "stdout",
                    "output_type": "stream",
                    "text": [
                        "Drouwenerzand_2020\n"
                    ]
                },
                {
                    "name": "stderr",
                    "output_type": "stream",
                    "text": [
                        "WARNING:fiona._env:Value 'Mitsen: [['20aa1b', 'H2150', '(FGR is Noordzee (F) of FGR is Getijdengebied (F) of FGR is Duinen (F) of (Niet geautomatiseerd: het vlak op andere wijze onder \"kustgebied\" valt))', 'CANNOT_BE_AUTOMATED'], ['20aa1b', 'H4030', '(niet (FGR is Noordzee (F) of FGR is Getijdengebied (F) of FGR is Duinen (F) of (Niet geautomatiseerd: het vlak op andere wijze onder \"kustgebied\" valt)) en niet Bodem is vaaggronden (F) en (Niet geautomatiseerd: kraaihei niet dominant))', 'CANNOT_BE_AUTOMATED'], ['20aa1c', 'H2320', '(niet (FGR is Noordzee (F) of FGR is Getijdengebied (F) of FGR is Duinen (F) of (Niet geautomatiseerd: het vlak op andere wijze onder \"kustgebied\" valt)) en (Niet geautomatiseerd: mits kraaihei dominant))', 'CANNOT_BE_AUTOMATED'], ['20aa1c', 'H4030', '(niet (FGR is Noordzee (F) of FGR is Getijdengebied (F) of FGR is Duinen (F) of (Niet geautomatiseerd: het vlak op andere wijze onder \"kustgebied\" valt)) en niet Bodem is vaaggronden (F) en (Niet geautomatiseerd: kraaihei niet dominant))', 'CANNOT_BE_AUTOMATED']]' of field _Mits_opm1 has been truncated to 254 characters.  This warning will not be emitted any more for that layer.\n"
                    ]
                },
                {
                    "name": "stdout",
                    "output_type": "stream",
                    "text": [
                        "Fr 0752_Bakkefean_2009\n"
                    ]
                },
                {
                    "name": "stderr",
                    "output_type": "stream",
                    "text": [
                        "WARNING:fiona._env:Value '[\"['50a', 213, 'H2190_A']\", \"['50a', 292, 'H3110']\", \"['50a', 311, 'H3130']\", \"['50a', 317, 'H3140']\", \"['50a', 324, 'H3150']\", \"['50a', 349, 'H3160']\", \"['50a', 360, 'H3260_A']\", \"['50a', 361, 'H3260_A']\", \"['50a', 364, 'H3260_B']\", \"['50a', 365, 'H3260_B']\", \"['50a', 478, 'H7110_A']\", \"['50a', 496, 'H7110_B']\", \"['50a', 582, 'H7150']\", \"['50a', 585, 'H7220']\"]' of field _SBBdftbl1 has been truncated to 254 characters.  This warning will not be emitted any more for that layer.\n"
                    ]
                },
                {
                    "name": "stdout",
                    "output_type": "stream",
                    "text": [
                        "Slotplaats_2016\n"
                    ]
                },
                {
                    "name": "stderr",
                    "output_type": "stream",
                    "text": [
                        "WARNING:fiona._env:Value 'Mozaiekregels: [['11rg2', 'H4010_A', 'Placeholder mozaiekregel (nog niet geimplementeerd) (nooit waar)', 'CANNOT_BE_AUTOMATED'], ['11rg2', 'H4030', 'Placeholder mozaiekregel (nog niet geimplementeerd) (nooit waar)', 'CANNOT_BE_AUTOMATED'], ['11rg2', 'H7120', 'Geen mozaiekregel (altijd waar)', 'TRUE']]' of field _Mozk_opm1 has been truncated to 254 characters.  This warning will not be emitted any more for that layer.\n"
                    ]
                },
                {
                    "name": "stdout",
                    "output_type": "stream",
                    "text": [
                        "Ameland_2010\n"
                    ]
                },
                {
                    "name": "stderr",
                    "output_type": "stream",
                    "text": [
                        "WARNING:fiona._env:Normalized/laundered field name: '_VgTypInf10' to '_VgTypIn_1'\n",
                        "WARNING:fiona._env:Normalized/laundered field name: '_SBBdftbl10' to '_SBBdftb_1'\n",
                        "WARNING:fiona._env:Normalized/laundered field name: '_VvNdftbl10' to '_VvNdftb_1'\n",
                        "WARNING:fiona._env:Normalized/laundered field name: '_Mits_opm10' to '_Mits_op_1'\n",
                        "WARNING:fiona._env:Normalized/laundered field name: '_Mozk_opm10' to '_Mozk_op_1'\n",
                        "WARNING:fiona._env:Normalized/laundered field name: '_MozkPerc10' to '_MozkPer_1'\n",
                        "WARNING:fiona._env:Value 'Mitsen: [['14rg3', 'H2130_B', '((FGR is Noordzee (F) of FGR is Getijdengebied (F) of FGR is Duinen (T) of (Niet geautomatiseerd: het vlak op andere wijze onder \"kustgebied\" valt)) en (Niet geautomatiseerd: op een standplaats als van andere vegetaties van H2130_B))', 'CANNOT_BE_AUTOMATED']]' of field _Mits_opm1 has been truncated to 254 characters.  This warning will not be emitted any more for that layer.\n"
                    ]
                },
                {
                    "name": "stdout",
                    "output_type": "stream",
                    "text": [
                        "Schiermonnikoog_2015\n"
                    ]
                },
                {
                    "name": "stderr",
                    "output_type": "stream",
                    "text": [
                        "WARNING:fiona._env:Value 'Mitsen: [['14rg1', 'H2130_B', '(FGR is Noordzee (F) of FGR is Getijdengebied (F) of FGR is Duinen (T) of (Niet geautomatiseerd: het vlak op andere wijze onder \"kustgebied\" valt))', 'TRUE'], ['14rg1', 'H2330', 'LBK is zandverstuiving (C)', 'CANNOT_BE_AUTOMATED']]' of field _Mits_opm1 has been truncated to 254 characters.  This warning will not be emitted any more for that layer.\n",
                        "WARNING:fiona._env:Value 'Mitsen: [['14rg1', 'H2130_B', '(FGR is Noordzee (F) of FGR is Getijdengebied (F) of FGR is Duinen (T) of (Niet geautomatiseerd: het vlak op andere wijze onder \"kustgebied\" valt))', 'TRUE'], ['14rg1', 'H2330', 'LBK is zandverstuiving (C)', 'CANNOT_BE_AUTOMATED']]' of field _Mits_opm1 has been truncated to 254 characters.  This warning will not be emitted any more for that layer.\n"
                    ]
                },
                {
                    "name": "stdout",
                    "output_type": "stream",
                    "text": [
                        "Schiermonnikoog_2017\n",
                        "Terschelling_2012\n"
                    ]
                },
                {
                    "name": "stderr",
                    "output_type": "stream",
                    "text": [
                        "WARNING:fiona._env:Normalized/laundered field name: '_VgTypInf10' to '_VgTypIn_1'\n",
                        "WARNING:fiona._env:Normalized/laundered field name: '_SBBdftbl10' to '_SBBdftb_1'\n",
                        "WARNING:fiona._env:Normalized/laundered field name: '_VvNdftbl10' to '_VvNdftb_1'\n",
                        "WARNING:fiona._env:Normalized/laundered field name: '_Mits_opm10' to '_Mits_op_1'\n",
                        "WARNING:fiona._env:Normalized/laundered field name: '_Mozk_opm10' to '_Mozk_op_1'\n",
                        "WARNING:fiona._env:Normalized/laundered field name: '_MozkPerc10' to '_MozkPer_1'\n",
                        "WARNING:fiona._env:Value 'Mitsen: [['50a', 'H1110_A', '((FGR is Getijdengebied (C) of FGR is Noordzee (C)) en (Niet geautomatiseerd: in slikkige en fijnzandige delen, voorzover gelegen tussen de -20 meter-dieptelijn en de op Lowest Astronomical Tide gebaseerde laagwaterlijn, inclusief de tussenliggende diepere laagten en geulen, en mits geen onderdeel van H1130 en H1160))', 'CANNOT_BE_AUTOMATED'], ['50a', 'H1110_B', '((FGR is Getijdengebied (C) of FGR is Noordzee (C)) en (Niet geautomatiseerd: in grofzandige delen, voorzover gelegen tussen de -20 meter-dieptelijn en de op Lowest Astronomical Tide gebaseerde laagwaterlijn, inclusief de tussenliggende diepere laagten en geulen))', 'CANNOT_BE_AUTOMATED'], ['50a', 'H1130', '(FGR is Getijdengebied (C) en (Niet geautomatiseerd: mits gelegen in het verlengde van een rivier waarvan het water een sterke en continue invloed op het habitattype heeft, voorzover gelegen onder de gemiddelde hoogwaterlijn))', 'CANNOT_BE_AUTOMATED'], ['50a', 'H1140_A', '((FGR is Getijdengebied (C) of FGR is Noordzee (C)) en (Niet geautomatiseerd: in slikkige en fijnzandige delen, voorzover gelegen tussen de op Lowest Astronomical Tide gebaseerde laagwaterlijn en de gemiddelde hoogwaterlijn, en mits geen onderdeel van H1130 en H116))', 'CANNOT_BE_AUTOMATED'], ['50a', 'H1140_B', '((FGR is Getijdengebied (C) of FGR is Noordzee (C)) en (Niet geautomatiseerd: in grofzandige delen, voorzover gelegen tussen de op Lowest Astronomical Tide gebaseerde laagwaterlijn en de gemiddelde hoogwaterlijn))', 'CANNOT_BE_AUTOMATED'], ['50a', 'H1160', '(FGR is Getijdengebied (C) en (Niet geautomatiseerd: mits in een inham met gedempt getij en geen sterke invloed van rivierwater))', 'CANNOT_BE_AUTOMATED'], ['50a', 'H7110_A', '((Niet geautomatiseerd: het Hoogveenmos-verbond aanwezig is en een acrotelm aanwezig is) en LBK is hoogveenlandschap (C))', 'CANNOT_BE_AUTOMATED'], ['50a', 'H7220', '(Niet geautomatiseerd: mits tufvorming plaatsvindt)', 'CANNOT_BE_AUTOMATED']]' of field _Mits_opm1 has been truncated to 254 characters.  This warning will not be emitted any more for that layer.\n"
                    ]
                },
                {
                    "name": "stdout",
                    "output_type": "stream",
                    "text": [
                        "Vlieland_2013\n"
                    ]
                },
                {
                    "name": "stderr",
                    "output_type": "stream",
                    "text": [
                        "WARNING:fiona._env:Value 'Mitsen: [['20ab4', 'H2130_A', '(Niet geautomatiseerd: mits op een standplaats als van andere vegetaties van H2130_A en kraaihei afwezig)', 'CANNOT_BE_AUTOMATED'], ['20ab4', 'H2130_B', '(Niet geautomatiseerd: mits op een standplaats als van andere vegetaties van H2130_B en kraaihei afwezig)', 'CANNOT_BE_AUTOMATED'], ['20ab4', 'H2140_B', '((FGR is Noordzee (F) of FGR is Getijdengebied (F) of FGR is Duinen (T) of (Niet geautomatiseerd: het vlak op andere wijze onder \"kustgebied\" valt)) en (Niet geautomatiseerd: op droge plaatsen en kraaihei aanwezig))', 'CANNOT_BE_AUTOMATED'], ['20ab4', 'H2170', '((FGR is Noordzee (F) of FGR is Getijdengebied (F) of FGR is Duinen (T) of (Niet geautomatiseerd: het vlak op andere wijze onder \"kustgebied\" valt)) en (Niet geautomatiseerd: op vochtige plaatsen))', 'CANNOT_BE_AUTOMATED']]' of field _Mits_opm2 has been truncated to 254 characters.  This warning will not be emitted any more for that layer.\n"
                    ]
                },
                {
                    "name": "stdout",
                    "output_type": "stream",
                    "text": [
                        "Lauwersmeer_Fryslan_2015\n"
                    ]
                },
                {
                    "name": "stderr",
                    "output_type": "stream",
                    "text": [
                        "WARNING:fiona._env:Value 'Mitsen: [['9ba4a', 'H2190_B', '(FGR is Noordzee (F) of FGR is Getijdengebied (F) of FGR is Duinen (F) of (Niet geautomatiseerd: het vlak op andere wijze onder \"kustgebied\" valt))', 'CANNOT_BE_AUTOMATED'], ['9ba4a', 'H7230', '(Niet geautomatiseerd: mits minstens één van de volgende plantensoorten aanwezig is: breed wollegras, gele zegge, schubzegge, tweehuizige zegge, veenzegge)', 'CANNOT_BE_AUTOMATED']]' of field _Mits_opm1 has been truncated to 254 characters.  This warning will not be emitted any more for that layer.\n"
                    ]
                },
                {
                    "name": "stdout",
                    "output_type": "stream",
                    "text": [
                        "Rottige_Meenthe_Brandemeer_2013\n"
                    ]
                },
                {
                    "name": "stderr",
                    "output_type": "stream",
                    "text": [
                        "WARNING:fiona._env:Value 'Mitsen: [['6ab2', 'H3130', '(Niet geautomatiseerd: mits in combinatie met andere vegetaties van H3130 en niet in lijnvormige wateren)', 'CANNOT_BE_AUTOMATED'], ['6ab2', 'H3160', '(Niet geautomatiseerd: mits in vennen en in combinatie met andere vegetaties van H3160)', 'CANNOT_BE_AUTOMATED']]' of field _Mits_opm2 has been truncated to 254 characters.  This warning will not be emitted any more for that layer.\n"
                    ]
                },
                {
                    "name": "stdout",
                    "output_type": "stream",
                    "text": [
                        "Sneekermeergebied_2009\n"
                    ]
                },
                {
                    "name": "stderr",
                    "output_type": "stream",
                    "text": [
                        "WARNING:fiona._env:Value '[\"['50c', 4, 'H1110_A']\", \"['50c', 7, 'H1110_B']\", \"['50c', 14, 'H1130']\", \"['50c', 20, 'H1140_A']\", \"['50c', 23, 'H1140_B']\", \"['50c', 102, 'H2110']\", \"['50c', 106, 'H2120']\", \"['50c', 122, 'H2130_A']\", \"['50c', 138, 'H2130_B']\", \"['50c', 142, 'H2130_C ']\", \"['50c', 270, 'H2310']\", \"['50c', 287, 'H2330']\", \"['50c', 384, 'H4010_A']\", \"['50c', 400, 'H4030']\", \"['50c', 583, 'H7150']\"]' of field _SBBdftbl3 has been truncated to 254 characters.  This warning will not be emitted any more for that layer.\n"
                    ]
                },
                {
                    "name": "stdout",
                    "output_type": "stream",
                    "text": [
                        "Sneekermeergebied_2009_Terkaplester puollen\n"
                    ]
                },
                {
                    "name": "stderr",
                    "output_type": "stream",
                    "text": [
                        "WARNING:fiona._env:Value '[\"['50a', 213, 'H2190_A']\", \"['50a', 292, 'H3110']\", \"['50a', 311, 'H3130']\", \"['50a', 317, 'H3140']\", \"['50a', 324, 'H3150']\", \"['50a', 349, 'H3160']\", \"['50a', 360, 'H3260_A']\", \"['50a', 361, 'H3260_A']\", \"['50a', 364, 'H3260_B']\", \"['50a', 365, 'H3260_B']\", \"['50a', 496, 'H7110_B']\", \"['50a', 582, 'H7150']\", \"['50a', 585, 'H7220']\"]' of field _SBBdftbl1 has been truncated to 254 characters.  This warning will not be emitted any more for that layer.\n"
                    ]
                },
                {
                    "name": "stdout",
                    "output_type": "stream",
                    "text": [
                        "Bakkefean_2022\n"
                    ]
                },
                {
                    "name": "stderr",
                    "output_type": "stream",
                    "text": [
                        "WARNING:fiona._env:Value 'Mitsen: [['9aa3a', 'H2190_C', '(FGR is Noordzee (F) of FGR is Getijdengebied (F) of FGR is Duinen (F) of (Niet geautomatiseerd: het vlak op andere wijze onder \"kustgebied\" valt))', 'CANNOT_BE_AUTOMATED'], ['9aa3a', 'H3130', 'Geen mits (altijd waar)', 'TRUE'], ['9aa3a', 'H3160', 'Geen mits (altijd waar)', 'TRUE'], ['9aa3a', 'H7110_B', 'Geen mits (altijd waar)', 'TRUE'], ['9aa3a', 'H7140_A', '(Niet geautomatiseerd: mits in kwelgebied)', 'CANNOT_BE_AUTOMATED'], ['9aa3a', 'H7150', 'Geen mits (altijd waar)', 'TRUE']]' of field _Mits_opm1 has been truncated to 254 characters.  This warning will not be emitted any more for that layer.\n"
                    ]
                },
                {
                    "name": "stdout",
                    "output_type": "stream",
                    "text": [
                        "Snitsermar_2021\n"
                    ]
                },
                {
                    "name": "stderr",
                    "output_type": "stream",
                    "text": [
                        "WARNING:fiona._env:Value 'Mitsen: [['32ba2', 'H6430_B', '(Niet geautomatiseerd: mits minstens één niet-algemene plantensoort van zoom of ruigte aanwezig is)', 'CANNOT_BE_AUTOMATED'], ['32ba2', 'H6430_B', '(Niet geautomatiseerd: mits de constante typische soort moerasmelkdistel aanwezig is)', 'CANNOT_BE_AUTOMATED'], ['32ba2a', 'H6430_B', '(Niet geautomatiseerd: mits minstens één niet-algemene plantensoort van zoom of ruigte aanwezig is)', 'CANNOT_BE_AUTOMATED'], ['32ba2a', 'H6430_B', '(Niet geautomatiseerd: mits de constante typische soort moerasmelkdistel aanwezig is)', 'CANNOT_BE_AUTOMATED'], ['32ba2b', 'H6430_B', '(Niet geautomatiseerd: mits minstens één niet-algemene plantensoort van zoom of ruigte aanwezig is)', 'CANNOT_BE_AUTOMATED'], ['32ba2b', 'H6430_B', '(Niet geautomatiseerd: mits de constante typische soort moerasmelkdistel aanwezig is)', 'CANNOT_BE_AUTOMATED']]' of field _Mits_opm2 has been truncated to 254 characters.  This warning will not be emitted any more for that layer.\n"
                    ]
                },
                {
                    "name": "stdout",
                    "output_type": "stream",
                    "text": [
                        "Deelen_2022\n"
                    ]
                },
                {
                    "name": "stderr",
                    "output_type": "stream",
                    "text": [
                        "WARNING:fiona._env:Value 'Mitsen: [['42aa1d', 'H9190', '((Bodem is leemarme humuspodzolgronden (C) of Bodem is leemarme vaaggronden (C) of Bodem is podzolgronden met een zanddek (C)) en (Niet geautomatiseerd: mits onderdeel van een minimaal honderdjarige opstand van zomereik of op een bosgroeiplaats ouder dan 1850) en niet FGR is Duinen (F))', 'CANNOT_BE_AUTOMATED']]' of field _Mits_opm1 has been truncated to 254 characters.  This warning will not be emitted any more for that layer.\n"
                    ]
                },
                {
                    "name": "stdout",
                    "output_type": "stream",
                    "text": [
                        "Tjonger_2021\n"
                    ]
                },
                {
                    "name": "stderr",
                    "output_type": "stream",
                    "text": [
                        "WARNING:fiona._env:Value '[\"['50a', 213, 'H2190_A']\", \"['50a', 292, 'H3110']\", \"['50a', 311, 'H3130']\", \"['50a', 317, 'H3140']\", \"['50a', 324, 'H3150']\", \"['50a', 349, 'H3160']\", \"['50a', 360, 'H3260_A']\", \"['50a', 361, 'H3260_A']\", \"['50a', 364, 'H3260_B']\", \"['50a', 365, 'H3260_B']\", \"['50a', 496, 'H7110_B']\", \"['50a', 582, 'H7150']\", \"['50a', 585, 'H7220']\"]' of field _SBBdftbl1 has been truncated to 254 characters.  This warning will not be emitted any more for that layer.\n"
                    ]
                },
                {
                    "name": "stdout",
                    "output_type": "stream",
                    "text": [
                        "Witte en zwarte brekken_2021\n"
                    ]
                },
                {
                    "name": "stderr",
                    "output_type": "stream",
                    "text": [
                        "WARNING:fiona._env:Value 'Mitsen: [['40aa2b', 'H7110_A', '((Niet geautomatiseerd: het Hoogveenmos-verbond aanwezig is en een acrotelm aanwezig is) en LBK is hoogveenlandschap (C))', 'CANNOT_BE_AUTOMATED'], ['40aa2b', 'H7120', 'LBK is herstellend hoogveen (C)', 'CANNOT_BE_AUTOMATED'], ['40aa2b', 'H91D0', '(niet FGR is Duinen (F) en (Niet geautomatiseerd: buiten H7110_A en H7120))', 'CANNOT_BE_AUTOMATED']]' of field _Mits_opm1 has been truncated to 254 characters.  This warning will not be emitted any more for that layer.\n"
                    ]
                },
                {
                    "name": "stdout",
                    "output_type": "stream",
                    "text": [
                        "SBB Duurswold2013\n"
                    ]
                },
                {
                    "name": "stderr",
                    "output_type": "stream",
                    "text": [
                        "WARNING:fiona._env:Value '[\"['50a', 213, 'H2190_A']\", \"['50a', 292, 'H3110']\", \"['50a', 311, 'H3130']\", \"['50a', 317, 'H3140']\", \"['50a', 324, 'H3150']\", \"['50a', 349, 'H3160']\", \"['50a', 360, 'H3260_A']\", \"['50a', 361, 'H3260_A']\", \"['50a', 364, 'H3260_B']\", \"['50a', 365, 'H3260_B']\", \"['50a', 478, 'H7110_A']\", \"['50a', 496, 'H7110_B']\", \"['50a', 582, 'H7150']\", \"['50a', 585, 'H7220']\"]' of field _SBBdftbl1 has been truncated to 254 characters.  This warning will not be emitted any more for that layer.\n"
                    ]
                },
                {
                    "name": "stdout",
                    "output_type": "stream",
                    "text": [
                        "SBB Lauwersmeer 2015\n"
                    ]
                },
                {
                    "name": "stderr",
                    "output_type": "stream",
                    "text": [
                        "WARNING:fiona._env:Value 'Mitsen: [['9ba4a', 'H2190_B', '(FGR is Noordzee (F) of FGR is Getijdengebied (F) of FGR is Duinen (F) of (Niet geautomatiseerd: het vlak op andere wijze onder \"kustgebied\" valt))', 'CANNOT_BE_AUTOMATED'], ['9ba4a', 'H7230', '(Niet geautomatiseerd: mits minstens één van de volgende plantensoorten aanwezig is: breed wollegras, gele zegge, schubzegge, tweehuizige zegge, veenzegge)', 'CANNOT_BE_AUTOMATED']]' of field _Mits_opm1 has been truncated to 254 characters.  This warning will not be emitted any more for that layer.\n"
                    ]
                },
                {
                    "name": "stdout",
                    "output_type": "stream",
                    "text": [
                        "SBB Westerwolde 2020\n"
                    ]
                },
                {
                    "name": "stderr",
                    "output_type": "stream",
                    "text": [
                        "WARNING:fiona._env:Value 'Mitsen: [['16ab1', 'H6410', '(Niet geautomatiseerd: mits minstens drie van de volgende plantensoorten aanwezig zijn: blauwe knoop, blauwe zegge, gevlekte orchis, ruw walstro, tormentil, veelbloemige veldbies)', 'CANNOT_BE_AUTOMATED'], ['16ab1', 'H7230', '(Niet geautomatiseerd: mits minstens één van de volgende plantensoorten aanwezig is: breed wollegras, gele zegge, schubzegge, tweehuizige zegge, veenzegge)', 'CANNOT_BE_AUTOMATED']]' of field _Mits_opm1 has been truncated to 254 characters.  This warning will not be emitted any more for that layer.\n"
                    ]
                },
                {
                    "name": "stdout",
                    "output_type": "stream",
                    "text": [
                        "SBB ZWK 2010 0814_Tussen de Gasten 2010\n"
                    ]
                },
                {
                    "name": "stderr",
                    "output_type": "stream",
                    "text": [
                        "WARNING:fiona._env:Value 'Mitsen: [['9-f', 'H2190_C', '(FGR is Noordzee (F) of FGR is Getijdengebied (F) of FGR is Duinen (F) of (Niet geautomatiseerd: het vlak op andere wijze onder \"kustgebied\" valt))', 'CANNOT_BE_AUTOMATED'], ['9-f', 'H7140_A', '(Niet geautomatiseerd: mits in kwelgebied)', 'CANNOT_BE_AUTOMATED']]' of field _Mits_opm2 has been truncated to 254 characters.  This warning will not be emitted any more for that layer.\n",
                        "WARNING:fiona._env:Value 'Mitsen: [['20aa1b', 'H2150', '(FGR is Noordzee (F) of FGR is Getijdengebied (F) of FGR is Duinen (F) of (Niet geautomatiseerd: het vlak op andere wijze onder \"kustgebied\" valt))', 'CANNOT_BE_AUTOMATED'], ['20aa1b', 'H4030', '(niet (FGR is Noordzee (F) of FGR is Getijdengebied (F) of FGR is Duinen (F) of (Niet geautomatiseerd: het vlak op andere wijze onder \"kustgebied\" valt)) en niet Bodem is vaaggronden (F) en (Niet geautomatiseerd: kraaihei niet dominant))', 'CANNOT_BE_AUTOMATED'], ['20aa1c', 'H2320', '(niet (FGR is Noordzee (F) of FGR is Getijdengebied (F) of FGR is Duinen (F) of (Niet geautomatiseerd: het vlak op andere wijze onder \"kustgebied\" valt)) en (Niet geautomatiseerd: mits kraaihei dominant))', 'CANNOT_BE_AUTOMATED'], ['20aa1c', 'H4030', '(niet (FGR is Noordzee (F) of FGR is Getijdengebied (F) of FGR is Duinen (F) of (Niet geautomatiseerd: het vlak op andere wijze onder \"kustgebied\" valt)) en niet Bodem is vaaggronden (F) en (Niet geautomatiseerd: kraaihei niet dominant))', 'CANNOT_BE_AUTOMATED']]' of field _Mits_opm1 has been truncated to 254 characters.  This warning will not be emitted any more for that layer.\n"
                    ]
                },
                {
                    "name": "stdout",
                    "output_type": "stream",
                    "text": [
                        "SBB ZWK 2010 0815_Trimunt_2010\n",
                        "SGL Hunzedal en Leekstermeer2021 Hunzedal\n"
                    ]
                },
                {
                    "name": "stderr",
                    "output_type": "stream",
                    "text": [
                        "WARNING:fiona._env:Value 'Mitsen: [['50a', 'H7110_A', '((Niet geautomatiseerd: het Hoogveenmos-verbond aanwezig is en een acrotelm aanwezig is) en LBK is hoogveenlandschap (C))', 'CANNOT_BE_AUTOMATED'], ['50a', 'H7220', '(Niet geautomatiseerd: mits tufvorming plaatsvindt)', 'CANNOT_BE_AUTOMATED']]' of field _Mits_opm1 has been truncated to 254 characters.  This warning will not be emitted any more for that layer.\n"
                    ]
                },
                {
                    "name": "stdout",
                    "output_type": "stream",
                    "text": [
                        "SGL Hunzedal en Leekstermeer2021 Leekstermeer 2021\n"
                    ]
                },
                {
                    "name": "stderr",
                    "output_type": "stream",
                    "text": [
                        "WARNING:fiona._env:Value '[\"['50a', 213, 'H2190_A']\", \"['50a', 292, 'H3110']\", \"['50a', 311, 'H3130']\", \"['50a', 317, 'H3140']\", \"['50a', 324, 'H3150']\", \"['50a', 349, 'H3160']\", \"['50a', 360, 'H3260_A']\", \"['50a', 361, 'H3260_A']\", \"['50a', 364, 'H3260_B']\", \"['50a', 365, 'H3260_B']\", \"['50a', 496, 'H7110_B']\", \"['50a', 582, 'H7150']\", \"['50a', 585, 'H7220']\"]' of field _SBBdftbl1 has been truncated to 254 characters.  This warning will not be emitted any more for that layer.\n"
                    ]
                },
                {
                    "name": "stdout",
                    "output_type": "stream",
                    "text": [
                        "SGL Zuidlaardermeer 2019\n"
                    ]
                },
                {
                    "name": "stderr",
                    "output_type": "stream",
                    "text": [
                        "WARNING:fiona._env:Value 'Mitsen: [['50a', 'H7110_A', '((Niet geautomatiseerd: het Hoogveenmos-verbond aanwezig is en een acrotelm aanwezig is) en LBK is hoogveenlandschap (C))', 'CANNOT_BE_AUTOMATED'], ['50a', 'H7220', '(Niet geautomatiseerd: mits tufvorming plaatsvindt)', 'CANNOT_BE_AUTOMATED']]' of field _Mits_opm1 has been truncated to 254 characters.  This warning will not be emitted any more for that layer.\n"
                    ]
                },
                {
                    "name": "stdout",
                    "output_type": "stream",
                    "text": [
                        "HDL_meerdere_terreinen2016\n"
                    ]
                },
                {
                    "name": "stderr",
                    "output_type": "stream",
                    "text": [
                        "WARNING:fiona._env:Value 'Mitsen: [['20aa1', 'H4030', '(niet (FGR is Noordzee (F) of FGR is Getijdengebied (F) of FGR is Duinen (F) of (Niet geautomatiseerd: het vlak op andere wijze onder \"kustgebied\" valt)) en niet Bodem is vaaggronden (F) en (Niet geautomatiseerd: kraaihei niet dominant))', 'CANNOT_BE_AUTOMATED']]' of field _Mits_opm1 has been truncated to 254 characters.  This warning will not be emitted any more for that layer.\n"
                    ]
                },
                {
                    "name": "stdout",
                    "output_type": "stream",
                    "text": [
                        "Bosgroep_SNLMonitoring_2014\n"
                    ]
                },
                {
                    "name": "stderr",
                    "output_type": "stream",
                    "text": [
                        "WARNING:fiona._env:Value 'Mitsen: [['42aa1e', 'H2180_A', 'FGR is Duinen (F)', 'FALSE'], ['42aa1e', 'H9190', '((Bodem is leemarme humuspodzolgronden (F) of Bodem is leemarme vaaggronden (F) of Bodem is podzolgronden met een zanddek (F)) en (Niet geautomatiseerd: mits onderdeel van een minimaal honderdjarige opstand van zomereik of op een bosgroeiplaats ouder dan 1850) en niet FGR is Duinen (F))', 'FALSE']]' of field _Mits_opm1 has been truncated to 254 characters.  This warning will not be emitted any more for that layer.\n"
                    ]
                },
                {
                    "name": "stdout",
                    "output_type": "stream",
                    "text": [
                        "PRV_Witterdiep2021\n"
                    ]
                },
                {
                    "name": "stderr",
                    "output_type": "stream",
                    "text": [
                        "WARNING:fiona._env:Value 'Mitsen: [['5ba3', 'H3150', '(Niet geautomatiseerd: mits in vlakvormige wateren, of in lijnvormige wateren voorzover de begroeiing aansluit bij die van het aangrenzende vlakvormige water, en minstens één van de volgende plantensoorten aanwezig is: doorgroeid fonteinkruid, gegolfd fonteinkruid, glanzig fonteinkruid of langstengelig fonteinkruid)', 'CANNOT_BE_AUTOMATED']]' of field _Mits_opm1 has been truncated to 254 characters.  This warning will not be emitted any more for that layer.\n"
                    ]
                }
            ],
            "source": [
                "for gebied in (karteringen.keys()):\n",
                "    print(gebied)\n",
                "    # Vervangen van de shapefile path naar de output path\n",
                "    p = Path(overzicht[overzicht.naam_kartering == gebied].path_shapes.str.replace(opgeschoonde_shapefiles_prefix, output_prefix).iloc[0])\n",
                "    p.parent.mkdir(parents=True, exist_ok=True)\n",
                "    karteringen[gebied].final_format_to_file(p)\n"
            ]
        },
        {
            "cell_type": "code",
            "execution_count": 10,
            "metadata": {},
            "outputs": [
                {
                    "name": "stdout",
                    "output_type": "stream",
                    "text": [
                        "Totale tijd: 1415.27 seconden.\n",
                        "Er zijn 65790 vlakken en 138914 keuzes omgezet.\n",
                        "Dat is 46.49 vlakken en 98.15 keuzes per seconde.\n",
                        "Gemiddeld is dat 30.11 seconden per kartering.\n"
                    ]
                }
            ],
            "source": [
                "end_time = pd.Timestamp.now()\n",
                "secs = (end_time - start_time).total_seconds()\n",
                "print(f\"Totale tijd: {secs:.2f} seconden.\")\n",
                "\n",
                "# tel aantal vlakken\n",
                "n_vlakken = 0\n",
                "for kartering in karteringen.values():\n",
                "    n_vlakken += kartering.gdf.shape[0]\n",
                "\n",
                "# tel aantal keuzes\n",
                "n_keuzes = 0\n",
                "for kartering in karteringen.values():\n",
                "    n_keuzes += kartering.gdf.HabitatKeuze.apply(len).sum()\n",
                "\n",
                "print(f\"Er zijn {n_vlakken} vlakken en {n_keuzes} keuzes omgezet.\")\n",
                "\n",
                "vlakken_per_seconde = n_vlakken / secs\n",
                "keuzes_per_seconde = n_keuzes / secs\n",
                "\n",
                "print(f\"Dat is {vlakken_per_seconde:.2f} vlakken en {keuzes_per_seconde:.2f} keuzes per seconde.\")\n",
                "\n",
                "seconden_per_kartering = secs / len(karteringen)\n",
                "\n",
                "print(f\"Gemiddeld is dat {seconden_per_kartering:.2f} seconden per kartering.\")"
            ]
        }
    ],
    "metadata": {
        "kernelspec": {
            "display_name": "veg2hab-CuqoUkZb-py3.7",
            "language": "python",
            "name": "python3"
        },
        "language_info": {
            "codemirror_mode": {
                "name": "ipython",
                "version": 3
            },
            "file_extension": ".py",
            "mimetype": "text/x-python",
            "name": "python",
            "nbconvert_exporter": "python",
            "pygments_lexer": "ipython3",
            "version": "3.7.17"
        }
    },
    "nbformat": 4,
    "nbformat_minor": 2
}
