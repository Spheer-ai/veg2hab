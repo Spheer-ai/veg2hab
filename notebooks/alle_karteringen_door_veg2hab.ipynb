{
 "cells": [
  {
   "cell_type": "markdown",
   "metadata": {},
   "source": [
    "# Alle Karteringen omzetten\n",
    "\n",
    "Dit notebook voert alle karteringen via veg2hab naar een habitattypekartering. Instructies:\n",
    "\n",
    "- Kopieer de provinciefolders uit de OneDrive: `Spheer AI/Spheer AI - General/Projecten/Veg_2_Hab/Data/Vegetatiekarteringen` naar `testing/vegetatiekarteringen` (of naar iets anders, dan moet je `originele_karteringen_prefix` aanpassen onder **config**)\n",
    "- Eerst moeten sommige shapefiles opgeschoond worden. Dit kan met het `handmatig_opschonen_shapefiles.ipynb` notebook. Run deze als dat niet al eens gedaan is.\n",
    "- Zorg dat de paden `originele_karteringen_prefix` en `opgeschoonde_shapefiles_prefix` kloppen en overeenkomen met dezelfde paden in het `handmatig_opschonen_shapefiles.ipynb`. Deze prefixes zullen voor de paden vermeld in de spreadsheets geplakt worden.\n",
    "- Run de cellen. Deze zullen:\n",
    "  - Imports importen en het bestaan van de paden controleren. \n",
    "  - De voor het omzetten benodigde klassen instantieren; de was-wordt lijst, de definitietabel en de FGR kaart.\n",
    "  - Spreadsheets met daarin configuraties voor iedere kartering inlezen.\n",
    "  - Alle karteringen inladen in een grote dict.\n",
    "  - De volgende stappen een voor een op iedere kartering uitvoeren:\n",
    "    - De was-wordt lijst toepassen (toevoegen van VvN codes aan karteringen met enkel SBB).\n",
    "    - De definitietabel toepassen (het opstellen van habitatvoorstellen voor ieder vlak).\n",
    "    - De mitsen checken (eventuele criteria in de habitatvoorstellen checken) en voor ieder vegetatietype een habitatkeuze maken.\n",
    "    - De kartering formatten als een habitattypekartering en wegschrijven.  "
   ]
  },
  {
   "cell_type": "markdown",
   "metadata": {},
   "source": [
    "### Imports etc"
   ]
  },
  {
   "cell_type": "code",
   "execution_count": 2,
   "metadata": {},
   "outputs": [
    {
     "name": "stderr",
     "output_type": "stream",
     "text": [
      "/home/jordydelange/.cache/pypoetry/virtualenvs/veg2hab-CuqoUkZb-py3.7/lib/python3.7/site-packages/geopandas/_compat.py:115: UserWarning: The Shapely GEOS version (3.11.2-CAPI-1.17.2) is incompatible with the GEOS version PyGEOS was compiled with (3.10.4-CAPI-1.16.2). Conversions between both will be slow.\n",
      "  shapely_geos_version, geos_capi_version_string\n"
     ]
    }
   ],
   "source": [
    "from pathlib import Path\n",
    "import pandas as pd\n",
    "import geopandas as gpd\n",
    "import sys\n",
    "sys.path.append('../')\n",
    "\n",
    "from veg2hab.waswordtlijst import WasWordtLijst, opschonen_was_wordt_lijst\n",
    "from veg2hab.definitietabel import DefinitieTabel, opschonen_definitietabel\n",
    "from veg2hab.vegkartering import Kartering\n",
    "from veg2hab.fgr import FGR\n",
    "\n",
    "pd.set_option('display.max_columns', 100)\n",
    "pd.set_option('display.max_rows', 8)\n",
    "\n",
    "originele_karteringen_prefix = '../testing/vegetatiekarteringen/'\n",
    "opgeschoonde_shapefiles_prefix = '../testing/opgeschoonde_shapefiles/'\n",
    "output_prefix = '../testing/omgezette_vegetatiekarteringen/'\n",
    "\n",
    "assert Path(originele_karteringen_prefix).exists(), \\\n",
    "    f\"De map {originele_karteringen_prefix} bestaat niet. Zet hier de vegetatiekarteringen uit de onedrive in.\"\n",
    "\n",
    "assert Path(opgeschoonde_shapefiles_prefix).exists(), \\\n",
    "    f\"De map {opgeschoonde_shapefiles_prefix} bestaat niet. Maak deze eerst aan met het handmatig_opschonen_shapefiles.ipynb notebook.\"\n"
   ]
  },
  {
   "cell_type": "markdown",
   "metadata": {},
   "source": [
    "### Omzetclasses instantieren"
   ]
  },
  {
   "cell_type": "code",
   "execution_count": 2,
   "metadata": {},
   "outputs": [
    {
     "name": "stderr",
     "output_type": "stream",
     "text": [
      "/home/jordydelange/.cache/pypoetry/virtualenvs/veg2hab-CuqoUkZb-py3.7/lib/python3.7/site-packages/openpyxl/worksheet/header_footer.py:48: UserWarning: Cannot parse header or footer so it will be ignored\n",
      "  warn(\"\"\"Cannot parse header or footer so it will be ignored\"\"\")\n"
     ]
    },
    {
     "name": "stdout",
     "output_type": "stream",
     "text": [
      "Alle SBB codes zijn valide\n",
      "Alle VvN codes zijn valide\n",
      "Alle SBB codes zijn valide\n",
      "Alle VvN codes zijn valide\n",
      "Alle SBB codes zijn valide\n",
      "Alle VvN codes zijn valide\n"
     ]
    }
   ],
   "source": [
    "path_in_wwl = Path(\"../data/5. Was-wordt-lijst-vegetatietypen-en-habitattypen-09-02-2021.xlsx\")\n",
    "path_out_wwl = Path(\"../testing/opgeschoonde_waswordt.xlsx\")\n",
    "opschonen_was_wordt_lijst(path_in_wwl, path_out_wwl)\n",
    "wwl = WasWordtLijst.from_excel(path_out_wwl)\n",
    "\n",
    "path_in_dt = Path(\"../data/definitietabel habitattypen (versie 24 maart 2009)_0.xls\")\n",
    "path_in_mitsjson = Path(\"../data/mitsjson.csv\")\n",
    "path_out_dt = Path(\"../testing/opgeschoonde_definitietabel.xlsx\")\n",
    "opschonen_definitietabel(path_in_dt, path_in_mitsjson, path_out_dt)\n",
    "dt = DefinitieTabel.from_excel(path_out_dt)\n",
    "\n",
    "fgr = FGR(Path(\"../data/bronbestanden/FGR.json\"))"
   ]
  },
  {
   "cell_type": "markdown",
   "metadata": {},
   "source": [
    "### Inladen benodigde informatie\n",
    "\n",
    "**Overzicht_vegetatiekarteringen.xlsx** is uit de drive en weet van karteringen de provincie, naam, shapefile pad en of het een access of een shapefile kartering is.\n",
    "\n",
    "**accesskarteringinfo.xlsx** bevat voor de access karteringen de informatie die nodig is om een access kartering in te laden.\n",
    "\n",
    "**shapefilekarteringinfo.xlsx** bevat voor de shapefile karteringen de informatie die nodig is om een shapefile kartering in te laden.\n"
   ]
  },
  {
   "cell_type": "code",
   "execution_count": 3,
   "metadata": {},
   "outputs": [],
   "source": [
    "# info over de karteringen\n",
    "overzicht = pd.read_excel(\n",
    "    \"../data/Overzicht_vegetatiekarteringen.xlsx\", \n",
    "    sheet_name=\"Vegetatiekarteringen\", \n",
    "    engine='openpyxl',\n",
    "    usecols=[\n",
    "        \"provincie\", \n",
    "        \"naam_kartering\", \n",
    "        \"path_shapes\", \n",
    "        \"landelijke_typologie beschikbaar?\", \n",
    "        \"locatie_landelijke_typologie\",\n",
    "    ],\n",
    "    dtype=\"string\"\n",
    ")\n",
    "\n",
    "# benodigde info voor de access karteringen\n",
    "access_info = pd.read_excel(\n",
    "    \"../data/accesskarteringinfo.xlsx\",\n",
    "    engine='openpyxl',\n",
    "    usecols=[\n",
    "        \"naam_kartering\",\n",
    "        \"path_csvs\",\n",
    "        \"elm_id_name\",\n",
    "    ],\n",
    "    dtype=\"string\"\n",
    ")\n",
    "\n",
    "# benodigde info voor de shapefile karteringen\n",
    "shape_info = pd.read_excel(\n",
    "    \"../data/shapefilekarteringinfo.xlsx\",\n",
    "    engine='openpyxl',\n",
    "    usecols=[\n",
    "        \"naam_kartering\",\n",
    "        \"ElmID_col\",\n",
    "        \"datum_col\",\n",
    "        \"opmerking_col\",\n",
    "        \"vegtype_col_format\",\n",
    "        \"sbb_of_vvn\",\n",
    "        \"SBB_col\",\n",
    "        \"VvN_col\",\n",
    "        \"split_char\",\n",
    "        \"perc_col\",\n",
    "    ],\n",
    "    dtype=\"string\"\n",
    ")\n",
    "# Omzetten van pd.NA naar None om te voorkomen dat we overal \"if not pd.isna()\" moeten doen\n",
    "# NOTE: dit naar vegkaartering.py?\n",
    "shape_info = shape_info.applymap(lambda x: None if pd.isna(x) else x)\n",
    "\n",
    "overzicht = overzicht[overzicht[\"landelijke_typologie beschikbaar?\"] == \"Ja\"]\n",
    "# omzetten van ./PROVINCIE/gebied/gebied.shp naar ../testing/opgeschoonde_shapefiles/PROVINCIE/gebied/gebied.shp\n",
    "overzicht.path_shapes = overzicht.path_shapes.apply(lambda x: opgeschoonde_shapefiles_prefix + x[2:])\n",
    "\n",
    "access_overzicht = overzicht[overzicht[\"locatie_landelijke_typologie\"] == \"access\"]\n",
    "access_overzicht = access_overzicht.join(access_info.set_index(\"naam_kartering\"), on=\"naam_kartering\")\n",
    "# omzetten van ./PROVINPCIE/gebied/gebied.shp naar ../testing/vegetatiekarteringen/PROVINCIE/gebied/gebied.shp\n",
    "access_overzicht.path_csvs = access_overzicht.path_csvs.apply(lambda x: originele_karteringen_prefix + x[2:])\n",
    "\n",
    "shapefile_overzicht = overzicht[overzicht[\"locatie_landelijke_typologie\"] == \"in shapes\"]\n",
    "shapefile_overzicht = shapefile_overzicht.join(shape_info.set_index(\"naam_kartering\"), on=\"naam_kartering\")"
   ]
  },
  {
   "cell_type": "code",
   "execution_count": 4,
   "metadata": {},
   "outputs": [
    {
     "data": {
      "text/html": [
       "<div>\n",
       "<style scoped>\n",
       "    .dataframe tbody tr th:only-of-type {\n",
       "        vertical-align: middle;\n",
       "    }\n",
       "\n",
       "    .dataframe tbody tr th {\n",
       "        vertical-align: top;\n",
       "    }\n",
       "\n",
       "    .dataframe thead th {\n",
       "        text-align: right;\n",
       "    }\n",
       "</style>\n",
       "<table border=\"1\" class=\"dataframe\">\n",
       "  <thead>\n",
       "    <tr style=\"text-align: right;\">\n",
       "      <th></th>\n",
       "      <th>provincie</th>\n",
       "      <th>naam_kartering</th>\n",
       "      <th>path_shapes</th>\n",
       "      <th>landelijke_typologie beschikbaar?</th>\n",
       "      <th>locatie_landelijke_typologie</th>\n",
       "      <th>path_csvs</th>\n",
       "      <th>elm_id_name</th>\n",
       "    </tr>\n",
       "  </thead>\n",
       "  <tbody>\n",
       "    <tr>\n",
       "      <th>15</th>\n",
       "      <td>Drenthe</td>\n",
       "      <td>NM_Fochteloerveen_2020</td>\n",
       "      <td>../testing/opgeschoonde_shapefiles/DR Extra/de...</td>\n",
       "      <td>Ja</td>\n",
       "      <td>access</td>\n",
       "      <td>../testing/vegetatiekarteringen/DR Extra/defin...</td>\n",
       "      <td>ELMID</td>\n",
       "    </tr>\n",
       "    <tr>\n",
       "      <th>24</th>\n",
       "      <td>Drenthe extra</td>\n",
       "      <td>NM_DCR_2013</td>\n",
       "      <td>../testing/opgeschoonde_shapefiles/DR Extra/NM...</td>\n",
       "      <td>Ja</td>\n",
       "      <td>access</td>\n",
       "      <td>../testing/vegetatiekarteringen/DR Extra/NM_DC...</td>\n",
       "      <td>OBJECTID</td>\n",
       "    </tr>\n",
       "    <tr>\n",
       "      <th>26</th>\n",
       "      <td>Drenthe</td>\n",
       "      <td>NM_Westerbork2017</td>\n",
       "      <td>../testing/opgeschoonde_shapefiles/DR/NM_Weste...</td>\n",
       "      <td>Ja</td>\n",
       "      <td>access</td>\n",
       "      <td>../testing/vegetatiekarteringen/DR/NM_Westerbo...</td>\n",
       "      <td>ELMID</td>\n",
       "    </tr>\n",
       "    <tr>\n",
       "      <th>32</th>\n",
       "      <td>Drenthe</td>\n",
       "      <td>SBB0817_Grolloerveen2013</td>\n",
       "      <td>../testing/opgeschoonde_shapefiles/DR/SBB0817_...</td>\n",
       "      <td>Ja</td>\n",
       "      <td>access</td>\n",
       "      <td>../testing/vegetatiekarteringen/DR/SBB0817_Gro...</td>\n",
       "      <td>Elmid</td>\n",
       "    </tr>\n",
       "    <tr>\n",
       "      <th>...</th>\n",
       "      <td>...</td>\n",
       "      <td>...</td>\n",
       "      <td>...</td>\n",
       "      <td>...</td>\n",
       "      <td>...</td>\n",
       "      <td>...</td>\n",
       "      <td>...</td>\n",
       "    </tr>\n",
       "    <tr>\n",
       "      <th>72</th>\n",
       "      <td>Groningen</td>\n",
       "      <td>SBB Lauwersmeer 2015</td>\n",
       "      <td>../testing/opgeschoonde_shapefiles/GR/SBB Lauw...</td>\n",
       "      <td>Ja</td>\n",
       "      <td>access</td>\n",
       "      <td>../testing/vegetatiekarteringen/GR/SBB Lauwers...</td>\n",
       "      <td>ElmID</td>\n",
       "    </tr>\n",
       "    <tr>\n",
       "      <th>73</th>\n",
       "      <td>Groningen</td>\n",
       "      <td>SBB Westerwolde 2020</td>\n",
       "      <td>../testing/opgeschoonde_shapefiles/GR/SBB West...</td>\n",
       "      <td>Ja</td>\n",
       "      <td>access</td>\n",
       "      <td>../testing/vegetatiekarteringen/GR/SBB Westerw...</td>\n",
       "      <td>ELMID</td>\n",
       "    </tr>\n",
       "    <tr>\n",
       "      <th>75</th>\n",
       "      <td>Groningen</td>\n",
       "      <td>SBB ZWK 2010 0815_Trimunt_2010</td>\n",
       "      <td>../testing/opgeschoonde_shapefiles/GR/SBB ZWK ...</td>\n",
       "      <td>Ja</td>\n",
       "      <td>access</td>\n",
       "      <td>../testing/vegetatiekarteringen/GR/SBB ZWK 201...</td>\n",
       "      <td>Elmid</td>\n",
       "    </tr>\n",
       "    <tr>\n",
       "      <th>79</th>\n",
       "      <td>Groningen</td>\n",
       "      <td>SGL Zuidlaardermeer 2019</td>\n",
       "      <td>../testing/opgeschoonde_shapefiles/GR/SGL Zuid...</td>\n",
       "      <td>Ja</td>\n",
       "      <td>access</td>\n",
       "      <td>../testing/vegetatiekarteringen/GR/SGL Zuidlaa...</td>\n",
       "      <td>ELMID</td>\n",
       "    </tr>\n",
       "  </tbody>\n",
       "</table>\n",
       "<p>27 rows × 7 columns</p>\n",
       "</div>"
      ],
      "text/plain": [
       "        provincie                  naam_kartering  \\\n",
       "15        Drenthe          NM_Fochteloerveen_2020   \n",
       "24  Drenthe extra                     NM_DCR_2013   \n",
       "26        Drenthe               NM_Westerbork2017   \n",
       "32        Drenthe        SBB0817_Grolloerveen2013   \n",
       "..            ...                             ...   \n",
       "72      Groningen            SBB Lauwersmeer 2015   \n",
       "73      Groningen            SBB Westerwolde 2020   \n",
       "75      Groningen  SBB ZWK 2010 0815_Trimunt_2010   \n",
       "79      Groningen        SGL Zuidlaardermeer 2019   \n",
       "\n",
       "                                          path_shapes  \\\n",
       "15  ../testing/opgeschoonde_shapefiles/DR Extra/de...   \n",
       "24  ../testing/opgeschoonde_shapefiles/DR Extra/NM...   \n",
       "26  ../testing/opgeschoonde_shapefiles/DR/NM_Weste...   \n",
       "32  ../testing/opgeschoonde_shapefiles/DR/SBB0817_...   \n",
       "..                                                ...   \n",
       "72  ../testing/opgeschoonde_shapefiles/GR/SBB Lauw...   \n",
       "73  ../testing/opgeschoonde_shapefiles/GR/SBB West...   \n",
       "75  ../testing/opgeschoonde_shapefiles/GR/SBB ZWK ...   \n",
       "79  ../testing/opgeschoonde_shapefiles/GR/SGL Zuid...   \n",
       "\n",
       "   landelijke_typologie beschikbaar? locatie_landelijke_typologie  \\\n",
       "15                                Ja                       access   \n",
       "24                                Ja                       access   \n",
       "26                                Ja                       access   \n",
       "32                                Ja                       access   \n",
       "..                               ...                          ...   \n",
       "72                                Ja                       access   \n",
       "73                                Ja                       access   \n",
       "75                                Ja                       access   \n",
       "79                                Ja                       access   \n",
       "\n",
       "                                            path_csvs elm_id_name  \n",
       "15  ../testing/vegetatiekarteringen/DR Extra/defin...       ELMID  \n",
       "24  ../testing/vegetatiekarteringen/DR Extra/NM_DC...    OBJECTID  \n",
       "26  ../testing/vegetatiekarteringen/DR/NM_Westerbo...       ELMID  \n",
       "32  ../testing/vegetatiekarteringen/DR/SBB0817_Gro...       Elmid  \n",
       "..                                                ...         ...  \n",
       "72  ../testing/vegetatiekarteringen/GR/SBB Lauwers...       ElmID  \n",
       "73  ../testing/vegetatiekarteringen/GR/SBB Westerw...       ELMID  \n",
       "75  ../testing/vegetatiekarteringen/GR/SBB ZWK 201...       Elmid  \n",
       "79  ../testing/vegetatiekarteringen/GR/SGL Zuidlaa...       ELMID  \n",
       "\n",
       "[27 rows x 7 columns]"
      ]
     },
     "execution_count": 4,
     "metadata": {},
     "output_type": "execute_result"
    }
   ],
   "source": [
    "access_overzicht"
   ]
  },
  {
   "cell_type": "markdown",
   "metadata": {},
   "source": [
    "### Karteringen inladen\n",
    "\n",
    "Hier worden, adhv configuraties uit de spreadsheets, alle karteringen ingeladen. Als er een probleem is met een kartering, wordt deze overgeslagen en wordt een melding gegeven."
   ]
  },
  {
   "cell_type": "code",
   "execution_count": 5,
   "metadata": {},
   "outputs": [
    {
     "name": "stdout",
     "output_type": "stream",
     "text": [
      "------ Inlezen NM_Fochteloerveen_2020\n",
      "Gelukt!\n",
      "------ Inlezen NM_DCR_2013\n",
      "Er zijn 476 vlakken zonder VegTypeInfo in ../testing/opgeschoonde_shapefiles/DR Extra/NM_DCR2013/NM_Fochteloerveen_DCR2013.shp. Deze worden verwijderd.\n",
      "De eerste paar ElmID van de verwijderde vlakken zijn: [nan, nan, nan, nan, nan]\n",
      "Gelukt!\n",
      "------ Inlezen NM_Westerbork2017\n",
      "Gelukt!\n",
      "------ Inlezen SBB0817_Grolloerveen2013\n",
      "Gelukt!\n",
      "------ Inlezen SBB0863_Elperstroom_Schoonloo2012\n",
      "Gelukt!\n",
      "------ Inlezen SBB0936_DrentseAa2015_16\n"
     ]
    },
    {
     "name": "stderr",
     "output_type": "stream",
     "text": [
<<<<<<< HEAD
      "/home/jordydelange/git/veg2hab/veg2hab/vegkartering.py:488: UserWarning: CRS van ../testing/opgeschoonde_shapefiles/DR/SBB0936_DrentseAa2015_16/SBB0936_DrentseAa2015_16.shp was None en is nu gelezen als EPSG:28992\n",
=======
      "/home/jordydelange/git/veg2hab/veg2hab/vegkartering.py:491: UserWarning: CRS van ../testing/opgeschoonde_shapefiles/DR/SBB0936_DrentseAa2015_16/SBB0936_DrentseAa2015_16.shp was None en is nu gelezen als EPSG:28992\n",
>>>>>>> master
      "  warnings.warn(f\"CRS van {shape_path} was None en is nu gelezen als EPSG:28992\")\n"
     ]
    },
    {
     "name": "stdout",
     "output_type": "stream",
     "text": [
      "Gelukt!\n",
<<<<<<< HEAD
      "------ Inlezen Fr 0752_Bakkefean_2009\n"
     ]
    },
    {
     "name": "stderr",
     "output_type": "stream",
     "text": [
      "/home/jordydelange/git/veg2hab/veg2hab/vegkartering.py:488: UserWarning: CRS van ../testing/opgeschoonde_shapefiles/FR/Bakkeveense_duinen/Fr 0752_Bakkefean_2009/Vlakken.shp was None en is nu gelezen als EPSG:28992\n",
      "  warnings.warn(f\"CRS van {shape_path} was None en is nu gelezen als EPSG:28992\")\n"
     ]
    },
    {
     "name": "stdout",
     "output_type": "stream",
     "text": [
      "Gelukt!\n",
      "------ Inlezen Slotplaats_2016\n",
      "Gelukt!\n",
      "------ Inlezen Ameland_2010\n"
     ]
    },
    {
     "name": "stderr",
     "output_type": "stream",
     "text": [
      "/home/jordydelange/git/veg2hab/veg2hab/vegkartering.py:488: UserWarning: CRS van ../testing/opgeschoonde_shapefiles/FR/Duinen_Ameland/Ameland_2010/vlakken.shp was None en is nu gelezen als EPSG:28992\n",
      "  warnings.warn(f\"CRS van {shape_path} was None en is nu gelezen als EPSG:28992\")\n"
     ]
    },
    {
     "name": "stdout",
     "output_type": "stream",
     "text": [
      "Gelukt!\n",
      "------ Inlezen Schiermonnikoog_2015\n",
      "Gelukt!\n",
      "------ Inlezen Schiermonnikoog_2017\n",
      "Gelukt!\n",
      "------ Inlezen Terschelling_2012\n"
     ]
    },
    {
     "name": "stderr",
     "output_type": "stream",
     "text": [
      "/home/jordydelange/git/veg2hab/veg2hab/vegkartering.py:488: UserWarning: CRS van ../testing/opgeschoonde_shapefiles/FR/Duinen_Terschelling/Terschelling_2012/vlakken.shp was None en is nu gelezen als EPSG:28992\n",
      "  warnings.warn(f\"CRS van {shape_path} was None en is nu gelezen als EPSG:28992\")\n"
     ]
    },
    {
     "name": "stdout",
     "output_type": "stream",
     "text": [
      "Gelukt!\n",
      "------ Inlezen Vlieland_2013\n",
      "Gelukt!\n",
      "------ Inlezen Lauwersmeer_Fryslan_2015\n",
      "Gelukt!\n",
      "------ Inlezen Rottige_Meenthe_Brandemeer_2013\n",
      "Gelukt!\n",
      "------ Inlezen Sneekermeergebied_2009_Terkaplester puollen\n",
      "Gelukt!\n",
      "------ Inlezen Bakkefean_2022\n",
      "Gelukt!\n",
      "------ Inlezen Snitsermar_2021\n",
      "Gelukt!\n",
      "------ Inlezen Deelen_2022\n",
      "Gelukt!\n",
      "------ Inlezen Tjonger_2021\n",
      "Er zijn 179 vlakken zonder VegTypeInfo in ../testing/opgeschoonde_shapefiles/FR Extra/Tjonger_2021_SBB/Shapefiles/Vlakken/Vlakken_inclSBBtyp.shp. Deze worden verwijderd.\n",
      "De eerste paar ElmID van de verwijderde vlakken zijn: [1, 2, 3, 4, 5]\n",
      "Gelukt!\n",
      "------ Inlezen Witte en zwarte brekken_2021\n",
      "Er zijn 16 vlakken zonder VegTypeInfo in ../testing/opgeschoonde_shapefiles/FR Extra/Witte en zwarte brekken Veg&Flora 2021/Shapefiles/Shapefiles/Vlakken.shp. Deze worden verwijderd.\n",
      "De eerste paar ElmID van de verwijderde vlakken zijn: [6, 19, 20, 33, 34]\n",
      "Gelukt!\n",
      "------ Inlezen NM vegetatiekartering RuitenAa2020\n",
      "Er is geen 1 op 1 relatie tussen Elmid in de shapefile en ElmID in de Element.csv. Er zitten dubbelingen in de shapefile, bijvoorbeeld Elmid: [8174, 11023, 11051]. Er zitten dubbelingen in Element.csv, bijvoorbeeld ElmID: [8174, 11023, 11051].\n",
      "!!! NM vegetatiekartering RuitenAa2020 wordt overgeslagen !!!\n",
      "------ Inlezen SBB Duurswold2013\n",
      "Gelukt!\n",
      "------ Inlezen SBB Lauwersmeer 2015\n",
      "Gelukt!\n",
      "------ Inlezen SBB Westerwolde 2020\n",
      "Gelukt!\n",
      "------ Inlezen SBB ZWK 2010 0815_Trimunt_2010\n",
      "Gelukt!\n",
      "------ Inlezen SGL Zuidlaardermeer 2019\n",
      "Gelukt!\n",
=======
>>>>>>> master
      "------ Inlezen Asserbos2015\n",
      "Gelukt!\n",
      "------ Inlezen BG_Drenthe2014\n",
      "Gelukt!\n",
      "------ Inlezen BG_Holtingerveld_bossen2016\n",
      "Gelukt!\n",
      "------ Inlezen BG_Hondsrug2019\n",
      "Gelukt!\n",
      "------ Inlezen BG_meerdere_terreinen2020\n",
<<<<<<< HEAD
      "Gelukt!\n",
      "------ Inlezen BG_Nolde2018\n",
      "Gelukt!\n",
      "------ Inlezen DEF_Holtingerveld2013\n",
      "Gelukt!\n",
      "------ Inlezen GL_Zuidlaardermeer2019\n",
      "Gelukt!\n",
      "------ Inlezen HDL_De_Stroeten2016\n",
      "Gelukt!\n",
      "------ Inlezen HDL_Hijkerveld-Smilder_oosterveld2018\n",
      "Gelukt!\n",
      "------ Inlezen HDL_Katteveen2019\n",
      "Gelukt!\n",
      "------ Inlezen HDL_meerdere_terreinen2016\n",
      "Gelukt!\n",
      "------ Inlezen HDL_meerdere_terreinen2017\n",
      "Gelukt!\n",
      "------ Inlezen IFG_DrentsFrieseWold2015\n",
      "Gelukt!\n",
      "------ Inlezen NM_Fochteloerveen2013_14\n",
      "Gelukt!\n",
      "------ Inlezen NM_Klencke2018\n",
      "Gelukt!\n",
      "------ Inlezen NM_Leggelderveld2020\n",
      "Er moet een SBB of VvN kolom zijn\n",
      "!!! NM_Leggelderveld2020 wordt overgeslagen !!!\n",
      "------ Inlezen NM_Mantingerveld2020\n",
      "Gelukt!\n",
      "------ Inlezen NM_Mantingerweiden2010\n"
     ]
    },
    {
     "name": "stderr",
     "output_type": "stream",
     "text": [
      "/home/jordydelange/git/veg2hab/veg2hab/vegkartering.py:488: UserWarning: CRS van ../testing/opgeschoonde_shapefiles/DR/NM_Mantingerweiden2010/NM_Mantingerweiden2010.shp was None en is nu gelezen als EPSG:28992\n",
      "  warnings.warn(f\"CRS van {shape_path} was None en is nu gelezen als EPSG:28992\")\n"
     ]
    },
    {
     "name": "stdout",
     "output_type": "stream",
     "text": [
      "Gelukt!\n",
      "------ Inlezen NM_Norg_heiden2020\n",
      "Gelukt!\n",
      "------ Inlezen NM_NorgerBeekdal2018\n",
      "Gelukt!\n",
      "------ Inlezen Bosgroep_SNLMonitoring_2014\n",
      "Gelukt!\n",
      "------ Inlezen NM_SBB_Fochteloerveen_randen2016\n",
      "Gelukt!\n",
      "------ Inlezen PRV_Witterdiep2021\n",
      "Gelukt!\n",
      "------ Inlezen SBB0756_Drentsche_A2009\n",
      "Gelukt!\n",
      "------ Inlezen SBB0757_De_Velden2009\n",
      "Gelukt!\n",
      "------ Inlezen SBB0763_Terhorst2009\n",
      "Gelukt!\n",
      "------ Inlezen SBB0816_Norg2010\n",
      "Gelukt!\n",
      "------ Inlezen SBB0881_SBB_Ruinen_Havelterberg2013\n",
      "Gelukt!\n",
      "------ Inlezen SBB0935_DrentsFrieseWold2015\n",
      "Gelukt!\n",
      "------ Inlezen SBB0982_Wijster2017\n"
     ]
    },
    {
     "name": "stderr",
     "output_type": "stream",
     "text": [
      "/home/jordydelange/git/veg2hab/veg2hab/vegkartering.py:488: UserWarning: CRS van ../testing/opgeschoonde_shapefiles/DR/SBB0982_Wijster2017/SBB0982_Wijster_Ruinen_Hooghalen2017.shp was None en is nu gelezen als EPSG:28992\n",
      "  warnings.warn(f\"CRS van {shape_path} was None en is nu gelezen als EPSG:28992\")\n"
     ]
    },
    {
     "name": "stdout",
     "output_type": "stream",
     "text": [
      "Gelukt!\n",
      "------ Inlezen SBB1014_SBB_Kop_van_Drenthe2018\n",
      "Gelukt!\n",
      "------ Inlezen SBB1015_ HartvanDrenthe2018\n",
      "Gelukt!\n",
      "------ Inlezen SBB1034_Dwingelderveld2017\n",
      "Gelukt!\n",
      "------ Inlezen SBB1039_Drenthe2019\n",
      "Gelukt!\n",
      "------ Inlezen SBB1471_DrentsFrieseWold2008\n",
      "Gelukt!\n",
      "------ Inlezen Drouwenerzand_2020\n",
      "Gelukt!\n",
      "------ Inlezen NM_Mantingerbos_2015\n",
      "Gelukt!\n",
      "------ Inlezen Mandefjild_2015\n",
      "Gelukt!\n",
      "------ Inlezen KetlikerSkar_2016\n",
      "Gelukt!\n",
      "------ Inlezen Sneekermeergebied_2009\n",
      "Gelukt!\n",
      "------ Inlezen Tsjonger_Middenloop\n",
      "Gelukt!\n",
      "------ Inlezen SBB ZWK 2010 0814_Tussen de Gasten 2010\n",
      "Gelukt!\n",
      "------ Inlezen SGL Hunzedal en Leekstermeer2021 Hunzedal\n",
      "Gelukt!\n",
      "------ Inlezen SGL Hunzedal en Leekstermeer2021 Leekstermeer 2021\n",
      "Gelukt!\n",
      "!!! De volgende karteringen zijn niet ingelezen !!!\n",
      "['NM vegetatiekartering RuitenAa2020', 'NM_Leggelderveld2020']\n"
=======
      "Gelukt!\n"
>>>>>>> master
     ]
    }
   ],
   "source": [
    "karteringen = {}\n",
    "mislukte_karteringen = []\n",
    "\n",
    "for row in access_overzicht.itertuples():\n",
    "    print(f\"------ Inlezen {row.naam_kartering}\")\n",
    "    try:\n",
    "        karteringen[row.naam_kartering] = Kartering.from_access_db(Path(row.path_shapes), row.elm_id_name, Path(row.path_csvs))\n",
    "        \n",
    "    except Exception as e:\n",
    "        print(e)\n",
    "        print(f\"!!! {row.naam_kartering} wordt overgeslagen !!!\")\n",
    "        mislukte_karteringen.append(row.naam_kartering)\n",
    "        continue\n",
    "\n",
    "    print(f\"Gelukt!\")\n",
    "\n",
    "for row in shapefile_overzicht.itertuples():\n",
    "    print(f\"------ Inlezen {row.naam_kartering}\")\n",
    "    try:\n",
    "        karteringen[row.naam_kartering] = Kartering.from_shapefile(\n",
    "            Path(row.path_shapes),\n",
    "            row.ElmID_col,\n",
    "            vegtype_col_format=row.vegtype_col_format,\n",
    "            sbb_of_vvn=row.sbb_of_vvn,\n",
    "            VvN_col=row.VvN_col,\n",
    "            SBB_col=row.SBB_col, \n",
    "            split_char=row.split_char, \n",
    "            datum_col=row.datum_col, \n",
    "            opmerking_col=row.opmerking_col,\n",
    "            perc_col=row.perc_col  \n",
    "        )\n",
    "    \n",
    "    except Exception as e:\n",
    "        print(e)\n",
    "        print(f\"!!! {row.naam_kartering} wordt overgeslagen !!!\")\n",
    "        mislukte_karteringen.append(row.naam_kartering)\n",
    "        continue\n",
    "\n",
    "    print(f\"Gelukt!\")\n",
    "\n",
    "if len(mislukte_karteringen) > 0:\n",
    "    print(f\"!!! De volgende karteringen zijn niet ingelezen !!!\")\n",
    "    print(mislukte_karteringen)"
   ]
  },
  {
   "cell_type": "markdown",
   "metadata": {},
   "source": [
    "### Karteringen omzetten"
   ]
  },
  {
   "cell_type": "code",
   "execution_count": 6,
   "metadata": {},
   "outputs": [
    {
     "name": "stdout",
     "output_type": "stream",
     "text": [
      "------ Waswordtlijst toepassen NM_Fochteloerveen_2020\n",
      "Gelukt!\n",
      "------ Waswordtlijst toepassen NM_DCR_2013\n",
      "Gelukt!\n",
      "------ Waswordtlijst toepassen NM_Westerbork2017\n",
      "Gelukt!\n",
      "------ Waswordtlijst toepassen SBB0817_Grolloerveen2013\n",
      "Gelukt!\n",
      "------ Waswordtlijst toepassen SBB0863_Elperstroom_Schoonloo2012\n",
      "Gelukt!\n",
      "------ Waswordtlijst toepassen SBB0936_DrentseAa2015_16\n",
      "Gelukt!\n",
      "------ Waswordtlijst toepassen Asserbos2015\n",
      "Gelukt!\n",
      "------ Waswordtlijst toepassen BG_Drenthe2014\n",
      "Gelukt!\n",
      "------ Waswordtlijst toepassen BG_Holtingerveld_bossen2016\n",
      "Gelukt!\n",
      "------ Waswordtlijst toepassen BG_Hondsrug2019\n",
      "Gelukt!\n",
      "------ Waswordtlijst toepassen BG_meerdere_terreinen2020\n",
<<<<<<< HEAD
      "Gelukt!\n",
      "------ Waswordtlijst toepassen BG_Nolde2018\n",
      "Gelukt!\n",
      "------ Waswordtlijst toepassen DEF_Holtingerveld2013\n",
      "Gelukt!\n",
      "------ Waswordtlijst toepassen GL_Zuidlaardermeer2019\n",
      "Gelukt!\n",
      "------ Waswordtlijst toepassen HDL_De_Stroeten2016\n",
      "Gelukt!\n",
      "------ Waswordtlijst toepassen HDL_Hijkerveld-Smilder_oosterveld2018\n",
      "Gelukt!\n",
      "------ Waswordtlijst toepassen HDL_Katteveen2019\n",
      "Gelukt!\n",
      "------ Waswordtlijst toepassen HDL_meerdere_terreinen2016\n",
      "Gelukt!\n",
      "------ Waswordtlijst toepassen HDL_meerdere_terreinen2017\n",
      "Gelukt!\n",
      "------ Waswordtlijst toepassen IFG_DrentsFrieseWold2015\n",
      "Gelukt!\n",
      "------ Waswordtlijst toepassen NM_Fochteloerveen2013_14\n",
      "Gelukt!\n",
      "------ Waswordtlijst toepassen NM_Klencke2018\n",
      "Gelukt!\n",
      "------ Waswordtlijst toepassen NM_Mantingerveld2020\n",
      "Gelukt!\n",
      "------ Waswordtlijst toepassen NM_Mantingerweiden2010\n",
      "Gelukt!\n",
      "------ Waswordtlijst toepassen NM_Norg_heiden2020\n",
      "Gelukt!\n",
      "------ Waswordtlijst toepassen NM_NorgerBeekdal2018\n",
      "Gelukt!\n",
      "------ Waswordtlijst toepassen Bosgroep_SNLMonitoring_2014\n",
      "Gelukt!\n",
      "------ Waswordtlijst toepassen NM_SBB_Fochteloerveen_randen2016\n",
      "Gelukt!\n",
      "------ Waswordtlijst toepassen PRV_Witterdiep2021\n",
      "Gelukt!\n",
      "------ Waswordtlijst toepassen SBB0756_Drentsche_A2009\n",
      "Gelukt!\n",
      "------ Waswordtlijst toepassen SBB0757_De_Velden2009\n",
      "Gelukt!\n",
      "------ Waswordtlijst toepassen SBB0763_Terhorst2009\n",
      "Gelukt!\n",
      "------ Waswordtlijst toepassen SBB0816_Norg2010\n"
=======
      "Gelukt!\n"
>>>>>>> master
     ]
    },
    {
     "name": "stderr",
     "output_type": "stream",
     "text": [
<<<<<<< HEAD
      "/home/jordydelange/git/veg2hab/veg2hab/vegkartering.py:900: UserWarning: Er zijn al VvN aanwezig in de kartering. De was-wordt lijst wordt niet toegepast.\n",
      "  \"Er zijn al VvN aanwezig in de kartering. De was-wordt lijst wordt niet toegepast.\"\n"
     ]
    },
    {
     "name": "stdout",
     "output_type": "stream",
     "text": [
      "Gelukt!\n",
      "------ Waswordtlijst toepassen SBB0881_SBB_Ruinen_Havelterberg2013\n",
      "Gelukt!\n",
      "------ Waswordtlijst toepassen SBB0935_DrentsFrieseWold2015\n",
      "Gelukt!\n",
      "------ Waswordtlijst toepassen SBB0982_Wijster2017\n",
      "Gelukt!\n",
      "------ Waswordtlijst toepassen SBB1014_SBB_Kop_van_Drenthe2018\n",
      "Gelukt!\n",
      "------ Waswordtlijst toepassen SBB1015_ HartvanDrenthe2018\n",
      "Gelukt!\n",
      "------ Waswordtlijst toepassen SBB1034_Dwingelderveld2017\n",
      "Gelukt!\n",
      "------ Waswordtlijst toepassen SBB1039_Drenthe2019\n",
      "Gelukt!\n",
      "------ Waswordtlijst toepassen SBB1471_DrentsFrieseWold2008\n",
      "Gelukt!\n",
      "------ Waswordtlijst toepassen Drouwenerzand_2020\n",
      "Gelukt!\n",
      "------ Waswordtlijst toepassen NM_Mantingerbos_2015\n",
      "Gelukt!\n",
      "------ Waswordtlijst toepassen Mandefjild_2015\n",
      "Gelukt!\n",
      "------ Waswordtlijst toepassen KetlikerSkar_2016\n",
      "Gelukt!\n",
      "------ Waswordtlijst toepassen Sneekermeergebied_2009\n",
      "Gelukt!\n",
      "------ Waswordtlijst toepassen Tsjonger_Middenloop\n",
      "Gelukt!\n",
      "------ Waswordtlijst toepassen SBB ZWK 2010 0814_Tussen de Gasten 2010\n",
      "Gelukt!\n",
      "------ Waswordtlijst toepassen SGL Hunzedal en Leekstermeer2021 Hunzedal\n",
      "Gelukt!\n",
      "------ Waswordtlijst toepassen SGL Hunzedal en Leekstermeer2021 Leekstermeer 2021\n",
      "Gelukt!\n"
     ]
=======
      "/home/jordydelange/git/veg2hab/veg2hab/vegkartering.py:903: UserWarning: Er zijn al VvN aanwezig in de kartering. De was-wordt lijst wordt niet toegepast.\n",
      "  \"Er zijn al VvN aanwezig in de kartering. De was-wordt lijst wordt niet toegepast.\"\n"
     ]
>>>>>>> master
    }
   ],
   "source": [
    "mislukte_karteringen = []\n",
    "\n",
    "for key, kartering in karteringen.items():\n",
    "    print(f\"------ Waswordtlijst toepassen {key}\")\n",
    "    try:\n",
    "        kartering.apply_wwl(wwl)    \n",
    "    except Exception as e:\n",
    "        print(e)\n",
    "        print(f\"!!! Fout bij {key} !!!\")\n",
    "        mislukte_karteringen.append(key)\n",
    "        continue\n",
    "    print(f\"Gelukt!\")\n",
    "\n",
    "if len(mislukte_karteringen) > 0:\n",
    "    print(f\"!!! De volgende karteringen hebben een fout bij het toepassen van de was-wordt-lijst !!!\")\n",
    "    print(mislukte_karteringen)"
   ]
  },
  {
   "cell_type": "code",
   "execution_count": 7,
   "metadata": {},
   "outputs": [
    {
     "name": "stdout",
     "output_type": "stream",
     "text": [
      "------ Definitietabel toepassen NM_Fochteloerveen_2020\n",
      "Gelukt!\n",
      "------ Definitietabel toepassen NM_DCR_2013\n",
      "Gelukt!\n",
      "------ Definitietabel toepassen NM_Westerbork2017\n",
      "Gelukt!\n",
      "------ Definitietabel toepassen SBB0817_Grolloerveen2013\n",
      "Gelukt!\n",
      "------ Definitietabel toepassen SBB0863_Elperstroom_Schoonloo2012\n",
      "Gelukt!\n",
      "------ Definitietabel toepassen SBB0936_DrentseAa2015_16\n",
      "Gelukt!\n",
      "------ Definitietabel toepassen Asserbos2015\n",
      "Gelukt!\n",
      "------ Definitietabel toepassen BG_Drenthe2014\n",
      "Gelukt!\n",
      "------ Definitietabel toepassen BG_Holtingerveld_bossen2016\n",
      "Gelukt!\n",
      "------ Definitietabel toepassen BG_Hondsrug2019\n",
      "Gelukt!\n",
      "------ Definitietabel toepassen BG_meerdere_terreinen2020\n",
      "Gelukt!\n"
     ]
    }
   ],
   "source": [
    "mislukte_karteringen = []\n",
    "\n",
    "for key, kartering in karteringen.items():\n",
    "    print(f\"------ Definitietabel toepassen {key}\")\n",
    "    try:  \n",
    "        kartering.apply_deftabel(dt)        \n",
    "    except Exception as e:\n",
    "        print(e)\n",
    "        print(f\"!!! Fout bij {key} !!!\")\n",
    "        mislukte_karteringen.append(key)\n",
    "        continue\n",
    "    print(f\"Gelukt!\")\n",
    "\n",
    "if len(mislukte_karteringen) > 0:\n",
    "    print(f\"!!! De volgende karteringen hebben een fout bij het toepassen van de definitietabel!!!\")\n",
    "    print(mislukte_karteringen)"
   ]
  },
  {
   "cell_type": "code",
   "execution_count": 8,
   "metadata": {},
   "outputs": [
    {
     "name": "stdout",
     "output_type": "stream",
     "text": [
      "------ Criteria checken NM_Fochteloerveen_2020\n",
      "Gelukt!\n",
      "------ Criteria checken NM_DCR_2013\n",
      "Gelukt!\n",
      "------ Criteria checken NM_Westerbork2017\n",
      "Gelukt!\n",
      "------ Criteria checken SBB0817_Grolloerveen2013\n",
      "Gelukt!\n",
      "------ Criteria checken SBB0863_Elperstroom_Schoonloo2012\n",
      "Gelukt!\n",
      "------ Criteria checken SBB0936_DrentseAa2015_16\n",
      "Gelukt!\n",
      "------ Criteria checken Asserbos2015\n",
      "Gelukt!\n",
      "------ Criteria checken BG_Drenthe2014\n",
      "Gelukt!\n",
      "------ Criteria checken BG_Holtingerveld_bossen2016\n",
      "Gelukt!\n",
      "------ Criteria checken BG_Hondsrug2019\n",
      "Gelukt!\n",
      "------ Criteria checken BG_meerdere_terreinen2020\n",
      "Gelukt!\n"
     ]
    }
   ],
   "source": [
    "mislukte_karteringen = []\n",
    "\n",
    "for key, kartering in karteringen.items():\n",
    "    print(f\"------ Criteria checken {key}\")\n",
    "    try:\n",
    "        kartering.check_mitsen(fgr)    \n",
    "    except Exception as e:\n",
    "        print(e)\n",
    "        print(f\"!!! Fout bij {key} !!!\")\n",
    "        mislukte_karteringen.append(key)\n",
    "        continue\n",
    "    print(f\"Gelukt!\")\n",
    "\n",
    "if len(mislukte_karteringen) > 0:\n",
    "    print(f\"!!! De volgende karteringen hebben een fout bij het toepassen checken van de criteria!!!\")\n",
    "    print(mislukte_karteringen)"
   ]
  },
  {
   "cell_type": "markdown",
   "metadata": {},
   "source": [
    "### Karteringen wegschrijven"
   ]
  },
  {
   "cell_type": "code",
   "execution_count": 10,
   "metadata": {},
   "outputs": [
    {
     "name": "stdout",
     "output_type": "stream",
     "text": [
      "NM_Fochteloerveen_2020\n",
      "NM_DCR_2013\n",
      "NM_Westerbork2017\n",
      "SBB0817_Grolloerveen2013\n",
      "SBB0863_Elperstroom_Schoonloo2012\n",
      "SBB0936_DrentseAa2015_16\n"
     ]
    },
    {
     "name": "stderr",
     "output_type": "stream",
     "text": [
<<<<<<< HEAD
      "/home/jordydelange/git/veg2hab/veg2hab/vegkartering.py:1042: UserWarning: Column names longer than 10 characters will be truncated when saved to ESRI Shapefile.\n",
=======
      "/home/jordydelange/git/veg2hab/veg2hab/vegkartering.py:1047: UserWarning: Column names longer than 10 characters will be truncated when saved to ESRI Shapefile.\n",
>>>>>>> master
      "  final.to_file(path)\n"
     ]
    },
    {
     "name": "stdout",
     "output_type": "stream",
     "text": [
      "Asserbos2015\n",
      "BG_Drenthe2014\n",
      "BG_Holtingerveld_bossen2016\n",
      "BG_Hondsrug2019\n",
      "BG_meerdere_terreinen2020\n"
     ]
    }
   ],
   "source": [
    "for gebied in (karteringen.keys()):\n",
    "    print(gebied)\n",
    "    # Vervangen van de shapefile path naar de output path\n",
    "    p = Path(overzicht[overzicht.naam_kartering == gebied].path_shapes.str.replace(opgeschoonde_shapefiles_prefix, output_prefix).iloc[0])\n",
    "    p.parent.mkdir(parents=True, exist_ok=True)\n",
    "    karteringen[gebied].final_format_to_file(p)"
   ]
  },
  {
   "cell_type": "code",
   "execution_count": 15,
   "metadata": {},
   "outputs": [
    {
     "data": {
      "image/png": "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",
      "text/plain": [
       "<Figure size 640x480 with 2 Axes>"
      ]
     },
     "metadata": {},
     "output_type": "display_data"
    }
   ],
   "source": [
    "import geopandas as gpd\n",
    "from shapely.geometry import Polygon\n",
    "\n",
    "g = gpd.GeoDataFrame(\n",
    "    {\n",
    "        \"habtype\": [1, 2, 2, 3],\n",
    "        \"geometry\": [\n",
    "            Polygon([(0, 0), (1, 0), (1, 3), (0, 3), (0, 0)]),\n",
    "            Polygon([(1, 2), (2, 2), (2, 3), (1, 3), (1, 2)]),\n",
    "            Polygon([(1, 1), (2, 1), (2, 2), (1, 2), (1, 1)]),\n",
    "            Polygon([(1, 0), (2, 0), (2, 1), (1, 1), (1, 0)]),\n",
    "        ],\n",
    "    }\n",
    ")\n",
    "\n",
    "# plot g with different colors for each habtype\n",
    "import matplotlib.pyplot as plt\n",
    "g.plot(column=\"habtype\", legend=True)\n",
    "plt.show()"
   ]
  }
 ],
 "metadata": {
  "kernelspec": {
   "display_name": "veg2hab-CuqoUkZb-py3.7",
   "language": "python",
   "name": "python3"
  },
  "language_info": {
   "codemirror_mode": {
    "name": "ipython",
    "version": 3
   },
   "file_extension": ".py",
   "mimetype": "text/x-python",
   "name": "python",
   "nbconvert_exporter": "python",
   "pygments_lexer": "ipython3",
   "version": "3.7.17"
  }
 },
 "nbformat": 4,
 "nbformat_minor": 2
}
