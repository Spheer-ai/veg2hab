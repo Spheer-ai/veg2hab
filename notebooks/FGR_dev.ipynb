{
 "cells": [
  {
   "cell_type": "code",
   "execution_count": 1,
   "metadata": {},
   "outputs": [],
   "source": [
    "import geopandas as gpd\n",
    "from veg2hab.fgr import FGR\n",
    "from pathlib import Path"
   ]
  },
  {
   "cell_type": "code",
   "execution_count": 2,
   "metadata": {},
   "outputs": [
    {
     "data": {
      "text/plain": [
       "<veg2hab.fgr.FGR at 0x7f0d96f95410>"
      ]
     },
     "execution_count": 2,
     "metadata": {},
     "output_type": "execute_result"
    }
   ],
   "source": [
    "path_fgr = Path(\"../data/bronbestanden/FGR.json\")\n",
    "fgr = FGR(path_fgr)\n",
    "fgr"
   ]
  },
  {
   "cell_type": "code",
   "execution_count": 3,
   "metadata": {},
   "outputs": [
    {
     "data": {
      "text/html": [
       "<div>\n",
       "<style scoped>\n",
       "    .dataframe tbody tr th:only-of-type {\n",
       "        vertical-align: middle;\n",
       "    }\n",
       "\n",
       "    .dataframe tbody tr th {\n",
       "        vertical-align: top;\n",
       "    }\n",
       "\n",
       "    .dataframe thead th {\n",
       "        text-align: right;\n",
       "    }\n",
       "</style>\n",
       "<table border=\"1\" class=\"dataframe\">\n",
       "  <thead>\n",
       "    <tr style=\"text-align: right;\">\n",
       "      <th></th>\n",
       "      <th>fgr</th>\n",
       "      <th>geometry</th>\n",
       "    </tr>\n",
       "  </thead>\n",
       "  <tbody>\n",
       "    <tr>\n",
       "      <th>0</th>\n",
       "      <td>FGRType.DU</td>\n",
       "      <td>POLYGON ((105147.000 526863.188, 105092.000 52...</td>\n",
       "    </tr>\n",
       "    <tr>\n",
       "      <th>1</th>\n",
       "      <td>FGRType.DU</td>\n",
       "      <td>POLYGON ((111314.000 552409.000, 111289.008 55...</td>\n",
       "    </tr>\n",
       "    <tr>\n",
       "      <th>2</th>\n",
       "      <td>FGRType.DU</td>\n",
       "      <td>POLYGON ((119244.333 577690.288, 119230.924 57...</td>\n",
       "    </tr>\n",
       "    <tr>\n",
       "      <th>3</th>\n",
       "      <td>FGRType.DU</td>\n",
       "      <td>POLYGON ((133749.490 591283.817, 133726.437 59...</td>\n",
       "    </tr>\n",
       "    <tr>\n",
       "      <th>4</th>\n",
       "      <td>FGRType.DU</td>\n",
       "      <td>POLYGON ((164145.044 606590.552, 164118.586 60...</td>\n",
       "    </tr>\n",
       "    <tr>\n",
       "      <th>...</th>\n",
       "      <td>...</td>\n",
       "      <td>...</td>\n",
       "    </tr>\n",
       "    <tr>\n",
       "      <th>953</th>\n",
       "      <td>FGRType.ZK</td>\n",
       "      <td>POLYGON ((174337.016 606013.000, 174327.000 60...</td>\n",
       "    </tr>\n",
       "    <tr>\n",
       "      <th>954</th>\n",
       "      <td>FGRType.ZK</td>\n",
       "      <td>POLYGON ((178985.000 606515.000, 178937.000 60...</td>\n",
       "    </tr>\n",
       "    <tr>\n",
       "      <th>955</th>\n",
       "      <td>FGRType.ZK</td>\n",
       "      <td>POLYGON ((185699.688 606863.813, 185709.000 60...</td>\n",
       "    </tr>\n",
       "    <tr>\n",
       "      <th>956</th>\n",
       "      <td>FGRType.ZK</td>\n",
       "      <td>POLYGON ((153713.862 600983.552, 153717.789 60...</td>\n",
       "    </tr>\n",
       "    <tr>\n",
       "      <th>957</th>\n",
       "      <td>FGRType.ZK</td>\n",
       "      <td>POLYGON ((208878.000 610686.000, 208776.000 61...</td>\n",
       "    </tr>\n",
       "  </tbody>\n",
       "</table>\n",
       "<p>958 rows × 2 columns</p>\n",
       "</div>"
      ],
      "text/plain": [
       "            fgr                                           geometry\n",
       "0    FGRType.DU  POLYGON ((105147.000 526863.188, 105092.000 52...\n",
       "1    FGRType.DU  POLYGON ((111314.000 552409.000, 111289.008 55...\n",
       "2    FGRType.DU  POLYGON ((119244.333 577690.288, 119230.924 57...\n",
       "3    FGRType.DU  POLYGON ((133749.490 591283.817, 133726.437 59...\n",
       "4    FGRType.DU  POLYGON ((164145.044 606590.552, 164118.586 60...\n",
       "..          ...                                                ...\n",
       "953  FGRType.ZK  POLYGON ((174337.016 606013.000, 174327.000 60...\n",
       "954  FGRType.ZK  POLYGON ((178985.000 606515.000, 178937.000 60...\n",
       "955  FGRType.ZK  POLYGON ((185699.688 606863.813, 185709.000 60...\n",
       "956  FGRType.ZK  POLYGON ((153713.862 600983.552, 153717.789 60...\n",
       "957  FGRType.ZK  POLYGON ((208878.000 610686.000, 208776.000 61...\n",
       "\n",
       "[958 rows x 2 columns]"
      ]
     },
     "execution_count": 3,
     "metadata": {},
     "output_type": "execute_result"
    }
   ],
   "source": [
    "fgr.gdf"
   ]
  }
 ],
 "metadata": {
  "kernelspec": {
   "display_name": "veg2hab-CuqoUkZb-py3.7",
   "language": "python",
   "name": "python3"
  },
  "language_info": {
   "codemirror_mode": {
    "name": "ipython",
    "version": 3
   },
   "file_extension": ".py",
   "mimetype": "text/x-python",
   "name": "python",
   "nbconvert_exporter": "python",
   "pygments_lexer": "ipython3",
   "version": "3.7.17"
  }
 },
 "nbformat": 4,
 "nbformat_minor": 2
}
