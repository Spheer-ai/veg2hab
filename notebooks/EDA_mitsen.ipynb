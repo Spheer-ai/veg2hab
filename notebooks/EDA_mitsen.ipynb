{
 "cells": [
  {
   "cell_type": "markdown",
   "metadata": {},
   "source": [
    "# Splitsen van mitsen uit de definitietabel"
   ]
  },
  {
   "cell_type": "code",
   "execution_count": 1,
   "metadata": {},
   "outputs": [],
   "source": [
    "import pandas as pd"
   ]
  },
  {
   "cell_type": "code",
   "execution_count": 2,
   "metadata": {},
   "outputs": [],
   "source": [
    "dt = pd.read_excel('../data/definitietabel habitattypen (versie 24 maart 2009)_0.xls', sheet_name=1)"
   ]
  },
  {
   "cell_type": "code",
   "execution_count": 3,
   "metadata": {},
   "outputs": [],
   "source": [
    "dt = dt[~dt['beperkende criteria'].isna()]"
   ]
  },
  {
   "cell_type": "code",
   "execution_count": 4,
   "metadata": {},
   "outputs": [
    {
     "data": {
      "text/plain": [
       "110"
      ]
     },
     "execution_count": 4,
     "metadata": {},
     "output_type": "execute_result"
    }
   ],
   "source": [
    "dt['beperkende criteria'].nunique()"
   ]
  },
  {
   "cell_type": "code",
   "execution_count": 10,
   "metadata": {},
   "outputs": [
    {
     "name": "stdout",
     "output_type": "stream",
     "text": [
      "['mits in de FGR Getijdengebied en mits gelegen in het verlengde van een rivier waarvan het water een sterke en continue invloed op het habitattype heeft, voorzover gelegen onder de gemiddelde hoogwaterlijn; potentieel'\n",
      " 'mits in de slikkige en fijnzandige delen van FGR Getijdengebied of FGR Noordzee, voorzover gelegen tussen de op Lowest Astronomical Tide gebaseerde laagwaterlijn en de gemiddelde hoogwaterlijn, en mits geen onderdeel van H1130 en H1160'\n",
      " 'mits in de FGR Getijdengebied en mits in een inham met gedempt getij en geen sterke invloed van rivierwater; potentieel'\n",
      " 'mits in de FGR Getijdengebied en mits gelegen in het verlengde van een rivier waarvan het water een sterke en continue invloed op het habitattype heeft, voorzover gelegen onder de gemiddelde hoogwaterlijn'\n",
      " 'mits in de FGR Getijdengebied en mits in een inham met gedempt getij en geen sterke invloed van rivierwater'\n",
      " 'mits niet in fijnschalig mozaïek met goede zelfstandige vegetaties van H3130'\n",
      " 'mits in vochtige duinvalleien' 'mits niet in vochtige duinvalleien'\n",
      " 'mits in vlakvormige wateren, of in lijnvormige wateren voorzover de begroeiing aansluit bij die van het aangrenzende vlakvormige water'\n",
      " 'mits in beken of riviertjes en mits met waterranonkel- of sterrenkroossoorten'\n",
      " 'mits in rivieren of nevengeulen'\n",
      " 'mits in vlakvormige wateren, of in lijnvormige wateren voorzover de begroeiing aansluit bij die van het aangrenzende vlakvormige water, en minstens één van de volgende plantensoorten aanwezig is: doorgroeid fonteinkruid, gegolfd fonteinkruid, glanzig fonteinkruid of langstengelig fonteinkruid'\n",
      " 'mits in beken of riviertjes en mits met waterrankel- of sterrenkroossoorten'\n",
      " 'mits in beken of riviertjes' 'mits niet in lijnvormige wateren'\n",
      " 'mits niet in vochtige duinvalleien en niet in lijnvormige wateren'\n",
      " 'mits in combinatie met andere vegetaties van H3130 en niet in lijnvormige wateren'\n",
      " 'mits in vennen en in combinatie met andere vegetaties van H3160'\n",
      " 'mits het Hoogveenmos-verbond aanwezig is, het onderdeel van een hoogveenlandschap is en een acrotelm aanwezig is'\n",
      " 'mits in herstellend hoogveen'\n",
      " 'mits niet in mozaïek met vegetaties van H3110 en mits geen onderdeel van H7120 en niet in lijnvormige wateren'\n",
      " 'mits in vennen en niet in mozaïek met vegetaties van H3130'\n",
      " 'mits in het open water van vochtige duinvalleien'\n",
      " 'mits tussen hoge moerasplanten in vochtige duinvalleien'\n",
      " 'mits op oevers van rivieren of nevengeulen'\n",
      " 'mits geen onderdeel van H7110_A' 'mits in het kustgebied'\n",
      " 'mits in kwelgebied'\n",
      " 'mits minstens één van de volgende plantensoorten aanwezig is: breed wollegras, gele zegge, schubzegge, tweehuizige zegge, veenzegge'\n",
      " 'mits niet in het kustgebied'\n",
      " 'mits op vochtige plaatsen in het kustgebied en kruipwilg dominant'\n",
      " 'mits in het kustgebied en kruipwilg niet dominant' 'mits in vennen'\n",
      " 'mits in vennen en niet droogvallend'\n",
      " 'mits droogvallend en niet in hoogveen'\n",
      " 'mits in vennen en met alleen wilde inheemse witte waterlelies'\n",
      " 'mits in herstellend hoogveen en veenmosbedekking > 20%'\n",
      " 'mits in herstellend hoogveen en veenmosbedekking < 20%'\n",
      " 'mits in FGR Laagveengebied' 'mits niet in hoogveen'\n",
      " 'mits in FGR Hogere zandgronden zonder hoogveen'\n",
      " 'mits in het kustgebied en kraaihei aanwezig'\n",
      " 'mits in het kustgebied en kraaihei afwezig'\n",
      " 'mits het onderdeel van een hoogveenlandschap is en een acrotelm aanwezig is'\n",
      " 'mits niet in een hoogveenlandschap en mits een acrotelm aanwezig is of een vergelijkbaar hoogveenvormend proces'\n",
      " 'mits in zandverstuiving'\n",
      " 'mits op oeverwallen van rivieren of riviertjes'\n",
      " 'mits in het kustgebied en niet in mozaïek met zelfstandige vegetaties van H2130_A'\n",
      " 'mits langs rivieren of riviertjes'\n",
      " 'mits in het kustgebied, op een standplaats als van andere vegetaties van H2130_A'\n",
      " 'mits in het kustgebied, op een standplaats als van andere vegetaties van H2130_B'\n",
      " 'mits in het kustgebied en op een standplaats als van andere vegetaties van H2130_B'\n",
      " 'mits langs rivieren of riviertjes en minstens twee van de volgende kenmerkende typische plantensoorten aanwezig zijn: brede ereprijs, cipreswolfsmelk, handjesgras, kaal breukkruid, kleine ruit, liggende ereprijs, rivierduinzegge, rode bremraap, sikkelklaver, steenanjer, tripmadam, veldsalie, wilde averuit, zacht vetkruid, zandwolfsmelk'\n",
      " 'mits kruipwilg niet dominant'\n",
      " 'mits in het kustgebied en op een standplaats als van andere vegetaties van H2130_A en niet in struweel'\n",
      " 'mits in het kustgebied en op een standplaats als van andere vegetaties van H2130_B en niet in struweel'\n",
      " 'mits niet voldoend aan de criteria voor H7230'\n",
      " 'mits in kwelgebied en niet in het kustgebied en minstens drie van de volgende plantensoorten aanwezig zijn: armbloemige waterbies, bonte paardenstaart, groenknolorchis, grote muggenorchis, knopbies, moeraswespenorchis, parnassia, rechte rus, vleeskleurige orchis, vetblad; echt vetmos, geveerd diknerfmos, goudsikkelmos, groen schorpioenmos, groot staartjesmos, kammos, sterrengoudmos, trilveenveenmos, vierkantsmos, wolfsklauwmos'\n",
      " 'mits minstens drie van de volgende plantensoorten aanwezig zijn: blauwe knoop, blauwe zegge, gevlekte orchis, ruw walstro, tormentil, veelbloemige veldbies'\n",
      " 'mits een vlakvormig, al dan niet nabeweid, hooiland'\n",
      " 'mits in FGR Heuvelland'\n",
      " 'mits een vlakvormig, al dan niet nabeweid, hooiland en niet in FGR Heuvelland'\n",
      " 'mits niet in mozaïek met vegetaties van H7230'\n",
      " 'mits bochtige smele minder dan 25%'\n",
      " 'mits in het kustgebied en niet in mozaïek met vegetaties van H6230'\n",
      " 'mits op vaaggronden en niet in het kustgebied en kraaihei niet dominant'\n",
      " 'mits niet op vaaggronden en niet in het kustgebied en kraaihei niet dominant'\n",
      " 'mits kraaihei dominant en niet in het kustgebied'\n",
      " 'mits op vaaggronden en kraaihei niet dominant' 'mits kraaihei dominant'\n",
      " 'mits kraaihei niet dominant'\n",
      " 'mits op een standplaats als van andere vegetaties van H2130_A en kraaihei afwezig'\n",
      " 'mits op een standplaats als van andere vegetaties van H2130_B en kraaihei afwezig'\n",
      " 'mits op droge plaatsen in het kustgebied en kraaihei aanwezig'\n",
      " 'mits op vochtige plaatsen in het kustgebied' 'mits in de buitenduinen'\n",
      " 'mits in de buitenduinen en mits niet in mozaïek met vegetaties van H2130'\n",
      " 'mits in het buitendijkse kustgebied'\n",
      " 'mits in het binnendijkse kustgebied'\n",
      " 'mits minstens één niet-algemene plantensoort van zoom of ruigte aanwezig is'\n",
      " 'mits de constante typische soort moerasspirea aanwezig is'\n",
      " 'mits de constante typische soort moerasmelkdistel aanwezig is'\n",
      " 'mits in FGR Duinen en zachte berk dominant'\n",
      " 'mits het struweel minimaal 1 are groot is, met minimaal 10 jeneverbesstruiken die minimaal 30% bedekken'\n",
      " 'mits in het kustgebied en duindoorn aanwezig'\n",
      " 'mits op alluviale bodem en onder invloed van beek of rivier'\n",
      " 'mits in FGR Duinen' 'mits met veenmosbedekking > 20%'\n",
      " 'mits buiten H7110_A en H7120'\n",
      " 'mits niet in FGR Duinen en buiten H7110_A en H7120'\n",
      " 'mits niet in FGR Duinen en buiten H7120'\n",
      " 'mits op leemarme humuspodzolgronden, leemarme vaaggronden of podzolgronden met een zanddek en mits onderdeel van een minimaal honderdjarige opstand van zomereik of op een bosgroeiplaats ouder dan 1850 en mits niet in FGR Duinen'\n",
      " 'mits op moderpodzolgronden, lemige humuspodzolgronden, oude kleigronden of leemgronden en mits op een bosgroeiplaats ouder dan 1850 of in een daaraan grenzende minimaal honderdjarige bosopstand en mits niet in FGR Duinen'\n",
      " 'mits in FGR Rivierengebied'\n",
      " 'mits in FGR Duinen, op een standplaats als van andere vegetaties van H2180_A'\n",
      " 'mits in FGR Duinen, in vochtige of te vernatten valleien'\n",
      " 'mits in FGR Duinen, op een standplaats als van andere vegetaties van H2180_C'\n",
      " 'mits in FGR Hogere zandgronden'\n",
      " 'mits op moderpodzolgronden, lemige humuspodzolgronden, oude kleigronden of leemgronden zonder hydromorfe kenmerken en mits op een bosgroeiplaats ouder dan 1850 of in een daaraan grenzende minimaal honderdjarige bosopstand en mits niet in FGR Heuvelland of FGR Duinen'\n",
      " 'mits op hydromorfe bodems in FGR Hogere zandgronden'\n",
      " 'mits in vennen en niet in kwelgebied en niet in mozaïek met vegetaties van H3130'\n",
      " 'mits in kwelgebied en niet in vennen'\n",
      " 'mits in vochtige duinvalleien en niet droogvallend'\n",
      " 'mits in het kustgebied en droogvallend'\n",
      " 'alleen in mozaïek met zelfstandige vegetaties van H7140_A'\n",
      " 'mits droogvallend' 'mits tufvorming plaatsvindt'\n",
      " 'mits in de slikkige en fijnzandige delen van FGR Getijdengebied of FGR Noordzee, voorzover gelegen tussen de -20 meter-dieptelijn en de op Lowest Astronomical Tide gebaseerde laagwaterlijn, inclusief de tussenliggende diepere laagten en geulen, en mits geen onderdeel van H1130 en H1160'\n",
      " 'mits in de grofzandige delen van FGR Getijdengebied of FGR Noordzee, voorzover gelegen tussen de -20 meter-dieptelijn en de op Lowest Astronomical Tide gebaseerde laagwaterlijn, inclusief de tussenliggende diepere laagten en geulen'\n",
      " 'mits in de grofzandige delen van FGR Getijdengebied of FGR Noordzee, voorzover gelegen tussen de op Lowest Astronomical Tide gebaseerde laagwaterlijn en de gemiddelde hoogwaterlijn']\n"
     ]
    }
   ],
   "source": [
    "print(dt['beperkende criteria'].unique())"
   ]
  },
  {
   "cell_type": "code",
   "execution_count": 17,
   "metadata": {},
   "outputs": [
    {
     "data": {
      "text/plain": [
       "0      [,  in de FGR Getijdengebied en ,  gelegen in ...\n",
       "1      [,  in de slikkige en fijnzandige delen van FG...\n",
       "2      [,  in de FGR Getijdengebied en ,  in een inha...\n",
       "4      [,  in de FGR Getijdengebied en ,  gelegen in ...\n",
       "5      [,  in de FGR Getijdengebied en ,  gelegen in ...\n",
       "                             ...                        \n",
       "638    [,  in de FGR Getijdengebied en ,  gelegen in ...\n",
       "639    [,  in de slikkige en fijnzandige delen van FG...\n",
       "640    [,  in de grofzandige delen van FGR Getijdenge...\n",
       "641    [,  in de FGR Getijdengebied en ,  in een inha...\n",
       "665    [,  het Hoogveenmos-verbond aanwezig is, het o...\n",
       "Name: beperkende criteria, Length: 447, dtype: object"
      ]
     },
     "execution_count": 17,
     "metadata": {},
     "output_type": "execute_result"
    }
   ],
   "source": [
    "#dt['beperkende criteria'].str.split('mits')"
   ]
  }
 ],
 "metadata": {
  "kernelspec": {
   "display_name": ".venv",
   "language": "python",
   "name": "python3"
  },
  "language_info": {
   "codemirror_mode": {
    "name": "ipython",
    "version": 3
   },
   "file_extension": ".py",
   "mimetype": "text/x-python",
   "name": "python",
   "nbconvert_exporter": "python",
   "pygments_lexer": "ipython3",
   "version": "3.8.10"
  }
 },
 "nbformat": 4,
 "nbformat_minor": 2
}
