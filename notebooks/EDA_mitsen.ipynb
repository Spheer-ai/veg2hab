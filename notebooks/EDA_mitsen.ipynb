{
 "cells": [
  {
   "cell_type": "markdown",
   "metadata": {},
   "source": [
    "# Splitsen van mitsen uit de definitietabel"
   ]
  },
  {
   "cell_type": "code",
   "execution_count": 1,
   "metadata": {},
   "outputs": [],
   "source": [
    "import pandas as pd"
   ]
  },
  {
   "cell_type": "code",
   "execution_count": 2,
   "metadata": {},
   "outputs": [],
   "source": [
    "dt = pd.read_excel('../data/definitietabel habitattypen (versie 24 maart 2009)_0.xls', sheet_name=1)"
   ]
  },
  {
   "cell_type": "code",
   "execution_count": 11,
   "metadata": {},
   "outputs": [],
   "source": [
    "dt = dt[~dt['beperkende criteria'].isna()]"
   ]
  },
  {
   "cell_type": "code",
   "execution_count": 14,
   "metadata": {},
   "outputs": [
    {
     "data": {
      "text/plain": [
       "110"
      ]
     },
     "execution_count": 14,
     "metadata": {},
     "output_type": "execute_result"
    }
   ],
   "source": [
    "dt['beperkende criteria'].nunique()"
   ]
  },
  {
   "cell_type": "code",
   "execution_count": 19,
   "metadata": {},
   "outputs": [
    {
     "data": {
      "text/plain": [
       "'mits in de FGR Getijdengebied en mits gelegen in het verlengde van een rivier waarvan het water een sterke en continue invloed op het habitattype heeft, voorzover gelegen onder de gemiddelde hoogwaterlijn; potentieel'"
      ]
     },
     "execution_count": 19,
     "metadata": {},
     "output_type": "execute_result"
    }
   ],
   "source": [
    "dt['beperkende criteria'][0]"
   ]
  },
  {
   "cell_type": "code",
   "execution_count": 17,
   "metadata": {},
   "outputs": [
    {
     "data": {
      "text/plain": [
       "0      [,  in de FGR Getijdengebied en ,  gelegen in ...\n",
       "1      [,  in de slikkige en fijnzandige delen van FG...\n",
       "2      [,  in de FGR Getijdengebied en ,  in een inha...\n",
       "4      [,  in de FGR Getijdengebied en ,  gelegen in ...\n",
       "5      [,  in de FGR Getijdengebied en ,  gelegen in ...\n",
       "                             ...                        \n",
       "638    [,  in de FGR Getijdengebied en ,  gelegen in ...\n",
       "639    [,  in de slikkige en fijnzandige delen van FG...\n",
       "640    [,  in de grofzandige delen van FGR Getijdenge...\n",
       "641    [,  in de FGR Getijdengebied en ,  in een inha...\n",
       "665    [,  het Hoogveenmos-verbond aanwezig is, het o...\n",
       "Name: beperkende criteria, Length: 447, dtype: object"
      ]
     },
     "execution_count": 17,
     "metadata": {},
     "output_type": "execute_result"
    }
   ],
   "source": [
    "#dt['beperkende criteria'].str.split('mits')"
   ]
  }
 ],
 "metadata": {
  "kernelspec": {
   "display_name": ".venv",
   "language": "python",
   "name": "python3"
  },
  "language_info": {
   "codemirror_mode": {
    "name": "ipython",
    "version": 3
   },
   "file_extension": ".py",
   "mimetype": "text/x-python",
   "name": "python",
   "nbconvert_exporter": "python",
   "pygments_lexer": "ipython3",
   "version": "3.8.10"
  }
 },
 "nbformat": 4,
 "nbformat_minor": 2
}
