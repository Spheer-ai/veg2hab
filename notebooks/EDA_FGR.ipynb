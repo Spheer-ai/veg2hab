{
 "cells": [
  {
   "cell_type": "markdown",
   "metadata": {},
   "source": [
    "# Fysisch Geografische Regio kaart"
   ]
  },
  {
   "cell_type": "code",
   "execution_count": 1,
   "metadata": {},
   "outputs": [],
   "source": [
    "import geopandas as gpd"
   ]
  },
  {
   "cell_type": "code",
   "execution_count": 2,
   "metadata": {},
   "outputs": [],
   "source": [
    "gdf = gpd.read_file('../data/bronbestanden/FGR.json')"
   ]
  },
  {
   "cell_type": "code",
   "execution_count": 3,
   "metadata": {},
   "outputs": [
    {
     "data": {
      "text/plain": [
       "(958, 5)"
      ]
     },
     "execution_count": 3,
     "metadata": {},
     "output_type": "execute_result"
    }
   ],
   "source": [
    "gdf.shape"
   ]
  },
  {
   "cell_type": "code",
   "execution_count": 4,
   "metadata": {},
   "outputs": [
    {
     "data": {
      "text/html": [
       "<div>\n",
       "<style scoped>\n",
       "    .dataframe tbody tr th:only-of-type {\n",
       "        vertical-align: middle;\n",
       "    }\n",
       "\n",
       "    .dataframe tbody tr th {\n",
       "        vertical-align: top;\n",
       "    }\n",
       "\n",
       "    .dataframe thead th {\n",
       "        text-align: right;\n",
       "    }\n",
       "</style>\n",
       "<table border=\"1\" class=\"dataframe\">\n",
       "  <thead>\n",
       "    <tr style=\"text-align: right;\">\n",
       "      <th></th>\n",
       "      <th>id</th>\n",
       "      <th>objectid</th>\n",
       "      <th>afk</th>\n",
       "      <th>fgr</th>\n",
       "      <th>geometry</th>\n",
       "    </tr>\n",
       "  </thead>\n",
       "  <tbody>\n",
       "    <tr>\n",
       "      <th>0</th>\n",
       "      <td>fysischgeografischeregios.f33e0150-9af7-4a95-8...</td>\n",
       "      <td>79</td>\n",
       "      <td>du</td>\n",
       "      <td>Duinen</td>\n",
       "      <td>POLYGON ((105147.000 526863.188, 105092.000 52...</td>\n",
       "    </tr>\n",
       "    <tr>\n",
       "      <th>1</th>\n",
       "      <td>fysischgeografischeregios.c963d959-d295-492b-a...</td>\n",
       "      <td>80</td>\n",
       "      <td>du</td>\n",
       "      <td>Duinen</td>\n",
       "      <td>POLYGON ((111314.000 552409.000, 111289.008 55...</td>\n",
       "    </tr>\n",
       "    <tr>\n",
       "      <th>2</th>\n",
       "      <td>fysischgeografischeregios.cb9746da-1b31-40f7-b...</td>\n",
       "      <td>96</td>\n",
       "      <td>du</td>\n",
       "      <td>Duinen</td>\n",
       "      <td>POLYGON ((119244.333 577690.288, 119230.924 57...</td>\n",
       "    </tr>\n",
       "    <tr>\n",
       "      <th>3</th>\n",
       "      <td>fysischgeografischeregios.e3b8d3bd-e9bc-456d-a...</td>\n",
       "      <td>101</td>\n",
       "      <td>du</td>\n",
       "      <td>Duinen</td>\n",
       "      <td>POLYGON ((133749.490 591283.817, 133726.437 59...</td>\n",
       "    </tr>\n",
       "    <tr>\n",
       "      <th>4</th>\n",
       "      <td>fysischgeografischeregios.2b3f47fb-2acb-4b6b-9...</td>\n",
       "      <td>108</td>\n",
       "      <td>du</td>\n",
       "      <td>Duinen</td>\n",
       "      <td>POLYGON ((164145.044 606590.552, 164118.586 60...</td>\n",
       "    </tr>\n",
       "  </tbody>\n",
       "</table>\n",
       "</div>"
      ],
      "text/plain": [
       "                                                  id  objectid afk     fgr  \\\n",
       "0  fysischgeografischeregios.f33e0150-9af7-4a95-8...        79  du  Duinen   \n",
       "1  fysischgeografischeregios.c963d959-d295-492b-a...        80  du  Duinen   \n",
       "2  fysischgeografischeregios.cb9746da-1b31-40f7-b...        96  du  Duinen   \n",
       "3  fysischgeografischeregios.e3b8d3bd-e9bc-456d-a...       101  du  Duinen   \n",
       "4  fysischgeografischeregios.2b3f47fb-2acb-4b6b-9...       108  du  Duinen   \n",
       "\n",
       "                                            geometry  \n",
       "0  POLYGON ((105147.000 526863.188, 105092.000 52...  \n",
       "1  POLYGON ((111314.000 552409.000, 111289.008 55...  \n",
       "2  POLYGON ((119244.333 577690.288, 119230.924 57...  \n",
       "3  POLYGON ((133749.490 591283.817, 133726.437 59...  \n",
       "4  POLYGON ((164145.044 606590.552, 164118.586 60...  "
      ]
     },
     "execution_count": 4,
     "metadata": {},
     "output_type": "execute_result"
    }
   ],
   "source": [
    "gdf.head()"
   ]
  },
  {
   "cell_type": "markdown",
   "metadata": {},
   "source": [
    "### Check validity"
   ]
  },
  {
   "cell_type": "code",
   "execution_count": 5,
   "metadata": {},
   "outputs": [
    {
     "data": {
      "text/plain": [
       "True"
      ]
     },
     "execution_count": 5,
     "metadata": {},
     "output_type": "execute_result"
    }
   ],
   "source": [
    "all(gdf['geometry'].is_valid)"
   ]
  },
  {
   "cell_type": "code",
   "execution_count": 6,
   "metadata": {},
   "outputs": [
    {
     "data": {
      "text/plain": [
       "False"
      ]
     },
     "execution_count": 6,
     "metadata": {},
     "output_type": "execute_result"
    }
   ],
   "source": [
    "any(gdf['geometry'].isna())"
   ]
  },
  {
   "cell_type": "code",
   "execution_count": 7,
   "metadata": {},
   "outputs": [
    {
     "data": {
      "text/plain": [
       "False"
      ]
     },
     "execution_count": 7,
     "metadata": {},
     "output_type": "execute_result"
    }
   ],
   "source": [
    "any(gdf['geometry'].is_empty)"
   ]
  },
  {
   "cell_type": "markdown",
   "metadata": {},
   "source": [
    "### Check self-overlap\n",
    "\n",
    "Er lijkt zelf overlap te zijn tussen shapes in de FGR.\n",
    "Deze overlap lijkt een afrondfout, de oppervlaktes zijn minimaal."
   ]
  },
  {
   "cell_type": "code",
   "execution_count": 69,
   "metadata": {},
   "outputs": [
    {
     "name": "stderr",
     "output_type": "stream",
     "text": [
      "/home/jakko/git/veg2hab/.venv/lib/python3.8/site-packages/geopandas/geodataframe.py:2323: UserWarning: `keep_geom_type=True` in overlay resulted in 3160 dropped geometries of different geometry types than df1 has. Set `keep_geom_type=False` to retain all geometries\n",
      "  return geopandas.overlay(\n"
     ]
    }
   ],
   "source": [
    "res_intersection = gdf.overlay(gdf, how='intersection')"
   ]
  },
  {
   "cell_type": "code",
   "execution_count": 75,
   "metadata": {},
   "outputs": [],
   "source": [
    "res_intersection = res_intersection[res_intersection.id_1 != res_intersection.id_2]"
   ]
  },
  {
   "cell_type": "code",
   "execution_count": 76,
   "metadata": {},
   "outputs": [
    {
     "data": {
      "text/plain": [
       "(8, 9)"
      ]
     },
     "execution_count": 76,
     "metadata": {},
     "output_type": "execute_result"
    }
   ],
   "source": [
    "res_intersection.shape"
   ]
  },
  {
   "cell_type": "code",
   "execution_count": 78,
   "metadata": {},
   "outputs": [
    {
     "data": {
      "text/plain": [
       "24     0.000706\n",
       "25     0.000577\n",
       "26     0.000568\n",
       "27     0.003466\n",
       "771    0.000706\n",
       "808    0.000577\n",
       "812    0.000568\n",
       "818    0.003466\n",
       "dtype: float64"
      ]
     },
     "execution_count": 78,
     "metadata": {},
     "output_type": "execute_result"
    }
   ],
   "source": [
    "res_intersection.geometry.area"
   ]
  },
  {
   "cell_type": "code",
   "execution_count": 79,
   "metadata": {},
   "outputs": [],
   "source": [
    "res_intersection.to_file('../data/bronbestanden/fgr_overlap.shp')"
   ]
  },
  {
   "cell_type": "markdown",
   "metadata": {},
   "source": [
    "### Oppervlak per FGR type\n",
    "\n",
    "Ik vind alle FGR gebieden terug die genoemd worden in de definitietabel."
   ]
  },
  {
   "cell_type": "code",
   "execution_count": 80,
   "metadata": {},
   "outputs": [],
   "source": [
    "gdf['area'] = gdf.geometry.area"
   ]
  },
  {
   "cell_type": "code",
   "execution_count": 81,
   "metadata": {},
   "outputs": [
    {
     "data": {
      "text/plain": [
       "fgr\n",
       "Afgesloten Zeearmen      9\n",
       "Duinen                 122\n",
       "Getijdengebied           3\n",
       "Heuvelland              11\n",
       "Hogere Zandgronden     307\n",
       "Laagveengebied         117\n",
       "Niet indeelbaar        239\n",
       "Noordzee                 1\n",
       "Rivierengebied          25\n",
       "Zeekleigebied          124\n",
       "dtype: int64"
      ]
     },
     "execution_count": 81,
     "metadata": {},
     "output_type": "execute_result"
    }
   ],
   "source": [
    "gdf.groupby('fgr').size()"
   ]
  },
  {
   "cell_type": "code",
   "execution_count": 82,
   "metadata": {},
   "outputs": [
    {
     "data": {
      "text/plain": [
       "fgr\n",
       "Afgesloten Zeearmen     25567\n",
       "Duinen                   9097\n",
       "Getijdengebied          32937\n",
       "Heuvelland               5095\n",
       "Hogere Zandgronden     163478\n",
       "Laagveengebied          25594\n",
       "Niet indeelbaar         11579\n",
       "Noordzee               594770\n",
       "Rivierengebied          36187\n",
       "Zeekleigebied           95981\n",
       "Name: aantal hectares per FGR categorie, dtype: int64"
      ]
     },
     "execution_count": 82,
     "metadata": {},
     "output_type": "execute_result"
    }
   ],
   "source": [
    "gdf.groupby('fgr')['area'].apply(lambda x: round(sum(x)/100000)).rename('aantal hectares per FGR categorie')"
   ]
  }
 ],
 "metadata": {
  "kernelspec": {
   "display_name": ".venv",
   "language": "python",
   "name": "python3"
  },
  "language_info": {
   "codemirror_mode": {
    "name": "ipython",
    "version": 3
   },
   "file_extension": ".py",
   "mimetype": "text/x-python",
   "name": "python",
   "nbconvert_exporter": "python",
   "pygments_lexer": "ipython3",
   "version": "3.8.10"
  }
 },
 "nbformat": 4,
 "nbformat_minor": 2
}
