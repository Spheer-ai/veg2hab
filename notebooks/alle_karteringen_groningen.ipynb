{
 "cells": [
  {
   "cell_type": "code",
   "execution_count": 1,
   "metadata": {},
   "outputs": [
    {
     "name": "stderr",
     "output_type": "stream",
     "text": [
      "/home/jordydelange/.cache/pypoetry/virtualenvs/veg2hab-CuqoUkZb-py3.7/lib/python3.7/site-packages/geopandas/_compat.py:115: UserWarning: The Shapely GEOS version (3.11.2-CAPI-1.17.2) is incompatible with the GEOS version PyGEOS was compiled with (3.10.4-CAPI-1.16.2). Conversions between both will be slow.\n",
      "  shapely_geos_version, geos_capi_version_string\n"
     ]
    }
   ],
   "source": [
    "from pathlib import Path\n",
    "import pandas as pd\n",
    "import geopandas as gpd\n",
    "\n",
    "import sys\n",
    "sys.path.append('../')\n",
    "\n",
    "from veg2hab.waswordtlijst import WasWordtLijst, opschonen_was_wordt_lijst\n",
    "from veg2hab.definitietabel import DefinitieTabel, opschonen_definitietabel\n",
    "from veg2hab.vegkartering import Kartering\n",
    "from veg2hab.fgr import FGR"
   ]
  },
  {
   "cell_type": "code",
   "execution_count": 2,
   "metadata": {},
   "outputs": [
    {
     "name": "stderr",
     "output_type": "stream",
     "text": [
      "/home/jordydelange/.cache/pypoetry/virtualenvs/veg2hab-CuqoUkZb-py3.7/lib/python3.7/site-packages/openpyxl/worksheet/header_footer.py:48: UserWarning: Cannot parse header or footer so it will be ignored\n",
      "  warn(\"\"\"Cannot parse header or footer so it will be ignored\"\"\")\n",
      "/home/jordydelange/.cache/pypoetry/virtualenvs/veg2hab-CuqoUkZb-py3.7/lib/python3.7/site-packages/pandas/core/missing.py:49: FutureWarning: elementwise comparison failed; returning scalar instead, but in the future will perform elementwise comparison\n",
      "  mask = arr == x\n",
      "/home/jordydelange/.cache/pypoetry/virtualenvs/veg2hab-CuqoUkZb-py3.7/lib/python3.7/site-packages/pandas/core/missing.py:60: FutureWarning: elementwise comparison failed; returning scalar instead, but in the future will perform elementwise comparison\n",
      "  mask |= arr == x\n"
     ]
    },
    {
     "name": "stdout",
     "output_type": "stream",
     "text": [
      "Alle SBB codes zijn valide\n",
      "Alle VvN codes zijn valide\n",
      "Alle SBB codes zijn valide\n",
      "Alle VvN codes zijn valide\n"
     ]
    },
    {
     "name": "stderr",
     "output_type": "stream",
     "text": [
      "/home/jordydelange/.cache/pypoetry/virtualenvs/veg2hab-CuqoUkZb-py3.7/lib/python3.7/site-packages/pandas/core/missing.py:49: FutureWarning: elementwise comparison failed; returning scalar instead, but in the future will perform elementwise comparison\n",
      "  mask = arr == x\n",
      "/home/jordydelange/.cache/pypoetry/virtualenvs/veg2hab-CuqoUkZb-py3.7/lib/python3.7/site-packages/pandas/core/missing.py:60: FutureWarning: elementwise comparison failed; returning scalar instead, but in the future will perform elementwise comparison\n",
      "  mask |= arr == x\n"
     ]
    },
    {
     "name": "stdout",
     "output_type": "stream",
     "text": [
      "Alle SBB codes zijn valide\n",
      "Alle VvN codes zijn valide\n"
     ]
    }
   ],
   "source": [
    "path_in_wwl = Path(\"../data/5. Was-wordt-lijst-vegetatietypen-en-habitattypen-09-02-2021.xlsx\")\n",
    "path_out_wwl = Path(\"../testing/opgeschoonde_waswordt.xlsx\")\n",
    "opschonen_was_wordt_lijst(path_in_wwl, path_out_wwl)\n",
    "wwl = WasWordtLijst.from_excel(path_out_wwl)\n",
    "\n",
    "path_in_dt = Path(\"../data/definitietabel habitattypen (versie 24 maart 2009)_0.xls\")\n",
    "path_in_json_def = Path(\"../data/definitietabel_json.csv\")\n",
    "path_out_dt = Path(\"../testing/opgeschoonde_definitietabel.xlsx\")\n",
    "opschonen_definitietabel(path_in_dt, path_in_json_def, path_out_dt)\n",
    "dt = DefinitieTabel.from_excel(path_out_dt)\n",
    "\n",
    "fgr = FGR(Path(\"../data/bronbestanden/FGR.json\"))"
   ]
  },
  {
   "cell_type": "markdown",
   "metadata": {},
   "source": [
    "### Inladen benodigde informatie\n",
    "En het selecteren van access karteringen in Groningen"
   ]
  },
  {
   "cell_type": "code",
   "execution_count": 3,
   "metadata": {},
   "outputs": [
    {
     "data": {
      "text/html": [
       "<div>\n",
       "<style scoped>\n",
       "    .dataframe tbody tr th:only-of-type {\n",
       "        vertical-align: middle;\n",
       "    }\n",
       "\n",
       "    .dataframe tbody tr th {\n",
       "        vertical-align: top;\n",
       "    }\n",
       "\n",
       "    .dataframe thead th {\n",
       "        text-align: right;\n",
       "    }\n",
       "</style>\n",
       "<table border=\"1\" class=\"dataframe\">\n",
       "  <thead>\n",
       "    <tr style=\"text-align: right;\">\n",
       "      <th></th>\n",
       "      <th>provincie</th>\n",
       "      <th>naam_kartering</th>\n",
       "      <th>path_shapes</th>\n",
       "      <th>landelijke_typologie beschikbaar?</th>\n",
       "      <th>locatie_landelijke_typologie</th>\n",
       "      <th>path_csvs</th>\n",
       "      <th>elm_id_name</th>\n",
       "    </tr>\n",
       "  </thead>\n",
       "  <tbody>\n",
       "    <tr>\n",
       "      <th>70</th>\n",
       "      <td>Groningen</td>\n",
       "      <td>NM vegetatiekartering RuitenAa2020</td>\n",
       "      <td>../testing/vegetatiekarteringen/GR/NM vegetati...</td>\n",
       "      <td>Ja</td>\n",
       "      <td>access</td>\n",
       "      <td>../testing/vegetatiekarteringen/GR/NM vegetati...</td>\n",
       "      <td>Elmid</td>\n",
       "    </tr>\n",
       "    <tr>\n",
       "      <th>71</th>\n",
       "      <td>Groningen</td>\n",
       "      <td>SBB Duurswold2013</td>\n",
       "      <td>../testing/vegetatiekarteringen/GR/SBB Duurswo...</td>\n",
       "      <td>Ja</td>\n",
       "      <td>access</td>\n",
       "      <td>../testing/vegetatiekarteringen/GR/SBB Duurswo...</td>\n",
       "      <td>Elmid</td>\n",
       "    </tr>\n",
       "    <tr>\n",
       "      <th>72</th>\n",
       "      <td>Groningen</td>\n",
       "      <td>SBB Lauwersmeer 2015</td>\n",
       "      <td>../testing/vegetatiekarteringen/GR/SBB Lauwers...</td>\n",
       "      <td>Ja</td>\n",
       "      <td>access</td>\n",
       "      <td>../testing/vegetatiekarteringen/GR/SBB Lauwers...</td>\n",
       "      <td>ElmID</td>\n",
       "    </tr>\n",
       "    <tr>\n",
       "      <th>73</th>\n",
       "      <td>Groningen</td>\n",
       "      <td>SBB Westerwolde 2020</td>\n",
       "      <td>../testing/vegetatiekarteringen/GR/SBB Westerw...</td>\n",
       "      <td>Ja</td>\n",
       "      <td>access</td>\n",
       "      <td>../testing/vegetatiekarteringen/GR/SBB Westerw...</td>\n",
       "      <td>ELMID</td>\n",
       "    </tr>\n",
       "    <tr>\n",
       "      <th>75</th>\n",
       "      <td>Groningen</td>\n",
       "      <td>SBB ZWK 2010 0815_Trimunt_2010</td>\n",
       "      <td>../testing/vegetatiekarteringen/GR/SBB ZWK 201...</td>\n",
       "      <td>Ja</td>\n",
       "      <td>access</td>\n",
       "      <td>../testing/vegetatiekarteringen/GR/SBB ZWK 201...</td>\n",
       "      <td>Elmid</td>\n",
       "    </tr>\n",
       "    <tr>\n",
       "      <th>79</th>\n",
       "      <td>Groningen</td>\n",
       "      <td>SGL Zuidlaardermeer 2019</td>\n",
       "      <td>../testing/vegetatiekarteringen/GR/SGL Zuidlaa...</td>\n",
       "      <td>Ja</td>\n",
       "      <td>access</td>\n",
       "      <td>../testing/vegetatiekarteringen/GR/SGL Zuidlaa...</td>\n",
       "      <td>ELMID</td>\n",
       "    </tr>\n",
       "  </tbody>\n",
       "</table>\n",
       "</div>"
      ],
      "text/plain": [
       "    provincie                      naam_kartering  \\\n",
       "70  Groningen  NM vegetatiekartering RuitenAa2020   \n",
       "71  Groningen                   SBB Duurswold2013   \n",
       "72  Groningen                SBB Lauwersmeer 2015   \n",
       "73  Groningen                SBB Westerwolde 2020   \n",
       "75  Groningen      SBB ZWK 2010 0815_Trimunt_2010   \n",
       "79  Groningen            SGL Zuidlaardermeer 2019   \n",
       "\n",
       "                                          path_shapes  \\\n",
       "70  ../testing/vegetatiekarteringen/GR/NM vegetati...   \n",
       "71  ../testing/vegetatiekarteringen/GR/SBB Duurswo...   \n",
       "72  ../testing/vegetatiekarteringen/GR/SBB Lauwers...   \n",
       "73  ../testing/vegetatiekarteringen/GR/SBB Westerw...   \n",
       "75  ../testing/vegetatiekarteringen/GR/SBB ZWK 201...   \n",
       "79  ../testing/vegetatiekarteringen/GR/SGL Zuidlaa...   \n",
       "\n",
       "   landelijke_typologie beschikbaar? locatie_landelijke_typologie  \\\n",
       "70                                Ja                       access   \n",
       "71                                Ja                       access   \n",
       "72                                Ja                       access   \n",
       "73                                Ja                       access   \n",
       "75                                Ja                       access   \n",
       "79                                Ja                       access   \n",
       "\n",
       "                                            path_csvs elm_id_name  \n",
       "70  ../testing/vegetatiekarteringen/GR/NM vegetati...       Elmid  \n",
       "71  ../testing/vegetatiekarteringen/GR/SBB Duurswo...       Elmid  \n",
       "72  ../testing/vegetatiekarteringen/GR/SBB Lauwers...       ElmID  \n",
       "73  ../testing/vegetatiekarteringen/GR/SBB Westerw...       ELMID  \n",
       "75  ../testing/vegetatiekarteringen/GR/SBB ZWK 201...       Elmid  \n",
       "79  ../testing/vegetatiekarteringen/GR/SGL Zuidlaa...       ELMID  "
      ]
     },
     "execution_count": 3,
     "metadata": {},
     "output_type": "execute_result"
    }
   ],
   "source": [
    "# info over de karteringen\n",
    "overzicht = pd.read_excel(\n",
    "    \"../testing/vegetatiekarteringen/Overzicht_vegetatiekarteringen.xlsx\", \n",
    "    sheet_name=\"Vegetatiekarteringen\", \n",
    "    engine='openpyxl',\n",
    "    usecols=[\n",
    "        \"provincie\", \n",
    "        \"naam_kartering\", \n",
    "        \"path_shapes\", \n",
    "        \"landelijke_typologie beschikbaar?\", \n",
    "        \"locatie_landelijke_typologie\",\n",
    "    ],\n",
    "    dtype=\"string\"\n",
    ")\n",
    "\n",
    "# benodigde info voor de access karteringen\n",
    "access_info = pd.read_excel(\n",
    "    \"../testing/accessinfo.xlsx\",\n",
    "    engine='openpyxl',\n",
    "    usecols=[\n",
    "        \"naam_kartering\",\n",
    "        \"path_csvs\",\n",
    "        \"elm_id_name\",\n",
    "    ],\n",
    "    dtype=\"string\"\n",
    ")\n",
    "\n",
    "# Voor nu even enkel access karteringen uit groningen\n",
    "overzicht = overzicht[overzicht.provincie == \"Groningen\"]\n",
    "overzicht = overzicht[overzicht[\"landelijke_typologie beschikbaar?\"] == \"Ja\"]\n",
    "overzicht = overzicht[overzicht[\"locatie_landelijke_typologie\"] == \"access\"]\n",
    "overzicht = overzicht.join(access_info.set_index(\"naam_kartering\"), on=\"naam_kartering\")\n",
    "\n",
    "overzicht.path_shapes = overzicht.path_shapes.apply(lambda x: \"../testing/vegetatiekarteringen\" + x[1:])\n",
    "overzicht.path_csvs = overzicht.path_csvs.apply(lambda x: \"../testing/vegetatiekarteringen\" + x[1:])\n",
    "\n",
    "overzicht"
   ]
  },
  {
   "cell_type": "markdown",
   "metadata": {},
   "source": [
    "### Karteringen inladen"
   ]
  },
  {
   "cell_type": "code",
   "execution_count": 4,
   "metadata": {},
   "outputs": [
    {
     "name": "stdout",
     "output_type": "stream",
     "text": [
      "Er zijn 7 vlakken zonder VegTypeInfo. Deze worden gedropt.\n",
      "De eerste paar ElmID van de gedropte vlakken zijn: [6099, 8174, 8174, 11051, 11023]\n",
      "Er zijn 90 vlakken zonder VegTypeInfo. Deze worden gedropt.\n",
      "De eerste paar ElmID van de gedropte vlakken zijn: [78, 76, 69, 82, 81]\n"
     ]
    }
   ],
   "source": [
    "karteringen = {}\n",
    "for row in overzicht.itertuples():\n",
    "    karteringen[row.naam_kartering] = Kartering.from_access_db(Path(row.path_shapes), row.elm_id_name, Path(row.path_csvs))"
   ]
  },
  {
   "cell_type": "markdown",
   "metadata": {},
   "source": [
    "### Karteringen omzetten"
   ]
  },
  {
   "cell_type": "code",
   "execution_count": 5,
   "metadata": {},
   "outputs": [],
   "source": [
    "for kartering in karteringen.values():\n",
    "    kartering.apply_wwl(wwl)"
   ]
  },
  {
   "cell_type": "code",
   "execution_count": 6,
   "metadata": {},
   "outputs": [],
   "source": [
    "for kartering in karteringen.values():\n",
    "    kartering.apply_deftabel(dt)"
   ]
  },
  {
   "cell_type": "code",
   "execution_count": 7,
   "metadata": {},
   "outputs": [],
   "source": [
    "for kartering in karteringen.values():\n",
    "    kartering.check_mitsen(fgr)"
   ]
  },
  {
   "cell_type": "markdown",
   "metadata": {},
   "source": [
    "### Karteringen wegschrijven"
   ]
  },
  {
   "cell_type": "code",
   "execution_count": 8,
   "metadata": {},
   "outputs": [],
   "source": [
    "for gebied in karteringen.keys():\n",
    "    p = Path(f\"../testing/omgezette_vegetatiekarteringen/GR/{gebied}.shp\")\n",
    "    karteringen[gebied].final_format_to_file(p)"
   ]
  }
 ],
 "metadata": {
  "kernelspec": {
   "display_name": "veg2hab-CuqoUkZb-py3.7",
   "language": "python",
   "name": "python3"
  },
  "language_info": {
   "codemirror_mode": {
    "name": "ipython",
    "version": 3
   },
   "file_extension": ".py",
   "mimetype": "text/x-python",
   "name": "python",
   "nbconvert_exporter": "python",
   "pygments_lexer": "ipython3",
   "version": "3.7.17"
  }
 },
 "nbformat": 4,
 "nbformat_minor": 2
}
