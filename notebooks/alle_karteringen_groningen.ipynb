{
 "cells": [
  {
   "cell_type": "markdown",
   "metadata": {},
   "source": [
    "# Alle Karteringen omzetten\n",
    "\n",
    "Maar voor nu nog even enkel groningen"
   ]
  },
  {
   "cell_type": "markdown",
   "metadata": {},
   "source": [
    "### Imports etc"
   ]
  },
  {
   "cell_type": "code",
   "execution_count": 1,
   "metadata": {},
   "outputs": [
    {
     "name": "stderr",
     "output_type": "stream",
     "text": [
      "/home/jordydelange/.cache/pypoetry/virtualenvs/veg2hab-CuqoUkZb-py3.7/lib/python3.7/site-packages/geopandas/_compat.py:115: UserWarning: The Shapely GEOS version (3.11.2-CAPI-1.17.2) is incompatible with the GEOS version PyGEOS was compiled with (3.10.4-CAPI-1.16.2). Conversions between both will be slow.\n",
      "  shapely_geos_version, geos_capi_version_string\n"
     ]
    }
   ],
   "source": [
    "from pathlib import Path\n",
    "import pandas as pd\n",
    "import geopandas as gpd\n",
    "\n",
    "import sys\n",
    "sys.path.append('../')\n",
    "\n",
    "from veg2hab.waswordtlijst import WasWordtLijst, opschonen_was_wordt_lijst\n",
    "from veg2hab.definitietabel import DefinitieTabel, opschonen_definitietabel\n",
    "from veg2hab.vegkartering import Kartering\n",
    "from veg2hab.fgr import FGR\n",
    "\n",
    "pd.set_option('display.max_columns', 100)"
   ]
  },
  {
   "cell_type": "markdown",
   "metadata": {},
   "source": [
    "### Omzetclasses instantieren"
   ]
  },
  {
   "cell_type": "code",
   "execution_count": 2,
   "metadata": {},
   "outputs": [
    {
     "name": "stderr",
     "output_type": "stream",
     "text": [
      "/home/jordydelange/.cache/pypoetry/virtualenvs/veg2hab-CuqoUkZb-py3.7/lib/python3.7/site-packages/openpyxl/worksheet/header_footer.py:48: UserWarning: Cannot parse header or footer so it will be ignored\n",
      "  warn(\"\"\"Cannot parse header or footer so it will be ignored\"\"\")\n"
     ]
    },
    {
     "name": "stdout",
     "output_type": "stream",
     "text": [
      "Alle SBB codes zijn valide\n",
      "Alle VvN codes zijn valide\n",
      "Alle SBB codes zijn valide\n",
      "Alle VvN codes zijn valide\n",
      "Alle SBB codes zijn valide\n",
      "Alle VvN codes zijn valide\n"
     ]
    }
   ],
   "source": [
    "path_in_wwl = Path(\"../data/5. Was-wordt-lijst-vegetatietypen-en-habitattypen-09-02-2021.xlsx\")\n",
    "path_out_wwl = Path(\"../testing/opgeschoonde_waswordt.xlsx\")\n",
    "opschonen_was_wordt_lijst(path_in_wwl, path_out_wwl)\n",
    "wwl = WasWordtLijst.from_excel(path_out_wwl)\n",
    "\n",
    "path_in_dt = Path(\"../data/definitietabel habitattypen (versie 24 maart 2009)_0.xls\")\n",
    "path_in_mitsjson = Path(\"../data/mitsjson.csv\")\n",
    "path_out_dt = Path(\"../testing/opgeschoonde_definitietabel.xlsx\")\n",
    "opschonen_definitietabel(path_in_dt, path_in_mitsjson, path_out_dt)\n",
    "dt = DefinitieTabel.from_excel(path_out_dt)\n",
    "\n",
    "fgr = FGR(Path(\"../data/bronbestanden/FGR.json\"))"
   ]
  },
  {
   "cell_type": "markdown",
   "metadata": {},
   "source": [
    "### Inladen benodigde informatie\n",
    "\n",
    "**Overzicht_vegetatiekarteringen.xlsx** is uit de drive en weet van karteringen de provincie, naam, shapefile pad en of het een access of een shapefile kartering is.\n",
    "\n",
    "**accesskarteringinfo.xlsx** bevat voor de access karteringen de informatie die nodig is om een access kartering in te laden.\n",
    "\n",
    "**shapefilekarteringinfo.xlsx** bevat voor de shapefile karteringen de informatie die nodig is om een shapefile kartering in te laden.\n"
   ]
  },
  {
   "cell_type": "code",
   "execution_count": 3,
   "metadata": {},
   "outputs": [],
   "source": [
    "# info over de karteringen\n",
    "overzicht = pd.read_excel(\n",
    "    \"../data/Overzicht_vegetatiekarteringen.xlsx\", \n",
    "    sheet_name=\"Vegetatiekarteringen\", \n",
    "    engine='openpyxl',\n",
    "    usecols=[\n",
    "        \"provincie\", \n",
    "        \"naam_kartering\", \n",
    "        \"path_shapes\", \n",
    "        \"landelijke_typologie beschikbaar?\", \n",
    "        \"locatie_landelijke_typologie\",\n",
    "    ],\n",
    "    dtype=\"string\"\n",
    ")\n",
    "\n",
    "# benodigde info voor de access karteringen\n",
    "access_info = pd.read_excel(\n",
    "    \"../data/accesskarteringinfo.xlsx\",\n",
    "    engine='openpyxl',\n",
    "    usecols=[\n",
    "        \"naam_kartering\",\n",
    "        \"path_csvs\",\n",
    "        \"elm_id_name\",\n",
    "    ],\n",
    "    dtype=\"string\"\n",
    ")\n",
    "\n",
    "# benodigde info voor de shapefile karteringen\n",
    "shape_info = pd.read_excel(\n",
    "    \"../data/shapefilekarteringinfo.xlsx\",\n",
    "    engine='openpyxl',\n",
    "    usecols=[\n",
    "        \"naam_kartering\",\n",
    "        \"ElmID_col\",\n",
    "        \"VvN_col\",\n",
    "        \"SBB_col\",\n",
    "        \"vegtype_split_char\",\n",
    "        \"datum_col\",\n",
    "        \"opmerking_col\",\n",
    "    ],\n",
    "    dtype=\"string\"\n",
    ")\n",
    "# Convert all pd.NA to None to prevent having to do \"if not pd.isna()\" everywhere\n",
    "shape_info = shape_info.applymap(lambda x: None if pd.isna(x) else x)\n",
    "\n",
    "# Voor nu dus even enkel karteringen uit groningen\n",
    "overzicht = overzicht[overzicht.provincie == \"Groningen\"]\n",
    "overzicht = overzicht[overzicht[\"landelijke_typologie beschikbaar?\"] == \"Ja\"]\n",
    "overzicht.path_shapes = overzicht.path_shapes.apply(lambda x: \"../testing/vegetatiekarteringen\" + x[1:])\n",
    "\n",
    "access_overzicht = overzicht[overzicht[\"locatie_landelijke_typologie\"] == \"access\"]\n",
    "access_overzicht = access_overzicht.join(access_info.set_index(\"naam_kartering\"), on=\"naam_kartering\")\n",
    "access_overzicht.path_csvs = access_overzicht.path_csvs.apply(lambda x: \"../testing/vegetatiekarteringen\" + x[1:])\n",
    "\n",
    "shapefile_overzicht = overzicht[overzicht[\"locatie_landelijke_typologie\"] == \"in shapes\"]\n",
    "shapefile_overzicht = shapefile_overzicht.join(shape_info.set_index(\"naam_kartering\"), on=\"naam_kartering\")"
   ]
  },
  {
   "cell_type": "markdown",
   "metadata": {},
   "source": [
    "### Beddekking/Percentages in shapefilekarteringen...\n",
    "\n",
    "...doen we voor nu nog even niets mee.\n",
    "\n",
    "Ze zijn of altijd 100 of ook boven de 100, en ze zijn toch niet per vegtypeinfo beschikbaar maar per vlak"
   ]
  },
  {
   "cell_type": "code",
   "execution_count": 4,
   "metadata": {},
   "outputs": [
    {
     "name": "stdout",
     "output_type": "stream",
     "text": [
      "SBB ZWK 2010 0814_Tussen de Gasten 2010\n",
      "100.0    2007\n",
      "Name: BEDEKKING, dtype: int64\n",
      "SGL Hunzedal en Leekstermeer2021 Hunzedal\n",
      "100.0    1773\n",
      "103.0      22\n",
      "109.0       2\n",
      "106.0       2\n",
      "90.0        1\n",
      "Name: BEDEKKING, dtype: int64\n",
      "SGL Hunzedal en Leekstermeer2021 Leekstermeer 2021\n",
      "100.0    271\n",
      "Name: BEDEKKING, dtype: int64\n"
     ]
    }
   ],
   "source": [
    "for row in shapefile_overzicht.itertuples():\n",
    "    t = gpd.read_file(row.path_shapes)\n",
    "    print(row.naam_kartering)\n",
    "    print(t.BEDEKKING.value_counts())"
   ]
  },
  {
   "cell_type": "markdown",
   "metadata": {},
   "source": [
    "### Karteringen inladen"
   ]
  },
  {
   "cell_type": "code",
   "execution_count": 5,
   "metadata": {},
   "outputs": [
    {
     "name": "stdout",
     "output_type": "stream",
     "text": [
      "Er zijn 7 vlakken zonder VegTypeInfo. Deze worden verwijderd.\n",
      "De eerste paar ElmID van de verwijderde vlakken zijn: [6099, 8174, 8174, 11051, 11023]\n",
      "Er zijn 90 vlakken zonder VegTypeInfo. Deze worden verwijderd.\n",
      "De eerste paar ElmID van de verwijderde vlakken zijn: [78, 76, 69, 82, 81]\n"
     ]
    }
   ],
   "source": [
    "karteringen = {}\n",
    "for row in access_overzicht.itertuples():\n",
    "    karteringen[row.naam_kartering] = Kartering.from_access_db(Path(row.path_shapes), row.elm_id_name, Path(row.path_csvs))\n",
    "\n",
    "for row in shapefile_overzicht.itertuples():\n",
    "    karteringen[row.naam_kartering] = Kartering.from_shapefile(\n",
    "        Path(row.path_shapes),\n",
    "        row.ElmID_col,\n",
    "        VvN_col=row.VvN_col,\n",
    "        SBB_col=row.SBB_col, \n",
    "        vegtype_split_char=row.vegtype_split_char, \n",
    "        datum_col=row.datum_col, \n",
    "        opmerking_col=row.opmerking_col\n",
    "    )"
   ]
  },
  {
   "cell_type": "markdown",
   "metadata": {},
   "source": [
    "### Karteringen omzetten"
   ]
  },
  {
   "cell_type": "code",
   "execution_count": 6,
   "metadata": {},
   "outputs": [],
   "source": [
    "for kartering in karteringen.values():\n",
    "    kartering.apply_wwl(wwl)"
   ]
  },
  {
   "cell_type": "code",
   "execution_count": 7,
   "metadata": {},
   "outputs": [],
   "source": [
    "for kartering in karteringen.values():\n",
    "    kartering.apply_deftabel(dt)"
   ]
  },
  {
   "cell_type": "code",
   "execution_count": 8,
   "metadata": {},
   "outputs": [],
   "source": [
    "for kartering in karteringen.values():\n",
    "    kartering.check_mitsen(fgr)"
   ]
  },
  {
   "cell_type": "markdown",
   "metadata": {},
   "source": [
    "### Karteringen wegschrijven"
   ]
  },
  {
   "cell_type": "code",
   "execution_count": 9,
   "metadata": {},
   "outputs": [
    {
     "name": "stdout",
     "output_type": "stream",
     "text": [
      "NM vegetatiekartering RuitenAa2020\n",
      "SBB Duurswold2013\n",
      "SBB Lauwersmeer 2015\n",
      "SBB Westerwolde 2020\n",
      "SBB ZWK 2010 0815_Trimunt_2010\n",
      "SGL Zuidlaardermeer 2019\n",
      "SBB ZWK 2010 0814_Tussen de Gasten 2010\n",
      "SGL Hunzedal en Leekstermeer2021 Hunzedal\n",
      "SGL Hunzedal en Leekstermeer2021 Leekstermeer 2021\n"
     ]
    }
   ],
   "source": [
    "for gebied in (karteringen.keys()):\n",
    "    print(gebied)\n",
    "    p = Path(f\"../testing/omgezette_vegetatiekarteringen/GR/{gebied}.shp\")\n",
    "    karteringen[gebied].final_format_to_file(p)"
   ]
  }
 ],
 "metadata": {
  "kernelspec": {
   "display_name": "veg2hab-CuqoUkZb-py3.7",
   "language": "python",
   "name": "python3"
  },
  "language_info": {
   "codemirror_mode": {
    "name": "ipython",
    "version": 3
   },
   "file_extension": ".py",
   "mimetype": "text/x-python",
   "name": "python",
   "nbconvert_exporter": "python",
   "pygments_lexer": "ipython3",
   "version": "3.7.17"
  }
 },
 "nbformat": 4,
 "nbformat_minor": 2
}
