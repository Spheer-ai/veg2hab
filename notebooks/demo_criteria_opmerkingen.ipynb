{
    "cells": [
        {
            "cell_type": "code",
            "execution_count": null,
            "metadata": {},
            "outputs": [],
            "source": [
                "from veg2hab.criteria import FGRCriterium, LBKCriterium, BodemCriterium, EnCriteria, NietCriterium, OfCriteria, OudeBossenCriterium\n",
                "from veg2hab.enums import FGRType, LBKType, BodemType, OBKWaarden\n",
                "import pandas as pd\n",
                "import random"
            ]
        },
        {
            "cell_type": "markdown",
            "metadata": {},
            "source": [
                "FGR"
            ]
        },
        {
            "cell_type": "code",
            "execution_count": null,
            "metadata": {},
            "outputs": [],
            "source": [
                "du = FGRCriterium(wanted_fgrtype=FGRType.DU)\n",
                "\n",
                "for fgr_type in [FGRType.DU, FGRType.HL, pd.NA]:\n",
                "    row = pd.Series({\"fgr\": fgr_type, \"fgr_percentage\": random.randint(0, 100)})\n",
                "    du.check(row)\n",
                "    print(fgr_type)\n",
                "    print(du.evaluation)\n",
                "    print(du.get_opm())\n",
                "    print(\"--------\")"
            ]
        },
        {
            "cell_type": "markdown",
            "metadata": {},
            "source": [
                "Bodemkaart met enkel negatieven"
            ]
        },
        {
            "cell_type": "code",
            "execution_count": null,
            "metadata": {},
            "outputs": [],
            "source": [
                "lv = BodemCriterium(wanted_bodemtype=BodemType.LEEMARME_VAAGGRONDEN_H9190)\n",
                "\n",
                "for bodem_code in [[\"Zn21\"], [\"Abcd\"], pd.NA]:\n",
                "    row = pd.Series({\"bodem\": bodem_code, \"bodem_percentage\": random.randint(0, 100)})\n",
                "    lv.check(row)\n",
                "    print(bodem_code)\n",
                "    print(lv.evaluation)\n",
                "    print(lv.get_opm())\n",
                "    print(\"--------\")"
            ]
        },
        {
            "cell_type": "markdown",
            "metadata": {},
            "source": [
                "Bodemkaart met zowel positieven als negatieven"
            ]
        },
        {
            "cell_type": "code",
            "execution_count": null,
            "metadata": {},
            "outputs": [],
            "source": [
                "vg = BodemCriterium(wanted_bodemtype=BodemType.VAAGGRONDEN)\n",
                "\n",
                "for bodem_code in [[\"Zn21\"], [\"Abcd\"], pd.NA]:\n",
                "    row = pd.Series({\"bodem\": bodem_code, \"bodem_percentage\": random.randint(0, 100)})\n",
                "    vg.check(row)\n",
                "    print(bodem_code)\n",
                "    print(vg.evaluation)\n",
                "    print(vg.get_opm())\n",
                "    print(\"--------\")"
            ]
        },
        {
            "cell_type": "markdown",
            "metadata": {},
            "source": [
                "LBK met enkel negatieven"
            ]
        },
        {
            "cell_type": "code",
            "execution_count": null,
            "metadata": {},
            "outputs": [],
            "source": [
                "hh = LBKCriterium(wanted_lbktype=LBKType.HERSTELLEND_HOOGVEEN)\n",
                "\n",
                "for lbk_code in [\"HzHL\", \"Abcd\", pd.NA]:\n",
                "    row = pd.Series({\"lbk\": lbk_code, \"lbk_percentage\": random.randint(0, 100)})\n",
                "    hh.check(row)\n",
                "    print(lbk_code)\n",
                "    print(hh.evaluation)\n",
                "    print(hh.get_opm())\n",
                "    print(\"--------\")"
            ]
        },
        {
            "cell_type": "markdown",
            "metadata": {},
            "source": [
                "LBK met enkel positieven"
            ]
        },
        {
            "cell_type": "code",
            "execution_count": null,
            "metadata": {},
            "outputs": [],
            "source": [
                "hl = LBKCriterium(wanted_lbktype=LBKType.HOOGVEENLANDSCHAP)\n",
                "\n",
                "for lbk_code in [\"HzHL\", \"Abcd\", pd.NA]:\n",
                "    row = pd.Series({\"lbk\": lbk_code, \"lbk_percentage\": random.randint(0, 100)})\n",
                "    hl.check(row)\n",
                "    print(lbk_code)\n",
                "    print(hl.evaluation)\n",
                "    print(hl.get_opm())\n",
                "    print(\"--------\")"
            ]
        },
        {
            "cell_type": "markdown",
            "metadata": {},
            "source": [
                "Oude Bossenkaart"
            ]
        },
        {
            "cell_type": "code",
            "execution_count": null,
            "metadata": {},
            "outputs": [],
            "source": [
                "obk = OudeBossenCriterium(for_habtype=\"H9120\")\n",
                "\n",
                "for obk_waarde in [pd.NA, OBKWaarden(H9120=1, H9190=1), OBKWaarden(H9120=0, H9190=2)]:\n",
                "    row = pd.Series({\"obk\": obk_waarde, \"obk_percentage\": random.randint(0, 100)})\n",
                "    obk.check(row)\n",
                "    print(obk_waarde)\n",
                "    print(obk.evaluation)\n",
                "    print(obk.get_opm())\n",
                "    print(\"--------\")"
            ]
        },
        {
            "cell_type": "markdown",
            "metadata": {},
            "source": [
                "Combineren"
            ]
        },
        {
            "cell_type": "code",
            "execution_count": null,
            "metadata": {},
            "outputs": [],
            "source": [
                "crit = EnCriteria(\n",
                "    sub_criteria=\n",
                "    [\n",
                "        OfCriteria(\n",
                "            sub_criteria=\n",
                "            [\n",
                "                LBKCriterium(wanted_lbktype=LBKType.HERSTELLEND_HOOGVEEN),\n",
                "                LBKCriterium(wanted_lbktype=LBKType.HOOGVEENLANDSCHAP),\n",
                "                BodemCriterium(wanted_bodemtype=BodemType.LEEMARME_HUMUSPODZOLGRONDEN),\n",
                "            ]), \n",
                "        NietCriterium(\n",
                "            sub_criterium=FGRCriterium(wanted_fgrtype=FGRType.LV)\n",
                "        )\n",
                "    ]\n",
                ")\n",
                "\n",
                "for lbk_code, fgr_code, bodem_code in [(\"HzHL\", FGRType.DU, [\"Zn21\"]), (\"Abcd\", FGRType.LV, [\"Abcd\"]), (pd.NA, pd.NA, pd.NA)]:\n",
                "    row = pd.Series({\"lbk\": lbk_code, \"lbk_percentage\": random.randint(0, 100), \"fgr\": fgr_code, \"fgr_percentage\": random.randint(0, 100), \"bodem\": bodem_code, \"bodem_percentage\": random.randint(0, 100)})\n",
                "    crit.check(row)\n",
                "    print(str(crit))\n",
                "    print(crit.evaluation)\n",
                "    for sentence in crit.get_opm():\n",
                "        print(sentence)\n",
                "    print(\"--------\")"
            ]
        }
    ],
    "metadata": {
        "kernelspec": {
            "display_name": "veg2hab-CuqoUkZb-py3.7",
            "language": "python",
            "name": "python3"
        },
        "language_info": {
            "codemirror_mode": {
                "name": "ipython",
                "version": 3
            },
            "file_extension": ".py",
            "mimetype": "text/x-python",
            "name": "python",
            "nbconvert_exporter": "python",
            "pygments_lexer": "ipython3",
            "version": "3.7.17"
        }
    },
    "nbformat": 4,
    "nbformat_minor": 2
}
